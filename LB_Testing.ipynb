{
  "nbformat": 4,
  "nbformat_minor": 0,
  "metadata": {
    "colab": {
      "name": "LB_Testing.ipynb",
      "provenance": []
    },
    "kernelspec": {
      "name": "python3",
      "display_name": "Python 3"
    },
    "accelerator": "GPU"
  },
  "cells": [
    {
      "cell_type": "code",
      "metadata": {
        "id": "XcVv-mo3gDOf",
        "colab_type": "code",
        "colab": {}
      },
      "source": [
        "from modules.preprocessing import get_dataset, balanced_datasets\n",
        "from modules.distances import distance, radius, radius_distance\n",
        "from modules.single_classifier import SingleClassifier\n",
        "from modules.ensamble_classifier import EnsambleClassifier\n",
        "from modules.ulits import softmax\n",
        "\n",
        "import pandas as pd\n",
        "from tqdm import tqdm\n",
        "from collections import Counter\n",
        "from sklearn.model_selection import train_test_split\n",
        "from sklearn.metrics import accuracy_score"
      ],
      "execution_count": 0,
      "outputs": []
    },
    {
      "cell_type": "code",
      "metadata": {
        "id": "Xeg7MK3qch2-",
        "colab_type": "code",
        "colab": {}
      },
      "source": [
        "# TODO Переделать в красивое (а не 1000 строчек однотипных)\n",
        "# TODO Увеличить N"
      ],
      "execution_count": 0,
      "outputs": []
    },
    {
      "cell_type": "code",
      "metadata": {
        "id": "ojVUDVrBqHwl",
        "colab_type": "code",
        "colab": {
          "base_uri": "https://localhost:8080/",
          "height": 286
        },
        "outputId": "b6cb9a02-4f2d-4d1f-f7a4-568728a829cb"
      },
      "source": [
        "!wget https://github.com/ovbystrova/Interference/raw/master/data/original_texts.csv"
      ],
      "execution_count": 3,
      "outputs": [
        {
          "output_type": "stream",
          "text": [
            "--2020-03-24 07:34:16--  https://github.com/ovbystrova/Interference/raw/master/data/original_texts.csv\n",
            "Resolving github.com (github.com)... 140.82.118.3\n",
            "Connecting to github.com (github.com)|140.82.118.3|:443... connected.\n",
            "HTTP request sent, awaiting response... 302 Found\n",
            "Location: https://raw.githubusercontent.com/ovbystrova/Interference/master/data/original_texts.csv [following]\n",
            "--2020-03-24 07:34:16--  https://raw.githubusercontent.com/ovbystrova/Interference/master/data/original_texts.csv\n",
            "Resolving raw.githubusercontent.com (raw.githubusercontent.com)... 151.101.0.133, 151.101.64.133, 151.101.128.133, ...\n",
            "Connecting to raw.githubusercontent.com (raw.githubusercontent.com)|151.101.0.133|:443... connected.\n",
            "HTTP request sent, awaiting response... 200 OK\n",
            "Length: 18891291 (18M) [text/plain]\n",
            "Saving to: ‘original_texts.csv’\n",
            "\n",
            "original_texts.csv  100%[===================>]  18.02M   110MB/s    in 0.2s    \n",
            "\n",
            "2020-03-24 07:34:17 (110 MB/s) - ‘original_texts.csv’ saved [18891291/18891291]\n",
            "\n"
          ],
          "name": "stdout"
        }
      ]
    },
    {
      "cell_type": "code",
      "metadata": {
        "id": "lgg5Q89BceU1",
        "colab_type": "code",
        "colab": {
          "base_uri": "https://localhost:8080/",
          "height": 50
        },
        "outputId": "ef512e45-ffa0-4589-d217-3496e0cbcc6f"
      },
      "source": [
        "df = get_dataset('/content/original_texts.csv')\n",
        "df_90texts, df_400texts = balanced_datasets(df)\n",
        "print(len(df_90texts), len(df_400texts))"
      ],
      "execution_count": 4,
      "outputs": [
        {
          "output_type": "stream",
          "text": [
            "100%|██████████| 8/8 [01:04<00:00,  8.12s/it]\n"
          ],
          "name": "stderr"
        },
        {
          "output_type": "stream",
          "text": [
            "810 1600\n"
          ],
          "name": "stdout"
        }
      ]
    },
    {
      "cell_type": "code",
      "metadata": {
        "id": "z2Jt9oDbUFDS",
        "colab_type": "code",
        "colab": {}
      },
      "source": [
        "N = 50"
      ],
      "execution_count": 0,
      "outputs": []
    },
    {
      "cell_type": "code",
      "metadata": {
        "id": "fccSG30gqjAA",
        "colab_type": "code",
        "colab": {}
      },
      "source": [
        "def clean_tqdm():\n",
        "    for instance in list(tqdm._instances): \n",
        "        tqdm._decr_instances(instance)\n",
        "\n",
        "def balanced_df(df, size):\n",
        "    \"\"\"\n",
        "    balances df and truncates it to size parameter\n",
        "    \"\"\"\n",
        "    df_1 = df.loc[df['language_background'] == 'FL'][:size]\n",
        "    df_2 = df.loc[df['language_background'] == 'HL'][:size]\n",
        "    df = pd.concat([df_1, df_2])\n",
        "    return df"
      ],
      "execution_count": 0,
      "outputs": []
    },
    {
      "cell_type": "code",
      "metadata": {
        "id": "kh_hz1-igcWS",
        "colab_type": "code",
        "colab": {}
      },
      "source": [
        "df_90texts = balanced_df(df_90texts, N)\n",
        "df_400texts = balanced_df(df_400texts, N)"
      ],
      "execution_count": 0,
      "outputs": []
    },
    {
      "cell_type": "code",
      "metadata": {
        "id": "rqNhEMOKqcXM",
        "colab_type": "code",
        "colab": {}
      },
      "source": [
        "train_90texts, test_90texts = train_test_split(df_90texts, train_size=0.8,  random_state=42, stratify=df_90texts['language_background'])\n",
        "train_400texts, test_400texts = train_test_split(df_400texts, train_size=0.8, random_state=42, stratify=df_90texts['language_background'])"
      ],
      "execution_count": 0,
      "outputs": []
    },
    {
      "cell_type": "code",
      "metadata": {
        "id": "6Ukr7hVyVdrD",
        "colab_type": "code",
        "outputId": "b9a6d3d2-87f2-408e-b2b1-64400e0069da",
        "colab": {
          "base_uri": "https://localhost:8080/",
          "height": 34
        }
      },
      "source": [
        "len(train_90texts), len(train_400texts), len(test_90texts), len(test_400texts)"
      ],
      "execution_count": 21,
      "outputs": [
        {
          "output_type": "execute_result",
          "data": {
            "text/plain": [
              "(80, 80, 20, 20)"
            ]
          },
          "metadata": {
            "tags": []
          },
          "execution_count": 21
        }
      ]
    },
    {
      "cell_type": "code",
      "metadata": {
        "id": "6F10qdelXGLr",
        "colab_type": "code",
        "colab": {}
      },
      "source": [
        "def run_model(df, df_name,  hyperparam):\n",
        "    \"\"\"\n",
        "    runs EnsambleClassifier on  given DataFrame (df) with give profiles (hyperparam)\n",
        "    \"\"\"\n",
        "    classes = list(df['language_background'].unique())\n",
        "    y_true = list(df['language_background'])\n",
        "    print(Counter(y_true))\n",
        "    p_lengths = [200, 500, 1000, 1500, 2000, 2500, 3000]\n",
        "\n",
        "    clean_tqdm()\n",
        "\n",
        "    profs = list(df[hyperparam])\n",
        "    ec = EnsambleClassifier([profs], y_true, p_lengths, classes=classes)\n",
        "    classifiers = ec.classifiers\n",
        "    y_pred = ec.forward_ensamble(confidence=False)\n",
        "\n",
        "    print()\n",
        "    acc = accuracy_score(y_true, y_pred)\n",
        "    print('Accuracy_score = {} for dataset {} and hyperparam {}'.format(acc, df_name, hyperparam)) "
      ],
      "execution_count": 0,
      "outputs": []
    },
    {
      "cell_type": "markdown",
      "metadata": {
        "id": "ZCTtwrwG09Co",
        "colab_type": "text"
      },
      "source": [
        "# 90 texts"
      ]
    },
    {
      "cell_type": "code",
      "metadata": {
        "id": "j5t0HRi_T9Wh",
        "colab_type": "code",
        "colab": {}
      },
      "source": [
        "# word unigrams\n",
        "run_model(test_90texts, 'train_90texts', 'word_unigrams')"
      ],
      "execution_count": 0,
      "outputs": []
    },
    {
      "cell_type": "code",
      "metadata": {
        "id": "rZDvNZz8Wwaw",
        "colab_type": "code",
        "colab": {}
      },
      "source": [
        "# word bigrams\n",
        "run_model(train_90texts, 'train_90texts', 'word_bigrams')"
      ],
      "execution_count": 0,
      "outputs": []
    },
    {
      "cell_type": "code",
      "metadata": {
        "id": "SYnWe7Myq28L",
        "colab_type": "code",
        "colab": {}
      },
      "source": [
        "# Character 4-grams\n",
        "run_model(train_90texts, 'train_90texts', 'character 4-grams')"
      ],
      "execution_count": 0,
      "outputs": []
    },
    {
      "cell_type": "code",
      "metadata": {
        "id": "nNa8OyYIG3eU",
        "colab_type": "code",
        "colab": {}
      },
      "source": [
        "# Character 5-grams\n",
        "run_model(train_90texts, 'train_90texts', 'character 5-grams')"
      ],
      "execution_count": 0,
      "outputs": []
    },
    {
      "cell_type": "code",
      "metadata": {
        "id": "lWtzoveAPf7V",
        "colab_type": "code",
        "colab": {}
      },
      "source": [
        "# Character 6-grams\n",
        "run_model(train_90texts, 'train_90texts', 'character 6-grams')"
      ],
      "execution_count": 0,
      "outputs": []
    },
    {
      "cell_type": "code",
      "metadata": {
        "id": "-Z_N3NAzYGK8",
        "colab_type": "code",
        "colab": {}
      },
      "source": [
        "# Character 7-grams\n",
        "run_model(train_90texts, 'train_90texts', 'character 7-grams')"
      ],
      "execution_count": 0,
      "outputs": []
    },
    {
      "cell_type": "code",
      "metadata": {
        "id": "_3j8pbYChcsY",
        "colab_type": "code",
        "colab": {}
      },
      "source": [
        "# Character 8-grams\n",
        "run_model(train_90texts, 'train_90texts', 'character 8-grams')"
      ],
      "execution_count": 0,
      "outputs": []
    },
    {
      "cell_type": "code",
      "metadata": {
        "id": "CNX5Ld1qrbOt",
        "colab_type": "code",
        "colab": {}
      },
      "source": [
        "# Character 9-grams\n",
        "run_model(train_90texts, 'train_90texts', 'character 9-grams')"
      ],
      "execution_count": 0,
      "outputs": []
    },
    {
      "cell_type": "code",
      "metadata": {
        "id": "gmEDA4kq1AuI",
        "colab_type": "code",
        "colab": {}
      },
      "source": [
        "# Character 10-grams\n",
        "run_model(train_90texts, 'train_90texts', 'character 10-grams')"
      ],
      "execution_count": 0,
      "outputs": []
    },
    {
      "cell_type": "markdown",
      "metadata": {
        "id": "ouohReLfAYqD",
        "colab_type": "text"
      },
      "source": [
        "# 400 texts"
      ]
    },
    {
      "cell_type": "code",
      "metadata": {
        "id": "HltV54ZyAV0A",
        "colab_type": "code",
        "outputId": "44523467-0c8c-4912-df4c-346a552095c1",
        "colab": {
          "base_uri": "https://localhost:8080/",
          "height": 67
        }
      },
      "source": [
        "# word_unigrams\n",
        "run_model(train_400texts, 'train_400texts', 'word_unigrams')"
      ],
      "execution_count": 0,
      "outputs": [
        {
          "output_type": "stream",
          "text": [
            "100%|██████████| 7/7 [00:08<00:00,  1.19s/it]"
          ],
          "name": "stderr"
        },
        {
          "output_type": "stream",
          "text": [
            "\n",
            "Accuracy_score = 0.375 for dataset train_400texts and hyperparam word_unigrams\n"
          ],
          "name": "stdout"
        },
        {
          "output_type": "stream",
          "text": [
            "\n"
          ],
          "name": "stderr"
        }
      ]
    },
    {
      "cell_type": "code",
      "metadata": {
        "id": "Dl3inw3RYz8P",
        "colab_type": "code",
        "outputId": "6fd8b75b-1395-47cd-e6a9-c3113ad27aef",
        "colab": {
          "base_uri": "https://localhost:8080/",
          "height": 67
        }
      },
      "source": [
        "# word_bigrams\n",
        "run_model(train_400texts, 'train_400texts', 'word_bigrams')"
      ],
      "execution_count": 0,
      "outputs": [
        {
          "output_type": "stream",
          "text": [
            "100%|██████████| 7/7 [00:09<00:00,  1.39s/it]"
          ],
          "name": "stderr"
        },
        {
          "output_type": "stream",
          "text": [
            "\n",
            "Accuracy_score = 0.1875 for dataset train_400texts and hyperparam word_bigrams\n"
          ],
          "name": "stdout"
        },
        {
          "output_type": "stream",
          "text": [
            "\n"
          ],
          "name": "stderr"
        }
      ]
    },
    {
      "cell_type": "code",
      "metadata": {
        "id": "kVyptMlhY7_e",
        "colab_type": "code",
        "outputId": "28805798-9577-40a7-b276-f08999a8bac7",
        "colab": {
          "base_uri": "https://localhost:8080/",
          "height": 67
        }
      },
      "source": [
        "# word_trigrams\n",
        "run_model(train_400texts, 'train_400texts', 'word_trigrams')"
      ],
      "execution_count": 0,
      "outputs": [
        {
          "output_type": "stream",
          "text": [
            "100%|██████████| 7/7 [00:09<00:00,  1.40s/it]"
          ],
          "name": "stderr"
        },
        {
          "output_type": "stream",
          "text": [
            "\n",
            "Accuracy_score = 0.4375 for dataset train_400texts and hyperparam word_trigrams\n"
          ],
          "name": "stdout"
        },
        {
          "output_type": "stream",
          "text": [
            "\n"
          ],
          "name": "stderr"
        }
      ]
    },
    {
      "cell_type": "code",
      "metadata": {
        "id": "I5OA6XxiZCwC",
        "colab_type": "code",
        "outputId": "e2918398-6dba-4786-e53a-91e55b52104d",
        "colab": {
          "base_uri": "https://localhost:8080/",
          "height": 67
        }
      },
      "source": [
        "# character 3-grams\n",
        "run_model(train_400texts, 'train_400texts', 'character 3-grams')"
      ],
      "execution_count": 0,
      "outputs": [
        {
          "output_type": "stream",
          "text": [
            "100%|██████████| 7/7 [00:57<00:00,  8.22s/it]"
          ],
          "name": "stderr"
        },
        {
          "output_type": "stream",
          "text": [
            "\n",
            "Accuracy_score = 0.53125 for dataset train_400texts and hyperparam character 3-grams\n"
          ],
          "name": "stdout"
        },
        {
          "output_type": "stream",
          "text": [
            "\n"
          ],
          "name": "stderr"
        }
      ]
    },
    {
      "cell_type": "code",
      "metadata": {
        "id": "4xIwYmucZLSx",
        "colab_type": "code",
        "outputId": "a6c007af-c9fe-494f-bdc8-04a8a62bea88",
        "colab": {
          "base_uri": "https://localhost:8080/",
          "height": 67
        }
      },
      "source": [
        "# character 4-grams\n",
        "run_model(train_400texts, 'train_400texts', 'character 4-grams')"
      ],
      "execution_count": 0,
      "outputs": [
        {
          "output_type": "stream",
          "text": [
            "100%|██████████| 7/7 [01:08<00:00,  9.84s/it]"
          ],
          "name": "stderr"
        },
        {
          "output_type": "stream",
          "text": [
            "\n",
            "Accuracy_score = 0.53125 for dataset train_400texts and hyperparam character 4-grams\n"
          ],
          "name": "stdout"
        },
        {
          "output_type": "stream",
          "text": [
            "\n"
          ],
          "name": "stderr"
        }
      ]
    },
    {
      "cell_type": "code",
      "metadata": {
        "id": "_FBbI3vBZRl0",
        "colab_type": "code",
        "outputId": "90afc921-ceb7-470b-993f-0c43b9a4c0d7",
        "colab": {
          "base_uri": "https://localhost:8080/",
          "height": 67
        }
      },
      "source": [
        "# character 5-grams\n",
        "run_model(train_400texts, 'train_400texts', 'character 5-grams')"
      ],
      "execution_count": 0,
      "outputs": [
        {
          "output_type": "stream",
          "text": [
            "100%|██████████| 7/7 [01:11<00:00, 10.22s/it]"
          ],
          "name": "stderr"
        },
        {
          "output_type": "stream",
          "text": [
            "\n",
            "Accuracy_score = 0.5 for dataset train_400texts and hyperparam character 5-grams\n"
          ],
          "name": "stdout"
        },
        {
          "output_type": "stream",
          "text": [
            "\n"
          ],
          "name": "stderr"
        }
      ]
    },
    {
      "cell_type": "code",
      "metadata": {
        "id": "-I9GXqKdJ96N",
        "colab_type": "code",
        "outputId": "991a8bc8-5257-4eea-fe1a-0de252add123",
        "colab": {
          "base_uri": "https://localhost:8080/",
          "height": 67
        }
      },
      "source": [
        "# character 6-grams\n",
        "run_model(train_400texts, 'train_400texts', 'character 6-grams')"
      ],
      "execution_count": 0,
      "outputs": [
        {
          "output_type": "stream",
          "text": [
            "100%|██████████| 7/7 [01:14<00:00, 10.68s/it]"
          ],
          "name": "stderr"
        },
        {
          "output_type": "stream",
          "text": [
            "\n",
            "Accuracy_score = 0.5625 for dataset train_400texts and hyperparam character 6-grams\n"
          ],
          "name": "stdout"
        },
        {
          "output_type": "stream",
          "text": [
            "\n"
          ],
          "name": "stderr"
        }
      ]
    },
    {
      "cell_type": "code",
      "metadata": {
        "id": "us23kIBHKRxd",
        "colab_type": "code",
        "outputId": "a6f8c787-5c3c-4dc1-d250-edabead124c9",
        "colab": {
          "base_uri": "https://localhost:8080/",
          "height": 67
        }
      },
      "source": [
        "# character 7-grams\n",
        "run_model(train_400texts, 'train_400texts', 'character 7-grams')"
      ],
      "execution_count": 0,
      "outputs": [
        {
          "output_type": "stream",
          "text": [
            "100%|██████████| 7/7 [01:14<00:00, 10.66s/it]"
          ],
          "name": "stderr"
        },
        {
          "output_type": "stream",
          "text": [
            "\n",
            "Accuracy_score = 0.46875 for dataset train_400texts and hyperparam character 7-grams\n"
          ],
          "name": "stdout"
        },
        {
          "output_type": "stream",
          "text": [
            "\n"
          ],
          "name": "stderr"
        }
      ]
    },
    {
      "cell_type": "code",
      "metadata": {
        "id": "CyV5iCt9KVCy",
        "colab_type": "code",
        "outputId": "feac184e-850b-4029-cc11-b084560c69a4",
        "colab": {
          "base_uri": "https://localhost:8080/",
          "height": 67
        }
      },
      "source": [
        "# Character 8-grams\n",
        "run_model(train_400texts, 'train_400texts', 'character 8-grams')"
      ],
      "execution_count": 0,
      "outputs": [
        {
          "output_type": "stream",
          "text": [
            "100%|██████████| 7/7 [01:15<00:00, 10.85s/it]"
          ],
          "name": "stderr"
        },
        {
          "output_type": "stream",
          "text": [
            "\n",
            "Accuracy_score = 0.40625 for dataset train_400texts and hyperparam character 8-grams\n"
          ],
          "name": "stdout"
        },
        {
          "output_type": "stream",
          "text": [
            "\n"
          ],
          "name": "stderr"
        }
      ]
    },
    {
      "cell_type": "code",
      "metadata": {
        "id": "wt8iAVUxKXJE",
        "colab_type": "code",
        "outputId": "80003387-469e-44e6-ec28-3d151ac5b7bc",
        "colab": {
          "base_uri": "https://localhost:8080/",
          "height": 67
        }
      },
      "source": [
        "# character 9-grams\n",
        "run_model(train_400texts, 'train_400texts', 'character 9-grams')"
      ],
      "execution_count": 0,
      "outputs": [
        {
          "output_type": "stream",
          "text": [
            "100%|██████████| 7/7 [01:15<00:00, 10.84s/it]"
          ],
          "name": "stderr"
        },
        {
          "output_type": "stream",
          "text": [
            "\n",
            "Accuracy_score = 0.4375 for dataset train_400texts and hyperparam character 9-grams\n"
          ],
          "name": "stdout"
        },
        {
          "output_type": "stream",
          "text": [
            "\n"
          ],
          "name": "stderr"
        }
      ]
    },
    {
      "cell_type": "code",
      "metadata": {
        "id": "_f7yE7YCKYTU",
        "colab_type": "code",
        "outputId": "567e7ac8-c14d-480d-e295-22b9be2b6026",
        "colab": {
          "base_uri": "https://localhost:8080/",
          "height": 67
        }
      },
      "source": [
        "# character 10-grams\n",
        "run_model(train_400texts, 'train_400texts', 'character 10-grams')"
      ],
      "execution_count": 0,
      "outputs": [
        {
          "output_type": "stream",
          "text": [
            "100%|██████████| 7/7 [01:15<00:00, 10.81s/it]"
          ],
          "name": "stderr"
        },
        {
          "output_type": "stream",
          "text": [
            "\n",
            "Accuracy_score = 0.4375 for dataset train_400texts and hyperparam character 10-grams\n"
          ],
          "name": "stdout"
        },
        {
          "output_type": "stream",
          "text": [
            "\n"
          ],
          "name": "stderr"
        }
      ]
    },
    {
      "cell_type": "markdown",
      "metadata": {
        "id": "5DdsE3ZqKdVN",
        "colab_type": "text"
      },
      "source": [
        "# Running best models on test data"
      ]
    },
    {
      "cell_type": "code",
      "metadata": {
        "id": "ahV2m-0TdAoF",
        "colab_type": "code",
        "outputId": "acd607c0-6a4d-4fea-edce-b4a6ee8525c0",
        "colab": {
          "base_uri": "https://localhost:8080/",
          "height": 67
        }
      },
      "source": [
        "# 90text: Character 4-grams\n",
        "run_model(test_90texts, 'test_90texts', 'character 4-grams')"
      ],
      "execution_count": 0,
      "outputs": [
        {
          "output_type": "stream",
          "text": [
            "100%|██████████| 7/7 [00:03<00:00,  1.92it/s]"
          ],
          "name": "stderr"
        },
        {
          "output_type": "stream",
          "text": [
            "\n",
            "Accuracy_score = 0.5833333333333334 for dataset test_90texts and hyperparam character 4-grams\n"
          ],
          "name": "stdout"
        },
        {
          "output_type": "stream",
          "text": [
            "\n"
          ],
          "name": "stderr"
        }
      ]
    },
    {
      "cell_type": "code",
      "metadata": {
        "id": "3GHCi0DSsRja",
        "colab_type": "code",
        "outputId": "23974e93-42af-46bd-c522-af73a0792e5d",
        "colab": {
          "base_uri": "https://localhost:8080/",
          "height": 67
        }
      },
      "source": [
        "run_model(test_90texts, 'test_90texts', 'character 10-grams')"
      ],
      "execution_count": 0,
      "outputs": [
        {
          "output_type": "stream",
          "text": [
            "100%|██████████| 7/7 [00:04<00:00,  1.72it/s]"
          ],
          "name": "stderr"
        },
        {
          "output_type": "stream",
          "text": [
            "\n",
            "Accuracy_score = 0.5 for dataset test_90texts and hyperparam character 10-grams\n"
          ],
          "name": "stdout"
        },
        {
          "output_type": "stream",
          "text": [
            "\n"
          ],
          "name": "stderr"
        }
      ]
    }
  ]
}