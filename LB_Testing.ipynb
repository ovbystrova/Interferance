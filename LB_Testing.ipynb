{
  "nbformat": 4,
  "nbformat_minor": 0,
  "metadata": {
    "colab": {
      "name": "LB_Testing.ipynb",
      "provenance": []
    },
    "kernelspec": {
      "name": "python3",
      "display_name": "Python 3"
    },
    "accelerator": "GPU"
  },
  "cells": [
    {
      "cell_type": "code",
      "metadata": {
        "id": "XcVv-mo3gDOf",
        "colab_type": "code",
        "colab": {}
      },
      "source": [
        "from modules.preprocessing import get_dataset, balanced_datasets\n",
        "from modules.distances import distance, radius, radius_distance\n",
        "from modules.single_classifier import SingleClassifier\n",
        "from modules.ensamble_classifier import EnsambleClassifier\n",
        "from modules.ulits import softmax\n",
        "\n",
        "import pandas as pd\n",
        "from tqdm import tqdm\n",
        "from collections import Counter\n",
        "from sklearn.model_selection import train_test_split\n",
        "from sklearn.metrics import accuracy_score"
      ],
      "execution_count": 0,
      "outputs": []
    },
    {
      "cell_type": "code",
      "metadata": {
        "id": "ojVUDVrBqHwl",
        "colab_type": "code",
        "colab": {}
      },
      "source": [
        "!wget https://github.com/ovbystrova/Interference/raw/master/data/original_texts.csv"
      ],
      "execution_count": 0,
      "outputs": []
    },
    {
      "cell_type": "code",
      "metadata": {
        "id": "lgg5Q89BceU1",
        "colab_type": "code",
        "colab": {
          "base_uri": "https://localhost:8080/",
          "height": 50
        },
        "outputId": "8d5fd52e-2dc2-44bf-b2c0-648900a84c83"
      },
      "source": [
        "df = get_dataset('/content/original_texts.csv')\n",
        "df_90texts, df_400texts = balanced_datasets(df)\n",
        "print(len(df_90texts), len(df_400texts))"
      ],
      "execution_count": 4,
      "outputs": [
        {
          "output_type": "stream",
          "text": [
            "100%|██████████| 8/8 [00:49<00:00,  6.19s/it]\n"
          ],
          "name": "stderr"
        },
        {
          "output_type": "stream",
          "text": [
            "810 1600\n"
          ],
          "name": "stdout"
        }
      ]
    },
    {
      "cell_type": "code",
      "metadata": {
        "id": "z2Jt9oDbUFDS",
        "colab_type": "code",
        "colab": {}
      },
      "source": [
        "N = 50"
      ],
      "execution_count": 0,
      "outputs": []
    },
    {
      "cell_type": "code",
      "metadata": {
        "id": "fccSG30gqjAA",
        "colab_type": "code",
        "colab": {}
      },
      "source": [
        "def clean_tqdm():\n",
        "    for instance in list(tqdm._instances): \n",
        "        tqdm._decr_instances(instance)\n",
        "\n",
        "def balanced_df(df, size):\n",
        "    \"\"\"\n",
        "    balances df and truncates it to size parameter\n",
        "    \"\"\"\n",
        "    df_1 = df.loc[df['language_background'] == 'FL'][:size]\n",
        "    df_2 = df.loc[df['language_background'] == 'HL'][:size]\n",
        "    df = pd.concat([df_1, df_2])\n",
        "    return df"
      ],
      "execution_count": 0,
      "outputs": []
    },
    {
      "cell_type": "code",
      "metadata": {
        "id": "kh_hz1-igcWS",
        "colab_type": "code",
        "colab": {}
      },
      "source": [
        "df_90 = balanced_df(df_90texts, N)\n",
        "df_400 = balanced_df(df_400texts, N)"
      ],
      "execution_count": 0,
      "outputs": []
    },
    {
      "cell_type": "code",
      "metadata": {
        "id": "rqNhEMOKqcXM",
        "colab_type": "code",
        "colab": {}
      },
      "source": [
        "train_90texts, test_90texts = train_test_split(df_90, train_size=0.8,  random_state=42, stratify=df_90['language_background'])\n",
        "train_400texts, test_400texts = train_test_split(df_400, train_size=0.8, random_state=42, stratify=df_400['language_background'])"
      ],
      "execution_count": 0,
      "outputs": []
    },
    {
      "cell_type": "code",
      "metadata": {
        "id": "6Ukr7hVyVdrD",
        "colab_type": "code",
        "outputId": "03d198c0-aed3-4918-bad0-f650d5cc1b15",
        "colab": {
          "base_uri": "https://localhost:8080/",
          "height": 34
        }
      },
      "source": [
        "len(train_90texts), len(train_400texts), len(test_90texts), len(test_400texts)"
      ],
      "execution_count": 9,
      "outputs": [
        {
          "output_type": "execute_result",
          "data": {
            "text/plain": [
              "(80, 80, 20, 20)"
            ]
          },
          "metadata": {
            "tags": []
          },
          "execution_count": 9
        }
      ]
    },
    {
      "cell_type": "code",
      "metadata": {
        "id": "6F10qdelXGLr",
        "colab_type": "code",
        "colab": {}
      },
      "source": [
        "def run_model(df, df_name,  hyperparam):\n",
        "    \"\"\"\n",
        "    runs EnsambleClassifier on  given DataFrame (df) with give profiles (hyperparam)\n",
        "    \"\"\"\n",
        "    classes = list(df['language_background'].unique())\n",
        "    y_true = list(df['language_background'])\n",
        "    p_lengths = [200, 500, 1000, 1500, 2000, 2500, 3000]\n",
        "\n",
        "    clean_tqdm()\n",
        "\n",
        "    profs = list(df[hyperparam])\n",
        "    ec = EnsambleClassifier([profs], y_true, p_lengths, classes=classes)\n",
        "    classifiers = ec.classifiers\n",
        "    y_pred = ec.forward_ensamble(confidence=False)\n",
        "\n",
        "    print()\n",
        "    acc = accuracy_score(y_true, y_pred)\n",
        "    print('Accuracy_score = {} for dataset {} and hyperparam {}'.format(acc, df_name, hyperparam)) "
      ],
      "execution_count": 0,
      "outputs": []
    },
    {
      "cell_type": "markdown",
      "metadata": {
        "id": "ZCTtwrwG09Co",
        "colab_type": "text"
      },
      "source": [
        "# 90 texts"
      ]
    },
    {
      "cell_type": "code",
      "metadata": {
        "id": "j5t0HRi_T9Wh",
        "colab_type": "code",
        "outputId": "59ba1078-318e-40c7-ecab-a6e038f16b5b",
        "colab": {
          "base_uri": "https://localhost:8080/",
          "height": 67
        }
      },
      "source": [
        "# word unigrams\n",
        "run_model(test_90texts, 'train_90texts', 'word_unigrams')"
      ],
      "execution_count": 0,
      "outputs": [
        {
          "output_type": "stream",
          "text": [
            "100%|██████████| 7/7 [00:02<00:00,  2.54it/s]"
          ],
          "name": "stderr"
        },
        {
          "output_type": "stream",
          "text": [
            "\n",
            "Accuracy_score = 0.5 for dataset train_90texts and hyperparam word_unigrams\n"
          ],
          "name": "stdout"
        },
        {
          "output_type": "stream",
          "text": [
            "\n"
          ],
          "name": "stderr"
        }
      ]
    },
    {
      "cell_type": "code",
      "metadata": {
        "id": "rZDvNZz8Wwaw",
        "colab_type": "code",
        "outputId": "42db7d24-60eb-4626-9998-497c2aed453b",
        "colab": {
          "base_uri": "https://localhost:8080/",
          "height": 67
        }
      },
      "source": [
        "# word bigrams\n",
        "run_model(train_90texts, 'train_90texts', 'word_bigrams')"
      ],
      "execution_count": 0,
      "outputs": [
        {
          "output_type": "stream",
          "text": [
            "100%|██████████| 7/7 [03:12<00:00, 27.50s/it]"
          ],
          "name": "stderr"
        },
        {
          "output_type": "stream",
          "text": [
            "\n",
            "Accuracy_score = 0.675 for dataset train_90texts and hyperparam word_bigrams\n"
          ],
          "name": "stdout"
        },
        {
          "output_type": "stream",
          "text": [
            "\n"
          ],
          "name": "stderr"
        }
      ]
    },
    {
      "cell_type": "code",
      "metadata": {
        "id": "hxaQM2imiDWE",
        "colab_type": "code",
        "outputId": "1f3d16ff-c4d1-480e-ffc6-63ab3764787b",
        "colab": {
          "base_uri": "https://localhost:8080/",
          "height": 67
        }
      },
      "source": [
        "# word trigrams\n",
        "run_model(train_90texts, 'train_90texts', 'word_trigrams')"
      ],
      "execution_count": 0,
      "outputs": [
        {
          "output_type": "stream",
          "text": [
            "100%|██████████| 7/7 [03:09<00:00, 27.11s/it]"
          ],
          "name": "stderr"
        },
        {
          "output_type": "stream",
          "text": [
            "\n",
            "Accuracy_score = 0.6 for dataset train_90texts and hyperparam word_trigrams\n"
          ],
          "name": "stdout"
        },
        {
          "output_type": "stream",
          "text": [
            "\n"
          ],
          "name": "stderr"
        }
      ]
    },
    {
      "cell_type": "code",
      "metadata": {
        "id": "SYnWe7Myq28L",
        "colab_type": "code",
        "outputId": "8ee11fba-4834-4696-ba37-7b0aedd58fad",
        "colab": {
          "base_uri": "https://localhost:8080/",
          "height": 67
        }
      },
      "source": [
        "# Character 4-grams\n",
        "run_model(train_90texts, 'train_90texts', 'character 4-grams')"
      ],
      "execution_count": 0,
      "outputs": [
        {
          "output_type": "stream",
          "text": [
            "100%|██████████| 7/7 [21:45<00:00, 186.57s/it]"
          ],
          "name": "stderr"
        },
        {
          "output_type": "stream",
          "text": [
            "\n",
            "Accuracy_score = 0.5875 for dataset train_90texts and hyperparam character 4-grams\n"
          ],
          "name": "stdout"
        },
        {
          "output_type": "stream",
          "text": [
            "\n"
          ],
          "name": "stderr"
        }
      ]
    },
    {
      "cell_type": "code",
      "metadata": {
        "id": "nNa8OyYIG3eU",
        "colab_type": "code",
        "outputId": "a70a6434-ffee-4969-ecd5-e11cffb41ca4",
        "colab": {
          "base_uri": "https://localhost:8080/",
          "height": 67
        }
      },
      "source": [
        "# Character 5-grams\n",
        "run_model(train_90texts, 'train_90texts', 'character 5-grams')"
      ],
      "execution_count": 0,
      "outputs": [
        {
          "output_type": "stream",
          "text": [
            "100%|██████████| 7/7 [22:59<00:00, 197.02s/it]"
          ],
          "name": "stderr"
        },
        {
          "output_type": "stream",
          "text": [
            "\n",
            "Accuracy_score = 0.5625 for dataset train_90texts and hyperparam character 5-grams\n"
          ],
          "name": "stdout"
        },
        {
          "output_type": "stream",
          "text": [
            "\n"
          ],
          "name": "stderr"
        }
      ]
    },
    {
      "cell_type": "code",
      "metadata": {
        "id": "lWtzoveAPf7V",
        "colab_type": "code",
        "outputId": "c439d252-6b23-409d-ee10-c0b7aa7c0d42",
        "colab": {
          "base_uri": "https://localhost:8080/",
          "height": 67
        }
      },
      "source": [
        "# Character 6-grams\n",
        "run_model(train_90texts, 'train_90texts', 'character 6-grams')"
      ],
      "execution_count": 0,
      "outputs": [
        {
          "output_type": "stream",
          "text": [
            "100%|██████████| 7/7 [23:52<00:00, 204.67s/it]"
          ],
          "name": "stderr"
        },
        {
          "output_type": "stream",
          "text": [
            "\n",
            "Accuracy_score = 0.5625 for dataset train_90texts and hyperparam character 6-grams\n"
          ],
          "name": "stdout"
        },
        {
          "output_type": "stream",
          "text": [
            "\n"
          ],
          "name": "stderr"
        }
      ]
    },
    {
      "cell_type": "code",
      "metadata": {
        "id": "-Z_N3NAzYGK8",
        "colab_type": "code",
        "outputId": "68729a86-e54d-4240-de49-4a881e7dc8c6",
        "colab": {
          "base_uri": "https://localhost:8080/",
          "height": 67
        }
      },
      "source": [
        "# Character 7-grams\n",
        "run_model(train_90texts, 'train_90texts', 'character 7-grams')"
      ],
      "execution_count": 0,
      "outputs": [
        {
          "output_type": "stream",
          "text": [
            "100%|██████████| 7/7 [24:20<00:00, 208.70s/it]"
          ],
          "name": "stderr"
        },
        {
          "output_type": "stream",
          "text": [
            "\n",
            "Accuracy_score = 0.5875 for dataset train_90texts and hyperparam character 7-grams\n"
          ],
          "name": "stdout"
        },
        {
          "output_type": "stream",
          "text": [
            "\n"
          ],
          "name": "stderr"
        }
      ]
    },
    {
      "cell_type": "code",
      "metadata": {
        "id": "_3j8pbYChcsY",
        "colab_type": "code",
        "outputId": "52c4a5ed-65de-4b7c-c4bb-c92b590296eb",
        "colab": {
          "base_uri": "https://localhost:8080/",
          "height": 67
        }
      },
      "source": [
        "# Character 8-grams\n",
        "run_model(train_90texts, 'train_90texts', 'character 8-grams')"
      ],
      "execution_count": 0,
      "outputs": [
        {
          "output_type": "stream",
          "text": [
            "100%|██████████| 7/7 [24:56<00:00, 213.77s/it]"
          ],
          "name": "stderr"
        },
        {
          "output_type": "stream",
          "text": [
            "\n",
            "Accuracy_score = 0.65 for dataset train_90texts and hyperparam character 8-grams\n"
          ],
          "name": "stdout"
        },
        {
          "output_type": "stream",
          "text": [
            "\n"
          ],
          "name": "stderr"
        }
      ]
    },
    {
      "cell_type": "code",
      "metadata": {
        "id": "CNX5Ld1qrbOt",
        "colab_type": "code",
        "outputId": "89bd58f9-bbf0-4421-bef4-6bd43bb3049f",
        "colab": {
          "base_uri": "https://localhost:8080/",
          "height": 67
        }
      },
      "source": [
        "# Character 9-grams\n",
        "run_model(train_90texts, 'train_90texts', 'character 9-grams')"
      ],
      "execution_count": 0,
      "outputs": [
        {
          "output_type": "stream",
          "text": [
            "100%|██████████| 7/7 [25:06<00:00, 215.27s/it]"
          ],
          "name": "stderr"
        },
        {
          "output_type": "stream",
          "text": [
            "\n",
            "Accuracy_score = 0.65 for dataset train_90texts and hyperparam character 9-grams\n"
          ],
          "name": "stdout"
        },
        {
          "output_type": "stream",
          "text": [
            "\n"
          ],
          "name": "stderr"
        }
      ]
    },
    {
      "cell_type": "code",
      "metadata": {
        "id": "gmEDA4kq1AuI",
        "colab_type": "code",
        "outputId": "29c3dbbe-dbcb-4bab-c997-5ede4b1042fa",
        "colab": {
          "base_uri": "https://localhost:8080/",
          "height": 101
        }
      },
      "source": [
        "# Character 10-grams\n",
        "run_model(train_90texts, 'train_90texts', 'character 10-grams')"
      ],
      "execution_count": 0,
      "outputs": [
        {
          "output_type": "stream",
          "text": [
            " 86%|████████▌ | 6/7 [2:35:28<25:54, 1554.78s/it]\n",
            "  0%|          | 0/7 [2:30:21<?, ?it/s]\n",
            "100%|██████████| 7/7 [25:08<00:00, 215.45s/it]"
          ],
          "name": "stderr"
        },
        {
          "output_type": "stream",
          "text": [
            "\n",
            "Accuracy_score = 0.675 for dataset train_90texts and hyperparam character 10-grams\n"
          ],
          "name": "stdout"
        },
        {
          "output_type": "stream",
          "text": [
            "\n"
          ],
          "name": "stderr"
        }
      ]
    },
    {
      "cell_type": "markdown",
      "metadata": {
        "id": "ouohReLfAYqD",
        "colab_type": "text"
      },
      "source": [
        "# 400 texts"
      ]
    },
    {
      "cell_type": "code",
      "metadata": {
        "id": "HltV54ZyAV0A",
        "colab_type": "code",
        "outputId": "59797397-6223-41d8-be6d-cf8d4a047571",
        "colab": {
          "base_uri": "https://localhost:8080/",
          "height": 67
        }
      },
      "source": [
        "# word_unigrams\n",
        "run_model(train_400texts, 'train_400texts', 'word_unigrams')"
      ],
      "execution_count": 0,
      "outputs": [
        {
          "output_type": "stream",
          "text": [
            "100%|██████████| 7/7 [02:41<00:00, 23.13s/it]"
          ],
          "name": "stderr"
        },
        {
          "output_type": "stream",
          "text": [
            "\n",
            "Accuracy_score = 0.4875 for dataset train_400texts and hyperparam word_unigrams\n"
          ],
          "name": "stdout"
        },
        {
          "output_type": "stream",
          "text": [
            "\n"
          ],
          "name": "stderr"
        }
      ]
    },
    {
      "cell_type": "code",
      "metadata": {
        "id": "Dl3inw3RYz8P",
        "colab_type": "code",
        "outputId": "ff1235d0-871c-4579-f537-79a1f933d492",
        "colab": {
          "base_uri": "https://localhost:8080/",
          "height": 67
        }
      },
      "source": [
        "# word_bigrams\n",
        "run_model(train_400texts, 'train_400texts', 'word_bigrams')"
      ],
      "execution_count": 0,
      "outputs": [
        {
          "output_type": "stream",
          "text": [
            "100%|██████████| 7/7 [03:11<00:00, 27.30s/it]"
          ],
          "name": "stderr"
        },
        {
          "output_type": "stream",
          "text": [
            "\n",
            "Accuracy_score = 0.6625 for dataset train_400texts and hyperparam word_bigrams\n"
          ],
          "name": "stdout"
        },
        {
          "output_type": "stream",
          "text": [
            "\n"
          ],
          "name": "stderr"
        }
      ]
    },
    {
      "cell_type": "code",
      "metadata": {
        "id": "kVyptMlhY7_e",
        "colab_type": "code",
        "outputId": "9d462c94-bd49-42e7-f879-b7fb47ae3363",
        "colab": {
          "base_uri": "https://localhost:8080/",
          "height": 67
        }
      },
      "source": [
        "# word_trigrams\n",
        "run_model(train_400texts, 'train_400texts', 'word_trigrams')"
      ],
      "execution_count": 0,
      "outputs": [
        {
          "output_type": "stream",
          "text": [
            "100%|██████████| 7/7 [03:12<00:00, 27.45s/it]"
          ],
          "name": "stderr"
        },
        {
          "output_type": "stream",
          "text": [
            "\n",
            "Accuracy_score = 0.575 for dataset train_400texts and hyperparam word_trigrams\n"
          ],
          "name": "stdout"
        },
        {
          "output_type": "stream",
          "text": [
            "\n"
          ],
          "name": "stderr"
        }
      ]
    },
    {
      "cell_type": "code",
      "metadata": {
        "id": "I5OA6XxiZCwC",
        "colab_type": "code",
        "outputId": "9045cccd-a5b1-4018-a69e-6f5e29190fe1",
        "colab": {
          "base_uri": "https://localhost:8080/",
          "height": 67
        }
      },
      "source": [
        "# character 3-grams\n",
        "run_model(train_400texts, 'train_400texts', 'character 3-grams')"
      ],
      "execution_count": 0,
      "outputs": [
        {
          "output_type": "stream",
          "text": [
            "100%|██████████| 7/7 [18:00<00:00, 154.30s/it]"
          ],
          "name": "stderr"
        },
        {
          "output_type": "stream",
          "text": [
            "\n",
            "Accuracy_score = 0.5 for dataset train_400texts and hyperparam character 3-grams\n"
          ],
          "name": "stdout"
        },
        {
          "output_type": "stream",
          "text": [
            "\n"
          ],
          "name": "stderr"
        }
      ]
    },
    {
      "cell_type": "code",
      "metadata": {
        "id": "4xIwYmucZLSx",
        "colab_type": "code",
        "outputId": "c9fa31f9-ae02-45ab-c76e-def9c9c78933",
        "colab": {
          "base_uri": "https://localhost:8080/",
          "height": 67
        }
      },
      "source": [
        "# character 4-grams\n",
        "run_model(train_400texts, 'train_400texts', 'character 4-grams')"
      ],
      "execution_count": 0,
      "outputs": [
        {
          "output_type": "stream",
          "text": [
            "100%|██████████| 7/7 [21:41<00:00, 185.89s/it]"
          ],
          "name": "stderr"
        },
        {
          "output_type": "stream",
          "text": [
            "\n",
            "Accuracy_score = 0.5 for dataset train_400texts and hyperparam character 4-grams\n"
          ],
          "name": "stdout"
        },
        {
          "output_type": "stream",
          "text": [
            "\n"
          ],
          "name": "stderr"
        }
      ]
    },
    {
      "cell_type": "code",
      "metadata": {
        "id": "_FBbI3vBZRl0",
        "colab_type": "code",
        "outputId": "987be05f-1652-4a44-cfeb-0445017ef73a",
        "colab": {
          "base_uri": "https://localhost:8080/",
          "height": 67
        }
      },
      "source": [
        "# character 5-grams\n",
        "run_model(train_400texts, 'train_400texts', 'character 5-grams')"
      ],
      "execution_count": 0,
      "outputs": [
        {
          "output_type": "stream",
          "text": [
            "100%|██████████| 7/7 [22:57<00:00, 196.75s/it]"
          ],
          "name": "stderr"
        },
        {
          "output_type": "stream",
          "text": [
            "\n",
            "Accuracy_score = 0.525 for dataset train_400texts and hyperparam character 5-grams\n"
          ],
          "name": "stdout"
        },
        {
          "output_type": "stream",
          "text": [
            "\n"
          ],
          "name": "stderr"
        }
      ]
    },
    {
      "cell_type": "code",
      "metadata": {
        "id": "-I9GXqKdJ96N",
        "colab_type": "code",
        "colab": {
          "base_uri": "https://localhost:8080/",
          "height": 67
        },
        "outputId": "32e5f008-b5d1-4c96-936f-9c5e9c66469b"
      },
      "source": [
        "# character 6-grams\n",
        "run_model(train_400texts, 'train_400texts', 'character 6-grams')"
      ],
      "execution_count": 11,
      "outputs": [
        {
          "output_type": "stream",
          "text": [
            "100%|██████████| 7/7 [18:10<00:00, 155.79s/it]"
          ],
          "name": "stderr"
        },
        {
          "output_type": "stream",
          "text": [
            "\n",
            "Accuracy_score = 0.525 for dataset train_400texts and hyperparam character 6-grams\n"
          ],
          "name": "stdout"
        },
        {
          "output_type": "stream",
          "text": [
            "\n"
          ],
          "name": "stderr"
        }
      ]
    },
    {
      "cell_type": "code",
      "metadata": {
        "id": "us23kIBHKRxd",
        "colab_type": "code",
        "colab": {
          "base_uri": "https://localhost:8080/",
          "height": 67
        },
        "outputId": "c6664b39-ff40-417b-833e-f1bbf73ef707"
      },
      "source": [
        "# character 7-grams\n",
        "run_model(train_400texts, 'train_400texts', 'character 7-grams')"
      ],
      "execution_count": 12,
      "outputs": [
        {
          "output_type": "stream",
          "text": [
            "100%|██████████| 7/7 [18:32<00:00, 158.94s/it]"
          ],
          "name": "stderr"
        },
        {
          "output_type": "stream",
          "text": [
            "\n",
            "Accuracy_score = 0.625 for dataset train_400texts and hyperparam character 7-grams\n"
          ],
          "name": "stdout"
        },
        {
          "output_type": "stream",
          "text": [
            "\n"
          ],
          "name": "stderr"
        }
      ]
    },
    {
      "cell_type": "code",
      "metadata": {
        "id": "CyV5iCt9KVCy",
        "colab_type": "code",
        "colab": {
          "base_uri": "https://localhost:8080/",
          "height": 67
        },
        "outputId": "355dc1f5-69c5-443e-d045-36c3e911b273"
      },
      "source": [
        "# Character 8-grams\n",
        "run_model(train_400texts, 'train_400texts', 'character 8-grams')"
      ],
      "execution_count": 13,
      "outputs": [
        {
          "output_type": "stream",
          "text": [
            "100%|██████████| 7/7 [18:44<00:00, 160.62s/it]"
          ],
          "name": "stderr"
        },
        {
          "output_type": "stream",
          "text": [
            "\n",
            "Accuracy_score = 0.65 for dataset train_400texts and hyperparam character 8-grams\n"
          ],
          "name": "stdout"
        },
        {
          "output_type": "stream",
          "text": [
            "\n"
          ],
          "name": "stderr"
        }
      ]
    },
    {
      "cell_type": "code",
      "metadata": {
        "id": "wt8iAVUxKXJE",
        "colab_type": "code",
        "colab": {
          "base_uri": "https://localhost:8080/",
          "height": 67
        },
        "outputId": "f5b361e1-cbf9-4e84-9aab-0919f642dc04"
      },
      "source": [
        "# character 9-grams\n",
        "run_model(train_400texts, 'train_400texts', 'character 9-grams')"
      ],
      "execution_count": 14,
      "outputs": [
        {
          "output_type": "stream",
          "text": [
            "100%|██████████| 7/7 [18:43<00:00, 160.55s/it]"
          ],
          "name": "stderr"
        },
        {
          "output_type": "stream",
          "text": [
            "\n",
            "Accuracy_score = 0.675 for dataset train_400texts and hyperparam character 9-grams\n"
          ],
          "name": "stdout"
        },
        {
          "output_type": "stream",
          "text": [
            "\n"
          ],
          "name": "stderr"
        }
      ]
    },
    {
      "cell_type": "code",
      "metadata": {
        "id": "_f7yE7YCKYTU",
        "colab_type": "code",
        "colab": {
          "base_uri": "https://localhost:8080/",
          "height": 87
        },
        "outputId": "5489c11f-cfcf-46b1-b418-63c2720e91dc"
      },
      "source": [
        "# character 10-grams\n",
        "run_model(train_400texts, 'train_400texts', 'character 10-grams')"
      ],
      "execution_count": 15,
      "outputs": [
        {
          "output_type": "stream",
          "text": [
            "100%|██████████| 7/7 [18:53<00:00, 161.90s/it]"
          ],
          "name": "stderr"
        },
        {
          "output_type": "stream",
          "text": [
            "\n",
            "Accuracy_score = 0.6375 for dataset train_400texts and hyperparam character 10-grams\n"
          ],
          "name": "stdout"
        },
        {
          "output_type": "stream",
          "text": [
            "\n"
          ],
          "name": "stderr"
        }
      ]
    },
    {
      "cell_type": "markdown",
      "metadata": {
        "id": "5DdsE3ZqKdVN",
        "colab_type": "text"
      },
      "source": [
        "# Running best models on test data"
      ]
    },
    {
      "cell_type": "markdown",
      "metadata": {
        "id": "DqmDIaIn8cBk",
        "colab_type": "text"
      },
      "source": [
        "## N = 50, 0.7 on test_90text with word_bigrams"
      ]
    },
    {
      "cell_type": "code",
      "metadata": {
        "id": "y23qyIXW8dh1",
        "colab_type": "code",
        "colab": {
          "base_uri": "https://localhost:8080/",
          "height": 118
        },
        "outputId": "8387c6e4-3fd7-4833-b735-6df88575aee3"
      },
      "source": [
        "# word bigrams\n",
        "run_model(train_90texts, 'train_90texts', 'word_bigrams')\n",
        "run_model(test_90texts, 'test_90texts', 'word_bigrams')"
      ],
      "execution_count": 16,
      "outputs": [
        {
          "output_type": "stream",
          "text": [
            "100%|██████████| 7/7 [02:21<00:00, 20.26s/it]\n",
            "  0%|          | 0/7 [00:00<?, ?it/s]"
          ],
          "name": "stderr"
        },
        {
          "output_type": "stream",
          "text": [
            "\n",
            "Accuracy_score = 0.675 for dataset train_90texts and hyperparam word_bigrams\n"
          ],
          "name": "stdout"
        },
        {
          "output_type": "stream",
          "text": [
            "100%|██████████| 7/7 [00:02<00:00,  3.11it/s]"
          ],
          "name": "stderr"
        },
        {
          "output_type": "stream",
          "text": [
            "\n",
            "Accuracy_score = 0.7 for dataset test_90texts and hyperparam word_bigrams\n"
          ],
          "name": "stdout"
        },
        {
          "output_type": "stream",
          "text": [
            "\n"
          ],
          "name": "stderr"
        }
      ]
    },
    {
      "cell_type": "code",
      "metadata": {
        "id": "Uz07DcAF8iHY",
        "colab_type": "code",
        "colab": {
          "base_uri": "https://localhost:8080/",
          "height": 67
        },
        "outputId": "f02f7839-143f-4731-ea10-642491528bf5"
      },
      "source": [
        "# word_bigrams\n",
        "# run_model(train_400texts, 'train_400texts', 'word_bigrams')\n",
        "run_model(test_400texts, 'test_400texts', 'word_bigrams')"
      ],
      "execution_count": 18,
      "outputs": [
        {
          "output_type": "stream",
          "text": [
            "100%|██████████| 7/7 [00:02<00:00,  3.07it/s]"
          ],
          "name": "stderr"
        },
        {
          "output_type": "stream",
          "text": [
            "\n",
            "Accuracy_score = 0.6 for dataset test_400texts and hyperparam word_bigrams\n"
          ],
          "name": "stdout"
        },
        {
          "output_type": "stream",
          "text": [
            "\n"
          ],
          "name": "stderr"
        }
      ]
    },
    {
      "cell_type": "code",
      "metadata": {
        "id": "0VHK8BEnIwxx",
        "colab_type": "code",
        "colab": {}
      },
      "source": [
        ""
      ],
      "execution_count": 0,
      "outputs": []
    }
  ]
}