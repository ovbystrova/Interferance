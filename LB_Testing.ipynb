{
  "nbformat": 4,
  "nbformat_minor": 0,
  "metadata": {
    "colab": {
      "name": "LB_Testing.ipynb",
      "provenance": [],
      "collapsed_sections": [
        "DqmDIaIn8cBk"
      ],
      "toc_visible": true
    },
    "kernelspec": {
      "name": "python3",
      "display_name": "Python 3"
    }
  },
  "cells": [
    {
      "cell_type": "code",
      "metadata": {
        "id": "XcVv-mo3gDOf",
        "colab_type": "code",
        "colab": {}
      },
      "source": [
        "from modules.preprocessing import get_dataset, balanced_datasets\n",
        "from modules.distances import distance, radius, radius_distance\n",
        "from modules.single_classifier import SingleClassifier\n",
        "from modules.ensamble_classifier import EnsambleClassifier\n",
        "from modules.ulits import softmax\n",
        "\n",
        "import pickle\n",
        "import pandas as pd\n",
        "from tqdm import tqdm\n",
        "from collections import Counter\n",
        "from sklearn.model_selection import train_test_split\n",
        "from sklearn.metrics import accuracy_score"
      ],
      "execution_count": 0,
      "outputs": []
    },
    {
      "cell_type": "code",
      "metadata": {
        "id": "ojVUDVrBqHwl",
        "colab_type": "code",
        "outputId": "d5c47beb-19db-434f-9bb6-0eba1cd7a7b2",
        "colab": {
          "base_uri": "https://localhost:8080/",
          "height": 286
        }
      },
      "source": [
        "!wget https://github.com/ovbystrova/Interference/raw/master/data/original_texts.csv"
      ],
      "execution_count": 0,
      "outputs": [
        {
          "output_type": "stream",
          "text": [
            "--2020-03-26 14:19:37--  https://github.com/ovbystrova/Interference/raw/master/data/original_texts.csv\n",
            "Resolving github.com (github.com)... 192.30.255.113\n",
            "Connecting to github.com (github.com)|192.30.255.113|:443... connected.\n",
            "HTTP request sent, awaiting response... 302 Found\n",
            "Location: https://raw.githubusercontent.com/ovbystrova/Interference/master/data/original_texts.csv [following]\n",
            "--2020-03-26 14:19:37--  https://raw.githubusercontent.com/ovbystrova/Interference/master/data/original_texts.csv\n",
            "Resolving raw.githubusercontent.com (raw.githubusercontent.com)... 151.101.0.133, 151.101.64.133, 151.101.128.133, ...\n",
            "Connecting to raw.githubusercontent.com (raw.githubusercontent.com)|151.101.0.133|:443... connected.\n",
            "HTTP request sent, awaiting response... 200 OK\n",
            "Length: 18891291 (18M) [text/plain]\n",
            "Saving to: ‘original_texts.csv’\n",
            "\n",
            "original_texts.csv  100%[===================>]  18.02M  45.9MB/s    in 0.4s    \n",
            "\n",
            "2020-03-26 14:19:38 (45.9 MB/s) - ‘original_texts.csv’ saved [18891291/18891291]\n",
            "\n"
          ],
          "name": "stdout"
        }
      ]
    },
    {
      "cell_type": "code",
      "metadata": {
        "id": "lgg5Q89BceU1",
        "colab_type": "code",
        "outputId": "8cafd77a-832d-42fa-f70c-23b1886f7ccf",
        "colab": {
          "base_uri": "https://localhost:8080/",
          "height": 50
        }
      },
      "source": [
        "df = get_dataset('/content/original_texts.csv')\n",
        "df_90texts, df_400texts = balanced_datasets(df)\n",
        "print(len(df_90texts), len(df_400texts))"
      ],
      "execution_count": 0,
      "outputs": [
        {
          "output_type": "stream",
          "text": [
            "100%|██████████| 8/8 [01:04<00:00,  8.09s/it]\n"
          ],
          "name": "stderr"
        },
        {
          "output_type": "stream",
          "text": [
            "810 1600\n"
          ],
          "name": "stdout"
        }
      ]
    },
    {
      "cell_type": "code",
      "metadata": {
        "id": "z2Jt9oDbUFDS",
        "colab_type": "code",
        "colab": {}
      },
      "source": [
        "N = 50"
      ],
      "execution_count": 0,
      "outputs": []
    },
    {
      "cell_type": "code",
      "metadata": {
        "id": "fccSG30gqjAA",
        "colab_type": "code",
        "colab": {}
      },
      "source": [
        "def clean_tqdm():\n",
        "    for instance in list(tqdm._instances): \n",
        "        tqdm._decr_instances(instance)\n",
        "\n",
        "def balanced_df(df, size):\n",
        "    \"\"\"\n",
        "    balances df and truncates it to size parameter\n",
        "    \"\"\"\n",
        "    df_1 = df.loc[df['language_background'] == 'FL'][:size]\n",
        "    df_2 = df.loc[df['language_background'] == 'HL'][:size]\n",
        "    df = pd.concat([df_1, df_2])\n",
        "    return df"
      ],
      "execution_count": 0,
      "outputs": []
    },
    {
      "cell_type": "code",
      "metadata": {
        "id": "kh_hz1-igcWS",
        "colab_type": "code",
        "colab": {}
      },
      "source": [
        "df_90 = balanced_df(df_90texts, N)\n",
        "df_400 = balanced_df(df_400texts, N)"
      ],
      "execution_count": 0,
      "outputs": []
    },
    {
      "cell_type": "code",
      "metadata": {
        "id": "rqNhEMOKqcXM",
        "colab_type": "code",
        "colab": {}
      },
      "source": [
        "train_90texts, test_90texts = train_test_split(df_90, train_size=0.8,  random_state=42, stratify=df_90['language_background'])\n",
        "train_400texts, test_400texts = train_test_split(df_400, train_size=0.8, random_state=42, stratify=df_400['language_background'])"
      ],
      "execution_count": 0,
      "outputs": []
    },
    {
      "cell_type": "code",
      "metadata": {
        "id": "6Ukr7hVyVdrD",
        "colab_type": "code",
        "outputId": "0bec1769-b16c-4ccf-968d-f035e9d3e2bc",
        "colab": {
          "base_uri": "https://localhost:8080/",
          "height": 34
        }
      },
      "source": [
        "len(train_90texts), len(train_400texts), len(test_90texts), len(test_400texts)"
      ],
      "execution_count": 0,
      "outputs": [
        {
          "output_type": "execute_result",
          "data": {
            "text/plain": [
              "(80, 80, 20, 20)"
            ]
          },
          "metadata": {
            "tags": []
          },
          "execution_count": 10
        }
      ]
    },
    {
      "cell_type": "code",
      "metadata": {
        "id": "6F10qdelXGLr",
        "colab_type": "code",
        "colab": {}
      },
      "source": [
        "d = {}\n",
        "labels_train = []\n",
        "confidences_train = []\n",
        "labels_test = []\n",
        "confidences_test = []\n",
        "\n",
        "accs_train = {}\n",
        "accs_test = {}\n",
        "\n",
        "\n",
        "def run_ensamble(df, hyperparam, train=True, ensamble=None):  \n",
        "    \"\"\"\n",
        "    Прогоняется ансамбль на тренировочной или тестовой выборке. Возвращает зипнутый результат и саму модель\n",
        "    \"\"\"  \n",
        "    clean_tqdm()\n",
        "    classes = list(df['language_background'].unique())\n",
        "    p_lengths = [200, 500, 1000, 1500, 2000, 2500, 3000]\n",
        "\n",
        "    y_true = list(df['language_background'])\n",
        "    profs = list(df[hyperparam])\n",
        "    \n",
        "    if train:\n",
        "        ensamble = EnsambleClassifier([profs], y_true, p_lengths, classes=classes)\n",
        "        y_pred = ensamble.forward_ensamble(confidence=True)\n",
        "    else:\n",
        "        y_pred = ensamble.forward_multiple(profs, confidence=True)\n",
        "    return  y_pred, ensamble\n",
        "\n",
        "def get_classes_confs(y_pred):\n",
        "    \"\"\"\n",
        "    анзипает классы и уверенности из зипнутого y_pred\n",
        "    \"\"\"\n",
        "    # single = SingleClassifier([], [], 200, []) # пустышка\n",
        "    classes = SingleClassifier.only_classes(y_pred)\n",
        "    confs = SingleClassifier.only_distances(y_pred)\n",
        "    return classes, confs\n",
        "\n",
        "def run_model(df_train, df_test,  train_name, test_name, hyperparam, d=d):\n",
        "    \"\"\"\n",
        "    runs EnsambleClassifier on  given DataFrame (df) with give profiles (hyperparam)\n",
        "    \"\"\"\n",
        "\n",
        "    clean_tqdm()\n",
        "\n",
        "    y_train_pred, ensamble = run_ensamble(df_train, hyperparam, train=True, ensamble=None)\n",
        "    d['{}_{}'.format(train_name, hyperparam)] = y_train_pred\n",
        "\n",
        "    y_test_pred, ensamble = run_ensamble(df_test, hyperparam, train=False, ensamble=ensamble)\n",
        "    d['{}_{}'.format(test_name, hyperparam)] = y_train_pred\n",
        "\n",
        "    class_train, conf_train = get_classes_confs(y_train_pred)\n",
        "    class_test, conf_test = get_classes_confs(y_test_pred)\n",
        "\n",
        "    labels_train.append(class_train)\n",
        "    confidences_train.append(conf_train)\n",
        "    labels_test.append(class_test)\n",
        "    confidences_test.append(conf_test)\n",
        "\n",
        "    acc_training = accuracy_score(df_train['language_background'], class_train)\n",
        "    acc_testing = accuracy_score(df_test['language_background'], class_test)\n",
        "    accs_train['{}_{}'.format(train_name, hyperparam)] = acc_training\n",
        "    accs_test['{}_{}'.format(test_name, hyperparam)] = acc_testing\n",
        "    print()\n",
        "    print('Train accuracy: {}'.format(acc_training))\n",
        "    print('Test accuracy: {}'.format(acc_testing))"
      ],
      "execution_count": 0,
      "outputs": []
    },
    {
      "cell_type": "code",
      "metadata": {
        "id": "J_FG_m_5QK0a",
        "colab_type": "code",
        "colab": {}
      },
      "source": [
        "def back_up(d, labels_train, confs_train, labels_test, confs_test, accs_train, accs_test):\n",
        "    for el, name in [(d, 'full_d'), (accs_train, 'scores_train'), (accs_test, 'scores_test'), \n",
        "                     (labels_train, 'labels_train'), (labels_test, 'labels_test'), \n",
        "                     (confs_train, 'confs_train'), (confs_test, 'confs_test')]:        \n",
        "        with open(name, 'wb') as f:\n",
        "            pickle.dump(el, f)\n",
        "    return 'Success'\n",
        "\n",
        "def load_back_up(full_d, labels_train, confs_train, labels_test, confs_test, scores_train, scores_test):\n",
        "    with open (full_d, 'rb') as fp:\n",
        "        d = pickle.load(fp)\n",
        "    with open (labels_train, 'rb') as fp:\n",
        "        labels_train = pickle.load(fp)\n",
        "    with open (confs_train, 'rb') as fp:\n",
        "        confidences_train = pickle.load(fp)\n",
        "    with open (labels_test, 'rb') as fp:\n",
        "        labels_test = pickle.load(fp)\n",
        "    with open (confs_test, 'rb') as fp:\n",
        "        confidences_test = pickle.load(fp)\n",
        "    with open (scores_train, 'rb') as fp:\n",
        "        accs_train = pickle.load(fp)\n",
        "    with open (scores_test, 'rb') as fp:\n",
        "        accs_test = pickle.load(fp)\n",
        "    return d, labels_train, confidences_train, labels_test, confidences_test, accs_train, accs_test"
      ],
      "execution_count": 0,
      "outputs": []
    },
    {
      "cell_type": "code",
      "metadata": {
        "id": "53H8DqkXOsNC",
        "colab_type": "code",
        "colab": {}
      },
      "source": [
        "try:\n",
        "    d, labels_train, confidences_train, labels_test, confidences_test, accs_train, accs_test = load_back_up('full_d', 'labels_train', 'confs_train', 'labels_test', 'confs_test', 'scores_train', 'scores_test')\n",
        "except Exception as e:\n",
        "    print(e)"
      ],
      "execution_count": 0,
      "outputs": []
    },
    {
      "cell_type": "markdown",
      "metadata": {
        "id": "ZCTtwrwG09Co",
        "colab_type": "text"
      },
      "source": [
        "# 90 texts"
      ]
    },
    {
      "cell_type": "code",
      "metadata": {
        "id": "j5t0HRi_T9Wh",
        "colab_type": "code",
        "outputId": "8c3dc94a-5ee5-4f74-b84d-671ee63ce7ad",
        "colab": {
          "base_uri": "https://localhost:8080/",
          "height": 84
        }
      },
      "source": [
        "# word unigrams\n",
        "run_model(train_90texts,  test_90texts, 'train_90texts', 'test_90texts', 'word_unigrams')"
      ],
      "execution_count": 0,
      "outputs": [
        {
          "output_type": "stream",
          "text": [
            "100%|██████████| 7/7 [02:45<00:00, 23.60s/it]\n"
          ],
          "name": "stderr"
        },
        {
          "output_type": "stream",
          "text": [
            "\n",
            "Train accuracy: 0.4875\n",
            "Test accuracy: 0.5\n"
          ],
          "name": "stdout"
        }
      ]
    },
    {
      "cell_type": "code",
      "metadata": {
        "id": "rZDvNZz8Wwaw",
        "colab_type": "code",
        "outputId": "53ac608e-ef74-45ce-d1dc-009c29851f0e",
        "colab": {
          "base_uri": "https://localhost:8080/",
          "height": 84
        }
      },
      "source": [
        "# word bigrams\n",
        "run_model(train_90texts, test_90texts, 'train_90texts', 'test_90texts', 'word_bigrams')"
      ],
      "execution_count": 0,
      "outputs": [
        {
          "output_type": "stream",
          "text": [
            "100%|██████████| 7/7 [03:14<00:00, 27.72s/it]\n"
          ],
          "name": "stderr"
        },
        {
          "output_type": "stream",
          "text": [
            "\n",
            "Train accuracy: 0.675\n",
            "Test accuracy: 0.45\n"
          ],
          "name": "stdout"
        }
      ]
    },
    {
      "cell_type": "code",
      "metadata": {
        "id": "hxaQM2imiDWE",
        "colab_type": "code",
        "outputId": "b58e6802-a4cd-430b-bee3-a189d8a7f7d3",
        "colab": {
          "base_uri": "https://localhost:8080/",
          "height": 84
        }
      },
      "source": [
        "# word trigrams\n",
        "run_model(train_90texts, test_90texts, 'train_90texts', 'test_90texts', 'word_trigrams')"
      ],
      "execution_count": 0,
      "outputs": [
        {
          "output_type": "stream",
          "text": [
            "100%|██████████| 7/7 [03:16<00:00, 28.01s/it]\n"
          ],
          "name": "stderr"
        },
        {
          "output_type": "stream",
          "text": [
            "\n",
            "Train accuracy: 0.6\n",
            "Test accuracy: 0.55\n"
          ],
          "name": "stdout"
        }
      ]
    },
    {
      "cell_type": "code",
      "metadata": {
        "id": "dX6gF8eAZUDE",
        "colab_type": "code",
        "outputId": "35f46ad8-226a-4d09-82c5-553dda3bc293",
        "colab": {
          "base_uri": "https://localhost:8080/",
          "height": 84
        }
      },
      "source": [
        "# Character 3-grams\n",
        "run_model(train_90texts, test_90texts, 'train_90texts', 'test_90texts', 'character 3-grams')"
      ],
      "execution_count": 0,
      "outputs": [
        {
          "output_type": "stream",
          "text": [
            "100%|██████████| 7/7 [17:59<00:00, 154.28s/it]\n"
          ],
          "name": "stderr"
        },
        {
          "output_type": "stream",
          "text": [
            "\n",
            "Train accuracy: 0.4875\n",
            "Test accuracy: 0.5\n"
          ],
          "name": "stdout"
        }
      ]
    },
    {
      "cell_type": "code",
      "metadata": {
        "id": "SYnWe7Myq28L",
        "colab_type": "code",
        "outputId": "32f6c357-ffd1-4a94-ddd0-e4d52a6f03d9",
        "colab": {
          "base_uri": "https://localhost:8080/",
          "height": 84
        }
      },
      "source": [
        "# Character 4-grams\n",
        "run_model(train_90texts, test_90texts, 'train_90texts', 'test_90texts', 'character 4-grams')"
      ],
      "execution_count": 0,
      "outputs": [
        {
          "output_type": "stream",
          "text": [
            "100%|██████████| 7/7 [21:57<00:00, 188.17s/it]\n"
          ],
          "name": "stderr"
        },
        {
          "output_type": "stream",
          "text": [
            "\n",
            "Train accuracy: 0.5875\n",
            "Test accuracy: 0.5\n"
          ],
          "name": "stdout"
        }
      ]
    },
    {
      "cell_type": "code",
      "metadata": {
        "id": "nNa8OyYIG3eU",
        "colab_type": "code",
        "outputId": "ee296d63-64d2-4aaf-b1c5-d0e1a23c8333",
        "colab": {
          "base_uri": "https://localhost:8080/",
          "height": 84
        }
      },
      "source": [
        "# Character 5-grams\n",
        "run_model(train_90texts, test_90texts, 'train_90texts', 'test_90texts', 'character 5-grams')"
      ],
      "execution_count": 0,
      "outputs": [
        {
          "output_type": "stream",
          "text": [
            "100%|██████████| 7/7 [23:02<00:00, 197.52s/it]\n"
          ],
          "name": "stderr"
        },
        {
          "output_type": "stream",
          "text": [
            "\n",
            "Train accuracy: 0.5625\n",
            "Test accuracy: 0.5\n"
          ],
          "name": "stdout"
        }
      ]
    },
    {
      "cell_type": "code",
      "metadata": {
        "id": "lWtzoveAPf7V",
        "colab_type": "code",
        "outputId": "d5c55324-d5aa-4a20-d88e-27f29dabf44e",
        "colab": {
          "base_uri": "https://localhost:8080/",
          "height": 84
        }
      },
      "source": [
        "# Character 6-grams\n",
        "run_model(train_90texts, test_90texts, 'train_90texts', 'test_90texts','character 6-grams')"
      ],
      "execution_count": 0,
      "outputs": [
        {
          "output_type": "stream",
          "text": [
            "100%|██████████| 7/7 [23:43<00:00, 203.32s/it]\n"
          ],
          "name": "stderr"
        },
        {
          "output_type": "stream",
          "text": [
            "\n",
            "Train accuracy: 0.5625\n",
            "Test accuracy: 0.5\n"
          ],
          "name": "stdout"
        }
      ]
    },
    {
      "cell_type": "code",
      "metadata": {
        "id": "-Z_N3NAzYGK8",
        "colab_type": "code",
        "outputId": "ac2d21a1-5eae-458a-8aa8-003f296ba25c",
        "colab": {
          "base_uri": "https://localhost:8080/",
          "height": 84
        }
      },
      "source": [
        "# Character 7-grams\n",
        "run_model(train_90texts, test_90texts, 'train_90texts', 'test_90texts', 'character 7-grams')"
      ],
      "execution_count": 0,
      "outputs": [
        {
          "output_type": "stream",
          "text": [
            "100%|██████████| 7/7 [24:35<00:00, 210.78s/it]\n"
          ],
          "name": "stderr"
        },
        {
          "output_type": "stream",
          "text": [
            "\n",
            "Train accuracy: 0.5875\n",
            "Test accuracy: 0.5\n"
          ],
          "name": "stdout"
        }
      ]
    },
    {
      "cell_type": "code",
      "metadata": {
        "id": "_3j8pbYChcsY",
        "colab_type": "code",
        "outputId": "be76d76b-271d-4203-bad1-dd2a1da07080",
        "colab": {
          "base_uri": "https://localhost:8080/",
          "height": 84
        }
      },
      "source": [
        "# Character 8-grams\n",
        "run_model(train_90texts, test_90texts, 'train_90texts', 'test_90texts', 'character 8-grams')"
      ],
      "execution_count": 0,
      "outputs": [
        {
          "output_type": "stream",
          "text": [
            "100%|██████████| 7/7 [24:33<00:00, 210.48s/it]\n"
          ],
          "name": "stderr"
        },
        {
          "output_type": "stream",
          "text": [
            "\n",
            "Train accuracy: 0.65\n",
            "Test accuracy: 0.55\n"
          ],
          "name": "stdout"
        }
      ]
    },
    {
      "cell_type": "code",
      "metadata": {
        "id": "CNX5Ld1qrbOt",
        "colab_type": "code",
        "outputId": "94d20cdf-c5cb-4e36-836c-3f31e802de10",
        "colab": {
          "base_uri": "https://localhost:8080/",
          "height": 84
        }
      },
      "source": [
        "# Character 9-grams\n",
        "run_model(train_90texts, test_90texts, 'train_90texts', 'test_90texts', 'character 9-grams')"
      ],
      "execution_count": 0,
      "outputs": [
        {
          "output_type": "stream",
          "text": [
            "100%|██████████| 7/7 [24:58<00:00, 214.12s/it]\n"
          ],
          "name": "stderr"
        },
        {
          "output_type": "stream",
          "text": [
            "\n",
            "Train accuracy: 0.65\n",
            "Test accuracy: 0.5\n"
          ],
          "name": "stdout"
        }
      ]
    },
    {
      "cell_type": "code",
      "metadata": {
        "id": "gmEDA4kq1AuI",
        "colab_type": "code",
        "outputId": "5fc24927-afba-4044-a71d-3f7657b5ad9d",
        "colab": {
          "base_uri": "https://localhost:8080/",
          "height": 84
        }
      },
      "source": [
        "# Character 10-grams\n",
        "run_model(train_90texts, test_90texts, 'train_90texts', 'test_90texts', 'character 10-grams')"
      ],
      "execution_count": 0,
      "outputs": [
        {
          "output_type": "stream",
          "text": [
            "100%|██████████| 7/7 [24:59<00:00, 214.17s/it]\n"
          ],
          "name": "stderr"
        },
        {
          "output_type": "stream",
          "text": [
            "\n",
            "Train accuracy: 0.675\n",
            "Test accuracy: 0.5\n"
          ],
          "name": "stdout"
        }
      ]
    },
    {
      "cell_type": "markdown",
      "metadata": {
        "id": "ouohReLfAYqD",
        "colab_type": "text"
      },
      "source": [
        "# 400 texts"
      ]
    },
    {
      "cell_type": "code",
      "metadata": {
        "id": "HltV54ZyAV0A",
        "colab_type": "code",
        "outputId": "baf2638a-7037-4e15-8cdc-ca945bfbffb5",
        "colab": {
          "base_uri": "https://localhost:8080/",
          "height": 84
        }
      },
      "source": [
        "# word_unigrams\n",
        "run_model(train_400texts, test_400texts, 'train_400texts', 'test_400texts', 'word_unigrams')"
      ],
      "execution_count": 0,
      "outputs": [
        {
          "output_type": "stream",
          "text": [
            "100%|██████████| 7/7 [02:38<00:00, 22.60s/it]\n"
          ],
          "name": "stderr"
        },
        {
          "output_type": "stream",
          "text": [
            "\n",
            "Train accuracy: 0.4875\n",
            "Test accuracy: 0.5\n"
          ],
          "name": "stdout"
        }
      ]
    },
    {
      "cell_type": "code",
      "metadata": {
        "id": "Dl3inw3RYz8P",
        "colab_type": "code",
        "outputId": "f5f031fb-8c00-4eac-d5cf-b29c7b74cf48",
        "colab": {
          "base_uri": "https://localhost:8080/",
          "height": 84
        }
      },
      "source": [
        "# word_bigrams\n",
        "run_model(train_400texts, test_400texts, 'train_400texts', 'test_400texts', 'word_bigrams')"
      ],
      "execution_count": 0,
      "outputs": [
        {
          "output_type": "stream",
          "text": [
            "100%|██████████| 7/7 [03:06<00:00, 26.66s/it]\n"
          ],
          "name": "stderr"
        },
        {
          "output_type": "stream",
          "text": [
            "\n",
            "Train accuracy: 0.6625\n",
            "Test accuracy: 0.5\n"
          ],
          "name": "stdout"
        }
      ]
    },
    {
      "cell_type": "code",
      "metadata": {
        "id": "kVyptMlhY7_e",
        "colab_type": "code",
        "outputId": "1d997c42-4812-4848-bc9f-245e849e94b7",
        "colab": {
          "base_uri": "https://localhost:8080/",
          "height": 84
        }
      },
      "source": [
        "# word_trigrams\n",
        "run_model(train_400texts, test_400texts, 'train_400texts', 'test_400texts', 'word_trigrams')"
      ],
      "execution_count": 0,
      "outputs": [
        {
          "output_type": "stream",
          "text": [
            "100%|██████████| 7/7 [03:07<00:00, 26.80s/it]\n"
          ],
          "name": "stderr"
        },
        {
          "output_type": "stream",
          "text": [
            "\n",
            "Train accuracy: 0.575\n",
            "Test accuracy: 0.5\n"
          ],
          "name": "stdout"
        }
      ]
    },
    {
      "cell_type": "code",
      "metadata": {
        "id": "I5OA6XxiZCwC",
        "colab_type": "code",
        "outputId": "fb8af77e-6ebc-4337-fabd-6acd72c018ec",
        "colab": {
          "base_uri": "https://localhost:8080/",
          "height": 84
        }
      },
      "source": [
        "# character 3-grams\n",
        "run_model(train_400texts, test_400texts, 'train_400texts', 'test_400texts', 'character 3-grams')"
      ],
      "execution_count": 0,
      "outputs": [
        {
          "output_type": "stream",
          "text": [
            "100%|██████████| 7/7 [17:45<00:00, 152.19s/it]\n"
          ],
          "name": "stderr"
        },
        {
          "output_type": "stream",
          "text": [
            "\n",
            "Train accuracy: 0.5\n",
            "Test accuracy: 0.5\n"
          ],
          "name": "stdout"
        }
      ]
    },
    {
      "cell_type": "code",
      "metadata": {
        "id": "4xIwYmucZLSx",
        "colab_type": "code",
        "outputId": "ac3973bf-861c-4cb2-c40a-47fc481c4489",
        "colab": {
          "base_uri": "https://localhost:8080/",
          "height": 84
        }
      },
      "source": [
        "# character 4-grams\n",
        "run_model(train_400texts, test_400texts, 'train_400texts', 'test_400texts', 'character 4-grams')"
      ],
      "execution_count": 0,
      "outputs": [
        {
          "output_type": "stream",
          "text": [
            "100%|██████████| 7/7 [21:46<00:00, 186.60s/it]\n"
          ],
          "name": "stderr"
        },
        {
          "output_type": "stream",
          "text": [
            "\n",
            "Train accuracy: 0.5\n",
            "Test accuracy: 0.5\n"
          ],
          "name": "stdout"
        }
      ]
    },
    {
      "cell_type": "code",
      "metadata": {
        "id": "_FBbI3vBZRl0",
        "colab_type": "code",
        "outputId": "c3783f60-8bfe-4c10-bc61-fe06c3c91ad8",
        "colab": {
          "base_uri": "https://localhost:8080/",
          "height": 84
        }
      },
      "source": [
        "# character 5-grams\n",
        "run_model(train_400texts, test_400texts, 'train_400texts', 'test_400texts', 'character 5-grams')"
      ],
      "execution_count": 0,
      "outputs": [
        {
          "output_type": "stream",
          "text": [
            "100%|██████████| 7/7 [23:07<00:00, 198.23s/it]\n"
          ],
          "name": "stderr"
        },
        {
          "output_type": "stream",
          "text": [
            "\n",
            "Train accuracy: 0.525\n",
            "Test accuracy: 0.45\n"
          ],
          "name": "stdout"
        }
      ]
    },
    {
      "cell_type": "code",
      "metadata": {
        "id": "08PEABVlFMZ_",
        "colab_type": "code",
        "colab": {}
      },
      "source": [
        "back_up(d, labels_train, confidences_train, labels_test, confidences_test, accs_train, accs_test)"
      ],
      "execution_count": 0,
      "outputs": []
    },
    {
      "cell_type": "code",
      "metadata": {
        "id": "-I9GXqKdJ96N",
        "colab_type": "code",
        "colab": {}
      },
      "source": [
        "# character 6-grams\n",
        "run_model(train_400texts, test_400texts, 'train_400texts', 'test_400texts', 'character 6-grams')\n",
        "back_up(d, labels_train, confidences_train, labels_test, confidences_test, accs_train, accs_test)"
      ],
      "execution_count": 0,
      "outputs": []
    },
    {
      "cell_type": "code",
      "metadata": {
        "id": "us23kIBHKRxd",
        "colab_type": "code",
        "colab": {}
      },
      "source": [
        "# character 7-grams\n",
        "run_model(train_400texts, test_400texts, 'train_400texts', 'test_400texts','character 7-grams')\n",
        "back_up(d, labels_train, confidences_train, labels_test, confidences_test, accs_train, accs_test)"
      ],
      "execution_count": 0,
      "outputs": []
    },
    {
      "cell_type": "code",
      "metadata": {
        "id": "CyV5iCt9KVCy",
        "colab_type": "code",
        "colab": {}
      },
      "source": [
        "# Character 8-grams\n",
        "run_model(train_400texts, test_400texts, 'train_400texts', 'test_400texts','character 8-grams')\n",
        "back_up(d, labels_train, confidences_train, labels_test, confidences_test, accs_train, accs_test)"
      ],
      "execution_count": 0,
      "outputs": []
    },
    {
      "cell_type": "code",
      "metadata": {
        "id": "wt8iAVUxKXJE",
        "colab_type": "code",
        "colab": {}
      },
      "source": [
        "# character 9-grams\n",
        "run_model(train_400texts, test_400texts, 'train_400texts', 'test_400texts','character 9-grams')\n",
        "back_up(d, labels_train, confidences_train, labels_test, confidences_test, accs_train, accs_test)"
      ],
      "execution_count": 0,
      "outputs": []
    },
    {
      "cell_type": "code",
      "metadata": {
        "id": "_f7yE7YCKYTU",
        "colab_type": "code",
        "colab": {}
      },
      "source": [
        "# character 10-grams\n",
        "run_model(train_400texts, test_400texts, 'train_400texts', 'test_400texts', 'character 10-grams')\n",
        "back_up(d, labels_train, confidences_train, labels_test, confidences_test, accs_train, accs_test)"
      ],
      "execution_count": 0,
      "outputs": []
    },
    {
      "cell_type": "code",
      "metadata": {
        "id": "o4pMo9B8vdJF",
        "colab_type": "code",
        "colab": {
          "base_uri": "https://localhost:8080/",
          "height": 34
        },
        "outputId": "4b78ef8c-adca-471e-b9d4-e932157b514e"
      },
      "source": [
        "fake = EnsambleClassifier([], [], [], ['HL', 'FL'])\n",
        "y_train = train_90texts['language_background']\n",
        "y_test = test_90texts['language_background']\n",
        "major_train = EnsambleClassifier.majority_vote(labels_train)\n",
        "major_test = EnsambleClassifier.majority_vote(labels_test)\n",
        "\n",
        "print('Overall Accuracy on train: {}.  Overall accuracy on test: {}.'.format(accuracy_score(y_train, major_train), accuracy_score(y_test, major_test)))"
      ],
      "execution_count": 104,
      "outputs": [
        {
          "output_type": "stream",
          "text": [
            "Overall Accuracy on train: 0.6125.  Overall accuracy on test: 0.5.\n"
          ],
          "name": "stdout"
        }
      ]
    },
    {
      "cell_type": "code",
      "metadata": {
        "id": "1L84KG8Lr0Iv",
        "colab_type": "code",
        "colab": {
          "base_uri": "https://localhost:8080/",
          "height": 1000
        },
        "outputId": "760d2248-dbab-4e03-c854-39737cb9bbaa"
      },
      "source": [
        "results = pd.DataFrame(columns=['Train/Test', 'Text length', 'Profile length', 'Profile type', 'Accuracy score'])\n",
        "results['Train/Test'] = ['train' for el in accs_train] + ['test' for el in accs_test]\n",
        "results['Text length'] = [key.split('_')[1] for key in accs_train.keys()] + [key.split('_')[1] for key in accs_test.keys()]\n",
        "results['Profile length'] = [key[-8:] for key in accs_train.keys()] + [key[-8:] for key in accs_test.keys()]\n",
        "results['Profile type'] = ['word' if 'word' in key else 'character' for key in accs_train.keys()] + ['word' if 'word' in key else 'character' for key in accs_test.keys()]\n",
        "results['Accuracy score'] = [value for key, value in accs_train.items()] + [value for key, value in accs_test.items()]\n",
        "\n",
        "results['Profile length'] = results['Profile length'].apply(lambda x: x[1:] if x.startswith('_') else x)\n",
        "\n",
        "pd.set_option('display.max_rows', 100) \n",
        "results"
      ],
      "execution_count": 101,
      "outputs": [
        {
          "output_type": "execute_result",
          "data": {
            "text/html": [
              "<div>\n",
              "<style scoped>\n",
              "    .dataframe tbody tr th:only-of-type {\n",
              "        vertical-align: middle;\n",
              "    }\n",
              "\n",
              "    .dataframe tbody tr th {\n",
              "        vertical-align: top;\n",
              "    }\n",
              "\n",
              "    .dataframe thead th {\n",
              "        text-align: right;\n",
              "    }\n",
              "</style>\n",
              "<table border=\"1\" class=\"dataframe\">\n",
              "  <thead>\n",
              "    <tr style=\"text-align: right;\">\n",
              "      <th></th>\n",
              "      <th>Train/Test</th>\n",
              "      <th>Text length</th>\n",
              "      <th>Profile length</th>\n",
              "      <th>Profile type</th>\n",
              "      <th>Accuracy score</th>\n",
              "    </tr>\n",
              "  </thead>\n",
              "  <tbody>\n",
              "    <tr>\n",
              "      <th>0</th>\n",
              "      <td>train</td>\n",
              "      <td>90texts</td>\n",
              "      <td>unigrams</td>\n",
              "      <td>word</td>\n",
              "      <td>0.4875</td>\n",
              "    </tr>\n",
              "    <tr>\n",
              "      <th>1</th>\n",
              "      <td>train</td>\n",
              "      <td>90texts</td>\n",
              "      <td>bigrams</td>\n",
              "      <td>word</td>\n",
              "      <td>0.6750</td>\n",
              "    </tr>\n",
              "    <tr>\n",
              "      <th>2</th>\n",
              "      <td>train</td>\n",
              "      <td>90texts</td>\n",
              "      <td>trigrams</td>\n",
              "      <td>word</td>\n",
              "      <td>0.6000</td>\n",
              "    </tr>\n",
              "    <tr>\n",
              "      <th>3</th>\n",
              "      <td>train</td>\n",
              "      <td>90texts</td>\n",
              "      <td>3-grams</td>\n",
              "      <td>character</td>\n",
              "      <td>0.4875</td>\n",
              "    </tr>\n",
              "    <tr>\n",
              "      <th>4</th>\n",
              "      <td>train</td>\n",
              "      <td>90texts</td>\n",
              "      <td>4-grams</td>\n",
              "      <td>character</td>\n",
              "      <td>0.5875</td>\n",
              "    </tr>\n",
              "    <tr>\n",
              "      <th>5</th>\n",
              "      <td>train</td>\n",
              "      <td>90texts</td>\n",
              "      <td>5-grams</td>\n",
              "      <td>character</td>\n",
              "      <td>0.5625</td>\n",
              "    </tr>\n",
              "    <tr>\n",
              "      <th>6</th>\n",
              "      <td>train</td>\n",
              "      <td>90texts</td>\n",
              "      <td>6-grams</td>\n",
              "      <td>character</td>\n",
              "      <td>0.5625</td>\n",
              "    </tr>\n",
              "    <tr>\n",
              "      <th>7</th>\n",
              "      <td>train</td>\n",
              "      <td>90texts</td>\n",
              "      <td>7-grams</td>\n",
              "      <td>character</td>\n",
              "      <td>0.5875</td>\n",
              "    </tr>\n",
              "    <tr>\n",
              "      <th>8</th>\n",
              "      <td>train</td>\n",
              "      <td>90texts</td>\n",
              "      <td>8-grams</td>\n",
              "      <td>character</td>\n",
              "      <td>0.6500</td>\n",
              "    </tr>\n",
              "    <tr>\n",
              "      <th>9</th>\n",
              "      <td>train</td>\n",
              "      <td>90texts</td>\n",
              "      <td>9-grams</td>\n",
              "      <td>character</td>\n",
              "      <td>0.6500</td>\n",
              "    </tr>\n",
              "    <tr>\n",
              "      <th>10</th>\n",
              "      <td>train</td>\n",
              "      <td>90texts</td>\n",
              "      <td>10-grams</td>\n",
              "      <td>character</td>\n",
              "      <td>0.6750</td>\n",
              "    </tr>\n",
              "    <tr>\n",
              "      <th>11</th>\n",
              "      <td>train</td>\n",
              "      <td>400texts</td>\n",
              "      <td>unigrams</td>\n",
              "      <td>word</td>\n",
              "      <td>0.4875</td>\n",
              "    </tr>\n",
              "    <tr>\n",
              "      <th>12</th>\n",
              "      <td>train</td>\n",
              "      <td>400texts</td>\n",
              "      <td>bigrams</td>\n",
              "      <td>word</td>\n",
              "      <td>0.6625</td>\n",
              "    </tr>\n",
              "    <tr>\n",
              "      <th>13</th>\n",
              "      <td>train</td>\n",
              "      <td>400texts</td>\n",
              "      <td>trigrams</td>\n",
              "      <td>word</td>\n",
              "      <td>0.5750</td>\n",
              "    </tr>\n",
              "    <tr>\n",
              "      <th>14</th>\n",
              "      <td>train</td>\n",
              "      <td>400texts</td>\n",
              "      <td>3-grams</td>\n",
              "      <td>character</td>\n",
              "      <td>0.5000</td>\n",
              "    </tr>\n",
              "    <tr>\n",
              "      <th>15</th>\n",
              "      <td>train</td>\n",
              "      <td>400texts</td>\n",
              "      <td>4-grams</td>\n",
              "      <td>character</td>\n",
              "      <td>0.5000</td>\n",
              "    </tr>\n",
              "    <tr>\n",
              "      <th>16</th>\n",
              "      <td>train</td>\n",
              "      <td>400texts</td>\n",
              "      <td>5-grams</td>\n",
              "      <td>character</td>\n",
              "      <td>0.5250</td>\n",
              "    </tr>\n",
              "    <tr>\n",
              "      <th>17</th>\n",
              "      <td>test</td>\n",
              "      <td>90texts</td>\n",
              "      <td>unigrams</td>\n",
              "      <td>word</td>\n",
              "      <td>0.5000</td>\n",
              "    </tr>\n",
              "    <tr>\n",
              "      <th>18</th>\n",
              "      <td>test</td>\n",
              "      <td>90texts</td>\n",
              "      <td>bigrams</td>\n",
              "      <td>word</td>\n",
              "      <td>0.4500</td>\n",
              "    </tr>\n",
              "    <tr>\n",
              "      <th>19</th>\n",
              "      <td>test</td>\n",
              "      <td>90texts</td>\n",
              "      <td>trigrams</td>\n",
              "      <td>word</td>\n",
              "      <td>0.5500</td>\n",
              "    </tr>\n",
              "    <tr>\n",
              "      <th>20</th>\n",
              "      <td>test</td>\n",
              "      <td>90texts</td>\n",
              "      <td>3-grams</td>\n",
              "      <td>character</td>\n",
              "      <td>0.5000</td>\n",
              "    </tr>\n",
              "    <tr>\n",
              "      <th>21</th>\n",
              "      <td>test</td>\n",
              "      <td>90texts</td>\n",
              "      <td>4-grams</td>\n",
              "      <td>character</td>\n",
              "      <td>0.5000</td>\n",
              "    </tr>\n",
              "    <tr>\n",
              "      <th>22</th>\n",
              "      <td>test</td>\n",
              "      <td>90texts</td>\n",
              "      <td>5-grams</td>\n",
              "      <td>character</td>\n",
              "      <td>0.5000</td>\n",
              "    </tr>\n",
              "    <tr>\n",
              "      <th>23</th>\n",
              "      <td>test</td>\n",
              "      <td>90texts</td>\n",
              "      <td>6-grams</td>\n",
              "      <td>character</td>\n",
              "      <td>0.5000</td>\n",
              "    </tr>\n",
              "    <tr>\n",
              "      <th>24</th>\n",
              "      <td>test</td>\n",
              "      <td>90texts</td>\n",
              "      <td>7-grams</td>\n",
              "      <td>character</td>\n",
              "      <td>0.5000</td>\n",
              "    </tr>\n",
              "    <tr>\n",
              "      <th>25</th>\n",
              "      <td>test</td>\n",
              "      <td>90texts</td>\n",
              "      <td>8-grams</td>\n",
              "      <td>character</td>\n",
              "      <td>0.5500</td>\n",
              "    </tr>\n",
              "    <tr>\n",
              "      <th>26</th>\n",
              "      <td>test</td>\n",
              "      <td>90texts</td>\n",
              "      <td>9-grams</td>\n",
              "      <td>character</td>\n",
              "      <td>0.5000</td>\n",
              "    </tr>\n",
              "    <tr>\n",
              "      <th>27</th>\n",
              "      <td>test</td>\n",
              "      <td>90texts</td>\n",
              "      <td>10-grams</td>\n",
              "      <td>character</td>\n",
              "      <td>0.5000</td>\n",
              "    </tr>\n",
              "    <tr>\n",
              "      <th>28</th>\n",
              "      <td>test</td>\n",
              "      <td>400texts</td>\n",
              "      <td>unigrams</td>\n",
              "      <td>word</td>\n",
              "      <td>0.5000</td>\n",
              "    </tr>\n",
              "    <tr>\n",
              "      <th>29</th>\n",
              "      <td>test</td>\n",
              "      <td>400texts</td>\n",
              "      <td>bigrams</td>\n",
              "      <td>word</td>\n",
              "      <td>0.5000</td>\n",
              "    </tr>\n",
              "    <tr>\n",
              "      <th>30</th>\n",
              "      <td>test</td>\n",
              "      <td>400texts</td>\n",
              "      <td>trigrams</td>\n",
              "      <td>word</td>\n",
              "      <td>0.5000</td>\n",
              "    </tr>\n",
              "    <tr>\n",
              "      <th>31</th>\n",
              "      <td>test</td>\n",
              "      <td>400texts</td>\n",
              "      <td>3-grams</td>\n",
              "      <td>character</td>\n",
              "      <td>0.5000</td>\n",
              "    </tr>\n",
              "    <tr>\n",
              "      <th>32</th>\n",
              "      <td>test</td>\n",
              "      <td>400texts</td>\n",
              "      <td>4-grams</td>\n",
              "      <td>character</td>\n",
              "      <td>0.5000</td>\n",
              "    </tr>\n",
              "    <tr>\n",
              "      <th>33</th>\n",
              "      <td>test</td>\n",
              "      <td>400texts</td>\n",
              "      <td>5-grams</td>\n",
              "      <td>character</td>\n",
              "      <td>0.4500</td>\n",
              "    </tr>\n",
              "  </tbody>\n",
              "</table>\n",
              "</div>"
            ],
            "text/plain": [
              "   Train/Test Text length Profile length Profile type  Accuracy score\n",
              "0       train     90texts       unigrams         word          0.4875\n",
              "1       train     90texts        bigrams         word          0.6750\n",
              "2       train     90texts       trigrams         word          0.6000\n",
              "3       train     90texts        3-grams    character          0.4875\n",
              "4       train     90texts        4-grams    character          0.5875\n",
              "5       train     90texts        5-grams    character          0.5625\n",
              "6       train     90texts        6-grams    character          0.5625\n",
              "7       train     90texts        7-grams    character          0.5875\n",
              "8       train     90texts        8-grams    character          0.6500\n",
              "9       train     90texts        9-grams    character          0.6500\n",
              "10      train     90texts       10-grams    character          0.6750\n",
              "11      train    400texts       unigrams         word          0.4875\n",
              "12      train    400texts        bigrams         word          0.6625\n",
              "13      train    400texts       trigrams         word          0.5750\n",
              "14      train    400texts        3-grams    character          0.5000\n",
              "15      train    400texts        4-grams    character          0.5000\n",
              "16      train    400texts        5-grams    character          0.5250\n",
              "17       test     90texts       unigrams         word          0.5000\n",
              "18       test     90texts        bigrams         word          0.4500\n",
              "19       test     90texts       trigrams         word          0.5500\n",
              "20       test     90texts        3-grams    character          0.5000\n",
              "21       test     90texts        4-grams    character          0.5000\n",
              "22       test     90texts        5-grams    character          0.5000\n",
              "23       test     90texts        6-grams    character          0.5000\n",
              "24       test     90texts        7-grams    character          0.5000\n",
              "25       test     90texts        8-grams    character          0.5500\n",
              "26       test     90texts        9-grams    character          0.5000\n",
              "27       test     90texts       10-grams    character          0.5000\n",
              "28       test    400texts       unigrams         word          0.5000\n",
              "29       test    400texts        bigrams         word          0.5000\n",
              "30       test    400texts       trigrams         word          0.5000\n",
              "31       test    400texts        3-grams    character          0.5000\n",
              "32       test    400texts        4-grams    character          0.5000\n",
              "33       test    400texts        5-grams    character          0.4500"
            ]
          },
          "metadata": {
            "tags": []
          },
          "execution_count": 101
        }
      ]
    }
  ]
}