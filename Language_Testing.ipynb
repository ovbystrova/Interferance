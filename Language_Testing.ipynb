{
  "nbformat": 4,
  "nbformat_minor": 0,
  "metadata": {
    "colab": {
      "name": "Language_Testing.ipynb",
      "provenance": [],
      "collapsed_sections": [
        "DqmDIaIn8cBk"
      ],
      "toc_visible": true,
      "include_colab_link": true
    },
    "kernelspec": {
      "name": "python3",
      "display_name": "Python 3"
    },
    "accelerator": "GPU"
  },
  "cells": [
    {
      "cell_type": "markdown",
      "metadata": {
        "id": "view-in-github",
        "colab_type": "text"
      },
      "source": [
        "<a href=\"https://colab.research.google.com/github/ovbystrova/Interference/blob/master/Language_Testing.ipynb\" target=\"_parent\"><img src=\"https://colab.research.google.com/assets/colab-badge.svg\" alt=\"Open In Colab\"/></a>"
      ]
    },
    {
      "cell_type": "code",
      "metadata": {
        "id": "XcVv-mo3gDOf",
        "colab_type": "code",
        "colab": {}
      },
      "source": [
        "from modules.preprocessing import get_dataset, balanced_datasets\n",
        "from modules.distances import distance, radius, radius_distance\n",
        "from modules.single_classifier import SingleClassifier\n",
        "from modules.ensamble_classifier import EnsambleClassifier\n",
        "from modules.ulits import softmax\n",
        "\n",
        "import pandas as pd\n",
        "from tqdm import tqdm\n",
        "from collections import Counter, defaultdict\n",
        "from sklearn.model_selection import train_test_split\n",
        "from sklearn.metrics import accuracy_score\n",
        "import re"
      ],
      "execution_count": 0,
      "outputs": []
    },
    {
      "cell_type": "code",
      "metadata": {
        "id": "ojVUDVrBqHwl",
        "colab_type": "code",
        "outputId": "e6c42b4f-2b7f-4fd0-df0a-7ffc55e5c7dc",
        "colab": {
          "base_uri": "https://localhost:8080/",
          "height": 289
        }
      },
      "source": [
        "!wget https://github.com/ovbystrova/Interference/raw/master/data/original_texts.csv"
      ],
      "execution_count": 2,
      "outputs": [
        {
          "output_type": "stream",
          "text": [
            "--2020-03-28 11:13:26--  https://github.com/ovbystrova/Interference/raw/master/data/original_texts.csv\n",
            "Resolving github.com (github.com)... 192.30.255.113\n",
            "Connecting to github.com (github.com)|192.30.255.113|:443... connected.\n",
            "HTTP request sent, awaiting response... 302 Found\n",
            "Location: https://raw.githubusercontent.com/ovbystrova/Interference/master/data/original_texts.csv [following]\n",
            "--2020-03-28 11:13:26--  https://raw.githubusercontent.com/ovbystrova/Interference/master/data/original_texts.csv\n",
            "Resolving raw.githubusercontent.com (raw.githubusercontent.com)... 151.101.0.133, 151.101.64.133, 151.101.128.133, ...\n",
            "Connecting to raw.githubusercontent.com (raw.githubusercontent.com)|151.101.0.133|:443... connected.\n",
            "HTTP request sent, awaiting response... 200 OK\n",
            "Length: 18891291 (18M) [text/plain]\n",
            "Saving to: ‘original_texts.csv’\n",
            "\n",
            "original_texts.csv  100%[===================>]  18.02M  61.0MB/s    in 0.3s    \n",
            "\n",
            "2020-03-28 11:13:27 (61.0 MB/s) - ‘original_texts.csv’ saved [18891291/18891291]\n",
            "\n"
          ],
          "name": "stdout"
        }
      ]
    },
    {
      "cell_type": "code",
      "metadata": {
        "id": "lgg5Q89BceU1",
        "colab_type": "code",
        "outputId": "d693c5d1-6e23-407e-e9c6-675857d400df",
        "colab": {
          "base_uri": "https://localhost:8080/",
          "height": 51
        }
      },
      "source": [
        "df = get_dataset('/content/original_texts.csv')\n",
        "df_90texts, df_400texts = balanced_datasets(df)\n",
        "print(len(df_90texts), len(df_400texts))"
      ],
      "execution_count": 3,
      "outputs": [
        {
          "output_type": "stream",
          "text": [
            "100%|██████████| 8/8 [00:54<00:00,  6.83s/it]\n"
          ],
          "name": "stderr"
        },
        {
          "output_type": "stream",
          "text": [
            "810 1600\n"
          ],
          "name": "stdout"
        }
      ]
    },
    {
      "cell_type": "code",
      "metadata": {
        "id": "z2Jt9oDbUFDS",
        "colab_type": "code",
        "colab": {}
      },
      "source": [
        "N = 50"
      ],
      "execution_count": 0,
      "outputs": []
    },
    {
      "cell_type": "code",
      "metadata": {
        "id": "fccSG30gqjAA",
        "colab_type": "code",
        "colab": {}
      },
      "source": [
        "def clean_tqdm():\n",
        "    for instance in list(tqdm._instances): \n",
        "        tqdm._decr_instances(instance)\n",
        "\n",
        "def balanced_df90(df, size):\n",
        "    \"\"\"\n",
        "    balances df and truncates it to size parameter\n",
        "    \"\"\"\n",
        "    df_1 = df.loc[df['native'] == 'swe'][:size]\n",
        "    df_2 = df.loc[df['native'] == 'fr'][:size]\n",
        "    df_3 = df.loc[df['native'] == 'ita'][:size]\n",
        "    df_4 = df.loc[df['native'] == 'eng'][:size]\n",
        "    df_5 = df.loc[df['native'] == 'ger'][:size]\n",
        "    df_6 = df.loc[df['native'] == 'jap'][:size]\n",
        "    df_7 = df.loc[df['native'] == 'kor'][:size]\n",
        "    df_8 = df.loc[df['native'] == 'kaz'][:size]\n",
        "    df_9 = df.loc[df['native'] == 'fin'][:size]\n",
        "    df = pd.concat([df_1, df_2, df_3, df_4, df_5, df_6, df_7, df_8, df_9])\n",
        "    return df\n",
        "\n",
        "def balanced_df400(df, size):\n",
        "    \"\"\"\n",
        "    balances df and truncates it to size parameter\n",
        "    \"\"\"\n",
        "    df_1 = df.loc[df['native'] == 'eng'][:size]\n",
        "    df_2 = df.loc[df['native'] == 'jap'][:size]\n",
        "    df_3 = df.loc[df['native'] == 'kaz'][:size]\n",
        "    df_4 = df.loc[df['native'] == 'fin'][:size]\n",
        "    df = pd.concat([df_1, df_2, df_3, df_4])\n",
        "    return df\n",
        "\n",
        "# def balanced_df(df, size):\n",
        "#     \"\"\"\n",
        "#     balances df and truncates it to size parameter\n",
        "#     \"\"\"\n",
        "#     df_1 = df.loc[df['language_background'] == 'FL'][:size]\n",
        "#     df_2 = df.loc[df['language_background'] == 'HL'][:size]\n",
        "#     df = pd.concat([df_1, df_2])\n",
        "#     return df"
      ],
      "execution_count": 0,
      "outputs": []
    },
    {
      "cell_type": "code",
      "metadata": {
        "id": "kh_hz1-igcWS",
        "colab_type": "code",
        "colab": {}
      },
      "source": [
        "df_90_bal = balanced_df90(df_90texts, N)\n",
        "df_400_bal = balanced_df400(df_400texts, N)"
      ],
      "execution_count": 0,
      "outputs": []
    },
    {
      "cell_type": "code",
      "metadata": {
        "id": "rqNhEMOKqcXM",
        "colab_type": "code",
        "colab": {}
      },
      "source": [
        "train_90texts, test_90texts = train_test_split(df_90_bal, train_size=0.8,  random_state=42, stratify=df_90_bal['native'])\n",
        "train_400texts, test_400texts = train_test_split(df_400_bal, train_size=0.8, random_state=42, stratify=df_400_bal['native'])"
      ],
      "execution_count": 0,
      "outputs": []
    },
    {
      "cell_type": "code",
      "metadata": {
        "id": "6Ukr7hVyVdrD",
        "colab_type": "code",
        "outputId": "81648dd4-af87-4cde-b87d-e5eb0292a020",
        "colab": {
          "base_uri": "https://localhost:8080/",
          "height": 34
        }
      },
      "source": [
        "len(train_90texts), len(train_400texts), len(test_90texts), len(test_400texts)"
      ],
      "execution_count": 8,
      "outputs": [
        {
          "output_type": "execute_result",
          "data": {
            "text/plain": [
              "(360, 160, 90, 40)"
            ]
          },
          "metadata": {
            "tags": []
          },
          "execution_count": 8
        }
      ]
    },
    {
      "cell_type": "code",
      "metadata": {
        "id": "6F10qdelXGLr",
        "colab_type": "code",
        "colab": {}
      },
      "source": [
        "d = {}  # Тут будет словарь, куда запихиваем все после прогона ансамбля в виде датасет_параметр : y_pred\n",
        "labels_train = []  # Список предсказанных лейблов на тренировочной выборке для будущего major_votinga\n",
        "confidences_train = []  # Список уверенностей на тренировочной выборке для будущего confidence_summinga\n",
        "labels_test = []  # То же что и labels_train только для теста\n",
        "confidences_test = []  # То же что и confidences_train только для теста.\n",
        "\n",
        "accs_train = {}\n",
        "accs_test = {}\n",
        "\n",
        "\n",
        "def run_ensamble(df, hyperparam, train=True, ensamble=None):  \n",
        "    \"\"\"\n",
        "    Прогоняется ансамбль на тренировочной или тестовой выборке. Возвращает зипнутый результат и саму модель\n",
        "    \"\"\"  \n",
        "    clean_tqdm()\n",
        "    classes = list(df['native'].unique())\n",
        "    p_lengths = [200, 500, 1000, 1500, 2000, 2500, 3000]\n",
        "\n",
        "    y_true = list(df['native'])\n",
        "    profs = list(df[hyperparam])\n",
        "    \n",
        "    if train:\n",
        "        ensamble = EnsambleClassifier([profs], y_true, p_lengths, classes=classes)\n",
        "        y_pred = ensamble.forward_ensamble(confidence=True)\n",
        "    else:\n",
        "        y_pred = ensamble.forward_multiple(profs, confidence=True)\n",
        "    return  y_pred, ensamble\n",
        "\n",
        "def get_classes_confs(y_pred):\n",
        "    \"\"\"\n",
        "    анзипает классы и уверенности из зипнутого y_pred\n",
        "    \"\"\"\n",
        "    single = SingleClassifier([], [], 200, []) # пустышка\n",
        "    classes = single.only_classes(y_pred)\n",
        "    confs = single.only_distances(y_pred)\n",
        "    return classes, confs\n",
        "\n",
        "def run_model(df_train, df_test,  train_name, test_name, hyperparam, d=d):\n",
        "    \"\"\"\n",
        "    runs EnsambleClassifier on  given DataFrame (df) with give profiles (hyperparam)\n",
        "    \"\"\"\n",
        "\n",
        "    clean_tqdm()\n",
        "\n",
        "    y_train_pred, ensamble = run_ensamble(df_train, hyperparam, train=True, ensamble=None)\n",
        "    d['{}_{}'.format(train_name, hyperparam)] = y_train_pred\n",
        "\n",
        "    y_test_pred, ensamble = run_ensamble(df_test, hyperparam, train=False, ensamble=ensamble)\n",
        "    d['{}_{}'.format(test_name, hyperparam)] = y_train_pred\n",
        "\n",
        "    class_train, conf_train = get_classes_confs(y_train_pred)\n",
        "    class_test, conf_test = get_classes_confs(y_test_pred)\n",
        "\n",
        "    labels_train.append(class_train)\n",
        "    confidences_train.append(conf_train)\n",
        "    labels_test.append(class_test)\n",
        "    confidences_test.append(conf_test)\n",
        "\n",
        "    acc_training = accuracy_score(df_train['native'], class_train)\n",
        "    acc_testing = accuracy_score(df_test['native'], class_test)\n",
        "    accs_train['{}_{}'.format(train_name, hyperparam)] = acc_training\n",
        "    accs_test['{}_{}'.format(test_name, hyperparam)] = acc_testing\n",
        "    print()\n",
        "    print('Train accuracy: {}'.format(acc_training))\n",
        "    print('Test accuracy: {}'.format(acc_testing))"
      ],
      "execution_count": 0,
      "outputs": []
    },
    {
      "cell_type": "markdown",
      "metadata": {
        "id": "ZCTtwrwG09Co",
        "colab_type": "text"
      },
      "source": [
        "# 90 texts"
      ]
    },
    {
      "cell_type": "code",
      "metadata": {
        "id": "j5t0HRi_T9Wh",
        "colab_type": "code",
        "outputId": "a0745605-2c6f-4f61-878e-29202218c857",
        "colab": {
          "base_uri": "https://localhost:8080/",
          "height": 85
        }
      },
      "source": [
        "# word unigrams\n",
        "run_model(train_90texts,  test_90texts, 'train_90texts', 'test_90texts', 'word_unigrams')"
      ],
      "execution_count": 10,
      "outputs": [
        {
          "output_type": "stream",
          "text": [
            "100%|██████████| 7/7 [40:28<00:00, 346.88s/it]\n"
          ],
          "name": "stderr"
        },
        {
          "output_type": "stream",
          "text": [
            "\n",
            "Train accuracy: 0.3972222222222222\n",
            "Test accuracy: 0.4222222222222222\n"
          ],
          "name": "stdout"
        }
      ]
    },
    {
      "cell_type": "code",
      "metadata": {
        "id": "rZDvNZz8Wwaw",
        "colab_type": "code",
        "outputId": "d1b88b0d-53eb-46f8-ed49-f4bb92d19b34",
        "colab": {
          "base_uri": "https://localhost:8080/",
          "height": 85
        }
      },
      "source": [
        "# word bigrams\n",
        "run_model(train_90texts, test_90texts, 'train_90texts', 'test_90texts', 'word_bigrams')"
      ],
      "execution_count": 11,
      "outputs": [
        {
          "output_type": "stream",
          "text": [
            "100%|██████████| 7/7 [49:10<00:00, 421.43s/it]\n"
          ],
          "name": "stderr"
        },
        {
          "output_type": "stream",
          "text": [
            "\n",
            "Train accuracy: 0.5583333333333333\n",
            "Test accuracy: 0.5333333333333333\n"
          ],
          "name": "stdout"
        }
      ]
    },
    {
      "cell_type": "code",
      "metadata": {
        "id": "hxaQM2imiDWE",
        "colab_type": "code",
        "colab": {
          "base_uri": "https://localhost:8080/",
          "height": 85
        },
        "outputId": "1f91b49a-d032-4baa-b630-2ebc2501ff2e"
      },
      "source": [
        "# word trigrams\n",
        "run_model(train_90texts, test_90texts, 'train_90texts', 'test_90texts', 'word_trigrams')"
      ],
      "execution_count": 12,
      "outputs": [
        {
          "output_type": "stream",
          "text": [
            "100%|██████████| 7/7 [49:39<00:00, 425.59s/it]\n"
          ],
          "name": "stderr"
        },
        {
          "output_type": "stream",
          "text": [
            "\n",
            "Train accuracy: 0.5166666666666667\n",
            "Test accuracy: 0.4888888888888889\n"
          ],
          "name": "stdout"
        }
      ]
    },
    {
      "cell_type": "code",
      "metadata": {
        "id": "YJt9rK6kWH0i",
        "colab_type": "code",
        "colab": {
          "base_uri": "https://localhost:8080/",
          "height": 34
        },
        "outputId": "46e7bc45-9948-447c-aee5-d806fcf7062c"
      },
      "source": [
        " len(d)"
      ],
      "execution_count": 13,
      "outputs": [
        {
          "output_type": "execute_result",
          "data": {
            "text/plain": [
              "6"
            ]
          },
          "metadata": {
            "tags": []
          },
          "execution_count": 13
        }
      ]
    },
    {
      "cell_type": "code",
      "metadata": {
        "id": "SmJGI98KffJ1",
        "colab_type": "code",
        "colab": {
          "base_uri": "https://localhost:8080/",
          "height": 34
        },
        "outputId": "d77727ac-21be-4811-a2be-c9d0d7359401"
      },
      "source": [
        "len(labels_train), len(labels_test)"
      ],
      "execution_count": 14,
      "outputs": [
        {
          "output_type": "execute_result",
          "data": {
            "text/plain": [
              "(3, 3)"
            ]
          },
          "metadata": {
            "tags": []
          },
          "execution_count": 14
        }
      ]
    },
    {
      "cell_type": "code",
      "metadata": {
        "id": "7i7gCUKrfh-U",
        "colab_type": "code",
        "colab": {
          "base_uri": "https://localhost:8080/",
          "height": 34
        },
        "outputId": "3216c7a8-c8e2-446a-9021-b78646cd4ee6"
      },
      "source": [
        "len(confidences_train), len(confidences_test)"
      ],
      "execution_count": 15,
      "outputs": [
        {
          "output_type": "execute_result",
          "data": {
            "text/plain": [
              "(3, 3)"
            ]
          },
          "metadata": {
            "tags": []
          },
          "execution_count": 15
        }
      ]
    },
    {
      "cell_type": "code",
      "metadata": {
        "id": "VKmqAPr3gbos",
        "colab_type": "code",
        "colab": {}
      },
      "source": [
        "fake = EnsambleClassifier([], [], [], [])\n",
        "y_train = train_90texts['native']\n",
        "y_test = test_90texts['native']\n",
        "major_train = fake.majority_vote(labels_train)\n",
        "major_test = fake.majority_vote(labels_test)"
      ],
      "execution_count": 0,
      "outputs": []
    },
    {
      "cell_type": "code",
      "metadata": {
        "id": "yVSrwFT_hS7g",
        "colab_type": "code",
        "colab": {
          "base_uri": "https://localhost:8080/",
          "height": 34
        },
        "outputId": "9c8d14e3-6b0e-4564-af90-cb661e431431"
      },
      "source": [
        "accuracy_score(y_train, major_train)"
      ],
      "execution_count": 17,
      "outputs": [
        {
          "output_type": "execute_result",
          "data": {
            "text/plain": [
              "0.5277777777777778"
            ]
          },
          "metadata": {
            "tags": []
          },
          "execution_count": 17
        }
      ]
    },
    {
      "cell_type": "code",
      "metadata": {
        "id": "VwPMq64wWHTF",
        "colab_type": "code",
        "colab": {
          "base_uri": "https://localhost:8080/",
          "height": 34
        },
        "outputId": "d7098e3c-b242-4f14-e917-c247b9947c25"
      },
      "source": [
        "accuracy_score(y_test, major_test)"
      ],
      "execution_count": 18,
      "outputs": [
        {
          "output_type": "execute_result",
          "data": {
            "text/plain": [
              "0.5222222222222223"
            ]
          },
          "metadata": {
            "tags": []
          },
          "execution_count": 18
        }
      ]
    },
    {
      "cell_type": "code",
      "metadata": {
        "id": "ejLNW67diwsB",
        "colab_type": "code",
        "colab": {}
      },
      "source": [
        "# fake.confidence_summing(confidences_train)"
      ],
      "execution_count": 0,
      "outputs": []
    },
    {
      "cell_type": "markdown",
      "metadata": {
        "id": "vGjJCBmxjG9u",
        "colab_type": "text"
      },
      "source": [
        "## Character n-gram train takes too long to run it"
      ]
    },
    {
      "cell_type": "code",
      "metadata": {
        "id": "SYnWe7Myq28L",
        "colab_type": "code",
        "colab": {}
      },
      "source": [
        "# Character 4-grams\n",
        "# run_model(train_90texts, test_90texts, 'train_90texts', 'test_90texts', 'character 4-grams')"
      ],
      "execution_count": 0,
      "outputs": []
    },
    {
      "cell_type": "code",
      "metadata": {
        "id": "nNa8OyYIG3eU",
        "colab_type": "code",
        "colab": {}
      },
      "source": [
        "# Character 5-grams\n",
        "# run_model(train_90texts, 'train_90texts', 'character 5-grams')"
      ],
      "execution_count": 0,
      "outputs": []
    },
    {
      "cell_type": "code",
      "metadata": {
        "id": "lWtzoveAPf7V",
        "colab_type": "code",
        "colab": {}
      },
      "source": [
        "# Character 6-grams\n",
        "# run_model(train_90texts, 'train_90texts', 'character 6-grams')"
      ],
      "execution_count": 0,
      "outputs": []
    },
    {
      "cell_type": "code",
      "metadata": {
        "id": "-Z_N3NAzYGK8",
        "colab_type": "code",
        "colab": {}
      },
      "source": [
        "# Character 7-grams\n",
        "# run_model(train_90texts, 'train_90texts', 'character 7-grams')"
      ],
      "execution_count": 0,
      "outputs": []
    },
    {
      "cell_type": "code",
      "metadata": {
        "id": "_3j8pbYChcsY",
        "colab_type": "code",
        "colab": {}
      },
      "source": [
        "# Character 8-grams\n",
        "# run_model(train_90texts, 'train_90texts', 'character 8-grams')"
      ],
      "execution_count": 0,
      "outputs": []
    },
    {
      "cell_type": "code",
      "metadata": {
        "id": "CNX5Ld1qrbOt",
        "colab_type": "code",
        "colab": {}
      },
      "source": [
        "# Character 9-grams\n",
        "# run_model(train_90texts, 'train_90texts', 'character 9-grams')"
      ],
      "execution_count": 0,
      "outputs": []
    },
    {
      "cell_type": "code",
      "metadata": {
        "id": "gmEDA4kq1AuI",
        "colab_type": "code",
        "colab": {}
      },
      "source": [
        "# Character 10-grams\n",
        "# run_model(train_90texts, 'train_90texts', 'character 10-grams')"
      ],
      "execution_count": 0,
      "outputs": []
    },
    {
      "cell_type": "markdown",
      "metadata": {
        "id": "ouohReLfAYqD",
        "colab_type": "text"
      },
      "source": [
        "# df_400texts: 4 most frequent classes, each of length 50"
      ]
    },
    {
      "cell_type": "code",
      "metadata": {
        "id": "BuzwAGl_63IX",
        "colab_type": "code",
        "colab": {}
      },
      "source": [
        "labels_train = []  # Список предсказанных лейблов на тренировочной выборке для будущего major_votinga\n",
        "confidences_train = []  # Список уверенностей на тренировочной выборке для будущего confidence_summinga\n",
        "labels_test = []  # То же что и labels_train только для теста\n",
        "confidences_test = []  # То же что и confidences_train только для теста."
      ],
      "execution_count": 0,
      "outputs": []
    },
    {
      "cell_type": "code",
      "metadata": {
        "id": "HltV54ZyAV0A",
        "colab_type": "code",
        "colab": {
          "base_uri": "https://localhost:8080/",
          "height": 85
        },
        "outputId": "7fa8be04-9f34-4321-cafe-51636c1a7ba9"
      },
      "source": [
        "# word_unigrams\n",
        "run_model(train_400texts, test_400texts, 'train_400texts', 'test_400texts', 'word_unigrams')"
      ],
      "execution_count": 29,
      "outputs": [
        {
          "output_type": "stream",
          "text": [
            "100%|██████████| 7/7 [07:52<00:00, 67.55s/it]\n"
          ],
          "name": "stderr"
        },
        {
          "output_type": "stream",
          "text": [
            "\n",
            "Train accuracy: 0.6125\n",
            "Test accuracy: 0.7\n"
          ],
          "name": "stdout"
        }
      ]
    },
    {
      "cell_type": "code",
      "metadata": {
        "id": "Dl3inw3RYz8P",
        "colab_type": "code",
        "colab": {
          "base_uri": "https://localhost:8080/",
          "height": 85
        },
        "outputId": "bc59af7e-62b2-476a-d70a-63a4a223ff96"
      },
      "source": [
        "# word_bigrams\n",
        "run_model(train_400texts, test_400texts, 'train_400texts', 'test_400texts', 'word_bigrams')"
      ],
      "execution_count": 30,
      "outputs": [
        {
          "output_type": "stream",
          "text": [
            "100%|██████████| 7/7 [09:41<00:00, 83.06s/it]\n"
          ],
          "name": "stderr"
        },
        {
          "output_type": "stream",
          "text": [
            "\n",
            "Train accuracy: 0.69375\n",
            "Test accuracy: 0.75\n"
          ],
          "name": "stdout"
        }
      ]
    },
    {
      "cell_type": "code",
      "metadata": {
        "id": "kVyptMlhY7_e",
        "colab_type": "code",
        "colab": {
          "base_uri": "https://localhost:8080/",
          "height": 85
        },
        "outputId": "e8a37e5c-0af3-4017-c1a5-dc86499a4114"
      },
      "source": [
        "# word_trigrams\n",
        "run_model(train_400texts, test_400texts, 'train_400texts', 'test_400texts', 'word_trigrams')"
      ],
      "execution_count": 31,
      "outputs": [
        {
          "output_type": "stream",
          "text": [
            "100%|██████████| 7/7 [09:47<00:00, 83.90s/it]\n"
          ],
          "name": "stderr"
        },
        {
          "output_type": "stream",
          "text": [
            "\n",
            "Train accuracy: 0.60625\n",
            "Test accuracy: 0.7\n"
          ],
          "name": "stdout"
        }
      ]
    },
    {
      "cell_type": "code",
      "metadata": {
        "id": "J_KPFTQq4Jxd",
        "colab_type": "code",
        "colab": {}
      },
      "source": [
        "fake = EnsambleClassifier([], [], [], [])\n",
        "y_train = train_400texts['native']\n",
        "y_test = test_400texts['native']\n",
        "major_train = fake.majority_vote(labels_train)\n",
        "major_test = fake.majority_vote(labels_test)"
      ],
      "execution_count": 0,
      "outputs": []
    },
    {
      "cell_type": "code",
      "metadata": {
        "id": "ds1kGdi_4QtJ",
        "colab_type": "code",
        "colab": {
          "base_uri": "https://localhost:8080/",
          "height": 34
        },
        "outputId": "33ef2ed5-f3b0-4992-81a5-fc74ec3244bf"
      },
      "source": [
        "accuracy_score(y_train, major_train)"
      ],
      "execution_count": 33,
      "outputs": [
        {
          "output_type": "execute_result",
          "data": {
            "text/plain": [
              "0.68125"
            ]
          },
          "metadata": {
            "tags": []
          },
          "execution_count": 33
        }
      ]
    },
    {
      "cell_type": "code",
      "metadata": {
        "id": "uTT7IOxY4RyG",
        "colab_type": "code",
        "colab": {
          "base_uri": "https://localhost:8080/",
          "height": 34
        },
        "outputId": "80dcfcf6-a074-4ba8-c650-3081e621e9eb"
      },
      "source": [
        "accuracy_score(y_test, major_test)"
      ],
      "execution_count": 34,
      "outputs": [
        {
          "output_type": "execute_result",
          "data": {
            "text/plain": [
              "0.775"
            ]
          },
          "metadata": {
            "tags": []
          },
          "execution_count": 34
        }
      ]
    },
    {
      "cell_type": "code",
      "metadata": {
        "id": "v8ggtIS_4Zim",
        "colab_type": "code",
        "colab": {}
      },
      "source": [
        "# fake.confidence_summing(confidences_train)"
      ],
      "execution_count": 0,
      "outputs": []
    },
    {
      "cell_type": "code",
      "metadata": {
        "id": "J-W2QmIt48Wz",
        "colab_type": "code",
        "colab": {}
      },
      "source": [
        "accs_wrd = accs_train, accs_test"
      ],
      "execution_count": 0,
      "outputs": []
    },
    {
      "cell_type": "code",
      "metadata": {
        "id": "LBQBqYw_5nWd",
        "colab_type": "code",
        "colab": {
          "base_uri": "https://localhost:8080/",
          "height": 221
        },
        "outputId": "c9c64c47-965f-46f9-d0f6-8790d4a04ddb"
      },
      "source": [
        "accs_wrd"
      ],
      "execution_count": 37,
      "outputs": [
        {
          "output_type": "execute_result",
          "data": {
            "text/plain": [
              "({'train_400texts_word_bigrams': 0.69375,\n",
              "  'train_400texts_word_trigrams': 0.60625,\n",
              "  'train_400texts_word_unigrams': 0.6125,\n",
              "  'train_90texts_word_bigrams': 0.5583333333333333,\n",
              "  'train_90texts_word_trigrams': 0.5166666666666667,\n",
              "  'train_90texts_word_unigrams': 0.3972222222222222},\n",
              " {'test_400texts_word_bigrams': 0.75,\n",
              "  'test_400texts_word_trigrams': 0.7,\n",
              "  'test_400texts_word_unigrams': 0.7,\n",
              "  'test_90texts_word_bigrams': 0.5333333333333333,\n",
              "  'test_90texts_word_trigrams': 0.4888888888888889,\n",
              "  'test_90texts_word_unigrams': 0.4222222222222222})"
            ]
          },
          "metadata": {
            "tags": []
          },
          "execution_count": 37
        }
      ]
    },
    {
      "cell_type": "markdown",
      "metadata": {
        "id": "-fynsUxjemAn",
        "colab_type": "text"
      },
      "source": [
        "## no char n-gram training"
      ]
    },
    {
      "cell_type": "code",
      "metadata": {
        "id": "I5OA6XxiZCwC",
        "colab_type": "code",
        "colab": {}
      },
      "source": [
        "# character 3-grams\n",
        "# run_model(train_400texts, 'train_400texts', 'character 3-grams')"
      ],
      "execution_count": 0,
      "outputs": []
    },
    {
      "cell_type": "code",
      "metadata": {
        "id": "4xIwYmucZLSx",
        "colab_type": "code",
        "colab": {}
      },
      "source": [
        "# character 4-grams\n",
        "# run_model(train_400texts, 'train_400texts', 'character 4-grams')"
      ],
      "execution_count": 0,
      "outputs": []
    },
    {
      "cell_type": "code",
      "metadata": {
        "id": "_FBbI3vBZRl0",
        "colab_type": "code",
        "colab": {}
      },
      "source": [
        "# character 5-grams\n",
        "# run_model(train_400texts, 'train_400texts', 'character 5-grams')"
      ],
      "execution_count": 0,
      "outputs": []
    },
    {
      "cell_type": "code",
      "metadata": {
        "id": "-I9GXqKdJ96N",
        "colab_type": "code",
        "colab": {}
      },
      "source": [
        "# character 6-grams\n",
        "# run_model(train_400texts, 'train_400texts', 'character 6-grams')"
      ],
      "execution_count": 0,
      "outputs": []
    },
    {
      "cell_type": "code",
      "metadata": {
        "id": "us23kIBHKRxd",
        "colab_type": "code",
        "colab": {}
      },
      "source": [
        "# character 7-grams\n",
        "# run_model(train_400texts, 'train_400texts', 'character 7-grams')"
      ],
      "execution_count": 0,
      "outputs": []
    },
    {
      "cell_type": "code",
      "metadata": {
        "id": "CyV5iCt9KVCy",
        "colab_type": "code",
        "colab": {}
      },
      "source": [
        "# Character 8-grams\n",
        "# run_model(train_400texts, 'train_400texts', 'character 8-grams')"
      ],
      "execution_count": 0,
      "outputs": []
    },
    {
      "cell_type": "code",
      "metadata": {
        "id": "wt8iAVUxKXJE",
        "colab_type": "code",
        "colab": {}
      },
      "source": [
        "# character 9-grams\n",
        "# run_model(train_400texts, 'train_400texts', 'character 9-grams')"
      ],
      "execution_count": 0,
      "outputs": []
    },
    {
      "cell_type": "code",
      "metadata": {
        "id": "_f7yE7YCKYTU",
        "colab_type": "code",
        "colab": {}
      },
      "source": [
        "# character 10-grams\n",
        "# run_model(train_400texts, 'train_400texts', 'character 10-grams')"
      ],
      "execution_count": 0,
      "outputs": []
    },
    {
      "cell_type": "markdown",
      "metadata": {
        "id": "oIgq4ovoetKv",
        "colab_type": "text"
      },
      "source": [
        "## df_400texts: 4 most frequent classes, each of length 100"
      ]
    },
    {
      "cell_type": "code",
      "metadata": {
        "id": "gC_dMpYOoOnQ",
        "colab_type": "code",
        "colab": {}
      },
      "source": [
        "df_400_bal_100t = balanced_df400(df_400texts, N * 2)\n",
        "train_4cl_100t, test_4cl_100t = train_test_split(df_400_bal_100t, train_size=0.8, random_state=42, stratify=df_400_bal_100t['native'])"
      ],
      "execution_count": 0,
      "outputs": []
    },
    {
      "cell_type": "code",
      "metadata": {
        "id": "tZ3sqoB1odSc",
        "colab_type": "code",
        "colab": {
          "base_uri": "https://localhost:8080/",
          "height": 85
        },
        "outputId": "a98bbfea-4ea3-4c2a-ee39-d3b46dcdf925"
      },
      "source": [
        "# word unigrams\n",
        "run_model(train_4cl_100t, test_4cl_100t, 'train_100t', 'test_100t', 'word_unigrams')"
      ],
      "execution_count": 57,
      "outputs": [
        {
          "output_type": "stream",
          "text": [
            "100%|██████████| 7/7 [1:04:40<00:00, 554.31s/it]\n"
          ],
          "name": "stderr"
        },
        {
          "output_type": "stream",
          "text": [
            "\n",
            "Train accuracy: 0.646875\n",
            "Test accuracy: 0.7\n"
          ],
          "name": "stdout"
        }
      ]
    },
    {
      "cell_type": "code",
      "metadata": {
        "id": "B8-dccU-8kLS",
        "colab_type": "code",
        "colab": {
          "base_uri": "https://localhost:8080/",
          "height": 85
        },
        "outputId": "821d68f6-f0a4-4705-c513-c6f2bf6909c5"
      },
      "source": [
        "# word bigrams\n",
        "run_model(train_4cl_100t, test_4cl_100t, 'train_100t', 'test_100t', 'word_bigrams')"
      ],
      "execution_count": 70,
      "outputs": [
        {
          "output_type": "stream",
          "text": [
            "100%|██████████| 7/7 [1:17:52<00:00, 667.53s/it]\n"
          ],
          "name": "stderr"
        },
        {
          "output_type": "stream",
          "text": [
            "\n",
            "Train accuracy: 0.6375\n",
            "Test accuracy: 0.6375\n"
          ],
          "name": "stdout"
        }
      ]
    },
    {
      "cell_type": "markdown",
      "metadata": {
        "id": "37JPvgcSe2b7",
        "colab_type": "text"
      },
      "source": [
        "## df_400texts: 4 most frequent classes, each of length 75"
      ]
    },
    {
      "cell_type": "code",
      "metadata": {
        "id": "G1qUa4ljoqk3",
        "colab_type": "code",
        "colab": {}
      },
      "source": [
        "df_400_bal_75t = balanced_df400(df_400texts, int(N * 1.5))\n",
        "train_4cl_75t, test_4cl_75t = train_test_split(df_400_bal_75t, train_size=0.8, random_state=42, stratify=df_400_bal_75t['native'])"
      ],
      "execution_count": 0,
      "outputs": []
    },
    {
      "cell_type": "code",
      "metadata": {
        "id": "Kl_-HKs28cV4",
        "colab_type": "code",
        "colab": {
          "base_uri": "https://localhost:8080/",
          "height": 85
        },
        "outputId": "657d4f20-cabe-4078-b35a-96a59b528238"
      },
      "source": [
        "# word unigrams\n",
        "run_model(train_4cl_75t, test_4cl_75t, 'train_75t', 'test_75t', 'word_unigrams')"
      ],
      "execution_count": 63,
      "outputs": [
        {
          "output_type": "stream",
          "text": [
            "100%|██████████| 7/7 [28:18<00:00, 242.66s/it]\n"
          ],
          "name": "stderr"
        },
        {
          "output_type": "stream",
          "text": [
            "\n",
            "Train accuracy: 0.5541666666666667\n",
            "Test accuracy: 0.55\n"
          ],
          "name": "stdout"
        }
      ]
    },
    {
      "cell_type": "code",
      "metadata": {
        "id": "AM_2aG84fAQz",
        "colab_type": "code",
        "colab": {
          "base_uri": "https://localhost:8080/",
          "height": 85
        },
        "outputId": "5b9eeb5c-0c58-4ed7-897e-64185853e362"
      },
      "source": [
        "# word bigrams\n",
        "run_model(train_4cl_75t, test_4cl_75t, 'train_75t', 'test_75t', 'word_bigrams')"
      ],
      "execution_count": 78,
      "outputs": [
        {
          "output_type": "stream",
          "text": [
            "100%|██████████| 7/7 [32:31<00:00, 278.82s/it]\n"
          ],
          "name": "stderr"
        },
        {
          "output_type": "stream",
          "text": [
            "\n",
            "Train accuracy: 0.6541666666666667\n",
            "Test accuracy: 0.6166666666666667\n"
          ],
          "name": "stdout"
        }
      ]
    },
    {
      "cell_type": "markdown",
      "metadata": {
        "id": "Mu1TmEg-qvF6",
        "colab_type": "text"
      },
      "source": [
        "## Accuracy table"
      ]
    },
    {
      "cell_type": "code",
      "metadata": {
        "id": "YeEQR9dgJ6_J",
        "colab_type": "code",
        "colab": {}
      },
      "source": [
        "accs_dict = defaultdict(list)\n",
        "for key_set in accs_wrd:\n",
        "  for key in key_set:\n",
        "    if 'train' in key:\n",
        "      accs_dict['train/test mode'].append('train')\n",
        "    else:\n",
        "      accs_dict['train/test mode'].append('test')\n",
        "    cl_len = int(re.search('([0-9]+)', key).group())\n",
        "    if cl_len == 90:\n",
        "      cl_num = 9\n",
        "      cl_len = 50\n",
        "    elif cl_len == 400:\n",
        "      cl_num = 4\n",
        "      cl_len = 50\n",
        "    else:\n",
        "      cl_num = 4\n",
        "    accs_dict['class number'].append(cl_num)\n",
        "    accs_dict['class length'].append(cl_len)\n",
        "    accs_dict['ngram_type'].append('word')\n",
        "    accs_dict['ngram_size'].append(re.search('(?<=word_)\\w+', key).group())\n",
        "    accs_dict['accuracy_score'].append(key_set[key])"
      ],
      "execution_count": 0,
      "outputs": []
    },
    {
      "cell_type": "code",
      "metadata": {
        "id": "Hx9rsoRERf80",
        "colab_type": "code",
        "colab": {}
      },
      "source": [
        "accs_df = pd.DataFrame(accs_dict, columns=list(accs_dict.keys()))"
      ],
      "execution_count": 0,
      "outputs": []
    },
    {
      "cell_type": "code",
      "metadata": {
        "id": "g6G6nbzIZ_pS",
        "colab_type": "code",
        "colab": {
          "base_uri": "https://localhost:8080/",
          "height": 669
        },
        "outputId": "797748cd-b58e-4714-99bb-9fd8a03a589c"
      },
      "source": [
        "accs_df"
      ],
      "execution_count": 90,
      "outputs": [
        {
          "output_type": "execute_result",
          "data": {
            "text/html": [
              "<div>\n",
              "<style scoped>\n",
              "    .dataframe tbody tr th:only-of-type {\n",
              "        vertical-align: middle;\n",
              "    }\n",
              "\n",
              "    .dataframe tbody tr th {\n",
              "        vertical-align: top;\n",
              "    }\n",
              "\n",
              "    .dataframe thead th {\n",
              "        text-align: right;\n",
              "    }\n",
              "</style>\n",
              "<table border=\"1\" class=\"dataframe\">\n",
              "  <thead>\n",
              "    <tr style=\"text-align: right;\">\n",
              "      <th></th>\n",
              "      <th>train/test mode</th>\n",
              "      <th>class number</th>\n",
              "      <th>class length</th>\n",
              "      <th>ngram_type</th>\n",
              "      <th>ngram_size</th>\n",
              "      <th>accuracy_score</th>\n",
              "    </tr>\n",
              "  </thead>\n",
              "  <tbody>\n",
              "    <tr>\n",
              "      <th>0</th>\n",
              "      <td>train</td>\n",
              "      <td>9</td>\n",
              "      <td>50</td>\n",
              "      <td>word</td>\n",
              "      <td>unigrams</td>\n",
              "      <td>0.397222</td>\n",
              "    </tr>\n",
              "    <tr>\n",
              "      <th>1</th>\n",
              "      <td>train</td>\n",
              "      <td>9</td>\n",
              "      <td>50</td>\n",
              "      <td>word</td>\n",
              "      <td>bigrams</td>\n",
              "      <td>0.558333</td>\n",
              "    </tr>\n",
              "    <tr>\n",
              "      <th>2</th>\n",
              "      <td>train</td>\n",
              "      <td>9</td>\n",
              "      <td>50</td>\n",
              "      <td>word</td>\n",
              "      <td>trigrams</td>\n",
              "      <td>0.516667</td>\n",
              "    </tr>\n",
              "    <tr>\n",
              "      <th>3</th>\n",
              "      <td>train</td>\n",
              "      <td>4</td>\n",
              "      <td>50</td>\n",
              "      <td>word</td>\n",
              "      <td>unigrams</td>\n",
              "      <td>0.612500</td>\n",
              "    </tr>\n",
              "    <tr>\n",
              "      <th>4</th>\n",
              "      <td>train</td>\n",
              "      <td>4</td>\n",
              "      <td>50</td>\n",
              "      <td>word</td>\n",
              "      <td>bigrams</td>\n",
              "      <td>0.693750</td>\n",
              "    </tr>\n",
              "    <tr>\n",
              "      <th>5</th>\n",
              "      <td>train</td>\n",
              "      <td>4</td>\n",
              "      <td>50</td>\n",
              "      <td>word</td>\n",
              "      <td>trigrams</td>\n",
              "      <td>0.606250</td>\n",
              "    </tr>\n",
              "    <tr>\n",
              "      <th>6</th>\n",
              "      <td>train</td>\n",
              "      <td>4</td>\n",
              "      <td>100</td>\n",
              "      <td>word</td>\n",
              "      <td>unigrams</td>\n",
              "      <td>0.646875</td>\n",
              "    </tr>\n",
              "    <tr>\n",
              "      <th>7</th>\n",
              "      <td>train</td>\n",
              "      <td>4</td>\n",
              "      <td>75</td>\n",
              "      <td>word</td>\n",
              "      <td>unigrams</td>\n",
              "      <td>0.554167</td>\n",
              "    </tr>\n",
              "    <tr>\n",
              "      <th>8</th>\n",
              "      <td>train</td>\n",
              "      <td>4</td>\n",
              "      <td>100</td>\n",
              "      <td>word</td>\n",
              "      <td>bigrams</td>\n",
              "      <td>0.637500</td>\n",
              "    </tr>\n",
              "    <tr>\n",
              "      <th>9</th>\n",
              "      <td>train</td>\n",
              "      <td>4</td>\n",
              "      <td>75</td>\n",
              "      <td>word</td>\n",
              "      <td>bigrams</td>\n",
              "      <td>0.654167</td>\n",
              "    </tr>\n",
              "    <tr>\n",
              "      <th>10</th>\n",
              "      <td>test</td>\n",
              "      <td>9</td>\n",
              "      <td>50</td>\n",
              "      <td>word</td>\n",
              "      <td>unigrams</td>\n",
              "      <td>0.422222</td>\n",
              "    </tr>\n",
              "    <tr>\n",
              "      <th>11</th>\n",
              "      <td>test</td>\n",
              "      <td>9</td>\n",
              "      <td>50</td>\n",
              "      <td>word</td>\n",
              "      <td>bigrams</td>\n",
              "      <td>0.533333</td>\n",
              "    </tr>\n",
              "    <tr>\n",
              "      <th>12</th>\n",
              "      <td>test</td>\n",
              "      <td>9</td>\n",
              "      <td>50</td>\n",
              "      <td>word</td>\n",
              "      <td>trigrams</td>\n",
              "      <td>0.488889</td>\n",
              "    </tr>\n",
              "    <tr>\n",
              "      <th>13</th>\n",
              "      <td>test</td>\n",
              "      <td>4</td>\n",
              "      <td>50</td>\n",
              "      <td>word</td>\n",
              "      <td>unigrams</td>\n",
              "      <td>0.700000</td>\n",
              "    </tr>\n",
              "    <tr>\n",
              "      <th>14</th>\n",
              "      <td>test</td>\n",
              "      <td>4</td>\n",
              "      <td>50</td>\n",
              "      <td>word</td>\n",
              "      <td>bigrams</td>\n",
              "      <td>0.750000</td>\n",
              "    </tr>\n",
              "    <tr>\n",
              "      <th>15</th>\n",
              "      <td>test</td>\n",
              "      <td>4</td>\n",
              "      <td>50</td>\n",
              "      <td>word</td>\n",
              "      <td>trigrams</td>\n",
              "      <td>0.700000</td>\n",
              "    </tr>\n",
              "    <tr>\n",
              "      <th>16</th>\n",
              "      <td>test</td>\n",
              "      <td>4</td>\n",
              "      <td>100</td>\n",
              "      <td>word</td>\n",
              "      <td>unigrams</td>\n",
              "      <td>0.700000</td>\n",
              "    </tr>\n",
              "    <tr>\n",
              "      <th>17</th>\n",
              "      <td>test</td>\n",
              "      <td>4</td>\n",
              "      <td>75</td>\n",
              "      <td>word</td>\n",
              "      <td>unigrams</td>\n",
              "      <td>0.550000</td>\n",
              "    </tr>\n",
              "    <tr>\n",
              "      <th>18</th>\n",
              "      <td>test</td>\n",
              "      <td>4</td>\n",
              "      <td>100</td>\n",
              "      <td>word</td>\n",
              "      <td>bigrams</td>\n",
              "      <td>0.637500</td>\n",
              "    </tr>\n",
              "    <tr>\n",
              "      <th>19</th>\n",
              "      <td>test</td>\n",
              "      <td>4</td>\n",
              "      <td>75</td>\n",
              "      <td>word</td>\n",
              "      <td>bigrams</td>\n",
              "      <td>0.616667</td>\n",
              "    </tr>\n",
              "  </tbody>\n",
              "</table>\n",
              "</div>"
            ],
            "text/plain": [
              "   train/test mode  class number  ...  ngram_size accuracy_score\n",
              "0            train             9  ...    unigrams       0.397222\n",
              "1            train             9  ...     bigrams       0.558333\n",
              "2            train             9  ...    trigrams       0.516667\n",
              "3            train             4  ...    unigrams       0.612500\n",
              "4            train             4  ...     bigrams       0.693750\n",
              "5            train             4  ...    trigrams       0.606250\n",
              "6            train             4  ...    unigrams       0.646875\n",
              "7            train             4  ...    unigrams       0.554167\n",
              "8            train             4  ...     bigrams       0.637500\n",
              "9            train             4  ...     bigrams       0.654167\n",
              "10            test             9  ...    unigrams       0.422222\n",
              "11            test             9  ...     bigrams       0.533333\n",
              "12            test             9  ...    trigrams       0.488889\n",
              "13            test             4  ...    unigrams       0.700000\n",
              "14            test             4  ...     bigrams       0.750000\n",
              "15            test             4  ...    trigrams       0.700000\n",
              "16            test             4  ...    unigrams       0.700000\n",
              "17            test             4  ...    unigrams       0.550000\n",
              "18            test             4  ...     bigrams       0.637500\n",
              "19            test             4  ...     bigrams       0.616667\n",
              "\n",
              "[20 rows x 6 columns]"
            ]
          },
          "metadata": {
            "tags": []
          },
          "execution_count": 90
        }
      ]
    }
  ]
}