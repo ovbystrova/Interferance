{
  "nbformat": 4,
  "nbformat_minor": 0,
  "metadata": {
    "colab": {
      "name": "Language_Testing.ipynb",
      "provenance": []
    },
    "kernelspec": {
      "name": "python3",
      "display_name": "Python 3"
    }
  },
  "cells": [
    {
      "cell_type": "code",
      "metadata": {
        "id": "y0Pv1Nh1m4oQ",
        "colab_type": "code",
        "colab": {}
      },
      "source": [
        "from modules.preprocessing import get_dataset, balanced_datasets\n",
        "from modules.distances import distance, radius, radius_distance\n",
        "from modules.single_classifier import SingleClassifier\n",
        "from modules.ensamble_classifier import EnsambleClassifier\n",
        "from modules.ulits import softmax\n",
        "\n",
        "import pandas as pd\n",
        "from tqdm import tqdm\n",
        "from collections import Counter\n",
        "from sklearn.model_selection import train_test_split\n",
        "from sklearn.metrics import f1_score"
      ],
      "execution_count": 0,
      "outputs": []
    },
    {
      "cell_type": "code",
      "metadata": {
        "id": "bMzF3CPWnMph",
        "colab_type": "code",
        "colab": {}
      },
      "source": [
        "!wget https://github.com/ovbystrova/Interference/raw/master/data/original_texts.csv"
      ],
      "execution_count": 0,
      "outputs": []
    },
    {
      "cell_type": "code",
      "metadata": {
        "id": "qkBeve-3nQq5",
        "colab_type": "code",
        "outputId": "1130955e-1489-4782-f830-67bb5bcfbbeb",
        "colab": {
          "base_uri": "https://localhost:8080/",
          "height": 50
        }
      },
      "source": [
        "df = get_dataset('/content/original_texts.csv')\n",
        "df_90texts, df_400texts = balanced_datasets(df)\n",
        "print(len(df_90texts), len(df_400texts))"
      ],
      "execution_count": 0,
      "outputs": [
        {
          "output_type": "stream",
          "text": [
            "100%|██████████| 8/8 [00:59<00:00,  7.46s/it]\n"
          ],
          "name": "stderr"
        },
        {
          "output_type": "stream",
          "text": [
            "810 1600\n"
          ],
          "name": "stdout"
        }
      ]
    },
    {
      "cell_type": "code",
      "metadata": {
        "id": "hlYvQ1I2nS79",
        "colab_type": "code",
        "colab": {}
      },
      "source": [
        "N = 10"
      ],
      "execution_count": 0,
      "outputs": []
    },
    {
      "cell_type": "code",
      "metadata": {
        "id": "oXvmcZOdnUxj",
        "colab_type": "code",
        "colab": {}
      },
      "source": [
        "def clean_tqdm():\n",
        "    for instance in list(tqdm._instances): \n",
        "        tqdm._decr_instances(instance)\n",
        "\n",
        "def balanced_df90(df, size):\n",
        "    \"\"\"\n",
        "    balances df and truncates it to size parameter\n",
        "    \"\"\"\n",
        "    df_1 = df.loc[df['native'] == 'swe'][:size]\n",
        "    df_2 = df.loc[df['native'] == 'fr'][:size]\n",
        "    df_3 = df.loc[df['native'] == 'ita'][:size]\n",
        "    df_4 = df.loc[df['native'] == 'eng'][:size]\n",
        "    df_5 = df.loc[df['native'] == 'ger'][:size]\n",
        "    df_6 = df.loc[df['native'] == 'jap'][:size]\n",
        "    df_7 = df.loc[df['native'] == 'kor'][:size]\n",
        "    df_8 = df.loc[df['native'] == 'kaz'][:size]\n",
        "    df_9 = df.loc[df['native'] == 'fin'][:size]\n",
        "    df = pd.concat([df_1, df_2, df_3, df_4, df_5, df_6, df_7, df_8, df_9])\n",
        "    return df\n",
        "\n",
        "def balanced_df400(df, size):\n",
        "    \"\"\"\n",
        "    balances df and truncates it to size parameter\n",
        "    \"\"\"\n",
        "    df_1 = df.loc[df['native'] == 'eng'][:size]\n",
        "    df_2 = df.loc[df['native'] == 'jap'][:size]\n",
        "    df_3 = df.loc[df['native'] == 'kaz'][:size]\n",
        "    df_4 = df.loc[df['native'] == 'fin'][:size]\n",
        "    df = pd.concat([df_1, df_2, df_3, df_4])\n",
        "    return df"
      ],
      "execution_count": 0,
      "outputs": []
    },
    {
      "cell_type": "code",
      "metadata": {
        "id": "vACTAAg_gzkG",
        "colab_type": "code",
        "colab": {}
      },
      "source": [
        "df_90texts = balanced_df(df_90texts, N)\n",
        "df_400texts = balanced_df(df_400texts, N)"
      ],
      "execution_count": 0,
      "outputs": []
    },
    {
      "cell_type": "code",
      "metadata": {
        "id": "eUepL-5eoHAA",
        "colab_type": "code",
        "colab": {}
      },
      "source": [
        "train_90texts, test_90texts = train_test_split(df_90texts, train_size=0.8,  random_state=42, stratify=df_90texts['native'])\n",
        "train_400texts, test_400texts = train_test_split(df_400texts, train_size=0.8, random_state=42, stratify=df_400texts['native'])"
      ],
      "execution_count": 0,
      "outputs": []
    },
    {
      "cell_type": "code",
      "metadata": {
        "id": "ZOoYdkoeobZr",
        "colab_type": "code",
        "outputId": "4ba780a3-bb0b-41f2-e368-b199beb22c42",
        "colab": {
          "base_uri": "https://localhost:8080/",
          "height": 34
        }
      },
      "source": [
        "len(train_90texts), len(train_400texts), len(test_90texts), len(test_400texts)"
      ],
      "execution_count": 0,
      "outputs": [
        {
          "output_type": "execute_result",
          "data": {
            "text/plain": [
              "(72, 32, 18, 8)"
            ]
          },
          "metadata": {
            "tags": []
          },
          "execution_count": 28
        }
      ]
    },
    {
      "cell_type": "code",
      "metadata": {
        "id": "UUyo8Ir_oddO",
        "colab_type": "code",
        "colab": {}
      },
      "source": [
        "def run_model(df, df_name,  hyperparam):\n",
        "    \"\"\"\n",
        "    runs EnsambleClassifier on  given DataFrame (df) with give profiles (hyperparam)\n",
        "    \"\"\"\n",
        "    classes = list(df['native'].unique())\n",
        "    y_true = list(df['native'])\n",
        "    p_lengths = [200, 500, 1000, 1500, 2000, 2500, 3000]\n",
        "\n",
        "    clean_tqdm()\n",
        "\n",
        "    profs = list(df[hyperparam])\n",
        "    ec = EnsambleClassifier([profs], y_true, p_lengths, classes=classes)\n",
        "    classifiers = ec.classifiers\n",
        "    y_pred = ec.forward_ensamble(confidence=False)\n",
        "\n",
        "    print()\n",
        "    acc = f1_score(y_true, y_pred, average='micro')\n",
        "    print('F1_score = {} for dataset {} and hyperparam {}'.format(acc, df_name, hyperparam))"
      ],
      "execution_count": 0,
      "outputs": []
    },
    {
      "cell_type": "markdown",
      "metadata": {
        "id": "nUIJJ-rDpTt5",
        "colab_type": "text"
      },
      "source": [
        "# 90 texts"
      ]
    },
    {
      "cell_type": "code",
      "metadata": {
        "id": "prNjWpqMopOX",
        "colab_type": "code",
        "outputId": "55e21d92-57f1-4c3f-a0ef-fd29ddca1d89",
        "colab": {
          "base_uri": "https://localhost:8080/",
          "height": 67
        }
      },
      "source": [
        "# word unigrams\n",
        "run_model(train_90texts, 'train_90texts', 'word_unigrams')"
      ],
      "execution_count": 0,
      "outputs": [
        {
          "output_type": "stream",
          "text": [
            "100%|██████████| 7/7 [00:25<00:00,  3.61s/it]"
          ],
          "name": "stderr"
        },
        {
          "output_type": "stream",
          "text": [
            "\n",
            "F1_score = 0.3472222222222222 for dataset train_90texts and hyperparam word_unigrams\n"
          ],
          "name": "stdout"
        },
        {
          "output_type": "stream",
          "text": [
            "\n"
          ],
          "name": "stderr"
        }
      ]
    },
    {
      "cell_type": "code",
      "metadata": {
        "id": "RAbXOQ1world",
        "colab_type": "code",
        "outputId": "c201fc24-57a6-4545-a711-d67b2c31acca",
        "colab": {
          "base_uri": "https://localhost:8080/",
          "height": 67
        }
      },
      "source": [
        "# word bigrams\n",
        "run_model(train_90texts, 'train_90texts', 'word_bigrams')"
      ],
      "execution_count": 0,
      "outputs": [
        {
          "output_type": "stream",
          "text": [
            "100%|██████████| 7/7 [00:30<00:00,  4.35s/it]"
          ],
          "name": "stderr"
        },
        {
          "output_type": "stream",
          "text": [
            "\n",
            "F1_score = 0.3611111111111111 for dataset train_90texts and hyperparam word_bigrams\n"
          ],
          "name": "stdout"
        },
        {
          "output_type": "stream",
          "text": [
            "\n"
          ],
          "name": "stderr"
        }
      ]
    },
    {
      "cell_type": "code",
      "metadata": {
        "id": "Ad0IysuspX5h",
        "colab_type": "code",
        "outputId": "c28123c0-2d2a-4f93-9830-1975c9d282d7",
        "colab": {
          "base_uri": "https://localhost:8080/",
          "height": 67
        }
      },
      "source": [
        "# word trigrams\n",
        "run_model(train_90texts, 'train_90texts', 'word_trigrams')"
      ],
      "execution_count": 0,
      "outputs": [
        {
          "output_type": "stream",
          "text": [
            "100%|██████████| 7/7 [00:30<00:00,  4.42s/it]"
          ],
          "name": "stderr"
        },
        {
          "output_type": "stream",
          "text": [
            "\n",
            "F1_score = 0.2638888888888889 for dataset train_90texts and hyperparam word_trigrams\n"
          ],
          "name": "stdout"
        },
        {
          "output_type": "stream",
          "text": [
            "\n"
          ],
          "name": "stderr"
        }
      ]
    },
    {
      "cell_type": "code",
      "metadata": {
        "id": "DbI_I5s-pZk_",
        "colab_type": "code",
        "outputId": "86724945-58fa-4a33-d474-e5e32d11c981",
        "colab": {
          "base_uri": "https://localhost:8080/",
          "height": 67
        }
      },
      "source": [
        "# character 3-grams\n",
        "run_model(train_90texts, 'train_90texts', 'character 3-grams')"
      ],
      "execution_count": 0,
      "outputs": [
        {
          "output_type": "stream",
          "text": [
            "100%|██████████| 7/7 [02:47<00:00, 23.98s/it]"
          ],
          "name": "stderr"
        },
        {
          "output_type": "stream",
          "text": [
            "\n",
            "F1_score = 0.20833333333333334 for dataset train_90texts and hyperparam character 3-grams\n"
          ],
          "name": "stdout"
        },
        {
          "output_type": "stream",
          "text": [
            "\n"
          ],
          "name": "stderr"
        }
      ]
    },
    {
      "cell_type": "markdown",
      "metadata": {
        "id": "zCp44dYgpd96",
        "colab_type": "text"
      },
      "source": [
        "# 400 texts"
      ]
    },
    {
      "cell_type": "code",
      "metadata": {
        "id": "GrOBHIxBpffc",
        "colab_type": "code",
        "colab": {}
      },
      "source": [
        ""
      ],
      "execution_count": 0,
      "outputs": []
    },
    {
      "cell_type": "markdown",
      "metadata": {
        "id": "cH4WzZecq1DA",
        "colab_type": "text"
      },
      "source": [
        "# On test data"
      ]
    },
    {
      "cell_type": "code",
      "metadata": {
        "id": "orQBp3n8q2sC",
        "colab_type": "code",
        "outputId": "ef6eafdc-9e6e-41f8-9da4-e3d5145d2541",
        "colab": {
          "base_uri": "https://localhost:8080/",
          "height": 168
        }
      },
      "source": [
        "# word bigrams\n",
        "run_model(test_90texts, 'test_90texts', 'word_bigrams')"
      ],
      "execution_count": 0,
      "outputs": [
        {
          "output_type": "stream",
          "text": [
            "  0%|          | 0/7 [00:00<?, ?it/s]/content/modules/distances.py:29: RuntimeWarning: divide by zero encountered in double_scalars\n",
            "  return(distance(di, u)/np.max([distance(di, ai) for ai in A]))\n",
            "/usr/local/lib/python3.6/dist-packages/numpy/core/fromnumeric.py:3335: RuntimeWarning: Mean of empty slice.\n",
            "  out=out, **kwargs)\n",
            "/usr/local/lib/python3.6/dist-packages/numpy/core/_methods.py:161: RuntimeWarning: invalid value encountered in double_scalars\n",
            "  ret = ret.dtype.type(ret / rcount)\n",
            "100%|██████████| 7/7 [00:00<00:00, 10.01it/s]"
          ],
          "name": "stderr"
        },
        {
          "output_type": "stream",
          "text": [
            "\n",
            "F1_score = 0.05555555555555555 for dataset test_90texts and hyperparam word_bigrams\n"
          ],
          "name": "stdout"
        },
        {
          "output_type": "stream",
          "text": [
            "\n"
          ],
          "name": "stderr"
        }
      ]
    },
    {
      "cell_type": "code",
      "metadata": {
        "id": "c8JfJub4q420",
        "colab_type": "code",
        "colab": {}
      },
      "source": [
        ""
      ],
      "execution_count": 0,
      "outputs": []
    }
  ]
}