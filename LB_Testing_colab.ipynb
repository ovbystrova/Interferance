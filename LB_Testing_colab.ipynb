{
  "nbformat": 4,
  "nbformat_minor": 0,
  "metadata": {
    "colab": {
      "name": "LB_Testing_colab.ipynb",
      "provenance": []
    },
    "kernelspec": {
      "name": "python3",
      "display_name": "Python 3"
    },
    "accelerator": "GPU"
  },
  "cells": [
    {
      "cell_type": "code",
      "metadata": {
        "id": "XcVv-mo3gDOf",
        "colab_type": "code",
        "colab": {}
      },
      "source": [
        "from preprocessing import get_dataset, balanced_datasets\n",
        "from distances import distance, radius, radius_distance\n",
        "from single_classifier import SingleClassifier\n",
        "from ensamble_classifier import EnsambleClassifier\n",
        "from ulits import softmax\n",
        "\n",
        "from sklearn.model_selection import train_test_split"
      ],
      "execution_count": 0,
      "outputs": []
    },
    {
      "cell_type": "code",
      "metadata": {
        "id": "Hox4xnAwH8_i",
        "colab_type": "code",
        "colab": {}
      },
      "source": [
        "from tqdm import tqdm\n",
        "from collections import Counter\n",
        "from sklearn.model_selection import train_test_split\n",
        "from sklearn.metrics import accuracy_score"
      ],
      "execution_count": 0,
      "outputs": []
    },
    {
      "cell_type": "code",
      "metadata": {
        "id": "ojVUDVrBqHwl",
        "colab_type": "code",
        "outputId": "5a28ea52-abfa-4244-b8bb-880d84eb40b3",
        "colab": {
          "base_uri": "https://localhost:8080/",
          "height": 306
        }
      },
      "source": [
        "!wget https://github.com/ovbystrova/Interference/raw/master/data/original_texts.csv"
      ],
      "execution_count": 4,
      "outputs": [
        {
          "output_type": "stream",
          "text": [
            "--2020-03-23 11:14:44--  https://github.com/ovbystrova/Interference/raw/master/data/original_texts.csv\n",
            "Resolving github.com (github.com)... 13.229.188.59\n",
            "Connecting to github.com (github.com)|13.229.188.59|:443... connected.\n",
            "HTTP request sent, awaiting response... 302 Found\n",
            "Location: https://raw.githubusercontent.com/ovbystrova/Interference/master/data/original_texts.csv [following]\n",
            "--2020-03-23 11:14:44--  https://raw.githubusercontent.com/ovbystrova/Interference/master/data/original_texts.csv\n",
            "Resolving raw.githubusercontent.com (raw.githubusercontent.com)... 151.101.0.133, 151.101.64.133, 151.101.128.133, ...\n",
            "Connecting to raw.githubusercontent.com (raw.githubusercontent.com)|151.101.0.133|:443... connected.\n",
            "HTTP request sent, awaiting response... 200 OK\n",
            "Length: 18891291 (18M) [text/plain]\n",
            "Saving to: ‘original_texts.csv’\n",
            "\n",
            "original_texts.csv  100%[===================>]  18.02M  --.-KB/s    in 0.1s    \n",
            "\n",
            "2020-03-23 11:14:47 (130 MB/s) - ‘original_texts.csv’ saved [18891291/18891291]\n",
            "\n"
          ],
          "name": "stdout"
        }
      ]
    },
    {
      "cell_type": "code",
      "metadata": {
        "id": "rqNhEMOKqcXM",
        "colab_type": "code",
        "outputId": "d10c928f-3317-4ca2-ed87-681f5d04eda4",
        "colab": {
          "base_uri": "https://localhost:8080/",
          "height": 50
        }
      },
      "source": [
        "df = get_dataset('/content/original_texts.csv')\n",
        "df_90texts, df_400texts = balanced_datasets(df)\n",
        "print(len(df_90texts), len(df_400texts))\n",
        "\n",
        "train_90texts, test_90texts = train_test_split(df_90texts, train_size=0.8,  random_state=42)\n",
        "train_400texts, test_400texts = train_test_split(df_400texts, train_size=0.8, random_state=42)"
      ],
      "execution_count": 5,
      "outputs": [
        {
          "output_type": "stream",
          "text": [
            "100%|██████████| 8/8 [00:52<00:00,  6.54s/it]\n"
          ],
          "name": "stderr"
        },
        {
          "output_type": "stream",
          "text": [
            "810 1600\n"
          ],
          "name": "stdout"
        }
      ]
    },
    {
      "cell_type": "code",
      "metadata": {
        "id": "fccSG30gqjAA",
        "colab_type": "code",
        "colab": {}
      },
      "source": [
        "from tqdm import tqdm\n",
        "def clean_tqdm():\n",
        "    for instance in list(tqdm._instances): \n",
        "        tqdm._decr_instances(instance)"
      ],
      "execution_count": 0,
      "outputs": []
    },
    {
      "cell_type": "code",
      "metadata": {
        "id": "WX5zhZzEForA",
        "colab_type": "code",
        "colab": {}
      },
      "source": [
        "# TODO Пофиксить баланс классов и переделывать :("
      ],
      "execution_count": 0,
      "outputs": []
    },
    {
      "cell_type": "markdown",
      "metadata": {
        "id": "ZCTtwrwG09Co",
        "colab_type": "text"
      },
      "source": [
        "# 90 texts"
      ]
    },
    {
      "cell_type": "code",
      "metadata": {
        "id": "WnP0dYsrG_Nb",
        "colab_type": "code",
        "colab": {}
      },
      "source": [
        "classes = list(train_90texts['language_background'].unique())  # ['HL', 'FL']\n",
        "y_true = list(train_90texts['language_background'])[:100] # len = 810\n",
        "p_lengths = [200, 500, 1000, 1500, 2000, 2500, 3000]"
      ],
      "execution_count": 0,
      "outputs": []
    },
    {
      "cell_type": "code",
      "metadata": {
        "id": "SYnWe7Myq28L",
        "colab_type": "code",
        "colab": {
          "base_uri": "https://localhost:8080/",
          "height": 50
        },
        "outputId": "1d4cd293-41f6-43d9-eb81-eba333a793e6"
      },
      "source": [
        "# Character 4-grams\n",
        "\n",
        "clean_tqdm()\n",
        "profs = list(train_90texts['character 4-grams'])[:100]\n",
        "ec = EnsambleClassifier([profs], y_true, p_lengths, classes=classes)\n",
        "classifiers = ec.classifiers\n",
        "y_pred = ec.forward_ensamble(confidence=False)\n",
        "\n",
        "print(Counter(y_pred))\n",
        "\n",
        "accuracy_score (y_true, y_pred)"
      ],
      "execution_count": 12,
      "outputs": [
        {
          "output_type": "stream",
          "text": [
            "Counter({'FL': 65, 'HL': 35})\n"
          ],
          "name": "stdout"
        },
        {
          "output_type": "execute_result",
          "data": {
            "text/plain": [
              "0.66"
            ]
          },
          "metadata": {
            "tags": []
          },
          "execution_count": 12
        }
      ]
    },
    {
      "cell_type": "code",
      "metadata": {
        "id": "nNa8OyYIG3eU",
        "colab_type": "code",
        "colab": {
          "base_uri": "https://localhost:8080/",
          "height": 67
        },
        "outputId": "5b93e525-141c-4649-cb9f-0fb2cbeb0d82"
      },
      "source": [
        "# Character 5-grams\n",
        "clean_tqdm()\n",
        "profs = list(train_90texts['character 5-grams'])[:100]\n",
        "ec = EnsambleClassifier([profs], y_true, p_lengths, classes=classes)\n",
        "classifiers = ec.classifiers\n",
        "y_pred = ec.forward_ensamble(confidence=False)\n",
        "\n",
        "print(Counter(y_pred))\n",
        "\n",
        "accuracy_score (y_true, y_pred)"
      ],
      "execution_count": 13,
      "outputs": [
        {
          "output_type": "stream",
          "text": [
            "100%|██████████| 7/7 [37:14<00:00, 319.20s/it]"
          ],
          "name": "stderr"
        },
        {
          "output_type": "stream",
          "text": [
            "Counter({'FL': 57, 'HL': 43})\n"
          ],
          "name": "stdout"
        },
        {
          "output_type": "stream",
          "text": [
            "\n"
          ],
          "name": "stderr"
        },
        {
          "output_type": "execute_result",
          "data": {
            "text/plain": [
              "0.66"
            ]
          },
          "metadata": {
            "tags": []
          },
          "execution_count": 13
        }
      ]
    },
    {
      "cell_type": "code",
      "metadata": {
        "id": "lWtzoveAPf7V",
        "colab_type": "code",
        "colab": {
          "base_uri": "https://localhost:8080/",
          "height": 67
        },
        "outputId": "90870d4f-4103-4730-e936-26490a8b9cdf"
      },
      "source": [
        "# Character 6-grams\n",
        "clean_tqdm()\n",
        "profs = list(train_90texts['character 6-grams'])[:100]\n",
        "ec = EnsambleClassifier([profs], y_true, p_lengths, classes=classes)\n",
        "classifiers = ec.classifiers\n",
        "y_pred = ec.forward_ensamble(confidence=False)\n",
        "\n",
        "print(Counter(y_pred))\n",
        "\n",
        "accuracy_score (y_true, y_pred)"
      ],
      "execution_count": 14,
      "outputs": [
        {
          "output_type": "stream",
          "text": [
            "100%|██████████| 7/7 [39:02<00:00, 334.64s/it]"
          ],
          "name": "stderr"
        },
        {
          "output_type": "stream",
          "text": [
            "Counter({'FL': 62, 'HL': 38})\n"
          ],
          "name": "stdout"
        },
        {
          "output_type": "stream",
          "text": [
            "\n"
          ],
          "name": "stderr"
        },
        {
          "output_type": "execute_result",
          "data": {
            "text/plain": [
              "0.69"
            ]
          },
          "metadata": {
            "tags": []
          },
          "execution_count": 14
        }
      ]
    },
    {
      "cell_type": "code",
      "metadata": {
        "id": "-Z_N3NAzYGK8",
        "colab_type": "code",
        "colab": {
          "base_uri": "https://localhost:8080/",
          "height": 67
        },
        "outputId": "9a8dbb0b-c8e1-46a6-fed7-8e23d96ae320"
      },
      "source": [
        "# Character 7-grams\n",
        "clean_tqdm()\n",
        "profs = list(train_90texts['character 7-grams'])[:100]\n",
        "ec = EnsambleClassifier([profs], y_true, p_lengths, classes=classes)\n",
        "classifiers = ec.classifiers\n",
        "y_pred = ec.forward_ensamble(confidence=False)\n",
        "\n",
        "print(Counter(y_pred))\n",
        "\n",
        "accuracy_score (y_true, y_pred)"
      ],
      "execution_count": 15,
      "outputs": [
        {
          "output_type": "stream",
          "text": [
            "100%|██████████| 7/7 [41:05<00:00, 352.22s/it]"
          ],
          "name": "stderr"
        },
        {
          "output_type": "stream",
          "text": [
            "Counter({'FL': 61, 'HL': 39})\n"
          ],
          "name": "stdout"
        },
        {
          "output_type": "stream",
          "text": [
            "\n"
          ],
          "name": "stderr"
        },
        {
          "output_type": "execute_result",
          "data": {
            "text/plain": [
              "0.68"
            ]
          },
          "metadata": {
            "tags": []
          },
          "execution_count": 15
        }
      ]
    },
    {
      "cell_type": "code",
      "metadata": {
        "id": "_3j8pbYChcsY",
        "colab_type": "code",
        "colab": {
          "base_uri": "https://localhost:8080/",
          "height": 67
        },
        "outputId": "2933449b-153d-4cd9-88e6-1eb0fdbf0205"
      },
      "source": [
        "# Character 8-grams\n",
        "clean_tqdm()\n",
        "profs = list(train_90texts['character 8-grams'])[:100]\n",
        "ec = EnsambleClassifier([profs], y_true, p_lengths, classes=classes)\n",
        "classifiers = ec.classifiers\n",
        "y_pred = ec.forward_ensamble(confidence=False)\n",
        "\n",
        "print(Counter(y_pred))\n",
        "\n",
        "accuracy_score (y_true, y_pred)"
      ],
      "execution_count": 16,
      "outputs": [
        {
          "output_type": "stream",
          "text": [
            "100%|██████████| 7/7 [41:41<00:00, 357.40s/it]"
          ],
          "name": "stderr"
        },
        {
          "output_type": "stream",
          "text": [
            "Counter({'FL': 55, 'HL': 45})\n"
          ],
          "name": "stdout"
        },
        {
          "output_type": "stream",
          "text": [
            "\n"
          ],
          "name": "stderr"
        },
        {
          "output_type": "execute_result",
          "data": {
            "text/plain": [
              "0.62"
            ]
          },
          "metadata": {
            "tags": []
          },
          "execution_count": 16
        }
      ]
    },
    {
      "cell_type": "code",
      "metadata": {
        "id": "CNX5Ld1qrbOt",
        "colab_type": "code",
        "colab": {
          "base_uri": "https://localhost:8080/",
          "height": 67
        },
        "outputId": "f6668bc9-34d2-4a85-9137-0a25bbc350fa"
      },
      "source": [
        "# Character 9-grams\n",
        "clean_tqdm()\n",
        "profs = list(train_90texts['character 9-grams'])[:100]\n",
        "ec = EnsambleClassifier([profs], y_true, p_lengths, classes=classes)\n",
        "classifiers = ec.classifiers\n",
        "y_pred = ec.forward_ensamble(confidence=False)\n",
        "\n",
        "print(Counter(y_pred))\n",
        "\n",
        "accuracy_score (y_true, y_pred)"
      ],
      "execution_count": 17,
      "outputs": [
        {
          "output_type": "stream",
          "text": [
            "100%|██████████| 7/7 [42:37<00:00, 365.37s/it]"
          ],
          "name": "stderr"
        },
        {
          "output_type": "stream",
          "text": [
            "Counter({'FL': 54, 'HL': 46})\n"
          ],
          "name": "stdout"
        },
        {
          "output_type": "stream",
          "text": [
            "\n"
          ],
          "name": "stderr"
        },
        {
          "output_type": "execute_result",
          "data": {
            "text/plain": [
              "0.63"
            ]
          },
          "metadata": {
            "tags": []
          },
          "execution_count": 17
        }
      ]
    },
    {
      "cell_type": "code",
      "metadata": {
        "id": "gmEDA4kq1AuI",
        "colab_type": "code",
        "colab": {
          "base_uri": "https://localhost:8080/",
          "height": 67
        },
        "outputId": "e19788e3-c8e7-497d-f66b-5d3668c3c6be"
      },
      "source": [
        "# Character 10-grams\n",
        "clean_tqdm()\n",
        "profs = list(train_90texts['character 10-grams'])[:100]\n",
        "ec = EnsambleClassifier([profs], y_true, p_lengths, classes=classes)\n",
        "classifiers = ec.classifiers\n",
        "y_pred = ec.forward_ensamble(confidence=False)\n",
        "\n",
        "print(Counter(y_pred))\n",
        "\n",
        "accuracy_score (y_true, y_pred)"
      ],
      "execution_count": 18,
      "outputs": [
        {
          "output_type": "stream",
          "text": [
            "100%|██████████| 7/7 [41:29<00:00, 355.63s/it]"
          ],
          "name": "stderr"
        },
        {
          "output_type": "stream",
          "text": [
            "Counter({'FL': 53, 'HL': 47})\n"
          ],
          "name": "stdout"
        },
        {
          "output_type": "stream",
          "text": [
            "\n"
          ],
          "name": "stderr"
        },
        {
          "output_type": "execute_result",
          "data": {
            "text/plain": [
              "0.64"
            ]
          },
          "metadata": {
            "tags": []
          },
          "execution_count": 18
        }
      ]
    },
    {
      "cell_type": "markdown",
      "metadata": {
        "id": "ouohReLfAYqD",
        "colab_type": "text"
      },
      "source": [
        "# 400 texts"
      ]
    },
    {
      "cell_type": "code",
      "metadata": {
        "id": "HltV54ZyAV0A",
        "colab_type": "code",
        "colab": {
          "base_uri": "https://localhost:8080/",
          "height": 67
        },
        "outputId": "020cd132-f69d-4cd3-94a1-6fd384d4e863"
      },
      "source": [
        "# Character 5-grams\n",
        "clean_tqdm()\n",
        "\n",
        "profs = list(train_400texts['character 5-grams'])[:100]  # list of Counter\n",
        "ec = EnsambleClassifier([profs], y_true, p_lengths, classes=classes)\n",
        "classifiers = ec.classifiers\n",
        "y_pred = ec.forward_ensamble(confidence=False)\n",
        "\n",
        "print(Counter(y_pred))\n",
        "\n",
        "accuracy_score (y_true, y_pred)"
      ],
      "execution_count": 19,
      "outputs": [
        {
          "output_type": "stream",
          "text": [
            "100%|██████████| 7/7 [36:48<00:00, 315.46s/it]"
          ],
          "name": "stderr"
        },
        {
          "output_type": "stream",
          "text": [
            "Counter({'HL': 96, 'FL': 4})\n"
          ],
          "name": "stdout"
        },
        {
          "output_type": "stream",
          "text": [
            "\n"
          ],
          "name": "stderr"
        },
        {
          "output_type": "execute_result",
          "data": {
            "text/plain": [
              "0.41"
            ]
          },
          "metadata": {
            "tags": []
          },
          "execution_count": 19
        }
      ]
    },
    {
      "cell_type": "code",
      "metadata": {
        "id": "-I9GXqKdJ96N",
        "colab_type": "code",
        "colab": {
          "base_uri": "https://localhost:8080/",
          "height": 67
        },
        "outputId": "789ba1a3-5efb-484e-9fd7-7d6d038a3fac"
      },
      "source": [
        "# Character 6-grams\n",
        "clean_tqdm()\n",
        "\n",
        "profs = list(train_400texts['character 6-grams'])[:100]  # list of Counter\n",
        "ec = EnsambleClassifier([profs], y_true, p_lengths, classes=classes)\n",
        "classifiers = ec.classifiers\n",
        "y_pred = ec.forward_ensamble(confidence=False)\n",
        "\n",
        "print(Counter(y_pred))\n",
        "\n",
        "accuracy_score (y_true, y_pred)"
      ],
      "execution_count": 20,
      "outputs": [
        {
          "output_type": "stream",
          "text": [
            "100%|██████████| 7/7 [37:27<00:00, 321.09s/it]"
          ],
          "name": "stderr"
        },
        {
          "output_type": "stream",
          "text": [
            "Counter({'HL': 96, 'FL': 4})\n"
          ],
          "name": "stdout"
        },
        {
          "output_type": "stream",
          "text": [
            "\n"
          ],
          "name": "stderr"
        },
        {
          "output_type": "execute_result",
          "data": {
            "text/plain": [
              "0.41"
            ]
          },
          "metadata": {
            "tags": []
          },
          "execution_count": 20
        }
      ]
    },
    {
      "cell_type": "code",
      "metadata": {
        "id": "us23kIBHKRxd",
        "colab_type": "code",
        "colab": {
          "base_uri": "https://localhost:8080/",
          "height": 67
        },
        "outputId": "9d833379-121c-4653-c478-abba683ef162"
      },
      "source": [
        "# Character 7-grams\n",
        "clean_tqdm()\n",
        "\n",
        "profs = list(train_400texts['character 7-grams'])[:100]  # list of Counter\n",
        "ec = EnsambleClassifier([profs], y_true, p_lengths, classes=classes)\n",
        "classifiers = ec.classifiers\n",
        "y_pred = ec.forward_ensamble(confidence=False)\n",
        "\n",
        "print(Counter(y_pred))\n",
        "\n",
        "accuracy_score (y_true, y_pred)"
      ],
      "execution_count": 22,
      "outputs": [
        {
          "output_type": "stream",
          "text": [
            "100%|██████████| 7/7 [38:17<00:00, 328.21s/it]"
          ],
          "name": "stderr"
        },
        {
          "output_type": "stream",
          "text": [
            "Counter({'HL': 95, 'FL': 5})\n"
          ],
          "name": "stdout"
        },
        {
          "output_type": "stream",
          "text": [
            "\n"
          ],
          "name": "stderr"
        },
        {
          "output_type": "execute_result",
          "data": {
            "text/plain": [
              "0.4"
            ]
          },
          "metadata": {
            "tags": []
          },
          "execution_count": 22
        }
      ]
    },
    {
      "cell_type": "code",
      "metadata": {
        "id": "CyV5iCt9KVCy",
        "colab_type": "code",
        "colab": {
          "base_uri": "https://localhost:8080/",
          "height": 67
        },
        "outputId": "93a5517c-b605-4874-e2ee-b101de0c592b"
      },
      "source": [
        "# Character 8-grams\n",
        "clean_tqdm()\n",
        "\n",
        "profs = list(train_400texts['character 8-grams'])[:100]  # list of Counter\n",
        "ec = EnsambleClassifier([profs], y_true, p_lengths, classes=classes)\n",
        "classifiers = ec.classifiers\n",
        "y_pred = ec.forward_ensamble(confidence=False)\n",
        "\n",
        "print(Counter(y_pred))\n",
        "\n",
        "accuracy_score (y_true, y_pred)"
      ],
      "execution_count": 21,
      "outputs": [
        {
          "output_type": "stream",
          "text": [
            "100%|██████████| 7/7 [38:38<00:00, 331.28s/it]"
          ],
          "name": "stderr"
        },
        {
          "output_type": "stream",
          "text": [
            "Counter({'HL': 91, 'FL': 9})\n"
          ],
          "name": "stdout"
        },
        {
          "output_type": "stream",
          "text": [
            "\n"
          ],
          "name": "stderr"
        },
        {
          "output_type": "execute_result",
          "data": {
            "text/plain": [
              "0.38"
            ]
          },
          "metadata": {
            "tags": []
          },
          "execution_count": 21
        }
      ]
    },
    {
      "cell_type": "code",
      "metadata": {
        "id": "wt8iAVUxKXJE",
        "colab_type": "code",
        "colab": {
          "base_uri": "https://localhost:8080/",
          "height": 67
        },
        "outputId": "4f6feab4-9951-4028-dad7-c53ab3f55416"
      },
      "source": [
        "# Character 9-grams\n",
        "clean_tqdm()\n",
        "\n",
        "profs = list(train_400texts['character 9-grams'])[:100]  # list of Counter\n",
        "ec = EnsambleClassifier([profs], y_true, p_lengths, classes=classes)\n",
        "classifiers = ec.classifiers\n",
        "y_pred = ec.forward_ensamble(confidence=False)\n",
        "\n",
        "print(Counter(y_pred))\n",
        "\n",
        "accuracy_score (y_true, y_pred)"
      ],
      "execution_count": 23,
      "outputs": [
        {
          "output_type": "stream",
          "text": [
            "100%|██████████| 7/7 [39:00<00:00, 334.40s/it]"
          ],
          "name": "stderr"
        },
        {
          "output_type": "stream",
          "text": [
            "Counter({'HL': 89, 'FL': 11})\n"
          ],
          "name": "stdout"
        },
        {
          "output_type": "stream",
          "text": [
            "\n"
          ],
          "name": "stderr"
        },
        {
          "output_type": "execute_result",
          "data": {
            "text/plain": [
              "0.42"
            ]
          },
          "metadata": {
            "tags": []
          },
          "execution_count": 23
        }
      ]
    },
    {
      "cell_type": "code",
      "metadata": {
        "id": "_f7yE7YCKYTU",
        "colab_type": "code",
        "colab": {
          "base_uri": "https://localhost:8080/",
          "height": 67
        },
        "outputId": "d85502d4-ab1e-49ee-b5ea-0553e45866cc"
      },
      "source": [
        "# Character 10-grams\n",
        "clean_tqdm()\n",
        "\n",
        "profs = list(train_400texts['character 10-grams'])[:100]  # list of Counter\n",
        "ec = EnsambleClassifier([profs], y_true, p_lengths, classes=classes)\n",
        "classifiers = ec.classifiers\n",
        "y_pred = ec.forward_ensamble(confidence=False)\n",
        "\n",
        "print(Counter(y_pred))\n",
        "\n",
        "accuracy_score (y_true, y_pred)"
      ],
      "execution_count": 24,
      "outputs": [
        {
          "output_type": "stream",
          "text": [
            "100%|██████████| 7/7 [39:25<00:00, 337.98s/it]"
          ],
          "name": "stderr"
        },
        {
          "output_type": "stream",
          "text": [
            "Counter({'HL': 60, 'FL': 40})\n"
          ],
          "name": "stdout"
        },
        {
          "output_type": "stream",
          "text": [
            "\n"
          ],
          "name": "stderr"
        },
        {
          "output_type": "execute_result",
          "data": {
            "text/plain": [
              "0.45"
            ]
          },
          "metadata": {
            "tags": []
          },
          "execution_count": 24
        }
      ]
    },
    {
      "cell_type": "markdown",
      "metadata": {
        "id": "5DdsE3ZqKdVN",
        "colab_type": "text"
      },
      "source": [
        "# Running best models on test data"
      ]
    },
    {
      "cell_type": "code",
      "metadata": {
        "id": "V0M9vVN0Kg1J",
        "colab_type": "code",
        "colab": {}
      },
      "source": [
        "# 90 texts "
      ],
      "execution_count": 0,
      "outputs": []
    },
    {
      "cell_type": "code",
      "metadata": {
        "id": "l7_iIhQfKjrl",
        "colab_type": "code",
        "colab": {
          "base_uri": "https://localhost:8080/",
          "height": 67
        },
        "outputId": "1e2be72e-fa0d-46f1-f761-18cefcadf85e"
      },
      "source": [
        "# 400 texts - character 3-grams\n",
        "clean_tqdm()\n",
        "\n",
        "profs = list(train_400texts['character 3-grams'])[:100]  # list of Counter\n",
        "ec = EnsambleClassifier([profs], y_true, p_lengths, classes=classes)\n",
        "classifiers = ec.classifiers\n",
        "y_pred = ec.forward_ensamble(confidence=False)\n",
        "y_true = list(test_400texts['language_background'])[:100] # len = 810\n",
        "print(Counter(y_pred))\n",
        "\n",
        "accuracy_score (y_true, y_pred)"
      ],
      "execution_count": 25,
      "outputs": [
        {
          "output_type": "stream",
          "text": [
            "100%|██████████| 7/7 [28:11<00:00, 241.58s/it]"
          ],
          "name": "stderr"
        },
        {
          "output_type": "stream",
          "text": [
            "Counter({'HL': 56, 'FL': 44})\n"
          ],
          "name": "stdout"
        },
        {
          "output_type": "stream",
          "text": [
            "\n"
          ],
          "name": "stderr"
        },
        {
          "output_type": "execute_result",
          "data": {
            "text/plain": [
              "0.43"
            ]
          },
          "metadata": {
            "tags": []
          },
          "execution_count": 25
        }
      ]
    },
    {
      "cell_type": "code",
      "metadata": {
        "id": "dZsKy21tFbgK",
        "colab_type": "code",
        "colab": {
          "base_uri": "https://localhost:8080/",
          "height": 34
        },
        "outputId": "8e3a0f0f-afb8-4bb8-fa69-77bb70ffca5b"
      },
      "source": [
        "y_te = list(test_90texts['language_background'])[:100]\n",
        "Counter(y_te)"
      ],
      "execution_count": 26,
      "outputs": [
        {
          "output_type": "execute_result",
          "data": {
            "text/plain": [
              "Counter({'FL': 68, 'HL': 32})"
            ]
          },
          "metadata": {
            "tags": []
          },
          "execution_count": 26
        }
      ]
    }
  ]
}