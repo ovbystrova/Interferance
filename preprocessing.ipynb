{
  "nbformat": 4,
  "nbformat_minor": 0,
  "metadata": {
    "colab": {
      "name": "preprocessing.ipynb",
      "provenance": [],
      "include_colab_link": true
    },
    "kernelspec": {
      "name": "python3",
      "display_name": "Python 3"
    },
    "accelerator": "GPU"
  },
  "cells": [
    {
      "cell_type": "markdown",
      "metadata": {
        "id": "view-in-github",
        "colab_type": "text"
      },
      "source": [
        "<a href=\"https://colab.research.google.com/github/ovbystrova/Interference/blob/master/preprocessing.ipynb\" target=\"_parent\"><img src=\"https://colab.research.google.com/assets/colab-badge.svg\" alt=\"Open In Colab\"/></a>"
      ]
    },
    {
      "cell_type": "code",
      "metadata": {
        "id": "z_u2NWQyMH9X",
        "colab_type": "code",
        "colab": {}
      },
      "source": [
        "# !wget https://github.com/ovbystrova/Interference/raw/master/data/original_texts.csv"
      ],
      "execution_count": 0,
      "outputs": []
    },
    {
      "cell_type": "markdown",
      "metadata": {
        "id": "0dzVgGLjmgaV",
        "colab_type": "text"
      },
      "source": [
        "## Dataset"
      ]
    },
    {
      "cell_type": "code",
      "metadata": {
        "id": "nBAGtiyb94yT",
        "colab_type": "code",
        "colab": {}
      },
      "source": [
        "import pandas as pd\n",
        "import numpy as np\n",
        "import re"
      ],
      "execution_count": 0,
      "outputs": []
    },
    {
      "cell_type": "code",
      "metadata": {
        "id": "K81FnWm099my",
        "colab_type": "code",
        "colab": {}
      },
      "source": [
        "df = pd.read_csv('original_texts.csv', index_col='id')"
      ],
      "execution_count": 0,
      "outputs": []
    },
    {
      "cell_type": "code",
      "metadata": {
        "id": "BXYCPIvW-uAp",
        "colab_type": "code",
        "outputId": "81ba2d13-0181-4229-d18b-bc657bc2f01e",
        "colab": {
          "base_uri": "https://localhost:8080/",
          "height": 286
        }
      },
      "source": [
        "df.head()"
      ],
      "execution_count": 4,
      "outputs": [
        {
          "output_type": "execute_result",
          "data": {
            "text/html": [
              "<div>\n",
              "<style scoped>\n",
              "    .dataframe tbody tr th:only-of-type {\n",
              "        vertical-align: middle;\n",
              "    }\n",
              "\n",
              "    .dataframe tbody tr th {\n",
              "        vertical-align: top;\n",
              "    }\n",
              "\n",
              "    .dataframe thead th {\n",
              "        text-align: right;\n",
              "    }\n",
              "</style>\n",
              "<table border=\"1\" class=\"dataframe\">\n",
              "  <thead>\n",
              "    <tr style=\"text-align: right;\">\n",
              "      <th></th>\n",
              "      <th>native</th>\n",
              "      <th>language_background</th>\n",
              "      <th>title</th>\n",
              "      <th>text</th>\n",
              "      <th>date1</th>\n",
              "      <th>date2</th>\n",
              "      <th>level</th>\n",
              "      <th>annotated</th>\n",
              "      <th>checked</th>\n",
              "    </tr>\n",
              "    <tr>\n",
              "      <th>id</th>\n",
              "      <th></th>\n",
              "      <th></th>\n",
              "      <th></th>\n",
              "      <th></th>\n",
              "      <th></th>\n",
              "      <th></th>\n",
              "      <th></th>\n",
              "      <th></th>\n",
              "      <th></th>\n",
              "    </tr>\n",
              "  </thead>\n",
              "  <tbody>\n",
              "    <tr>\n",
              "      <th>1</th>\n",
              "      <td>eng</td>\n",
              "      <td>HL</td>\n",
              "      <td>expository (non-timed, paragraph, Environmenta...</td>\n",
              "      <td>Загрязнение тяжелыми металлами Дальнегорского...</td>\n",
              "      <td>2009.0</td>\n",
              "      <td>2010.0</td>\n",
              "      <td>AM</td>\n",
              "      <td>1</td>\n",
              "      <td>1</td>\n",
              "    </tr>\n",
              "    <tr>\n",
              "      <th>2</th>\n",
              "      <td>NaN</td>\n",
              "      <td>NaN</td>\n",
              "      <td>–</td>\n",
              "      <td>Многие жители России пишут письма президенту М...</td>\n",
              "      <td>2000.0</td>\n",
              "      <td>2013.0</td>\n",
              "      <td>NaN</td>\n",
              "      <td>1</td>\n",
              "      <td>1</td>\n",
              "    </tr>\n",
              "    <tr>\n",
              "      <th>3</th>\n",
              "      <td>eng</td>\n",
              "      <td>HL</td>\n",
              "      <td>business correspondence (non-timed, paragraph,...</td>\n",
              "      <td>Директору магазина « Адидас» М. И. Васильченк...</td>\n",
              "      <td>2009.0</td>\n",
              "      <td>2010.0</td>\n",
              "      <td>AM</td>\n",
              "      <td>1</td>\n",
              "      <td>1</td>\n",
              "    </tr>\n",
              "    <tr>\n",
              "      <th>4</th>\n",
              "      <td>eng</td>\n",
              "      <td>FL</td>\n",
              "      <td>definition (non-timed, sentences, Russian in t...</td>\n",
              "      <td>&amp;lt; Что такое аннотация?&amp;gt;. Что такое анно...</td>\n",
              "      <td>2011.0</td>\n",
              "      <td>2012.0</td>\n",
              "      <td>IH</td>\n",
              "      <td>1</td>\n",
              "      <td>1</td>\n",
              "    </tr>\n",
              "    <tr>\n",
              "      <th>5</th>\n",
              "      <td>eng</td>\n",
              "      <td>FL</td>\n",
              "      <td>summary (non-timed, paragraph, Capstone)</td>\n",
              "      <td>Вывод. Спасибо, ребята, за хорошие ответы. Я ...</td>\n",
              "      <td>2012.0</td>\n",
              "      <td>2013.0</td>\n",
              "      <td>AM</td>\n",
              "      <td>1</td>\n",
              "      <td>1</td>\n",
              "    </tr>\n",
              "  </tbody>\n",
              "</table>\n",
              "</div>"
            ],
            "text/plain": [
              "   native language_background  ... annotated checked\n",
              "id                             ...                  \n",
              "1     eng                  HL  ...         1       1\n",
              "2     NaN                 NaN  ...         1       1\n",
              "3     eng                  HL  ...         1       1\n",
              "4     eng                  FL  ...         1       1\n",
              "5     eng                  FL  ...         1       1\n",
              "\n",
              "[5 rows x 9 columns]"
            ]
          },
          "metadata": {
            "tags": []
          },
          "execution_count": 4
        }
      ]
    },
    {
      "cell_type": "code",
      "metadata": {
        "id": "N_R-1CbFa3Lw",
        "colab_type": "code",
        "colab": {}
      },
      "source": [
        "df = df.drop(['title', 'date1', 'date2', 'level', 'annotated', 'checked'], axis=1)"
      ],
      "execution_count": 0,
      "outputs": []
    },
    {
      "cell_type": "code",
      "metadata": {
        "id": "GVqcSGkcuYXF",
        "colab_type": "code",
        "colab": {}
      },
      "source": [
        "df = df.dropna()"
      ],
      "execution_count": 0,
      "outputs": []
    },
    {
      "cell_type": "code",
      "metadata": {
        "id": "5AbYvvd8y4cB",
        "colab_type": "code",
        "colab": {}
      },
      "source": [
        "df['text'] = df.text.apply(lambda x: re.sub('\\&[lg]t;', '', x))"
      ],
      "execution_count": 0,
      "outputs": []
    },
    {
      "cell_type": "code",
      "metadata": {
        "id": "MbSFGkrAwCjR",
        "colab_type": "code",
        "colab": {
          "base_uri": "https://localhost:8080/",
          "height": 235
        },
        "outputId": "c4d245c4-0be4-4c55-f9fc-58ce4fd45dee"
      },
      "source": [
        "df.head()"
      ],
      "execution_count": 8,
      "outputs": [
        {
          "output_type": "execute_result",
          "data": {
            "text/html": [
              "<div>\n",
              "<style scoped>\n",
              "    .dataframe tbody tr th:only-of-type {\n",
              "        vertical-align: middle;\n",
              "    }\n",
              "\n",
              "    .dataframe tbody tr th {\n",
              "        vertical-align: top;\n",
              "    }\n",
              "\n",
              "    .dataframe thead th {\n",
              "        text-align: right;\n",
              "    }\n",
              "</style>\n",
              "<table border=\"1\" class=\"dataframe\">\n",
              "  <thead>\n",
              "    <tr style=\"text-align: right;\">\n",
              "      <th></th>\n",
              "      <th>native</th>\n",
              "      <th>language_background</th>\n",
              "      <th>text</th>\n",
              "    </tr>\n",
              "    <tr>\n",
              "      <th>id</th>\n",
              "      <th></th>\n",
              "      <th></th>\n",
              "      <th></th>\n",
              "    </tr>\n",
              "  </thead>\n",
              "  <tbody>\n",
              "    <tr>\n",
              "      <th>1</th>\n",
              "      <td>eng</td>\n",
              "      <td>HL</td>\n",
              "      <td>Загрязнение тяжелыми металлами Дальнегорского...</td>\n",
              "    </tr>\n",
              "    <tr>\n",
              "      <th>3</th>\n",
              "      <td>eng</td>\n",
              "      <td>HL</td>\n",
              "      <td>Директору магазина « Адидас» М. И. Васильченк...</td>\n",
              "    </tr>\n",
              "    <tr>\n",
              "      <th>4</th>\n",
              "      <td>eng</td>\n",
              "      <td>FL</td>\n",
              "      <td>Что такое аннотация?. Что такое аннотация ( ...</td>\n",
              "    </tr>\n",
              "    <tr>\n",
              "      <th>5</th>\n",
              "      <td>eng</td>\n",
              "      <td>FL</td>\n",
              "      <td>Вывод. Спасибо, ребята, за хорошие ответы. Я ...</td>\n",
              "    </tr>\n",
              "    <tr>\n",
              "      <th>6</th>\n",
              "      <td>eng</td>\n",
              "      <td>FL</td>\n",
              "      <td>Записи. Первая проблема- что производить? втор...</td>\n",
              "    </tr>\n",
              "  </tbody>\n",
              "</table>\n",
              "</div>"
            ],
            "text/plain": [
              "   native  ...                                               text\n",
              "id         ...                                                   \n",
              "1     eng  ...   Загрязнение тяжелыми металлами Дальнегорского...\n",
              "3     eng  ...   Директору магазина « Адидас» М. И. Васильченк...\n",
              "4     eng  ...    Что такое аннотация?. Что такое аннотация ( ...\n",
              "5     eng  ...   Вывод. Спасибо, ребята, за хорошие ответы. Я ...\n",
              "6     eng  ...  Записи. Первая проблема- что производить? втор...\n",
              "\n",
              "[5 rows x 3 columns]"
            ]
          },
          "metadata": {
            "tags": []
          },
          "execution_count": 8
        }
      ]
    },
    {
      "cell_type": "code",
      "metadata": {
        "id": "pprXJVMF-yA0",
        "colab_type": "code",
        "outputId": "cd2d2bba-c58b-48c8-8f49-ee607396b313",
        "colab": {
          "base_uri": "https://localhost:8080/",
          "height": 289
        }
      },
      "source": [
        "df['native'].value_counts()"
      ],
      "execution_count": 9,
      "outputs": [
        {
          "output_type": "execute_result",
          "data": {
            "text/plain": [
              "eng    3145\n",
              "jap    1571\n",
              "fin    1231\n",
              "fr      495\n",
              "kaz     494\n",
              "ger     283\n",
              "kor     197\n",
              "swe     178\n",
              "ita     115\n",
              "taj      30\n",
              "nor      28\n",
              "chi      24\n",
              "ser      19\n",
              "dut      18\n",
              "est       2\n",
              "Name: native, dtype: int64"
            ]
          },
          "metadata": {
            "tags": []
          },
          "execution_count": 9
        }
      ]
    },
    {
      "cell_type": "code",
      "metadata": {
        "id": "Za1SSs_g-1DA",
        "colab_type": "code",
        "outputId": "90fc9e2d-28d9-40b1-f03f-b97c9c77cc4d",
        "colab": {
          "base_uri": "https://localhost:8080/",
          "height": 68
        }
      },
      "source": [
        "df['language_background'].value_counts()"
      ],
      "execution_count": 10,
      "outputs": [
        {
          "output_type": "execute_result",
          "data": {
            "text/plain": [
              "FL    5396\n",
              "HL    2434\n",
              "Name: language_background, dtype: int64"
            ]
          },
          "metadata": {
            "tags": []
          },
          "execution_count": 10
        }
      ]
    },
    {
      "cell_type": "code",
      "metadata": {
        "id": "T6vSCGPZtb_l",
        "colab_type": "code",
        "colab": {
          "base_uri": "https://localhost:8080/",
          "height": 235
        },
        "outputId": "53b8c260-513c-4ace-8da7-3739211f553a"
      },
      "source": [
        "df.head()"
      ],
      "execution_count": 11,
      "outputs": [
        {
          "output_type": "execute_result",
          "data": {
            "text/html": [
              "<div>\n",
              "<style scoped>\n",
              "    .dataframe tbody tr th:only-of-type {\n",
              "        vertical-align: middle;\n",
              "    }\n",
              "\n",
              "    .dataframe tbody tr th {\n",
              "        vertical-align: top;\n",
              "    }\n",
              "\n",
              "    .dataframe thead th {\n",
              "        text-align: right;\n",
              "    }\n",
              "</style>\n",
              "<table border=\"1\" class=\"dataframe\">\n",
              "  <thead>\n",
              "    <tr style=\"text-align: right;\">\n",
              "      <th></th>\n",
              "      <th>native</th>\n",
              "      <th>language_background</th>\n",
              "      <th>text</th>\n",
              "    </tr>\n",
              "    <tr>\n",
              "      <th>id</th>\n",
              "      <th></th>\n",
              "      <th></th>\n",
              "      <th></th>\n",
              "    </tr>\n",
              "  </thead>\n",
              "  <tbody>\n",
              "    <tr>\n",
              "      <th>1</th>\n",
              "      <td>eng</td>\n",
              "      <td>HL</td>\n",
              "      <td>Загрязнение тяжелыми металлами Дальнегорского...</td>\n",
              "    </tr>\n",
              "    <tr>\n",
              "      <th>3</th>\n",
              "      <td>eng</td>\n",
              "      <td>HL</td>\n",
              "      <td>Директору магазина « Адидас» М. И. Васильченк...</td>\n",
              "    </tr>\n",
              "    <tr>\n",
              "      <th>4</th>\n",
              "      <td>eng</td>\n",
              "      <td>FL</td>\n",
              "      <td>Что такое аннотация?. Что такое аннотация ( ...</td>\n",
              "    </tr>\n",
              "    <tr>\n",
              "      <th>5</th>\n",
              "      <td>eng</td>\n",
              "      <td>FL</td>\n",
              "      <td>Вывод. Спасибо, ребята, за хорошие ответы. Я ...</td>\n",
              "    </tr>\n",
              "    <tr>\n",
              "      <th>6</th>\n",
              "      <td>eng</td>\n",
              "      <td>FL</td>\n",
              "      <td>Записи. Первая проблема- что производить? втор...</td>\n",
              "    </tr>\n",
              "  </tbody>\n",
              "</table>\n",
              "</div>"
            ],
            "text/plain": [
              "   native  ...                                               text\n",
              "id         ...                                                   \n",
              "1     eng  ...   Загрязнение тяжелыми металлами Дальнегорского...\n",
              "3     eng  ...   Директору магазина « Адидас» М. И. Васильченк...\n",
              "4     eng  ...    Что такое аннотация?. Что такое аннотация ( ...\n",
              "5     eng  ...   Вывод. Спасибо, ребята, за хорошие ответы. Я ...\n",
              "6     eng  ...  Записи. Первая проблема- что производить? втор...\n",
              "\n",
              "[5 rows x 3 columns]"
            ]
          },
          "metadata": {
            "tags": []
          },
          "execution_count": 11
        }
      ]
    },
    {
      "cell_type": "markdown",
      "metadata": {
        "id": "83TkF0E_msn8",
        "colab_type": "text"
      },
      "source": [
        "## Word n-grams + truncation"
      ]
    },
    {
      "cell_type": "markdown",
      "metadata": {
        "id": "2BAbFIuwm7J6",
        "colab_type": "text"
      },
      "source": [
        "### Choose word number limit for truncation"
      ]
    },
    {
      "cell_type": "code",
      "metadata": {
        "id": "sYNaE0XYEZU8",
        "colab_type": "code",
        "outputId": "daf289e2-2231-417f-e5d1-bee258d952bc",
        "colab": {
          "base_uri": "https://localhost:8080/",
          "height": 0
        }
      },
      "source": [
        "df['len'] = df['text'].apply(lambda x: len(x.split()))\n",
        "df.head()"
      ],
      "execution_count": 12,
      "outputs": [
        {
          "output_type": "execute_result",
          "data": {
            "text/html": [
              "<div>\n",
              "<style scoped>\n",
              "    .dataframe tbody tr th:only-of-type {\n",
              "        vertical-align: middle;\n",
              "    }\n",
              "\n",
              "    .dataframe tbody tr th {\n",
              "        vertical-align: top;\n",
              "    }\n",
              "\n",
              "    .dataframe thead th {\n",
              "        text-align: right;\n",
              "    }\n",
              "</style>\n",
              "<table border=\"1\" class=\"dataframe\">\n",
              "  <thead>\n",
              "    <tr style=\"text-align: right;\">\n",
              "      <th></th>\n",
              "      <th>native</th>\n",
              "      <th>language_background</th>\n",
              "      <th>text</th>\n",
              "      <th>len</th>\n",
              "    </tr>\n",
              "    <tr>\n",
              "      <th>id</th>\n",
              "      <th></th>\n",
              "      <th></th>\n",
              "      <th></th>\n",
              "      <th></th>\n",
              "    </tr>\n",
              "  </thead>\n",
              "  <tbody>\n",
              "    <tr>\n",
              "      <th>1</th>\n",
              "      <td>eng</td>\n",
              "      <td>HL</td>\n",
              "      <td>Загрязнение тяжелыми металлами Дальнегорского...</td>\n",
              "      <td>368</td>\n",
              "    </tr>\n",
              "    <tr>\n",
              "      <th>3</th>\n",
              "      <td>eng</td>\n",
              "      <td>HL</td>\n",
              "      <td>Директору магазина « Адидас» М. И. Васильченк...</td>\n",
              "      <td>186</td>\n",
              "    </tr>\n",
              "    <tr>\n",
              "      <th>4</th>\n",
              "      <td>eng</td>\n",
              "      <td>FL</td>\n",
              "      <td>Что такое аннотация?. Что такое аннотация ( ...</td>\n",
              "      <td>29</td>\n",
              "    </tr>\n",
              "    <tr>\n",
              "      <th>5</th>\n",
              "      <td>eng</td>\n",
              "      <td>FL</td>\n",
              "      <td>Вывод. Спасибо, ребята, за хорошие ответы. Я ...</td>\n",
              "      <td>385</td>\n",
              "    </tr>\n",
              "    <tr>\n",
              "      <th>6</th>\n",
              "      <td>eng</td>\n",
              "      <td>FL</td>\n",
              "      <td>Записи. Первая проблема- что производить? втор...</td>\n",
              "      <td>278</td>\n",
              "    </tr>\n",
              "  </tbody>\n",
              "</table>\n",
              "</div>"
            ],
            "text/plain": [
              "   native  ...  len\n",
              "id         ...     \n",
              "1     eng  ...  368\n",
              "3     eng  ...  186\n",
              "4     eng  ...   29\n",
              "5     eng  ...  385\n",
              "6     eng  ...  278\n",
              "\n",
              "[5 rows x 4 columns]"
            ]
          },
          "metadata": {
            "tags": []
          },
          "execution_count": 12
        }
      ]
    },
    {
      "cell_type": "code",
      "metadata": {
        "id": "sqTiqf8mHaPo",
        "colab_type": "code",
        "outputId": "32dbe2e5-31b3-4f5e-be8c-4f78252cd509",
        "colab": {
          "base_uri": "https://localhost:8080/",
          "height": 0
        }
      },
      "source": [
        "df['len'].hist(bins=100)"
      ],
      "execution_count": 13,
      "outputs": [
        {
          "output_type": "execute_result",
          "data": {
            "text/plain": [
              "<matplotlib.axes._subplots.AxesSubplot at 0x7fc5751009b0>"
            ]
          },
          "metadata": {
            "tags": []
          },
          "execution_count": 13
        },
        {
          "output_type": "display_data",
          "data": {
            "image/png": "[encoded data removed]",
            "text/plain": [
              "<Figure size 432x288 with 1 Axes>"
            ]
          },
          "metadata": {
            "tags": []
          }
        }
      ]
    },
    {
      "cell_type": "code",
      "metadata": {
        "id": "8yiUNFPKH0Iu",
        "colab_type": "code",
        "colab": {}
      },
      "source": [
        "import numpy as np"
      ],
      "execution_count": 0,
      "outputs": []
    },
    {
      "cell_type": "code",
      "metadata": {
        "id": "jMD2M-tCH6_G",
        "colab_type": "code",
        "colab": {}
      },
      "source": [
        "from scipy import stats"
      ],
      "execution_count": 0,
      "outputs": []
    },
    {
      "cell_type": "code",
      "metadata": {
        "id": "6p5xbMRwHsTV",
        "colab_type": "code",
        "outputId": "fb460f49-c0c0-41a5-831f-0eee6f51e9e4",
        "colab": {
          "base_uri": "https://localhost:8080/",
          "height": 0
        }
      },
      "source": [
        "np.mean(list(df['len']))"
      ],
      "execution_count": 16,
      "outputs": [
        {
          "output_type": "execute_result",
          "data": {
            "text/plain": [
              "179.23575989782887"
            ]
          },
          "metadata": {
            "tags": []
          },
          "execution_count": 16
        }
      ]
    },
    {
      "cell_type": "code",
      "metadata": {
        "id": "qAvaktY6HvOo",
        "colab_type": "code",
        "outputId": "ebdad890-f298-4bc2-f390-1de850723f5b",
        "colab": {
          "base_uri": "https://localhost:8080/",
          "height": 0
        }
      },
      "source": [
        "stats.mode(list(df['len']))"
      ],
      "execution_count": 17,
      "outputs": [
        {
          "output_type": "execute_result",
          "data": {
            "text/plain": [
              "ModeResult(mode=array([64]), count=array([54]))"
            ]
          },
          "metadata": {
            "tags": []
          },
          "execution_count": 17
        }
      ]
    },
    {
      "cell_type": "code",
      "metadata": {
        "id": "GYR4kXEqNF46",
        "colab_type": "code",
        "colab": {
          "base_uri": "https://localhost:8080/",
          "height": 0
        },
        "outputId": "aac2199c-fb10-49c6-d3e8-a39d726cc46a"
      },
      "source": [
        "len(df[df['len'] >= 64])"
      ],
      "execution_count": 18,
      "outputs": [
        {
          "output_type": "execute_result",
          "data": {
            "text/plain": [
              "6300"
            ]
          },
          "metadata": {
            "tags": []
          },
          "execution_count": 18
        }
      ]
    },
    {
      "cell_type": "markdown",
      "metadata": {
        "id": "wJCDqvGAnEAe",
        "colab_type": "text"
      },
      "source": [
        "### Tokenize texts"
      ]
    },
    {
      "cell_type": "code",
      "metadata": {
        "id": "N_6EugzbOqTc",
        "colab_type": "code",
        "colab": {}
      },
      "source": [
        "import re"
      ],
      "execution_count": 0,
      "outputs": []
    },
    {
      "cell_type": "code",
      "metadata": {
        "id": "nYl0KeSwOnY6",
        "colab_type": "code",
        "colab": {}
      },
      "source": [
        "df['word_tokens'] = df['text'].apply(lambda x: re.findall('\\w+', x.lower()))"
      ],
      "execution_count": 0,
      "outputs": []
    },
    {
      "cell_type": "code",
      "metadata": {
        "id": "2oKZgdLgPBFW",
        "colab_type": "code",
        "colab": {
          "base_uri": "https://localhost:8080/",
          "height": 235
        },
        "outputId": "a9c3c6bc-5d88-4826-d2cb-2eb43376a3d3"
      },
      "source": [
        "df.head()"
      ],
      "execution_count": 21,
      "outputs": [
        {
          "output_type": "execute_result",
          "data": {
            "text/html": [
              "<div>\n",
              "<style scoped>\n",
              "    .dataframe tbody tr th:only-of-type {\n",
              "        vertical-align: middle;\n",
              "    }\n",
              "\n",
              "    .dataframe tbody tr th {\n",
              "        vertical-align: top;\n",
              "    }\n",
              "\n",
              "    .dataframe thead th {\n",
              "        text-align: right;\n",
              "    }\n",
              "</style>\n",
              "<table border=\"1\" class=\"dataframe\">\n",
              "  <thead>\n",
              "    <tr style=\"text-align: right;\">\n",
              "      <th></th>\n",
              "      <th>native</th>\n",
              "      <th>language_background</th>\n",
              "      <th>text</th>\n",
              "      <th>len</th>\n",
              "      <th>word_tokens</th>\n",
              "    </tr>\n",
              "    <tr>\n",
              "      <th>id</th>\n",
              "      <th></th>\n",
              "      <th></th>\n",
              "      <th></th>\n",
              "      <th></th>\n",
              "      <th></th>\n",
              "    </tr>\n",
              "  </thead>\n",
              "  <tbody>\n",
              "    <tr>\n",
              "      <th>1</th>\n",
              "      <td>eng</td>\n",
              "      <td>HL</td>\n",
              "      <td>Загрязнение тяжелыми металлами Дальнегорского...</td>\n",
              "      <td>368</td>\n",
              "      <td>[загрязнение, тяжелыми, металлами, дальнегорск...</td>\n",
              "    </tr>\n",
              "    <tr>\n",
              "      <th>3</th>\n",
              "      <td>eng</td>\n",
              "      <td>HL</td>\n",
              "      <td>Директору магазина « Адидас» М. И. Васильченк...</td>\n",
              "      <td>186</td>\n",
              "      <td>[директору, магазина, адидас, м, и, васильченк...</td>\n",
              "    </tr>\n",
              "    <tr>\n",
              "      <th>4</th>\n",
              "      <td>eng</td>\n",
              "      <td>FL</td>\n",
              "      <td>Что такое аннотация?. Что такое аннотация ( ...</td>\n",
              "      <td>29</td>\n",
              "      <td>[что, такое, аннотация, что, такое, аннотация,...</td>\n",
              "    </tr>\n",
              "    <tr>\n",
              "      <th>5</th>\n",
              "      <td>eng</td>\n",
              "      <td>FL</td>\n",
              "      <td>Вывод. Спасибо, ребята, за хорошие ответы. Я ...</td>\n",
              "      <td>385</td>\n",
              "      <td>[вывод, спасибо, ребята, за, хорошие, ответы, ...</td>\n",
              "    </tr>\n",
              "    <tr>\n",
              "      <th>6</th>\n",
              "      <td>eng</td>\n",
              "      <td>FL</td>\n",
              "      <td>Записи. Первая проблема- что производить? втор...</td>\n",
              "      <td>278</td>\n",
              "      <td>[записи, первая, проблема, что, производить, в...</td>\n",
              "    </tr>\n",
              "  </tbody>\n",
              "</table>\n",
              "</div>"
            ],
            "text/plain": [
              "   native  ...                                        word_tokens\n",
              "id         ...                                                   \n",
              "1     eng  ...  [загрязнение, тяжелыми, металлами, дальнегорск...\n",
              "3     eng  ...  [директору, магазина, адидас, м, и, васильченк...\n",
              "4     eng  ...  [что, такое, аннотация, что, такое, аннотация,...\n",
              "5     eng  ...  [вывод, спасибо, ребята, за, хорошие, ответы, ...\n",
              "6     eng  ...  [записи, первая, проблема, что, производить, в...\n",
              "\n",
              "[5 rows x 5 columns]"
            ]
          },
          "metadata": {
            "tags": []
          },
          "execution_count": 21
        }
      ]
    },
    {
      "cell_type": "markdown",
      "metadata": {
        "id": "Jjh8KM1cnNLm",
        "colab_type": "text"
      },
      "source": [
        "### Truncate texts by words"
      ]
    },
    {
      "cell_type": "code",
      "metadata": {
        "id": "o-peoFjYPEUz",
        "colab_type": "code",
        "colab": {}
      },
      "source": [
        "df['words_truncated'] = df.word_tokens.apply(lambda x: [x[i] for i in range(len(x)) if i <= 64])"
      ],
      "execution_count": 0,
      "outputs": []
    },
    {
      "cell_type": "code",
      "metadata": {
        "id": "9EFzFT5-S7Bq",
        "colab_type": "code",
        "colab": {
          "base_uri": "https://localhost:8080/",
          "height": 0
        },
        "outputId": "a6ce8b07-9024-4e8f-afa3-324099967a48"
      },
      "source": [
        "df.head()"
      ],
      "execution_count": 23,
      "outputs": [
        {
          "output_type": "execute_result",
          "data": {
            "text/html": [
              "<div>\n",
              "<style scoped>\n",
              "    .dataframe tbody tr th:only-of-type {\n",
              "        vertical-align: middle;\n",
              "    }\n",
              "\n",
              "    .dataframe tbody tr th {\n",
              "        vertical-align: top;\n",
              "    }\n",
              "\n",
              "    .dataframe thead th {\n",
              "        text-align: right;\n",
              "    }\n",
              "</style>\n",
              "<table border=\"1\" class=\"dataframe\">\n",
              "  <thead>\n",
              "    <tr style=\"text-align: right;\">\n",
              "      <th></th>\n",
              "      <th>native</th>\n",
              "      <th>language_background</th>\n",
              "      <th>text</th>\n",
              "      <th>len</th>\n",
              "      <th>word_tokens</th>\n",
              "      <th>words_truncated</th>\n",
              "    </tr>\n",
              "    <tr>\n",
              "      <th>id</th>\n",
              "      <th></th>\n",
              "      <th></th>\n",
              "      <th></th>\n",
              "      <th></th>\n",
              "      <th></th>\n",
              "      <th></th>\n",
              "    </tr>\n",
              "  </thead>\n",
              "  <tbody>\n",
              "    <tr>\n",
              "      <th>1</th>\n",
              "      <td>eng</td>\n",
              "      <td>HL</td>\n",
              "      <td>Загрязнение тяжелыми металлами Дальнегорского...</td>\n",
              "      <td>368</td>\n",
              "      <td>[загрязнение, тяжелыми, металлами, дальнегорск...</td>\n",
              "      <td>[загрязнение, тяжелыми, металлами, дальнегорск...</td>\n",
              "    </tr>\n",
              "    <tr>\n",
              "      <th>3</th>\n",
              "      <td>eng</td>\n",
              "      <td>HL</td>\n",
              "      <td>Директору магазина « Адидас» М. И. Васильченк...</td>\n",
              "      <td>186</td>\n",
              "      <td>[директору, магазина, адидас, м, и, васильченк...</td>\n",
              "      <td>[директору, магазина, адидас, м, и, васильченк...</td>\n",
              "    </tr>\n",
              "    <tr>\n",
              "      <th>4</th>\n",
              "      <td>eng</td>\n",
              "      <td>FL</td>\n",
              "      <td>Что такое аннотация?. Что такое аннотация ( ...</td>\n",
              "      <td>29</td>\n",
              "      <td>[что, такое, аннотация, что, такое, аннотация,...</td>\n",
              "      <td>[что, такое, аннотация, что, такое, аннотация,...</td>\n",
              "    </tr>\n",
              "    <tr>\n",
              "      <th>5</th>\n",
              "      <td>eng</td>\n",
              "      <td>FL</td>\n",
              "      <td>Вывод. Спасибо, ребята, за хорошие ответы. Я ...</td>\n",
              "      <td>385</td>\n",
              "      <td>[вывод, спасибо, ребята, за, хорошие, ответы, ...</td>\n",
              "      <td>[вывод, спасибо, ребята, за, хорошие, ответы, ...</td>\n",
              "    </tr>\n",
              "    <tr>\n",
              "      <th>6</th>\n",
              "      <td>eng</td>\n",
              "      <td>FL</td>\n",
              "      <td>Записи. Первая проблема- что производить? втор...</td>\n",
              "      <td>278</td>\n",
              "      <td>[записи, первая, проблема, что, производить, в...</td>\n",
              "      <td>[записи, первая, проблема, что, производить, в...</td>\n",
              "    </tr>\n",
              "  </tbody>\n",
              "</table>\n",
              "</div>"
            ],
            "text/plain": [
              "   native  ...                                    words_truncated\n",
              "id         ...                                                   \n",
              "1     eng  ...  [загрязнение, тяжелыми, металлами, дальнегорск...\n",
              "3     eng  ...  [директору, магазина, адидас, м, и, васильченк...\n",
              "4     eng  ...  [что, такое, аннотация, что, такое, аннотация,...\n",
              "5     eng  ...  [вывод, спасибо, ребята, за, хорошие, ответы, ...\n",
              "6     eng  ...  [записи, первая, проблема, что, производить, в...\n",
              "\n",
              "[5 rows x 6 columns]"
            ]
          },
          "metadata": {
            "tags": []
          },
          "execution_count": 23
        }
      ]
    },
    {
      "cell_type": "markdown",
      "metadata": {
        "id": "-LoZDZnjngiu",
        "colab_type": "text"
      },
      "source": [
        "### Universal n-gram functions for the dataset"
      ]
    },
    {
      "cell_type": "code",
      "metadata": {
        "id": "okgmhC7LUAkp",
        "colab_type": "code",
        "colab": {}
      },
      "source": [
        "def collecting_ngrams(token_list, n, char=True):\n",
        "  ngram_list = []\n",
        "  for i in range(len(token_list)):\n",
        "    ngram = token_list[i]\n",
        "    if i + n > len(token_list):\n",
        "      break\n",
        "    else:\n",
        "      for it in range(1, n):\n",
        "        if char == True:\n",
        "          ngram = ngram + token_list[i + it]\n",
        "        else:\n",
        "          ngram = ngram + ' ' + token_list[i + it]\n",
        "    ngram_list.append(ngram)\n",
        "  return ngram_list\n"
      ],
      "execution_count": 0,
      "outputs": []
    },
    {
      "cell_type": "code",
      "metadata": {
        "id": "0m7g8WnyW3Wd",
        "colab_type": "code",
        "colab": {}
      },
      "source": [
        "from collections import Counter"
      ],
      "execution_count": 0,
      "outputs": []
    },
    {
      "cell_type": "code",
      "metadata": {
        "id": "_3mHSlLEV0AJ",
        "colab_type": "code",
        "colab": {}
      },
      "source": [
        "def freq_ngrams(token_list, n_grams, n_freq, char=True):\n",
        "  ngram_list = collecting_ngrams(token_list, n_grams, char=char)\n",
        "  \n",
        "  return Counter(ngram_list).most_common(n_freq)"
      ],
      "execution_count": 0,
      "outputs": []
    },
    {
      "cell_type": "markdown",
      "metadata": {
        "id": "yIyFxb-PnoI7",
        "colab_type": "text"
      },
      "source": [
        "### Making word bi- and trigrams"
      ]
    },
    {
      "cell_type": "code",
      "metadata": {
        "id": "HqIIVzVIrt-w",
        "colab_type": "code",
        "colab": {}
      },
      "source": [
        "df['word_unigrams'] = df.words_truncated.apply(lambda x: Counter(x).most_common(3000))"
      ],
      "execution_count": 0,
      "outputs": []
    },
    {
      "cell_type": "code",
      "metadata": {
        "id": "ieQzcoJBX9_o",
        "colab_type": "code",
        "colab": {}
      },
      "source": [
        "df['word_bigrams'] = df.words_truncated.apply(lambda x: freq_ngrams(x, 2, 3000, char=False))"
      ],
      "execution_count": 0,
      "outputs": []
    },
    {
      "cell_type": "code",
      "metadata": {
        "id": "ole44MKWZe3w",
        "colab_type": "code",
        "colab": {}
      },
      "source": [
        "df['word_trigrams'] = df.words_truncated.apply(lambda x: freq_ngrams(x, 3, 3000, char=False))"
      ],
      "execution_count": 0,
      "outputs": []
    },
    {
      "cell_type": "code",
      "metadata": {
        "id": "ynwtbfGZZu2q",
        "colab_type": "code",
        "colab": {
          "base_uri": "https://localhost:8080/",
          "height": 422
        },
        "outputId": "5b0ac03c-2c6d-4a52-fac8-48f028367160"
      },
      "source": [
        "df.head()"
      ],
      "execution_count": 30,
      "outputs": [
        {
          "output_type": "execute_result",
          "data": {
            "text/html": [
              "<div>\n",
              "<style scoped>\n",
              "    .dataframe tbody tr th:only-of-type {\n",
              "        vertical-align: middle;\n",
              "    }\n",
              "\n",
              "    .dataframe tbody tr th {\n",
              "        vertical-align: top;\n",
              "    }\n",
              "\n",
              "    .dataframe thead th {\n",
              "        text-align: right;\n",
              "    }\n",
              "</style>\n",
              "<table border=\"1\" class=\"dataframe\">\n",
              "  <thead>\n",
              "    <tr style=\"text-align: right;\">\n",
              "      <th></th>\n",
              "      <th>native</th>\n",
              "      <th>language_background</th>\n",
              "      <th>text</th>\n",
              "      <th>len</th>\n",
              "      <th>word_tokens</th>\n",
              "      <th>words_truncated</th>\n",
              "      <th>word_unigrams</th>\n",
              "      <th>word_bigrams</th>\n",
              "      <th>word_trigrams</th>\n",
              "    </tr>\n",
              "    <tr>\n",
              "      <th>id</th>\n",
              "      <th></th>\n",
              "      <th></th>\n",
              "      <th></th>\n",
              "      <th></th>\n",
              "      <th></th>\n",
              "      <th></th>\n",
              "      <th></th>\n",
              "      <th></th>\n",
              "      <th></th>\n",
              "    </tr>\n",
              "  </thead>\n",
              "  <tbody>\n",
              "    <tr>\n",
              "      <th>1</th>\n",
              "      <td>eng</td>\n",
              "      <td>HL</td>\n",
              "      <td>Загрязнение тяжелыми металлами Дальнегорского...</td>\n",
              "      <td>368</td>\n",
              "      <td>[загрязнение, тяжелыми, металлами, дальнегорск...</td>\n",
              "      <td>[загрязнение, тяжелыми, металлами, дальнегорск...</td>\n",
              "      <td>[(загрязнение, 2), (тяжелыми, 2), (металлами, ...</td>\n",
              "      <td>[(тяжелыми металлами, 2), (пос рудная, 2), (ру...</td>\n",
              "      <td>[(пос рудная пристань, 2), (загрязнение тяжелы...</td>\n",
              "    </tr>\n",
              "    <tr>\n",
              "      <th>3</th>\n",
              "      <td>eng</td>\n",
              "      <td>HL</td>\n",
              "      <td>Директору магазина « Адидас» М. И. Васильченк...</td>\n",
              "      <td>186</td>\n",
              "      <td>[директору, магазина, адидас, м, и, васильченк...</td>\n",
              "      <td>[директору, магазина, адидас, м, и, васильченк...</td>\n",
              "      <td>[(магазина, 2), (адидас, 2), (и, 2), (г, 2), (...</td>\n",
              "      <td>[(магазина адидас, 2), (г владимир, 2), (влади...</td>\n",
              "      <td>[(г владимир ул, 2), (директору магазина адида...</td>\n",
              "    </tr>\n",
              "    <tr>\n",
              "      <th>4</th>\n",
              "      <td>eng</td>\n",
              "      <td>FL</td>\n",
              "      <td>Что такое аннотация?. Что такое аннотация ( ...</td>\n",
              "      <td>29</td>\n",
              "      <td>[что, такое, аннотация, что, такое, аннотация,...</td>\n",
              "      <td>[что, такое, аннотация, что, такое, аннотация,...</td>\n",
              "      <td>[(что, 2), (такое, 2), (аннотация, 2), (как, 2...</td>\n",
              "      <td>[(что такое, 2), (такое аннотация, 2), (аннота...</td>\n",
              "      <td>[(что такое аннотация, 2), (такое аннотация чт...</td>\n",
              "    </tr>\n",
              "    <tr>\n",
              "      <th>5</th>\n",
              "      <td>eng</td>\n",
              "      <td>FL</td>\n",
              "      <td>Вывод. Спасибо, ребята, за хорошие ответы. Я ...</td>\n",
              "      <td>385</td>\n",
              "      <td>[вывод, спасибо, ребята, за, хорошие, ответы, ...</td>\n",
              "      <td>[вывод, спасибо, ребята, за, хорошие, ответы, ...</td>\n",
              "      <td>[(все, 3), (и, 3), (что, 3), (во, 2), (согласн...</td>\n",
              "      <td>[(согласны что, 2), (вывод спасибо, 1), (спаси...</td>\n",
              "      <td>[(вывод спасибо ребята, 1), (спасибо ребята за...</td>\n",
              "    </tr>\n",
              "    <tr>\n",
              "      <th>6</th>\n",
              "      <td>eng</td>\n",
              "      <td>FL</td>\n",
              "      <td>Записи. Первая проблема- что производить? втор...</td>\n",
              "      <td>278</td>\n",
              "      <td>[записи, первая, проблема, что, производить, в...</td>\n",
              "      <td>[записи, первая, проблема, что, производить, в...</td>\n",
              "      <td>[(и, 5), (производить, 3), (первая, 2), (пробл...</td>\n",
              "      <td>[(записи первая, 1), (первая проблема, 1), (пр...</td>\n",
              "      <td>[(записи первая проблема, 1), (первая проблема...</td>\n",
              "    </tr>\n",
              "  </tbody>\n",
              "</table>\n",
              "</div>"
            ],
            "text/plain": [
              "   native  ...                                      word_trigrams\n",
              "id         ...                                                   \n",
              "1     eng  ...  [(пос рудная пристань, 2), (загрязнение тяжелы...\n",
              "3     eng  ...  [(г владимир ул, 2), (директору магазина адида...\n",
              "4     eng  ...  [(что такое аннотация, 2), (такое аннотация чт...\n",
              "5     eng  ...  [(вывод спасибо ребята, 1), (спасибо ребята за...\n",
              "6     eng  ...  [(записи первая проблема, 1), (первая проблема...\n",
              "\n",
              "[5 rows x 9 columns]"
            ]
          },
          "metadata": {
            "tags": []
          },
          "execution_count": 30
        }
      ]
    },
    {
      "cell_type": "markdown",
      "metadata": {
        "id": "zILiQ8xNnv_N",
        "colab_type": "text"
      },
      "source": [
        "## Character n-grams + truncation"
      ]
    },
    {
      "cell_type": "markdown",
      "metadata": {
        "id": "h4BlDtFcn1Ii",
        "colab_type": "text"
      },
      "source": [
        "### Choose character number limit"
      ]
    },
    {
      "cell_type": "code",
      "metadata": {
        "id": "brjGqpm6bcJR",
        "colab_type": "code",
        "colab": {}
      },
      "source": [
        "df['len_sym'] = df.text.apply(lambda x: len(x))"
      ],
      "execution_count": 0,
      "outputs": []
    },
    {
      "cell_type": "code",
      "metadata": {
        "id": "cu1YriuFbcbw",
        "colab_type": "code",
        "colab": {
          "base_uri": "https://localhost:8080/",
          "height": 34
        },
        "outputId": "f1cac902-356f-43e3-f726-fe89566c53c3"
      },
      "source": [
        "stats.mode(list(df['len_sym']))"
      ],
      "execution_count": 32,
      "outputs": [
        {
          "output_type": "execute_result",
          "data": {
            "text/plain": [
              "ModeResult(mode=array([390]), count=array([16]))"
            ]
          },
          "metadata": {
            "tags": []
          },
          "execution_count": 32
        }
      ]
    },
    {
      "cell_type": "code",
      "metadata": {
        "id": "1gSW6I3ibcvd",
        "colab_type": "code",
        "colab": {
          "base_uri": "https://localhost:8080/",
          "height": 34
        },
        "outputId": "e6920d56-73f5-4bb1-d5f9-7d4b5c5010d7"
      },
      "source": [
        "len(df[df.len_sym >= 630])"
      ],
      "execution_count": 33,
      "outputs": [
        {
          "output_type": "execute_result",
          "data": {
            "text/plain": [
              "5199"
            ]
          },
          "metadata": {
            "tags": []
          },
          "execution_count": 33
        }
      ]
    },
    {
      "cell_type": "markdown",
      "metadata": {
        "id": "Y6SxCFOgn54O",
        "colab_type": "text"
      },
      "source": [
        "### Truncate texts by characters"
      ]
    },
    {
      "cell_type": "code",
      "metadata": {
        "id": "WZjlMqjMfqnJ",
        "colab_type": "code",
        "colab": {}
      },
      "source": [
        "df['char_truncated'] = df.text.apply(lambda x: x[:630])"
      ],
      "execution_count": 0,
      "outputs": []
    },
    {
      "cell_type": "markdown",
      "metadata": {
        "id": "h3vFaKE0oD3O",
        "colab_type": "text"
      },
      "source": [
        "### Make frequent n-gram samples, 3 <= n <= 10"
      ]
    },
    {
      "cell_type": "code",
      "metadata": {
        "id": "b4jEAz63fmbv",
        "colab_type": "code",
        "colab": {}
      },
      "source": [
        "from tqdm import tqdm"
      ],
      "execution_count": 0,
      "outputs": []
    },
    {
      "cell_type": "code",
      "metadata": {
        "id": "LKGt97pnj_yp",
        "colab_type": "code",
        "colab": {}
      },
      "source": [
        "try:\n",
        "  for instance in tqdm._instances:\n",
        "    tqdm.decr_(instance)\n",
        "except AttributeError:\n",
        "  pass"
      ],
      "execution_count": 0,
      "outputs": []
    },
    {
      "cell_type": "code",
      "metadata": {
        "id": "tjinvMqicZiC",
        "colab_type": "code",
        "colab": {
          "base_uri": "https://localhost:8080/",
          "height": 34
        },
        "outputId": "5be1917c-af40-4d83-9185-5aa91693c03a"
      },
      "source": [
        "for i in tqdm(range(3, 11)):\n",
        "  col_name = 'character {}-grams'.format(i)\n",
        "  df[col_name] = df.char_truncated.apply(lambda x: freq_ngrams(x, i, 3000, char=True))"
      ],
      "execution_count": 37,
      "outputs": [
        {
          "output_type": "stream",
          "text": [
            "100%|██████████| 8/8 [01:04<00:00,  9.24s/it]\n"
          ],
          "name": "stderr"
        }
      ]
    },
    {
      "cell_type": "code",
      "metadata": {
        "id": "FooqWSs6dLM2",
        "colab_type": "code",
        "colab": {
          "base_uri": "https://localhost:8080/",
          "height": 731
        },
        "outputId": "83824f0f-5c60-4893-88e9-b42a41fd6e56"
      },
      "source": [
        "df.head()"
      ],
      "execution_count": 38,
      "outputs": [
        {
          "output_type": "execute_result",
          "data": {
            "text/html": [
              "<div>\n",
              "<style scoped>\n",
              "    .dataframe tbody tr th:only-of-type {\n",
              "        vertical-align: middle;\n",
              "    }\n",
              "\n",
              "    .dataframe tbody tr th {\n",
              "        vertical-align: top;\n",
              "    }\n",
              "\n",
              "    .dataframe thead th {\n",
              "        text-align: right;\n",
              "    }\n",
              "</style>\n",
              "<table border=\"1\" class=\"dataframe\">\n",
              "  <thead>\n",
              "    <tr style=\"text-align: right;\">\n",
              "      <th></th>\n",
              "      <th>native</th>\n",
              "      <th>language_background</th>\n",
              "      <th>text</th>\n",
              "      <th>len</th>\n",
              "      <th>word_tokens</th>\n",
              "      <th>words_truncated</th>\n",
              "      <th>word_unigrams</th>\n",
              "      <th>word_bigrams</th>\n",
              "      <th>word_trigrams</th>\n",
              "      <th>len_sym</th>\n",
              "      <th>char_truncated</th>\n",
              "      <th>character 3-grams</th>\n",
              "      <th>character 4-grams</th>\n",
              "      <th>character 5-grams</th>\n",
              "      <th>character 6-grams</th>\n",
              "      <th>character 7-grams</th>\n",
              "      <th>character 8-grams</th>\n",
              "      <th>character 9-grams</th>\n",
              "      <th>character 10-grams</th>\n",
              "    </tr>\n",
              "    <tr>\n",
              "      <th>id</th>\n",
              "      <th></th>\n",
              "      <th></th>\n",
              "      <th></th>\n",
              "      <th></th>\n",
              "      <th></th>\n",
              "      <th></th>\n",
              "      <th></th>\n",
              "      <th></th>\n",
              "      <th></th>\n",
              "      <th></th>\n",
              "      <th></th>\n",
              "      <th></th>\n",
              "      <th></th>\n",
              "      <th></th>\n",
              "      <th></th>\n",
              "      <th></th>\n",
              "      <th></th>\n",
              "      <th></th>\n",
              "      <th></th>\n",
              "    </tr>\n",
              "  </thead>\n",
              "  <tbody>\n",
              "    <tr>\n",
              "      <th>1</th>\n",
              "      <td>eng</td>\n",
              "      <td>HL</td>\n",
              "      <td>Загрязнение тяжелыми металлами Дальнегорского...</td>\n",
              "      <td>368</td>\n",
              "      <td>[загрязнение, тяжелыми, металлами, дальнегорск...</td>\n",
              "      <td>[загрязнение, тяжелыми, металлами, дальнегорск...</td>\n",
              "      <td>[(загрязнение, 2), (тяжелыми, 2), (металлами, ...</td>\n",
              "      <td>[(тяжелыми металлами, 2), (пос рудная, 2), (ру...</td>\n",
              "      <td>[(пос рудная пристань, 2), (загрязнение тяжелы...</td>\n",
              "      <td>2805</td>\n",
              "      <td>Загрязнение тяжелыми металлами Дальнегорского...</td>\n",
              "      <td>[(ых , 5), (агр, 4), (гря, 4), (ряз, 4), (язн,...</td>\n",
              "      <td>[(агря, 4), (гряз, 4), (рязн, 4), (язне, 4), (...</td>\n",
              "      <td>[(агряз, 4), (грязн, 4), (рязне, 4), (язнен, 4...</td>\n",
              "      <td>[(агрязн, 4), (грязне, 4), (рязнен, 4), (язнен...</td>\n",
              "      <td>[(агрязне, 4), (грязнен, 4), (рязнени, 3), (вл...</td>\n",
              "      <td>[(агрязнен, 4), (грязнени, 3), (вляется , 3), ...</td>\n",
              "      <td>[(агрязнени, 3), ( загрязне, 3), (загрязнен, 3...</td>\n",
              "      <td>[( загрязнен, 3), (агрязнение, 2), (грязнение ...</td>\n",
              "    </tr>\n",
              "    <tr>\n",
              "      <th>3</th>\n",
              "      <td>eng</td>\n",
              "      <td>HL</td>\n",
              "      <td>Директору магазина « Адидас» М. И. Васильченк...</td>\n",
              "      <td>186</td>\n",
              "      <td>[директору, магазина, адидас, м, и, васильченк...</td>\n",
              "      <td>[директору, магазина, адидас, м, и, васильченк...</td>\n",
              "      <td>[(магазина, 2), (адидас, 2), (и, 2), (г, 2), (...</td>\n",
              "      <td>[(магазина адидас, 2), (г владимир, 2), (влади...</td>\n",
              "      <td>[(г владимир ул, 2), (директору магазина адида...</td>\n",
              "      <td>1375</td>\n",
              "      <td>Директору магазина « Адидас» М. И. Васильченк...</td>\n",
              "      <td>[(го , 7), (на , 5), (ина, 4), (. В, 4), (л. ,...</td>\n",
              "      <td>[(ого , 4), (ина , 3), (его , 3), (ения, 3), (...</td>\n",
              "      <td>[(ного , 3), (ать н, 3), ( Дире, 2), (Дирек, 2...</td>\n",
              "      <td>[( Дирек, 2), (Директ, 2), (иректо, 2), (ректо...</td>\n",
              "      <td>[( Директ, 2), (Директо, 2), (иректор, 2), (ре...</td>\n",
              "      <td>[( Директо, 2), (Директор, 2), (иректору, 2), ...</td>\n",
              "      <td>[( Директор, 2), (Директору, 2), (иректору , 2...</td>\n",
              "      <td>[( Директору, 2), (Директору , 2), ( магазина ...</td>\n",
              "    </tr>\n",
              "    <tr>\n",
              "      <th>4</th>\n",
              "      <td>eng</td>\n",
              "      <td>FL</td>\n",
              "      <td>Что такое аннотация?. Что такое аннотация ( ...</td>\n",
              "      <td>29</td>\n",
              "      <td>[что, такое, аннотация, что, такое, аннотация,...</td>\n",
              "      <td>[что, такое, аннотация, что, такое, аннотация,...</td>\n",
              "      <td>[(что, 2), (такое, 2), (аннотация, 2), (как, 2...</td>\n",
              "      <td>[(что такое, 2), (такое аннотация, 2), (аннота...</td>\n",
              "      <td>[(что такое аннотация, 2), (такое аннотация чт...</td>\n",
              "      <td>202</td>\n",
              "      <td>Что такое аннотация?. Что такое аннотация ( ...</td>\n",
              "      <td>[(то , 3), ( Чт, 2), (Что, 2), (о т, 2), ( та,...</td>\n",
              "      <td>[( Что, 2), (Что , 2), (то т, 2), (о та, 2), (...</td>\n",
              "      <td>[( Что , 2), (Что т, 2), (то та, 2), (о так, 2...</td>\n",
              "      <td>[( Что т, 2), (Что та, 2), (то так, 2), (о так...</td>\n",
              "      <td>[( Что та, 2), (Что так, 2), (то тако, 2), (о ...</td>\n",
              "      <td>[( Что так, 2), (Что тако, 2), (то такое, 2), ...</td>\n",
              "      <td>[( Что тако, 2), (Что такое, 2), (то такое , 2...</td>\n",
              "      <td>[( Что такое, 2), (Что такое , 2), (то такое а...</td>\n",
              "    </tr>\n",
              "    <tr>\n",
              "      <th>5</th>\n",
              "      <td>eng</td>\n",
              "      <td>FL</td>\n",
              "      <td>Вывод. Спасибо, ребята, за хорошие ответы. Я ...</td>\n",
              "      <td>385</td>\n",
              "      <td>[вывод, спасибо, ребята, за, хорошие, ответы, ...</td>\n",
              "      <td>[вывод, спасибо, ребята, за, хорошие, ответы, ...</td>\n",
              "      <td>[(все, 3), (и, 3), (что, 3), (во, 2), (согласн...</td>\n",
              "      <td>[(согласны что, 2), (вывод спасибо, 1), (спаси...</td>\n",
              "      <td>[(вывод спасибо ребята, 1), (спасибо ребята за...</td>\n",
              "      <td>2472</td>\n",
              "      <td>Вывод. Спасибо, ребята, за хорошие ответы. Я ...</td>\n",
              "      <td>[(то , 6), ( от, 5), ( по, 5), ( и , 5), (, ч,...</td>\n",
              "      <td>[(, чт, 5), ( что, 5), (ать , 4), ( все, 4), (...</td>\n",
              "      <td>[(, что, 5), ( все , 4), ( что , 4), (. Во-, 3...</td>\n",
              "      <td>[(, что , 4), (е согл, 3), ( согла, 3), (согла...</td>\n",
              "      <td>[(е согла, 3), ( соглас, 3), (согласн, 3), (ог...</td>\n",
              "      <td>[(е соглас, 3), ( согласн, 3), (согласны, 3), ...</td>\n",
              "      <td>[(е согласн, 3), ( согласны, 3), (согласны,, 3...</td>\n",
              "      <td>[(е согласны, 3), ( согласны,, 3), (согласны, ...</td>\n",
              "    </tr>\n",
              "    <tr>\n",
              "      <th>6</th>\n",
              "      <td>eng</td>\n",
              "      <td>FL</td>\n",
              "      <td>Записи. Первая проблема- что производить? втор...</td>\n",
              "      <td>278</td>\n",
              "      <td>[записи, первая, проблема, что, производить, в...</td>\n",
              "      <td>[записи, первая, проблема, что, производить, в...</td>\n",
              "      <td>[(и, 5), (производить, 3), (первая, 2), (пробл...</td>\n",
              "      <td>[(записи первая, 1), (первая проблема, 1), (пр...</td>\n",
              "      <td>[(записи первая проблема, 1), (первая проблема...</td>\n",
              "      <td>2289</td>\n",
              "      <td>Записи. Первая проблема- что производить? втор...</td>\n",
              "      <td>[(ств, 10), ( пр, 8), (ая , 6), (про, 6), (ные...</td>\n",
              "      <td>[(ные , 6), ( про, 5), (щест, 5), (еств, 5), (...</td>\n",
              "      <td>[(ществ, 5), ( экон, 4), (ные и, 4), ( прои, 3...</td>\n",
              "      <td>[( произ, 3), (произв, 3), (роизво, 3), (оизво...</td>\n",
              "      <td>[( произв, 3), (произво, 3), (роизвод, 3), (ои...</td>\n",
              "      <td>[( произво, 3), (производ, 3), (роизводи, 3), ...</td>\n",
              "      <td>[( производ, 3), (производи, 3), (роизводит, 3...</td>\n",
              "      <td>[( производи, 3), (производит, 3), (роизводить...</td>\n",
              "    </tr>\n",
              "  </tbody>\n",
              "</table>\n",
              "</div>"
            ],
            "text/plain": [
              "   native  ...                                 character 10-grams\n",
              "id         ...                                                   \n",
              "1     eng  ...  [( загрязнен, 3), (агрязнение, 2), (грязнение ...\n",
              "3     eng  ...  [( Директору, 2), (Директору , 2), ( магазина ...\n",
              "4     eng  ...  [( Что такое, 2), (Что такое , 2), (то такое а...\n",
              "5     eng  ...  [(е согласны, 3), ( согласны,, 3), (согласны, ...\n",
              "6     eng  ...  [( производи, 3), (производит, 3), (роизводить...\n",
              "\n",
              "[5 rows x 19 columns]"
            ]
          },
          "metadata": {
            "tags": []
          },
          "execution_count": 38
        }
      ]
    },
    {
      "cell_type": "markdown",
      "metadata": {
        "id": "oAo0wI9zoRdD",
        "colab_type": "text"
      },
      "source": [
        "## Transform frequent n-gram lists to Counters"
      ]
    },
    {
      "cell_type": "code",
      "metadata": {
        "id": "cF2sNjtLh8lt",
        "colab_type": "code",
        "colab": {}
      },
      "source": [
        "def make_counter(commons):\n",
        "  return Counter({x[0]: x[1] for x in commons})"
      ],
      "execution_count": 0,
      "outputs": []
    },
    {
      "cell_type": "code",
      "metadata": {
        "id": "kd3TxjSviB8w",
        "colab_type": "code",
        "colab": {}
      },
      "source": [
        "to_counters = ['word_unigrams', 'word_bigrams', 'word_trigrams'] + ['character {}-grams'.format(i) for i in range(3, 11)]"
      ],
      "execution_count": 0,
      "outputs": []
    },
    {
      "cell_type": "code",
      "metadata": {
        "id": "9xQGZFA8i5It",
        "colab_type": "code",
        "colab": {}
      },
      "source": [
        "for col in to_counters:\n",
        "  df[col] = df[col].apply(make_counter)"
      ],
      "execution_count": 0,
      "outputs": []
    },
    {
      "cell_type": "code",
      "metadata": {
        "id": "wI_nYkRWjIEO",
        "colab_type": "code",
        "colab": {
          "base_uri": "https://localhost:8080/",
          "height": 680
        },
        "outputId": "ff68707a-8d5a-4cf8-9dbf-3ba1a9e702c9"
      },
      "source": [
        "df.head()"
      ],
      "execution_count": 42,
      "outputs": [
        {
          "output_type": "execute_result",
          "data": {
            "text/html": [
              "<div>\n",
              "<style scoped>\n",
              "    .dataframe tbody tr th:only-of-type {\n",
              "        vertical-align: middle;\n",
              "    }\n",
              "\n",
              "    .dataframe tbody tr th {\n",
              "        vertical-align: top;\n",
              "    }\n",
              "\n",
              "    .dataframe thead th {\n",
              "        text-align: right;\n",
              "    }\n",
              "</style>\n",
              "<table border=\"1\" class=\"dataframe\">\n",
              "  <thead>\n",
              "    <tr style=\"text-align: right;\">\n",
              "      <th></th>\n",
              "      <th>native</th>\n",
              "      <th>language_background</th>\n",
              "      <th>text</th>\n",
              "      <th>len</th>\n",
              "      <th>word_tokens</th>\n",
              "      <th>words_truncated</th>\n",
              "      <th>word_unigrams</th>\n",
              "      <th>word_bigrams</th>\n",
              "      <th>word_trigrams</th>\n",
              "      <th>len_sym</th>\n",
              "      <th>char_truncated</th>\n",
              "      <th>character 3-grams</th>\n",
              "      <th>character 4-grams</th>\n",
              "      <th>character 5-grams</th>\n",
              "      <th>character 6-grams</th>\n",
              "      <th>character 7-grams</th>\n",
              "      <th>character 8-grams</th>\n",
              "      <th>character 9-grams</th>\n",
              "      <th>character 10-grams</th>\n",
              "    </tr>\n",
              "    <tr>\n",
              "      <th>id</th>\n",
              "      <th></th>\n",
              "      <th></th>\n",
              "      <th></th>\n",
              "      <th></th>\n",
              "      <th></th>\n",
              "      <th></th>\n",
              "      <th></th>\n",
              "      <th></th>\n",
              "      <th></th>\n",
              "      <th></th>\n",
              "      <th></th>\n",
              "      <th></th>\n",
              "      <th></th>\n",
              "      <th></th>\n",
              "      <th></th>\n",
              "      <th></th>\n",
              "      <th></th>\n",
              "      <th></th>\n",
              "      <th></th>\n",
              "    </tr>\n",
              "  </thead>\n",
              "  <tbody>\n",
              "    <tr>\n",
              "      <th>1</th>\n",
              "      <td>eng</td>\n",
              "      <td>HL</td>\n",
              "      <td>Загрязнение тяжелыми металлами Дальнегорского...</td>\n",
              "      <td>368</td>\n",
              "      <td>[загрязнение, тяжелыми, металлами, дальнегорск...</td>\n",
              "      <td>[загрязнение, тяжелыми, металлами, дальнегорск...</td>\n",
              "      <td>{'загрязнение': 2, 'тяжелыми': 2, 'металлами':...</td>\n",
              "      <td>{'тяжелыми металлами': 2, 'пос рудная': 2, 'ру...</td>\n",
              "      <td>{'пос рудная пристань': 2, 'загрязнение тяжелы...</td>\n",
              "      <td>2805</td>\n",
              "      <td>Загрязнение тяжелыми металлами Дальнегорского...</td>\n",
              "      <td>{'ых ': 5, 'агр': 4, 'гря': 4, 'ряз': 4, 'язн'...</td>\n",
              "      <td>{'агря': 4, 'гряз': 4, 'рязн': 4, 'язне': 4, '...</td>\n",
              "      <td>{'агряз': 4, 'грязн': 4, 'рязне': 4, 'язнен': ...</td>\n",
              "      <td>{'агрязн': 4, 'грязне': 4, 'рязнен': 4, 'язнен...</td>\n",
              "      <td>{'агрязне': 4, 'грязнен': 4, 'рязнени': 3, 'вл...</td>\n",
              "      <td>{'агрязнен': 4, 'грязнени': 3, 'вляется ': 3, ...</td>\n",
              "      <td>{'агрязнени': 3, ' загрязне': 3, 'загрязнен': ...</td>\n",
              "      <td>{' загрязнен': 3, 'агрязнение': 2, 'грязнение ...</td>\n",
              "    </tr>\n",
              "    <tr>\n",
              "      <th>3</th>\n",
              "      <td>eng</td>\n",
              "      <td>HL</td>\n",
              "      <td>Директору магазина « Адидас» М. И. Васильченк...</td>\n",
              "      <td>186</td>\n",
              "      <td>[директору, магазина, адидас, м, и, васильченк...</td>\n",
              "      <td>[директору, магазина, адидас, м, и, васильченк...</td>\n",
              "      <td>{'магазина': 2, 'адидас': 2, 'и': 2, 'г': 2, '...</td>\n",
              "      <td>{'магазина адидас': 2, 'г владимир': 2, 'влади...</td>\n",
              "      <td>{'г владимир ул': 2, 'директору магазина адида...</td>\n",
              "      <td>1375</td>\n",
              "      <td>Директору магазина « Адидас» М. И. Васильченк...</td>\n",
              "      <td>{'го ': 7, 'на ': 5, 'ина': 4, '. В': 4, 'л. '...</td>\n",
              "      <td>{'ого ': 4, 'ина ': 3, 'его ': 3, 'ения': 3, '...</td>\n",
              "      <td>{'ного ': 3, 'ать н': 3, ' Дире': 2, 'Дирек': ...</td>\n",
              "      <td>{' Дирек': 2, 'Директ': 2, 'иректо': 2, 'ректо...</td>\n",
              "      <td>{' Директ': 2, 'Директо': 2, 'иректор': 2, 'ре...</td>\n",
              "      <td>{' Директо': 2, 'Директор': 2, 'иректору': 2, ...</td>\n",
              "      <td>{' Директор': 2, 'Директору': 2, 'иректору ': ...</td>\n",
              "      <td>{' Директору': 2, 'Директору ': 2, ' магазина ...</td>\n",
              "    </tr>\n",
              "    <tr>\n",
              "      <th>4</th>\n",
              "      <td>eng</td>\n",
              "      <td>FL</td>\n",
              "      <td>Что такое аннотация?. Что такое аннотация ( ...</td>\n",
              "      <td>29</td>\n",
              "      <td>[что, такое, аннотация, что, такое, аннотация,...</td>\n",
              "      <td>[что, такое, аннотация, что, такое, аннотация,...</td>\n",
              "      <td>{'что': 2, 'такое': 2, 'аннотация': 2, 'как': ...</td>\n",
              "      <td>{'что такое': 2, 'такое аннотация': 2, 'аннота...</td>\n",
              "      <td>{'что такое аннотация': 2, 'такое аннотация чт...</td>\n",
              "      <td>202</td>\n",
              "      <td>Что такое аннотация?. Что такое аннотация ( ...</td>\n",
              "      <td>{'то ': 3, ' Чт': 2, 'Что': 2, 'о т': 2, ' та'...</td>\n",
              "      <td>{' Что': 2, 'Что ': 2, 'то т': 2, 'о та': 2, '...</td>\n",
              "      <td>{' Что ': 2, 'Что т': 2, 'то та': 2, 'о так': ...</td>\n",
              "      <td>{' Что т': 2, 'Что та': 2, 'то так': 2, 'о так...</td>\n",
              "      <td>{' Что та': 2, 'Что так': 2, 'то тако': 2, 'о ...</td>\n",
              "      <td>{' Что так': 2, 'Что тако': 2, 'то такое': 2, ...</td>\n",
              "      <td>{' Что тако': 2, 'Что такое': 2, 'то такое ': ...</td>\n",
              "      <td>{' Что такое': 2, 'Что такое ': 2, 'то такое а...</td>\n",
              "    </tr>\n",
              "    <tr>\n",
              "      <th>5</th>\n",
              "      <td>eng</td>\n",
              "      <td>FL</td>\n",
              "      <td>Вывод. Спасибо, ребята, за хорошие ответы. Я ...</td>\n",
              "      <td>385</td>\n",
              "      <td>[вывод, спасибо, ребята, за, хорошие, ответы, ...</td>\n",
              "      <td>[вывод, спасибо, ребята, за, хорошие, ответы, ...</td>\n",
              "      <td>{'все': 3, 'и': 3, 'что': 3, 'во': 2, 'согласн...</td>\n",
              "      <td>{'согласны что': 2, 'вывод спасибо': 1, 'спаси...</td>\n",
              "      <td>{'вывод спасибо ребята': 1, 'спасибо ребята за...</td>\n",
              "      <td>2472</td>\n",
              "      <td>Вывод. Спасибо, ребята, за хорошие ответы. Я ...</td>\n",
              "      <td>{'то ': 6, ' от': 5, ' по': 5, ' и ': 5, ', ч'...</td>\n",
              "      <td>{', чт': 5, ' что': 5, 'ать ': 4, ' все': 4, '...</td>\n",
              "      <td>{', что': 5, ' все ': 4, ' что ': 4, '. Во-': ...</td>\n",
              "      <td>{', что ': 4, 'е согл': 3, ' согла': 3, 'согла...</td>\n",
              "      <td>{'е согла': 3, ' соглас': 3, 'согласн': 3, 'ог...</td>\n",
              "      <td>{'е соглас': 3, ' согласн': 3, 'согласны': 3, ...</td>\n",
              "      <td>{'е согласн': 3, ' согласны': 3, 'согласны,': ...</td>\n",
              "      <td>{'е согласны': 3, ' согласны,': 3, 'согласны, ...</td>\n",
              "    </tr>\n",
              "    <tr>\n",
              "      <th>6</th>\n",
              "      <td>eng</td>\n",
              "      <td>FL</td>\n",
              "      <td>Записи. Первая проблема- что производить? втор...</td>\n",
              "      <td>278</td>\n",
              "      <td>[записи, первая, проблема, что, производить, в...</td>\n",
              "      <td>[записи, первая, проблема, что, производить, в...</td>\n",
              "      <td>{'и': 5, 'производить': 3, 'первая': 2, 'пробл...</td>\n",
              "      <td>{'записи первая': 1, 'первая проблема': 1, 'пр...</td>\n",
              "      <td>{'записи первая проблема': 1, 'первая проблема...</td>\n",
              "      <td>2289</td>\n",
              "      <td>Записи. Первая проблема- что производить? втор...</td>\n",
              "      <td>{'ств': 10, ' пр': 8, 'ая ': 6, 'про': 6, 'ные...</td>\n",
              "      <td>{'ные ': 6, ' про': 5, 'щест': 5, 'еств': 5, '...</td>\n",
              "      <td>{'ществ': 5, ' экон': 4, 'ные и': 4, ' прои': ...</td>\n",
              "      <td>{' произ': 3, 'произв': 3, 'роизво': 3, 'оизво...</td>\n",
              "      <td>{' произв': 3, 'произво': 3, 'роизвод': 3, 'ои...</td>\n",
              "      <td>{' произво': 3, 'производ': 3, 'роизводи': 3, ...</td>\n",
              "      <td>{' производ': 3, 'производи': 3, 'роизводит': ...</td>\n",
              "      <td>{' производи': 3, 'производит': 3, 'роизводить...</td>\n",
              "    </tr>\n",
              "  </tbody>\n",
              "</table>\n",
              "</div>"
            ],
            "text/plain": [
              "   native  ...                                 character 10-grams\n",
              "id         ...                                                   \n",
              "1     eng  ...  {' загрязнен': 3, 'агрязнение': 2, 'грязнение ...\n",
              "3     eng  ...  {' Директору': 2, 'Директору ': 2, ' магазина ...\n",
              "4     eng  ...  {' Что такое': 2, 'Что такое ': 2, 'то такое а...\n",
              "5     eng  ...  {'е согласны': 3, ' согласны,': 3, 'согласны, ...\n",
              "6     eng  ...  {' производи': 3, 'производит': 3, 'роизводить...\n",
              "\n",
              "[5 rows x 19 columns]"
            ]
          },
          "metadata": {
            "tags": []
          },
          "execution_count": 42
        }
      ]
    },
    {
      "cell_type": "markdown",
      "metadata": {
        "id": "iUzTecPRpVwh",
        "colab_type": "text"
      },
      "source": [
        "## Note \n",
        "Texts of length less than 64 words / 630 characters are not removed from the dataset"
      ]
    },
    {
      "cell_type": "code",
      "metadata": {
        "id": "lFKt6V1zpn3V",
        "colab_type": "code",
        "colab": {}
      },
      "source": [
        " "
      ],
      "execution_count": 0,
      "outputs": []
    }
  ]
}