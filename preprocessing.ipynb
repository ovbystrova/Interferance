{
  "nbformat": 4,
  "nbformat_minor": 0,
  "metadata": {
    "colab": {
      "name": "preprocessing.ipynb",
      "provenance": [],
      "include_colab_link": true
    },
    "kernelspec": {
      "name": "python3",
      "display_name": "Python 3"
    },
    "accelerator": "GPU"
  },
  "cells": [
    {
      "cell_type": "markdown",
      "metadata": {
        "id": "view-in-github",
        "colab_type": "text"
      },
      "source": [
        "<a href=\"https://colab.research.google.com/github/ovbystrova/Interference/blob/master/preprocessing.ipynb\" target=\"_parent\"><img src=\"https://colab.research.google.com/assets/colab-badge.svg\" alt=\"Open In Colab\"/></a>"
      ]
    },
    {
      "cell_type": "code",
      "metadata": {
        "id": "z_u2NWQyMH9X",
        "colab_type": "code",
        "colab": {
          "base_uri": "https://localhost:8080/",
          "height": 289
        },
        "outputId": "3ca9cd6e-be78-4659-8985-39ecf133c0bd"
      },
      "source": [
        "# !wget https://github.com/ovbystrova/Interference/raw/master/data/original_texts.csv"
      ],
      "execution_count": 1,
      "outputs": [
        {
          "output_type": "stream",
          "text": [
            "--2020-03-16 13:40:05--  https://github.com/ovbystrova/Interference/raw/master/data/original_texts.csv\n",
            "Resolving github.com (github.com)... 192.30.253.113\n",
            "Connecting to github.com (github.com)|192.30.253.113|:443... connected.\n",
            "HTTP request sent, awaiting response... 302 Found\n",
            "Location: https://raw.githubusercontent.com/ovbystrova/Interference/master/data/original_texts.csv [following]\n",
            "--2020-03-16 13:40:06--  https://raw.githubusercontent.com/ovbystrova/Interference/master/data/original_texts.csv\n",
            "Resolving raw.githubusercontent.com (raw.githubusercontent.com)... 151.101.0.133, 151.101.64.133, 151.101.128.133, ...\n",
            "Connecting to raw.githubusercontent.com (raw.githubusercontent.com)|151.101.0.133|:443... connected.\n",
            "HTTP request sent, awaiting response... 200 OK\n",
            "Length: 18891291 (18M) [text/plain]\n",
            "Saving to: ‘original_texts.csv.1’\n",
            "\n",
            "original_texts.csv. 100%[===================>]  18.02M  36.1MB/s    in 0.5s    \n",
            "\n",
            "2020-03-16 13:40:08 (36.1 MB/s) - ‘original_texts.csv.1’ saved [18891291/18891291]\n",
            "\n"
          ],
          "name": "stdout"
        }
      ]
    },
    {
      "cell_type": "markdown",
      "metadata": {
        "id": "0dzVgGLjmgaV",
        "colab_type": "text"
      },
      "source": [
        "## Dataset"
      ]
    },
    {
      "cell_type": "code",
      "metadata": {
        "id": "nBAGtiyb94yT",
        "colab_type": "code",
        "colab": {}
      },
      "source": [
        "import pandas as pd"
      ],
      "execution_count": 0,
      "outputs": []
    },
    {
      "cell_type": "code",
      "metadata": {
        "id": "K81FnWm099my",
        "colab_type": "code",
        "colab": {}
      },
      "source": [
        "df = pd.read_csv('original_texts.csv', index_col='id')"
      ],
      "execution_count": 0,
      "outputs": []
    },
    {
      "cell_type": "code",
      "metadata": {
        "id": "BXYCPIvW-uAp",
        "colab_type": "code",
        "outputId": "520cc124-acbc-48d1-876a-0b70824962cf",
        "colab": {
          "base_uri": "https://localhost:8080/",
          "height": 286
        }
      },
      "source": [
        "df.head()"
      ],
      "execution_count": 4,
      "outputs": [
        {
          "output_type": "execute_result",
          "data": {
            "text/html": [
              "<div>\n",
              "<style scoped>\n",
              "    .dataframe tbody tr th:only-of-type {\n",
              "        vertical-align: middle;\n",
              "    }\n",
              "\n",
              "    .dataframe tbody tr th {\n",
              "        vertical-align: top;\n",
              "    }\n",
              "\n",
              "    .dataframe thead th {\n",
              "        text-align: right;\n",
              "    }\n",
              "</style>\n",
              "<table border=\"1\" class=\"dataframe\">\n",
              "  <thead>\n",
              "    <tr style=\"text-align: right;\">\n",
              "      <th></th>\n",
              "      <th>native</th>\n",
              "      <th>language_background</th>\n",
              "      <th>title</th>\n",
              "      <th>text</th>\n",
              "      <th>date1</th>\n",
              "      <th>date2</th>\n",
              "      <th>level</th>\n",
              "      <th>annotated</th>\n",
              "      <th>checked</th>\n",
              "    </tr>\n",
              "    <tr>\n",
              "      <th>id</th>\n",
              "      <th></th>\n",
              "      <th></th>\n",
              "      <th></th>\n",
              "      <th></th>\n",
              "      <th></th>\n",
              "      <th></th>\n",
              "      <th></th>\n",
              "      <th></th>\n",
              "      <th></th>\n",
              "    </tr>\n",
              "  </thead>\n",
              "  <tbody>\n",
              "    <tr>\n",
              "      <th>1</th>\n",
              "      <td>eng</td>\n",
              "      <td>HL</td>\n",
              "      <td>expository (non-timed, paragraph, Environmenta...</td>\n",
              "      <td>Загрязнение тяжелыми металлами Дальнегорского...</td>\n",
              "      <td>2009.0</td>\n",
              "      <td>2010.0</td>\n",
              "      <td>AM</td>\n",
              "      <td>1</td>\n",
              "      <td>1</td>\n",
              "    </tr>\n",
              "    <tr>\n",
              "      <th>2</th>\n",
              "      <td>NaN</td>\n",
              "      <td>NaN</td>\n",
              "      <td>–</td>\n",
              "      <td>Многие жители России пишут письма президенту М...</td>\n",
              "      <td>2000.0</td>\n",
              "      <td>2013.0</td>\n",
              "      <td>NaN</td>\n",
              "      <td>1</td>\n",
              "      <td>1</td>\n",
              "    </tr>\n",
              "    <tr>\n",
              "      <th>3</th>\n",
              "      <td>eng</td>\n",
              "      <td>HL</td>\n",
              "      <td>business correspondence (non-timed, paragraph,...</td>\n",
              "      <td>Директору магазина « Адидас» М. И. Васильченк...</td>\n",
              "      <td>2009.0</td>\n",
              "      <td>2010.0</td>\n",
              "      <td>AM</td>\n",
              "      <td>1</td>\n",
              "      <td>1</td>\n",
              "    </tr>\n",
              "    <tr>\n",
              "      <th>4</th>\n",
              "      <td>eng</td>\n",
              "      <td>FL</td>\n",
              "      <td>definition (non-timed, sentences, Russian in t...</td>\n",
              "      <td>&amp;lt; Что такое аннотация?&amp;gt;. Что такое анно...</td>\n",
              "      <td>2011.0</td>\n",
              "      <td>2012.0</td>\n",
              "      <td>IH</td>\n",
              "      <td>1</td>\n",
              "      <td>1</td>\n",
              "    </tr>\n",
              "    <tr>\n",
              "      <th>5</th>\n",
              "      <td>eng</td>\n",
              "      <td>FL</td>\n",
              "      <td>summary (non-timed, paragraph, Capstone)</td>\n",
              "      <td>Вывод. Спасибо, ребята, за хорошие ответы. Я ...</td>\n",
              "      <td>2012.0</td>\n",
              "      <td>2013.0</td>\n",
              "      <td>AM</td>\n",
              "      <td>1</td>\n",
              "      <td>1</td>\n",
              "    </tr>\n",
              "  </tbody>\n",
              "</table>\n",
              "</div>"
            ],
            "text/plain": [
              "   native language_background  ... annotated checked\n",
              "id                             ...                  \n",
              "1     eng                  HL  ...         1       1\n",
              "2     NaN                 NaN  ...         1       1\n",
              "3     eng                  HL  ...         1       1\n",
              "4     eng                  FL  ...         1       1\n",
              "5     eng                  FL  ...         1       1\n",
              "\n",
              "[5 rows x 9 columns]"
            ]
          },
          "metadata": {
            "tags": []
          },
          "execution_count": 4
        }
      ]
    },
    {
      "cell_type": "code",
      "metadata": {
        "id": "N_R-1CbFa3Lw",
        "colab_type": "code",
        "colab": {}
      },
      "source": [
        "df = df.drop(['title', 'date1', 'date2', 'level', 'annotated', 'checked'], axis=1)"
      ],
      "execution_count": 0,
      "outputs": []
    },
    {
      "cell_type": "code",
      "metadata": {
        "id": "pprXJVMF-yA0",
        "colab_type": "code",
        "outputId": "52ff8b64-9b7d-49f7-ca07-975285e13c18",
        "colab": {
          "base_uri": "https://localhost:8080/",
          "height": 289
        }
      },
      "source": [
        "df['native'].value_counts()"
      ],
      "execution_count": 6,
      "outputs": [
        {
          "output_type": "execute_result",
          "data": {
            "text/plain": [
              "eng    3145\n",
              "jap    1571\n",
              "fin    1231\n",
              "fr      495\n",
              "kaz     494\n",
              "ger     284\n",
              "kor     197\n",
              "swe     178\n",
              "ita     115\n",
              "taj      30\n",
              "nor      28\n",
              "chi      24\n",
              "ser      19\n",
              "dut      18\n",
              "est       2\n",
              "Name: native, dtype: int64"
            ]
          },
          "metadata": {
            "tags": []
          },
          "execution_count": 6
        }
      ]
    },
    {
      "cell_type": "code",
      "metadata": {
        "id": "Za1SSs_g-1DA",
        "colab_type": "code",
        "outputId": "c56b4d7d-7277-4973-ca57-00c5c99c485c",
        "colab": {
          "base_uri": "https://localhost:8080/",
          "height": 68
        }
      },
      "source": [
        "df['language_background'].value_counts()"
      ],
      "execution_count": 7,
      "outputs": [
        {
          "output_type": "execute_result",
          "data": {
            "text/plain": [
              "FL    5519\n",
              "HL    2434\n",
              "Name: language_background, dtype: int64"
            ]
          },
          "metadata": {
            "tags": []
          },
          "execution_count": 7
        }
      ]
    },
    {
      "cell_type": "markdown",
      "metadata": {
        "id": "83TkF0E_msn8",
        "colab_type": "text"
      },
      "source": [
        "## Word n-grams + truncation"
      ]
    },
    {
      "cell_type": "markdown",
      "metadata": {
        "id": "2BAbFIuwm7J6",
        "colab_type": "text"
      },
      "source": [
        "### Choose word number limit for truncation"
      ]
    },
    {
      "cell_type": "code",
      "metadata": {
        "id": "sYNaE0XYEZU8",
        "colab_type": "code",
        "outputId": "5af8170f-530f-427b-ced9-7d788bdadfab",
        "colab": {
          "base_uri": "https://localhost:8080/",
          "height": 235
        }
      },
      "source": [
        "df['len'] = df['text'].apply(lambda x: len(x.split()))\n",
        "df.head()"
      ],
      "execution_count": 8,
      "outputs": [
        {
          "output_type": "execute_result",
          "data": {
            "text/html": [
              "<div>\n",
              "<style scoped>\n",
              "    .dataframe tbody tr th:only-of-type {\n",
              "        vertical-align: middle;\n",
              "    }\n",
              "\n",
              "    .dataframe tbody tr th {\n",
              "        vertical-align: top;\n",
              "    }\n",
              "\n",
              "    .dataframe thead th {\n",
              "        text-align: right;\n",
              "    }\n",
              "</style>\n",
              "<table border=\"1\" class=\"dataframe\">\n",
              "  <thead>\n",
              "    <tr style=\"text-align: right;\">\n",
              "      <th></th>\n",
              "      <th>native</th>\n",
              "      <th>language_background</th>\n",
              "      <th>text</th>\n",
              "      <th>len</th>\n",
              "    </tr>\n",
              "    <tr>\n",
              "      <th>id</th>\n",
              "      <th></th>\n",
              "      <th></th>\n",
              "      <th></th>\n",
              "      <th></th>\n",
              "    </tr>\n",
              "  </thead>\n",
              "  <tbody>\n",
              "    <tr>\n",
              "      <th>1</th>\n",
              "      <td>eng</td>\n",
              "      <td>HL</td>\n",
              "      <td>Загрязнение тяжелыми металлами Дальнегорского...</td>\n",
              "      <td>369</td>\n",
              "    </tr>\n",
              "    <tr>\n",
              "      <th>2</th>\n",
              "      <td>NaN</td>\n",
              "      <td>NaN</td>\n",
              "      <td>Многие жители России пишут письма президенту М...</td>\n",
              "      <td>57</td>\n",
              "    </tr>\n",
              "    <tr>\n",
              "      <th>3</th>\n",
              "      <td>eng</td>\n",
              "      <td>HL</td>\n",
              "      <td>Директору магазина « Адидас» М. И. Васильченк...</td>\n",
              "      <td>187</td>\n",
              "    </tr>\n",
              "    <tr>\n",
              "      <th>4</th>\n",
              "      <td>eng</td>\n",
              "      <td>FL</td>\n",
              "      <td>&amp;lt; Что такое аннотация?&amp;gt;. Что такое анно...</td>\n",
              "      <td>30</td>\n",
              "    </tr>\n",
              "    <tr>\n",
              "      <th>5</th>\n",
              "      <td>eng</td>\n",
              "      <td>FL</td>\n",
              "      <td>Вывод. Спасибо, ребята, за хорошие ответы. Я ...</td>\n",
              "      <td>385</td>\n",
              "    </tr>\n",
              "  </tbody>\n",
              "</table>\n",
              "</div>"
            ],
            "text/plain": [
              "   native  ...  len\n",
              "id         ...     \n",
              "1     eng  ...  369\n",
              "2     NaN  ...   57\n",
              "3     eng  ...  187\n",
              "4     eng  ...   30\n",
              "5     eng  ...  385\n",
              "\n",
              "[5 rows x 4 columns]"
            ]
          },
          "metadata": {
            "tags": []
          },
          "execution_count": 8
        }
      ]
    },
    {
      "cell_type": "code",
      "metadata": {
        "id": "sqTiqf8mHaPo",
        "colab_type": "code",
        "outputId": "46d2eded-51b5-416f-8d04-c80761947d4b",
        "colab": {
          "base_uri": "https://localhost:8080/",
          "height": 282
        }
      },
      "source": [
        "df['len'].hist(bins=100)"
      ],
      "execution_count": 9,
      "outputs": [
        {
          "output_type": "execute_result",
          "data": {
            "text/plain": [
              "<matplotlib.axes._subplots.AxesSubplot at 0x7f00dffafeb8>"
            ]
          },
          "metadata": {
            "tags": []
          },
          "execution_count": 9
        },
        {
          "output_type": "display_data",
          "data": {
            "image/png": "[encoded data removed]",
            "text/plain": [
              "<Figure size 432x288 with 1 Axes>"
            ]
          },
          "metadata": {
            "tags": []
          }
        }
      ]
    },
    {
      "cell_type": "code",
      "metadata": {
        "id": "8yiUNFPKH0Iu",
        "colab_type": "code",
        "colab": {}
      },
      "source": [
        "import numpy as np"
      ],
      "execution_count": 0,
      "outputs": []
    },
    {
      "cell_type": "code",
      "metadata": {
        "id": "jMD2M-tCH6_G",
        "colab_type": "code",
        "colab": {}
      },
      "source": [
        "from scipy import stats"
      ],
      "execution_count": 0,
      "outputs": []
    },
    {
      "cell_type": "code",
      "metadata": {
        "id": "6p5xbMRwHsTV",
        "colab_type": "code",
        "outputId": "188e868f-f84d-42e3-8609-b7e571dd5f05",
        "colab": {
          "base_uri": "https://localhost:8080/",
          "height": 34
        }
      },
      "source": [
        "np.mean(list(df['len']))"
      ],
      "execution_count": 12,
      "outputs": [
        {
          "output_type": "execute_result",
          "data": {
            "text/plain": [
              "180.60147239263804"
            ]
          },
          "metadata": {
            "tags": []
          },
          "execution_count": 12
        }
      ]
    },
    {
      "cell_type": "code",
      "metadata": {
        "id": "qAvaktY6HvOo",
        "colab_type": "code",
        "outputId": "f9f3a23c-042c-420b-a808-9fb58ea2036f",
        "colab": {
          "base_uri": "https://localhost:8080/",
          "height": 34
        }
      },
      "source": [
        "stats.mode(list(df['len']))"
      ],
      "execution_count": 13,
      "outputs": [
        {
          "output_type": "execute_result",
          "data": {
            "text/plain": [
              "ModeResult(mode=array([64]), count=array([59]))"
            ]
          },
          "metadata": {
            "tags": []
          },
          "execution_count": 13
        }
      ]
    },
    {
      "cell_type": "code",
      "metadata": {
        "id": "GYR4kXEqNF46",
        "colab_type": "code",
        "colab": {
          "base_uri": "https://localhost:8080/",
          "height": 34
        },
        "outputId": "729930b6-f4b3-458c-fa36-2e75d390c820"
      },
      "source": [
        "len(df[df['len'] >= 64])"
      ],
      "execution_count": 14,
      "outputs": [
        {
          "output_type": "execute_result",
          "data": {
            "text/plain": [
              "6593"
            ]
          },
          "metadata": {
            "tags": []
          },
          "execution_count": 14
        }
      ]
    },
    {
      "cell_type": "markdown",
      "metadata": {
        "id": "wJCDqvGAnEAe",
        "colab_type": "text"
      },
      "source": [
        "### Tokenize texts"
      ]
    },
    {
      "cell_type": "code",
      "metadata": {
        "id": "N_6EugzbOqTc",
        "colab_type": "code",
        "colab": {}
      },
      "source": [
        "import re"
      ],
      "execution_count": 0,
      "outputs": []
    },
    {
      "cell_type": "code",
      "metadata": {
        "id": "nYl0KeSwOnY6",
        "colab_type": "code",
        "colab": {}
      },
      "source": [
        "df['word_tokens'] = df['text'].apply(lambda x: re.findall('\\w+', x.lower()))"
      ],
      "execution_count": 0,
      "outputs": []
    },
    {
      "cell_type": "code",
      "metadata": {
        "id": "2oKZgdLgPBFW",
        "colab_type": "code",
        "colab": {
          "base_uri": "https://localhost:8080/",
          "height": 235
        },
        "outputId": "6c6c7d7a-1398-4f8e-88eb-65f1f33ff66f"
      },
      "source": [
        "df.head()"
      ],
      "execution_count": 17,
      "outputs": [
        {
          "output_type": "execute_result",
          "data": {
            "text/html": [
              "<div>\n",
              "<style scoped>\n",
              "    .dataframe tbody tr th:only-of-type {\n",
              "        vertical-align: middle;\n",
              "    }\n",
              "\n",
              "    .dataframe tbody tr th {\n",
              "        vertical-align: top;\n",
              "    }\n",
              "\n",
              "    .dataframe thead th {\n",
              "        text-align: right;\n",
              "    }\n",
              "</style>\n",
              "<table border=\"1\" class=\"dataframe\">\n",
              "  <thead>\n",
              "    <tr style=\"text-align: right;\">\n",
              "      <th></th>\n",
              "      <th>native</th>\n",
              "      <th>language_background</th>\n",
              "      <th>text</th>\n",
              "      <th>len</th>\n",
              "      <th>word_tokens</th>\n",
              "    </tr>\n",
              "    <tr>\n",
              "      <th>id</th>\n",
              "      <th></th>\n",
              "      <th></th>\n",
              "      <th></th>\n",
              "      <th></th>\n",
              "      <th></th>\n",
              "    </tr>\n",
              "  </thead>\n",
              "  <tbody>\n",
              "    <tr>\n",
              "      <th>1</th>\n",
              "      <td>eng</td>\n",
              "      <td>HL</td>\n",
              "      <td>Загрязнение тяжелыми металлами Дальнегорского...</td>\n",
              "      <td>369</td>\n",
              "      <td>[загрязнение, тяжелыми, металлами, дальнегорск...</td>\n",
              "    </tr>\n",
              "    <tr>\n",
              "      <th>2</th>\n",
              "      <td>NaN</td>\n",
              "      <td>NaN</td>\n",
              "      <td>Многие жители России пишут письма президенту М...</td>\n",
              "      <td>57</td>\n",
              "      <td>[многие, жители, россии, пишут, письма, презид...</td>\n",
              "    </tr>\n",
              "    <tr>\n",
              "      <th>3</th>\n",
              "      <td>eng</td>\n",
              "      <td>HL</td>\n",
              "      <td>Директору магазина « Адидас» М. И. Васильченк...</td>\n",
              "      <td>187</td>\n",
              "      <td>[директору, магазина, адидас, м, и, васильченк...</td>\n",
              "    </tr>\n",
              "    <tr>\n",
              "      <th>4</th>\n",
              "      <td>eng</td>\n",
              "      <td>FL</td>\n",
              "      <td>&amp;lt; Что такое аннотация?&amp;gt;. Что такое анно...</td>\n",
              "      <td>30</td>\n",
              "      <td>[lt, что, такое, аннотация, gt, что, такое, ан...</td>\n",
              "    </tr>\n",
              "    <tr>\n",
              "      <th>5</th>\n",
              "      <td>eng</td>\n",
              "      <td>FL</td>\n",
              "      <td>Вывод. Спасибо, ребята, за хорошие ответы. Я ...</td>\n",
              "      <td>385</td>\n",
              "      <td>[вывод, спасибо, ребята, за, хорошие, ответы, ...</td>\n",
              "    </tr>\n",
              "  </tbody>\n",
              "</table>\n",
              "</div>"
            ],
            "text/plain": [
              "   native  ...                                        word_tokens\n",
              "id         ...                                                   \n",
              "1     eng  ...  [загрязнение, тяжелыми, металлами, дальнегорск...\n",
              "2     NaN  ...  [многие, жители, россии, пишут, письма, презид...\n",
              "3     eng  ...  [директору, магазина, адидас, м, и, васильченк...\n",
              "4     eng  ...  [lt, что, такое, аннотация, gt, что, такое, ан...\n",
              "5     eng  ...  [вывод, спасибо, ребята, за, хорошие, ответы, ...\n",
              "\n",
              "[5 rows x 5 columns]"
            ]
          },
          "metadata": {
            "tags": []
          },
          "execution_count": 17
        }
      ]
    },
    {
      "cell_type": "markdown",
      "metadata": {
        "id": "Jjh8KM1cnNLm",
        "colab_type": "text"
      },
      "source": [
        "### Truncate texts by words"
      ]
    },
    {
      "cell_type": "code",
      "metadata": {
        "id": "o-peoFjYPEUz",
        "colab_type": "code",
        "colab": {}
      },
      "source": [
        "df['words_truncated'] = df.word_tokens.apply(lambda x: [x[i] for i in range(len(x)) if i <= 64])"
      ],
      "execution_count": 0,
      "outputs": []
    },
    {
      "cell_type": "code",
      "metadata": {
        "id": "9EFzFT5-S7Bq",
        "colab_type": "code",
        "colab": {
          "base_uri": "https://localhost:8080/",
          "height": 303
        },
        "outputId": "d23e204a-b6a0-43aa-dc8c-808539f0a97f"
      },
      "source": [
        "df.head()"
      ],
      "execution_count": 19,
      "outputs": [
        {
          "output_type": "execute_result",
          "data": {
            "text/html": [
              "<div>\n",
              "<style scoped>\n",
              "    .dataframe tbody tr th:only-of-type {\n",
              "        vertical-align: middle;\n",
              "    }\n",
              "\n",
              "    .dataframe tbody tr th {\n",
              "        vertical-align: top;\n",
              "    }\n",
              "\n",
              "    .dataframe thead th {\n",
              "        text-align: right;\n",
              "    }\n",
              "</style>\n",
              "<table border=\"1\" class=\"dataframe\">\n",
              "  <thead>\n",
              "    <tr style=\"text-align: right;\">\n",
              "      <th></th>\n",
              "      <th>native</th>\n",
              "      <th>language_background</th>\n",
              "      <th>text</th>\n",
              "      <th>len</th>\n",
              "      <th>word_tokens</th>\n",
              "      <th>words_truncated</th>\n",
              "    </tr>\n",
              "    <tr>\n",
              "      <th>id</th>\n",
              "      <th></th>\n",
              "      <th></th>\n",
              "      <th></th>\n",
              "      <th></th>\n",
              "      <th></th>\n",
              "      <th></th>\n",
              "    </tr>\n",
              "  </thead>\n",
              "  <tbody>\n",
              "    <tr>\n",
              "      <th>1</th>\n",
              "      <td>eng</td>\n",
              "      <td>HL</td>\n",
              "      <td>Загрязнение тяжелыми металлами Дальнегорского...</td>\n",
              "      <td>369</td>\n",
              "      <td>[загрязнение, тяжелыми, металлами, дальнегорск...</td>\n",
              "      <td>[загрязнение, тяжелыми, металлами, дальнегорск...</td>\n",
              "    </tr>\n",
              "    <tr>\n",
              "      <th>2</th>\n",
              "      <td>NaN</td>\n",
              "      <td>NaN</td>\n",
              "      <td>Многие жители России пишут письма президенту М...</td>\n",
              "      <td>57</td>\n",
              "      <td>[многие, жители, россии, пишут, письма, презид...</td>\n",
              "      <td>[многие, жители, россии, пишут, письма, презид...</td>\n",
              "    </tr>\n",
              "    <tr>\n",
              "      <th>3</th>\n",
              "      <td>eng</td>\n",
              "      <td>HL</td>\n",
              "      <td>Директору магазина « Адидас» М. И. Васильченк...</td>\n",
              "      <td>187</td>\n",
              "      <td>[директору, магазина, адидас, м, и, васильченк...</td>\n",
              "      <td>[директору, магазина, адидас, м, и, васильченк...</td>\n",
              "    </tr>\n",
              "    <tr>\n",
              "      <th>4</th>\n",
              "      <td>eng</td>\n",
              "      <td>FL</td>\n",
              "      <td>&amp;lt; Что такое аннотация?&amp;gt;. Что такое анно...</td>\n",
              "      <td>30</td>\n",
              "      <td>[lt, что, такое, аннотация, gt, что, такое, ан...</td>\n",
              "      <td>[lt, что, такое, аннотация, gt, что, такое, ан...</td>\n",
              "    </tr>\n",
              "    <tr>\n",
              "      <th>5</th>\n",
              "      <td>eng</td>\n",
              "      <td>FL</td>\n",
              "      <td>Вывод. Спасибо, ребята, за хорошие ответы. Я ...</td>\n",
              "      <td>385</td>\n",
              "      <td>[вывод, спасибо, ребята, за, хорошие, ответы, ...</td>\n",
              "      <td>[вывод, спасибо, ребята, за, хорошие, ответы, ...</td>\n",
              "    </tr>\n",
              "  </tbody>\n",
              "</table>\n",
              "</div>"
            ],
            "text/plain": [
              "   native  ...                                    words_truncated\n",
              "id         ...                                                   \n",
              "1     eng  ...  [загрязнение, тяжелыми, металлами, дальнегорск...\n",
              "2     NaN  ...  [многие, жители, россии, пишут, письма, презид...\n",
              "3     eng  ...  [директору, магазина, адидас, м, и, васильченк...\n",
              "4     eng  ...  [lt, что, такое, аннотация, gt, что, такое, ан...\n",
              "5     eng  ...  [вывод, спасибо, ребята, за, хорошие, ответы, ...\n",
              "\n",
              "[5 rows x 6 columns]"
            ]
          },
          "metadata": {
            "tags": []
          },
          "execution_count": 19
        }
      ]
    },
    {
      "cell_type": "markdown",
      "metadata": {
        "id": "-LoZDZnjngiu",
        "colab_type": "text"
      },
      "source": [
        "### Universal n-gram functions for the dataset"
      ]
    },
    {
      "cell_type": "code",
      "metadata": {
        "id": "okgmhC7LUAkp",
        "colab_type": "code",
        "colab": {}
      },
      "source": [
        "def collecting_ngrams(token_list, n, char=True):\n",
        "  ngram_list = []\n",
        "  for i in range(len(token_list)):\n",
        "    ngram = token_list[i]\n",
        "    if i + n > len(token_list):\n",
        "      break\n",
        "    else:\n",
        "      for it in range(1, n):\n",
        "        if char == True:\n",
        "          ngram = ngram + token_list[i + it]\n",
        "        else:\n",
        "          ngram = ngram + ' ' + token_list[i + it]\n",
        "    ngram_list.append(ngram)\n",
        "  return ngram_list\n"
      ],
      "execution_count": 0,
      "outputs": []
    },
    {
      "cell_type": "code",
      "metadata": {
        "id": "0m7g8WnyW3Wd",
        "colab_type": "code",
        "colab": {}
      },
      "source": [
        "from collections import Counter"
      ],
      "execution_count": 0,
      "outputs": []
    },
    {
      "cell_type": "code",
      "metadata": {
        "id": "_3mHSlLEV0AJ",
        "colab_type": "code",
        "colab": {}
      },
      "source": [
        "def freq_ngrams(token_list, n_grams, n_freq, char=True):\n",
        "  ngram_list = collecting_ngrams(token_list, n_grams, char=char)\n",
        "  \n",
        "  return Counter(ngram_list).most_common(n_freq)"
      ],
      "execution_count": 0,
      "outputs": []
    },
    {
      "cell_type": "markdown",
      "metadata": {
        "id": "yIyFxb-PnoI7",
        "colab_type": "text"
      },
      "source": [
        "### Making word bi- and trigrams"
      ]
    },
    {
      "cell_type": "code",
      "metadata": {
        "id": "ieQzcoJBX9_o",
        "colab_type": "code",
        "colab": {}
      },
      "source": [
        "df['word_bigrams'] = df.words_truncated.apply(lambda x: freq_ngrams(x, 2, 3000, char=False))"
      ],
      "execution_count": 0,
      "outputs": []
    },
    {
      "cell_type": "code",
      "metadata": {
        "id": "ole44MKWZe3w",
        "colab_type": "code",
        "colab": {}
      },
      "source": [
        "df['word_trigrams'] = df.words_truncated.apply(lambda x: freq_ngrams(x, 3, 3000, char=False))"
      ],
      "execution_count": 0,
      "outputs": []
    },
    {
      "cell_type": "code",
      "metadata": {
        "id": "ynwtbfGZZu2q",
        "colab_type": "code",
        "colab": {
          "base_uri": "https://localhost:8080/",
          "height": 388
        },
        "outputId": "e3bb8805-34af-422e-a3ee-cb504963b127"
      },
      "source": [
        "df.head()"
      ],
      "execution_count": 25,
      "outputs": [
        {
          "output_type": "execute_result",
          "data": {
            "text/html": [
              "<div>\n",
              "<style scoped>\n",
              "    .dataframe tbody tr th:only-of-type {\n",
              "        vertical-align: middle;\n",
              "    }\n",
              "\n",
              "    .dataframe tbody tr th {\n",
              "        vertical-align: top;\n",
              "    }\n",
              "\n",
              "    .dataframe thead th {\n",
              "        text-align: right;\n",
              "    }\n",
              "</style>\n",
              "<table border=\"1\" class=\"dataframe\">\n",
              "  <thead>\n",
              "    <tr style=\"text-align: right;\">\n",
              "      <th></th>\n",
              "      <th>native</th>\n",
              "      <th>language_background</th>\n",
              "      <th>text</th>\n",
              "      <th>len</th>\n",
              "      <th>word_tokens</th>\n",
              "      <th>words_truncated</th>\n",
              "      <th>word_bigrams</th>\n",
              "      <th>word_trigrams</th>\n",
              "    </tr>\n",
              "    <tr>\n",
              "      <th>id</th>\n",
              "      <th></th>\n",
              "      <th></th>\n",
              "      <th></th>\n",
              "      <th></th>\n",
              "      <th></th>\n",
              "      <th></th>\n",
              "      <th></th>\n",
              "      <th></th>\n",
              "    </tr>\n",
              "  </thead>\n",
              "  <tbody>\n",
              "    <tr>\n",
              "      <th>1</th>\n",
              "      <td>eng</td>\n",
              "      <td>HL</td>\n",
              "      <td>Загрязнение тяжелыми металлами Дальнегорского...</td>\n",
              "      <td>369</td>\n",
              "      <td>[загрязнение, тяжелыми, металлами, дальнегорск...</td>\n",
              "      <td>[загрязнение, тяжелыми, металлами, дальнегорск...</td>\n",
              "      <td>[(тяжелыми металлами, 2), (пос рудная, 2), (ру...</td>\n",
              "      <td>[(пос рудная пристань, 2), (загрязнение тяжелы...</td>\n",
              "    </tr>\n",
              "    <tr>\n",
              "      <th>2</th>\n",
              "      <td>NaN</td>\n",
              "      <td>NaN</td>\n",
              "      <td>Многие жители России пишут письма президенту М...</td>\n",
              "      <td>57</td>\n",
              "      <td>[многие, жители, россии, пишут, письма, презид...</td>\n",
              "      <td>[многие, жители, россии, пишут, письма, презид...</td>\n",
              "      <td>[(за спасение, 2), (многие жители, 1), (жители...</td>\n",
              "      <td>[(многие жители россии, 1), (жители россии пиш...</td>\n",
              "    </tr>\n",
              "    <tr>\n",
              "      <th>3</th>\n",
              "      <td>eng</td>\n",
              "      <td>HL</td>\n",
              "      <td>Директору магазина « Адидас» М. И. Васильченк...</td>\n",
              "      <td>187</td>\n",
              "      <td>[директору, магазина, адидас, м, и, васильченк...</td>\n",
              "      <td>[директору, магазина, адидас, м, и, васильченк...</td>\n",
              "      <td>[(магазина адидас, 2), (г владимир, 2), (влади...</td>\n",
              "      <td>[(г владимир ул, 2), (директору магазина адида...</td>\n",
              "    </tr>\n",
              "    <tr>\n",
              "      <th>4</th>\n",
              "      <td>eng</td>\n",
              "      <td>FL</td>\n",
              "      <td>&amp;lt; Что такое аннотация?&amp;gt;. Что такое анно...</td>\n",
              "      <td>30</td>\n",
              "      <td>[lt, что, такое, аннотация, gt, что, такое, ан...</td>\n",
              "      <td>[lt, что, такое, аннотация, gt, что, такое, ан...</td>\n",
              "      <td>[(что такое, 2), (такое аннотация, 2), (lt что...</td>\n",
              "      <td>[(что такое аннотация, 2), (lt что такое, 1), ...</td>\n",
              "    </tr>\n",
              "    <tr>\n",
              "      <th>5</th>\n",
              "      <td>eng</td>\n",
              "      <td>FL</td>\n",
              "      <td>Вывод. Спасибо, ребята, за хорошие ответы. Я ...</td>\n",
              "      <td>385</td>\n",
              "      <td>[вывод, спасибо, ребята, за, хорошие, ответы, ...</td>\n",
              "      <td>[вывод, спасибо, ребята, за, хорошие, ответы, ...</td>\n",
              "      <td>[(согласны что, 2), (вывод спасибо, 1), (спаси...</td>\n",
              "      <td>[(вывод спасибо ребята, 1), (спасибо ребята за...</td>\n",
              "    </tr>\n",
              "  </tbody>\n",
              "</table>\n",
              "</div>"
            ],
            "text/plain": [
              "   native  ...                                      word_trigrams\n",
              "id         ...                                                   \n",
              "1     eng  ...  [(пос рудная пристань, 2), (загрязнение тяжелы...\n",
              "2     NaN  ...  [(многие жители россии, 1), (жители россии пиш...\n",
              "3     eng  ...  [(г владимир ул, 2), (директору магазина адида...\n",
              "4     eng  ...  [(что такое аннотация, 2), (lt что такое, 1), ...\n",
              "5     eng  ...  [(вывод спасибо ребята, 1), (спасибо ребята за...\n",
              "\n",
              "[5 rows x 8 columns]"
            ]
          },
          "metadata": {
            "tags": []
          },
          "execution_count": 25
        }
      ]
    },
    {
      "cell_type": "markdown",
      "metadata": {
        "id": "zILiQ8xNnv_N",
        "colab_type": "text"
      },
      "source": [
        "## Character n-grams + truncation"
      ]
    },
    {
      "cell_type": "markdown",
      "metadata": {
        "id": "h4BlDtFcn1Ii",
        "colab_type": "text"
      },
      "source": [
        "### Choose character number limit"
      ]
    },
    {
      "cell_type": "code",
      "metadata": {
        "id": "brjGqpm6bcJR",
        "colab_type": "code",
        "colab": {}
      },
      "source": [
        "df['len_sym'] = df.text.apply(lambda x: len(x))"
      ],
      "execution_count": 0,
      "outputs": []
    },
    {
      "cell_type": "code",
      "metadata": {
        "id": "cu1YriuFbcbw",
        "colab_type": "code",
        "colab": {
          "base_uri": "https://localhost:8080/",
          "height": 34
        },
        "outputId": "2d3cb888-87b4-422f-d3c9-1c635e6813ca"
      },
      "source": [
        "stats.mode(list(df['len_sym']))"
      ],
      "execution_count": 27,
      "outputs": [
        {
          "output_type": "execute_result",
          "data": {
            "text/plain": [
              "ModeResult(mode=array([630]), count=array([14]))"
            ]
          },
          "metadata": {
            "tags": []
          },
          "execution_count": 27
        }
      ]
    },
    {
      "cell_type": "code",
      "metadata": {
        "id": "1gSW6I3ibcvd",
        "colab_type": "code",
        "colab": {
          "base_uri": "https://localhost:8080/",
          "height": 34
        },
        "outputId": "e6983f32-af1a-4fab-e85e-322c8d542eb8"
      },
      "source": [
        "len(df[df.len_sym >= 630])"
      ],
      "execution_count": 28,
      "outputs": [
        {
          "output_type": "execute_result",
          "data": {
            "text/plain": [
              "5443"
            ]
          },
          "metadata": {
            "tags": []
          },
          "execution_count": 28
        }
      ]
    },
    {
      "cell_type": "markdown",
      "metadata": {
        "id": "Y6SxCFOgn54O",
        "colab_type": "text"
      },
      "source": [
        "### Truncate texts by characters"
      ]
    },
    {
      "cell_type": "code",
      "metadata": {
        "id": "WZjlMqjMfqnJ",
        "colab_type": "code",
        "colab": {}
      },
      "source": [
        "df['char_truncated'] = df.text.apply(lambda x: x[:630])"
      ],
      "execution_count": 0,
      "outputs": []
    },
    {
      "cell_type": "markdown",
      "metadata": {
        "id": "h3vFaKE0oD3O",
        "colab_type": "text"
      },
      "source": [
        "### Make frequent n-gram samples, 3 <= n <= 10"
      ]
    },
    {
      "cell_type": "code",
      "metadata": {
        "id": "b4jEAz63fmbv",
        "colab_type": "code",
        "colab": {}
      },
      "source": [
        "from tqdm import tqdm"
      ],
      "execution_count": 0,
      "outputs": []
    },
    {
      "cell_type": "code",
      "metadata": {
        "id": "LKGt97pnj_yp",
        "colab_type": "code",
        "colab": {
          "base_uri": "https://localhost:8080/",
          "height": 197
        },
        "outputId": "5db1c872-a377-43dc-da89-852da51b0df7"
      },
      "source": [
        "if tqdm._instances:\n",
        "  for instance in tqdm._instances:\n",
        "    tqdm.decr_(instance)"
      ],
      "execution_count": 30,
      "outputs": [
        {
          "output_type": "error",
          "ename": "AttributeError",
          "evalue": "ignored",
          "traceback": [
            "\u001b[0;31m---------------------------------------------------------------------------\u001b[0m",
            "\u001b[0;31mAttributeError\u001b[0m                            Traceback (most recent call last)",
            "\u001b[0;32m<ipython-input-30-a06be9fcb77a>\u001b[0m in \u001b[0;36m<module>\u001b[0;34m()\u001b[0m\n\u001b[0;32m----> 1\u001b[0;31m \u001b[0;32mif\u001b[0m \u001b[0mtqdm\u001b[0m\u001b[0;34m.\u001b[0m\u001b[0m_instances\u001b[0m\u001b[0;34m:\u001b[0m\u001b[0;34m\u001b[0m\u001b[0;34m\u001b[0m\u001b[0m\n\u001b[0m\u001b[1;32m      2\u001b[0m   \u001b[0;32mfor\u001b[0m \u001b[0minstance\u001b[0m \u001b[0;32min\u001b[0m \u001b[0mtqdm\u001b[0m\u001b[0;34m.\u001b[0m\u001b[0m_instances\u001b[0m\u001b[0;34m:\u001b[0m\u001b[0;34m\u001b[0m\u001b[0;34m\u001b[0m\u001b[0m\n\u001b[1;32m      3\u001b[0m     \u001b[0mtqdm\u001b[0m\u001b[0;34m.\u001b[0m\u001b[0mdecr_\u001b[0m\u001b[0;34m(\u001b[0m\u001b[0minstance\u001b[0m\u001b[0;34m)\u001b[0m\u001b[0;34m\u001b[0m\u001b[0;34m\u001b[0m\u001b[0m\n",
            "\u001b[0;31mAttributeError\u001b[0m: type object 'tqdm' has no attribute '_instances'"
          ]
        }
      ]
    },
    {
      "cell_type": "code",
      "metadata": {
        "id": "tjinvMqicZiC",
        "colab_type": "code",
        "colab": {
          "base_uri": "https://localhost:8080/",
          "height": 34
        },
        "outputId": "7fb94a1c-fc92-4b61-c459-a18ba297d631"
      },
      "source": [
        "for i in tqdm(range(3, 11)):\n",
        "  col_name = 'character {}-grams'.format(i)\n",
        "  df[col_name] = df.char_truncated.apply(lambda x: freq_ngrams(x, i, 3000, char=True))"
      ],
      "execution_count": 32,
      "outputs": [
        {
          "output_type": "stream",
          "text": [
            "100%|██████████| 8/8 [01:06<00:00,  9.54s/it]\n"
          ],
          "name": "stderr"
        }
      ]
    },
    {
      "cell_type": "code",
      "metadata": {
        "id": "FooqWSs6dLM2",
        "colab_type": "code",
        "colab": {
          "base_uri": "https://localhost:8080/",
          "height": 731
        },
        "outputId": "36b32f67-3557-4888-e99c-33775faceaf9"
      },
      "source": [
        "df.head()"
      ],
      "execution_count": 33,
      "outputs": [
        {
          "output_type": "execute_result",
          "data": {
            "text/html": [
              "<div>\n",
              "<style scoped>\n",
              "    .dataframe tbody tr th:only-of-type {\n",
              "        vertical-align: middle;\n",
              "    }\n",
              "\n",
              "    .dataframe tbody tr th {\n",
              "        vertical-align: top;\n",
              "    }\n",
              "\n",
              "    .dataframe thead th {\n",
              "        text-align: right;\n",
              "    }\n",
              "</style>\n",
              "<table border=\"1\" class=\"dataframe\">\n",
              "  <thead>\n",
              "    <tr style=\"text-align: right;\">\n",
              "      <th></th>\n",
              "      <th>native</th>\n",
              "      <th>language_background</th>\n",
              "      <th>text</th>\n",
              "      <th>len</th>\n",
              "      <th>word_tokens</th>\n",
              "      <th>words_truncated</th>\n",
              "      <th>word_bigrams</th>\n",
              "      <th>word_trigrams</th>\n",
              "      <th>len_sym</th>\n",
              "      <th>char_truncated</th>\n",
              "      <th>character 3-grams</th>\n",
              "      <th>character 4-grams</th>\n",
              "      <th>character 5-grams</th>\n",
              "      <th>character 6-grams</th>\n",
              "      <th>character 7-grams</th>\n",
              "      <th>character 8-grams</th>\n",
              "      <th>character 9-grams</th>\n",
              "      <th>character 10-grams</th>\n",
              "    </tr>\n",
              "    <tr>\n",
              "      <th>id</th>\n",
              "      <th></th>\n",
              "      <th></th>\n",
              "      <th></th>\n",
              "      <th></th>\n",
              "      <th></th>\n",
              "      <th></th>\n",
              "      <th></th>\n",
              "      <th></th>\n",
              "      <th></th>\n",
              "      <th></th>\n",
              "      <th></th>\n",
              "      <th></th>\n",
              "      <th></th>\n",
              "      <th></th>\n",
              "      <th></th>\n",
              "      <th></th>\n",
              "      <th></th>\n",
              "      <th></th>\n",
              "    </tr>\n",
              "  </thead>\n",
              "  <tbody>\n",
              "    <tr>\n",
              "      <th>1</th>\n",
              "      <td>eng</td>\n",
              "      <td>HL</td>\n",
              "      <td>Загрязнение тяжелыми металлами Дальнегорского...</td>\n",
              "      <td>369</td>\n",
              "      <td>[загрязнение, тяжелыми, металлами, дальнегорск...</td>\n",
              "      <td>[загрязнение, тяжелыми, металлами, дальнегорск...</td>\n",
              "      <td>[(тяжелыми металлами, 2), (пос рудная, 2), (ру...</td>\n",
              "      <td>[(пос рудная пристань, 2), (загрязнение тяжелы...</td>\n",
              "      <td>2813</td>\n",
              "      <td>Загрязнение тяжелыми металлами Дальнегорского...</td>\n",
              "      <td>[(ых , 5), (агр, 4), (гря, 4), (ряз, 4), (язн,...</td>\n",
              "      <td>[(агря, 4), (гряз, 4), (рязн, 4), (язне, 4), (...</td>\n",
              "      <td>[(агряз, 4), (грязн, 4), (рязне, 4), (язнен, 4...</td>\n",
              "      <td>[(агрязн, 4), (грязне, 4), (рязнен, 4), (язнен...</td>\n",
              "      <td>[(агрязне, 4), (грязнен, 4), (рязнени, 3), (вл...</td>\n",
              "      <td>[(агрязнен, 4), (грязнени, 3), (вляется , 3), ...</td>\n",
              "      <td>[(агрязнени, 3), ( загрязне, 3), (загрязнен, 3...</td>\n",
              "      <td>[( загрязнен, 3), (агрязнение, 2), (грязнение ...</td>\n",
              "    </tr>\n",
              "    <tr>\n",
              "      <th>2</th>\n",
              "      <td>NaN</td>\n",
              "      <td>NaN</td>\n",
              "      <td>Многие жители России пишут письма президенту М...</td>\n",
              "      <td>57</td>\n",
              "      <td>[многие, жители, россии, пишут, письма, презид...</td>\n",
              "      <td>[многие, жители, россии, пишут, письма, презид...</td>\n",
              "      <td>[(за спасение, 2), (многие жители, 1), (жители...</td>\n",
              "      <td>[(многие жители россии, 1), (жители россии пиш...</td>\n",
              "      <td>392</td>\n",
              "      <td>Многие жители России пишут письма президенту М...</td>\n",
              "      <td>[( Ба, 4), (Бай, 4), (айк, 4), (йка, 4), (кал,...</td>\n",
              "      <td>[( Бай, 4), (Байк, 4), (айка, 4), (йкал, 4), (...</td>\n",
              "      <td>[( Байк, 4), (Байка, 4), (айкал, 4), ( Росс, 3...</td>\n",
              "      <td>[( Байка, 4), (Байкал, 4), ( Росси, 3), ( спас...</td>\n",
              "      <td>[( Байкал, 4), ( России, 2), (России , 2), ( з...</td>\n",
              "      <td>[( России , 2), ( за спас, 2), (за спасе, 2), ...</td>\n",
              "      <td>[( за спасе, 2), (за спасен, 2), (а спасени, 2...</td>\n",
              "      <td>[( за спасен, 2), (за спасени, 2), (а спасение...</td>\n",
              "    </tr>\n",
              "    <tr>\n",
              "      <th>3</th>\n",
              "      <td>eng</td>\n",
              "      <td>HL</td>\n",
              "      <td>Директору магазина « Адидас» М. И. Васильченк...</td>\n",
              "      <td>187</td>\n",
              "      <td>[директору, магазина, адидас, м, и, васильченк...</td>\n",
              "      <td>[директору, магазина, адидас, м, и, васильченк...</td>\n",
              "      <td>[(магазина адидас, 2), (г владимир, 2), (влади...</td>\n",
              "      <td>[(г владимир ул, 2), (директору магазина адида...</td>\n",
              "      <td>1391</td>\n",
              "      <td>Директору магазина « Адидас» М. И. Васильченк...</td>\n",
              "      <td>[(го , 7), (на , 5), (ина, 4), (л. , 4), (ени,...</td>\n",
              "      <td>[(ого , 4), (ина , 3), (его , 3), (ения, 3), (...</td>\n",
              "      <td>[(ного , 3), (ать н, 3), ( Дире, 2), (Дирек, 2...</td>\n",
              "      <td>[( Дирек, 2), (Директ, 2), (иректо, 2), (ректо...</td>\n",
              "      <td>[( Директ, 2), (Директо, 2), (иректор, 2), (ре...</td>\n",
              "      <td>[( Директо, 2), (Директор, 2), (иректору, 2), ...</td>\n",
              "      <td>[( Директор, 2), (Директору, 2), (иректору , 2...</td>\n",
              "      <td>[( Директору, 2), (Директору , 2), ( магазина ...</td>\n",
              "    </tr>\n",
              "    <tr>\n",
              "      <th>4</th>\n",
              "      <td>eng</td>\n",
              "      <td>FL</td>\n",
              "      <td>&amp;lt; Что такое аннотация?&amp;gt;. Что такое анно...</td>\n",
              "      <td>30</td>\n",
              "      <td>[lt, что, такое, аннотация, gt, что, такое, ан...</td>\n",
              "      <td>[lt, что, такое, аннотация, gt, что, такое, ан...</td>\n",
              "      <td>[(что такое, 2), (такое аннотация, 2), (lt что...</td>\n",
              "      <td>[(что такое аннотация, 2), (lt что такое, 1), ...</td>\n",
              "      <td>210</td>\n",
              "      <td>&amp;lt; Что такое аннотация?&amp;gt;. Что такое анно...</td>\n",
              "      <td>[(то , 3), ( Чт, 2), (Что, 2), (о т, 2), ( та,...</td>\n",
              "      <td>[( Что, 2), (Что , 2), (то т, 2), (о та, 2), (...</td>\n",
              "      <td>[( Что , 2), (Что т, 2), (то та, 2), (о так, 2...</td>\n",
              "      <td>[( Что т, 2), (Что та, 2), (то так, 2), (о так...</td>\n",
              "      <td>[( Что та, 2), (Что так, 2), (то тако, 2), (о ...</td>\n",
              "      <td>[( Что так, 2), (Что тако, 2), (то такое, 2), ...</td>\n",
              "      <td>[( Что тако, 2), (Что такое, 2), (то такое , 2...</td>\n",
              "      <td>[( Что такое, 2), (Что такое , 2), (то такое а...</td>\n",
              "    </tr>\n",
              "    <tr>\n",
              "      <th>5</th>\n",
              "      <td>eng</td>\n",
              "      <td>FL</td>\n",
              "      <td>Вывод. Спасибо, ребята, за хорошие ответы. Я ...</td>\n",
              "      <td>385</td>\n",
              "      <td>[вывод, спасибо, ребята, за, хорошие, ответы, ...</td>\n",
              "      <td>[вывод, спасибо, ребята, за, хорошие, ответы, ...</td>\n",
              "      <td>[(согласны что, 2), (вывод спасибо, 1), (спаси...</td>\n",
              "      <td>[(вывод спасибо ребята, 1), (спасибо ребята за...</td>\n",
              "      <td>2488</td>\n",
              "      <td>Вывод. Спасибо, ребята, за хорошие ответы. Я ...</td>\n",
              "      <td>[(то , 6), ( от, 5), ( по, 5), ( и , 5), (, ч,...</td>\n",
              "      <td>[(, чт, 5), ( что, 5), (ать , 4), ( все, 4), (...</td>\n",
              "      <td>[(, что, 5), ( все , 4), ( что , 4), (. Во-, 3...</td>\n",
              "      <td>[(, что , 4), (е согл, 3), ( согла, 3), (согла...</td>\n",
              "      <td>[(е согла, 3), ( соглас, 3), (согласн, 3), (ог...</td>\n",
              "      <td>[(е соглас, 3), ( согласн, 3), (согласны, 3), ...</td>\n",
              "      <td>[(е согласн, 3), ( согласны, 3), (согласны,, 3...</td>\n",
              "      <td>[(е согласны, 3), ( согласны,, 3), (согласны, ...</td>\n",
              "    </tr>\n",
              "  </tbody>\n",
              "</table>\n",
              "</div>"
            ],
            "text/plain": [
              "   native  ...                                 character 10-grams\n",
              "id         ...                                                   \n",
              "1     eng  ...  [( загрязнен, 3), (агрязнение, 2), (грязнение ...\n",
              "2     NaN  ...  [( за спасен, 2), (за спасени, 2), (а спасение...\n",
              "3     eng  ...  [( Директору, 2), (Директору , 2), ( магазина ...\n",
              "4     eng  ...  [( Что такое, 2), (Что такое , 2), (то такое а...\n",
              "5     eng  ...  [(е согласны, 3), ( согласны,, 3), (согласны, ...\n",
              "\n",
              "[5 rows x 18 columns]"
            ]
          },
          "metadata": {
            "tags": []
          },
          "execution_count": 33
        }
      ]
    },
    {
      "cell_type": "markdown",
      "metadata": {
        "id": "oAo0wI9zoRdD",
        "colab_type": "text"
      },
      "source": [
        "## Transform frequent n-gram lists to Counters"
      ]
    },
    {
      "cell_type": "code",
      "metadata": {
        "id": "cF2sNjtLh8lt",
        "colab_type": "code",
        "colab": {}
      },
      "source": [
        "def make_counter(commons):\n",
        "  return Counter({x[0]: x[1] for x in commons})"
      ],
      "execution_count": 0,
      "outputs": []
    },
    {
      "cell_type": "code",
      "metadata": {
        "id": "kd3TxjSviB8w",
        "colab_type": "code",
        "colab": {}
      },
      "source": [
        "to_counters = ['word_bigrams', 'word_trigrams'] + ['character {}-grams'.format(i) for i in range(3, 11)]"
      ],
      "execution_count": 0,
      "outputs": []
    },
    {
      "cell_type": "code",
      "metadata": {
        "id": "9xQGZFA8i5It",
        "colab_type": "code",
        "colab": {}
      },
      "source": [
        "for col in to_counters:\n",
        "  df[col] = df[col].apply(make_counter)"
      ],
      "execution_count": 0,
      "outputs": []
    },
    {
      "cell_type": "code",
      "metadata": {
        "id": "wI_nYkRWjIEO",
        "colab_type": "code",
        "colab": {
          "base_uri": "https://localhost:8080/",
          "height": 680
        },
        "outputId": "1eee7ab9-3ac0-463a-8221-bf69f56f4237"
      },
      "source": [
        "df.head()"
      ],
      "execution_count": 37,
      "outputs": [
        {
          "output_type": "execute_result",
          "data": {
            "text/html": [
              "<div>\n",
              "<style scoped>\n",
              "    .dataframe tbody tr th:only-of-type {\n",
              "        vertical-align: middle;\n",
              "    }\n",
              "\n",
              "    .dataframe tbody tr th {\n",
              "        vertical-align: top;\n",
              "    }\n",
              "\n",
              "    .dataframe thead th {\n",
              "        text-align: right;\n",
              "    }\n",
              "</style>\n",
              "<table border=\"1\" class=\"dataframe\">\n",
              "  <thead>\n",
              "    <tr style=\"text-align: right;\">\n",
              "      <th></th>\n",
              "      <th>native</th>\n",
              "      <th>language_background</th>\n",
              "      <th>text</th>\n",
              "      <th>len</th>\n",
              "      <th>word_tokens</th>\n",
              "      <th>words_truncated</th>\n",
              "      <th>word_bigrams</th>\n",
              "      <th>word_trigrams</th>\n",
              "      <th>len_sym</th>\n",
              "      <th>char_truncated</th>\n",
              "      <th>character 3-grams</th>\n",
              "      <th>character 4-grams</th>\n",
              "      <th>character 5-grams</th>\n",
              "      <th>character 6-grams</th>\n",
              "      <th>character 7-grams</th>\n",
              "      <th>character 8-grams</th>\n",
              "      <th>character 9-grams</th>\n",
              "      <th>character 10-grams</th>\n",
              "    </tr>\n",
              "    <tr>\n",
              "      <th>id</th>\n",
              "      <th></th>\n",
              "      <th></th>\n",
              "      <th></th>\n",
              "      <th></th>\n",
              "      <th></th>\n",
              "      <th></th>\n",
              "      <th></th>\n",
              "      <th></th>\n",
              "      <th></th>\n",
              "      <th></th>\n",
              "      <th></th>\n",
              "      <th></th>\n",
              "      <th></th>\n",
              "      <th></th>\n",
              "      <th></th>\n",
              "      <th></th>\n",
              "      <th></th>\n",
              "      <th></th>\n",
              "    </tr>\n",
              "  </thead>\n",
              "  <tbody>\n",
              "    <tr>\n",
              "      <th>1</th>\n",
              "      <td>eng</td>\n",
              "      <td>HL</td>\n",
              "      <td>Загрязнение тяжелыми металлами Дальнегорского...</td>\n",
              "      <td>369</td>\n",
              "      <td>[загрязнение, тяжелыми, металлами, дальнегорск...</td>\n",
              "      <td>[загрязнение, тяжелыми, металлами, дальнегорск...</td>\n",
              "      <td>{'тяжелыми металлами': 2, 'пос рудная': 2, 'ру...</td>\n",
              "      <td>{'пос рудная пристань': 2, 'загрязнение тяжелы...</td>\n",
              "      <td>2813</td>\n",
              "      <td>Загрязнение тяжелыми металлами Дальнегорского...</td>\n",
              "      <td>{'ых ': 5, 'агр': 4, 'гря': 4, 'ряз': 4, 'язн'...</td>\n",
              "      <td>{'агря': 4, 'гряз': 4, 'рязн': 4, 'язне': 4, '...</td>\n",
              "      <td>{'агряз': 4, 'грязн': 4, 'рязне': 4, 'язнен': ...</td>\n",
              "      <td>{'агрязн': 4, 'грязне': 4, 'рязнен': 4, 'язнен...</td>\n",
              "      <td>{'агрязне': 4, 'грязнен': 4, 'рязнени': 3, 'вл...</td>\n",
              "      <td>{'агрязнен': 4, 'грязнени': 3, 'вляется ': 3, ...</td>\n",
              "      <td>{'агрязнени': 3, ' загрязне': 3, 'загрязнен': ...</td>\n",
              "      <td>{' загрязнен': 3, 'агрязнение': 2, 'грязнение ...</td>\n",
              "    </tr>\n",
              "    <tr>\n",
              "      <th>2</th>\n",
              "      <td>NaN</td>\n",
              "      <td>NaN</td>\n",
              "      <td>Многие жители России пишут письма президенту М...</td>\n",
              "      <td>57</td>\n",
              "      <td>[многие, жители, россии, пишут, письма, презид...</td>\n",
              "      <td>[многие, жители, россии, пишут, письма, презид...</td>\n",
              "      <td>{'за спасение': 2, 'многие жители': 1, 'жители...</td>\n",
              "      <td>{'многие жители россии': 1, 'жители россии пиш...</td>\n",
              "      <td>392</td>\n",
              "      <td>Многие жители России пишут письма президенту М...</td>\n",
              "      <td>{' Ба': 4, 'Бай': 4, 'айк': 4, 'йка': 4, 'кал'...</td>\n",
              "      <td>{' Бай': 4, 'Байк': 4, 'айка': 4, 'йкал': 4, '...</td>\n",
              "      <td>{' Байк': 4, 'Байка': 4, 'айкал': 4, ' Росс': ...</td>\n",
              "      <td>{' Байка': 4, 'Байкал': 4, ' Росси': 3, ' спас...</td>\n",
              "      <td>{' Байкал': 4, ' России': 2, 'России ': 2, ' з...</td>\n",
              "      <td>{' России ': 2, ' за спас': 2, 'за спасе': 2, ...</td>\n",
              "      <td>{' за спасе': 2, 'за спасен': 2, 'а спасени': ...</td>\n",
              "      <td>{' за спасен': 2, 'за спасени': 2, 'а спасение...</td>\n",
              "    </tr>\n",
              "    <tr>\n",
              "      <th>3</th>\n",
              "      <td>eng</td>\n",
              "      <td>HL</td>\n",
              "      <td>Директору магазина « Адидас» М. И. Васильченк...</td>\n",
              "      <td>187</td>\n",
              "      <td>[директору, магазина, адидас, м, и, васильченк...</td>\n",
              "      <td>[директору, магазина, адидас, м, и, васильченк...</td>\n",
              "      <td>{'магазина адидас': 2, 'г владимир': 2, 'влади...</td>\n",
              "      <td>{'г владимир ул': 2, 'директору магазина адида...</td>\n",
              "      <td>1391</td>\n",
              "      <td>Директору магазина « Адидас» М. И. Васильченк...</td>\n",
              "      <td>{'го ': 7, 'на ': 5, 'ина': 4, 'л. ': 4, 'ени'...</td>\n",
              "      <td>{'ого ': 4, 'ина ': 3, 'его ': 3, 'ения': 3, '...</td>\n",
              "      <td>{'ного ': 3, 'ать н': 3, ' Дире': 2, 'Дирек': ...</td>\n",
              "      <td>{' Дирек': 2, 'Директ': 2, 'иректо': 2, 'ректо...</td>\n",
              "      <td>{' Директ': 2, 'Директо': 2, 'иректор': 2, 'ре...</td>\n",
              "      <td>{' Директо': 2, 'Директор': 2, 'иректору': 2, ...</td>\n",
              "      <td>{' Директор': 2, 'Директору': 2, 'иректору ': ...</td>\n",
              "      <td>{' Директору': 2, 'Директору ': 2, ' магазина ...</td>\n",
              "    </tr>\n",
              "    <tr>\n",
              "      <th>4</th>\n",
              "      <td>eng</td>\n",
              "      <td>FL</td>\n",
              "      <td>&amp;lt; Что такое аннотация?&amp;gt;. Что такое анно...</td>\n",
              "      <td>30</td>\n",
              "      <td>[lt, что, такое, аннотация, gt, что, такое, ан...</td>\n",
              "      <td>[lt, что, такое, аннотация, gt, что, такое, ан...</td>\n",
              "      <td>{'что такое': 2, 'такое аннотация': 2, 'lt что...</td>\n",
              "      <td>{'что такое аннотация': 2, 'lt что такое': 1, ...</td>\n",
              "      <td>210</td>\n",
              "      <td>&amp;lt; Что такое аннотация?&amp;gt;. Что такое анно...</td>\n",
              "      <td>{'то ': 3, ' Чт': 2, 'Что': 2, 'о т': 2, ' та'...</td>\n",
              "      <td>{' Что': 2, 'Что ': 2, 'то т': 2, 'о та': 2, '...</td>\n",
              "      <td>{' Что ': 2, 'Что т': 2, 'то та': 2, 'о так': ...</td>\n",
              "      <td>{' Что т': 2, 'Что та': 2, 'то так': 2, 'о так...</td>\n",
              "      <td>{' Что та': 2, 'Что так': 2, 'то тако': 2, 'о ...</td>\n",
              "      <td>{' Что так': 2, 'Что тако': 2, 'то такое': 2, ...</td>\n",
              "      <td>{' Что тако': 2, 'Что такое': 2, 'то такое ': ...</td>\n",
              "      <td>{' Что такое': 2, 'Что такое ': 2, 'то такое а...</td>\n",
              "    </tr>\n",
              "    <tr>\n",
              "      <th>5</th>\n",
              "      <td>eng</td>\n",
              "      <td>FL</td>\n",
              "      <td>Вывод. Спасибо, ребята, за хорошие ответы. Я ...</td>\n",
              "      <td>385</td>\n",
              "      <td>[вывод, спасибо, ребята, за, хорошие, ответы, ...</td>\n",
              "      <td>[вывод, спасибо, ребята, за, хорошие, ответы, ...</td>\n",
              "      <td>{'согласны что': 2, 'вывод спасибо': 1, 'спаси...</td>\n",
              "      <td>{'вывод спасибо ребята': 1, 'спасибо ребята за...</td>\n",
              "      <td>2488</td>\n",
              "      <td>Вывод. Спасибо, ребята, за хорошие ответы. Я ...</td>\n",
              "      <td>{'то ': 6, ' от': 5, ' по': 5, ' и ': 5, ', ч'...</td>\n",
              "      <td>{', чт': 5, ' что': 5, 'ать ': 4, ' все': 4, '...</td>\n",
              "      <td>{', что': 5, ' все ': 4, ' что ': 4, '. Во-': ...</td>\n",
              "      <td>{', что ': 4, 'е согл': 3, ' согла': 3, 'согла...</td>\n",
              "      <td>{'е согла': 3, ' соглас': 3, 'согласн': 3, 'ог...</td>\n",
              "      <td>{'е соглас': 3, ' согласн': 3, 'согласны': 3, ...</td>\n",
              "      <td>{'е согласн': 3, ' согласны': 3, 'согласны,': ...</td>\n",
              "      <td>{'е согласны': 3, ' согласны,': 3, 'согласны, ...</td>\n",
              "    </tr>\n",
              "  </tbody>\n",
              "</table>\n",
              "</div>"
            ],
            "text/plain": [
              "   native  ...                                 character 10-grams\n",
              "id         ...                                                   \n",
              "1     eng  ...  {' загрязнен': 3, 'агрязнение': 2, 'грязнение ...\n",
              "2     NaN  ...  {' за спасен': 2, 'за спасени': 2, 'а спасение...\n",
              "3     eng  ...  {' Директору': 2, 'Директору ': 2, ' магазина ...\n",
              "4     eng  ...  {' Что такое': 2, 'Что такое ': 2, 'то такое а...\n",
              "5     eng  ...  {'е согласны': 3, ' согласны,': 3, 'согласны, ...\n",
              "\n",
              "[5 rows x 18 columns]"
            ]
          },
          "metadata": {
            "tags": []
          },
          "execution_count": 37
        }
      ]
    }
  ]
}