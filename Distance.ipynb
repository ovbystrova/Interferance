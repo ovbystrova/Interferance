{
  "nbformat": 4,
  "nbformat_minor": 0,
  "metadata": {
    "colab": {
      "name": "Interference",
      "provenance": [],
      "collapsed_sections": [],
      "authorship_tag": "ABX9TyMh2p9CQaOW/UKkvVnacKWH",
      "include_colab_link": true
    },
    "kernelspec": {
      "name": "python3",
      "display_name": "Python 3"
    }
  },
  "cells": [
    {
      "cell_type": "markdown",
      "metadata": {
        "id": "view-in-github",
        "colab_type": "text"
      },
      "source": [
        "<a href=\"https://colab.research.google.com/github/ovbystrova/Interference/blob/master/Distance.ipynb\" target=\"_parent\"><img src=\"https://colab.research.google.com/assets/colab-badge.svg\" alt=\"Open In Colab\"/></a>"
      ]
    },
    {
      "cell_type": "markdown",
      "metadata": {
        "id": "jiJvM5_kAbOD",
        "colab_type": "text"
      },
      "source": [
        "# [Author Verification Using Common N-Gram Profiles of Text Documents](https://www.aclweb.org/anthology/C14-1038.pdf)\n"
      ]
    },
    {
      "cell_type": "code",
      "metadata": {
        "id": "OSMQfI4PVgWC",
        "colab_type": "code",
        "colab": {}
      },
      "source": [
        "import numpy as np\n",
        "\n",
        "from collections import Counter"
      ],
      "execution_count": 0,
      "outputs": []
    },
    {
      "cell_type": "code",
      "metadata": {
        "id": "KE6nMNijZJMj",
        "colab_type": "code",
        "colab": {}
      },
      "source": [
        "def preprocess(text):\n",
        "  return(Counter(text.split()))"
      ],
      "execution_count": 0,
      "outputs": []
    },
    {
      "cell_type": "code",
      "metadata": {
        "id": "SglBydBGVFvD",
        "colab_type": "code",
        "colab": {}
      },
      "source": [
        "text0 = 'I am so sad I am so tired'\n",
        "text1 = 'I am so tired so tired so tired'\n",
        "text2 = 'I am so sad so sad so sad'\n",
        "text3 = 'I am so sad and so tired'\n",
        "\n",
        "text4 = 'I am a veloceraptor'\n",
        "text5 = 'I am no loonger a veloceraptor'\n",
        "text6 = 'I wish I could be a veloceraptor'\n",
        "text7 = 'I am a huge veloceraptor'"
      ],
      "execution_count": 0,
      "outputs": []
    },
    {
      "cell_type": "code",
      "metadata": {
        "id": "AXXG4r-yJ21c",
        "colab_type": "code",
        "colab": {}
      },
      "source": [
        "def distance(profile1, profile2):\n",
        "  \"\"\"\n",
        "  calculates distance between 2 document profiles\n",
        "\n",
        "  :param profile1: collections.Counter, token frequencies in profile 1\n",
        "  :param profile2: collections.Counter, token frequencies in profile 2\n",
        "  :return: float, distance\n",
        "  \"\"\"\n",
        "  vocab = set(profile1.keys()).union(set(profile2.keys()))\n",
        "  diffs = []\n",
        "  for word in vocab:\n",
        "    fp1 = profile1[word]\n",
        "    fp2 = profile2[word]\n",
        "    diff = ((fp1 - fp2)/((fp1 + fp2)/2)) ** 2\n",
        "    diffs.append(diff)\n",
        "  return np.sum(diffs)"
      ],
      "execution_count": 0,
      "outputs": []
    },
    {
      "cell_type": "code",
      "metadata": {
        "id": "N6WXMIKNALo8",
        "colab_type": "code",
        "colab": {
          "base_uri": "https://localhost:8080/",
          "height": 34
        },
        "outputId": "0e3f5ff0-4806-4ec4-ddcb-4d57b9c1a04e"
      },
      "source": [
        "distance(preprocess(text1), preprocess(text2))"
      ],
      "execution_count": 24,
      "outputs": [
        {
          "output_type": "execute_result",
          "data": {
            "text/plain": [
              "8.0"
            ]
          },
          "metadata": {
            "tags": []
          },
          "execution_count": 24
        }
      ]
    },
    {
      "cell_type": "code",
      "metadata": {
        "id": "Ytl1khPiAatY",
        "colab_type": "code",
        "colab": {}
      },
      "source": [
        "def radius(di, u, A):\n",
        "  \"\"\"\n",
        "  compares proximity between an unknown document and a known one\n",
        "  :param di: collections.Counter, token frequencies in a known document i\n",
        "  :param u: collections.Counter, token frequencies in an unknown document\n",
        "  :param A: list of collections.Counter, token frequencies of all know documents\n",
        "  :return: float, distance\n",
        "  \"\"\"\n",
        "  return(distance(di, u)/np.max([distance(di, ai) for ai in A]))"
      ],
      "execution_count": 0,
      "outputs": []
    },
    {
      "cell_type": "code",
      "metadata": {
        "id": "mJx8QVILbEP7",
        "colab_type": "code",
        "colab": {
          "base_uri": "https://localhost:8080/",
          "height": 34
        },
        "outputId": "33bef55d-23a9-4f0c-8631-081386cff79e"
      },
      "source": [
        "radius(preprocess(text0), preprocess(text5), [preprocess(text) for text in [text0, text1, text2, text3]])"
      ],
      "execution_count": 31,
      "outputs": [
        {
          "output_type": "execute_result",
          "data": {
            "text/plain": [
              "4.775900073475386"
            ]
          },
          "metadata": {
            "tags": []
          },
          "execution_count": 31
        }
      ]
    },
    {
      "cell_type": "code",
      "metadata": {
        "id": "pHYO2TnEZz8g",
        "colab_type": "code",
        "colab": {}
      },
      "source": [
        "def radius_distance(u, A):\n",
        "  \"\"\"\n",
        "  compares proximity between an unknown document and all known ones\n",
        "  :param u: collections.Counter, token frequencies in an unknown document\n",
        "  :param A: list of collections.Counter, token frequencies of all know documents\n",
        "  :return: float, distance\n",
        "  \"\"\"\n",
        "  dists = []\n",
        "  for di in A:\n",
        "    dists.append(radius(di, u, A))\n",
        "  return np.mean(dists)"
      ],
      "execution_count": 0,
      "outputs": []
    },
    {
      "cell_type": "markdown",
      "metadata": {
        "id": "4kfGeVLIcci4",
        "colab_type": "text"
      },
      "source": [
        "let us try dissimilar documents"
      ]
    },
    {
      "cell_type": "code",
      "metadata": {
        "id": "8QySSzk2cFfr",
        "colab_type": "code",
        "colab": {
          "base_uri": "https://localhost:8080/",
          "height": 34
        },
        "outputId": "b5aeef16-ee98-45e4-c470-620148980662"
      },
      "source": [
        "radius_distance(preprocess(text5), [preprocess(text) for text in [text0, text1, text2, text3]])"
      ],
      "execution_count": 35,
      "outputs": [
        {
          "output_type": "execute_result",
          "data": {
            "text/plain": [
              "3.377381131905964"
            ]
          },
          "metadata": {
            "tags": []
          },
          "execution_count": 35
        }
      ]
    },
    {
      "cell_type": "code",
      "metadata": {
        "id": "-wJxhQSUcuzC",
        "colab_type": "code",
        "colab": {
          "base_uri": "https://localhost:8080/",
          "height": 34
        },
        "outputId": "adecb224-5347-4608-8e94-0fb4ea62614d"
      },
      "source": [
        "radius_distance(preprocess(text3), [preprocess(text) for text in [text5, text6, text7]])"
      ],
      "execution_count": 41,
      "outputs": [
        {
          "output_type": "execute_result",
          "data": {
            "text/plain": [
              "1.4444005270092228"
            ]
          },
          "metadata": {
            "tags": []
          },
          "execution_count": 41
        }
      ]
    },
    {
      "cell_type": "markdown",
      "metadata": {
        "id": "X9LvG7ztcftg",
        "colab_type": "text"
      },
      "source": [
        "let us try similar documents"
      ]
    },
    {
      "cell_type": "code",
      "metadata": {
        "id": "bGfVmrTlcPSx",
        "colab_type": "code",
        "colab": {
          "base_uri": "https://localhost:8080/",
          "height": 34
        },
        "outputId": "32efd076-a687-4206-dafc-2e643b0b4983"
      },
      "source": [
        "radius_distance(preprocess(text0), [preprocess(text) for text in [text1, text2, text3]])"
      ],
      "execution_count": 37,
      "outputs": [
        {
          "output_type": "execute_result",
          "data": {
            "text/plain": [
              "0.6181465308102864"
            ]
          },
          "metadata": {
            "tags": []
          },
          "execution_count": 37
        }
      ]
    },
    {
      "cell_type": "code",
      "metadata": {
        "id": "uWui89lFcZtN",
        "colab_type": "code",
        "colab": {
          "base_uri": "https://localhost:8080/",
          "height": 34
        },
        "outputId": "de1ffdd7-ff09-4919-dfcb-b308ccbd9b3a"
      },
      "source": [
        "radius_distance(preprocess(text4), [preprocess(text) for text in [text5, text6, text7]])"
      ],
      "execution_count": 39,
      "outputs": [
        {
          "output_type": "execute_result",
          "data": {
            "text/plain": [
              "0.39855072463768115"
            ]
          },
          "metadata": {
            "tags": []
          },
          "execution_count": 39
        }
      ]
    }
  ]
}