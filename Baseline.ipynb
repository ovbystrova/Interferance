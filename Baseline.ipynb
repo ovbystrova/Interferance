{
  "nbformat": 4,
  "nbformat_minor": 0,
  "metadata": {
    "colab": {
      "name": "Baseline",
      "provenance": [],
      "authorship_tag": "ABX9TyMLFFfhBN5bt1nIX5oVbSNo",
      "include_colab_link": true
    },
    "kernelspec": {
      "name": "python3",
      "display_name": "Python 3"
    }
  },
  "cells": [
    {
      "cell_type": "markdown",
      "metadata": {
        "id": "view-in-github",
        "colab_type": "text"
      },
      "source": [
        "<a href=\"https://colab.research.google.com/github/ovbystrova/Interference/blob/master/Baseline.ipynb\" target=\"_parent\"><img src=\"https://colab.research.google.com/assets/colab-badge.svg\" alt=\"Open In Colab\"/></a>"
      ]
    },
    {
      "cell_type": "code",
      "metadata": {
        "id": "SFofGdsLHBsx",
        "colab_type": "code",
        "colab": {
          "base_uri": "https://localhost:8080/",
          "height": 289
        },
        "outputId": "a0865765-6e18-4aaf-d2a1-3537784e7e39"
      },
      "source": [
        "!wget https://github.com/ovbystrova/Interference/raw/master/data/original_texts.csv"
      ],
      "execution_count": 77,
      "outputs": [
        {
          "output_type": "stream",
          "text": [
            "--2020-03-26 14:43:47--  https://github.com/ovbystrova/Interference/raw/master/data/original_texts.csv\n",
            "Resolving github.com (github.com)... 140.82.114.4\n",
            "Connecting to github.com (github.com)|140.82.114.4|:443... connected.\n",
            "HTTP request sent, awaiting response... 302 Found\n",
            "Location: https://raw.githubusercontent.com/ovbystrova/Interference/master/data/original_texts.csv [following]\n",
            "--2020-03-26 14:43:48--  https://raw.githubusercontent.com/ovbystrova/Interference/master/data/original_texts.csv\n",
            "Resolving raw.githubusercontent.com (raw.githubusercontent.com)... 151.101.0.133, 151.101.64.133, 151.101.128.133, ...\n",
            "Connecting to raw.githubusercontent.com (raw.githubusercontent.com)|151.101.0.133|:443... connected.\n",
            "HTTP request sent, awaiting response... 200 OK\n",
            "Length: 18891291 (18M) [text/plain]\n",
            "Saving to: ‘original_texts.csv.1’\n",
            "\n",
            "original_texts.csv. 100%[===================>]  18.02M  28.3MB/s    in 0.6s    \n",
            "\n",
            "2020-03-26 14:43:49 (28.3 MB/s) - ‘original_texts.csv.1’ saved [18891291/18891291]\n",
            "\n"
          ],
          "name": "stdout"
        }
      ]
    },
    {
      "cell_type": "code",
      "metadata": {
        "id": "60ERDslmHMqP",
        "colab_type": "code",
        "colab": {}
      },
      "source": [
        "import gensim.downloader as api\n",
        "import matplotlib.pyplot as plt\n",
        "import numpy as np\n",
        "import pandas as pd\n",
        "import re\n",
        "import sklearn\n",
        "\n",
        "from sklearn.feature_extraction.text import TfidfVectorizer\n",
        "from sklearn.feature_selection import SelectFromModel\n",
        "from sklearn.linear_model import LogisticRegressionCV, LogisticRegression\n",
        "from sklearn.model_selection import train_test_split\n",
        "from sklearn import metrics\n",
        "from sklearn.pipeline import make_pipeline\n",
        "from sklearn.preprocessing import LabelEncoder\n",
        "from tqdm.notebook import tqdm"
      ],
      "execution_count": 0,
      "outputs": []
    },
    {
      "cell_type": "code",
      "metadata": {
        "id": "Fm9dzha7L-Zp",
        "colab_type": "code",
        "colab": {}
      },
      "source": [
        "seed = 42"
      ],
      "execution_count": 0,
      "outputs": []
    },
    {
      "cell_type": "code",
      "metadata": {
        "id": "6TADd3-8Vvzh",
        "colab_type": "code",
        "colab": {}
      },
      "source": [
        "results = pd.DataFrame(columns=['model', 'preprocess', 'vectorize', 'score', 'native', 'language_background'])"
      ],
      "execution_count": 0,
      "outputs": []
    },
    {
      "cell_type": "code",
      "metadata": {
        "id": "gkZQagPtXL5u",
        "colab_type": "code",
        "colab": {
          "base_uri": "https://localhost:8080/",
          "height": 68
        },
        "outputId": "b4015c27-297a-4cb4-ec6c-7032e93e46cc"
      },
      "source": [
        "results.columns"
      ],
      "execution_count": 128,
      "outputs": [
        {
          "output_type": "execute_result",
          "data": {
            "text/plain": [
              "Index(['model', 'preprocess', 'vectorize', 'score', 'native',\n",
              "       'language_background'],\n",
              "      dtype='object')"
            ]
          },
          "metadata": {
            "tags": []
          },
          "execution_count": 128
        }
      ]
    },
    {
      "cell_type": "code",
      "metadata": {
        "id": "Wb8OvWwiWzUw",
        "colab_type": "code",
        "colab": {}
      },
      "source": [
        "def add_row(results_df, res_list):\n",
        "  return results_df.append(dict(zip(results_df.columns, res_list)), ignore_index=True)"
      ],
      "execution_count": 0,
      "outputs": []
    },
    {
      "cell_type": "markdown",
      "metadata": {
        "id": "0dzVgGLjmgaV",
        "colab_type": "text"
      },
      "source": [
        "## Dataset"
      ]
    },
    {
      "cell_type": "code",
      "metadata": {
        "id": "K81FnWm099my",
        "colab_type": "code",
        "colab": {}
      },
      "source": [
        "df = pd.read_csv('original_texts.csv', index_col='id')"
      ],
      "execution_count": 0,
      "outputs": []
    },
    {
      "cell_type": "code",
      "metadata": {
        "id": "BXYCPIvW-uAp",
        "colab_type": "code",
        "outputId": "30b55bff-fa86-4977-cf5b-daccd9443839",
        "colab": {
          "base_uri": "https://localhost:8080/",
          "height": 235
        }
      },
      "source": [
        "df.head()"
      ],
      "execution_count": 137,
      "outputs": [
        {
          "output_type": "execute_result",
          "data": {
            "text/html": [
              "<div>\n",
              "<style scoped>\n",
              "    .dataframe tbody tr th:only-of-type {\n",
              "        vertical-align: middle;\n",
              "    }\n",
              "\n",
              "    .dataframe tbody tr th {\n",
              "        vertical-align: top;\n",
              "    }\n",
              "\n",
              "    .dataframe thead th {\n",
              "        text-align: right;\n",
              "    }\n",
              "</style>\n",
              "<table border=\"1\" class=\"dataframe\">\n",
              "  <thead>\n",
              "    <tr style=\"text-align: right;\">\n",
              "      <th></th>\n",
              "      <th>native</th>\n",
              "      <th>language_background</th>\n",
              "      <th>title</th>\n",
              "      <th>text</th>\n",
              "      <th>date1</th>\n",
              "      <th>date2</th>\n",
              "      <th>level</th>\n",
              "      <th>annotated</th>\n",
              "      <th>checked</th>\n",
              "    </tr>\n",
              "    <tr>\n",
              "      <th>id</th>\n",
              "      <th></th>\n",
              "      <th></th>\n",
              "      <th></th>\n",
              "      <th></th>\n",
              "      <th></th>\n",
              "      <th></th>\n",
              "      <th></th>\n",
              "      <th></th>\n",
              "      <th></th>\n",
              "    </tr>\n",
              "  </thead>\n",
              "  <tbody>\n",
              "    <tr>\n",
              "      <th>1</th>\n",
              "      <td>eng</td>\n",
              "      <td>HL</td>\n",
              "      <td>expository (non-timed, paragraph, Environmenta...</td>\n",
              "      <td>Загрязнение тяжелыми металлами Дальнегорского...</td>\n",
              "      <td>2009.0</td>\n",
              "      <td>2010.0</td>\n",
              "      <td>AM</td>\n",
              "      <td>1</td>\n",
              "      <td>1</td>\n",
              "    </tr>\n",
              "    <tr>\n",
              "      <th>2</th>\n",
              "      <td>NaN</td>\n",
              "      <td>NaN</td>\n",
              "      <td>–</td>\n",
              "      <td>Многие жители России пишут письма президенту М...</td>\n",
              "      <td>2000.0</td>\n",
              "      <td>2013.0</td>\n",
              "      <td>NaN</td>\n",
              "      <td>1</td>\n",
              "      <td>1</td>\n",
              "    </tr>\n",
              "    <tr>\n",
              "      <th>3</th>\n",
              "      <td>eng</td>\n",
              "      <td>HL</td>\n",
              "      <td>business correspondence (non-timed, paragraph,...</td>\n",
              "      <td>Директору магазина « Адидас» М. И. Васильченк...</td>\n",
              "      <td>2009.0</td>\n",
              "      <td>2010.0</td>\n",
              "      <td>AM</td>\n",
              "      <td>1</td>\n",
              "      <td>1</td>\n",
              "    </tr>\n",
              "    <tr>\n",
              "      <th>4</th>\n",
              "      <td>eng</td>\n",
              "      <td>FL</td>\n",
              "      <td>definition (non-timed, sentences, Russian in t...</td>\n",
              "      <td>&amp;lt; Что такое аннотация?&amp;gt;. Что такое анно...</td>\n",
              "      <td>2011.0</td>\n",
              "      <td>2012.0</td>\n",
              "      <td>IH</td>\n",
              "      <td>1</td>\n",
              "      <td>1</td>\n",
              "    </tr>\n",
              "    <tr>\n",
              "      <th>5</th>\n",
              "      <td>eng</td>\n",
              "      <td>FL</td>\n",
              "      <td>summary (non-timed, paragraph, Capstone)</td>\n",
              "      <td>Вывод. Спасибо, ребята, за хорошие ответы. Я ...</td>\n",
              "      <td>2012.0</td>\n",
              "      <td>2013.0</td>\n",
              "      <td>AM</td>\n",
              "      <td>1</td>\n",
              "      <td>1</td>\n",
              "    </tr>\n",
              "  </tbody>\n",
              "</table>\n",
              "</div>"
            ],
            "text/plain": [
              "   native language_background  ... annotated checked\n",
              "id                             ...                  \n",
              "1     eng                  HL  ...         1       1\n",
              "2     NaN                 NaN  ...         1       1\n",
              "3     eng                  HL  ...         1       1\n",
              "4     eng                  FL  ...         1       1\n",
              "5     eng                  FL  ...         1       1\n",
              "\n",
              "[5 rows x 9 columns]"
            ]
          },
          "metadata": {
            "tags": []
          },
          "execution_count": 137
        }
      ]
    },
    {
      "cell_type": "markdown",
      "metadata": {
        "id": "hixMtueyhgjX",
        "colab_type": "text"
      },
      "source": [
        "Drop useless for our task columns and NaNs"
      ]
    },
    {
      "cell_type": "code",
      "metadata": {
        "id": "N_R-1CbFa3Lw",
        "colab_type": "code",
        "colab": {}
      },
      "source": [
        "df = df.drop(['title', 'date1', 'date2', 'level', 'annotated', 'checked'], axis=1)\n",
        "df = df.dropna()"
      ],
      "execution_count": 0,
      "outputs": []
    },
    {
      "cell_type": "code",
      "metadata": {
        "id": "GVqcSGkcuYXF",
        "colab_type": "code",
        "colab": {
          "base_uri": "https://localhost:8080/",
          "height": 235
        },
        "outputId": "115201f4-4423-46ac-a51d-a7f6a60ba4c5"
      },
      "source": [
        "df['text'] = df.text.apply(lambda x: re.sub('\\&[lg]t;', '', x))\n",
        "df.head()"
      ],
      "execution_count": 139,
      "outputs": [
        {
          "output_type": "execute_result",
          "data": {
            "text/html": [
              "<div>\n",
              "<style scoped>\n",
              "    .dataframe tbody tr th:only-of-type {\n",
              "        vertical-align: middle;\n",
              "    }\n",
              "\n",
              "    .dataframe tbody tr th {\n",
              "        vertical-align: top;\n",
              "    }\n",
              "\n",
              "    .dataframe thead th {\n",
              "        text-align: right;\n",
              "    }\n",
              "</style>\n",
              "<table border=\"1\" class=\"dataframe\">\n",
              "  <thead>\n",
              "    <tr style=\"text-align: right;\">\n",
              "      <th></th>\n",
              "      <th>native</th>\n",
              "      <th>language_background</th>\n",
              "      <th>text</th>\n",
              "    </tr>\n",
              "    <tr>\n",
              "      <th>id</th>\n",
              "      <th></th>\n",
              "      <th></th>\n",
              "      <th></th>\n",
              "    </tr>\n",
              "  </thead>\n",
              "  <tbody>\n",
              "    <tr>\n",
              "      <th>1</th>\n",
              "      <td>eng</td>\n",
              "      <td>HL</td>\n",
              "      <td>Загрязнение тяжелыми металлами Дальнегорского...</td>\n",
              "    </tr>\n",
              "    <tr>\n",
              "      <th>3</th>\n",
              "      <td>eng</td>\n",
              "      <td>HL</td>\n",
              "      <td>Директору магазина « Адидас» М. И. Васильченк...</td>\n",
              "    </tr>\n",
              "    <tr>\n",
              "      <th>4</th>\n",
              "      <td>eng</td>\n",
              "      <td>FL</td>\n",
              "      <td>Что такое аннотация?. Что такое аннотация ( ...</td>\n",
              "    </tr>\n",
              "    <tr>\n",
              "      <th>5</th>\n",
              "      <td>eng</td>\n",
              "      <td>FL</td>\n",
              "      <td>Вывод. Спасибо, ребята, за хорошие ответы. Я ...</td>\n",
              "    </tr>\n",
              "    <tr>\n",
              "      <th>6</th>\n",
              "      <td>eng</td>\n",
              "      <td>FL</td>\n",
              "      <td>Записи. Первая проблема- что производить? втор...</td>\n",
              "    </tr>\n",
              "  </tbody>\n",
              "</table>\n",
              "</div>"
            ],
            "text/plain": [
              "   native  ...                                               text\n",
              "id         ...                                                   \n",
              "1     eng  ...   Загрязнение тяжелыми металлами Дальнегорского...\n",
              "3     eng  ...   Директору магазина « Адидас» М. И. Васильченк...\n",
              "4     eng  ...    Что такое аннотация?. Что такое аннотация ( ...\n",
              "5     eng  ...   Вывод. Спасибо, ребята, за хорошие ответы. Я ...\n",
              "6     eng  ...  Записи. Первая проблема- что производить? втор...\n",
              "\n",
              "[5 rows x 3 columns]"
            ]
          },
          "metadata": {
            "tags": []
          },
          "execution_count": 139
        }
      ]
    },
    {
      "cell_type": "code",
      "metadata": {
        "id": "Pl22YTY7H0U6",
        "colab_type": "code",
        "colab": {
          "base_uri": "https://localhost:8080/",
          "height": 289
        },
        "outputId": "7b80c69b-39ae-4677-9972-91cc8ba57b21"
      },
      "source": [
        "df['native'].value_counts(normalize=True)"
      ],
      "execution_count": 84,
      "outputs": [
        {
          "output_type": "execute_result",
          "data": {
            "text/plain": [
              "eng    0.401660\n",
              "jap    0.200639\n",
              "fin    0.157216\n",
              "fr     0.063218\n",
              "kaz    0.063091\n",
              "ger    0.036143\n",
              "kor    0.025160\n",
              "swe    0.022733\n",
              "ita    0.014687\n",
              "taj    0.003831\n",
              "nor    0.003576\n",
              "chi    0.003065\n",
              "ser    0.002427\n",
              "dut    0.002299\n",
              "est    0.000255\n",
              "Name: native, dtype: float64"
            ]
          },
          "metadata": {
            "tags": []
          },
          "execution_count": 84
        }
      ]
    },
    {
      "cell_type": "code",
      "metadata": {
        "id": "dZUya2fyMz53",
        "colab_type": "code",
        "colab": {
          "base_uri": "https://localhost:8080/",
          "height": 235
        },
        "outputId": "9a936563-00b1-4b86-da1f-b54826470c52"
      },
      "source": [
        "le = LabelEncoder()\n",
        "le.fit(df.native.values)\n",
        "list(le.classes_)\n",
        "df['target_native'] = le.transform(df['native'].values)\n",
        "df.head()"
      ],
      "execution_count": 140,
      "outputs": [
        {
          "output_type": "execute_result",
          "data": {
            "text/html": [
              "<div>\n",
              "<style scoped>\n",
              "    .dataframe tbody tr th:only-of-type {\n",
              "        vertical-align: middle;\n",
              "    }\n",
              "\n",
              "    .dataframe tbody tr th {\n",
              "        vertical-align: top;\n",
              "    }\n",
              "\n",
              "    .dataframe thead th {\n",
              "        text-align: right;\n",
              "    }\n",
              "</style>\n",
              "<table border=\"1\" class=\"dataframe\">\n",
              "  <thead>\n",
              "    <tr style=\"text-align: right;\">\n",
              "      <th></th>\n",
              "      <th>native</th>\n",
              "      <th>language_background</th>\n",
              "      <th>text</th>\n",
              "      <th>target_native</th>\n",
              "    </tr>\n",
              "    <tr>\n",
              "      <th>id</th>\n",
              "      <th></th>\n",
              "      <th></th>\n",
              "      <th></th>\n",
              "      <th></th>\n",
              "    </tr>\n",
              "  </thead>\n",
              "  <tbody>\n",
              "    <tr>\n",
              "      <th>1</th>\n",
              "      <td>eng</td>\n",
              "      <td>HL</td>\n",
              "      <td>Загрязнение тяжелыми металлами Дальнегорского...</td>\n",
              "      <td>2</td>\n",
              "    </tr>\n",
              "    <tr>\n",
              "      <th>3</th>\n",
              "      <td>eng</td>\n",
              "      <td>HL</td>\n",
              "      <td>Директору магазина « Адидас» М. И. Васильченк...</td>\n",
              "      <td>2</td>\n",
              "    </tr>\n",
              "    <tr>\n",
              "      <th>4</th>\n",
              "      <td>eng</td>\n",
              "      <td>FL</td>\n",
              "      <td>Что такое аннотация?. Что такое аннотация ( ...</td>\n",
              "      <td>2</td>\n",
              "    </tr>\n",
              "    <tr>\n",
              "      <th>5</th>\n",
              "      <td>eng</td>\n",
              "      <td>FL</td>\n",
              "      <td>Вывод. Спасибо, ребята, за хорошие ответы. Я ...</td>\n",
              "      <td>2</td>\n",
              "    </tr>\n",
              "    <tr>\n",
              "      <th>6</th>\n",
              "      <td>eng</td>\n",
              "      <td>FL</td>\n",
              "      <td>Записи. Первая проблема- что производить? втор...</td>\n",
              "      <td>2</td>\n",
              "    </tr>\n",
              "  </tbody>\n",
              "</table>\n",
              "</div>"
            ],
            "text/plain": [
              "   native  ... target_native\n",
              "id         ...              \n",
              "1     eng  ...             2\n",
              "3     eng  ...             2\n",
              "4     eng  ...             2\n",
              "5     eng  ...             2\n",
              "6     eng  ...             2\n",
              "\n",
              "[5 rows x 4 columns]"
            ]
          },
          "metadata": {
            "tags": []
          },
          "execution_count": 140
        }
      ]
    },
    {
      "cell_type": "code",
      "metadata": {
        "id": "6Js4nxPlNl15",
        "colab_type": "code",
        "colab": {}
      },
      "source": [
        "# list(le.inverse_transform([2, 2, 1])))"
      ],
      "execution_count": 0,
      "outputs": []
    },
    {
      "cell_type": "code",
      "metadata": {
        "id": "e7AFQd7IIyVP",
        "colab_type": "code",
        "colab": {
          "base_uri": "https://localhost:8080/",
          "height": 68
        },
        "outputId": "21f89379-7349-47a4-a10e-07d200c084be"
      },
      "source": [
        "df['language_background'].value_counts(normalize=True)"
      ],
      "execution_count": 87,
      "outputs": [
        {
          "output_type": "execute_result",
          "data": {
            "text/plain": [
              "FL    0.689144\n",
              "HL    0.310856\n",
              "Name: language_background, dtype: float64"
            ]
          },
          "metadata": {
            "tags": []
          },
          "execution_count": 87
        }
      ]
    },
    {
      "cell_type": "code",
      "metadata": {
        "id": "v2CjGd_tNuru",
        "colab_type": "code",
        "colab": {
          "base_uri": "https://localhost:8080/",
          "height": 235
        },
        "outputId": "136f051e-ec6e-481e-b634-c77039218793"
      },
      "source": [
        "le_lb = LabelEncoder()\n",
        "le_lb.fit(df.language_background.values)\n",
        "list(le_lb.classes_)\n",
        "df['target_lb'] = le_lb.transform(df['language_background'].values)\n",
        "df.head()"
      ],
      "execution_count": 141,
      "outputs": [
        {
          "output_type": "execute_result",
          "data": {
            "text/html": [
              "<div>\n",
              "<style scoped>\n",
              "    .dataframe tbody tr th:only-of-type {\n",
              "        vertical-align: middle;\n",
              "    }\n",
              "\n",
              "    .dataframe tbody tr th {\n",
              "        vertical-align: top;\n",
              "    }\n",
              "\n",
              "    .dataframe thead th {\n",
              "        text-align: right;\n",
              "    }\n",
              "</style>\n",
              "<table border=\"1\" class=\"dataframe\">\n",
              "  <thead>\n",
              "    <tr style=\"text-align: right;\">\n",
              "      <th></th>\n",
              "      <th>native</th>\n",
              "      <th>language_background</th>\n",
              "      <th>text</th>\n",
              "      <th>target_native</th>\n",
              "      <th>target_lb</th>\n",
              "    </tr>\n",
              "    <tr>\n",
              "      <th>id</th>\n",
              "      <th></th>\n",
              "      <th></th>\n",
              "      <th></th>\n",
              "      <th></th>\n",
              "      <th></th>\n",
              "    </tr>\n",
              "  </thead>\n",
              "  <tbody>\n",
              "    <tr>\n",
              "      <th>1</th>\n",
              "      <td>eng</td>\n",
              "      <td>HL</td>\n",
              "      <td>Загрязнение тяжелыми металлами Дальнегорского...</td>\n",
              "      <td>2</td>\n",
              "      <td>1</td>\n",
              "    </tr>\n",
              "    <tr>\n",
              "      <th>3</th>\n",
              "      <td>eng</td>\n",
              "      <td>HL</td>\n",
              "      <td>Директору магазина « Адидас» М. И. Васильченк...</td>\n",
              "      <td>2</td>\n",
              "      <td>1</td>\n",
              "    </tr>\n",
              "    <tr>\n",
              "      <th>4</th>\n",
              "      <td>eng</td>\n",
              "      <td>FL</td>\n",
              "      <td>Что такое аннотация?. Что такое аннотация ( ...</td>\n",
              "      <td>2</td>\n",
              "      <td>0</td>\n",
              "    </tr>\n",
              "    <tr>\n",
              "      <th>5</th>\n",
              "      <td>eng</td>\n",
              "      <td>FL</td>\n",
              "      <td>Вывод. Спасибо, ребята, за хорошие ответы. Я ...</td>\n",
              "      <td>2</td>\n",
              "      <td>0</td>\n",
              "    </tr>\n",
              "    <tr>\n",
              "      <th>6</th>\n",
              "      <td>eng</td>\n",
              "      <td>FL</td>\n",
              "      <td>Записи. Первая проблема- что производить? втор...</td>\n",
              "      <td>2</td>\n",
              "      <td>0</td>\n",
              "    </tr>\n",
              "  </tbody>\n",
              "</table>\n",
              "</div>"
            ],
            "text/plain": [
              "   native language_background  ... target_native  target_lb\n",
              "id                             ...                         \n",
              "1     eng                  HL  ...             2          1\n",
              "3     eng                  HL  ...             2          1\n",
              "4     eng                  FL  ...             2          0\n",
              "5     eng                  FL  ...             2          0\n",
              "6     eng                  FL  ...             2          0\n",
              "\n",
              "[5 rows x 5 columns]"
            ]
          },
          "metadata": {
            "tags": []
          },
          "execution_count": 141
        }
      ]
    },
    {
      "cell_type": "markdown",
      "metadata": {
        "id": "tC0S9vI6Pd8b",
        "colab_type": "text"
      },
      "source": [
        "## TF-IDF"
      ]
    },
    {
      "cell_type": "markdown",
      "metadata": {
        "id": "tgPiYZKXPwbg",
        "colab_type": "text"
      },
      "source": [
        "### on text"
      ]
    },
    {
      "cell_type": "markdown",
      "metadata": {
        "id": "h71mlBWZPg9R",
        "colab_type": "text"
      },
      "source": [
        "#### native"
      ]
    },
    {
      "cell_type": "code",
      "metadata": {
        "id": "7NgXhi2jMMFl",
        "colab_type": "code",
        "colab": {}
      },
      "source": [
        "vec = TfidfVectorizer(lowercase=True, tokenizer=None, analyzer='word', stop_words='english', \n",
        "                      ngram_range=(1,3), max_df=0.9, min_df=10, \n",
        "                      use_idf=True, smooth_idf=True, norm='l2')\n",
        "\n",
        "xs = vec.fit_transform(df['text'])\n",
        "ys_n = df.target_native.values\n",
        "ys_lb = df.target_lb.values"
      ],
      "execution_count": 0,
      "outputs": []
    },
    {
      "cell_type": "code",
      "metadata": {
        "id": "gIlk2elTKyei",
        "colab_type": "code",
        "colab": {}
      },
      "source": [
        "x_train, x_test, y_train_n, y_test_n = train_test_split(xs, ys_n,\n",
        "                                                    test_size=0.2,\n",
        "                                                    random_state=seed,\n",
        "                                                    stratify=ys_n)"
      ],
      "execution_count": 0,
      "outputs": []
    },
    {
      "cell_type": "code",
      "metadata": {
        "id": "KHmwFKn7ObxE",
        "colab_type": "code",
        "colab": {
          "base_uri": "https://localhost:8080/",
          "height": 289
        },
        "outputId": "78282231-85f3-4406-a6e5-12cf4ddb4c03"
      },
      "source": [
        "%%time\n",
        "\n",
        "model_n = LogisticRegressionCV(Cs=[10, 1, 0.1], cv=3, penalty='l2', \n",
        "                             multi_class='multinomial',\n",
        "                             scoring='f1_macro', n_jobs=-1, verbose=True, random_state=seed)\n",
        "model_n.fit(x_train, y_train_n)"
      ],
      "execution_count": 91,
      "outputs": [
        {
          "output_type": "stream",
          "text": [
            "/usr/local/lib/python3.6/dist-packages/sklearn/model_selection/_split.py:667: UserWarning: The least populated class in y has only 2 members, which is less than n_splits=3.\n",
            "  % (min_groups, self.n_splits)), UserWarning)\n",
            "[Parallel(n_jobs=-1)]: Using backend LokyBackend with 2 concurrent workers.\n",
            "/usr/local/lib/python3.6/dist-packages/joblib/externals/loky/process_executor.py:706: UserWarning: A worker stopped while some jobs were given to the executor. This can be caused by a too short worker timeout or by a memory leak.\n",
            "  \"timeout or by a memory leak.\", UserWarning\n",
            "[Parallel(n_jobs=-1)]: Done   3 out of   3 | elapsed:   49.2s finished\n"
          ],
          "name": "stderr"
        },
        {
          "output_type": "stream",
          "text": [
            "CPU times: user 14.8 s, sys: 9.54 s, total: 24.4 s\n",
            "Wall time: 1min 1s\n"
          ],
          "name": "stdout"
        },
        {
          "output_type": "stream",
          "text": [
            "/usr/local/lib/python3.6/dist-packages/sklearn/linear_model/_logistic.py:940: ConvergenceWarning: lbfgs failed to converge (status=1):\n",
            "STOP: TOTAL NO. of ITERATIONS REACHED LIMIT.\n",
            "\n",
            "Increase the number of iterations (max_iter) or scale the data as shown in:\n",
            "    https://scikit-learn.org/stable/modules/preprocessing.html\n",
            "Please also refer to the documentation for alternative solver options:\n",
            "    https://scikit-learn.org/stable/modules/linear_model.html#logistic-regression\n",
            "  extra_warning_msg=_LOGISTIC_SOLVER_CONVERGENCE_MSG)\n"
          ],
          "name": "stderr"
        }
      ]
    },
    {
      "cell_type": "code",
      "metadata": {
        "id": "WjHN9HtbOuaP",
        "colab_type": "code",
        "colab": {
          "base_uri": "https://localhost:8080/",
          "height": 34
        },
        "outputId": "550c8133-1316-4217-8905-dc9e314ee768"
      },
      "source": [
        "y_pred_n = model_n.predict(x_test)\n",
        "metrics.f1_score(y_test_n, y_pred_n, average='macro')"
      ],
      "execution_count": 92,
      "outputs": [
        {
          "output_type": "execute_result",
          "data": {
            "text/plain": [
              "0.5813428627511351"
            ]
          },
          "metadata": {
            "tags": []
          },
          "execution_count": 92
        }
      ]
    },
    {
      "cell_type": "code",
      "metadata": {
        "id": "czMphodFPAWa",
        "colab_type": "code",
        "colab": {
          "base_uri": "https://localhost:8080/",
          "height": 34
        },
        "outputId": "55af9bb9-6cbc-4d59-cad8-60ff974c4d98"
      },
      "source": [
        "metrics.accuracy_score(y_test_n, y_pred_n)"
      ],
      "execution_count": 93,
      "outputs": [
        {
          "output_type": "execute_result",
          "data": {
            "text/plain": [
              "0.8659003831417624"
            ]
          },
          "metadata": {
            "tags": []
          },
          "execution_count": 93
        }
      ]
    },
    {
      "cell_type": "markdown",
      "metadata": {
        "id": "niCqMZn5Pjst",
        "colab_type": "text"
      },
      "source": [
        "#### language background\n"
      ]
    },
    {
      "cell_type": "code",
      "metadata": {
        "colab_type": "code",
        "id": "bMZVIARvSt5M",
        "colab": {}
      },
      "source": [
        "x_train, x_test, y_train_lb, y_test_lb = train_test_split(xs, ys_lb,\n",
        "                                                    test_size=0.2,\n",
        "                                                    random_state=seed,\n",
        "                                                    stratify=ys_lb)"
      ],
      "execution_count": 0,
      "outputs": []
    },
    {
      "cell_type": "code",
      "metadata": {
        "colab_type": "code",
        "outputId": "06c8be3f-9944-4804-e6a3-08f292809b8f",
        "id": "lKDRGvcMSt5Z",
        "colab": {
          "base_uri": "https://localhost:8080/",
          "height": 85
        }
      },
      "source": [
        "%%time\n",
        "\n",
        "model_lb = LogisticRegressionCV(Cs=[10, 1, 0.1], cv=3, penalty='l2', \n",
        "                             multi_class='multinomial',\n",
        "                             scoring='f1_macro', n_jobs=-1, verbose=True, random_state=seed)\n",
        "model_lb.fit(x_train, y_train_lb)"
      ],
      "execution_count": 95,
      "outputs": [
        {
          "output_type": "stream",
          "text": [
            "[Parallel(n_jobs=-1)]: Using backend LokyBackend with 2 concurrent workers.\n",
            "[Parallel(n_jobs=-1)]: Done   3 out of   3 | elapsed:    5.2s finished\n"
          ],
          "name": "stderr"
        },
        {
          "output_type": "stream",
          "text": [
            "CPU times: user 2.83 s, sys: 2 s, total: 4.83 s\n",
            "Wall time: 7.61 s\n"
          ],
          "name": "stdout"
        }
      ]
    },
    {
      "cell_type": "code",
      "metadata": {
        "colab_type": "code",
        "outputId": "ec412922-aad1-4782-b01e-ffe0cdc488fc",
        "id": "SNtkvFoYSt5h",
        "colab": {
          "base_uri": "https://localhost:8080/",
          "height": 34
        }
      },
      "source": [
        "y_pred_lb = model_lb.predict(x_test)\n",
        "metrics.f1_score(y_test_lb, y_pred_lb, average='macro')"
      ],
      "execution_count": 96,
      "outputs": [
        {
          "output_type": "execute_result",
          "data": {
            "text/plain": [
              "0.8679522554098691"
            ]
          },
          "metadata": {
            "tags": []
          },
          "execution_count": 96
        }
      ]
    },
    {
      "cell_type": "code",
      "metadata": {
        "colab_type": "code",
        "outputId": "b09e5d8c-9ca9-4b9b-b646-bbbcd6f5a28a",
        "id": "SFI8Bj-RSt5p",
        "colab": {
          "base_uri": "https://localhost:8080/",
          "height": 34
        }
      },
      "source": [
        "metrics.accuracy_score(y_test_lb, y_pred_lb)"
      ],
      "execution_count": 97,
      "outputs": [
        {
          "output_type": "execute_result",
          "data": {
            "text/plain": [
              "0.8895274584929758"
            ]
          },
          "metadata": {
            "tags": []
          },
          "execution_count": 97
        }
      ]
    },
    {
      "cell_type": "markdown",
      "metadata": {
        "id": "AGEopzNNXoty",
        "colab_type": "text"
      },
      "source": [
        "#### add results"
      ]
    },
    {
      "cell_type": "code",
      "metadata": {
        "id": "tesKvbBFWscX",
        "colab_type": "code",
        "colab": {
          "base_uri": "https://localhost:8080/",
          "height": 111
        },
        "outputId": "8981f44f-1057-484f-c7dd-29a8d40c8d72"
      },
      "source": [
        "results = add_row(results, ['logreg', None, 'tf-idf', 'f1', metrics.f1_score(y_test_n, y_pred_n, average='macro'), metrics.f1_score(y_test_lb, y_pred_lb, average='macro')])\n",
        "results = add_row(results, ['logreg', None, 'tf-idf', 'accuracy', metrics.accuracy_score(y_test_n, y_pred_n), metrics.accuracy_score(y_test_lb, y_pred_lb)])\n",
        "results"
      ],
      "execution_count": 129,
      "outputs": [
        {
          "output_type": "execute_result",
          "data": {
            "text/html": [
              "<div>\n",
              "<style scoped>\n",
              "    .dataframe tbody tr th:only-of-type {\n",
              "        vertical-align: middle;\n",
              "    }\n",
              "\n",
              "    .dataframe tbody tr th {\n",
              "        vertical-align: top;\n",
              "    }\n",
              "\n",
              "    .dataframe thead th {\n",
              "        text-align: right;\n",
              "    }\n",
              "</style>\n",
              "<table border=\"1\" class=\"dataframe\">\n",
              "  <thead>\n",
              "    <tr style=\"text-align: right;\">\n",
              "      <th></th>\n",
              "      <th>model</th>\n",
              "      <th>preprocess</th>\n",
              "      <th>vectorize</th>\n",
              "      <th>score</th>\n",
              "      <th>native</th>\n",
              "      <th>language_background</th>\n",
              "    </tr>\n",
              "  </thead>\n",
              "  <tbody>\n",
              "    <tr>\n",
              "      <th>0</th>\n",
              "      <td>logreg</td>\n",
              "      <td>None</td>\n",
              "      <td>tf-idf</td>\n",
              "      <td>f1</td>\n",
              "      <td>0.581343</td>\n",
              "      <td>0.867952</td>\n",
              "    </tr>\n",
              "    <tr>\n",
              "      <th>1</th>\n",
              "      <td>logreg</td>\n",
              "      <td>None</td>\n",
              "      <td>tf-idf</td>\n",
              "      <td>accuracy</td>\n",
              "      <td>0.865900</td>\n",
              "      <td>0.889527</td>\n",
              "    </tr>\n",
              "  </tbody>\n",
              "</table>\n",
              "</div>"
            ],
            "text/plain": [
              "    model preprocess vectorize     score    native  language_background\n",
              "0  logreg       None    tf-idf        f1  0.581343             0.867952\n",
              "1  logreg       None    tf-idf  accuracy  0.865900             0.889527"
            ]
          },
          "metadata": {
            "tags": []
          },
          "execution_count": 129
        }
      ]
    },
    {
      "cell_type": "markdown",
      "metadata": {
        "id": "BRomkoYWPoEO",
        "colab_type": "text"
      },
      "source": [
        "### on tokenized"
      ]
    },
    {
      "cell_type": "markdown",
      "metadata": {
        "id": "wH9FFBw1QmIS",
        "colab_type": "text"
      },
      "source": [
        "#### native"
      ]
    },
    {
      "cell_type": "code",
      "metadata": {
        "id": "4_4rnAtUP8E6",
        "colab_type": "code",
        "colab": {}
      },
      "source": [
        "tokenize = lambda x: re.findall('\\w+', x.lower())"
      ],
      "execution_count": 0,
      "outputs": []
    },
    {
      "cell_type": "code",
      "metadata": {
        "id": "V-6cQCk9P3jI",
        "colab_type": "code",
        "colab": {}
      },
      "source": [
        "vec2 = TfidfVectorizer(lowercase=True, tokenizer=tokenize, analyzer='word', \n",
        "                      ngram_range=(1,3), max_df=0.9, min_df=10, \n",
        "                      use_idf=True, smooth_idf=True, norm='l2')\n",
        "xs_token = vec2.fit_transform(df['text'])"
      ],
      "execution_count": 0,
      "outputs": []
    },
    {
      "cell_type": "code",
      "metadata": {
        "id": "lVeS_NItQgJd",
        "colab_type": "code",
        "colab": {}
      },
      "source": [
        "x_train_token, x_test_token, y_train_n, y_test_n = train_test_split(xs_token, ys_n,\n",
        "                                                    test_size=0.2,\n",
        "                                                    random_state=seed,\n",
        "                                                    stratify=ys_n)"
      ],
      "execution_count": 0,
      "outputs": []
    },
    {
      "cell_type": "code",
      "metadata": {
        "id": "E5PZeznuQXuL",
        "colab_type": "code",
        "colab": {
          "base_uri": "https://localhost:8080/",
          "height": 289
        },
        "outputId": "a80e51f1-4ddc-4d63-b012-d3218ef48c02"
      },
      "source": [
        "%%time\n",
        "fi = LogisticRegression(C=1, penalty='l1', solver='saga', multi_class='multinomial', n_jobs=-1, random_state=seed)\n",
        "\n",
        "\n",
        "model_token_n = make_pipeline(\n",
        "    SelectFromModel(fi, threshold=\"mean\", max_features=20000),\n",
        "    LogisticRegressionCV(Cs=[10, 1, 0.1], cv=3, penalty='l2', \n",
        "                             multi_class='multinomial',\n",
        "                             scoring='f1_macro', n_jobs=-1, verbose=True, random_state=seed)\n",
        ")\n",
        "model_token_n.fit(x_train_token, y_train_n)"
      ],
      "execution_count": 101,
      "outputs": [
        {
          "output_type": "stream",
          "text": [
            "/usr/local/lib/python3.6/dist-packages/sklearn/linear_model/_sag.py:330: ConvergenceWarning: The max_iter was reached which means the coef_ did not converge\n",
            "  \"the coef_ did not converge\", ConvergenceWarning)\n",
            "/usr/local/lib/python3.6/dist-packages/sklearn/model_selection/_split.py:667: UserWarning: The least populated class in y has only 2 members, which is less than n_splits=3.\n",
            "  % (min_groups, self.n_splits)), UserWarning)\n",
            "[Parallel(n_jobs=-1)]: Using backend LokyBackend with 2 concurrent workers.\n",
            "[Parallel(n_jobs=-1)]: Done   3 out of   3 | elapsed:    6.3s finished\n"
          ],
          "name": "stderr"
        },
        {
          "output_type": "stream",
          "text": [
            "CPU times: user 21.1 s, sys: 22.5 ms, total: 21.1 s\n",
            "Wall time: 27.5 s\n"
          ],
          "name": "stdout"
        },
        {
          "output_type": "stream",
          "text": [
            "/usr/local/lib/python3.6/dist-packages/sklearn/linear_model/_logistic.py:940: ConvergenceWarning: lbfgs failed to converge (status=1):\n",
            "STOP: TOTAL NO. of ITERATIONS REACHED LIMIT.\n",
            "\n",
            "Increase the number of iterations (max_iter) or scale the data as shown in:\n",
            "    https://scikit-learn.org/stable/modules/preprocessing.html\n",
            "Please also refer to the documentation for alternative solver options:\n",
            "    https://scikit-learn.org/stable/modules/linear_model.html#logistic-regression\n",
            "  extra_warning_msg=_LOGISTIC_SOLVER_CONVERGENCE_MSG)\n"
          ],
          "name": "stderr"
        }
      ]
    },
    {
      "cell_type": "code",
      "metadata": {
        "colab_type": "code",
        "outputId": "691cd64b-25b9-4570-c03a-4adc03955868",
        "id": "PMQbgGo7RKHs",
        "colab": {
          "base_uri": "https://localhost:8080/",
          "height": 34
        }
      },
      "source": [
        "y_pred_token_n = model_token_n.predict(x_test_token)\n",
        "metrics.f1_score(y_test_n, y_pred_token_n, average='macro')"
      ],
      "execution_count": 102,
      "outputs": [
        {
          "output_type": "execute_result",
          "data": {
            "text/plain": [
              "0.4773317920457982"
            ]
          },
          "metadata": {
            "tags": []
          },
          "execution_count": 102
        }
      ]
    },
    {
      "cell_type": "code",
      "metadata": {
        "colab_type": "code",
        "outputId": "cee4fcb1-c1a8-41d6-898f-2b87dbffd67a",
        "id": "2amX7y7FRKIB",
        "colab": {
          "base_uri": "https://localhost:8080/",
          "height": 34
        }
      },
      "source": [
        "metrics.accuracy_score(y_test_n, y_pred_token_n)"
      ],
      "execution_count": 103,
      "outputs": [
        {
          "output_type": "execute_result",
          "data": {
            "text/plain": [
              "0.8218390804597702"
            ]
          },
          "metadata": {
            "tags": []
          },
          "execution_count": 103
        }
      ]
    },
    {
      "cell_type": "markdown",
      "metadata": {
        "id": "GCZDZR6XRuDQ",
        "colab_type": "text"
      },
      "source": [
        "#### language background"
      ]
    },
    {
      "cell_type": "code",
      "metadata": {
        "colab_type": "code",
        "id": "5kRy0sZvSACC",
        "colab": {}
      },
      "source": [
        "x_train_token, x_test_token, y_train_lb, y_test_lb = train_test_split(xs_token, ys_lb,\n",
        "                                                    test_size=0.2,\n",
        "                                                    random_state=seed,\n",
        "                                                    stratify=ys_lb)"
      ],
      "execution_count": 0,
      "outputs": []
    },
    {
      "cell_type": "code",
      "metadata": {
        "colab_type": "code",
        "outputId": "ba43a6d1-d81c-488b-bf44-38d2917eb6f4",
        "id": "gXLDSSGdSACU",
        "colab": {
          "base_uri": "https://localhost:8080/",
          "height": 119
        }
      },
      "source": [
        "%%time\n",
        "fi = LogisticRegression(C=1, penalty='l1', solver='saga', multi_class='multinomial', n_jobs=-1, random_state=seed)\n",
        "\n",
        "\n",
        "model_token_lb = make_pipeline(\n",
        "    SelectFromModel(fi, threshold=\"mean\", max_features=20000),\n",
        "    LogisticRegressionCV(Cs=[10, 1, 0.1], cv=3, penalty='l2', \n",
        "                             multi_class='multinomial',\n",
        "                             scoring='f1_macro', n_jobs=-1, verbose=True, random_state=seed)\n",
        ")\n",
        "model_token_lb.fit(x_train_token, y_train_lb)"
      ],
      "execution_count": 158,
      "outputs": [
        {
          "output_type": "stream",
          "text": [
            "/usr/local/lib/python3.6/dist-packages/sklearn/linear_model/_sag.py:330: ConvergenceWarning: The max_iter was reached which means the coef_ did not converge\n",
            "  \"the coef_ did not converge\", ConvergenceWarning)\n",
            "[Parallel(n_jobs=-1)]: Using backend LokyBackend with 2 concurrent workers.\n",
            "[Parallel(n_jobs=-1)]: Done   3 out of   3 | elapsed:    2.0s finished\n"
          ],
          "name": "stderr"
        },
        {
          "output_type": "stream",
          "text": [
            "CPU times: user 4.96 s, sys: 160 ms, total: 5.12 s\n",
            "Wall time: 7 s\n"
          ],
          "name": "stdout"
        }
      ]
    },
    {
      "cell_type": "code",
      "metadata": {
        "colab_type": "code",
        "outputId": "c48bbebc-dfaf-47dd-9434-c3b32a60f522",
        "id": "ar7-DJ0tSACj",
        "colab": {
          "base_uri": "https://localhost:8080/",
          "height": 34
        }
      },
      "source": [
        "y_pred_token_lb = model_token_lb.predict(x_test_token)\n",
        "metrics.f1_score(y_test_lb, y_pred_token_lb, average='macro')"
      ],
      "execution_count": 106,
      "outputs": [
        {
          "output_type": "execute_result",
          "data": {
            "text/plain": [
              "0.7913515555864894"
            ]
          },
          "metadata": {
            "tags": []
          },
          "execution_count": 106
        }
      ]
    },
    {
      "cell_type": "code",
      "metadata": {
        "colab_type": "code",
        "outputId": "a82f6ec4-15a5-4b7a-98e3-5cd93b8565b9",
        "id": "SbLhl1orSAC0",
        "colab": {
          "base_uri": "https://localhost:8080/",
          "height": 34
        }
      },
      "source": [
        "metrics.accuracy_score(y_test_lb, y_pred_token_lb)"
      ],
      "execution_count": 107,
      "outputs": [
        {
          "output_type": "execute_result",
          "data": {
            "text/plain": [
              "0.8288633461047255"
            ]
          },
          "metadata": {
            "tags": []
          },
          "execution_count": 107
        }
      ]
    },
    {
      "cell_type": "markdown",
      "metadata": {
        "id": "pivZRmAfYrr9",
        "colab_type": "text"
      },
      "source": [
        "#### add results"
      ]
    },
    {
      "cell_type": "code",
      "metadata": {
        "id": "jAvkOz3QYuF8",
        "colab_type": "code",
        "colab": {
          "base_uri": "https://localhost:8080/",
          "height": 173
        },
        "outputId": "1d726a87-263c-4a3f-928c-ef1c33e459b9"
      },
      "source": [
        "results = add_row(results, ['logreg search', 'regex tokens', 'tf-idf', 'f1', metrics.f1_score(y_test_n, y_pred_token_n, average='macro'), metrics.f1_score(y_test_lb, y_pred_token_lb, average='macro')])\n",
        "results = add_row(results, ['logreg search', 'regex tokens', 'tf-idf', 'accuracy', metrics.accuracy_score(y_test_n, y_pred_token_n), metrics.accuracy_score(y_test_lb, y_pred_token_lb)])\n",
        "results"
      ],
      "execution_count": 130,
      "outputs": [
        {
          "output_type": "execute_result",
          "data": {
            "text/html": [
              "<div>\n",
              "<style scoped>\n",
              "    .dataframe tbody tr th:only-of-type {\n",
              "        vertical-align: middle;\n",
              "    }\n",
              "\n",
              "    .dataframe tbody tr th {\n",
              "        vertical-align: top;\n",
              "    }\n",
              "\n",
              "    .dataframe thead th {\n",
              "        text-align: right;\n",
              "    }\n",
              "</style>\n",
              "<table border=\"1\" class=\"dataframe\">\n",
              "  <thead>\n",
              "    <tr style=\"text-align: right;\">\n",
              "      <th></th>\n",
              "      <th>model</th>\n",
              "      <th>preprocess</th>\n",
              "      <th>vectorize</th>\n",
              "      <th>score</th>\n",
              "      <th>native</th>\n",
              "      <th>language_background</th>\n",
              "    </tr>\n",
              "  </thead>\n",
              "  <tbody>\n",
              "    <tr>\n",
              "      <th>0</th>\n",
              "      <td>logreg</td>\n",
              "      <td>None</td>\n",
              "      <td>tf-idf</td>\n",
              "      <td>f1</td>\n",
              "      <td>0.581343</td>\n",
              "      <td>0.867952</td>\n",
              "    </tr>\n",
              "    <tr>\n",
              "      <th>1</th>\n",
              "      <td>logreg</td>\n",
              "      <td>None</td>\n",
              "      <td>tf-idf</td>\n",
              "      <td>accuracy</td>\n",
              "      <td>0.865900</td>\n",
              "      <td>0.889527</td>\n",
              "    </tr>\n",
              "    <tr>\n",
              "      <th>2</th>\n",
              "      <td>logreg search</td>\n",
              "      <td>regex tokens</td>\n",
              "      <td>tf-idf</td>\n",
              "      <td>f1</td>\n",
              "      <td>0.477332</td>\n",
              "      <td>0.791352</td>\n",
              "    </tr>\n",
              "    <tr>\n",
              "      <th>3</th>\n",
              "      <td>logreg search</td>\n",
              "      <td>regex tokens</td>\n",
              "      <td>tf-idf</td>\n",
              "      <td>accuracy</td>\n",
              "      <td>0.821839</td>\n",
              "      <td>0.828863</td>\n",
              "    </tr>\n",
              "  </tbody>\n",
              "</table>\n",
              "</div>"
            ],
            "text/plain": [
              "           model    preprocess  ...    native language_background\n",
              "0         logreg          None  ...  0.581343            0.867952\n",
              "1         logreg          None  ...  0.865900            0.889527\n",
              "2  logreg search  regex tokens  ...  0.477332            0.791352\n",
              "3  logreg search  regex tokens  ...  0.821839            0.828863\n",
              "\n",
              "[4 rows x 6 columns]"
            ]
          },
          "metadata": {
            "tags": []
          },
          "execution_count": 130
        }
      ]
    },
    {
      "cell_type": "markdown",
      "metadata": {
        "id": "dHhHBeBnZetY",
        "colab_type": "text"
      },
      "source": [
        "## w2v"
      ]
    },
    {
      "cell_type": "code",
      "metadata": {
        "id": "H-sNFXtaZdyU",
        "colab_type": "code",
        "colab": {
          "base_uri": "https://localhost:8080/",
          "height": 139
        },
        "outputId": "13842896-8dec-4c68-be0a-abf756209d0a"
      },
      "source": [
        "wv = api.load('word2vec-google-news-300')\n",
        "wv['king'][:10]"
      ],
      "execution_count": 134,
      "outputs": [
        {
          "output_type": "stream",
          "text": [
            "[=================================================-] 99.9% 1661.7/1662.8MB downloaded\n"
          ],
          "name": "stdout"
        },
        {
          "output_type": "stream",
          "text": [
            "/usr/local/lib/python3.6/dist-packages/smart_open/smart_open_lib.py:410: UserWarning: This function is deprecated, use smart_open.open instead. See the migration notes for details: https://github.com/RaRe-Technologies/smart_open/blob/master/README.rst#migrating-to-the-new-open-function\n",
            "  'See the migration notes for details: %s' % _MIGRATION_NOTES_URL\n"
          ],
          "name": "stderr"
        },
        {
          "output_type": "execute_result",
          "data": {
            "text/plain": [
              "array([ 0.12597656,  0.02978516,  0.00860596,  0.13964844, -0.02563477,\n",
              "       -0.03613281,  0.11181641, -0.19824219,  0.05126953,  0.36328125],\n",
              "      dtype=float32)"
            ]
          },
          "metadata": {
            "tags": []
          },
          "execution_count": 134
        }
      ]
    },
    {
      "cell_type": "code",
      "metadata": {
        "id": "Zw4_rIlGdZk5",
        "colab_type": "code",
        "colab": {}
      },
      "source": [
        "def vectorize(sent, wv):\n",
        "  sent_vec = []\n",
        "  for w in sent:\n",
        "    try:\n",
        "      vec = wv[w]\n",
        "      sent_vec.append(vec)\n",
        "    except KeyError:\n",
        "      continue\n",
        "  if sent_vec:\n",
        "    return np.mean(np.array(sent_vec), axis=0)\n",
        "  else:\n",
        "    return np.zeros(300)"
      ],
      "execution_count": 0,
      "outputs": []
    },
    {
      "cell_type": "code",
      "metadata": {
        "id": "ZZtOT5f5eFpd",
        "colab_type": "code",
        "colab": {}
      },
      "source": [
        "df['tokens'] = df['text'].apply(tokenize)\n",
        "df['vec'] = df['tokens'].apply(lambda text: vectorize(text, wv))"
      ],
      "execution_count": 0,
      "outputs": []
    },
    {
      "cell_type": "code",
      "metadata": {
        "id": "UHeQbMzKeuKE",
        "colab_type": "code",
        "colab": {}
      },
      "source": [
        "xs_vec = np.vstack(df.vec.values)"
      ],
      "execution_count": 0,
      "outputs": []
    },
    {
      "cell_type": "markdown",
      "metadata": {
        "id": "vB-u2oCHfQRL",
        "colab_type": "text"
      },
      "source": [
        "#### native"
      ]
    },
    {
      "cell_type": "code",
      "metadata": {
        "id": "Df2PcJVjfSWI",
        "colab_type": "code",
        "colab": {}
      },
      "source": [
        "x_train_vec, x_test_vec, y_train_n, y_test_n = train_test_split(xs_vec, ys_n,\n",
        "                                                    test_size=0.2,\n",
        "                                                    random_state=seed,\n",
        "                                                    stratify=ys_n)"
      ],
      "execution_count": 0,
      "outputs": []
    },
    {
      "cell_type": "code",
      "metadata": {
        "colab_type": "code",
        "outputId": "1397136f-135f-4217-f7e8-fcdbfb891011",
        "id": "kI8ir0gegOAw",
        "colab": {
          "base_uri": "https://localhost:8080/",
          "height": 289
        }
      },
      "source": [
        "%%time\n",
        "fi = LogisticRegression(C=1, penalty='l1', solver='saga', multi_class='multinomial', n_jobs=-1, random_state=seed)\n",
        "\n",
        "\n",
        "model_vec_n = make_pipeline(\n",
        "    SelectFromModel(fi, threshold=\"mean\", max_features=300),\n",
        "    LogisticRegressionCV(Cs=[10, 1, 0.1], cv=3, penalty='l2', \n",
        "                             multi_class='multinomial',\n",
        "                             scoring='f1_macro', n_jobs=-1, verbose=True, random_state=seed)\n",
        ")\n",
        "model_vec_n.fit(x_train_vec, y_train_n)"
      ],
      "execution_count": 160,
      "outputs": [
        {
          "output_type": "stream",
          "text": [
            "/usr/local/lib/python3.6/dist-packages/sklearn/linear_model/_sag.py:330: ConvergenceWarning: The max_iter was reached which means the coef_ did not converge\n",
            "  \"the coef_ did not converge\", ConvergenceWarning)\n",
            "/usr/local/lib/python3.6/dist-packages/sklearn/model_selection/_split.py:667: UserWarning: The least populated class in y has only 2 members, which is less than n_splits=3.\n",
            "  % (min_groups, self.n_splits)), UserWarning)\n",
            "[Parallel(n_jobs=-1)]: Using backend LokyBackend with 2 concurrent workers.\n",
            "[Parallel(n_jobs=-1)]: Done   3 out of   3 | elapsed:    4.4s finished\n"
          ],
          "name": "stderr"
        },
        {
          "output_type": "stream",
          "text": [
            "CPU times: user 23.9 s, sys: 1 s, total: 24.9 s\n",
            "Wall time: 28.1 s\n"
          ],
          "name": "stdout"
        },
        {
          "output_type": "stream",
          "text": [
            "/usr/local/lib/python3.6/dist-packages/sklearn/linear_model/_logistic.py:940: ConvergenceWarning: lbfgs failed to converge (status=1):\n",
            "STOP: TOTAL NO. of ITERATIONS REACHED LIMIT.\n",
            "\n",
            "Increase the number of iterations (max_iter) or scale the data as shown in:\n",
            "    https://scikit-learn.org/stable/modules/preprocessing.html\n",
            "Please also refer to the documentation for alternative solver options:\n",
            "    https://scikit-learn.org/stable/modules/linear_model.html#logistic-regression\n",
            "  extra_warning_msg=_LOGISTIC_SOLVER_CONVERGENCE_MSG)\n"
          ],
          "name": "stderr"
        }
      ]
    },
    {
      "cell_type": "code",
      "metadata": {
        "colab_type": "code",
        "outputId": "19bbb718-36fc-4b58-d6f9-1444bb6f1623",
        "id": "T98uZZ5XgOBC",
        "colab": {
          "base_uri": "https://localhost:8080/",
          "height": 34
        }
      },
      "source": [
        "y_pred_vec_n = model_vec_n.predict(x_test_vec)\n",
        "metrics.f1_score(y_test_n, y_pred_vec_n, average='macro')"
      ],
      "execution_count": 161,
      "outputs": [
        {
          "output_type": "execute_result",
          "data": {
            "text/plain": [
              "0.10388611289518601"
            ]
          },
          "metadata": {
            "tags": []
          },
          "execution_count": 161
        }
      ]
    },
    {
      "cell_type": "code",
      "metadata": {
        "colab_type": "code",
        "outputId": "6e2480e6-f860-4b6b-d4ff-e3fe0cef9ec5",
        "id": "Br941Gr_gOBM",
        "colab": {
          "base_uri": "https://localhost:8080/",
          "height": 34
        }
      },
      "source": [
        "metrics.accuracy_score(y_test_n, y_pred_vec_n)"
      ],
      "execution_count": 162,
      "outputs": [
        {
          "output_type": "execute_result",
          "data": {
            "text/plain": [
              "0.49169859514687103"
            ]
          },
          "metadata": {
            "tags": []
          },
          "execution_count": 162
        }
      ]
    },
    {
      "cell_type": "markdown",
      "metadata": {
        "id": "wFcubKEqjJ4u",
        "colab_type": "text"
      },
      "source": [
        "#### language background"
      ]
    },
    {
      "cell_type": "code",
      "metadata": {
        "colab_type": "code",
        "id": "Y-r1IIaBjuX7",
        "colab": {}
      },
      "source": [
        "x_train_vec, x_test_vec, y_train_lb, y_test_lb = train_test_split(xs_vec, ys_lb,\n",
        "                                                    test_size=0.2,\n",
        "                                                    random_state=seed,\n",
        "                                                    stratify=ys_lb)"
      ],
      "execution_count": 0,
      "outputs": []
    },
    {
      "cell_type": "code",
      "metadata": {
        "colab_type": "code",
        "outputId": "4ed9c6fb-72fc-4d5e-dea6-68a136f1c78a",
        "id": "u8FBFRKqjuYN",
        "colab": {
          "base_uri": "https://localhost:8080/",
          "height": 119
        }
      },
      "source": [
        "%%time\n",
        "fi = LogisticRegression(C=1, penalty='l1', solver='saga', multi_class='multinomial', n_jobs=-1, random_state=seed)\n",
        "\n",
        "\n",
        "model_vec_lb = make_pipeline(\n",
        "    SelectFromModel(fi, threshold=\"mean\", max_features=300),\n",
        "    LogisticRegressionCV(Cs=[10, 1, 0.1], cv=3, penalty='l2', \n",
        "                             multi_class='multinomial',\n",
        "                             scoring='f1_macro', n_jobs=-1, verbose=True, random_state=seed)\n",
        ")\n",
        "model_vec_lb.fit(x_train_vec, y_train_lb)"
      ],
      "execution_count": 168,
      "outputs": [
        {
          "output_type": "stream",
          "text": [
            "/usr/local/lib/python3.6/dist-packages/sklearn/linear_model/_sag.py:330: ConvergenceWarning: The max_iter was reached which means the coef_ did not converge\n",
            "  \"the coef_ did not converge\", ConvergenceWarning)\n",
            "[Parallel(n_jobs=-1)]: Using backend LokyBackend with 2 concurrent workers.\n"
          ],
          "name": "stderr"
        },
        {
          "output_type": "stream",
          "text": [
            "CPU times: user 4.43 s, sys: 150 ms, total: 4.58 s\n",
            "Wall time: 5.8 s\n"
          ],
          "name": "stdout"
        },
        {
          "output_type": "stream",
          "text": [
            "[Parallel(n_jobs=-1)]: Done   3 out of   3 | elapsed:    1.3s finished\n"
          ],
          "name": "stderr"
        }
      ]
    },
    {
      "cell_type": "code",
      "metadata": {
        "colab_type": "code",
        "outputId": "0aade4ca-9cb9-4197-af3a-7cc744be16e6",
        "id": "L6OyA5JnjuYZ",
        "colab": {
          "base_uri": "https://localhost:8080/",
          "height": 34
        }
      },
      "source": [
        "y_pred_vec_lb = model_vec_lb.predict(x_test_vec)\n",
        "metrics.f1_score(y_test_lb, y_pred_vec_lb, average='macro')"
      ],
      "execution_count": 169,
      "outputs": [
        {
          "output_type": "execute_result",
          "data": {
            "text/plain": [
              "0.4464108172598926"
            ]
          },
          "metadata": {
            "tags": []
          },
          "execution_count": 169
        }
      ]
    },
    {
      "cell_type": "code",
      "metadata": {
        "colab_type": "code",
        "outputId": "47f5cb31-25d8-4116-c150-35ae4d4cdb9a",
        "id": "Zsx3R713juYk",
        "colab": {
          "base_uri": "https://localhost:8080/",
          "height": 34
        }
      },
      "source": [
        "metrics.accuracy_score(y_test_lb, y_pred_vec_lb)"
      ],
      "execution_count": 170,
      "outputs": [
        {
          "output_type": "execute_result",
          "data": {
            "text/plain": [
              "0.6730523627075351"
            ]
          },
          "metadata": {
            "tags": []
          },
          "execution_count": 170
        }
      ]
    },
    {
      "cell_type": "markdown",
      "metadata": {
        "id": "TaLWy9oMhOz8",
        "colab_type": "text"
      },
      "source": [
        "#### add results"
      ]
    },
    {
      "cell_type": "code",
      "metadata": {
        "id": "_TR3xJMGhV40",
        "colab_type": "code",
        "colab": {
          "base_uri": "https://localhost:8080/",
          "height": 235
        },
        "outputId": "77618c48-3215-4bd8-9597-4dc0f9b608c3"
      },
      "source": [
        "results = add_row(results, ['logreg search', 'regex tokens', 'w2v bow mean', 'f1', metrics.f1_score(y_test_n, y_pred_vec_n, average='macro'), metrics.f1_score(y_test_lb, y_pred_vec_lb, average='macro')])\n",
        "results = add_row(results, ['logreg search', 'regex tokens', 'w2v bow mean', 'accuracy', metrics.accuracy_score(y_test_n, y_pred_vec_n), metrics.accuracy_score(y_test_lb, y_pred_vec_lb)])\n",
        "results"
      ],
      "execution_count": 171,
      "outputs": [
        {
          "output_type": "execute_result",
          "data": {
            "text/html": [
              "<div>\n",
              "<style scoped>\n",
              "    .dataframe tbody tr th:only-of-type {\n",
              "        vertical-align: middle;\n",
              "    }\n",
              "\n",
              "    .dataframe tbody tr th {\n",
              "        vertical-align: top;\n",
              "    }\n",
              "\n",
              "    .dataframe thead th {\n",
              "        text-align: right;\n",
              "    }\n",
              "</style>\n",
              "<table border=\"1\" class=\"dataframe\">\n",
              "  <thead>\n",
              "    <tr style=\"text-align: right;\">\n",
              "      <th></th>\n",
              "      <th>model</th>\n",
              "      <th>preprocess</th>\n",
              "      <th>vectorize</th>\n",
              "      <th>score</th>\n",
              "      <th>native</th>\n",
              "      <th>language_background</th>\n",
              "    </tr>\n",
              "  </thead>\n",
              "  <tbody>\n",
              "    <tr>\n",
              "      <th>0</th>\n",
              "      <td>logreg</td>\n",
              "      <td>None</td>\n",
              "      <td>tf-idf</td>\n",
              "      <td>f1</td>\n",
              "      <td>0.581343</td>\n",
              "      <td>0.867952</td>\n",
              "    </tr>\n",
              "    <tr>\n",
              "      <th>1</th>\n",
              "      <td>logreg</td>\n",
              "      <td>None</td>\n",
              "      <td>tf-idf</td>\n",
              "      <td>accuracy</td>\n",
              "      <td>0.865900</td>\n",
              "      <td>0.889527</td>\n",
              "    </tr>\n",
              "    <tr>\n",
              "      <th>2</th>\n",
              "      <td>logreg search</td>\n",
              "      <td>regex tokens</td>\n",
              "      <td>tf-idf</td>\n",
              "      <td>f1</td>\n",
              "      <td>0.477332</td>\n",
              "      <td>0.791352</td>\n",
              "    </tr>\n",
              "    <tr>\n",
              "      <th>3</th>\n",
              "      <td>logreg search</td>\n",
              "      <td>regex tokens</td>\n",
              "      <td>tf-idf</td>\n",
              "      <td>accuracy</td>\n",
              "      <td>0.821839</td>\n",
              "      <td>0.828863</td>\n",
              "    </tr>\n",
              "    <tr>\n",
              "      <th>4</th>\n",
              "      <td>logreg search</td>\n",
              "      <td>regex tokens</td>\n",
              "      <td>w2v bow mean</td>\n",
              "      <td>f1</td>\n",
              "      <td>0.103886</td>\n",
              "      <td>0.446411</td>\n",
              "    </tr>\n",
              "    <tr>\n",
              "      <th>5</th>\n",
              "      <td>logreg search</td>\n",
              "      <td>regex tokens</td>\n",
              "      <td>w2v bow mean</td>\n",
              "      <td>accuracy</td>\n",
              "      <td>0.491699</td>\n",
              "      <td>0.673052</td>\n",
              "    </tr>\n",
              "  </tbody>\n",
              "</table>\n",
              "</div>"
            ],
            "text/plain": [
              "           model    preprocess  ...    native language_background\n",
              "0         logreg          None  ...  0.581343            0.867952\n",
              "1         logreg          None  ...  0.865900            0.889527\n",
              "2  logreg search  regex tokens  ...  0.477332            0.791352\n",
              "3  logreg search  regex tokens  ...  0.821839            0.828863\n",
              "4  logreg search  regex tokens  ...  0.103886            0.446411\n",
              "5  logreg search  regex tokens  ...  0.491699            0.673052\n",
              "\n",
              "[6 rows x 6 columns]"
            ]
          },
          "metadata": {
            "tags": []
          },
          "execution_count": 171
        }
      ]
    },
    {
      "cell_type": "code",
      "metadata": {
        "id": "JpRZFphOi5hL",
        "colab_type": "code",
        "colab": {
          "base_uri": "https://localhost:8080/",
          "height": 166
        },
        "outputId": "5daebb9e-f1fd-42c7-fc15-e6bdd7e25697"
      },
      "source": [
        "results.style.background_gradient(axis=0, cmap='Reds')"
      ],
      "execution_count": 172,
      "outputs": [
        {
          "output_type": "execute_result",
          "data": {
            "text/html": [
              "<style  type=\"text/css\" >\n",
              "    #T_a6a926a4_6f7a_11ea_b8b7_0242ac1c0002row0_col4 {\n",
              "            background-color:  #ee3a2c;\n",
              "            color:  #f1f1f1;\n",
              "        }    #T_a6a926a4_6f7a_11ea_b8b7_0242ac1c0002row0_col5 {\n",
              "            background-color:  #7e0610;\n",
              "            color:  #f1f1f1;\n",
              "        }    #T_a6a926a4_6f7a_11ea_b8b7_0242ac1c0002row1_col4 {\n",
              "            background-color:  #67000d;\n",
              "            color:  #f1f1f1;\n",
              "        }    #T_a6a926a4_6f7a_11ea_b8b7_0242ac1c0002row1_col5 {\n",
              "            background-color:  #67000d;\n",
              "            color:  #f1f1f1;\n",
              "        }    #T_a6a926a4_6f7a_11ea_b8b7_0242ac1c0002row2_col4 {\n",
              "            background-color:  #fb6d4d;\n",
              "            color:  #000000;\n",
              "        }    #T_a6a926a4_6f7a_11ea_b8b7_0242ac1c0002row2_col5 {\n",
              "            background-color:  #c2161b;\n",
              "            color:  #f1f1f1;\n",
              "        }    #T_a6a926a4_6f7a_11ea_b8b7_0242ac1c0002row3_col4 {\n",
              "            background-color:  #820711;\n",
              "            color:  #f1f1f1;\n",
              "        }    #T_a6a926a4_6f7a_11ea_b8b7_0242ac1c0002row3_col5 {\n",
              "            background-color:  #a91016;\n",
              "            color:  #f1f1f1;\n",
              "        }    #T_a6a926a4_6f7a_11ea_b8b7_0242ac1c0002row4_col4 {\n",
              "            background-color:  #fff5f0;\n",
              "            color:  #000000;\n",
              "        }    #T_a6a926a4_6f7a_11ea_b8b7_0242ac1c0002row4_col5 {\n",
              "            background-color:  #fff5f0;\n",
              "            color:  #000000;\n",
              "        }    #T_a6a926a4_6f7a_11ea_b8b7_0242ac1c0002row5_col4 {\n",
              "            background-color:  #fa6648;\n",
              "            color:  #000000;\n",
              "        }    #T_a6a926a4_6f7a_11ea_b8b7_0242ac1c0002row5_col5 {\n",
              "            background-color:  #fa6648;\n",
              "            color:  #000000;\n",
              "        }</style><table id=\"T_a6a926a4_6f7a_11ea_b8b7_0242ac1c0002\" ><thead>    <tr>        <th class=\"blank level0\" ></th>        <th class=\"col_heading level0 col0\" >model</th>        <th class=\"col_heading level0 col1\" >preprocess</th>        <th class=\"col_heading level0 col2\" >vectorize</th>        <th class=\"col_heading level0 col3\" >score</th>        <th class=\"col_heading level0 col4\" >native</th>        <th class=\"col_heading level0 col5\" >language_background</th>    </tr></thead><tbody>\n",
              "                <tr>\n",
              "                        <th id=\"T_a6a926a4_6f7a_11ea_b8b7_0242ac1c0002level0_row0\" class=\"row_heading level0 row0\" >0</th>\n",
              "                        <td id=\"T_a6a926a4_6f7a_11ea_b8b7_0242ac1c0002row0_col0\" class=\"data row0 col0\" >logreg</td>\n",
              "                        <td id=\"T_a6a926a4_6f7a_11ea_b8b7_0242ac1c0002row0_col1\" class=\"data row0 col1\" >None</td>\n",
              "                        <td id=\"T_a6a926a4_6f7a_11ea_b8b7_0242ac1c0002row0_col2\" class=\"data row0 col2\" >tf-idf</td>\n",
              "                        <td id=\"T_a6a926a4_6f7a_11ea_b8b7_0242ac1c0002row0_col3\" class=\"data row0 col3\" >f1</td>\n",
              "                        <td id=\"T_a6a926a4_6f7a_11ea_b8b7_0242ac1c0002row0_col4\" class=\"data row0 col4\" >0.581343</td>\n",
              "                        <td id=\"T_a6a926a4_6f7a_11ea_b8b7_0242ac1c0002row0_col5\" class=\"data row0 col5\" >0.867952</td>\n",
              "            </tr>\n",
              "            <tr>\n",
              "                        <th id=\"T_a6a926a4_6f7a_11ea_b8b7_0242ac1c0002level0_row1\" class=\"row_heading level0 row1\" >1</th>\n",
              "                        <td id=\"T_a6a926a4_6f7a_11ea_b8b7_0242ac1c0002row1_col0\" class=\"data row1 col0\" >logreg</td>\n",
              "                        <td id=\"T_a6a926a4_6f7a_11ea_b8b7_0242ac1c0002row1_col1\" class=\"data row1 col1\" >None</td>\n",
              "                        <td id=\"T_a6a926a4_6f7a_11ea_b8b7_0242ac1c0002row1_col2\" class=\"data row1 col2\" >tf-idf</td>\n",
              "                        <td id=\"T_a6a926a4_6f7a_11ea_b8b7_0242ac1c0002row1_col3\" class=\"data row1 col3\" >accuracy</td>\n",
              "                        <td id=\"T_a6a926a4_6f7a_11ea_b8b7_0242ac1c0002row1_col4\" class=\"data row1 col4\" >0.8659</td>\n",
              "                        <td id=\"T_a6a926a4_6f7a_11ea_b8b7_0242ac1c0002row1_col5\" class=\"data row1 col5\" >0.889527</td>\n",
              "            </tr>\n",
              "            <tr>\n",
              "                        <th id=\"T_a6a926a4_6f7a_11ea_b8b7_0242ac1c0002level0_row2\" class=\"row_heading level0 row2\" >2</th>\n",
              "                        <td id=\"T_a6a926a4_6f7a_11ea_b8b7_0242ac1c0002row2_col0\" class=\"data row2 col0\" >logreg search</td>\n",
              "                        <td id=\"T_a6a926a4_6f7a_11ea_b8b7_0242ac1c0002row2_col1\" class=\"data row2 col1\" >regex tokens</td>\n",
              "                        <td id=\"T_a6a926a4_6f7a_11ea_b8b7_0242ac1c0002row2_col2\" class=\"data row2 col2\" >tf-idf</td>\n",
              "                        <td id=\"T_a6a926a4_6f7a_11ea_b8b7_0242ac1c0002row2_col3\" class=\"data row2 col3\" >f1</td>\n",
              "                        <td id=\"T_a6a926a4_6f7a_11ea_b8b7_0242ac1c0002row2_col4\" class=\"data row2 col4\" >0.477332</td>\n",
              "                        <td id=\"T_a6a926a4_6f7a_11ea_b8b7_0242ac1c0002row2_col5\" class=\"data row2 col5\" >0.791352</td>\n",
              "            </tr>\n",
              "            <tr>\n",
              "                        <th id=\"T_a6a926a4_6f7a_11ea_b8b7_0242ac1c0002level0_row3\" class=\"row_heading level0 row3\" >3</th>\n",
              "                        <td id=\"T_a6a926a4_6f7a_11ea_b8b7_0242ac1c0002row3_col0\" class=\"data row3 col0\" >logreg search</td>\n",
              "                        <td id=\"T_a6a926a4_6f7a_11ea_b8b7_0242ac1c0002row3_col1\" class=\"data row3 col1\" >regex tokens</td>\n",
              "                        <td id=\"T_a6a926a4_6f7a_11ea_b8b7_0242ac1c0002row3_col2\" class=\"data row3 col2\" >tf-idf</td>\n",
              "                        <td id=\"T_a6a926a4_6f7a_11ea_b8b7_0242ac1c0002row3_col3\" class=\"data row3 col3\" >accuracy</td>\n",
              "                        <td id=\"T_a6a926a4_6f7a_11ea_b8b7_0242ac1c0002row3_col4\" class=\"data row3 col4\" >0.821839</td>\n",
              "                        <td id=\"T_a6a926a4_6f7a_11ea_b8b7_0242ac1c0002row3_col5\" class=\"data row3 col5\" >0.828863</td>\n",
              "            </tr>\n",
              "            <tr>\n",
              "                        <th id=\"T_a6a926a4_6f7a_11ea_b8b7_0242ac1c0002level0_row4\" class=\"row_heading level0 row4\" >4</th>\n",
              "                        <td id=\"T_a6a926a4_6f7a_11ea_b8b7_0242ac1c0002row4_col0\" class=\"data row4 col0\" >logreg search</td>\n",
              "                        <td id=\"T_a6a926a4_6f7a_11ea_b8b7_0242ac1c0002row4_col1\" class=\"data row4 col1\" >regex tokens</td>\n",
              "                        <td id=\"T_a6a926a4_6f7a_11ea_b8b7_0242ac1c0002row4_col2\" class=\"data row4 col2\" >w2v bow mean</td>\n",
              "                        <td id=\"T_a6a926a4_6f7a_11ea_b8b7_0242ac1c0002row4_col3\" class=\"data row4 col3\" >f1</td>\n",
              "                        <td id=\"T_a6a926a4_6f7a_11ea_b8b7_0242ac1c0002row4_col4\" class=\"data row4 col4\" >0.103886</td>\n",
              "                        <td id=\"T_a6a926a4_6f7a_11ea_b8b7_0242ac1c0002row4_col5\" class=\"data row4 col5\" >0.446411</td>\n",
              "            </tr>\n",
              "            <tr>\n",
              "                        <th id=\"T_a6a926a4_6f7a_11ea_b8b7_0242ac1c0002level0_row5\" class=\"row_heading level0 row5\" >5</th>\n",
              "                        <td id=\"T_a6a926a4_6f7a_11ea_b8b7_0242ac1c0002row5_col0\" class=\"data row5 col0\" >logreg search</td>\n",
              "                        <td id=\"T_a6a926a4_6f7a_11ea_b8b7_0242ac1c0002row5_col1\" class=\"data row5 col1\" >regex tokens</td>\n",
              "                        <td id=\"T_a6a926a4_6f7a_11ea_b8b7_0242ac1c0002row5_col2\" class=\"data row5 col2\" >w2v bow mean</td>\n",
              "                        <td id=\"T_a6a926a4_6f7a_11ea_b8b7_0242ac1c0002row5_col3\" class=\"data row5 col3\" >accuracy</td>\n",
              "                        <td id=\"T_a6a926a4_6f7a_11ea_b8b7_0242ac1c0002row5_col4\" class=\"data row5 col4\" >0.491699</td>\n",
              "                        <td id=\"T_a6a926a4_6f7a_11ea_b8b7_0242ac1c0002row5_col5\" class=\"data row5 col5\" >0.673052</td>\n",
              "            </tr>\n",
              "    </tbody></table>"
            ],
            "text/plain": [
              "<pandas.io.formats.style.Styler at 0x7f847d9a49b0>"
            ]
          },
          "metadata": {
            "tags": []
          },
          "execution_count": 172
        }
      ]
    }
  ]
}