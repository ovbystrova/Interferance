{
  "nbformat": 4,
  "nbformat_minor": 0,
  "metadata": {
    "colab": {
      "name": "Baseline",
      "provenance": [],
      "machine_shape": "hm",
      "authorship_tag": "ABX9TyOEipo6ztm70AaAYJeD6Yog",
      "include_colab_link": true
    },
    "kernelspec": {
      "name": "python3",
      "display_name": "Python 3"
    },
    "accelerator": "GPU",
    "widgets": {
      "application/vnd.jupyter.widget-state+json": {
        "871bf7d3c40944c7995121b1d9467374": {
          "model_module": "@jupyter-widgets/controls",
          "model_name": "HBoxModel",
          "state": {
            "_view_name": "HBoxView",
            "_dom_classes": [],
            "_model_name": "HBoxModel",
            "_view_module": "@jupyter-widgets/controls",
            "_model_module_version": "1.5.0",
            "_view_count": null,
            "_view_module_version": "1.5.0",
            "box_style": "",
            "layout": "IPY_MODEL_37568bdeac144ec6bd4283d92294147f",
            "_model_module": "@jupyter-widgets/controls",
            "children": [
              "IPY_MODEL_0054538558bb4082b40dd4d84bbaeff3",
              "IPY_MODEL_48fc1ac1660445679ff6528c081d3b37"
            ]
          }
        },
        "37568bdeac144ec6bd4283d92294147f": {
          "model_module": "@jupyter-widgets/base",
          "model_name": "LayoutModel",
          "state": {
            "_view_name": "LayoutView",
            "grid_template_rows": null,
            "right": null,
            "justify_content": null,
            "_view_module": "@jupyter-widgets/base",
            "overflow": null,
            "_model_module_version": "1.2.0",
            "_view_count": null,
            "flex_flow": null,
            "width": null,
            "min_width": null,
            "border": null,
            "align_items": null,
            "bottom": null,
            "_model_module": "@jupyter-widgets/base",
            "top": null,
            "grid_column": null,
            "overflow_y": null,
            "overflow_x": null,
            "grid_auto_flow": null,
            "grid_area": null,
            "grid_template_columns": null,
            "flex": null,
            "_model_name": "LayoutModel",
            "justify_items": null,
            "grid_row": null,
            "max_height": null,
            "align_content": null,
            "visibility": null,
            "align_self": null,
            "height": null,
            "min_height": null,
            "padding": null,
            "grid_auto_rows": null,
            "grid_gap": null,
            "max_width": null,
            "order": null,
            "_view_module_version": "1.2.0",
            "grid_template_areas": null,
            "object_position": null,
            "object_fit": null,
            "grid_auto_columns": null,
            "margin": null,
            "display": null,
            "left": null
          }
        },
        "0054538558bb4082b40dd4d84bbaeff3": {
          "model_module": "@jupyter-widgets/controls",
          "model_name": "IntProgressModel",
          "state": {
            "_view_name": "ProgressView",
            "style": "IPY_MODEL_08b5e03caa554a78b5bdcc8342b4c990",
            "_dom_classes": [],
            "description": "Epoch 1: 100%",
            "_model_name": "IntProgressModel",
            "bar_style": "success",
            "max": 39,
            "_view_module": "@jupyter-widgets/controls",
            "_model_module_version": "1.5.0",
            "value": 39,
            "_view_count": null,
            "_view_module_version": "1.5.0",
            "orientation": "horizontal",
            "min": 0,
            "description_tooltip": null,
            "_model_module": "@jupyter-widgets/controls",
            "layout": "IPY_MODEL_cb206c873d2145f990ccc8d971ed3a2c"
          }
        },
        "48fc1ac1660445679ff6528c081d3b37": {
          "model_module": "@jupyter-widgets/controls",
          "model_name": "HTMLModel",
          "state": {
            "_view_name": "HTMLView",
            "style": "IPY_MODEL_259bd12b835244d38ee442b88a48eefb",
            "_dom_classes": [],
            "description": "",
            "_model_name": "HTMLModel",
            "placeholder": "​",
            "_view_module": "@jupyter-widgets/controls",
            "_model_module_version": "1.5.0",
            "value": " 39/39 [00:00&lt;00:00, 182.70it/s, loss=0.993]",
            "_view_count": null,
            "_view_module_version": "1.5.0",
            "description_tooltip": null,
            "_model_module": "@jupyter-widgets/controls",
            "layout": "IPY_MODEL_3702d65a2f5e4e90ac38b9603d98c024"
          }
        },
        "08b5e03caa554a78b5bdcc8342b4c990": {
          "model_module": "@jupyter-widgets/controls",
          "model_name": "ProgressStyleModel",
          "state": {
            "_view_name": "StyleView",
            "_model_name": "ProgressStyleModel",
            "description_width": "initial",
            "_view_module": "@jupyter-widgets/base",
            "_model_module_version": "1.5.0",
            "_view_count": null,
            "_view_module_version": "1.2.0",
            "bar_color": null,
            "_model_module": "@jupyter-widgets/controls"
          }
        },
        "cb206c873d2145f990ccc8d971ed3a2c": {
          "model_module": "@jupyter-widgets/base",
          "model_name": "LayoutModel",
          "state": {
            "_view_name": "LayoutView",
            "grid_template_rows": null,
            "right": null,
            "justify_content": null,
            "_view_module": "@jupyter-widgets/base",
            "overflow": null,
            "_model_module_version": "1.2.0",
            "_view_count": null,
            "flex_flow": null,
            "width": null,
            "min_width": null,
            "border": null,
            "align_items": null,
            "bottom": null,
            "_model_module": "@jupyter-widgets/base",
            "top": null,
            "grid_column": null,
            "overflow_y": null,
            "overflow_x": null,
            "grid_auto_flow": null,
            "grid_area": null,
            "grid_template_columns": null,
            "flex": null,
            "_model_name": "LayoutModel",
            "justify_items": null,
            "grid_row": null,
            "max_height": null,
            "align_content": null,
            "visibility": null,
            "align_self": null,
            "height": null,
            "min_height": null,
            "padding": null,
            "grid_auto_rows": null,
            "grid_gap": null,
            "max_width": null,
            "order": null,
            "_view_module_version": "1.2.0",
            "grid_template_areas": null,
            "object_position": null,
            "object_fit": null,
            "grid_auto_columns": null,
            "margin": null,
            "display": null,
            "left": null
          }
        },
        "259bd12b835244d38ee442b88a48eefb": {
          "model_module": "@jupyter-widgets/controls",
          "model_name": "DescriptionStyleModel",
          "state": {
            "_view_name": "StyleView",
            "_model_name": "DescriptionStyleModel",
            "description_width": "",
            "_view_module": "@jupyter-widgets/base",
            "_model_module_version": "1.5.0",
            "_view_count": null,
            "_view_module_version": "1.2.0",
            "_model_module": "@jupyter-widgets/controls"
          }
        },
        "3702d65a2f5e4e90ac38b9603d98c024": {
          "model_module": "@jupyter-widgets/base",
          "model_name": "LayoutModel",
          "state": {
            "_view_name": "LayoutView",
            "grid_template_rows": null,
            "right": null,
            "justify_content": null,
            "_view_module": "@jupyter-widgets/base",
            "overflow": null,
            "_model_module_version": "1.2.0",
            "_view_count": null,
            "flex_flow": null,
            "width": null,
            "min_width": null,
            "border": null,
            "align_items": null,
            "bottom": null,
            "_model_module": "@jupyter-widgets/base",
            "top": null,
            "grid_column": null,
            "overflow_y": null,
            "overflow_x": null,
            "grid_auto_flow": null,
            "grid_area": null,
            "grid_template_columns": null,
            "flex": null,
            "_model_name": "LayoutModel",
            "justify_items": null,
            "grid_row": null,
            "max_height": null,
            "align_content": null,
            "visibility": null,
            "align_self": null,
            "height": null,
            "min_height": null,
            "padding": null,
            "grid_auto_rows": null,
            "grid_gap": null,
            "max_width": null,
            "order": null,
            "_view_module_version": "1.2.0",
            "grid_template_areas": null,
            "object_position": null,
            "object_fit": null,
            "grid_auto_columns": null,
            "margin": null,
            "display": null,
            "left": null
          }
        },
        "b0c4a104638f43f598e58cfac9ce2ee2": {
          "model_module": "@jupyter-widgets/controls",
          "model_name": "HBoxModel",
          "state": {
            "_view_name": "HBoxView",
            "_dom_classes": [],
            "_model_name": "HBoxModel",
            "_view_module": "@jupyter-widgets/controls",
            "_model_module_version": "1.5.0",
            "_view_count": null,
            "_view_module_version": "1.5.0",
            "box_style": "",
            "layout": "IPY_MODEL_a85554d9194c4b74b623cff816905704",
            "_model_module": "@jupyter-widgets/controls",
            "children": [
              "IPY_MODEL_7a5fce9494b04ea3b66469c13ecf6fd3",
              "IPY_MODEL_4a9fbe7a644b46e6acfe3e99b98c8a83"
            ]
          }
        },
        "a85554d9194c4b74b623cff816905704": {
          "model_module": "@jupyter-widgets/base",
          "model_name": "LayoutModel",
          "state": {
            "_view_name": "LayoutView",
            "grid_template_rows": null,
            "right": null,
            "justify_content": null,
            "_view_module": "@jupyter-widgets/base",
            "overflow": null,
            "_model_module_version": "1.2.0",
            "_view_count": null,
            "flex_flow": null,
            "width": null,
            "min_width": null,
            "border": null,
            "align_items": null,
            "bottom": null,
            "_model_module": "@jupyter-widgets/base",
            "top": null,
            "grid_column": null,
            "overflow_y": null,
            "overflow_x": null,
            "grid_auto_flow": null,
            "grid_area": null,
            "grid_template_columns": null,
            "flex": null,
            "_model_name": "LayoutModel",
            "justify_items": null,
            "grid_row": null,
            "max_height": null,
            "align_content": null,
            "visibility": null,
            "align_self": null,
            "height": null,
            "min_height": null,
            "padding": null,
            "grid_auto_rows": null,
            "grid_gap": null,
            "max_width": null,
            "order": null,
            "_view_module_version": "1.2.0",
            "grid_template_areas": null,
            "object_position": null,
            "object_fit": null,
            "grid_auto_columns": null,
            "margin": null,
            "display": null,
            "left": null
          }
        },
        "7a5fce9494b04ea3b66469c13ecf6fd3": {
          "model_module": "@jupyter-widgets/controls",
          "model_name": "IntProgressModel",
          "state": {
            "_view_name": "ProgressView",
            "style": "IPY_MODEL_f5abfecff3ff46369c951b2809f70160",
            "_dom_classes": [],
            "description": "Eval epoch 1: 100%",
            "_model_name": "IntProgressModel",
            "bar_style": "success",
            "max": 9,
            "_view_module": "@jupyter-widgets/controls",
            "_model_module_version": "1.5.0",
            "value": 9,
            "_view_count": null,
            "_view_module_version": "1.5.0",
            "orientation": "horizontal",
            "min": 0,
            "description_tooltip": null,
            "_model_module": "@jupyter-widgets/controls",
            "layout": "IPY_MODEL_4cfc31b790cf4a3f944cb7e928952700"
          }
        },
        "4a9fbe7a644b46e6acfe3e99b98c8a83": {
          "model_module": "@jupyter-widgets/controls",
          "model_name": "HTMLModel",
          "state": {
            "_view_name": "HTMLView",
            "style": "IPY_MODEL_a3f4e6b34538493cbb8de8d42cf028b0",
            "_dom_classes": [],
            "description": "",
            "_model_name": "HTMLModel",
            "placeholder": "​",
            "_view_module": "@jupyter-widgets/controls",
            "_model_module_version": "1.5.0",
            "value": " 9/9 [00:00&lt;00:00, 151.83it/s, loss=1.09]",
            "_view_count": null,
            "_view_module_version": "1.5.0",
            "description_tooltip": null,
            "_model_module": "@jupyter-widgets/controls",
            "layout": "IPY_MODEL_decc2663923c4817a359626dc98433ee"
          }
        },
        "f5abfecff3ff46369c951b2809f70160": {
          "model_module": "@jupyter-widgets/controls",
          "model_name": "ProgressStyleModel",
          "state": {
            "_view_name": "StyleView",
            "_model_name": "ProgressStyleModel",
            "description_width": "initial",
            "_view_module": "@jupyter-widgets/base",
            "_model_module_version": "1.5.0",
            "_view_count": null,
            "_view_module_version": "1.2.0",
            "bar_color": null,
            "_model_module": "@jupyter-widgets/controls"
          }
        },
        "4cfc31b790cf4a3f944cb7e928952700": {
          "model_module": "@jupyter-widgets/base",
          "model_name": "LayoutModel",
          "state": {
            "_view_name": "LayoutView",
            "grid_template_rows": null,
            "right": null,
            "justify_content": null,
            "_view_module": "@jupyter-widgets/base",
            "overflow": null,
            "_model_module_version": "1.2.0",
            "_view_count": null,
            "flex_flow": null,
            "width": null,
            "min_width": null,
            "border": null,
            "align_items": null,
            "bottom": null,
            "_model_module": "@jupyter-widgets/base",
            "top": null,
            "grid_column": null,
            "overflow_y": null,
            "overflow_x": null,
            "grid_auto_flow": null,
            "grid_area": null,
            "grid_template_columns": null,
            "flex": null,
            "_model_name": "LayoutModel",
            "justify_items": null,
            "grid_row": null,
            "max_height": null,
            "align_content": null,
            "visibility": null,
            "align_self": null,
            "height": null,
            "min_height": null,
            "padding": null,
            "grid_auto_rows": null,
            "grid_gap": null,
            "max_width": null,
            "order": null,
            "_view_module_version": "1.2.0",
            "grid_template_areas": null,
            "object_position": null,
            "object_fit": null,
            "grid_auto_columns": null,
            "margin": null,
            "display": null,
            "left": null
          }
        },
        "a3f4e6b34538493cbb8de8d42cf028b0": {
          "model_module": "@jupyter-widgets/controls",
          "model_name": "DescriptionStyleModel",
          "state": {
            "_view_name": "StyleView",
            "_model_name": "DescriptionStyleModel",
            "description_width": "",
            "_view_module": "@jupyter-widgets/base",
            "_model_module_version": "1.5.0",
            "_view_count": null,
            "_view_module_version": "1.2.0",
            "_model_module": "@jupyter-widgets/controls"
          }
        },
        "decc2663923c4817a359626dc98433ee": {
          "model_module": "@jupyter-widgets/base",
          "model_name": "LayoutModel",
          "state": {
            "_view_name": "LayoutView",
            "grid_template_rows": null,
            "right": null,
            "justify_content": null,
            "_view_module": "@jupyter-widgets/base",
            "overflow": null,
            "_model_module_version": "1.2.0",
            "_view_count": null,
            "flex_flow": null,
            "width": null,
            "min_width": null,
            "border": null,
            "align_items": null,
            "bottom": null,
            "_model_module": "@jupyter-widgets/base",
            "top": null,
            "grid_column": null,
            "overflow_y": null,
            "overflow_x": null,
            "grid_auto_flow": null,
            "grid_area": null,
            "grid_template_columns": null,
            "flex": null,
            "_model_name": "LayoutModel",
            "justify_items": null,
            "grid_row": null,
            "max_height": null,
            "align_content": null,
            "visibility": null,
            "align_self": null,
            "height": null,
            "min_height": null,
            "padding": null,
            "grid_auto_rows": null,
            "grid_gap": null,
            "max_width": null,
            "order": null,
            "_view_module_version": "1.2.0",
            "grid_template_areas": null,
            "object_position": null,
            "object_fit": null,
            "grid_auto_columns": null,
            "margin": null,
            "display": null,
            "left": null
          }
        },
        "55be4c89adf34b26b6432fc9cb48b410": {
          "model_module": "@jupyter-widgets/controls",
          "model_name": "HBoxModel",
          "state": {
            "_view_name": "HBoxView",
            "_dom_classes": [],
            "_model_name": "HBoxModel",
            "_view_module": "@jupyter-widgets/controls",
            "_model_module_version": "1.5.0",
            "_view_count": null,
            "_view_module_version": "1.5.0",
            "box_style": "",
            "layout": "IPY_MODEL_de389c5a29204c83a311cd46a0feb8fc",
            "_model_module": "@jupyter-widgets/controls",
            "children": [
              "IPY_MODEL_17586b9ee1f84281b5af7892f8b80d93",
              "IPY_MODEL_2f843ef6ad554dc4a5fcf51e8ad9f0fb"
            ]
          }
        },
        "de389c5a29204c83a311cd46a0feb8fc": {
          "model_module": "@jupyter-widgets/base",
          "model_name": "LayoutModel",
          "state": {
            "_view_name": "LayoutView",
            "grid_template_rows": null,
            "right": null,
            "justify_content": null,
            "_view_module": "@jupyter-widgets/base",
            "overflow": null,
            "_model_module_version": "1.2.0",
            "_view_count": null,
            "flex_flow": null,
            "width": null,
            "min_width": null,
            "border": null,
            "align_items": null,
            "bottom": null,
            "_model_module": "@jupyter-widgets/base",
            "top": null,
            "grid_column": null,
            "overflow_y": null,
            "overflow_x": null,
            "grid_auto_flow": null,
            "grid_area": null,
            "grid_template_columns": null,
            "flex": null,
            "_model_name": "LayoutModel",
            "justify_items": null,
            "grid_row": null,
            "max_height": null,
            "align_content": null,
            "visibility": null,
            "align_self": null,
            "height": null,
            "min_height": null,
            "padding": null,
            "grid_auto_rows": null,
            "grid_gap": null,
            "max_width": null,
            "order": null,
            "_view_module_version": "1.2.0",
            "grid_template_areas": null,
            "object_position": null,
            "object_fit": null,
            "grid_auto_columns": null,
            "margin": null,
            "display": null,
            "left": null
          }
        },
        "17586b9ee1f84281b5af7892f8b80d93": {
          "model_module": "@jupyter-widgets/controls",
          "model_name": "IntProgressModel",
          "state": {
            "_view_name": "ProgressView",
            "style": "IPY_MODEL_dc21d9966dfc4c44a11b1c1aee229b1f",
            "_dom_classes": [],
            "description": "Epoch 2: 100%",
            "_model_name": "IntProgressModel",
            "bar_style": "success",
            "max": 39,
            "_view_module": "@jupyter-widgets/controls",
            "_model_module_version": "1.5.0",
            "value": 39,
            "_view_count": null,
            "_view_module_version": "1.5.0",
            "orientation": "horizontal",
            "min": 0,
            "description_tooltip": null,
            "_model_module": "@jupyter-widgets/controls",
            "layout": "IPY_MODEL_a27c17ad382b4ab7830fb50b6476901f"
          }
        },
        "2f843ef6ad554dc4a5fcf51e8ad9f0fb": {
          "model_module": "@jupyter-widgets/controls",
          "model_name": "HTMLModel",
          "state": {
            "_view_name": "HTMLView",
            "style": "IPY_MODEL_364fa8dde6b841afbf99a0fba2033399",
            "_dom_classes": [],
            "description": "",
            "_model_name": "HTMLModel",
            "placeholder": "​",
            "_view_module": "@jupyter-widgets/controls",
            "_model_module_version": "1.5.0",
            "value": " 39/39 [00:02&lt;00:00, 14.33it/s, loss=0.806]",
            "_view_count": null,
            "_view_module_version": "1.5.0",
            "description_tooltip": null,
            "_model_module": "@jupyter-widgets/controls",
            "layout": "IPY_MODEL_21f40f0a47654b4faf882dce73915b95"
          }
        },
        "dc21d9966dfc4c44a11b1c1aee229b1f": {
          "model_module": "@jupyter-widgets/controls",
          "model_name": "ProgressStyleModel",
          "state": {
            "_view_name": "StyleView",
            "_model_name": "ProgressStyleModel",
            "description_width": "initial",
            "_view_module": "@jupyter-widgets/base",
            "_model_module_version": "1.5.0",
            "_view_count": null,
            "_view_module_version": "1.2.0",
            "bar_color": null,
            "_model_module": "@jupyter-widgets/controls"
          }
        },
        "a27c17ad382b4ab7830fb50b6476901f": {
          "model_module": "@jupyter-widgets/base",
          "model_name": "LayoutModel",
          "state": {
            "_view_name": "LayoutView",
            "grid_template_rows": null,
            "right": null,
            "justify_content": null,
            "_view_module": "@jupyter-widgets/base",
            "overflow": null,
            "_model_module_version": "1.2.0",
            "_view_count": null,
            "flex_flow": null,
            "width": null,
            "min_width": null,
            "border": null,
            "align_items": null,
            "bottom": null,
            "_model_module": "@jupyter-widgets/base",
            "top": null,
            "grid_column": null,
            "overflow_y": null,
            "overflow_x": null,
            "grid_auto_flow": null,
            "grid_area": null,
            "grid_template_columns": null,
            "flex": null,
            "_model_name": "LayoutModel",
            "justify_items": null,
            "grid_row": null,
            "max_height": null,
            "align_content": null,
            "visibility": null,
            "align_self": null,
            "height": null,
            "min_height": null,
            "padding": null,
            "grid_auto_rows": null,
            "grid_gap": null,
            "max_width": null,
            "order": null,
            "_view_module_version": "1.2.0",
            "grid_template_areas": null,
            "object_position": null,
            "object_fit": null,
            "grid_auto_columns": null,
            "margin": null,
            "display": null,
            "left": null
          }
        },
        "364fa8dde6b841afbf99a0fba2033399": {
          "model_module": "@jupyter-widgets/controls",
          "model_name": "DescriptionStyleModel",
          "state": {
            "_view_name": "StyleView",
            "_model_name": "DescriptionStyleModel",
            "description_width": "",
            "_view_module": "@jupyter-widgets/base",
            "_model_module_version": "1.5.0",
            "_view_count": null,
            "_view_module_version": "1.2.0",
            "_model_module": "@jupyter-widgets/controls"
          }
        },
        "21f40f0a47654b4faf882dce73915b95": {
          "model_module": "@jupyter-widgets/base",
          "model_name": "LayoutModel",
          "state": {
            "_view_name": "LayoutView",
            "grid_template_rows": null,
            "right": null,
            "justify_content": null,
            "_view_module": "@jupyter-widgets/base",
            "overflow": null,
            "_model_module_version": "1.2.0",
            "_view_count": null,
            "flex_flow": null,
            "width": null,
            "min_width": null,
            "border": null,
            "align_items": null,
            "bottom": null,
            "_model_module": "@jupyter-widgets/base",
            "top": null,
            "grid_column": null,
            "overflow_y": null,
            "overflow_x": null,
            "grid_auto_flow": null,
            "grid_area": null,
            "grid_template_columns": null,
            "flex": null,
            "_model_name": "LayoutModel",
            "justify_items": null,
            "grid_row": null,
            "max_height": null,
            "align_content": null,
            "visibility": null,
            "align_self": null,
            "height": null,
            "min_height": null,
            "padding": null,
            "grid_auto_rows": null,
            "grid_gap": null,
            "max_width": null,
            "order": null,
            "_view_module_version": "1.2.0",
            "grid_template_areas": null,
            "object_position": null,
            "object_fit": null,
            "grid_auto_columns": null,
            "margin": null,
            "display": null,
            "left": null
          }
        },
        "256db91bf30f439181f5274e5344cd08": {
          "model_module": "@jupyter-widgets/controls",
          "model_name": "HBoxModel",
          "state": {
            "_view_name": "HBoxView",
            "_dom_classes": [],
            "_model_name": "HBoxModel",
            "_view_module": "@jupyter-widgets/controls",
            "_model_module_version": "1.5.0",
            "_view_count": null,
            "_view_module_version": "1.5.0",
            "box_style": "",
            "layout": "IPY_MODEL_4901859ceb7548dfa85d9b3da9226928",
            "_model_module": "@jupyter-widgets/controls",
            "children": [
              "IPY_MODEL_99306f6ea22a405ea53a8ddb3fe58e57",
              "IPY_MODEL_ef98fbb92f4c48779f04e92d950fbbd3"
            ]
          }
        },
        "4901859ceb7548dfa85d9b3da9226928": {
          "model_module": "@jupyter-widgets/base",
          "model_name": "LayoutModel",
          "state": {
            "_view_name": "LayoutView",
            "grid_template_rows": null,
            "right": null,
            "justify_content": null,
            "_view_module": "@jupyter-widgets/base",
            "overflow": null,
            "_model_module_version": "1.2.0",
            "_view_count": null,
            "flex_flow": null,
            "width": null,
            "min_width": null,
            "border": null,
            "align_items": null,
            "bottom": null,
            "_model_module": "@jupyter-widgets/base",
            "top": null,
            "grid_column": null,
            "overflow_y": null,
            "overflow_x": null,
            "grid_auto_flow": null,
            "grid_area": null,
            "grid_template_columns": null,
            "flex": null,
            "_model_name": "LayoutModel",
            "justify_items": null,
            "grid_row": null,
            "max_height": null,
            "align_content": null,
            "visibility": null,
            "align_self": null,
            "height": null,
            "min_height": null,
            "padding": null,
            "grid_auto_rows": null,
            "grid_gap": null,
            "max_width": null,
            "order": null,
            "_view_module_version": "1.2.0",
            "grid_template_areas": null,
            "object_position": null,
            "object_fit": null,
            "grid_auto_columns": null,
            "margin": null,
            "display": null,
            "left": null
          }
        },
        "99306f6ea22a405ea53a8ddb3fe58e57": {
          "model_module": "@jupyter-widgets/controls",
          "model_name": "IntProgressModel",
          "state": {
            "_view_name": "ProgressView",
            "style": "IPY_MODEL_928da3f3ee004bedbb67c99dcda6d65d",
            "_dom_classes": [],
            "description": "Eval epoch 2: 100%",
            "_model_name": "IntProgressModel",
            "bar_style": "success",
            "max": 9,
            "_view_module": "@jupyter-widgets/controls",
            "_model_module_version": "1.5.0",
            "value": 9,
            "_view_count": null,
            "_view_module_version": "1.5.0",
            "orientation": "horizontal",
            "min": 0,
            "description_tooltip": null,
            "_model_module": "@jupyter-widgets/controls",
            "layout": "IPY_MODEL_baf8342add40454786ba9e4d6a08186d"
          }
        },
        "ef98fbb92f4c48779f04e92d950fbbd3": {
          "model_module": "@jupyter-widgets/controls",
          "model_name": "HTMLModel",
          "state": {
            "_view_name": "HTMLView",
            "style": "IPY_MODEL_8d1994bb401447a191168eab7d07ff1d",
            "_dom_classes": [],
            "description": "",
            "_model_name": "HTMLModel",
            "placeholder": "​",
            "_view_module": "@jupyter-widgets/controls",
            "_model_module_version": "1.5.0",
            "value": " 9/9 [00:00&lt;00:00, 22.96it/s, loss=1.09]",
            "_view_count": null,
            "_view_module_version": "1.5.0",
            "description_tooltip": null,
            "_model_module": "@jupyter-widgets/controls",
            "layout": "IPY_MODEL_702fc0d29bd94e17b976db5f7f26022c"
          }
        },
        "928da3f3ee004bedbb67c99dcda6d65d": {
          "model_module": "@jupyter-widgets/controls",
          "model_name": "ProgressStyleModel",
          "state": {
            "_view_name": "StyleView",
            "_model_name": "ProgressStyleModel",
            "description_width": "initial",
            "_view_module": "@jupyter-widgets/base",
            "_model_module_version": "1.5.0",
            "_view_count": null,
            "_view_module_version": "1.2.0",
            "bar_color": null,
            "_model_module": "@jupyter-widgets/controls"
          }
        },
        "baf8342add40454786ba9e4d6a08186d": {
          "model_module": "@jupyter-widgets/base",
          "model_name": "LayoutModel",
          "state": {
            "_view_name": "LayoutView",
            "grid_template_rows": null,
            "right": null,
            "justify_content": null,
            "_view_module": "@jupyter-widgets/base",
            "overflow": null,
            "_model_module_version": "1.2.0",
            "_view_count": null,
            "flex_flow": null,
            "width": null,
            "min_width": null,
            "border": null,
            "align_items": null,
            "bottom": null,
            "_model_module": "@jupyter-widgets/base",
            "top": null,
            "grid_column": null,
            "overflow_y": null,
            "overflow_x": null,
            "grid_auto_flow": null,
            "grid_area": null,
            "grid_template_columns": null,
            "flex": null,
            "_model_name": "LayoutModel",
            "justify_items": null,
            "grid_row": null,
            "max_height": null,
            "align_content": null,
            "visibility": null,
            "align_self": null,
            "height": null,
            "min_height": null,
            "padding": null,
            "grid_auto_rows": null,
            "grid_gap": null,
            "max_width": null,
            "order": null,
            "_view_module_version": "1.2.0",
            "grid_template_areas": null,
            "object_position": null,
            "object_fit": null,
            "grid_auto_columns": null,
            "margin": null,
            "display": null,
            "left": null
          }
        },
        "8d1994bb401447a191168eab7d07ff1d": {
          "model_module": "@jupyter-widgets/controls",
          "model_name": "DescriptionStyleModel",
          "state": {
            "_view_name": "StyleView",
            "_model_name": "DescriptionStyleModel",
            "description_width": "",
            "_view_module": "@jupyter-widgets/base",
            "_model_module_version": "1.5.0",
            "_view_count": null,
            "_view_module_version": "1.2.0",
            "_model_module": "@jupyter-widgets/controls"
          }
        },
        "702fc0d29bd94e17b976db5f7f26022c": {
          "model_module": "@jupyter-widgets/base",
          "model_name": "LayoutModel",
          "state": {
            "_view_name": "LayoutView",
            "grid_template_rows": null,
            "right": null,
            "justify_content": null,
            "_view_module": "@jupyter-widgets/base",
            "overflow": null,
            "_model_module_version": "1.2.0",
            "_view_count": null,
            "flex_flow": null,
            "width": null,
            "min_width": null,
            "border": null,
            "align_items": null,
            "bottom": null,
            "_model_module": "@jupyter-widgets/base",
            "top": null,
            "grid_column": null,
            "overflow_y": null,
            "overflow_x": null,
            "grid_auto_flow": null,
            "grid_area": null,
            "grid_template_columns": null,
            "flex": null,
            "_model_name": "LayoutModel",
            "justify_items": null,
            "grid_row": null,
            "max_height": null,
            "align_content": null,
            "visibility": null,
            "align_self": null,
            "height": null,
            "min_height": null,
            "padding": null,
            "grid_auto_rows": null,
            "grid_gap": null,
            "max_width": null,
            "order": null,
            "_view_module_version": "1.2.0",
            "grid_template_areas": null,
            "object_position": null,
            "object_fit": null,
            "grid_auto_columns": null,
            "margin": null,
            "display": null,
            "left": null
          }
        },
        "5bcb25eee234454b9f099e9e4bfd6c89": {
          "model_module": "@jupyter-widgets/controls",
          "model_name": "HBoxModel",
          "state": {
            "_view_name": "HBoxView",
            "_dom_classes": [],
            "_model_name": "HBoxModel",
            "_view_module": "@jupyter-widgets/controls",
            "_model_module_version": "1.5.0",
            "_view_count": null,
            "_view_module_version": "1.5.0",
            "box_style": "",
            "layout": "IPY_MODEL_74c73ef4cb2448a28a7bda0f0943b4c2",
            "_model_module": "@jupyter-widgets/controls",
            "children": [
              "IPY_MODEL_31eb68523c8a46b5b0a18fab319577ba",
              "IPY_MODEL_3cdb6c87cc9248f28b784610d90761d7"
            ]
          }
        },
        "74c73ef4cb2448a28a7bda0f0943b4c2": {
          "model_module": "@jupyter-widgets/base",
          "model_name": "LayoutModel",
          "state": {
            "_view_name": "LayoutView",
            "grid_template_rows": null,
            "right": null,
            "justify_content": null,
            "_view_module": "@jupyter-widgets/base",
            "overflow": null,
            "_model_module_version": "1.2.0",
            "_view_count": null,
            "flex_flow": null,
            "width": null,
            "min_width": null,
            "border": null,
            "align_items": null,
            "bottom": null,
            "_model_module": "@jupyter-widgets/base",
            "top": null,
            "grid_column": null,
            "overflow_y": null,
            "overflow_x": null,
            "grid_auto_flow": null,
            "grid_area": null,
            "grid_template_columns": null,
            "flex": null,
            "_model_name": "LayoutModel",
            "justify_items": null,
            "grid_row": null,
            "max_height": null,
            "align_content": null,
            "visibility": null,
            "align_self": null,
            "height": null,
            "min_height": null,
            "padding": null,
            "grid_auto_rows": null,
            "grid_gap": null,
            "max_width": null,
            "order": null,
            "_view_module_version": "1.2.0",
            "grid_template_areas": null,
            "object_position": null,
            "object_fit": null,
            "grid_auto_columns": null,
            "margin": null,
            "display": null,
            "left": null
          }
        },
        "31eb68523c8a46b5b0a18fab319577ba": {
          "model_module": "@jupyter-widgets/controls",
          "model_name": "IntProgressModel",
          "state": {
            "_view_name": "ProgressView",
            "style": "IPY_MODEL_14c0954f1df048ca9aedd2e942bf67fa",
            "_dom_classes": [],
            "description": "Epoch 3: 100%",
            "_model_name": "IntProgressModel",
            "bar_style": "success",
            "max": 39,
            "_view_module": "@jupyter-widgets/controls",
            "_model_module_version": "1.5.0",
            "value": 39,
            "_view_count": null,
            "_view_module_version": "1.5.0",
            "orientation": "horizontal",
            "min": 0,
            "description_tooltip": null,
            "_model_module": "@jupyter-widgets/controls",
            "layout": "IPY_MODEL_119fba666fc04105921916ac5cd36b4f"
          }
        },
        "3cdb6c87cc9248f28b784610d90761d7": {
          "model_module": "@jupyter-widgets/controls",
          "model_name": "HTMLModel",
          "state": {
            "_view_name": "HTMLView",
            "style": "IPY_MODEL_49cda5caad8b4fe8b56559eb307ca087",
            "_dom_classes": [],
            "description": "",
            "_model_name": "HTMLModel",
            "placeholder": "​",
            "_view_module": "@jupyter-widgets/controls",
            "_model_module_version": "1.5.0",
            "value": " 39/39 [00:00&lt;00:00, 111.44it/s, loss=0.722]",
            "_view_count": null,
            "_view_module_version": "1.5.0",
            "description_tooltip": null,
            "_model_module": "@jupyter-widgets/controls",
            "layout": "IPY_MODEL_7cd62b12ebd44408a869a6703ce778c8"
          }
        },
        "14c0954f1df048ca9aedd2e942bf67fa": {
          "model_module": "@jupyter-widgets/controls",
          "model_name": "ProgressStyleModel",
          "state": {
            "_view_name": "StyleView",
            "_model_name": "ProgressStyleModel",
            "description_width": "initial",
            "_view_module": "@jupyter-widgets/base",
            "_model_module_version": "1.5.0",
            "_view_count": null,
            "_view_module_version": "1.2.0",
            "bar_color": null,
            "_model_module": "@jupyter-widgets/controls"
          }
        },
        "119fba666fc04105921916ac5cd36b4f": {
          "model_module": "@jupyter-widgets/base",
          "model_name": "LayoutModel",
          "state": {
            "_view_name": "LayoutView",
            "grid_template_rows": null,
            "right": null,
            "justify_content": null,
            "_view_module": "@jupyter-widgets/base",
            "overflow": null,
            "_model_module_version": "1.2.0",
            "_view_count": null,
            "flex_flow": null,
            "width": null,
            "min_width": null,
            "border": null,
            "align_items": null,
            "bottom": null,
            "_model_module": "@jupyter-widgets/base",
            "top": null,
            "grid_column": null,
            "overflow_y": null,
            "overflow_x": null,
            "grid_auto_flow": null,
            "grid_area": null,
            "grid_template_columns": null,
            "flex": null,
            "_model_name": "LayoutModel",
            "justify_items": null,
            "grid_row": null,
            "max_height": null,
            "align_content": null,
            "visibility": null,
            "align_self": null,
            "height": null,
            "min_height": null,
            "padding": null,
            "grid_auto_rows": null,
            "grid_gap": null,
            "max_width": null,
            "order": null,
            "_view_module_version": "1.2.0",
            "grid_template_areas": null,
            "object_position": null,
            "object_fit": null,
            "grid_auto_columns": null,
            "margin": null,
            "display": null,
            "left": null
          }
        },
        "49cda5caad8b4fe8b56559eb307ca087": {
          "model_module": "@jupyter-widgets/controls",
          "model_name": "DescriptionStyleModel",
          "state": {
            "_view_name": "StyleView",
            "_model_name": "DescriptionStyleModel",
            "description_width": "",
            "_view_module": "@jupyter-widgets/base",
            "_model_module_version": "1.5.0",
            "_view_count": null,
            "_view_module_version": "1.2.0",
            "_model_module": "@jupyter-widgets/controls"
          }
        },
        "7cd62b12ebd44408a869a6703ce778c8": {
          "model_module": "@jupyter-widgets/base",
          "model_name": "LayoutModel",
          "state": {
            "_view_name": "LayoutView",
            "grid_template_rows": null,
            "right": null,
            "justify_content": null,
            "_view_module": "@jupyter-widgets/base",
            "overflow": null,
            "_model_module_version": "1.2.0",
            "_view_count": null,
            "flex_flow": null,
            "width": null,
            "min_width": null,
            "border": null,
            "align_items": null,
            "bottom": null,
            "_model_module": "@jupyter-widgets/base",
            "top": null,
            "grid_column": null,
            "overflow_y": null,
            "overflow_x": null,
            "grid_auto_flow": null,
            "grid_area": null,
            "grid_template_columns": null,
            "flex": null,
            "_model_name": "LayoutModel",
            "justify_items": null,
            "grid_row": null,
            "max_height": null,
            "align_content": null,
            "visibility": null,
            "align_self": null,
            "height": null,
            "min_height": null,
            "padding": null,
            "grid_auto_rows": null,
            "grid_gap": null,
            "max_width": null,
            "order": null,
            "_view_module_version": "1.2.0",
            "grid_template_areas": null,
            "object_position": null,
            "object_fit": null,
            "grid_auto_columns": null,
            "margin": null,
            "display": null,
            "left": null
          }
        },
        "4c7cd91f4811467f9a2d2c5bba539146": {
          "model_module": "@jupyter-widgets/controls",
          "model_name": "HBoxModel",
          "state": {
            "_view_name": "HBoxView",
            "_dom_classes": [],
            "_model_name": "HBoxModel",
            "_view_module": "@jupyter-widgets/controls",
            "_model_module_version": "1.5.0",
            "_view_count": null,
            "_view_module_version": "1.5.0",
            "box_style": "",
            "layout": "IPY_MODEL_a057bdbbdba04754a0a5269b756ae936",
            "_model_module": "@jupyter-widgets/controls",
            "children": [
              "IPY_MODEL_427503796539455fa2b3a9f01fa16a7b",
              "IPY_MODEL_401ddf02692a477398d857cc989fc1dc"
            ]
          }
        },
        "a057bdbbdba04754a0a5269b756ae936": {
          "model_module": "@jupyter-widgets/base",
          "model_name": "LayoutModel",
          "state": {
            "_view_name": "LayoutView",
            "grid_template_rows": null,
            "right": null,
            "justify_content": null,
            "_view_module": "@jupyter-widgets/base",
            "overflow": null,
            "_model_module_version": "1.2.0",
            "_view_count": null,
            "flex_flow": null,
            "width": null,
            "min_width": null,
            "border": null,
            "align_items": null,
            "bottom": null,
            "_model_module": "@jupyter-widgets/base",
            "top": null,
            "grid_column": null,
            "overflow_y": null,
            "overflow_x": null,
            "grid_auto_flow": null,
            "grid_area": null,
            "grid_template_columns": null,
            "flex": null,
            "_model_name": "LayoutModel",
            "justify_items": null,
            "grid_row": null,
            "max_height": null,
            "align_content": null,
            "visibility": null,
            "align_self": null,
            "height": null,
            "min_height": null,
            "padding": null,
            "grid_auto_rows": null,
            "grid_gap": null,
            "max_width": null,
            "order": null,
            "_view_module_version": "1.2.0",
            "grid_template_areas": null,
            "object_position": null,
            "object_fit": null,
            "grid_auto_columns": null,
            "margin": null,
            "display": null,
            "left": null
          }
        },
        "427503796539455fa2b3a9f01fa16a7b": {
          "model_module": "@jupyter-widgets/controls",
          "model_name": "IntProgressModel",
          "state": {
            "_view_name": "ProgressView",
            "style": "IPY_MODEL_cef848771c2844ca910c1f396700d464",
            "_dom_classes": [],
            "description": "Eval epoch 3: 100%",
            "_model_name": "IntProgressModel",
            "bar_style": "success",
            "max": 9,
            "_view_module": "@jupyter-widgets/controls",
            "_model_module_version": "1.5.0",
            "value": 9,
            "_view_count": null,
            "_view_module_version": "1.5.0",
            "orientation": "horizontal",
            "min": 0,
            "description_tooltip": null,
            "_model_module": "@jupyter-widgets/controls",
            "layout": "IPY_MODEL_26c2c35a47f14ef0a237241c34ade0ea"
          }
        },
        "401ddf02692a477398d857cc989fc1dc": {
          "model_module": "@jupyter-widgets/controls",
          "model_name": "HTMLModel",
          "state": {
            "_view_name": "HTMLView",
            "style": "IPY_MODEL_31320db45a6d4ac2a5d1442e6fd0a33d",
            "_dom_classes": [],
            "description": "",
            "_model_name": "HTMLModel",
            "placeholder": "​",
            "_view_module": "@jupyter-widgets/controls",
            "_model_module_version": "1.5.0",
            "value": " 9/9 [00:00&lt;00:00, 44.11it/s, loss=1.04]",
            "_view_count": null,
            "_view_module_version": "1.5.0",
            "description_tooltip": null,
            "_model_module": "@jupyter-widgets/controls",
            "layout": "IPY_MODEL_3a0d04fc0415411aaefff0f6ba732d74"
          }
        },
        "cef848771c2844ca910c1f396700d464": {
          "model_module": "@jupyter-widgets/controls",
          "model_name": "ProgressStyleModel",
          "state": {
            "_view_name": "StyleView",
            "_model_name": "ProgressStyleModel",
            "description_width": "initial",
            "_view_module": "@jupyter-widgets/base",
            "_model_module_version": "1.5.0",
            "_view_count": null,
            "_view_module_version": "1.2.0",
            "bar_color": null,
            "_model_module": "@jupyter-widgets/controls"
          }
        },
        "26c2c35a47f14ef0a237241c34ade0ea": {
          "model_module": "@jupyter-widgets/base",
          "model_name": "LayoutModel",
          "state": {
            "_view_name": "LayoutView",
            "grid_template_rows": null,
            "right": null,
            "justify_content": null,
            "_view_module": "@jupyter-widgets/base",
            "overflow": null,
            "_model_module_version": "1.2.0",
            "_view_count": null,
            "flex_flow": null,
            "width": null,
            "min_width": null,
            "border": null,
            "align_items": null,
            "bottom": null,
            "_model_module": "@jupyter-widgets/base",
            "top": null,
            "grid_column": null,
            "overflow_y": null,
            "overflow_x": null,
            "grid_auto_flow": null,
            "grid_area": null,
            "grid_template_columns": null,
            "flex": null,
            "_model_name": "LayoutModel",
            "justify_items": null,
            "grid_row": null,
            "max_height": null,
            "align_content": null,
            "visibility": null,
            "align_self": null,
            "height": null,
            "min_height": null,
            "padding": null,
            "grid_auto_rows": null,
            "grid_gap": null,
            "max_width": null,
            "order": null,
            "_view_module_version": "1.2.0",
            "grid_template_areas": null,
            "object_position": null,
            "object_fit": null,
            "grid_auto_columns": null,
            "margin": null,
            "display": null,
            "left": null
          }
        },
        "31320db45a6d4ac2a5d1442e6fd0a33d": {
          "model_module": "@jupyter-widgets/controls",
          "model_name": "DescriptionStyleModel",
          "state": {
            "_view_name": "StyleView",
            "_model_name": "DescriptionStyleModel",
            "description_width": "",
            "_view_module": "@jupyter-widgets/base",
            "_model_module_version": "1.5.0",
            "_view_count": null,
            "_view_module_version": "1.2.0",
            "_model_module": "@jupyter-widgets/controls"
          }
        },
        "3a0d04fc0415411aaefff0f6ba732d74": {
          "model_module": "@jupyter-widgets/base",
          "model_name": "LayoutModel",
          "state": {
            "_view_name": "LayoutView",
            "grid_template_rows": null,
            "right": null,
            "justify_content": null,
            "_view_module": "@jupyter-widgets/base",
            "overflow": null,
            "_model_module_version": "1.2.0",
            "_view_count": null,
            "flex_flow": null,
            "width": null,
            "min_width": null,
            "border": null,
            "align_items": null,
            "bottom": null,
            "_model_module": "@jupyter-widgets/base",
            "top": null,
            "grid_column": null,
            "overflow_y": null,
            "overflow_x": null,
            "grid_auto_flow": null,
            "grid_area": null,
            "grid_template_columns": null,
            "flex": null,
            "_model_name": "LayoutModel",
            "justify_items": null,
            "grid_row": null,
            "max_height": null,
            "align_content": null,
            "visibility": null,
            "align_self": null,
            "height": null,
            "min_height": null,
            "padding": null,
            "grid_auto_rows": null,
            "grid_gap": null,
            "max_width": null,
            "order": null,
            "_view_module_version": "1.2.0",
            "grid_template_areas": null,
            "object_position": null,
            "object_fit": null,
            "grid_auto_columns": null,
            "margin": null,
            "display": null,
            "left": null
          }
        },
        "06bcca6e4d9e4914a09a9e13beee5efc": {
          "model_module": "@jupyter-widgets/controls",
          "model_name": "HBoxModel",
          "state": {
            "_view_name": "HBoxView",
            "_dom_classes": [],
            "_model_name": "HBoxModel",
            "_view_module": "@jupyter-widgets/controls",
            "_model_module_version": "1.5.0",
            "_view_count": null,
            "_view_module_version": "1.5.0",
            "box_style": "",
            "layout": "IPY_MODEL_3cedfd09213f47dbbb4225b3a3ed7eb6",
            "_model_module": "@jupyter-widgets/controls",
            "children": [
              "IPY_MODEL_4a063791fa0744beb79f871606f4291a",
              "IPY_MODEL_d3d2c973b87747f4ba4e6c8d78590c3e"
            ]
          }
        },
        "3cedfd09213f47dbbb4225b3a3ed7eb6": {
          "model_module": "@jupyter-widgets/base",
          "model_name": "LayoutModel",
          "state": {
            "_view_name": "LayoutView",
            "grid_template_rows": null,
            "right": null,
            "justify_content": null,
            "_view_module": "@jupyter-widgets/base",
            "overflow": null,
            "_model_module_version": "1.2.0",
            "_view_count": null,
            "flex_flow": null,
            "width": null,
            "min_width": null,
            "border": null,
            "align_items": null,
            "bottom": null,
            "_model_module": "@jupyter-widgets/base",
            "top": null,
            "grid_column": null,
            "overflow_y": null,
            "overflow_x": null,
            "grid_auto_flow": null,
            "grid_area": null,
            "grid_template_columns": null,
            "flex": null,
            "_model_name": "LayoutModel",
            "justify_items": null,
            "grid_row": null,
            "max_height": null,
            "align_content": null,
            "visibility": null,
            "align_self": null,
            "height": null,
            "min_height": null,
            "padding": null,
            "grid_auto_rows": null,
            "grid_gap": null,
            "max_width": null,
            "order": null,
            "_view_module_version": "1.2.0",
            "grid_template_areas": null,
            "object_position": null,
            "object_fit": null,
            "grid_auto_columns": null,
            "margin": null,
            "display": null,
            "left": null
          }
        },
        "4a063791fa0744beb79f871606f4291a": {
          "model_module": "@jupyter-widgets/controls",
          "model_name": "IntProgressModel",
          "state": {
            "_view_name": "ProgressView",
            "style": "IPY_MODEL_213d583f717647739c0f316936332cec",
            "_dom_classes": [],
            "description": "Epoch 4: 100%",
            "_model_name": "IntProgressModel",
            "bar_style": "success",
            "max": 39,
            "_view_module": "@jupyter-widgets/controls",
            "_model_module_version": "1.5.0",
            "value": 39,
            "_view_count": null,
            "_view_module_version": "1.5.0",
            "orientation": "horizontal",
            "min": 0,
            "description_tooltip": null,
            "_model_module": "@jupyter-widgets/controls",
            "layout": "IPY_MODEL_ba7a76f356c04d2693ccf46ffe53439c"
          }
        },
        "d3d2c973b87747f4ba4e6c8d78590c3e": {
          "model_module": "@jupyter-widgets/controls",
          "model_name": "HTMLModel",
          "state": {
            "_view_name": "HTMLView",
            "style": "IPY_MODEL_a9108cef1b534d9597c1c6f7aed92c94",
            "_dom_classes": [],
            "description": "",
            "_model_name": "HTMLModel",
            "placeholder": "​",
            "_view_module": "@jupyter-widgets/controls",
            "_model_module_version": "1.5.0",
            "value": " 39/39 [00:00&lt;00:00, 240.28it/s, loss=0.68]",
            "_view_count": null,
            "_view_module_version": "1.5.0",
            "description_tooltip": null,
            "_model_module": "@jupyter-widgets/controls",
            "layout": "IPY_MODEL_529530e31eb74f839d1ca475860f5208"
          }
        },
        "213d583f717647739c0f316936332cec": {
          "model_module": "@jupyter-widgets/controls",
          "model_name": "ProgressStyleModel",
          "state": {
            "_view_name": "StyleView",
            "_model_name": "ProgressStyleModel",
            "description_width": "initial",
            "_view_module": "@jupyter-widgets/base",
            "_model_module_version": "1.5.0",
            "_view_count": null,
            "_view_module_version": "1.2.0",
            "bar_color": null,
            "_model_module": "@jupyter-widgets/controls"
          }
        },
        "ba7a76f356c04d2693ccf46ffe53439c": {
          "model_module": "@jupyter-widgets/base",
          "model_name": "LayoutModel",
          "state": {
            "_view_name": "LayoutView",
            "grid_template_rows": null,
            "right": null,
            "justify_content": null,
            "_view_module": "@jupyter-widgets/base",
            "overflow": null,
            "_model_module_version": "1.2.0",
            "_view_count": null,
            "flex_flow": null,
            "width": null,
            "min_width": null,
            "border": null,
            "align_items": null,
            "bottom": null,
            "_model_module": "@jupyter-widgets/base",
            "top": null,
            "grid_column": null,
            "overflow_y": null,
            "overflow_x": null,
            "grid_auto_flow": null,
            "grid_area": null,
            "grid_template_columns": null,
            "flex": null,
            "_model_name": "LayoutModel",
            "justify_items": null,
            "grid_row": null,
            "max_height": null,
            "align_content": null,
            "visibility": null,
            "align_self": null,
            "height": null,
            "min_height": null,
            "padding": null,
            "grid_auto_rows": null,
            "grid_gap": null,
            "max_width": null,
            "order": null,
            "_view_module_version": "1.2.0",
            "grid_template_areas": null,
            "object_position": null,
            "object_fit": null,
            "grid_auto_columns": null,
            "margin": null,
            "display": null,
            "left": null
          }
        },
        "a9108cef1b534d9597c1c6f7aed92c94": {
          "model_module": "@jupyter-widgets/controls",
          "model_name": "DescriptionStyleModel",
          "state": {
            "_view_name": "StyleView",
            "_model_name": "DescriptionStyleModel",
            "description_width": "",
            "_view_module": "@jupyter-widgets/base",
            "_model_module_version": "1.5.0",
            "_view_count": null,
            "_view_module_version": "1.2.0",
            "_model_module": "@jupyter-widgets/controls"
          }
        },
        "529530e31eb74f839d1ca475860f5208": {
          "model_module": "@jupyter-widgets/base",
          "model_name": "LayoutModel",
          "state": {
            "_view_name": "LayoutView",
            "grid_template_rows": null,
            "right": null,
            "justify_content": null,
            "_view_module": "@jupyter-widgets/base",
            "overflow": null,
            "_model_module_version": "1.2.0",
            "_view_count": null,
            "flex_flow": null,
            "width": null,
            "min_width": null,
            "border": null,
            "align_items": null,
            "bottom": null,
            "_model_module": "@jupyter-widgets/base",
            "top": null,
            "grid_column": null,
            "overflow_y": null,
            "overflow_x": null,
            "grid_auto_flow": null,
            "grid_area": null,
            "grid_template_columns": null,
            "flex": null,
            "_model_name": "LayoutModel",
            "justify_items": null,
            "grid_row": null,
            "max_height": null,
            "align_content": null,
            "visibility": null,
            "align_self": null,
            "height": null,
            "min_height": null,
            "padding": null,
            "grid_auto_rows": null,
            "grid_gap": null,
            "max_width": null,
            "order": null,
            "_view_module_version": "1.2.0",
            "grid_template_areas": null,
            "object_position": null,
            "object_fit": null,
            "grid_auto_columns": null,
            "margin": null,
            "display": null,
            "left": null
          }
        },
        "556351ff4f9740b798ce1b3176a129f7": {
          "model_module": "@jupyter-widgets/controls",
          "model_name": "HBoxModel",
          "state": {
            "_view_name": "HBoxView",
            "_dom_classes": [],
            "_model_name": "HBoxModel",
            "_view_module": "@jupyter-widgets/controls",
            "_model_module_version": "1.5.0",
            "_view_count": null,
            "_view_module_version": "1.5.0",
            "box_style": "",
            "layout": "IPY_MODEL_fbb7175a61a64e1f8aafef69c3a6ed61",
            "_model_module": "@jupyter-widgets/controls",
            "children": [
              "IPY_MODEL_93c89971bee14eb0bc47b6fff5836892",
              "IPY_MODEL_c90c361f424a40ed851875035f73f85c"
            ]
          }
        },
        "fbb7175a61a64e1f8aafef69c3a6ed61": {
          "model_module": "@jupyter-widgets/base",
          "model_name": "LayoutModel",
          "state": {
            "_view_name": "LayoutView",
            "grid_template_rows": null,
            "right": null,
            "justify_content": null,
            "_view_module": "@jupyter-widgets/base",
            "overflow": null,
            "_model_module_version": "1.2.0",
            "_view_count": null,
            "flex_flow": null,
            "width": null,
            "min_width": null,
            "border": null,
            "align_items": null,
            "bottom": null,
            "_model_module": "@jupyter-widgets/base",
            "top": null,
            "grid_column": null,
            "overflow_y": null,
            "overflow_x": null,
            "grid_auto_flow": null,
            "grid_area": null,
            "grid_template_columns": null,
            "flex": null,
            "_model_name": "LayoutModel",
            "justify_items": null,
            "grid_row": null,
            "max_height": null,
            "align_content": null,
            "visibility": null,
            "align_self": null,
            "height": null,
            "min_height": null,
            "padding": null,
            "grid_auto_rows": null,
            "grid_gap": null,
            "max_width": null,
            "order": null,
            "_view_module_version": "1.2.0",
            "grid_template_areas": null,
            "object_position": null,
            "object_fit": null,
            "grid_auto_columns": null,
            "margin": null,
            "display": null,
            "left": null
          }
        },
        "93c89971bee14eb0bc47b6fff5836892": {
          "model_module": "@jupyter-widgets/controls",
          "model_name": "IntProgressModel",
          "state": {
            "_view_name": "ProgressView",
            "style": "IPY_MODEL_0dab7f89d64c4656ae109597ec76d3b4",
            "_dom_classes": [],
            "description": "Eval epoch 4: 100%",
            "_model_name": "IntProgressModel",
            "bar_style": "success",
            "max": 9,
            "_view_module": "@jupyter-widgets/controls",
            "_model_module_version": "1.5.0",
            "value": 9,
            "_view_count": null,
            "_view_module_version": "1.5.0",
            "orientation": "horizontal",
            "min": 0,
            "description_tooltip": null,
            "_model_module": "@jupyter-widgets/controls",
            "layout": "IPY_MODEL_70986a2eb9484ba88d1d53d60ef9b3b9"
          }
        },
        "c90c361f424a40ed851875035f73f85c": {
          "model_module": "@jupyter-widgets/controls",
          "model_name": "HTMLModel",
          "state": {
            "_view_name": "HTMLView",
            "style": "IPY_MODEL_98e93e57e8d34cde815735781b425bd3",
            "_dom_classes": [],
            "description": "",
            "_model_name": "HTMLModel",
            "placeholder": "​",
            "_view_module": "@jupyter-widgets/controls",
            "_model_module_version": "1.5.0",
            "value": " 9/9 [00:02&lt;00:00,  4.15it/s, loss=1.06]",
            "_view_count": null,
            "_view_module_version": "1.5.0",
            "description_tooltip": null,
            "_model_module": "@jupyter-widgets/controls",
            "layout": "IPY_MODEL_3c2bbccec306445c82e0906816e959c3"
          }
        },
        "0dab7f89d64c4656ae109597ec76d3b4": {
          "model_module": "@jupyter-widgets/controls",
          "model_name": "ProgressStyleModel",
          "state": {
            "_view_name": "StyleView",
            "_model_name": "ProgressStyleModel",
            "description_width": "initial",
            "_view_module": "@jupyter-widgets/base",
            "_model_module_version": "1.5.0",
            "_view_count": null,
            "_view_module_version": "1.2.0",
            "bar_color": null,
            "_model_module": "@jupyter-widgets/controls"
          }
        },
        "70986a2eb9484ba88d1d53d60ef9b3b9": {
          "model_module": "@jupyter-widgets/base",
          "model_name": "LayoutModel",
          "state": {
            "_view_name": "LayoutView",
            "grid_template_rows": null,
            "right": null,
            "justify_content": null,
            "_view_module": "@jupyter-widgets/base",
            "overflow": null,
            "_model_module_version": "1.2.0",
            "_view_count": null,
            "flex_flow": null,
            "width": null,
            "min_width": null,
            "border": null,
            "align_items": null,
            "bottom": null,
            "_model_module": "@jupyter-widgets/base",
            "top": null,
            "grid_column": null,
            "overflow_y": null,
            "overflow_x": null,
            "grid_auto_flow": null,
            "grid_area": null,
            "grid_template_columns": null,
            "flex": null,
            "_model_name": "LayoutModel",
            "justify_items": null,
            "grid_row": null,
            "max_height": null,
            "align_content": null,
            "visibility": null,
            "align_self": null,
            "height": null,
            "min_height": null,
            "padding": null,
            "grid_auto_rows": null,
            "grid_gap": null,
            "max_width": null,
            "order": null,
            "_view_module_version": "1.2.0",
            "grid_template_areas": null,
            "object_position": null,
            "object_fit": null,
            "grid_auto_columns": null,
            "margin": null,
            "display": null,
            "left": null
          }
        },
        "98e93e57e8d34cde815735781b425bd3": {
          "model_module": "@jupyter-widgets/controls",
          "model_name": "DescriptionStyleModel",
          "state": {
            "_view_name": "StyleView",
            "_model_name": "DescriptionStyleModel",
            "description_width": "",
            "_view_module": "@jupyter-widgets/base",
            "_model_module_version": "1.5.0",
            "_view_count": null,
            "_view_module_version": "1.2.0",
            "_model_module": "@jupyter-widgets/controls"
          }
        },
        "3c2bbccec306445c82e0906816e959c3": {
          "model_module": "@jupyter-widgets/base",
          "model_name": "LayoutModel",
          "state": {
            "_view_name": "LayoutView",
            "grid_template_rows": null,
            "right": null,
            "justify_content": null,
            "_view_module": "@jupyter-widgets/base",
            "overflow": null,
            "_model_module_version": "1.2.0",
            "_view_count": null,
            "flex_flow": null,
            "width": null,
            "min_width": null,
            "border": null,
            "align_items": null,
            "bottom": null,
            "_model_module": "@jupyter-widgets/base",
            "top": null,
            "grid_column": null,
            "overflow_y": null,
            "overflow_x": null,
            "grid_auto_flow": null,
            "grid_area": null,
            "grid_template_columns": null,
            "flex": null,
            "_model_name": "LayoutModel",
            "justify_items": null,
            "grid_row": null,
            "max_height": null,
            "align_content": null,
            "visibility": null,
            "align_self": null,
            "height": null,
            "min_height": null,
            "padding": null,
            "grid_auto_rows": null,
            "grid_gap": null,
            "max_width": null,
            "order": null,
            "_view_module_version": "1.2.0",
            "grid_template_areas": null,
            "object_position": null,
            "object_fit": null,
            "grid_auto_columns": null,
            "margin": null,
            "display": null,
            "left": null
          }
        },
        "14e3fe0990ca408389896aa5c4c00ffc": {
          "model_module": "@jupyter-widgets/controls",
          "model_name": "HBoxModel",
          "state": {
            "_view_name": "HBoxView",
            "_dom_classes": [],
            "_model_name": "HBoxModel",
            "_view_module": "@jupyter-widgets/controls",
            "_model_module_version": "1.5.0",
            "_view_count": null,
            "_view_module_version": "1.5.0",
            "box_style": "",
            "layout": "IPY_MODEL_cecf72c6c1d44787bddb153c765816d6",
            "_model_module": "@jupyter-widgets/controls",
            "children": [
              "IPY_MODEL_9bdb7e5d6ec44154abe84110d0a61a47",
              "IPY_MODEL_52e8ee4339e6483ba5f9b9e04a2083d9"
            ]
          }
        },
        "cecf72c6c1d44787bddb153c765816d6": {
          "model_module": "@jupyter-widgets/base",
          "model_name": "LayoutModel",
          "state": {
            "_view_name": "LayoutView",
            "grid_template_rows": null,
            "right": null,
            "justify_content": null,
            "_view_module": "@jupyter-widgets/base",
            "overflow": null,
            "_model_module_version": "1.2.0",
            "_view_count": null,
            "flex_flow": null,
            "width": null,
            "min_width": null,
            "border": null,
            "align_items": null,
            "bottom": null,
            "_model_module": "@jupyter-widgets/base",
            "top": null,
            "grid_column": null,
            "overflow_y": null,
            "overflow_x": null,
            "grid_auto_flow": null,
            "grid_area": null,
            "grid_template_columns": null,
            "flex": null,
            "_model_name": "LayoutModel",
            "justify_items": null,
            "grid_row": null,
            "max_height": null,
            "align_content": null,
            "visibility": null,
            "align_self": null,
            "height": null,
            "min_height": null,
            "padding": null,
            "grid_auto_rows": null,
            "grid_gap": null,
            "max_width": null,
            "order": null,
            "_view_module_version": "1.2.0",
            "grid_template_areas": null,
            "object_position": null,
            "object_fit": null,
            "grid_auto_columns": null,
            "margin": null,
            "display": null,
            "left": null
          }
        },
        "9bdb7e5d6ec44154abe84110d0a61a47": {
          "model_module": "@jupyter-widgets/controls",
          "model_name": "IntProgressModel",
          "state": {
            "_view_name": "ProgressView",
            "style": "IPY_MODEL_eedf83d1cee440feaddcdf06671381bd",
            "_dom_classes": [],
            "description": "Epoch 5: 100%",
            "_model_name": "IntProgressModel",
            "bar_style": "success",
            "max": 39,
            "_view_module": "@jupyter-widgets/controls",
            "_model_module_version": "1.5.0",
            "value": 39,
            "_view_count": null,
            "_view_module_version": "1.5.0",
            "orientation": "horizontal",
            "min": 0,
            "description_tooltip": null,
            "_model_module": "@jupyter-widgets/controls",
            "layout": "IPY_MODEL_82fd605342a542c396ee8a2da4b1c8d1"
          }
        },
        "52e8ee4339e6483ba5f9b9e04a2083d9": {
          "model_module": "@jupyter-widgets/controls",
          "model_name": "HTMLModel",
          "state": {
            "_view_name": "HTMLView",
            "style": "IPY_MODEL_18d5426e71fe4ea0b8070b3b6c4f0857",
            "_dom_classes": [],
            "description": "",
            "_model_name": "HTMLModel",
            "placeholder": "​",
            "_view_module": "@jupyter-widgets/controls",
            "_model_module_version": "1.5.0",
            "value": " 39/39 [00:01&lt;00:00, 20.84it/s, loss=0.617]",
            "_view_count": null,
            "_view_module_version": "1.5.0",
            "description_tooltip": null,
            "_model_module": "@jupyter-widgets/controls",
            "layout": "IPY_MODEL_f2dbbd38c5a64e9b8c6abd2f1a70d216"
          }
        },
        "eedf83d1cee440feaddcdf06671381bd": {
          "model_module": "@jupyter-widgets/controls",
          "model_name": "ProgressStyleModel",
          "state": {
            "_view_name": "StyleView",
            "_model_name": "ProgressStyleModel",
            "description_width": "initial",
            "_view_module": "@jupyter-widgets/base",
            "_model_module_version": "1.5.0",
            "_view_count": null,
            "_view_module_version": "1.2.0",
            "bar_color": null,
            "_model_module": "@jupyter-widgets/controls"
          }
        },
        "82fd605342a542c396ee8a2da4b1c8d1": {
          "model_module": "@jupyter-widgets/base",
          "model_name": "LayoutModel",
          "state": {
            "_view_name": "LayoutView",
            "grid_template_rows": null,
            "right": null,
            "justify_content": null,
            "_view_module": "@jupyter-widgets/base",
            "overflow": null,
            "_model_module_version": "1.2.0",
            "_view_count": null,
            "flex_flow": null,
            "width": null,
            "min_width": null,
            "border": null,
            "align_items": null,
            "bottom": null,
            "_model_module": "@jupyter-widgets/base",
            "top": null,
            "grid_column": null,
            "overflow_y": null,
            "overflow_x": null,
            "grid_auto_flow": null,
            "grid_area": null,
            "grid_template_columns": null,
            "flex": null,
            "_model_name": "LayoutModel",
            "justify_items": null,
            "grid_row": null,
            "max_height": null,
            "align_content": null,
            "visibility": null,
            "align_self": null,
            "height": null,
            "min_height": null,
            "padding": null,
            "grid_auto_rows": null,
            "grid_gap": null,
            "max_width": null,
            "order": null,
            "_view_module_version": "1.2.0",
            "grid_template_areas": null,
            "object_position": null,
            "object_fit": null,
            "grid_auto_columns": null,
            "margin": null,
            "display": null,
            "left": null
          }
        },
        "18d5426e71fe4ea0b8070b3b6c4f0857": {
          "model_module": "@jupyter-widgets/controls",
          "model_name": "DescriptionStyleModel",
          "state": {
            "_view_name": "StyleView",
            "_model_name": "DescriptionStyleModel",
            "description_width": "",
            "_view_module": "@jupyter-widgets/base",
            "_model_module_version": "1.5.0",
            "_view_count": null,
            "_view_module_version": "1.2.0",
            "_model_module": "@jupyter-widgets/controls"
          }
        },
        "f2dbbd38c5a64e9b8c6abd2f1a70d216": {
          "model_module": "@jupyter-widgets/base",
          "model_name": "LayoutModel",
          "state": {
            "_view_name": "LayoutView",
            "grid_template_rows": null,
            "right": null,
            "justify_content": null,
            "_view_module": "@jupyter-widgets/base",
            "overflow": null,
            "_model_module_version": "1.2.0",
            "_view_count": null,
            "flex_flow": null,
            "width": null,
            "min_width": null,
            "border": null,
            "align_items": null,
            "bottom": null,
            "_model_module": "@jupyter-widgets/base",
            "top": null,
            "grid_column": null,
            "overflow_y": null,
            "overflow_x": null,
            "grid_auto_flow": null,
            "grid_area": null,
            "grid_template_columns": null,
            "flex": null,
            "_model_name": "LayoutModel",
            "justify_items": null,
            "grid_row": null,
            "max_height": null,
            "align_content": null,
            "visibility": null,
            "align_self": null,
            "height": null,
            "min_height": null,
            "padding": null,
            "grid_auto_rows": null,
            "grid_gap": null,
            "max_width": null,
            "order": null,
            "_view_module_version": "1.2.0",
            "grid_template_areas": null,
            "object_position": null,
            "object_fit": null,
            "grid_auto_columns": null,
            "margin": null,
            "display": null,
            "left": null
          }
        },
        "75cc23021505402fb8dca956ed7a3041": {
          "model_module": "@jupyter-widgets/controls",
          "model_name": "HBoxModel",
          "state": {
            "_view_name": "HBoxView",
            "_dom_classes": [],
            "_model_name": "HBoxModel",
            "_view_module": "@jupyter-widgets/controls",
            "_model_module_version": "1.5.0",
            "_view_count": null,
            "_view_module_version": "1.5.0",
            "box_style": "",
            "layout": "IPY_MODEL_3a6db8e698834f419754989b738510df",
            "_model_module": "@jupyter-widgets/controls",
            "children": [
              "IPY_MODEL_d188183ed52749e08957c1c81215dadf",
              "IPY_MODEL_a57c1d06b7f84316a4d43840ebaee976"
            ]
          }
        },
        "3a6db8e698834f419754989b738510df": {
          "model_module": "@jupyter-widgets/base",
          "model_name": "LayoutModel",
          "state": {
            "_view_name": "LayoutView",
            "grid_template_rows": null,
            "right": null,
            "justify_content": null,
            "_view_module": "@jupyter-widgets/base",
            "overflow": null,
            "_model_module_version": "1.2.0",
            "_view_count": null,
            "flex_flow": null,
            "width": null,
            "min_width": null,
            "border": null,
            "align_items": null,
            "bottom": null,
            "_model_module": "@jupyter-widgets/base",
            "top": null,
            "grid_column": null,
            "overflow_y": null,
            "overflow_x": null,
            "grid_auto_flow": null,
            "grid_area": null,
            "grid_template_columns": null,
            "flex": null,
            "_model_name": "LayoutModel",
            "justify_items": null,
            "grid_row": null,
            "max_height": null,
            "align_content": null,
            "visibility": null,
            "align_self": null,
            "height": null,
            "min_height": null,
            "padding": null,
            "grid_auto_rows": null,
            "grid_gap": null,
            "max_width": null,
            "order": null,
            "_view_module_version": "1.2.0",
            "grid_template_areas": null,
            "object_position": null,
            "object_fit": null,
            "grid_auto_columns": null,
            "margin": null,
            "display": null,
            "left": null
          }
        },
        "d188183ed52749e08957c1c81215dadf": {
          "model_module": "@jupyter-widgets/controls",
          "model_name": "IntProgressModel",
          "state": {
            "_view_name": "ProgressView",
            "style": "IPY_MODEL_c6b628a669f54892aae31c9deb7b23c3",
            "_dom_classes": [],
            "description": "Eval epoch 5: 100%",
            "_model_name": "IntProgressModel",
            "bar_style": "success",
            "max": 9,
            "_view_module": "@jupyter-widgets/controls",
            "_model_module_version": "1.5.0",
            "value": 9,
            "_view_count": null,
            "_view_module_version": "1.5.0",
            "orientation": "horizontal",
            "min": 0,
            "description_tooltip": null,
            "_model_module": "@jupyter-widgets/controls",
            "layout": "IPY_MODEL_c689e54629fe49809f1694a3b72dc77e"
          }
        },
        "a57c1d06b7f84316a4d43840ebaee976": {
          "model_module": "@jupyter-widgets/controls",
          "model_name": "HTMLModel",
          "state": {
            "_view_name": "HTMLView",
            "style": "IPY_MODEL_9058303b3300490dacacc148c100dab8",
            "_dom_classes": [],
            "description": "",
            "_model_name": "HTMLModel",
            "placeholder": "​",
            "_view_module": "@jupyter-widgets/controls",
            "_model_module_version": "1.5.0",
            "value": " 9/9 [00:01&lt;00:00,  5.25it/s, loss=1.09]",
            "_view_count": null,
            "_view_module_version": "1.5.0",
            "description_tooltip": null,
            "_model_module": "@jupyter-widgets/controls",
            "layout": "IPY_MODEL_a329ff5e6a8c4197b93b4c4dfb1756a5"
          }
        },
        "c6b628a669f54892aae31c9deb7b23c3": {
          "model_module": "@jupyter-widgets/controls",
          "model_name": "ProgressStyleModel",
          "state": {
            "_view_name": "StyleView",
            "_model_name": "ProgressStyleModel",
            "description_width": "initial",
            "_view_module": "@jupyter-widgets/base",
            "_model_module_version": "1.5.0",
            "_view_count": null,
            "_view_module_version": "1.2.0",
            "bar_color": null,
            "_model_module": "@jupyter-widgets/controls"
          }
        },
        "c689e54629fe49809f1694a3b72dc77e": {
          "model_module": "@jupyter-widgets/base",
          "model_name": "LayoutModel",
          "state": {
            "_view_name": "LayoutView",
            "grid_template_rows": null,
            "right": null,
            "justify_content": null,
            "_view_module": "@jupyter-widgets/base",
            "overflow": null,
            "_model_module_version": "1.2.0",
            "_view_count": null,
            "flex_flow": null,
            "width": null,
            "min_width": null,
            "border": null,
            "align_items": null,
            "bottom": null,
            "_model_module": "@jupyter-widgets/base",
            "top": null,
            "grid_column": null,
            "overflow_y": null,
            "overflow_x": null,
            "grid_auto_flow": null,
            "grid_area": null,
            "grid_template_columns": null,
            "flex": null,
            "_model_name": "LayoutModel",
            "justify_items": null,
            "grid_row": null,
            "max_height": null,
            "align_content": null,
            "visibility": null,
            "align_self": null,
            "height": null,
            "min_height": null,
            "padding": null,
            "grid_auto_rows": null,
            "grid_gap": null,
            "max_width": null,
            "order": null,
            "_view_module_version": "1.2.0",
            "grid_template_areas": null,
            "object_position": null,
            "object_fit": null,
            "grid_auto_columns": null,
            "margin": null,
            "display": null,
            "left": null
          }
        },
        "9058303b3300490dacacc148c100dab8": {
          "model_module": "@jupyter-widgets/controls",
          "model_name": "DescriptionStyleModel",
          "state": {
            "_view_name": "StyleView",
            "_model_name": "DescriptionStyleModel",
            "description_width": "",
            "_view_module": "@jupyter-widgets/base",
            "_model_module_version": "1.5.0",
            "_view_count": null,
            "_view_module_version": "1.2.0",
            "_model_module": "@jupyter-widgets/controls"
          }
        },
        "a329ff5e6a8c4197b93b4c4dfb1756a5": {
          "model_module": "@jupyter-widgets/base",
          "model_name": "LayoutModel",
          "state": {
            "_view_name": "LayoutView",
            "grid_template_rows": null,
            "right": null,
            "justify_content": null,
            "_view_module": "@jupyter-widgets/base",
            "overflow": null,
            "_model_module_version": "1.2.0",
            "_view_count": null,
            "flex_flow": null,
            "width": null,
            "min_width": null,
            "border": null,
            "align_items": null,
            "bottom": null,
            "_model_module": "@jupyter-widgets/base",
            "top": null,
            "grid_column": null,
            "overflow_y": null,
            "overflow_x": null,
            "grid_auto_flow": null,
            "grid_area": null,
            "grid_template_columns": null,
            "flex": null,
            "_model_name": "LayoutModel",
            "justify_items": null,
            "grid_row": null,
            "max_height": null,
            "align_content": null,
            "visibility": null,
            "align_self": null,
            "height": null,
            "min_height": null,
            "padding": null,
            "grid_auto_rows": null,
            "grid_gap": null,
            "max_width": null,
            "order": null,
            "_view_module_version": "1.2.0",
            "grid_template_areas": null,
            "object_position": null,
            "object_fit": null,
            "grid_auto_columns": null,
            "margin": null,
            "display": null,
            "left": null
          }
        },
        "7a8938f103b04f638c17ffc46d6c28fd": {
          "model_module": "@jupyter-widgets/controls",
          "model_name": "HBoxModel",
          "state": {
            "_view_name": "HBoxView",
            "_dom_classes": [],
            "_model_name": "HBoxModel",
            "_view_module": "@jupyter-widgets/controls",
            "_model_module_version": "1.5.0",
            "_view_count": null,
            "_view_module_version": "1.5.0",
            "box_style": "",
            "layout": "IPY_MODEL_160cd978dfff47a3b91e42c4eca63853",
            "_model_module": "@jupyter-widgets/controls",
            "children": [
              "IPY_MODEL_8b2a03c8fd4b4a9abf331b91798fa2bb",
              "IPY_MODEL_e3cf35df6c8645fcb5470f9154a096a6"
            ]
          }
        },
        "160cd978dfff47a3b91e42c4eca63853": {
          "model_module": "@jupyter-widgets/base",
          "model_name": "LayoutModel",
          "state": {
            "_view_name": "LayoutView",
            "grid_template_rows": null,
            "right": null,
            "justify_content": null,
            "_view_module": "@jupyter-widgets/base",
            "overflow": null,
            "_model_module_version": "1.2.0",
            "_view_count": null,
            "flex_flow": null,
            "width": null,
            "min_width": null,
            "border": null,
            "align_items": null,
            "bottom": null,
            "_model_module": "@jupyter-widgets/base",
            "top": null,
            "grid_column": null,
            "overflow_y": null,
            "overflow_x": null,
            "grid_auto_flow": null,
            "grid_area": null,
            "grid_template_columns": null,
            "flex": null,
            "_model_name": "LayoutModel",
            "justify_items": null,
            "grid_row": null,
            "max_height": null,
            "align_content": null,
            "visibility": null,
            "align_self": null,
            "height": null,
            "min_height": null,
            "padding": null,
            "grid_auto_rows": null,
            "grid_gap": null,
            "max_width": null,
            "order": null,
            "_view_module_version": "1.2.0",
            "grid_template_areas": null,
            "object_position": null,
            "object_fit": null,
            "grid_auto_columns": null,
            "margin": null,
            "display": null,
            "left": null
          }
        },
        "8b2a03c8fd4b4a9abf331b91798fa2bb": {
          "model_module": "@jupyter-widgets/controls",
          "model_name": "IntProgressModel",
          "state": {
            "_view_name": "ProgressView",
            "style": "IPY_MODEL_0616e0391b2d4d21979cb7cef5b05b82",
            "_dom_classes": [],
            "description": "Test: 100%",
            "_model_name": "IntProgressModel",
            "bar_style": "success",
            "max": 12,
            "_view_module": "@jupyter-widgets/controls",
            "_model_module_version": "1.5.0",
            "value": 12,
            "_view_count": null,
            "_view_module_version": "1.5.0",
            "orientation": "horizontal",
            "min": 0,
            "description_tooltip": null,
            "_model_module": "@jupyter-widgets/controls",
            "layout": "IPY_MODEL_175453413fd2468f9c45271f297bc445"
          }
        },
        "e3cf35df6c8645fcb5470f9154a096a6": {
          "model_module": "@jupyter-widgets/controls",
          "model_name": "HTMLModel",
          "state": {
            "_view_name": "HTMLView",
            "style": "IPY_MODEL_a73d9a0bd5624219bcd848ed386a4bb2",
            "_dom_classes": [],
            "description": "",
            "_model_name": "HTMLModel",
            "placeholder": "​",
            "_view_module": "@jupyter-widgets/controls",
            "_model_module_version": "1.5.0",
            "value": " 12/12 [01:44&lt;00:00,  8.72s/it]",
            "_view_count": null,
            "_view_module_version": "1.5.0",
            "description_tooltip": null,
            "_model_module": "@jupyter-widgets/controls",
            "layout": "IPY_MODEL_d29c65afc42d4ebfb366ba35f78d0c0b"
          }
        },
        "0616e0391b2d4d21979cb7cef5b05b82": {
          "model_module": "@jupyter-widgets/controls",
          "model_name": "ProgressStyleModel",
          "state": {
            "_view_name": "StyleView",
            "_model_name": "ProgressStyleModel",
            "description_width": "initial",
            "_view_module": "@jupyter-widgets/base",
            "_model_module_version": "1.5.0",
            "_view_count": null,
            "_view_module_version": "1.2.0",
            "bar_color": null,
            "_model_module": "@jupyter-widgets/controls"
          }
        },
        "175453413fd2468f9c45271f297bc445": {
          "model_module": "@jupyter-widgets/base",
          "model_name": "LayoutModel",
          "state": {
            "_view_name": "LayoutView",
            "grid_template_rows": null,
            "right": null,
            "justify_content": null,
            "_view_module": "@jupyter-widgets/base",
            "overflow": null,
            "_model_module_version": "1.2.0",
            "_view_count": null,
            "flex_flow": null,
            "width": null,
            "min_width": null,
            "border": null,
            "align_items": null,
            "bottom": null,
            "_model_module": "@jupyter-widgets/base",
            "top": null,
            "grid_column": null,
            "overflow_y": null,
            "overflow_x": null,
            "grid_auto_flow": null,
            "grid_area": null,
            "grid_template_columns": null,
            "flex": null,
            "_model_name": "LayoutModel",
            "justify_items": null,
            "grid_row": null,
            "max_height": null,
            "align_content": null,
            "visibility": null,
            "align_self": null,
            "height": null,
            "min_height": null,
            "padding": null,
            "grid_auto_rows": null,
            "grid_gap": null,
            "max_width": null,
            "order": null,
            "_view_module_version": "1.2.0",
            "grid_template_areas": null,
            "object_position": null,
            "object_fit": null,
            "grid_auto_columns": null,
            "margin": null,
            "display": null,
            "left": null
          }
        },
        "a73d9a0bd5624219bcd848ed386a4bb2": {
          "model_module": "@jupyter-widgets/controls",
          "model_name": "DescriptionStyleModel",
          "state": {
            "_view_name": "StyleView",
            "_model_name": "DescriptionStyleModel",
            "description_width": "",
            "_view_module": "@jupyter-widgets/base",
            "_model_module_version": "1.5.0",
            "_view_count": null,
            "_view_module_version": "1.2.0",
            "_model_module": "@jupyter-widgets/controls"
          }
        },
        "d29c65afc42d4ebfb366ba35f78d0c0b": {
          "model_module": "@jupyter-widgets/base",
          "model_name": "LayoutModel",
          "state": {
            "_view_name": "LayoutView",
            "grid_template_rows": null,
            "right": null,
            "justify_content": null,
            "_view_module": "@jupyter-widgets/base",
            "overflow": null,
            "_model_module_version": "1.2.0",
            "_view_count": null,
            "flex_flow": null,
            "width": null,
            "min_width": null,
            "border": null,
            "align_items": null,
            "bottom": null,
            "_model_module": "@jupyter-widgets/base",
            "top": null,
            "grid_column": null,
            "overflow_y": null,
            "overflow_x": null,
            "grid_auto_flow": null,
            "grid_area": null,
            "grid_template_columns": null,
            "flex": null,
            "_model_name": "LayoutModel",
            "justify_items": null,
            "grid_row": null,
            "max_height": null,
            "align_content": null,
            "visibility": null,
            "align_self": null,
            "height": null,
            "min_height": null,
            "padding": null,
            "grid_auto_rows": null,
            "grid_gap": null,
            "max_width": null,
            "order": null,
            "_view_module_version": "1.2.0",
            "grid_template_areas": null,
            "object_position": null,
            "object_fit": null,
            "grid_auto_columns": null,
            "margin": null,
            "display": null,
            "left": null
          }
        },
        "cd95c10585324b34a967a9ac8cdc9166": {
          "model_module": "@jupyter-widgets/controls",
          "model_name": "HBoxModel",
          "state": {
            "_view_name": "HBoxView",
            "_dom_classes": [],
            "_model_name": "HBoxModel",
            "_view_module": "@jupyter-widgets/controls",
            "_model_module_version": "1.5.0",
            "_view_count": null,
            "_view_module_version": "1.5.0",
            "box_style": "",
            "layout": "IPY_MODEL_e835d81ca17444f5825d945916d57560",
            "_model_module": "@jupyter-widgets/controls",
            "children": [
              "IPY_MODEL_a6976baf83f744369aadc38ad5625793",
              "IPY_MODEL_6b5e445dab2140c3896c2127b6e96218"
            ]
          }
        },
        "e835d81ca17444f5825d945916d57560": {
          "model_module": "@jupyter-widgets/base",
          "model_name": "LayoutModel",
          "state": {
            "_view_name": "LayoutView",
            "grid_template_rows": null,
            "right": null,
            "justify_content": null,
            "_view_module": "@jupyter-widgets/base",
            "overflow": null,
            "_model_module_version": "1.2.0",
            "_view_count": null,
            "flex_flow": null,
            "width": null,
            "min_width": null,
            "border": null,
            "align_items": null,
            "bottom": null,
            "_model_module": "@jupyter-widgets/base",
            "top": null,
            "grid_column": null,
            "overflow_y": null,
            "overflow_x": null,
            "grid_auto_flow": null,
            "grid_area": null,
            "grid_template_columns": null,
            "flex": null,
            "_model_name": "LayoutModel",
            "justify_items": null,
            "grid_row": null,
            "max_height": null,
            "align_content": null,
            "visibility": null,
            "align_self": null,
            "height": null,
            "min_height": null,
            "padding": null,
            "grid_auto_rows": null,
            "grid_gap": null,
            "max_width": null,
            "order": null,
            "_view_module_version": "1.2.0",
            "grid_template_areas": null,
            "object_position": null,
            "object_fit": null,
            "grid_auto_columns": null,
            "margin": null,
            "display": null,
            "left": null
          }
        },
        "a6976baf83f744369aadc38ad5625793": {
          "model_module": "@jupyter-widgets/controls",
          "model_name": "IntProgressModel",
          "state": {
            "_view_name": "ProgressView",
            "style": "IPY_MODEL_c8380f89cfa04059aca533b53b1e7304",
            "_dom_classes": [],
            "description": "Epoch 1: 100%",
            "_model_name": "IntProgressModel",
            "bar_style": "success",
            "max": 39,
            "_view_module": "@jupyter-widgets/controls",
            "_model_module_version": "1.5.0",
            "value": 39,
            "_view_count": null,
            "_view_module_version": "1.5.0",
            "orientation": "horizontal",
            "min": 0,
            "description_tooltip": null,
            "_model_module": "@jupyter-widgets/controls",
            "layout": "IPY_MODEL_0c3c7229fd50457aa43678abe2809923"
          }
        },
        "6b5e445dab2140c3896c2127b6e96218": {
          "model_module": "@jupyter-widgets/controls",
          "model_name": "HTMLModel",
          "state": {
            "_view_name": "HTMLView",
            "style": "IPY_MODEL_65ac6ab94d564f4ea564c7735d21522f",
            "_dom_classes": [],
            "description": "",
            "_model_name": "HTMLModel",
            "placeholder": "​",
            "_view_module": "@jupyter-widgets/controls",
            "_model_module_version": "1.5.0",
            "value": " 39/39 [00:00&lt;00:00, 174.92it/s, loss=0.545]",
            "_view_count": null,
            "_view_module_version": "1.5.0",
            "description_tooltip": null,
            "_model_module": "@jupyter-widgets/controls",
            "layout": "IPY_MODEL_6b1ae380af8541eb9e71464f5385c5bf"
          }
        },
        "c8380f89cfa04059aca533b53b1e7304": {
          "model_module": "@jupyter-widgets/controls",
          "model_name": "ProgressStyleModel",
          "state": {
            "_view_name": "StyleView",
            "_model_name": "ProgressStyleModel",
            "description_width": "initial",
            "_view_module": "@jupyter-widgets/base",
            "_model_module_version": "1.5.0",
            "_view_count": null,
            "_view_module_version": "1.2.0",
            "bar_color": null,
            "_model_module": "@jupyter-widgets/controls"
          }
        },
        "0c3c7229fd50457aa43678abe2809923": {
          "model_module": "@jupyter-widgets/base",
          "model_name": "LayoutModel",
          "state": {
            "_view_name": "LayoutView",
            "grid_template_rows": null,
            "right": null,
            "justify_content": null,
            "_view_module": "@jupyter-widgets/base",
            "overflow": null,
            "_model_module_version": "1.2.0",
            "_view_count": null,
            "flex_flow": null,
            "width": null,
            "min_width": null,
            "border": null,
            "align_items": null,
            "bottom": null,
            "_model_module": "@jupyter-widgets/base",
            "top": null,
            "grid_column": null,
            "overflow_y": null,
            "overflow_x": null,
            "grid_auto_flow": null,
            "grid_area": null,
            "grid_template_columns": null,
            "flex": null,
            "_model_name": "LayoutModel",
            "justify_items": null,
            "grid_row": null,
            "max_height": null,
            "align_content": null,
            "visibility": null,
            "align_self": null,
            "height": null,
            "min_height": null,
            "padding": null,
            "grid_auto_rows": null,
            "grid_gap": null,
            "max_width": null,
            "order": null,
            "_view_module_version": "1.2.0",
            "grid_template_areas": null,
            "object_position": null,
            "object_fit": null,
            "grid_auto_columns": null,
            "margin": null,
            "display": null,
            "left": null
          }
        },
        "65ac6ab94d564f4ea564c7735d21522f": {
          "model_module": "@jupyter-widgets/controls",
          "model_name": "DescriptionStyleModel",
          "state": {
            "_view_name": "StyleView",
            "_model_name": "DescriptionStyleModel",
            "description_width": "",
            "_view_module": "@jupyter-widgets/base",
            "_model_module_version": "1.5.0",
            "_view_count": null,
            "_view_module_version": "1.2.0",
            "_model_module": "@jupyter-widgets/controls"
          }
        },
        "6b1ae380af8541eb9e71464f5385c5bf": {
          "model_module": "@jupyter-widgets/base",
          "model_name": "LayoutModel",
          "state": {
            "_view_name": "LayoutView",
            "grid_template_rows": null,
            "right": null,
            "justify_content": null,
            "_view_module": "@jupyter-widgets/base",
            "overflow": null,
            "_model_module_version": "1.2.0",
            "_view_count": null,
            "flex_flow": null,
            "width": null,
            "min_width": null,
            "border": null,
            "align_items": null,
            "bottom": null,
            "_model_module": "@jupyter-widgets/base",
            "top": null,
            "grid_column": null,
            "overflow_y": null,
            "overflow_x": null,
            "grid_auto_flow": null,
            "grid_area": null,
            "grid_template_columns": null,
            "flex": null,
            "_model_name": "LayoutModel",
            "justify_items": null,
            "grid_row": null,
            "max_height": null,
            "align_content": null,
            "visibility": null,
            "align_self": null,
            "height": null,
            "min_height": null,
            "padding": null,
            "grid_auto_rows": null,
            "grid_gap": null,
            "max_width": null,
            "order": null,
            "_view_module_version": "1.2.0",
            "grid_template_areas": null,
            "object_position": null,
            "object_fit": null,
            "grid_auto_columns": null,
            "margin": null,
            "display": null,
            "left": null
          }
        },
        "159b440b39644fdbbfc9cda716411494": {
          "model_module": "@jupyter-widgets/controls",
          "model_name": "HBoxModel",
          "state": {
            "_view_name": "HBoxView",
            "_dom_classes": [],
            "_model_name": "HBoxModel",
            "_view_module": "@jupyter-widgets/controls",
            "_model_module_version": "1.5.0",
            "_view_count": null,
            "_view_module_version": "1.5.0",
            "box_style": "",
            "layout": "IPY_MODEL_f155bf3801c34c30b605be25322f888f",
            "_model_module": "@jupyter-widgets/controls",
            "children": [
              "IPY_MODEL_b7f1e99387474f2a8a0b173650cdf665",
              "IPY_MODEL_cd8162514e3b48cbb1111d22a6943bfa"
            ]
          }
        },
        "f155bf3801c34c30b605be25322f888f": {
          "model_module": "@jupyter-widgets/base",
          "model_name": "LayoutModel",
          "state": {
            "_view_name": "LayoutView",
            "grid_template_rows": null,
            "right": null,
            "justify_content": null,
            "_view_module": "@jupyter-widgets/base",
            "overflow": null,
            "_model_module_version": "1.2.0",
            "_view_count": null,
            "flex_flow": null,
            "width": null,
            "min_width": null,
            "border": null,
            "align_items": null,
            "bottom": null,
            "_model_module": "@jupyter-widgets/base",
            "top": null,
            "grid_column": null,
            "overflow_y": null,
            "overflow_x": null,
            "grid_auto_flow": null,
            "grid_area": null,
            "grid_template_columns": null,
            "flex": null,
            "_model_name": "LayoutModel",
            "justify_items": null,
            "grid_row": null,
            "max_height": null,
            "align_content": null,
            "visibility": null,
            "align_self": null,
            "height": null,
            "min_height": null,
            "padding": null,
            "grid_auto_rows": null,
            "grid_gap": null,
            "max_width": null,
            "order": null,
            "_view_module_version": "1.2.0",
            "grid_template_areas": null,
            "object_position": null,
            "object_fit": null,
            "grid_auto_columns": null,
            "margin": null,
            "display": null,
            "left": null
          }
        },
        "b7f1e99387474f2a8a0b173650cdf665": {
          "model_module": "@jupyter-widgets/controls",
          "model_name": "IntProgressModel",
          "state": {
            "_view_name": "ProgressView",
            "style": "IPY_MODEL_6ca829c4cb1b428bae1d51ad4b0995b5",
            "_dom_classes": [],
            "description": "Eval epoch 1: 100%",
            "_model_name": "IntProgressModel",
            "bar_style": "success",
            "max": 9,
            "_view_module": "@jupyter-widgets/controls",
            "_model_module_version": "1.5.0",
            "value": 9,
            "_view_count": null,
            "_view_module_version": "1.5.0",
            "orientation": "horizontal",
            "min": 0,
            "description_tooltip": null,
            "_model_module": "@jupyter-widgets/controls",
            "layout": "IPY_MODEL_e4285ce2991b4d4db61067008656ba5e"
          }
        },
        "cd8162514e3b48cbb1111d22a6943bfa": {
          "model_module": "@jupyter-widgets/controls",
          "model_name": "HTMLModel",
          "state": {
            "_view_name": "HTMLView",
            "style": "IPY_MODEL_b8d2f29b5f94442c8640e8b3c83e4291",
            "_dom_classes": [],
            "description": "",
            "_model_name": "HTMLModel",
            "placeholder": "​",
            "_view_module": "@jupyter-widgets/controls",
            "_model_module_version": "1.5.0",
            "value": " 9/9 [00:00&lt;00:00, 183.94it/s, loss=0.552]",
            "_view_count": null,
            "_view_module_version": "1.5.0",
            "description_tooltip": null,
            "_model_module": "@jupyter-widgets/controls",
            "layout": "IPY_MODEL_6b634153b17345c6a435eeb8a55c9166"
          }
        },
        "6ca829c4cb1b428bae1d51ad4b0995b5": {
          "model_module": "@jupyter-widgets/controls",
          "model_name": "ProgressStyleModel",
          "state": {
            "_view_name": "StyleView",
            "_model_name": "ProgressStyleModel",
            "description_width": "initial",
            "_view_module": "@jupyter-widgets/base",
            "_model_module_version": "1.5.0",
            "_view_count": null,
            "_view_module_version": "1.2.0",
            "bar_color": null,
            "_model_module": "@jupyter-widgets/controls"
          }
        },
        "e4285ce2991b4d4db61067008656ba5e": {
          "model_module": "@jupyter-widgets/base",
          "model_name": "LayoutModel",
          "state": {
            "_view_name": "LayoutView",
            "grid_template_rows": null,
            "right": null,
            "justify_content": null,
            "_view_module": "@jupyter-widgets/base",
            "overflow": null,
            "_model_module_version": "1.2.0",
            "_view_count": null,
            "flex_flow": null,
            "width": null,
            "min_width": null,
            "border": null,
            "align_items": null,
            "bottom": null,
            "_model_module": "@jupyter-widgets/base",
            "top": null,
            "grid_column": null,
            "overflow_y": null,
            "overflow_x": null,
            "grid_auto_flow": null,
            "grid_area": null,
            "grid_template_columns": null,
            "flex": null,
            "_model_name": "LayoutModel",
            "justify_items": null,
            "grid_row": null,
            "max_height": null,
            "align_content": null,
            "visibility": null,
            "align_self": null,
            "height": null,
            "min_height": null,
            "padding": null,
            "grid_auto_rows": null,
            "grid_gap": null,
            "max_width": null,
            "order": null,
            "_view_module_version": "1.2.0",
            "grid_template_areas": null,
            "object_position": null,
            "object_fit": null,
            "grid_auto_columns": null,
            "margin": null,
            "display": null,
            "left": null
          }
        },
        "b8d2f29b5f94442c8640e8b3c83e4291": {
          "model_module": "@jupyter-widgets/controls",
          "model_name": "DescriptionStyleModel",
          "state": {
            "_view_name": "StyleView",
            "_model_name": "DescriptionStyleModel",
            "description_width": "",
            "_view_module": "@jupyter-widgets/base",
            "_model_module_version": "1.5.0",
            "_view_count": null,
            "_view_module_version": "1.2.0",
            "_model_module": "@jupyter-widgets/controls"
          }
        },
        "6b634153b17345c6a435eeb8a55c9166": {
          "model_module": "@jupyter-widgets/base",
          "model_name": "LayoutModel",
          "state": {
            "_view_name": "LayoutView",
            "grid_template_rows": null,
            "right": null,
            "justify_content": null,
            "_view_module": "@jupyter-widgets/base",
            "overflow": null,
            "_model_module_version": "1.2.0",
            "_view_count": null,
            "flex_flow": null,
            "width": null,
            "min_width": null,
            "border": null,
            "align_items": null,
            "bottom": null,
            "_model_module": "@jupyter-widgets/base",
            "top": null,
            "grid_column": null,
            "overflow_y": null,
            "overflow_x": null,
            "grid_auto_flow": null,
            "grid_area": null,
            "grid_template_columns": null,
            "flex": null,
            "_model_name": "LayoutModel",
            "justify_items": null,
            "grid_row": null,
            "max_height": null,
            "align_content": null,
            "visibility": null,
            "align_self": null,
            "height": null,
            "min_height": null,
            "padding": null,
            "grid_auto_rows": null,
            "grid_gap": null,
            "max_width": null,
            "order": null,
            "_view_module_version": "1.2.0",
            "grid_template_areas": null,
            "object_position": null,
            "object_fit": null,
            "grid_auto_columns": null,
            "margin": null,
            "display": null,
            "left": null
          }
        },
        "87ee745f0b274735a1337e910c927b1d": {
          "model_module": "@jupyter-widgets/controls",
          "model_name": "HBoxModel",
          "state": {
            "_view_name": "HBoxView",
            "_dom_classes": [],
            "_model_name": "HBoxModel",
            "_view_module": "@jupyter-widgets/controls",
            "_model_module_version": "1.5.0",
            "_view_count": null,
            "_view_module_version": "1.5.0",
            "box_style": "",
            "layout": "IPY_MODEL_85db99dd9b214b2695679136325a806a",
            "_model_module": "@jupyter-widgets/controls",
            "children": [
              "IPY_MODEL_53f62c5d473e435d87c0959c5433b61a",
              "IPY_MODEL_ece2c289b7cb4faa9b32ae169a882592"
            ]
          }
        },
        "85db99dd9b214b2695679136325a806a": {
          "model_module": "@jupyter-widgets/base",
          "model_name": "LayoutModel",
          "state": {
            "_view_name": "LayoutView",
            "grid_template_rows": null,
            "right": null,
            "justify_content": null,
            "_view_module": "@jupyter-widgets/base",
            "overflow": null,
            "_model_module_version": "1.2.0",
            "_view_count": null,
            "flex_flow": null,
            "width": null,
            "min_width": null,
            "border": null,
            "align_items": null,
            "bottom": null,
            "_model_module": "@jupyter-widgets/base",
            "top": null,
            "grid_column": null,
            "overflow_y": null,
            "overflow_x": null,
            "grid_auto_flow": null,
            "grid_area": null,
            "grid_template_columns": null,
            "flex": null,
            "_model_name": "LayoutModel",
            "justify_items": null,
            "grid_row": null,
            "max_height": null,
            "align_content": null,
            "visibility": null,
            "align_self": null,
            "height": null,
            "min_height": null,
            "padding": null,
            "grid_auto_rows": null,
            "grid_gap": null,
            "max_width": null,
            "order": null,
            "_view_module_version": "1.2.0",
            "grid_template_areas": null,
            "object_position": null,
            "object_fit": null,
            "grid_auto_columns": null,
            "margin": null,
            "display": null,
            "left": null
          }
        },
        "53f62c5d473e435d87c0959c5433b61a": {
          "model_module": "@jupyter-widgets/controls",
          "model_name": "IntProgressModel",
          "state": {
            "_view_name": "ProgressView",
            "style": "IPY_MODEL_70141d38d74d4ec8a6c90cfb259fc4b9",
            "_dom_classes": [],
            "description": "Epoch 2: 100%",
            "_model_name": "IntProgressModel",
            "bar_style": "success",
            "max": 39,
            "_view_module": "@jupyter-widgets/controls",
            "_model_module_version": "1.5.0",
            "value": 39,
            "_view_count": null,
            "_view_module_version": "1.5.0",
            "orientation": "horizontal",
            "min": 0,
            "description_tooltip": null,
            "_model_module": "@jupyter-widgets/controls",
            "layout": "IPY_MODEL_1336876c732746119acf2c638e9e8b03"
          }
        },
        "ece2c289b7cb4faa9b32ae169a882592": {
          "model_module": "@jupyter-widgets/controls",
          "model_name": "HTMLModel",
          "state": {
            "_view_name": "HTMLView",
            "style": "IPY_MODEL_2014c6de96c64e359ef169b6eb43a091",
            "_dom_classes": [],
            "description": "",
            "_model_name": "HTMLModel",
            "placeholder": "​",
            "_view_module": "@jupyter-widgets/controls",
            "_model_module_version": "1.5.0",
            "value": " 39/39 [00:10&lt;00:00,  3.75it/s, loss=0.905]",
            "_view_count": null,
            "_view_module_version": "1.5.0",
            "description_tooltip": null,
            "_model_module": "@jupyter-widgets/controls",
            "layout": "IPY_MODEL_53f9cecb22684782bab3a8cad2910b2d"
          }
        },
        "70141d38d74d4ec8a6c90cfb259fc4b9": {
          "model_module": "@jupyter-widgets/controls",
          "model_name": "ProgressStyleModel",
          "state": {
            "_view_name": "StyleView",
            "_model_name": "ProgressStyleModel",
            "description_width": "initial",
            "_view_module": "@jupyter-widgets/base",
            "_model_module_version": "1.5.0",
            "_view_count": null,
            "_view_module_version": "1.2.0",
            "bar_color": null,
            "_model_module": "@jupyter-widgets/controls"
          }
        },
        "1336876c732746119acf2c638e9e8b03": {
          "model_module": "@jupyter-widgets/base",
          "model_name": "LayoutModel",
          "state": {
            "_view_name": "LayoutView",
            "grid_template_rows": null,
            "right": null,
            "justify_content": null,
            "_view_module": "@jupyter-widgets/base",
            "overflow": null,
            "_model_module_version": "1.2.0",
            "_view_count": null,
            "flex_flow": null,
            "width": null,
            "min_width": null,
            "border": null,
            "align_items": null,
            "bottom": null,
            "_model_module": "@jupyter-widgets/base",
            "top": null,
            "grid_column": null,
            "overflow_y": null,
            "overflow_x": null,
            "grid_auto_flow": null,
            "grid_area": null,
            "grid_template_columns": null,
            "flex": null,
            "_model_name": "LayoutModel",
            "justify_items": null,
            "grid_row": null,
            "max_height": null,
            "align_content": null,
            "visibility": null,
            "align_self": null,
            "height": null,
            "min_height": null,
            "padding": null,
            "grid_auto_rows": null,
            "grid_gap": null,
            "max_width": null,
            "order": null,
            "_view_module_version": "1.2.0",
            "grid_template_areas": null,
            "object_position": null,
            "object_fit": null,
            "grid_auto_columns": null,
            "margin": null,
            "display": null,
            "left": null
          }
        },
        "2014c6de96c64e359ef169b6eb43a091": {
          "model_module": "@jupyter-widgets/controls",
          "model_name": "DescriptionStyleModel",
          "state": {
            "_view_name": "StyleView",
            "_model_name": "DescriptionStyleModel",
            "description_width": "",
            "_view_module": "@jupyter-widgets/base",
            "_model_module_version": "1.5.0",
            "_view_count": null,
            "_view_module_version": "1.2.0",
            "_model_module": "@jupyter-widgets/controls"
          }
        },
        "53f9cecb22684782bab3a8cad2910b2d": {
          "model_module": "@jupyter-widgets/base",
          "model_name": "LayoutModel",
          "state": {
            "_view_name": "LayoutView",
            "grid_template_rows": null,
            "right": null,
            "justify_content": null,
            "_view_module": "@jupyter-widgets/base",
            "overflow": null,
            "_model_module_version": "1.2.0",
            "_view_count": null,
            "flex_flow": null,
            "width": null,
            "min_width": null,
            "border": null,
            "align_items": null,
            "bottom": null,
            "_model_module": "@jupyter-widgets/base",
            "top": null,
            "grid_column": null,
            "overflow_y": null,
            "overflow_x": null,
            "grid_auto_flow": null,
            "grid_area": null,
            "grid_template_columns": null,
            "flex": null,
            "_model_name": "LayoutModel",
            "justify_items": null,
            "grid_row": null,
            "max_height": null,
            "align_content": null,
            "visibility": null,
            "align_self": null,
            "height": null,
            "min_height": null,
            "padding": null,
            "grid_auto_rows": null,
            "grid_gap": null,
            "max_width": null,
            "order": null,
            "_view_module_version": "1.2.0",
            "grid_template_areas": null,
            "object_position": null,
            "object_fit": null,
            "grid_auto_columns": null,
            "margin": null,
            "display": null,
            "left": null
          }
        },
        "69d2f066ab224fff8ed40a7c3001a322": {
          "model_module": "@jupyter-widgets/controls",
          "model_name": "HBoxModel",
          "state": {
            "_view_name": "HBoxView",
            "_dom_classes": [],
            "_model_name": "HBoxModel",
            "_view_module": "@jupyter-widgets/controls",
            "_model_module_version": "1.5.0",
            "_view_count": null,
            "_view_module_version": "1.5.0",
            "box_style": "",
            "layout": "IPY_MODEL_65f3cbb1d4084937ad397776044a9e4f",
            "_model_module": "@jupyter-widgets/controls",
            "children": [
              "IPY_MODEL_c9d15ca02ebe42f7b8fd6319df9c7d61",
              "IPY_MODEL_758bfb1032a84bfb966eb0a5061287e6"
            ]
          }
        },
        "65f3cbb1d4084937ad397776044a9e4f": {
          "model_module": "@jupyter-widgets/base",
          "model_name": "LayoutModel",
          "state": {
            "_view_name": "LayoutView",
            "grid_template_rows": null,
            "right": null,
            "justify_content": null,
            "_view_module": "@jupyter-widgets/base",
            "overflow": null,
            "_model_module_version": "1.2.0",
            "_view_count": null,
            "flex_flow": null,
            "width": null,
            "min_width": null,
            "border": null,
            "align_items": null,
            "bottom": null,
            "_model_module": "@jupyter-widgets/base",
            "top": null,
            "grid_column": null,
            "overflow_y": null,
            "overflow_x": null,
            "grid_auto_flow": null,
            "grid_area": null,
            "grid_template_columns": null,
            "flex": null,
            "_model_name": "LayoutModel",
            "justify_items": null,
            "grid_row": null,
            "max_height": null,
            "align_content": null,
            "visibility": null,
            "align_self": null,
            "height": null,
            "min_height": null,
            "padding": null,
            "grid_auto_rows": null,
            "grid_gap": null,
            "max_width": null,
            "order": null,
            "_view_module_version": "1.2.0",
            "grid_template_areas": null,
            "object_position": null,
            "object_fit": null,
            "grid_auto_columns": null,
            "margin": null,
            "display": null,
            "left": null
          }
        },
        "c9d15ca02ebe42f7b8fd6319df9c7d61": {
          "model_module": "@jupyter-widgets/controls",
          "model_name": "IntProgressModel",
          "state": {
            "_view_name": "ProgressView",
            "style": "IPY_MODEL_7a3a60c6b85a4d4c8d4702d93157b00c",
            "_dom_classes": [],
            "description": "Eval epoch 2: 100%",
            "_model_name": "IntProgressModel",
            "bar_style": "success",
            "max": 9,
            "_view_module": "@jupyter-widgets/controls",
            "_model_module_version": "1.5.0",
            "value": 9,
            "_view_count": null,
            "_view_module_version": "1.5.0",
            "orientation": "horizontal",
            "min": 0,
            "description_tooltip": null,
            "_model_module": "@jupyter-widgets/controls",
            "layout": "IPY_MODEL_af5eccaa93234261816559caba691c44"
          }
        },
        "758bfb1032a84bfb966eb0a5061287e6": {
          "model_module": "@jupyter-widgets/controls",
          "model_name": "HTMLModel",
          "state": {
            "_view_name": "HTMLView",
            "style": "IPY_MODEL_a6b12a0f7f0549be99d4f1022fab06aa",
            "_dom_classes": [],
            "description": "",
            "_model_name": "HTMLModel",
            "placeholder": "​",
            "_view_module": "@jupyter-widgets/controls",
            "_model_module_version": "1.5.0",
            "value": " 9/9 [00:00&lt;00:00, 23.17it/s, loss=0.521]",
            "_view_count": null,
            "_view_module_version": "1.5.0",
            "description_tooltip": null,
            "_model_module": "@jupyter-widgets/controls",
            "layout": "IPY_MODEL_fcd83fda73374e4a856f8f191cba67d0"
          }
        },
        "7a3a60c6b85a4d4c8d4702d93157b00c": {
          "model_module": "@jupyter-widgets/controls",
          "model_name": "ProgressStyleModel",
          "state": {
            "_view_name": "StyleView",
            "_model_name": "ProgressStyleModel",
            "description_width": "initial",
            "_view_module": "@jupyter-widgets/base",
            "_model_module_version": "1.5.0",
            "_view_count": null,
            "_view_module_version": "1.2.0",
            "bar_color": null,
            "_model_module": "@jupyter-widgets/controls"
          }
        },
        "af5eccaa93234261816559caba691c44": {
          "model_module": "@jupyter-widgets/base",
          "model_name": "LayoutModel",
          "state": {
            "_view_name": "LayoutView",
            "grid_template_rows": null,
            "right": null,
            "justify_content": null,
            "_view_module": "@jupyter-widgets/base",
            "overflow": null,
            "_model_module_version": "1.2.0",
            "_view_count": null,
            "flex_flow": null,
            "width": null,
            "min_width": null,
            "border": null,
            "align_items": null,
            "bottom": null,
            "_model_module": "@jupyter-widgets/base",
            "top": null,
            "grid_column": null,
            "overflow_y": null,
            "overflow_x": null,
            "grid_auto_flow": null,
            "grid_area": null,
            "grid_template_columns": null,
            "flex": null,
            "_model_name": "LayoutModel",
            "justify_items": null,
            "grid_row": null,
            "max_height": null,
            "align_content": null,
            "visibility": null,
            "align_self": null,
            "height": null,
            "min_height": null,
            "padding": null,
            "grid_auto_rows": null,
            "grid_gap": null,
            "max_width": null,
            "order": null,
            "_view_module_version": "1.2.0",
            "grid_template_areas": null,
            "object_position": null,
            "object_fit": null,
            "grid_auto_columns": null,
            "margin": null,
            "display": null,
            "left": null
          }
        },
        "a6b12a0f7f0549be99d4f1022fab06aa": {
          "model_module": "@jupyter-widgets/controls",
          "model_name": "DescriptionStyleModel",
          "state": {
            "_view_name": "StyleView",
            "_model_name": "DescriptionStyleModel",
            "description_width": "",
            "_view_module": "@jupyter-widgets/base",
            "_model_module_version": "1.5.0",
            "_view_count": null,
            "_view_module_version": "1.2.0",
            "_model_module": "@jupyter-widgets/controls"
          }
        },
        "fcd83fda73374e4a856f8f191cba67d0": {
          "model_module": "@jupyter-widgets/base",
          "model_name": "LayoutModel",
          "state": {
            "_view_name": "LayoutView",
            "grid_template_rows": null,
            "right": null,
            "justify_content": null,
            "_view_module": "@jupyter-widgets/base",
            "overflow": null,
            "_model_module_version": "1.2.0",
            "_view_count": null,
            "flex_flow": null,
            "width": null,
            "min_width": null,
            "border": null,
            "align_items": null,
            "bottom": null,
            "_model_module": "@jupyter-widgets/base",
            "top": null,
            "grid_column": null,
            "overflow_y": null,
            "overflow_x": null,
            "grid_auto_flow": null,
            "grid_area": null,
            "grid_template_columns": null,
            "flex": null,
            "_model_name": "LayoutModel",
            "justify_items": null,
            "grid_row": null,
            "max_height": null,
            "align_content": null,
            "visibility": null,
            "align_self": null,
            "height": null,
            "min_height": null,
            "padding": null,
            "grid_auto_rows": null,
            "grid_gap": null,
            "max_width": null,
            "order": null,
            "_view_module_version": "1.2.0",
            "grid_template_areas": null,
            "object_position": null,
            "object_fit": null,
            "grid_auto_columns": null,
            "margin": null,
            "display": null,
            "left": null
          }
        },
        "0d72d632ac15475788add239cb22ccf0": {
          "model_module": "@jupyter-widgets/controls",
          "model_name": "HBoxModel",
          "state": {
            "_view_name": "HBoxView",
            "_dom_classes": [],
            "_model_name": "HBoxModel",
            "_view_module": "@jupyter-widgets/controls",
            "_model_module_version": "1.5.0",
            "_view_count": null,
            "_view_module_version": "1.5.0",
            "box_style": "",
            "layout": "IPY_MODEL_b2169d36638a407f94d6997664fe9a79",
            "_model_module": "@jupyter-widgets/controls",
            "children": [
              "IPY_MODEL_b1abe9edc2d5419a9d27f9c38f725a13",
              "IPY_MODEL_5505acd1abee4214be7eb30d2f61b201"
            ]
          }
        },
        "b2169d36638a407f94d6997664fe9a79": {
          "model_module": "@jupyter-widgets/base",
          "model_name": "LayoutModel",
          "state": {
            "_view_name": "LayoutView",
            "grid_template_rows": null,
            "right": null,
            "justify_content": null,
            "_view_module": "@jupyter-widgets/base",
            "overflow": null,
            "_model_module_version": "1.2.0",
            "_view_count": null,
            "flex_flow": null,
            "width": null,
            "min_width": null,
            "border": null,
            "align_items": null,
            "bottom": null,
            "_model_module": "@jupyter-widgets/base",
            "top": null,
            "grid_column": null,
            "overflow_y": null,
            "overflow_x": null,
            "grid_auto_flow": null,
            "grid_area": null,
            "grid_template_columns": null,
            "flex": null,
            "_model_name": "LayoutModel",
            "justify_items": null,
            "grid_row": null,
            "max_height": null,
            "align_content": null,
            "visibility": null,
            "align_self": null,
            "height": null,
            "min_height": null,
            "padding": null,
            "grid_auto_rows": null,
            "grid_gap": null,
            "max_width": null,
            "order": null,
            "_view_module_version": "1.2.0",
            "grid_template_areas": null,
            "object_position": null,
            "object_fit": null,
            "grid_auto_columns": null,
            "margin": null,
            "display": null,
            "left": null
          }
        },
        "b1abe9edc2d5419a9d27f9c38f725a13": {
          "model_module": "@jupyter-widgets/controls",
          "model_name": "IntProgressModel",
          "state": {
            "_view_name": "ProgressView",
            "style": "IPY_MODEL_8b00bb410e7941c096296b3de14f07d1",
            "_dom_classes": [],
            "description": "Epoch 3: 100%",
            "_model_name": "IntProgressModel",
            "bar_style": "success",
            "max": 39,
            "_view_module": "@jupyter-widgets/controls",
            "_model_module_version": "1.5.0",
            "value": 39,
            "_view_count": null,
            "_view_module_version": "1.5.0",
            "orientation": "horizontal",
            "min": 0,
            "description_tooltip": null,
            "_model_module": "@jupyter-widgets/controls",
            "layout": "IPY_MODEL_8f97cb059853478da4bcdfbe0cf78407"
          }
        },
        "5505acd1abee4214be7eb30d2f61b201": {
          "model_module": "@jupyter-widgets/controls",
          "model_name": "HTMLModel",
          "state": {
            "_view_name": "HTMLView",
            "style": "IPY_MODEL_ebaaac424d7c472280f75cda97c09d0e",
            "_dom_classes": [],
            "description": "",
            "_model_name": "HTMLModel",
            "placeholder": "​",
            "_view_module": "@jupyter-widgets/controls",
            "_model_module_version": "1.5.0",
            "value": " 39/39 [00:00&lt;00:00, 112.81it/s, loss=0.512]",
            "_view_count": null,
            "_view_module_version": "1.5.0",
            "description_tooltip": null,
            "_model_module": "@jupyter-widgets/controls",
            "layout": "IPY_MODEL_8b1bbfa522ec4060ab5edfc90e43f377"
          }
        },
        "8b00bb410e7941c096296b3de14f07d1": {
          "model_module": "@jupyter-widgets/controls",
          "model_name": "ProgressStyleModel",
          "state": {
            "_view_name": "StyleView",
            "_model_name": "ProgressStyleModel",
            "description_width": "initial",
            "_view_module": "@jupyter-widgets/base",
            "_model_module_version": "1.5.0",
            "_view_count": null,
            "_view_module_version": "1.2.0",
            "bar_color": null,
            "_model_module": "@jupyter-widgets/controls"
          }
        },
        "8f97cb059853478da4bcdfbe0cf78407": {
          "model_module": "@jupyter-widgets/base",
          "model_name": "LayoutModel",
          "state": {
            "_view_name": "LayoutView",
            "grid_template_rows": null,
            "right": null,
            "justify_content": null,
            "_view_module": "@jupyter-widgets/base",
            "overflow": null,
            "_model_module_version": "1.2.0",
            "_view_count": null,
            "flex_flow": null,
            "width": null,
            "min_width": null,
            "border": null,
            "align_items": null,
            "bottom": null,
            "_model_module": "@jupyter-widgets/base",
            "top": null,
            "grid_column": null,
            "overflow_y": null,
            "overflow_x": null,
            "grid_auto_flow": null,
            "grid_area": null,
            "grid_template_columns": null,
            "flex": null,
            "_model_name": "LayoutModel",
            "justify_items": null,
            "grid_row": null,
            "max_height": null,
            "align_content": null,
            "visibility": null,
            "align_self": null,
            "height": null,
            "min_height": null,
            "padding": null,
            "grid_auto_rows": null,
            "grid_gap": null,
            "max_width": null,
            "order": null,
            "_view_module_version": "1.2.0",
            "grid_template_areas": null,
            "object_position": null,
            "object_fit": null,
            "grid_auto_columns": null,
            "margin": null,
            "display": null,
            "left": null
          }
        },
        "ebaaac424d7c472280f75cda97c09d0e": {
          "model_module": "@jupyter-widgets/controls",
          "model_name": "DescriptionStyleModel",
          "state": {
            "_view_name": "StyleView",
            "_model_name": "DescriptionStyleModel",
            "description_width": "",
            "_view_module": "@jupyter-widgets/base",
            "_model_module_version": "1.5.0",
            "_view_count": null,
            "_view_module_version": "1.2.0",
            "_model_module": "@jupyter-widgets/controls"
          }
        },
        "8b1bbfa522ec4060ab5edfc90e43f377": {
          "model_module": "@jupyter-widgets/base",
          "model_name": "LayoutModel",
          "state": {
            "_view_name": "LayoutView",
            "grid_template_rows": null,
            "right": null,
            "justify_content": null,
            "_view_module": "@jupyter-widgets/base",
            "overflow": null,
            "_model_module_version": "1.2.0",
            "_view_count": null,
            "flex_flow": null,
            "width": null,
            "min_width": null,
            "border": null,
            "align_items": null,
            "bottom": null,
            "_model_module": "@jupyter-widgets/base",
            "top": null,
            "grid_column": null,
            "overflow_y": null,
            "overflow_x": null,
            "grid_auto_flow": null,
            "grid_area": null,
            "grid_template_columns": null,
            "flex": null,
            "_model_name": "LayoutModel",
            "justify_items": null,
            "grid_row": null,
            "max_height": null,
            "align_content": null,
            "visibility": null,
            "align_self": null,
            "height": null,
            "min_height": null,
            "padding": null,
            "grid_auto_rows": null,
            "grid_gap": null,
            "max_width": null,
            "order": null,
            "_view_module_version": "1.2.0",
            "grid_template_areas": null,
            "object_position": null,
            "object_fit": null,
            "grid_auto_columns": null,
            "margin": null,
            "display": null,
            "left": null
          }
        },
        "e8d0959c5cf14965a8a722b14603c11a": {
          "model_module": "@jupyter-widgets/controls",
          "model_name": "HBoxModel",
          "state": {
            "_view_name": "HBoxView",
            "_dom_classes": [],
            "_model_name": "HBoxModel",
            "_view_module": "@jupyter-widgets/controls",
            "_model_module_version": "1.5.0",
            "_view_count": null,
            "_view_module_version": "1.5.0",
            "box_style": "",
            "layout": "IPY_MODEL_55b3bedf78b74f8fb0b3cbb16189e64a",
            "_model_module": "@jupyter-widgets/controls",
            "children": [
              "IPY_MODEL_91757899a8944cbca7f680e45a17c7cb",
              "IPY_MODEL_9b320f38ff3f43498eb4c1861c82b8f9"
            ]
          }
        },
        "55b3bedf78b74f8fb0b3cbb16189e64a": {
          "model_module": "@jupyter-widgets/base",
          "model_name": "LayoutModel",
          "state": {
            "_view_name": "LayoutView",
            "grid_template_rows": null,
            "right": null,
            "justify_content": null,
            "_view_module": "@jupyter-widgets/base",
            "overflow": null,
            "_model_module_version": "1.2.0",
            "_view_count": null,
            "flex_flow": null,
            "width": null,
            "min_width": null,
            "border": null,
            "align_items": null,
            "bottom": null,
            "_model_module": "@jupyter-widgets/base",
            "top": null,
            "grid_column": null,
            "overflow_y": null,
            "overflow_x": null,
            "grid_auto_flow": null,
            "grid_area": null,
            "grid_template_columns": null,
            "flex": null,
            "_model_name": "LayoutModel",
            "justify_items": null,
            "grid_row": null,
            "max_height": null,
            "align_content": null,
            "visibility": null,
            "align_self": null,
            "height": null,
            "min_height": null,
            "padding": null,
            "grid_auto_rows": null,
            "grid_gap": null,
            "max_width": null,
            "order": null,
            "_view_module_version": "1.2.0",
            "grid_template_areas": null,
            "object_position": null,
            "object_fit": null,
            "grid_auto_columns": null,
            "margin": null,
            "display": null,
            "left": null
          }
        },
        "91757899a8944cbca7f680e45a17c7cb": {
          "model_module": "@jupyter-widgets/controls",
          "model_name": "IntProgressModel",
          "state": {
            "_view_name": "ProgressView",
            "style": "IPY_MODEL_7bbee4a8568d4940b98104ae35d8393b",
            "_dom_classes": [],
            "description": "Eval epoch 3: 100%",
            "_model_name": "IntProgressModel",
            "bar_style": "success",
            "max": 9,
            "_view_module": "@jupyter-widgets/controls",
            "_model_module_version": "1.5.0",
            "value": 9,
            "_view_count": null,
            "_view_module_version": "1.5.0",
            "orientation": "horizontal",
            "min": 0,
            "description_tooltip": null,
            "_model_module": "@jupyter-widgets/controls",
            "layout": "IPY_MODEL_ee3cf7973fe84f38ab364ebe4d8b99f7"
          }
        },
        "9b320f38ff3f43498eb4c1861c82b8f9": {
          "model_module": "@jupyter-widgets/controls",
          "model_name": "HTMLModel",
          "state": {
            "_view_name": "HTMLView",
            "style": "IPY_MODEL_892b6959cd69473ab93f40585889adef",
            "_dom_classes": [],
            "description": "",
            "_model_name": "HTMLModel",
            "placeholder": "​",
            "_view_module": "@jupyter-widgets/controls",
            "_model_module_version": "1.5.0",
            "value": " 9/9 [00:00&lt;00:00, 47.90it/s, loss=0.558]",
            "_view_count": null,
            "_view_module_version": "1.5.0",
            "description_tooltip": null,
            "_model_module": "@jupyter-widgets/controls",
            "layout": "IPY_MODEL_242b5abcb37e48bc93af807e7332a10a"
          }
        },
        "7bbee4a8568d4940b98104ae35d8393b": {
          "model_module": "@jupyter-widgets/controls",
          "model_name": "ProgressStyleModel",
          "state": {
            "_view_name": "StyleView",
            "_model_name": "ProgressStyleModel",
            "description_width": "initial",
            "_view_module": "@jupyter-widgets/base",
            "_model_module_version": "1.5.0",
            "_view_count": null,
            "_view_module_version": "1.2.0",
            "bar_color": null,
            "_model_module": "@jupyter-widgets/controls"
          }
        },
        "ee3cf7973fe84f38ab364ebe4d8b99f7": {
          "model_module": "@jupyter-widgets/base",
          "model_name": "LayoutModel",
          "state": {
            "_view_name": "LayoutView",
            "grid_template_rows": null,
            "right": null,
            "justify_content": null,
            "_view_module": "@jupyter-widgets/base",
            "overflow": null,
            "_model_module_version": "1.2.0",
            "_view_count": null,
            "flex_flow": null,
            "width": null,
            "min_width": null,
            "border": null,
            "align_items": null,
            "bottom": null,
            "_model_module": "@jupyter-widgets/base",
            "top": null,
            "grid_column": null,
            "overflow_y": null,
            "overflow_x": null,
            "grid_auto_flow": null,
            "grid_area": null,
            "grid_template_columns": null,
            "flex": null,
            "_model_name": "LayoutModel",
            "justify_items": null,
            "grid_row": null,
            "max_height": null,
            "align_content": null,
            "visibility": null,
            "align_self": null,
            "height": null,
            "min_height": null,
            "padding": null,
            "grid_auto_rows": null,
            "grid_gap": null,
            "max_width": null,
            "order": null,
            "_view_module_version": "1.2.0",
            "grid_template_areas": null,
            "object_position": null,
            "object_fit": null,
            "grid_auto_columns": null,
            "margin": null,
            "display": null,
            "left": null
          }
        },
        "892b6959cd69473ab93f40585889adef": {
          "model_module": "@jupyter-widgets/controls",
          "model_name": "DescriptionStyleModel",
          "state": {
            "_view_name": "StyleView",
            "_model_name": "DescriptionStyleModel",
            "description_width": "",
            "_view_module": "@jupyter-widgets/base",
            "_model_module_version": "1.5.0",
            "_view_count": null,
            "_view_module_version": "1.2.0",
            "_model_module": "@jupyter-widgets/controls"
          }
        },
        "242b5abcb37e48bc93af807e7332a10a": {
          "model_module": "@jupyter-widgets/base",
          "model_name": "LayoutModel",
          "state": {
            "_view_name": "LayoutView",
            "grid_template_rows": null,
            "right": null,
            "justify_content": null,
            "_view_module": "@jupyter-widgets/base",
            "overflow": null,
            "_model_module_version": "1.2.0",
            "_view_count": null,
            "flex_flow": null,
            "width": null,
            "min_width": null,
            "border": null,
            "align_items": null,
            "bottom": null,
            "_model_module": "@jupyter-widgets/base",
            "top": null,
            "grid_column": null,
            "overflow_y": null,
            "overflow_x": null,
            "grid_auto_flow": null,
            "grid_area": null,
            "grid_template_columns": null,
            "flex": null,
            "_model_name": "LayoutModel",
            "justify_items": null,
            "grid_row": null,
            "max_height": null,
            "align_content": null,
            "visibility": null,
            "align_self": null,
            "height": null,
            "min_height": null,
            "padding": null,
            "grid_auto_rows": null,
            "grid_gap": null,
            "max_width": null,
            "order": null,
            "_view_module_version": "1.2.0",
            "grid_template_areas": null,
            "object_position": null,
            "object_fit": null,
            "grid_auto_columns": null,
            "margin": null,
            "display": null,
            "left": null
          }
        },
        "50d2e902e6784c6da8858e3f39143d72": {
          "model_module": "@jupyter-widgets/controls",
          "model_name": "HBoxModel",
          "state": {
            "_view_name": "HBoxView",
            "_dom_classes": [],
            "_model_name": "HBoxModel",
            "_view_module": "@jupyter-widgets/controls",
            "_model_module_version": "1.5.0",
            "_view_count": null,
            "_view_module_version": "1.5.0",
            "box_style": "",
            "layout": "IPY_MODEL_3cda45932bb349cbbaef40bb66e2c0aa",
            "_model_module": "@jupyter-widgets/controls",
            "children": [
              "IPY_MODEL_1a554ccc6af34a9fa919c3f53d1f6267",
              "IPY_MODEL_0735449df4954569a433b7a003922367"
            ]
          }
        },
        "3cda45932bb349cbbaef40bb66e2c0aa": {
          "model_module": "@jupyter-widgets/base",
          "model_name": "LayoutModel",
          "state": {
            "_view_name": "LayoutView",
            "grid_template_rows": null,
            "right": null,
            "justify_content": null,
            "_view_module": "@jupyter-widgets/base",
            "overflow": null,
            "_model_module_version": "1.2.0",
            "_view_count": null,
            "flex_flow": null,
            "width": null,
            "min_width": null,
            "border": null,
            "align_items": null,
            "bottom": null,
            "_model_module": "@jupyter-widgets/base",
            "top": null,
            "grid_column": null,
            "overflow_y": null,
            "overflow_x": null,
            "grid_auto_flow": null,
            "grid_area": null,
            "grid_template_columns": null,
            "flex": null,
            "_model_name": "LayoutModel",
            "justify_items": null,
            "grid_row": null,
            "max_height": null,
            "align_content": null,
            "visibility": null,
            "align_self": null,
            "height": null,
            "min_height": null,
            "padding": null,
            "grid_auto_rows": null,
            "grid_gap": null,
            "max_width": null,
            "order": null,
            "_view_module_version": "1.2.0",
            "grid_template_areas": null,
            "object_position": null,
            "object_fit": null,
            "grid_auto_columns": null,
            "margin": null,
            "display": null,
            "left": null
          }
        },
        "1a554ccc6af34a9fa919c3f53d1f6267": {
          "model_module": "@jupyter-widgets/controls",
          "model_name": "IntProgressModel",
          "state": {
            "_view_name": "ProgressView",
            "style": "IPY_MODEL_915f0c0db92148c98cf0e6ae3f1c5058",
            "_dom_classes": [],
            "description": "Epoch 4: 100%",
            "_model_name": "IntProgressModel",
            "bar_style": "success",
            "max": 39,
            "_view_module": "@jupyter-widgets/controls",
            "_model_module_version": "1.5.0",
            "value": 39,
            "_view_count": null,
            "_view_module_version": "1.5.0",
            "orientation": "horizontal",
            "min": 0,
            "description_tooltip": null,
            "_model_module": "@jupyter-widgets/controls",
            "layout": "IPY_MODEL_fb3f370bebed461c98f5028631493a38"
          }
        },
        "0735449df4954569a433b7a003922367": {
          "model_module": "@jupyter-widgets/controls",
          "model_name": "HTMLModel",
          "state": {
            "_view_name": "HTMLView",
            "style": "IPY_MODEL_9ded65b4bf074136a11ebf921f10133b",
            "_dom_classes": [],
            "description": "",
            "_model_name": "HTMLModel",
            "placeholder": "​",
            "_view_module": "@jupyter-widgets/controls",
            "_model_module_version": "1.5.0",
            "value": " 39/39 [00:00&lt;00:00, 264.49it/s, loss=0.49]",
            "_view_count": null,
            "_view_module_version": "1.5.0",
            "description_tooltip": null,
            "_model_module": "@jupyter-widgets/controls",
            "layout": "IPY_MODEL_0edefe3dd62342958de38c8efeacbd8c"
          }
        },
        "915f0c0db92148c98cf0e6ae3f1c5058": {
          "model_module": "@jupyter-widgets/controls",
          "model_name": "ProgressStyleModel",
          "state": {
            "_view_name": "StyleView",
            "_model_name": "ProgressStyleModel",
            "description_width": "initial",
            "_view_module": "@jupyter-widgets/base",
            "_model_module_version": "1.5.0",
            "_view_count": null,
            "_view_module_version": "1.2.0",
            "bar_color": null,
            "_model_module": "@jupyter-widgets/controls"
          }
        },
        "fb3f370bebed461c98f5028631493a38": {
          "model_module": "@jupyter-widgets/base",
          "model_name": "LayoutModel",
          "state": {
            "_view_name": "LayoutView",
            "grid_template_rows": null,
            "right": null,
            "justify_content": null,
            "_view_module": "@jupyter-widgets/base",
            "overflow": null,
            "_model_module_version": "1.2.0",
            "_view_count": null,
            "flex_flow": null,
            "width": null,
            "min_width": null,
            "border": null,
            "align_items": null,
            "bottom": null,
            "_model_module": "@jupyter-widgets/base",
            "top": null,
            "grid_column": null,
            "overflow_y": null,
            "overflow_x": null,
            "grid_auto_flow": null,
            "grid_area": null,
            "grid_template_columns": null,
            "flex": null,
            "_model_name": "LayoutModel",
            "justify_items": null,
            "grid_row": null,
            "max_height": null,
            "align_content": null,
            "visibility": null,
            "align_self": null,
            "height": null,
            "min_height": null,
            "padding": null,
            "grid_auto_rows": null,
            "grid_gap": null,
            "max_width": null,
            "order": null,
            "_view_module_version": "1.2.0",
            "grid_template_areas": null,
            "object_position": null,
            "object_fit": null,
            "grid_auto_columns": null,
            "margin": null,
            "display": null,
            "left": null
          }
        },
        "9ded65b4bf074136a11ebf921f10133b": {
          "model_module": "@jupyter-widgets/controls",
          "model_name": "DescriptionStyleModel",
          "state": {
            "_view_name": "StyleView",
            "_model_name": "DescriptionStyleModel",
            "description_width": "",
            "_view_module": "@jupyter-widgets/base",
            "_model_module_version": "1.5.0",
            "_view_count": null,
            "_view_module_version": "1.2.0",
            "_model_module": "@jupyter-widgets/controls"
          }
        },
        "0edefe3dd62342958de38c8efeacbd8c": {
          "model_module": "@jupyter-widgets/base",
          "model_name": "LayoutModel",
          "state": {
            "_view_name": "LayoutView",
            "grid_template_rows": null,
            "right": null,
            "justify_content": null,
            "_view_module": "@jupyter-widgets/base",
            "overflow": null,
            "_model_module_version": "1.2.0",
            "_view_count": null,
            "flex_flow": null,
            "width": null,
            "min_width": null,
            "border": null,
            "align_items": null,
            "bottom": null,
            "_model_module": "@jupyter-widgets/base",
            "top": null,
            "grid_column": null,
            "overflow_y": null,
            "overflow_x": null,
            "grid_auto_flow": null,
            "grid_area": null,
            "grid_template_columns": null,
            "flex": null,
            "_model_name": "LayoutModel",
            "justify_items": null,
            "grid_row": null,
            "max_height": null,
            "align_content": null,
            "visibility": null,
            "align_self": null,
            "height": null,
            "min_height": null,
            "padding": null,
            "grid_auto_rows": null,
            "grid_gap": null,
            "max_width": null,
            "order": null,
            "_view_module_version": "1.2.0",
            "grid_template_areas": null,
            "object_position": null,
            "object_fit": null,
            "grid_auto_columns": null,
            "margin": null,
            "display": null,
            "left": null
          }
        },
        "4884cb79fda2432c8164e992507e979c": {
          "model_module": "@jupyter-widgets/controls",
          "model_name": "HBoxModel",
          "state": {
            "_view_name": "HBoxView",
            "_dom_classes": [],
            "_model_name": "HBoxModel",
            "_view_module": "@jupyter-widgets/controls",
            "_model_module_version": "1.5.0",
            "_view_count": null,
            "_view_module_version": "1.5.0",
            "box_style": "",
            "layout": "IPY_MODEL_2667dd426e8d48a5b922cfd4888b42f8",
            "_model_module": "@jupyter-widgets/controls",
            "children": [
              "IPY_MODEL_21a96ff8b2ee4caf9a65513cd92254c7",
              "IPY_MODEL_10b201fe831d49c5beedbf428dc198f6"
            ]
          }
        },
        "2667dd426e8d48a5b922cfd4888b42f8": {
          "model_module": "@jupyter-widgets/base",
          "model_name": "LayoutModel",
          "state": {
            "_view_name": "LayoutView",
            "grid_template_rows": null,
            "right": null,
            "justify_content": null,
            "_view_module": "@jupyter-widgets/base",
            "overflow": null,
            "_model_module_version": "1.2.0",
            "_view_count": null,
            "flex_flow": null,
            "width": null,
            "min_width": null,
            "border": null,
            "align_items": null,
            "bottom": null,
            "_model_module": "@jupyter-widgets/base",
            "top": null,
            "grid_column": null,
            "overflow_y": null,
            "overflow_x": null,
            "grid_auto_flow": null,
            "grid_area": null,
            "grid_template_columns": null,
            "flex": null,
            "_model_name": "LayoutModel",
            "justify_items": null,
            "grid_row": null,
            "max_height": null,
            "align_content": null,
            "visibility": null,
            "align_self": null,
            "height": null,
            "min_height": null,
            "padding": null,
            "grid_auto_rows": null,
            "grid_gap": null,
            "max_width": null,
            "order": null,
            "_view_module_version": "1.2.0",
            "grid_template_areas": null,
            "object_position": null,
            "object_fit": null,
            "grid_auto_columns": null,
            "margin": null,
            "display": null,
            "left": null
          }
        },
        "21a96ff8b2ee4caf9a65513cd92254c7": {
          "model_module": "@jupyter-widgets/controls",
          "model_name": "IntProgressModel",
          "state": {
            "_view_name": "ProgressView",
            "style": "IPY_MODEL_9a7a23582b58406aa2135b440ba03481",
            "_dom_classes": [],
            "description": "Eval epoch 4: 100%",
            "_model_name": "IntProgressModel",
            "bar_style": "success",
            "max": 9,
            "_view_module": "@jupyter-widgets/controls",
            "_model_module_version": "1.5.0",
            "value": 9,
            "_view_count": null,
            "_view_module_version": "1.5.0",
            "orientation": "horizontal",
            "min": 0,
            "description_tooltip": null,
            "_model_module": "@jupyter-widgets/controls",
            "layout": "IPY_MODEL_610bca6d1fbb4f5fadc4e103184de698"
          }
        },
        "10b201fe831d49c5beedbf428dc198f6": {
          "model_module": "@jupyter-widgets/controls",
          "model_name": "HTMLModel",
          "state": {
            "_view_name": "HTMLView",
            "style": "IPY_MODEL_abb37ed2b8604c3390ef9b4855d59e6d",
            "_dom_classes": [],
            "description": "",
            "_model_name": "HTMLModel",
            "placeholder": "​",
            "_view_module": "@jupyter-widgets/controls",
            "_model_module_version": "1.5.0",
            "value": " 9/9 [00:09&lt;00:00,  1.09s/it, loss=0.462]",
            "_view_count": null,
            "_view_module_version": "1.5.0",
            "description_tooltip": null,
            "_model_module": "@jupyter-widgets/controls",
            "layout": "IPY_MODEL_24603df2a72c4ef7ac4dd08968f8e1eb"
          }
        },
        "9a7a23582b58406aa2135b440ba03481": {
          "model_module": "@jupyter-widgets/controls",
          "model_name": "ProgressStyleModel",
          "state": {
            "_view_name": "StyleView",
            "_model_name": "ProgressStyleModel",
            "description_width": "initial",
            "_view_module": "@jupyter-widgets/base",
            "_model_module_version": "1.5.0",
            "_view_count": null,
            "_view_module_version": "1.2.0",
            "bar_color": null,
            "_model_module": "@jupyter-widgets/controls"
          }
        },
        "610bca6d1fbb4f5fadc4e103184de698": {
          "model_module": "@jupyter-widgets/base",
          "model_name": "LayoutModel",
          "state": {
            "_view_name": "LayoutView",
            "grid_template_rows": null,
            "right": null,
            "justify_content": null,
            "_view_module": "@jupyter-widgets/base",
            "overflow": null,
            "_model_module_version": "1.2.0",
            "_view_count": null,
            "flex_flow": null,
            "width": null,
            "min_width": null,
            "border": null,
            "align_items": null,
            "bottom": null,
            "_model_module": "@jupyter-widgets/base",
            "top": null,
            "grid_column": null,
            "overflow_y": null,
            "overflow_x": null,
            "grid_auto_flow": null,
            "grid_area": null,
            "grid_template_columns": null,
            "flex": null,
            "_model_name": "LayoutModel",
            "justify_items": null,
            "grid_row": null,
            "max_height": null,
            "align_content": null,
            "visibility": null,
            "align_self": null,
            "height": null,
            "min_height": null,
            "padding": null,
            "grid_auto_rows": null,
            "grid_gap": null,
            "max_width": null,
            "order": null,
            "_view_module_version": "1.2.0",
            "grid_template_areas": null,
            "object_position": null,
            "object_fit": null,
            "grid_auto_columns": null,
            "margin": null,
            "display": null,
            "left": null
          }
        },
        "abb37ed2b8604c3390ef9b4855d59e6d": {
          "model_module": "@jupyter-widgets/controls",
          "model_name": "DescriptionStyleModel",
          "state": {
            "_view_name": "StyleView",
            "_model_name": "DescriptionStyleModel",
            "description_width": "",
            "_view_module": "@jupyter-widgets/base",
            "_model_module_version": "1.5.0",
            "_view_count": null,
            "_view_module_version": "1.2.0",
            "_model_module": "@jupyter-widgets/controls"
          }
        },
        "24603df2a72c4ef7ac4dd08968f8e1eb": {
          "model_module": "@jupyter-widgets/base",
          "model_name": "LayoutModel",
          "state": {
            "_view_name": "LayoutView",
            "grid_template_rows": null,
            "right": null,
            "justify_content": null,
            "_view_module": "@jupyter-widgets/base",
            "overflow": null,
            "_model_module_version": "1.2.0",
            "_view_count": null,
            "flex_flow": null,
            "width": null,
            "min_width": null,
            "border": null,
            "align_items": null,
            "bottom": null,
            "_model_module": "@jupyter-widgets/base",
            "top": null,
            "grid_column": null,
            "overflow_y": null,
            "overflow_x": null,
            "grid_auto_flow": null,
            "grid_area": null,
            "grid_template_columns": null,
            "flex": null,
            "_model_name": "LayoutModel",
            "justify_items": null,
            "grid_row": null,
            "max_height": null,
            "align_content": null,
            "visibility": null,
            "align_self": null,
            "height": null,
            "min_height": null,
            "padding": null,
            "grid_auto_rows": null,
            "grid_gap": null,
            "max_width": null,
            "order": null,
            "_view_module_version": "1.2.0",
            "grid_template_areas": null,
            "object_position": null,
            "object_fit": null,
            "grid_auto_columns": null,
            "margin": null,
            "display": null,
            "left": null
          }
        },
        "42b31ee04b6841c098135eaf6c58e71e": {
          "model_module": "@jupyter-widgets/controls",
          "model_name": "HBoxModel",
          "state": {
            "_view_name": "HBoxView",
            "_dom_classes": [],
            "_model_name": "HBoxModel",
            "_view_module": "@jupyter-widgets/controls",
            "_model_module_version": "1.5.0",
            "_view_count": null,
            "_view_module_version": "1.5.0",
            "box_style": "",
            "layout": "IPY_MODEL_7bafed32d979429ab71b20c8d3a9ccb3",
            "_model_module": "@jupyter-widgets/controls",
            "children": [
              "IPY_MODEL_32cb87184be84354b99a56475ed2aeab",
              "IPY_MODEL_2591eef95b7d4bf1b81ef9e241a83bf0"
            ]
          }
        },
        "7bafed32d979429ab71b20c8d3a9ccb3": {
          "model_module": "@jupyter-widgets/base",
          "model_name": "LayoutModel",
          "state": {
            "_view_name": "LayoutView",
            "grid_template_rows": null,
            "right": null,
            "justify_content": null,
            "_view_module": "@jupyter-widgets/base",
            "overflow": null,
            "_model_module_version": "1.2.0",
            "_view_count": null,
            "flex_flow": null,
            "width": null,
            "min_width": null,
            "border": null,
            "align_items": null,
            "bottom": null,
            "_model_module": "@jupyter-widgets/base",
            "top": null,
            "grid_column": null,
            "overflow_y": null,
            "overflow_x": null,
            "grid_auto_flow": null,
            "grid_area": null,
            "grid_template_columns": null,
            "flex": null,
            "_model_name": "LayoutModel",
            "justify_items": null,
            "grid_row": null,
            "max_height": null,
            "align_content": null,
            "visibility": null,
            "align_self": null,
            "height": null,
            "min_height": null,
            "padding": null,
            "grid_auto_rows": null,
            "grid_gap": null,
            "max_width": null,
            "order": null,
            "_view_module_version": "1.2.0",
            "grid_template_areas": null,
            "object_position": null,
            "object_fit": null,
            "grid_auto_columns": null,
            "margin": null,
            "display": null,
            "left": null
          }
        },
        "32cb87184be84354b99a56475ed2aeab": {
          "model_module": "@jupyter-widgets/controls",
          "model_name": "IntProgressModel",
          "state": {
            "_view_name": "ProgressView",
            "style": "IPY_MODEL_b008f536b530450ea70211758dabc83c",
            "_dom_classes": [],
            "description": "Epoch 5: 100%",
            "_model_name": "IntProgressModel",
            "bar_style": "success",
            "max": 39,
            "_view_module": "@jupyter-widgets/controls",
            "_model_module_version": "1.5.0",
            "value": 39,
            "_view_count": null,
            "_view_module_version": "1.5.0",
            "orientation": "horizontal",
            "min": 0,
            "description_tooltip": null,
            "_model_module": "@jupyter-widgets/controls",
            "layout": "IPY_MODEL_6f48517e31f24e7c955f8b9b6dcd143b"
          }
        },
        "2591eef95b7d4bf1b81ef9e241a83bf0": {
          "model_module": "@jupyter-widgets/controls",
          "model_name": "HTMLModel",
          "state": {
            "_view_name": "HTMLView",
            "style": "IPY_MODEL_f2a8780e63854780ae54b6edfdca13dc",
            "_dom_classes": [],
            "description": "",
            "_model_name": "HTMLModel",
            "placeholder": "​",
            "_view_module": "@jupyter-widgets/controls",
            "_model_module_version": "1.5.0",
            "value": " 39/39 [00:09&lt;00:00,  4.09it/s, loss=0.48]",
            "_view_count": null,
            "_view_module_version": "1.5.0",
            "description_tooltip": null,
            "_model_module": "@jupyter-widgets/controls",
            "layout": "IPY_MODEL_e47cd257b9ee4c0099396291241152f5"
          }
        },
        "b008f536b530450ea70211758dabc83c": {
          "model_module": "@jupyter-widgets/controls",
          "model_name": "ProgressStyleModel",
          "state": {
            "_view_name": "StyleView",
            "_model_name": "ProgressStyleModel",
            "description_width": "initial",
            "_view_module": "@jupyter-widgets/base",
            "_model_module_version": "1.5.0",
            "_view_count": null,
            "_view_module_version": "1.2.0",
            "bar_color": null,
            "_model_module": "@jupyter-widgets/controls"
          }
        },
        "6f48517e31f24e7c955f8b9b6dcd143b": {
          "model_module": "@jupyter-widgets/base",
          "model_name": "LayoutModel",
          "state": {
            "_view_name": "LayoutView",
            "grid_template_rows": null,
            "right": null,
            "justify_content": null,
            "_view_module": "@jupyter-widgets/base",
            "overflow": null,
            "_model_module_version": "1.2.0",
            "_view_count": null,
            "flex_flow": null,
            "width": null,
            "min_width": null,
            "border": null,
            "align_items": null,
            "bottom": null,
            "_model_module": "@jupyter-widgets/base",
            "top": null,
            "grid_column": null,
            "overflow_y": null,
            "overflow_x": null,
            "grid_auto_flow": null,
            "grid_area": null,
            "grid_template_columns": null,
            "flex": null,
            "_model_name": "LayoutModel",
            "justify_items": null,
            "grid_row": null,
            "max_height": null,
            "align_content": null,
            "visibility": null,
            "align_self": null,
            "height": null,
            "min_height": null,
            "padding": null,
            "grid_auto_rows": null,
            "grid_gap": null,
            "max_width": null,
            "order": null,
            "_view_module_version": "1.2.0",
            "grid_template_areas": null,
            "object_position": null,
            "object_fit": null,
            "grid_auto_columns": null,
            "margin": null,
            "display": null,
            "left": null
          }
        },
        "f2a8780e63854780ae54b6edfdca13dc": {
          "model_module": "@jupyter-widgets/controls",
          "model_name": "DescriptionStyleModel",
          "state": {
            "_view_name": "StyleView",
            "_model_name": "DescriptionStyleModel",
            "description_width": "",
            "_view_module": "@jupyter-widgets/base",
            "_model_module_version": "1.5.0",
            "_view_count": null,
            "_view_module_version": "1.2.0",
            "_model_module": "@jupyter-widgets/controls"
          }
        },
        "e47cd257b9ee4c0099396291241152f5": {
          "model_module": "@jupyter-widgets/base",
          "model_name": "LayoutModel",
          "state": {
            "_view_name": "LayoutView",
            "grid_template_rows": null,
            "right": null,
            "justify_content": null,
            "_view_module": "@jupyter-widgets/base",
            "overflow": null,
            "_model_module_version": "1.2.0",
            "_view_count": null,
            "flex_flow": null,
            "width": null,
            "min_width": null,
            "border": null,
            "align_items": null,
            "bottom": null,
            "_model_module": "@jupyter-widgets/base",
            "top": null,
            "grid_column": null,
            "overflow_y": null,
            "overflow_x": null,
            "grid_auto_flow": null,
            "grid_area": null,
            "grid_template_columns": null,
            "flex": null,
            "_model_name": "LayoutModel",
            "justify_items": null,
            "grid_row": null,
            "max_height": null,
            "align_content": null,
            "visibility": null,
            "align_self": null,
            "height": null,
            "min_height": null,
            "padding": null,
            "grid_auto_rows": null,
            "grid_gap": null,
            "max_width": null,
            "order": null,
            "_view_module_version": "1.2.0",
            "grid_template_areas": null,
            "object_position": null,
            "object_fit": null,
            "grid_auto_columns": null,
            "margin": null,
            "display": null,
            "left": null
          }
        },
        "4178c975193b4d79b1cdb9e3ec270300": {
          "model_module": "@jupyter-widgets/controls",
          "model_name": "HBoxModel",
          "state": {
            "_view_name": "HBoxView",
            "_dom_classes": [],
            "_model_name": "HBoxModel",
            "_view_module": "@jupyter-widgets/controls",
            "_model_module_version": "1.5.0",
            "_view_count": null,
            "_view_module_version": "1.5.0",
            "box_style": "",
            "layout": "IPY_MODEL_bb73d8cf5d5746ac885f4d0dbf4eee6a",
            "_model_module": "@jupyter-widgets/controls",
            "children": [
              "IPY_MODEL_7bd0c00dd922498d8aeeb1bf1822eb3a",
              "IPY_MODEL_a0959e7d977a4282967e371f638e9ba1"
            ]
          }
        },
        "bb73d8cf5d5746ac885f4d0dbf4eee6a": {
          "model_module": "@jupyter-widgets/base",
          "model_name": "LayoutModel",
          "state": {
            "_view_name": "LayoutView",
            "grid_template_rows": null,
            "right": null,
            "justify_content": null,
            "_view_module": "@jupyter-widgets/base",
            "overflow": null,
            "_model_module_version": "1.2.0",
            "_view_count": null,
            "flex_flow": null,
            "width": null,
            "min_width": null,
            "border": null,
            "align_items": null,
            "bottom": null,
            "_model_module": "@jupyter-widgets/base",
            "top": null,
            "grid_column": null,
            "overflow_y": null,
            "overflow_x": null,
            "grid_auto_flow": null,
            "grid_area": null,
            "grid_template_columns": null,
            "flex": null,
            "_model_name": "LayoutModel",
            "justify_items": null,
            "grid_row": null,
            "max_height": null,
            "align_content": null,
            "visibility": null,
            "align_self": null,
            "height": null,
            "min_height": null,
            "padding": null,
            "grid_auto_rows": null,
            "grid_gap": null,
            "max_width": null,
            "order": null,
            "_view_module_version": "1.2.0",
            "grid_template_areas": null,
            "object_position": null,
            "object_fit": null,
            "grid_auto_columns": null,
            "margin": null,
            "display": null,
            "left": null
          }
        },
        "7bd0c00dd922498d8aeeb1bf1822eb3a": {
          "model_module": "@jupyter-widgets/controls",
          "model_name": "IntProgressModel",
          "state": {
            "_view_name": "ProgressView",
            "style": "IPY_MODEL_3090d87cbc32405187438145e433563e",
            "_dom_classes": [],
            "description": "Eval epoch 5: 100%",
            "_model_name": "IntProgressModel",
            "bar_style": "success",
            "max": 9,
            "_view_module": "@jupyter-widgets/controls",
            "_model_module_version": "1.5.0",
            "value": 9,
            "_view_count": null,
            "_view_module_version": "1.5.0",
            "orientation": "horizontal",
            "min": 0,
            "description_tooltip": null,
            "_model_module": "@jupyter-widgets/controls",
            "layout": "IPY_MODEL_20a4168d7fd14dc9af8a7dd9f3e79704"
          }
        },
        "a0959e7d977a4282967e371f638e9ba1": {
          "model_module": "@jupyter-widgets/controls",
          "model_name": "HTMLModel",
          "state": {
            "_view_name": "HTMLView",
            "style": "IPY_MODEL_734095ec79e64824ae4a7cc992f1ee39",
            "_dom_classes": [],
            "description": "",
            "_model_name": "HTMLModel",
            "placeholder": "​",
            "_view_module": "@jupyter-widgets/controls",
            "_model_module_version": "1.5.0",
            "value": " 9/9 [00:09&lt;00:00,  1.04s/it, loss=0.456]",
            "_view_count": null,
            "_view_module_version": "1.5.0",
            "description_tooltip": null,
            "_model_module": "@jupyter-widgets/controls",
            "layout": "IPY_MODEL_a75e7e94eef04197aee1e0e43adfb322"
          }
        },
        "3090d87cbc32405187438145e433563e": {
          "model_module": "@jupyter-widgets/controls",
          "model_name": "ProgressStyleModel",
          "state": {
            "_view_name": "StyleView",
            "_model_name": "ProgressStyleModel",
            "description_width": "initial",
            "_view_module": "@jupyter-widgets/base",
            "_model_module_version": "1.5.0",
            "_view_count": null,
            "_view_module_version": "1.2.0",
            "bar_color": null,
            "_model_module": "@jupyter-widgets/controls"
          }
        },
        "20a4168d7fd14dc9af8a7dd9f3e79704": {
          "model_module": "@jupyter-widgets/base",
          "model_name": "LayoutModel",
          "state": {
            "_view_name": "LayoutView",
            "grid_template_rows": null,
            "right": null,
            "justify_content": null,
            "_view_module": "@jupyter-widgets/base",
            "overflow": null,
            "_model_module_version": "1.2.0",
            "_view_count": null,
            "flex_flow": null,
            "width": null,
            "min_width": null,
            "border": null,
            "align_items": null,
            "bottom": null,
            "_model_module": "@jupyter-widgets/base",
            "top": null,
            "grid_column": null,
            "overflow_y": null,
            "overflow_x": null,
            "grid_auto_flow": null,
            "grid_area": null,
            "grid_template_columns": null,
            "flex": null,
            "_model_name": "LayoutModel",
            "justify_items": null,
            "grid_row": null,
            "max_height": null,
            "align_content": null,
            "visibility": null,
            "align_self": null,
            "height": null,
            "min_height": null,
            "padding": null,
            "grid_auto_rows": null,
            "grid_gap": null,
            "max_width": null,
            "order": null,
            "_view_module_version": "1.2.0",
            "grid_template_areas": null,
            "object_position": null,
            "object_fit": null,
            "grid_auto_columns": null,
            "margin": null,
            "display": null,
            "left": null
          }
        },
        "734095ec79e64824ae4a7cc992f1ee39": {
          "model_module": "@jupyter-widgets/controls",
          "model_name": "DescriptionStyleModel",
          "state": {
            "_view_name": "StyleView",
            "_model_name": "DescriptionStyleModel",
            "description_width": "",
            "_view_module": "@jupyter-widgets/base",
            "_model_module_version": "1.5.0",
            "_view_count": null,
            "_view_module_version": "1.2.0",
            "_model_module": "@jupyter-widgets/controls"
          }
        },
        "a75e7e94eef04197aee1e0e43adfb322": {
          "model_module": "@jupyter-widgets/base",
          "model_name": "LayoutModel",
          "state": {
            "_view_name": "LayoutView",
            "grid_template_rows": null,
            "right": null,
            "justify_content": null,
            "_view_module": "@jupyter-widgets/base",
            "overflow": null,
            "_model_module_version": "1.2.0",
            "_view_count": null,
            "flex_flow": null,
            "width": null,
            "min_width": null,
            "border": null,
            "align_items": null,
            "bottom": null,
            "_model_module": "@jupyter-widgets/base",
            "top": null,
            "grid_column": null,
            "overflow_y": null,
            "overflow_x": null,
            "grid_auto_flow": null,
            "grid_area": null,
            "grid_template_columns": null,
            "flex": null,
            "_model_name": "LayoutModel",
            "justify_items": null,
            "grid_row": null,
            "max_height": null,
            "align_content": null,
            "visibility": null,
            "align_self": null,
            "height": null,
            "min_height": null,
            "padding": null,
            "grid_auto_rows": null,
            "grid_gap": null,
            "max_width": null,
            "order": null,
            "_view_module_version": "1.2.0",
            "grid_template_areas": null,
            "object_position": null,
            "object_fit": null,
            "grid_auto_columns": null,
            "margin": null,
            "display": null,
            "left": null
          }
        },
        "fc61e11b2f2c426e8a9d9e93d24c802a": {
          "model_module": "@jupyter-widgets/controls",
          "model_name": "HBoxModel",
          "state": {
            "_view_name": "HBoxView",
            "_dom_classes": [],
            "_model_name": "HBoxModel",
            "_view_module": "@jupyter-widgets/controls",
            "_model_module_version": "1.5.0",
            "_view_count": null,
            "_view_module_version": "1.5.0",
            "box_style": "",
            "layout": "IPY_MODEL_4bce4b72b3b24e648f8c089fda10cdb2",
            "_model_module": "@jupyter-widgets/controls",
            "children": [
              "IPY_MODEL_de7100e63c1343d78a223e88674a6d36",
              "IPY_MODEL_80fca61c18a24332b894dc60eca7343d"
            ]
          }
        },
        "4bce4b72b3b24e648f8c089fda10cdb2": {
          "model_module": "@jupyter-widgets/base",
          "model_name": "LayoutModel",
          "state": {
            "_view_name": "LayoutView",
            "grid_template_rows": null,
            "right": null,
            "justify_content": null,
            "_view_module": "@jupyter-widgets/base",
            "overflow": null,
            "_model_module_version": "1.2.0",
            "_view_count": null,
            "flex_flow": null,
            "width": null,
            "min_width": null,
            "border": null,
            "align_items": null,
            "bottom": null,
            "_model_module": "@jupyter-widgets/base",
            "top": null,
            "grid_column": null,
            "overflow_y": null,
            "overflow_x": null,
            "grid_auto_flow": null,
            "grid_area": null,
            "grid_template_columns": null,
            "flex": null,
            "_model_name": "LayoutModel",
            "justify_items": null,
            "grid_row": null,
            "max_height": null,
            "align_content": null,
            "visibility": null,
            "align_self": null,
            "height": null,
            "min_height": null,
            "padding": null,
            "grid_auto_rows": null,
            "grid_gap": null,
            "max_width": null,
            "order": null,
            "_view_module_version": "1.2.0",
            "grid_template_areas": null,
            "object_position": null,
            "object_fit": null,
            "grid_auto_columns": null,
            "margin": null,
            "display": null,
            "left": null
          }
        },
        "de7100e63c1343d78a223e88674a6d36": {
          "model_module": "@jupyter-widgets/controls",
          "model_name": "IntProgressModel",
          "state": {
            "_view_name": "ProgressView",
            "style": "IPY_MODEL_4fc84c9a158a414a8f7179ae9991386d",
            "_dom_classes": [],
            "description": "Test: 100%",
            "_model_name": "IntProgressModel",
            "bar_style": "success",
            "max": 12,
            "_view_module": "@jupyter-widgets/controls",
            "_model_module_version": "1.5.0",
            "value": 12,
            "_view_count": null,
            "_view_module_version": "1.5.0",
            "orientation": "horizontal",
            "min": 0,
            "description_tooltip": null,
            "_model_module": "@jupyter-widgets/controls",
            "layout": "IPY_MODEL_5f654c20597942e9b6267096f1b04e0d"
          }
        },
        "80fca61c18a24332b894dc60eca7343d": {
          "model_module": "@jupyter-widgets/controls",
          "model_name": "HTMLModel",
          "state": {
            "_view_name": "HTMLView",
            "style": "IPY_MODEL_28eceb280d094f63a3da5e62b259dcab",
            "_dom_classes": [],
            "description": "",
            "_model_name": "HTMLModel",
            "placeholder": "​",
            "_view_module": "@jupyter-widgets/controls",
            "_model_module_version": "1.5.0",
            "value": " 12/12 [12:01&lt;00:00, 60.16s/it]",
            "_view_count": null,
            "_view_module_version": "1.5.0",
            "description_tooltip": null,
            "_model_module": "@jupyter-widgets/controls",
            "layout": "IPY_MODEL_0b8c02da48344ebabeb34ae85027a4f4"
          }
        },
        "4fc84c9a158a414a8f7179ae9991386d": {
          "model_module": "@jupyter-widgets/controls",
          "model_name": "ProgressStyleModel",
          "state": {
            "_view_name": "StyleView",
            "_model_name": "ProgressStyleModel",
            "description_width": "initial",
            "_view_module": "@jupyter-widgets/base",
            "_model_module_version": "1.5.0",
            "_view_count": null,
            "_view_module_version": "1.2.0",
            "bar_color": null,
            "_model_module": "@jupyter-widgets/controls"
          }
        },
        "5f654c20597942e9b6267096f1b04e0d": {
          "model_module": "@jupyter-widgets/base",
          "model_name": "LayoutModel",
          "state": {
            "_view_name": "LayoutView",
            "grid_template_rows": null,
            "right": null,
            "justify_content": null,
            "_view_module": "@jupyter-widgets/base",
            "overflow": null,
            "_model_module_version": "1.2.0",
            "_view_count": null,
            "flex_flow": null,
            "width": null,
            "min_width": null,
            "border": null,
            "align_items": null,
            "bottom": null,
            "_model_module": "@jupyter-widgets/base",
            "top": null,
            "grid_column": null,
            "overflow_y": null,
            "overflow_x": null,
            "grid_auto_flow": null,
            "grid_area": null,
            "grid_template_columns": null,
            "flex": null,
            "_model_name": "LayoutModel",
            "justify_items": null,
            "grid_row": null,
            "max_height": null,
            "align_content": null,
            "visibility": null,
            "align_self": null,
            "height": null,
            "min_height": null,
            "padding": null,
            "grid_auto_rows": null,
            "grid_gap": null,
            "max_width": null,
            "order": null,
            "_view_module_version": "1.2.0",
            "grid_template_areas": null,
            "object_position": null,
            "object_fit": null,
            "grid_auto_columns": null,
            "margin": null,
            "display": null,
            "left": null
          }
        },
        "28eceb280d094f63a3da5e62b259dcab": {
          "model_module": "@jupyter-widgets/controls",
          "model_name": "DescriptionStyleModel",
          "state": {
            "_view_name": "StyleView",
            "_model_name": "DescriptionStyleModel",
            "description_width": "",
            "_view_module": "@jupyter-widgets/base",
            "_model_module_version": "1.5.0",
            "_view_count": null,
            "_view_module_version": "1.2.0",
            "_model_module": "@jupyter-widgets/controls"
          }
        },
        "0b8c02da48344ebabeb34ae85027a4f4": {
          "model_module": "@jupyter-widgets/base",
          "model_name": "LayoutModel",
          "state": {
            "_view_name": "LayoutView",
            "grid_template_rows": null,
            "right": null,
            "justify_content": null,
            "_view_module": "@jupyter-widgets/base",
            "overflow": null,
            "_model_module_version": "1.2.0",
            "_view_count": null,
            "flex_flow": null,
            "width": null,
            "min_width": null,
            "border": null,
            "align_items": null,
            "bottom": null,
            "_model_module": "@jupyter-widgets/base",
            "top": null,
            "grid_column": null,
            "overflow_y": null,
            "overflow_x": null,
            "grid_auto_flow": null,
            "grid_area": null,
            "grid_template_columns": null,
            "flex": null,
            "_model_name": "LayoutModel",
            "justify_items": null,
            "grid_row": null,
            "max_height": null,
            "align_content": null,
            "visibility": null,
            "align_self": null,
            "height": null,
            "min_height": null,
            "padding": null,
            "grid_auto_rows": null,
            "grid_gap": null,
            "max_width": null,
            "order": null,
            "_view_module_version": "1.2.0",
            "grid_template_areas": null,
            "object_position": null,
            "object_fit": null,
            "grid_auto_columns": null,
            "margin": null,
            "display": null,
            "left": null
          }
        }
      }
    }
  },
  "cells": [
    {
      "cell_type": "markdown",
      "metadata": {
        "id": "view-in-github",
        "colab_type": "text"
      },
      "source": [
        "<a href=\"https://colab.research.google.com/github/ovbystrova/Interference/blob/master/Baseline.ipynb\" target=\"_parent\"><img src=\"https://colab.research.google.com/assets/colab-badge.svg\" alt=\"Open In Colab\"/></a>"
      ]
    },
    {
      "cell_type": "code",
      "metadata": {
        "id": "SFofGdsLHBsx",
        "colab_type": "code",
        "colab": {
          "base_uri": "https://localhost:8080/",
          "height": 301
        },
        "outputId": "e141d587-49dc-45b2-d0f5-b709764ba547"
      },
      "source": [
        "!wget https://github.com/ovbystrova/Interference/raw/master/data/original_texts.csv"
      ],
      "execution_count": 1,
      "outputs": [
        {
          "output_type": "stream",
          "text": [
            "--2020-03-26 19:23:39--  https://github.com/ovbystrova/Interference/raw/master/data/original_texts.csv\n",
            "Resolving github.com (github.com)... 140.82.113.3\n",
            "Connecting to github.com (github.com)|140.82.113.3|:443... connected.\n",
            "HTTP request sent, awaiting response... 302 Found\n",
            "Location: https://raw.githubusercontent.com/ovbystrova/Interference/master/data/original_texts.csv [following]\n",
            "--2020-03-26 19:23:39--  https://raw.githubusercontent.com/ovbystrova/Interference/master/data/original_texts.csv\n",
            "Resolving raw.githubusercontent.com (raw.githubusercontent.com)... 151.101.0.133, 151.101.64.133, 151.101.128.133, ...\n",
            "Connecting to raw.githubusercontent.com (raw.githubusercontent.com)|151.101.0.133|:443... connected.\n",
            "HTTP request sent, awaiting response... 200 OK\n",
            "Length: 18891291 (18M) [text/plain]\n",
            "Saving to: ‘original_texts.csv’\n",
            "\n",
            "original_texts.csv  100%[===================>]  18.02M   117MB/s    in 0.2s    \n",
            "\n",
            "2020-03-26 19:23:40 (117 MB/s) - ‘original_texts.csv’ saved [18891291/18891291]\n",
            "\n"
          ],
          "name": "stdout"
        }
      ]
    },
    {
      "cell_type": "code",
      "metadata": {
        "id": "IpVboJ1zQCXp",
        "colab_type": "code",
        "colab": {
          "base_uri": "https://localhost:8080/",
          "height": 212
        },
        "outputId": "8910cb73-72ad-466c-f5db-f4181e6d6b40"
      },
      "source": [
        "!pip install pymorphy2"
      ],
      "execution_count": 2,
      "outputs": [
        {
          "output_type": "stream",
          "text": [
            "Collecting pymorphy2\n",
            "\u001b[?25l  Downloading https://files.pythonhosted.org/packages/a3/33/fff9675c68b5f6c63ec8c6e6ff57827dda28a1fa5b2c2d727dffff92dd47/pymorphy2-0.8-py2.py3-none-any.whl (46kB)\n",
            "\u001b[K     |████████████████████████████████| 51kB 2.0MB/s \n",
            "\u001b[?25hCollecting pymorphy2-dicts<3.0,>=2.4\n",
            "\u001b[?25l  Downloading https://files.pythonhosted.org/packages/02/51/2465fd4f72328ab50877b54777764d928da8cb15b74e2680fc1bd8cb3173/pymorphy2_dicts-2.4.393442.3710985-py2.py3-none-any.whl (7.1MB)\n",
            "\u001b[K     |████████████████████████████████| 7.1MB 6.5MB/s \n",
            "\u001b[?25hCollecting dawg-python>=0.7\n",
            "  Downloading https://files.pythonhosted.org/packages/6a/84/ff1ce2071d4c650ec85745766c0047ccc3b5036f1d03559fd46bb38b5eeb/DAWG_Python-0.7.2-py2.py3-none-any.whl\n",
            "Requirement already satisfied: docopt>=0.6 in /usr/local/lib/python3.6/dist-packages (from pymorphy2) (0.6.2)\n",
            "Installing collected packages: pymorphy2-dicts, dawg-python, pymorphy2\n",
            "Successfully installed dawg-python-0.7.2 pymorphy2-0.8 pymorphy2-dicts-2.4.393442.3710985\n"
          ],
          "name": "stdout"
        }
      ]
    },
    {
      "cell_type": "code",
      "metadata": {
        "id": "60ERDslmHMqP",
        "colab_type": "code",
        "colab": {}
      },
      "source": [
        "import matplotlib.pyplot as plt\n",
        "import numpy as np\n",
        "import pandas as pd\n",
        "import pymorphy2\n",
        "import re\n",
        "import sklearn\n",
        "\n",
        "from gensim.models import FastText\n",
        "from scipy.ndimage.filters import gaussian_filter1d\n",
        "from sklearn.feature_extraction.text import TfidfVectorizer\n",
        "from sklearn.feature_selection import SelectFromModel\n",
        "from sklearn.linear_model import LogisticRegressionCV, LogisticRegression\n",
        "from sklearn.model_selection import train_test_split\n",
        "from sklearn import metrics\n",
        "from sklearn.pipeline import make_pipeline\n",
        "from sklearn.preprocessing import LabelEncoder\n",
        "from tqdm.notebook import tqdm"
      ],
      "execution_count": 0,
      "outputs": []
    },
    {
      "cell_type": "code",
      "metadata": {
        "id": "Fm9dzha7L-Zp",
        "colab_type": "code",
        "colab": {}
      },
      "source": [
        "SEED = 42"
      ],
      "execution_count": 0,
      "outputs": []
    },
    {
      "cell_type": "code",
      "metadata": {
        "id": "6TADd3-8Vvzh",
        "colab_type": "code",
        "colab": {}
      },
      "source": [
        "results = pd.DataFrame(columns=['model', 'preprocess', 'vectorize', 'score', 'native', 'language_background'])"
      ],
      "execution_count": 0,
      "outputs": []
    },
    {
      "cell_type": "code",
      "metadata": {
        "id": "gkZQagPtXL5u",
        "colab_type": "code",
        "colab": {
          "base_uri": "https://localhost:8080/",
          "height": 70
        },
        "outputId": "165db9f7-a91f-417a-8503-dd42457c0ed3"
      },
      "source": [
        "results.columns"
      ],
      "execution_count": 6,
      "outputs": [
        {
          "output_type": "execute_result",
          "data": {
            "text/plain": [
              "Index(['model', 'preprocess', 'vectorize', 'score', 'native',\n",
              "       'language_background'],\n",
              "      dtype='object')"
            ]
          },
          "metadata": {
            "tags": []
          },
          "execution_count": 6
        }
      ]
    },
    {
      "cell_type": "code",
      "metadata": {
        "id": "Wb8OvWwiWzUw",
        "colab_type": "code",
        "colab": {}
      },
      "source": [
        "def add_row(results_df, res_list):\n",
        "  return results_df.append(dict(zip(results_df.columns, res_list)), ignore_index=True)"
      ],
      "execution_count": 0,
      "outputs": []
    },
    {
      "cell_type": "markdown",
      "metadata": {
        "id": "S6QtmMUBg7Ul",
        "colab_type": "text"
      },
      "source": [
        "# THE BASELINE RESULTS ARE AS FOLLOWS"
      ]
    },
    {
      "cell_type": "markdown",
      "metadata": {
        "id": "U_b0Coezh3JT",
        "colab_type": "text"
      },
      "source": [
        "**F1 score**\n",
        "\n",
        "![image](https://github.com/ovbystrova/Interference/raw/master/f1.png)\n",
        "\n",
        "**Accuracy score**\n",
        "\n",
        "![image](https://github.com/ovbystrova/Interference/raw/master/acc.png)\n",
        "\n"
      ]
    },
    {
      "cell_type": "markdown",
      "metadata": {
        "id": "0dzVgGLjmgaV",
        "colab_type": "text"
      },
      "source": [
        "## Dataset"
      ]
    },
    {
      "cell_type": "code",
      "metadata": {
        "id": "K81FnWm099my",
        "colab_type": "code",
        "colab": {}
      },
      "source": [
        "df = pd.read_csv('original_texts.csv', index_col='id')"
      ],
      "execution_count": 0,
      "outputs": []
    },
    {
      "cell_type": "code",
      "metadata": {
        "id": "BXYCPIvW-uAp",
        "colab_type": "code",
        "outputId": "ba1f6244-038a-4a24-d9e4-eda3860b69f6",
        "colab": {
          "base_uri": "https://localhost:8080/",
          "height": 223
        }
      },
      "source": [
        "df.head()"
      ],
      "execution_count": 9,
      "outputs": [
        {
          "output_type": "execute_result",
          "data": {
            "text/html": [
              "<div>\n",
              "<style scoped>\n",
              "    .dataframe tbody tr th:only-of-type {\n",
              "        vertical-align: middle;\n",
              "    }\n",
              "\n",
              "    .dataframe tbody tr th {\n",
              "        vertical-align: top;\n",
              "    }\n",
              "\n",
              "    .dataframe thead th {\n",
              "        text-align: right;\n",
              "    }\n",
              "</style>\n",
              "<table border=\"1\" class=\"dataframe\">\n",
              "  <thead>\n",
              "    <tr style=\"text-align: right;\">\n",
              "      <th></th>\n",
              "      <th>native</th>\n",
              "      <th>language_background</th>\n",
              "      <th>title</th>\n",
              "      <th>text</th>\n",
              "      <th>date1</th>\n",
              "      <th>date2</th>\n",
              "      <th>level</th>\n",
              "      <th>annotated</th>\n",
              "      <th>checked</th>\n",
              "    </tr>\n",
              "    <tr>\n",
              "      <th>id</th>\n",
              "      <th></th>\n",
              "      <th></th>\n",
              "      <th></th>\n",
              "      <th></th>\n",
              "      <th></th>\n",
              "      <th></th>\n",
              "      <th></th>\n",
              "      <th></th>\n",
              "      <th></th>\n",
              "    </tr>\n",
              "  </thead>\n",
              "  <tbody>\n",
              "    <tr>\n",
              "      <th>1</th>\n",
              "      <td>eng</td>\n",
              "      <td>HL</td>\n",
              "      <td>expository (non-timed, paragraph, Environmenta...</td>\n",
              "      <td>Загрязнение тяжелыми металлами Дальнегорского...</td>\n",
              "      <td>2009.0</td>\n",
              "      <td>2010.0</td>\n",
              "      <td>AM</td>\n",
              "      <td>1</td>\n",
              "      <td>1</td>\n",
              "    </tr>\n",
              "    <tr>\n",
              "      <th>2</th>\n",
              "      <td>NaN</td>\n",
              "      <td>NaN</td>\n",
              "      <td>–</td>\n",
              "      <td>Многие жители России пишут письма президенту М...</td>\n",
              "      <td>2000.0</td>\n",
              "      <td>2013.0</td>\n",
              "      <td>NaN</td>\n",
              "      <td>1</td>\n",
              "      <td>1</td>\n",
              "    </tr>\n",
              "    <tr>\n",
              "      <th>3</th>\n",
              "      <td>eng</td>\n",
              "      <td>HL</td>\n",
              "      <td>business correspondence (non-timed, paragraph,...</td>\n",
              "      <td>Директору магазина « Адидас» М. И. Васильченк...</td>\n",
              "      <td>2009.0</td>\n",
              "      <td>2010.0</td>\n",
              "      <td>AM</td>\n",
              "      <td>1</td>\n",
              "      <td>1</td>\n",
              "    </tr>\n",
              "    <tr>\n",
              "      <th>4</th>\n",
              "      <td>eng</td>\n",
              "      <td>FL</td>\n",
              "      <td>definition (non-timed, sentences, Russian in t...</td>\n",
              "      <td>&amp;lt; Что такое аннотация?&amp;gt;. Что такое анно...</td>\n",
              "      <td>2011.0</td>\n",
              "      <td>2012.0</td>\n",
              "      <td>IH</td>\n",
              "      <td>1</td>\n",
              "      <td>1</td>\n",
              "    </tr>\n",
              "    <tr>\n",
              "      <th>5</th>\n",
              "      <td>eng</td>\n",
              "      <td>FL</td>\n",
              "      <td>summary (non-timed, paragraph, Capstone)</td>\n",
              "      <td>Вывод. Спасибо, ребята, за хорошие ответы. Я ...</td>\n",
              "      <td>2012.0</td>\n",
              "      <td>2013.0</td>\n",
              "      <td>AM</td>\n",
              "      <td>1</td>\n",
              "      <td>1</td>\n",
              "    </tr>\n",
              "  </tbody>\n",
              "</table>\n",
              "</div>"
            ],
            "text/plain": [
              "   native language_background  ... annotated checked\n",
              "id                             ...                  \n",
              "1     eng                  HL  ...         1       1\n",
              "2     NaN                 NaN  ...         1       1\n",
              "3     eng                  HL  ...         1       1\n",
              "4     eng                  FL  ...         1       1\n",
              "5     eng                  FL  ...         1       1\n",
              "\n",
              "[5 rows x 9 columns]"
            ]
          },
          "metadata": {
            "tags": []
          },
          "execution_count": 9
        }
      ]
    },
    {
      "cell_type": "markdown",
      "metadata": {
        "id": "hixMtueyhgjX",
        "colab_type": "text"
      },
      "source": [
        "Drop useless for our task columns and NaNs"
      ]
    },
    {
      "cell_type": "code",
      "metadata": {
        "id": "N_R-1CbFa3Lw",
        "colab_type": "code",
        "colab": {}
      },
      "source": [
        "df = df.drop(['title', 'date1', 'date2', 'level', 'annotated', 'checked'], axis=1)\n",
        "df = df.dropna()"
      ],
      "execution_count": 0,
      "outputs": []
    },
    {
      "cell_type": "code",
      "metadata": {
        "id": "GVqcSGkcuYXF",
        "colab_type": "code",
        "colab": {
          "base_uri": "https://localhost:8080/",
          "height": 223
        },
        "outputId": "ebe00fa5-07be-461c-d451-125597e77046"
      },
      "source": [
        "df['text'] = df.text.apply(lambda x: re.sub('\\&[lg]t;', '', x))\n",
        "df.head()"
      ],
      "execution_count": 11,
      "outputs": [
        {
          "output_type": "execute_result",
          "data": {
            "text/html": [
              "<div>\n",
              "<style scoped>\n",
              "    .dataframe tbody tr th:only-of-type {\n",
              "        vertical-align: middle;\n",
              "    }\n",
              "\n",
              "    .dataframe tbody tr th {\n",
              "        vertical-align: top;\n",
              "    }\n",
              "\n",
              "    .dataframe thead th {\n",
              "        text-align: right;\n",
              "    }\n",
              "</style>\n",
              "<table border=\"1\" class=\"dataframe\">\n",
              "  <thead>\n",
              "    <tr style=\"text-align: right;\">\n",
              "      <th></th>\n",
              "      <th>native</th>\n",
              "      <th>language_background</th>\n",
              "      <th>text</th>\n",
              "    </tr>\n",
              "    <tr>\n",
              "      <th>id</th>\n",
              "      <th></th>\n",
              "      <th></th>\n",
              "      <th></th>\n",
              "    </tr>\n",
              "  </thead>\n",
              "  <tbody>\n",
              "    <tr>\n",
              "      <th>1</th>\n",
              "      <td>eng</td>\n",
              "      <td>HL</td>\n",
              "      <td>Загрязнение тяжелыми металлами Дальнегорского...</td>\n",
              "    </tr>\n",
              "    <tr>\n",
              "      <th>3</th>\n",
              "      <td>eng</td>\n",
              "      <td>HL</td>\n",
              "      <td>Директору магазина « Адидас» М. И. Васильченк...</td>\n",
              "    </tr>\n",
              "    <tr>\n",
              "      <th>4</th>\n",
              "      <td>eng</td>\n",
              "      <td>FL</td>\n",
              "      <td>Что такое аннотация?. Что такое аннотация ( ...</td>\n",
              "    </tr>\n",
              "    <tr>\n",
              "      <th>5</th>\n",
              "      <td>eng</td>\n",
              "      <td>FL</td>\n",
              "      <td>Вывод. Спасибо, ребята, за хорошие ответы. Я ...</td>\n",
              "    </tr>\n",
              "    <tr>\n",
              "      <th>6</th>\n",
              "      <td>eng</td>\n",
              "      <td>FL</td>\n",
              "      <td>Записи. Первая проблема- что производить? втор...</td>\n",
              "    </tr>\n",
              "  </tbody>\n",
              "</table>\n",
              "</div>"
            ],
            "text/plain": [
              "   native  ...                                               text\n",
              "id         ...                                                   \n",
              "1     eng  ...   Загрязнение тяжелыми металлами Дальнегорского...\n",
              "3     eng  ...   Директору магазина « Адидас» М. И. Васильченк...\n",
              "4     eng  ...    Что такое аннотация?. Что такое аннотация ( ...\n",
              "5     eng  ...   Вывод. Спасибо, ребята, за хорошие ответы. Я ...\n",
              "6     eng  ...  Записи. Первая проблема- что производить? втор...\n",
              "\n",
              "[5 rows x 3 columns]"
            ]
          },
          "metadata": {
            "tags": []
          },
          "execution_count": 11
        }
      ]
    },
    {
      "cell_type": "code",
      "metadata": {
        "id": "Pl22YTY7H0U6",
        "colab_type": "code",
        "colab": {
          "base_uri": "https://localhost:8080/",
          "height": 301
        },
        "outputId": "bc64a577-3bd7-43fa-fbcf-2abfc55cfd13"
      },
      "source": [
        "df['native'].value_counts(normalize=True)"
      ],
      "execution_count": 12,
      "outputs": [
        {
          "output_type": "execute_result",
          "data": {
            "text/plain": [
              "eng    0.401660\n",
              "jap    0.200639\n",
              "fin    0.157216\n",
              "fr     0.063218\n",
              "kaz    0.063091\n",
              "ger    0.036143\n",
              "kor    0.025160\n",
              "swe    0.022733\n",
              "ita    0.014687\n",
              "taj    0.003831\n",
              "nor    0.003576\n",
              "chi    0.003065\n",
              "ser    0.002427\n",
              "dut    0.002299\n",
              "est    0.000255\n",
              "Name: native, dtype: float64"
            ]
          },
          "metadata": {
            "tags": []
          },
          "execution_count": 12
        }
      ]
    },
    {
      "cell_type": "code",
      "metadata": {
        "id": "dZUya2fyMz53",
        "colab_type": "code",
        "colab": {
          "base_uri": "https://localhost:8080/",
          "height": 223
        },
        "outputId": "b8368141-9a18-4193-b459-6d2d1ec5f99b"
      },
      "source": [
        "le = LabelEncoder()\n",
        "le.fit(df.native.values)\n",
        "list(le.classes_)\n",
        "df['target_native'] = le.transform(df['native'].values)\n",
        "df.head()"
      ],
      "execution_count": 13,
      "outputs": [
        {
          "output_type": "execute_result",
          "data": {
            "text/html": [
              "<div>\n",
              "<style scoped>\n",
              "    .dataframe tbody tr th:only-of-type {\n",
              "        vertical-align: middle;\n",
              "    }\n",
              "\n",
              "    .dataframe tbody tr th {\n",
              "        vertical-align: top;\n",
              "    }\n",
              "\n",
              "    .dataframe thead th {\n",
              "        text-align: right;\n",
              "    }\n",
              "</style>\n",
              "<table border=\"1\" class=\"dataframe\">\n",
              "  <thead>\n",
              "    <tr style=\"text-align: right;\">\n",
              "      <th></th>\n",
              "      <th>native</th>\n",
              "      <th>language_background</th>\n",
              "      <th>text</th>\n",
              "      <th>target_native</th>\n",
              "    </tr>\n",
              "    <tr>\n",
              "      <th>id</th>\n",
              "      <th></th>\n",
              "      <th></th>\n",
              "      <th></th>\n",
              "      <th></th>\n",
              "    </tr>\n",
              "  </thead>\n",
              "  <tbody>\n",
              "    <tr>\n",
              "      <th>1</th>\n",
              "      <td>eng</td>\n",
              "      <td>HL</td>\n",
              "      <td>Загрязнение тяжелыми металлами Дальнегорского...</td>\n",
              "      <td>2</td>\n",
              "    </tr>\n",
              "    <tr>\n",
              "      <th>3</th>\n",
              "      <td>eng</td>\n",
              "      <td>HL</td>\n",
              "      <td>Директору магазина « Адидас» М. И. Васильченк...</td>\n",
              "      <td>2</td>\n",
              "    </tr>\n",
              "    <tr>\n",
              "      <th>4</th>\n",
              "      <td>eng</td>\n",
              "      <td>FL</td>\n",
              "      <td>Что такое аннотация?. Что такое аннотация ( ...</td>\n",
              "      <td>2</td>\n",
              "    </tr>\n",
              "    <tr>\n",
              "      <th>5</th>\n",
              "      <td>eng</td>\n",
              "      <td>FL</td>\n",
              "      <td>Вывод. Спасибо, ребята, за хорошие ответы. Я ...</td>\n",
              "      <td>2</td>\n",
              "    </tr>\n",
              "    <tr>\n",
              "      <th>6</th>\n",
              "      <td>eng</td>\n",
              "      <td>FL</td>\n",
              "      <td>Записи. Первая проблема- что производить? втор...</td>\n",
              "      <td>2</td>\n",
              "    </tr>\n",
              "  </tbody>\n",
              "</table>\n",
              "</div>"
            ],
            "text/plain": [
              "   native  ... target_native\n",
              "id         ...              \n",
              "1     eng  ...             2\n",
              "3     eng  ...             2\n",
              "4     eng  ...             2\n",
              "5     eng  ...             2\n",
              "6     eng  ...             2\n",
              "\n",
              "[5 rows x 4 columns]"
            ]
          },
          "metadata": {
            "tags": []
          },
          "execution_count": 13
        }
      ]
    },
    {
      "cell_type": "code",
      "metadata": {
        "id": "6Js4nxPlNl15",
        "colab_type": "code",
        "colab": {}
      },
      "source": [
        "# list(le.inverse_transform([2, 2, 1])))"
      ],
      "execution_count": 0,
      "outputs": []
    },
    {
      "cell_type": "code",
      "metadata": {
        "id": "e7AFQd7IIyVP",
        "colab_type": "code",
        "colab": {
          "base_uri": "https://localhost:8080/",
          "height": 70
        },
        "outputId": "2d9b5ec6-02b6-4f9a-93d5-54c036eea711"
      },
      "source": [
        "df['language_background'].value_counts(normalize=True)"
      ],
      "execution_count": 15,
      "outputs": [
        {
          "output_type": "execute_result",
          "data": {
            "text/plain": [
              "FL    0.689144\n",
              "HL    0.310856\n",
              "Name: language_background, dtype: float64"
            ]
          },
          "metadata": {
            "tags": []
          },
          "execution_count": 15
        }
      ]
    },
    {
      "cell_type": "code",
      "metadata": {
        "id": "v2CjGd_tNuru",
        "colab_type": "code",
        "colab": {
          "base_uri": "https://localhost:8080/",
          "height": 223
        },
        "outputId": "e289978c-d60a-4a08-c0c8-f068c96719bc"
      },
      "source": [
        "le_lb = LabelEncoder()\n",
        "le_lb.fit(df.language_background.values)\n",
        "list(le_lb.classes_)\n",
        "df['target_lb'] = le_lb.transform(df['language_background'].values)\n",
        "df.head()"
      ],
      "execution_count": 16,
      "outputs": [
        {
          "output_type": "execute_result",
          "data": {
            "text/html": [
              "<div>\n",
              "<style scoped>\n",
              "    .dataframe tbody tr th:only-of-type {\n",
              "        vertical-align: middle;\n",
              "    }\n",
              "\n",
              "    .dataframe tbody tr th {\n",
              "        vertical-align: top;\n",
              "    }\n",
              "\n",
              "    .dataframe thead th {\n",
              "        text-align: right;\n",
              "    }\n",
              "</style>\n",
              "<table border=\"1\" class=\"dataframe\">\n",
              "  <thead>\n",
              "    <tr style=\"text-align: right;\">\n",
              "      <th></th>\n",
              "      <th>native</th>\n",
              "      <th>language_background</th>\n",
              "      <th>text</th>\n",
              "      <th>target_native</th>\n",
              "      <th>target_lb</th>\n",
              "    </tr>\n",
              "    <tr>\n",
              "      <th>id</th>\n",
              "      <th></th>\n",
              "      <th></th>\n",
              "      <th></th>\n",
              "      <th></th>\n",
              "      <th></th>\n",
              "    </tr>\n",
              "  </thead>\n",
              "  <tbody>\n",
              "    <tr>\n",
              "      <th>1</th>\n",
              "      <td>eng</td>\n",
              "      <td>HL</td>\n",
              "      <td>Загрязнение тяжелыми металлами Дальнегорского...</td>\n",
              "      <td>2</td>\n",
              "      <td>1</td>\n",
              "    </tr>\n",
              "    <tr>\n",
              "      <th>3</th>\n",
              "      <td>eng</td>\n",
              "      <td>HL</td>\n",
              "      <td>Директору магазина « Адидас» М. И. Васильченк...</td>\n",
              "      <td>2</td>\n",
              "      <td>1</td>\n",
              "    </tr>\n",
              "    <tr>\n",
              "      <th>4</th>\n",
              "      <td>eng</td>\n",
              "      <td>FL</td>\n",
              "      <td>Что такое аннотация?. Что такое аннотация ( ...</td>\n",
              "      <td>2</td>\n",
              "      <td>0</td>\n",
              "    </tr>\n",
              "    <tr>\n",
              "      <th>5</th>\n",
              "      <td>eng</td>\n",
              "      <td>FL</td>\n",
              "      <td>Вывод. Спасибо, ребята, за хорошие ответы. Я ...</td>\n",
              "      <td>2</td>\n",
              "      <td>0</td>\n",
              "    </tr>\n",
              "    <tr>\n",
              "      <th>6</th>\n",
              "      <td>eng</td>\n",
              "      <td>FL</td>\n",
              "      <td>Записи. Первая проблема- что производить? втор...</td>\n",
              "      <td>2</td>\n",
              "      <td>0</td>\n",
              "    </tr>\n",
              "  </tbody>\n",
              "</table>\n",
              "</div>"
            ],
            "text/plain": [
              "   native language_background  ... target_native  target_lb\n",
              "id                             ...                         \n",
              "1     eng                  HL  ...             2          1\n",
              "3     eng                  HL  ...             2          1\n",
              "4     eng                  FL  ...             2          0\n",
              "5     eng                  FL  ...             2          0\n",
              "6     eng                  FL  ...             2          0\n",
              "\n",
              "[5 rows x 5 columns]"
            ]
          },
          "metadata": {
            "tags": []
          },
          "execution_count": 16
        }
      ]
    },
    {
      "cell_type": "markdown",
      "metadata": {
        "id": "tC0S9vI6Pd8b",
        "colab_type": "text"
      },
      "source": [
        "## TF-IDF"
      ]
    },
    {
      "cell_type": "markdown",
      "metadata": {
        "id": "tgPiYZKXPwbg",
        "colab_type": "text"
      },
      "source": [
        "### on text"
      ]
    },
    {
      "cell_type": "markdown",
      "metadata": {
        "id": "h71mlBWZPg9R",
        "colab_type": "text"
      },
      "source": [
        "#### native"
      ]
    },
    {
      "cell_type": "code",
      "metadata": {
        "id": "7NgXhi2jMMFl",
        "colab_type": "code",
        "colab": {}
      },
      "source": [
        "vec = TfidfVectorizer(lowercase=True, tokenizer=None, analyzer='word', stop_words='english', \n",
        "                      ngram_range=(1,3), max_df=0.9, min_df=10, \n",
        "                      use_idf=True, smooth_idf=True, norm='l2')\n",
        "\n",
        "xs = vec.fit_transform(df['text'])\n",
        "ys_n = df.target_native.values\n",
        "ys_lb = df.target_lb.values"
      ],
      "execution_count": 0,
      "outputs": []
    },
    {
      "cell_type": "code",
      "metadata": {
        "id": "gIlk2elTKyei",
        "colab_type": "code",
        "colab": {}
      },
      "source": [
        "x_train, x_test, y_train_n, y_test_n = train_test_split(xs, ys_n,\n",
        "                                                    test_size=0.2,\n",
        "                                                    random_state=SEED,\n",
        "                                                    stratify=ys_n)"
      ],
      "execution_count": 0,
      "outputs": []
    },
    {
      "cell_type": "code",
      "metadata": {
        "id": "KHmwFKn7ObxE",
        "colab_type": "code",
        "colab": {
          "base_uri": "https://localhost:8080/",
          "height": 266
        },
        "outputId": "ed901dd1-5434-48d8-98d5-0d858c43f02c"
      },
      "source": [
        "%%time\n",
        "\n",
        "model_n = LogisticRegressionCV(Cs=[10, 1, 0.1], cv=3, penalty='l2', \n",
        "                             multi_class='multinomial',\n",
        "                             scoring='f1_macro', n_jobs=-1, verbose=True, random_state=SEED)\n",
        "model_n.fit(x_train, y_train_n)"
      ],
      "execution_count": 19,
      "outputs": [
        {
          "output_type": "stream",
          "text": [
            "/usr/local/lib/python3.6/dist-packages/sklearn/model_selection/_split.py:667: UserWarning: The least populated class in y has only 2 members, which is less than n_splits=3.\n",
            "  % (min_groups, self.n_splits)), UserWarning)\n",
            "[Parallel(n_jobs=-1)]: Using backend LokyBackend with 4 concurrent workers.\n",
            "[Parallel(n_jobs=-1)]: Done   3 out of   3 | elapsed:   28.6s finished\n"
          ],
          "name": "stderr"
        },
        {
          "output_type": "stream",
          "text": [
            "CPU times: user 19.8 s, sys: 33.1 s, total: 52.9 s\n",
            "Wall time: 42.1 s\n"
          ],
          "name": "stdout"
        },
        {
          "output_type": "stream",
          "text": [
            "/usr/local/lib/python3.6/dist-packages/sklearn/linear_model/_logistic.py:940: ConvergenceWarning: lbfgs failed to converge (status=1):\n",
            "STOP: TOTAL NO. of ITERATIONS REACHED LIMIT.\n",
            "\n",
            "Increase the number of iterations (max_iter) or scale the data as shown in:\n",
            "    https://scikit-learn.org/stable/modules/preprocessing.html\n",
            "Please also refer to the documentation for alternative solver options:\n",
            "    https://scikit-learn.org/stable/modules/linear_model.html#logistic-regression\n",
            "  extra_warning_msg=_LOGISTIC_SOLVER_CONVERGENCE_MSG)\n"
          ],
          "name": "stderr"
        }
      ]
    },
    {
      "cell_type": "code",
      "metadata": {
        "id": "WjHN9HtbOuaP",
        "colab_type": "code",
        "colab": {
          "base_uri": "https://localhost:8080/",
          "height": 35
        },
        "outputId": "d503d095-501a-4f8c-d301-7186b3bd89b4"
      },
      "source": [
        "y_pred_n = model_n.predict(x_test)\n",
        "metrics.f1_score(y_test_n, y_pred_n, average='macro')"
      ],
      "execution_count": 20,
      "outputs": [
        {
          "output_type": "execute_result",
          "data": {
            "text/plain": [
              "0.5813428627511351"
            ]
          },
          "metadata": {
            "tags": []
          },
          "execution_count": 20
        }
      ]
    },
    {
      "cell_type": "code",
      "metadata": {
        "id": "czMphodFPAWa",
        "colab_type": "code",
        "colab": {
          "base_uri": "https://localhost:8080/",
          "height": 35
        },
        "outputId": "fc5dab64-ec6f-47ec-b2eb-487920265e3e"
      },
      "source": [
        "metrics.accuracy_score(y_test_n, y_pred_n)"
      ],
      "execution_count": 21,
      "outputs": [
        {
          "output_type": "execute_result",
          "data": {
            "text/plain": [
              "0.8659003831417624"
            ]
          },
          "metadata": {
            "tags": []
          },
          "execution_count": 21
        }
      ]
    },
    {
      "cell_type": "markdown",
      "metadata": {
        "id": "niCqMZn5Pjst",
        "colab_type": "text"
      },
      "source": [
        "#### language background\n"
      ]
    },
    {
      "cell_type": "code",
      "metadata": {
        "colab_type": "code",
        "id": "bMZVIARvSt5M",
        "colab": {}
      },
      "source": [
        "x_train, x_test, y_train_lb, y_test_lb = train_test_split(xs, ys_lb,\n",
        "                                                    test_size=0.2,\n",
        "                                                    random_state=SEED,\n",
        "                                                    stratify=ys_lb)"
      ],
      "execution_count": 0,
      "outputs": []
    },
    {
      "cell_type": "code",
      "metadata": {
        "colab_type": "code",
        "outputId": "3a1fb69e-71cd-4853-da5c-5a40ee684c10",
        "id": "lKDRGvcMSt5Z",
        "colab": {
          "base_uri": "https://localhost:8080/",
          "height": 230
        }
      },
      "source": [
        "%%time\n",
        "\n",
        "model_lb = LogisticRegressionCV(Cs=[10, 1, 0.1], cv=3, penalty='l2', \n",
        "                             multi_class='multinomial',\n",
        "                             scoring='f1_macro', n_jobs=-1, verbose=True, random_state=SEED)\n",
        "model_lb.fit(x_train, y_train_lb)"
      ],
      "execution_count": 23,
      "outputs": [
        {
          "output_type": "stream",
          "text": [
            "[Parallel(n_jobs=-1)]: Using backend LokyBackend with 4 concurrent workers.\n",
            "[Parallel(n_jobs=-1)]: Done   3 out of   3 | elapsed:    3.5s finished\n"
          ],
          "name": "stderr"
        },
        {
          "output_type": "stream",
          "text": [
            "CPU times: user 4.22 s, sys: 7.39 s, total: 11.6 s\n",
            "Wall time: 6.4 s\n"
          ],
          "name": "stdout"
        },
        {
          "output_type": "stream",
          "text": [
            "/usr/local/lib/python3.6/dist-packages/sklearn/linear_model/_logistic.py:940: ConvergenceWarning: lbfgs failed to converge (status=1):\n",
            "STOP: TOTAL NO. of ITERATIONS REACHED LIMIT.\n",
            "\n",
            "Increase the number of iterations (max_iter) or scale the data as shown in:\n",
            "    https://scikit-learn.org/stable/modules/preprocessing.html\n",
            "Please also refer to the documentation for alternative solver options:\n",
            "    https://scikit-learn.org/stable/modules/linear_model.html#logistic-regression\n",
            "  extra_warning_msg=_LOGISTIC_SOLVER_CONVERGENCE_MSG)\n"
          ],
          "name": "stderr"
        }
      ]
    },
    {
      "cell_type": "code",
      "metadata": {
        "colab_type": "code",
        "outputId": "32e4c310-32df-4612-9bb0-dae34341dcc1",
        "id": "SNtkvFoYSt5h",
        "colab": {
          "base_uri": "https://localhost:8080/",
          "height": 35
        }
      },
      "source": [
        "y_pred_lb = model_lb.predict(x_test)\n",
        "metrics.f1_score(y_test_lb, y_pred_lb, average='macro')"
      ],
      "execution_count": 24,
      "outputs": [
        {
          "output_type": "execute_result",
          "data": {
            "text/plain": [
              "0.8679522554098691"
            ]
          },
          "metadata": {
            "tags": []
          },
          "execution_count": 24
        }
      ]
    },
    {
      "cell_type": "code",
      "metadata": {
        "colab_type": "code",
        "outputId": "a0fcd2ce-8cba-410a-8da3-f54298fdb8bf",
        "id": "SFI8Bj-RSt5p",
        "colab": {
          "base_uri": "https://localhost:8080/",
          "height": 35
        }
      },
      "source": [
        "metrics.accuracy_score(y_test_lb, y_pred_lb)"
      ],
      "execution_count": 25,
      "outputs": [
        {
          "output_type": "execute_result",
          "data": {
            "text/plain": [
              "0.8895274584929758"
            ]
          },
          "metadata": {
            "tags": []
          },
          "execution_count": 25
        }
      ]
    },
    {
      "cell_type": "markdown",
      "metadata": {
        "id": "AGEopzNNXoty",
        "colab_type": "text"
      },
      "source": [
        "#### add results"
      ]
    },
    {
      "cell_type": "code",
      "metadata": {
        "id": "tesKvbBFWscX",
        "colab_type": "code",
        "colab": {
          "base_uri": "https://localhost:8080/",
          "height": 106
        },
        "outputId": "b621cfaf-c2a5-4780-f506-e49d159008a5"
      },
      "source": [
        "results = add_row(results, ['logreg', None, 'tf-idf', 'f1', metrics.f1_score(y_test_n, y_pred_n, average='macro'), metrics.f1_score(y_test_lb, y_pred_lb, average='macro')])\n",
        "results = add_row(results, ['logreg', None, 'tf-idf', 'accuracy', metrics.accuracy_score(y_test_n, y_pred_n), metrics.accuracy_score(y_test_lb, y_pred_lb)])\n",
        "results"
      ],
      "execution_count": 26,
      "outputs": [
        {
          "output_type": "execute_result",
          "data": {
            "text/html": [
              "<div>\n",
              "<style scoped>\n",
              "    .dataframe tbody tr th:only-of-type {\n",
              "        vertical-align: middle;\n",
              "    }\n",
              "\n",
              "    .dataframe tbody tr th {\n",
              "        vertical-align: top;\n",
              "    }\n",
              "\n",
              "    .dataframe thead th {\n",
              "        text-align: right;\n",
              "    }\n",
              "</style>\n",
              "<table border=\"1\" class=\"dataframe\">\n",
              "  <thead>\n",
              "    <tr style=\"text-align: right;\">\n",
              "      <th></th>\n",
              "      <th>model</th>\n",
              "      <th>preprocess</th>\n",
              "      <th>vectorize</th>\n",
              "      <th>score</th>\n",
              "      <th>native</th>\n",
              "      <th>language_background</th>\n",
              "    </tr>\n",
              "  </thead>\n",
              "  <tbody>\n",
              "    <tr>\n",
              "      <th>0</th>\n",
              "      <td>logreg</td>\n",
              "      <td>None</td>\n",
              "      <td>tf-idf</td>\n",
              "      <td>f1</td>\n",
              "      <td>0.581343</td>\n",
              "      <td>0.867952</td>\n",
              "    </tr>\n",
              "    <tr>\n",
              "      <th>1</th>\n",
              "      <td>logreg</td>\n",
              "      <td>None</td>\n",
              "      <td>tf-idf</td>\n",
              "      <td>accuracy</td>\n",
              "      <td>0.865900</td>\n",
              "      <td>0.889527</td>\n",
              "    </tr>\n",
              "  </tbody>\n",
              "</table>\n",
              "</div>"
            ],
            "text/plain": [
              "    model preprocess vectorize     score    native  language_background\n",
              "0  logreg       None    tf-idf        f1  0.581343             0.867952\n",
              "1  logreg       None    tf-idf  accuracy  0.865900             0.889527"
            ]
          },
          "metadata": {
            "tags": []
          },
          "execution_count": 26
        }
      ]
    },
    {
      "cell_type": "markdown",
      "metadata": {
        "id": "BRomkoYWPoEO",
        "colab_type": "text"
      },
      "source": [
        "### on tokenized"
      ]
    },
    {
      "cell_type": "markdown",
      "metadata": {
        "id": "wH9FFBw1QmIS",
        "colab_type": "text"
      },
      "source": [
        "#### native"
      ]
    },
    {
      "cell_type": "code",
      "metadata": {
        "id": "4_4rnAtUP8E6",
        "colab_type": "code",
        "colab": {}
      },
      "source": [
        "tokenize = lambda x: re.findall('\\w+', x.lower())"
      ],
      "execution_count": 0,
      "outputs": []
    },
    {
      "cell_type": "code",
      "metadata": {
        "id": "V-6cQCk9P3jI",
        "colab_type": "code",
        "colab": {}
      },
      "source": [
        "vec2 = TfidfVectorizer(lowercase=True, tokenizer=tokenize, analyzer='word', \n",
        "                      ngram_range=(1,3), max_df=0.9, min_df=10, \n",
        "                      use_idf=True, smooth_idf=True, norm='l2')\n",
        "xs_token = vec2.fit_transform(df['text'])"
      ],
      "execution_count": 0,
      "outputs": []
    },
    {
      "cell_type": "code",
      "metadata": {
        "id": "lVeS_NItQgJd",
        "colab_type": "code",
        "colab": {}
      },
      "source": [
        "x_train_token, x_test_token, y_train_n, y_test_n = train_test_split(xs_token, ys_n,\n",
        "                                                    test_size=0.2,\n",
        "                                                    random_state=SEED,\n",
        "                                                    stratify=ys_n)"
      ],
      "execution_count": 0,
      "outputs": []
    },
    {
      "cell_type": "code",
      "metadata": {
        "id": "E5PZeznuQXuL",
        "colab_type": "code",
        "colab": {
          "base_uri": "https://localhost:8080/",
          "height": 301
        },
        "outputId": "d947f2fc-6aff-4f76-ec5e-cd5879c8853f"
      },
      "source": [
        "%%time\n",
        "fi = LogisticRegression(C=1, penalty='l1', solver='saga', multi_class='multinomial', n_jobs=-1, random_state=SEED)\n",
        "\n",
        "\n",
        "model_token_n = make_pipeline(\n",
        "    SelectFromModel(fi, threshold=\"mean\", max_features=20000),\n",
        "    LogisticRegressionCV(Cs=[10, 1, 0.1], cv=3, penalty='l2', \n",
        "                             multi_class='multinomial',\n",
        "                             scoring='f1_macro', n_jobs=-1, verbose=True, random_state=SEED)\n",
        ")\n",
        "model_token_n.fit(x_train_token, y_train_n)"
      ],
      "execution_count": 30,
      "outputs": [
        {
          "output_type": "stream",
          "text": [
            "/usr/local/lib/python3.6/dist-packages/sklearn/linear_model/_sag.py:330: ConvergenceWarning: The max_iter was reached which means the coef_ did not converge\n",
            "  \"the coef_ did not converge\", ConvergenceWarning)\n",
            "/usr/local/lib/python3.6/dist-packages/sklearn/model_selection/_split.py:667: UserWarning: The least populated class in y has only 2 members, which is less than n_splits=3.\n",
            "  % (min_groups, self.n_splits)), UserWarning)\n",
            "[Parallel(n_jobs=-1)]: Using backend LokyBackend with 4 concurrent workers.\n",
            "[Parallel(n_jobs=-1)]: Done   3 out of   3 | elapsed:    3.3s finished\n"
          ],
          "name": "stderr"
        },
        {
          "output_type": "stream",
          "text": [
            "CPU times: user 20.9 s, sys: 22.7 ms, total: 21 s\n",
            "Wall time: 24.3 s\n"
          ],
          "name": "stdout"
        },
        {
          "output_type": "stream",
          "text": [
            "/usr/local/lib/python3.6/dist-packages/sklearn/linear_model/_logistic.py:940: ConvergenceWarning: lbfgs failed to converge (status=1):\n",
            "STOP: TOTAL NO. of ITERATIONS REACHED LIMIT.\n",
            "\n",
            "Increase the number of iterations (max_iter) or scale the data as shown in:\n",
            "    https://scikit-learn.org/stable/modules/preprocessing.html\n",
            "Please also refer to the documentation for alternative solver options:\n",
            "    https://scikit-learn.org/stable/modules/linear_model.html#logistic-regression\n",
            "  extra_warning_msg=_LOGISTIC_SOLVER_CONVERGENCE_MSG)\n"
          ],
          "name": "stderr"
        }
      ]
    },
    {
      "cell_type": "code",
      "metadata": {
        "colab_type": "code",
        "outputId": "9751a722-419c-49b8-cd51-8c84d6b24ef7",
        "id": "PMQbgGo7RKHs",
        "colab": {
          "base_uri": "https://localhost:8080/",
          "height": 35
        }
      },
      "source": [
        "y_pred_token_n = model_token_n.predict(x_test_token)\n",
        "metrics.f1_score(y_test_n, y_pred_token_n, average='macro')"
      ],
      "execution_count": 31,
      "outputs": [
        {
          "output_type": "execute_result",
          "data": {
            "text/plain": [
              "0.4773317920457982"
            ]
          },
          "metadata": {
            "tags": []
          },
          "execution_count": 31
        }
      ]
    },
    {
      "cell_type": "code",
      "metadata": {
        "colab_type": "code",
        "outputId": "e596dc6f-2e8a-4661-b2d1-e77a95dfed29",
        "id": "2amX7y7FRKIB",
        "colab": {
          "base_uri": "https://localhost:8080/",
          "height": 35
        }
      },
      "source": [
        "metrics.accuracy_score(y_test_n, y_pred_token_n)"
      ],
      "execution_count": 32,
      "outputs": [
        {
          "output_type": "execute_result",
          "data": {
            "text/plain": [
              "0.8218390804597702"
            ]
          },
          "metadata": {
            "tags": []
          },
          "execution_count": 32
        }
      ]
    },
    {
      "cell_type": "markdown",
      "metadata": {
        "id": "GCZDZR6XRuDQ",
        "colab_type": "text"
      },
      "source": [
        "#### language background"
      ]
    },
    {
      "cell_type": "code",
      "metadata": {
        "colab_type": "code",
        "id": "5kRy0sZvSACC",
        "colab": {}
      },
      "source": [
        "x_train_token, x_test_token, y_train_lb, y_test_lb = train_test_split(xs_token, ys_lb,\n",
        "                                                    test_size=0.2,\n",
        "                                                    random_state=SEED,\n",
        "                                                    stratify=ys_lb)"
      ],
      "execution_count": 0,
      "outputs": []
    },
    {
      "cell_type": "code",
      "metadata": {
        "colab_type": "code",
        "outputId": "a75eb438-e510-4865-842f-d40d4bf98d99",
        "id": "gXLDSSGdSACU",
        "colab": {
          "base_uri": "https://localhost:8080/",
          "height": 124
        }
      },
      "source": [
        "%%time\n",
        "fi = LogisticRegression(C=1, penalty='l1', solver='saga', multi_class='multinomial', n_jobs=-1, random_state=SEED)\n",
        "\n",
        "\n",
        "model_token_lb = make_pipeline(\n",
        "    SelectFromModel(fi, threshold=\"mean\", max_features=20000),\n",
        "    LogisticRegressionCV(Cs=[10, 1, 0.1], cv=3, penalty='l2', \n",
        "                             multi_class='multinomial',\n",
        "                             scoring='f1_macro', n_jobs=-1, verbose=True, random_state=SEED)\n",
        ")\n",
        "model_token_lb.fit(x_train_token, y_train_lb)"
      ],
      "execution_count": 34,
      "outputs": [
        {
          "output_type": "stream",
          "text": [
            "/usr/local/lib/python3.6/dist-packages/sklearn/linear_model/_sag.py:330: ConvergenceWarning: The max_iter was reached which means the coef_ did not converge\n",
            "  \"the coef_ did not converge\", ConvergenceWarning)\n",
            "[Parallel(n_jobs=-1)]: Using backend LokyBackend with 4 concurrent workers.\n",
            "[Parallel(n_jobs=-1)]: Done   3 out of   3 | elapsed:    0.6s finished\n"
          ],
          "name": "stderr"
        },
        {
          "output_type": "stream",
          "text": [
            "CPU times: user 5.36 s, sys: 5.41 ms, total: 5.37 s\n",
            "Wall time: 6.03 s\n"
          ],
          "name": "stdout"
        }
      ]
    },
    {
      "cell_type": "code",
      "metadata": {
        "colab_type": "code",
        "outputId": "94724039-5da0-4b54-db81-677836e16893",
        "id": "ar7-DJ0tSACj",
        "colab": {
          "base_uri": "https://localhost:8080/",
          "height": 35
        }
      },
      "source": [
        "y_pred_token_lb = model_token_lb.predict(x_test_token)\n",
        "metrics.f1_score(y_test_lb, y_pred_token_lb, average='macro')"
      ],
      "execution_count": 35,
      "outputs": [
        {
          "output_type": "execute_result",
          "data": {
            "text/plain": [
              "0.7913515555864894"
            ]
          },
          "metadata": {
            "tags": []
          },
          "execution_count": 35
        }
      ]
    },
    {
      "cell_type": "code",
      "metadata": {
        "colab_type": "code",
        "outputId": "469d2eaf-ace6-4f33-ac23-98b7fbae5b92",
        "id": "SbLhl1orSAC0",
        "colab": {
          "base_uri": "https://localhost:8080/",
          "height": 35
        }
      },
      "source": [
        "metrics.accuracy_score(y_test_lb, y_pred_token_lb)"
      ],
      "execution_count": 36,
      "outputs": [
        {
          "output_type": "execute_result",
          "data": {
            "text/plain": [
              "0.8288633461047255"
            ]
          },
          "metadata": {
            "tags": []
          },
          "execution_count": 36
        }
      ]
    },
    {
      "cell_type": "markdown",
      "metadata": {
        "id": "pivZRmAfYrr9",
        "colab_type": "text"
      },
      "source": [
        "#### add results"
      ]
    },
    {
      "cell_type": "code",
      "metadata": {
        "id": "jAvkOz3QYuF8",
        "colab_type": "code",
        "colab": {
          "base_uri": "https://localhost:8080/",
          "height": 164
        },
        "outputId": "4a7fe4db-b9be-4255-ba1e-bbe81ec3c93f"
      },
      "source": [
        "results = add_row(results, ['logreg search', 'regex tokens', 'tf-idf', 'f1', metrics.f1_score(y_test_n, y_pred_token_n, average='macro'), metrics.f1_score(y_test_lb, y_pred_token_lb, average='macro')])\n",
        "results = add_row(results, ['logreg search', 'regex tokens', 'tf-idf', 'accuracy', metrics.accuracy_score(y_test_n, y_pred_token_n), metrics.accuracy_score(y_test_lb, y_pred_token_lb)])\n",
        "results"
      ],
      "execution_count": 37,
      "outputs": [
        {
          "output_type": "execute_result",
          "data": {
            "text/html": [
              "<div>\n",
              "<style scoped>\n",
              "    .dataframe tbody tr th:only-of-type {\n",
              "        vertical-align: middle;\n",
              "    }\n",
              "\n",
              "    .dataframe tbody tr th {\n",
              "        vertical-align: top;\n",
              "    }\n",
              "\n",
              "    .dataframe thead th {\n",
              "        text-align: right;\n",
              "    }\n",
              "</style>\n",
              "<table border=\"1\" class=\"dataframe\">\n",
              "  <thead>\n",
              "    <tr style=\"text-align: right;\">\n",
              "      <th></th>\n",
              "      <th>model</th>\n",
              "      <th>preprocess</th>\n",
              "      <th>vectorize</th>\n",
              "      <th>score</th>\n",
              "      <th>native</th>\n",
              "      <th>language_background</th>\n",
              "    </tr>\n",
              "  </thead>\n",
              "  <tbody>\n",
              "    <tr>\n",
              "      <th>0</th>\n",
              "      <td>logreg</td>\n",
              "      <td>None</td>\n",
              "      <td>tf-idf</td>\n",
              "      <td>f1</td>\n",
              "      <td>0.581343</td>\n",
              "      <td>0.867952</td>\n",
              "    </tr>\n",
              "    <tr>\n",
              "      <th>1</th>\n",
              "      <td>logreg</td>\n",
              "      <td>None</td>\n",
              "      <td>tf-idf</td>\n",
              "      <td>accuracy</td>\n",
              "      <td>0.865900</td>\n",
              "      <td>0.889527</td>\n",
              "    </tr>\n",
              "    <tr>\n",
              "      <th>2</th>\n",
              "      <td>logreg search</td>\n",
              "      <td>regex tokens</td>\n",
              "      <td>tf-idf</td>\n",
              "      <td>f1</td>\n",
              "      <td>0.477332</td>\n",
              "      <td>0.791352</td>\n",
              "    </tr>\n",
              "    <tr>\n",
              "      <th>3</th>\n",
              "      <td>logreg search</td>\n",
              "      <td>regex tokens</td>\n",
              "      <td>tf-idf</td>\n",
              "      <td>accuracy</td>\n",
              "      <td>0.821839</td>\n",
              "      <td>0.828863</td>\n",
              "    </tr>\n",
              "  </tbody>\n",
              "</table>\n",
              "</div>"
            ],
            "text/plain": [
              "           model    preprocess  ...    native language_background\n",
              "0         logreg          None  ...  0.581343            0.867952\n",
              "1         logreg          None  ...  0.865900            0.889527\n",
              "2  logreg search  regex tokens  ...  0.477332            0.791352\n",
              "3  logreg search  regex tokens  ...  0.821839            0.828863\n",
              "\n",
              "[4 rows x 6 columns]"
            ]
          },
          "metadata": {
            "tags": []
          },
          "execution_count": 37
        }
      ]
    },
    {
      "cell_type": "markdown",
      "metadata": {
        "id": "dHhHBeBnZetY",
        "colab_type": "text"
      },
      "source": [
        "## w2v"
      ]
    },
    {
      "cell_type": "code",
      "metadata": {
        "id": "t0X8XkwGQU4N",
        "colab_type": "code",
        "colab": {}
      },
      "source": [
        "morph=pymorphy2.MorphAnalyzer()\n",
        "def lemmatize(tokens):\n",
        "  return [morph.parse(word)[0].normal_form for word in tokens]"
      ],
      "execution_count": 0,
      "outputs": []
    },
    {
      "cell_type": "code",
      "metadata": {
        "id": "V1DuUWZDQt52",
        "colab_type": "code",
        "colab": {}
      },
      "source": [
        "df['tokens'] = df['text'].apply(tokenize)"
      ],
      "execution_count": 0,
      "outputs": []
    },
    {
      "cell_type": "code",
      "metadata": {
        "id": "q2blTXpbQZ24",
        "colab_type": "code",
        "colab": {}
      },
      "source": [
        "df['lemmas'] = df['tokens'].apply(lemmatize)"
      ],
      "execution_count": 0,
      "outputs": []
    },
    {
      "cell_type": "code",
      "metadata": {
        "id": "lBtQsE2YIVaz",
        "colab_type": "code",
        "colab": {
          "base_uri": "https://localhost:8080/",
          "height": 212
        },
        "outputId": "11de329f-8b70-4729-cbfb-944a6679c373"
      },
      "source": [
        "!wget http://vectors.nlpl.eu/repository/20/187.zip"
      ],
      "execution_count": 41,
      "outputs": [
        {
          "output_type": "stream",
          "text": [
            "--2020-03-26 19:31:17--  http://vectors.nlpl.eu/repository/20/187.zip\n",
            "Resolving vectors.nlpl.eu (vectors.nlpl.eu)... 129.240.189.225\n",
            "Connecting to vectors.nlpl.eu (vectors.nlpl.eu)|129.240.189.225|:80... connected.\n",
            "HTTP request sent, awaiting response... 200 OK\n",
            "Length: 2692389554 (2.5G) [application/zip]\n",
            "Saving to: ‘187.zip’\n",
            "\n",
            "187.zip             100%[===================>]   2.51G  21.7MB/s    in 2m 9s   \n",
            "\n",
            "2020-03-26 19:33:27 (19.9 MB/s) - ‘187.zip’ saved [2692389554/2692389554]\n",
            "\n"
          ],
          "name": "stdout"
        }
      ]
    },
    {
      "cell_type": "code",
      "metadata": {
        "id": "ZJdiCqQ5LKXq",
        "colab_type": "code",
        "colab": {
          "base_uri": "https://localhost:8080/",
          "height": 141
        },
        "outputId": "93dc5a4f-ce43-4ee3-d4fe-ba2e08a688cf"
      },
      "source": [
        "!unzip 187.zip"
      ],
      "execution_count": 42,
      "outputs": [
        {
          "output_type": "stream",
          "text": [
            "Archive:  187.zip\n",
            "  inflating: meta.json               \n",
            "  inflating: model.model             \n",
            "  inflating: model.model.vectors_ngrams.npy  \n",
            "  inflating: model.model.vectors.npy  \n",
            "  inflating: model.model.vectors_vocab.npy  \n",
            "  inflating: README                  \n"
          ],
          "name": "stdout"
        }
      ]
    },
    {
      "cell_type": "code",
      "metadata": {
        "id": "QHp28s0kIsKb",
        "colab_type": "code",
        "colab": {
          "base_uri": "https://localhost:8080/",
          "height": 72
        },
        "outputId": "caa13999-a8b2-4496-8532-450e39621d7d"
      },
      "source": [
        "from gensim.models import KeyedVectors\n",
        "wv = KeyedVectors.load('model.model')"
      ],
      "execution_count": 45,
      "outputs": [
        {
          "output_type": "stream",
          "text": [
            "/usr/local/lib/python3.6/dist-packages/smart_open/smart_open_lib.py:410: UserWarning: This function is deprecated, use smart_open.open instead. See the migration notes for details: https://github.com/RaRe-Technologies/smart_open/blob/master/README.rst#migrating-to-the-new-open-function\n",
            "  'See the migration notes for details: %s' % _MIGRATION_NOTES_URL\n"
          ],
          "name": "stderr"
        }
      ]
    },
    {
      "cell_type": "code",
      "metadata": {
        "id": "H-sNFXtaZdyU",
        "colab_type": "code",
        "colab": {
          "base_uri": "https://localhost:8080/",
          "height": 70
        },
        "outputId": "1ca3ed33-fac8-45f2-a720-d53585a2446e"
      },
      "source": [
        "wv['вошь'][-10:]"
      ],
      "execution_count": 66,
      "outputs": [
        {
          "output_type": "execute_result",
          "data": {
            "text/plain": [
              "array([ 1.4980615 , -1.4640915 , -0.8392372 ,  2.1419618 , -0.69687366,\n",
              "        1.9414659 , -0.91928923,  0.9815347 , -1.0415771 ,  0.87714154],\n",
              "      dtype=float32)"
            ]
          },
          "metadata": {
            "tags": []
          },
          "execution_count": 66
        }
      ]
    },
    {
      "cell_type": "code",
      "metadata": {
        "id": "Zw4_rIlGdZk5",
        "colab_type": "code",
        "colab": {}
      },
      "source": [
        "bad = 0\n",
        "total = 0\n",
        "def vectorize(sent, w):\n",
        "  sent_vec = []\n",
        "  for w in sent:\n",
        "    global total \n",
        "    total += 1\n",
        "    try:\n",
        "      vec = wv.wv[w]\n",
        "      sent_vec.append(vec)\n",
        "    except KeyError:\n",
        "      continue\n",
        "    except AttributeError:\n",
        "      global bad \n",
        "      bad += 1\n",
        "  if sent_vec:\n",
        "    return np.mean(np.array(sent_vec), axis=0)\n",
        "  else:\n",
        "    return np.zeros(300)"
      ],
      "execution_count": 0,
      "outputs": []
    },
    {
      "cell_type": "code",
      "metadata": {
        "id": "ZZtOT5f5eFpd",
        "colab_type": "code",
        "colab": {
          "base_uri": "https://localhost:8080/",
          "height": 52
        },
        "outputId": "d5f3a138-7175-4aae-fa43-cf250fe4de2e"
      },
      "source": [
        "df['vec'] = df['lemmas'].apply(lambda text: vectorize(text, wv))"
      ],
      "execution_count": 68,
      "outputs": [
        {
          "output_type": "stream",
          "text": [
            "/usr/local/lib/python3.6/dist-packages/ipykernel_launcher.py:9: DeprecationWarning: Call to deprecated `wv` (Attribute will be removed in 4.0.0, use self instead).\n",
            "  if __name__ == '__main__':\n"
          ],
          "name": "stderr"
        }
      ]
    },
    {
      "cell_type": "code",
      "metadata": {
        "id": "hUfD4A-6YqNM",
        "colab_type": "code",
        "colab": {
          "base_uri": "https://localhost:8080/",
          "height": 35
        },
        "outputId": "be6bbee9-6d52-4e0f-e6e1-26961f54e5a0"
      },
      "source": [
        "bad/total"
      ],
      "execution_count": 70,
      "outputs": [
        {
          "output_type": "execute_result",
          "data": {
            "text/plain": [
              "0.17448897338300362"
            ]
          },
          "metadata": {
            "tags": []
          },
          "execution_count": 70
        }
      ]
    },
    {
      "cell_type": "code",
      "metadata": {
        "id": "UHeQbMzKeuKE",
        "colab_type": "code",
        "colab": {}
      },
      "source": [
        "xs_vec = np.vstack(df.vec.values)"
      ],
      "execution_count": 0,
      "outputs": []
    },
    {
      "cell_type": "markdown",
      "metadata": {
        "id": "vB-u2oCHfQRL",
        "colab_type": "text"
      },
      "source": [
        "#### native"
      ]
    },
    {
      "cell_type": "code",
      "metadata": {
        "id": "Df2PcJVjfSWI",
        "colab_type": "code",
        "colab": {}
      },
      "source": [
        "x_train_vec, x_test_vec, y_train_n, y_test_n = train_test_split(xs_vec, ys_n,\n",
        "                                                    test_size=0.2,\n",
        "                                                    random_state=SEED,\n",
        "                                                    stratify=ys_n)"
      ],
      "execution_count": 0,
      "outputs": []
    },
    {
      "cell_type": "code",
      "metadata": {
        "colab_type": "code",
        "outputId": "a96450ef-2696-4f24-90b1-667b36673ed1",
        "id": "kI8ir0gegOAw",
        "colab": {
          "base_uri": "https://localhost:8080/",
          "height": 301
        }
      },
      "source": [
        "%%time\n",
        "fi = LogisticRegression(C=1, penalty='l1', solver='saga', multi_class='multinomial', n_jobs=-1, random_state=SEED)\n",
        "\n",
        "\n",
        "model_vec_n = make_pipeline(\n",
        "    SelectFromModel(fi, threshold=\"mean\", max_features=300),\n",
        "    LogisticRegressionCV(Cs=[10, 1, 0.1], cv=3, penalty='l2', \n",
        "                             multi_class='multinomial',\n",
        "                             scoring='f1_macro', n_jobs=-1, verbose=True, random_state=SEED)\n",
        ")\n",
        "model_vec_n.fit(x_train_vec, y_train_n)"
      ],
      "execution_count": 73,
      "outputs": [
        {
          "output_type": "stream",
          "text": [
            "/usr/local/lib/python3.6/dist-packages/sklearn/linear_model/_sag.py:330: ConvergenceWarning: The max_iter was reached which means the coef_ did not converge\n",
            "  \"the coef_ did not converge\", ConvergenceWarning)\n",
            "/usr/local/lib/python3.6/dist-packages/sklearn/model_selection/_split.py:667: UserWarning: The least populated class in y has only 2 members, which is less than n_splits=3.\n",
            "  % (min_groups, self.n_splits)), UserWarning)\n",
            "[Parallel(n_jobs=-1)]: Using backend LokyBackend with 4 concurrent workers.\n",
            "[Parallel(n_jobs=-1)]: Done   3 out of   3 | elapsed:    4.4s finished\n"
          ],
          "name": "stderr"
        },
        {
          "output_type": "stream",
          "text": [
            "CPU times: user 36.2 s, sys: 3.37 s, total: 39.6 s\n",
            "Wall time: 39.7 s\n"
          ],
          "name": "stdout"
        },
        {
          "output_type": "stream",
          "text": [
            "/usr/local/lib/python3.6/dist-packages/sklearn/linear_model/_logistic.py:940: ConvergenceWarning: lbfgs failed to converge (status=1):\n",
            "STOP: TOTAL NO. of ITERATIONS REACHED LIMIT.\n",
            "\n",
            "Increase the number of iterations (max_iter) or scale the data as shown in:\n",
            "    https://scikit-learn.org/stable/modules/preprocessing.html\n",
            "Please also refer to the documentation for alternative solver options:\n",
            "    https://scikit-learn.org/stable/modules/linear_model.html#logistic-regression\n",
            "  extra_warning_msg=_LOGISTIC_SOLVER_CONVERGENCE_MSG)\n"
          ],
          "name": "stderr"
        }
      ]
    },
    {
      "cell_type": "code",
      "metadata": {
        "colab_type": "code",
        "outputId": "c5f1ee4f-1116-43b5-c124-ce30beb1f2f7",
        "id": "T98uZZ5XgOBC",
        "colab": {
          "base_uri": "https://localhost:8080/",
          "height": 35
        }
      },
      "source": [
        "y_pred_vec_n = model_vec_n.predict(x_test_vec)\n",
        "metrics.f1_score(y_test_n, y_pred_vec_n, average='macro')"
      ],
      "execution_count": 74,
      "outputs": [
        {
          "output_type": "execute_result",
          "data": {
            "text/plain": [
              "0.5241299992944873"
            ]
          },
          "metadata": {
            "tags": []
          },
          "execution_count": 74
        }
      ]
    },
    {
      "cell_type": "code",
      "metadata": {
        "colab_type": "code",
        "outputId": "16300e6d-2e7c-4578-a756-7c8a417e77c5",
        "id": "Br941Gr_gOBM",
        "colab": {
          "base_uri": "https://localhost:8080/",
          "height": 35
        }
      },
      "source": [
        "metrics.accuracy_score(y_test_n, y_pred_vec_n)"
      ],
      "execution_count": 75,
      "outputs": [
        {
          "output_type": "execute_result",
          "data": {
            "text/plain": [
              "0.7790549169859514"
            ]
          },
          "metadata": {
            "tags": []
          },
          "execution_count": 75
        }
      ]
    },
    {
      "cell_type": "markdown",
      "metadata": {
        "id": "wFcubKEqjJ4u",
        "colab_type": "text"
      },
      "source": [
        "#### language background"
      ]
    },
    {
      "cell_type": "code",
      "metadata": {
        "colab_type": "code",
        "id": "Y-r1IIaBjuX7",
        "colab": {}
      },
      "source": [
        "x_train_vec, x_test_vec, y_train_lb, y_test_lb = train_test_split(xs_vec, ys_lb,\n",
        "                                                    test_size=0.2,\n",
        "                                                    random_state=SEED,\n",
        "                                                    stratify=ys_lb)"
      ],
      "execution_count": 0,
      "outputs": []
    },
    {
      "cell_type": "code",
      "metadata": {
        "colab_type": "code",
        "outputId": "cbf69c85-f450-4a97-9d91-21efac02a2dc",
        "id": "u8FBFRKqjuYN",
        "colab": {
          "base_uri": "https://localhost:8080/",
          "height": 124
        }
      },
      "source": [
        "%%time\n",
        "fi = LogisticRegression(C=1, penalty='l1', solver='saga', multi_class='multinomial', n_jobs=-1, random_state=SEED)\n",
        "\n",
        "\n",
        "model_vec_lb = make_pipeline(\n",
        "    SelectFromModel(fi, threshold=\"mean\", max_features=300),\n",
        "    LogisticRegressionCV(Cs=[10, 1, 0.1], cv=3, penalty='l2', \n",
        "                             multi_class='multinomial',\n",
        "                             scoring='f1_macro', n_jobs=-1, verbose=True, random_state=SEED)\n",
        ")\n",
        "model_vec_lb.fit(x_train_vec, y_train_lb)"
      ],
      "execution_count": 77,
      "outputs": [
        {
          "output_type": "stream",
          "text": [
            "/usr/local/lib/python3.6/dist-packages/sklearn/linear_model/_sag.py:330: ConvergenceWarning: The max_iter was reached which means the coef_ did not converge\n",
            "  \"the coef_ did not converge\", ConvergenceWarning)\n",
            "[Parallel(n_jobs=-1)]: Using backend LokyBackend with 4 concurrent workers.\n",
            "[Parallel(n_jobs=-1)]: Done   3 out of   3 | elapsed:    1.3s finished\n"
          ],
          "name": "stderr"
        },
        {
          "output_type": "stream",
          "text": [
            "CPU times: user 6.54 s, sys: 716 ms, total: 7.26 s\n",
            "Wall time: 7.56 s\n"
          ],
          "name": "stdout"
        }
      ]
    },
    {
      "cell_type": "code",
      "metadata": {
        "colab_type": "code",
        "outputId": "8bb7cc1d-bc87-4ea4-ff12-6c383736c315",
        "id": "L6OyA5JnjuYZ",
        "colab": {
          "base_uri": "https://localhost:8080/",
          "height": 35
        }
      },
      "source": [
        "y_pred_vec_lb = model_vec_lb.predict(x_test_vec)\n",
        "metrics.f1_score(y_test_lb, y_pred_vec_lb, average='macro')"
      ],
      "execution_count": 78,
      "outputs": [
        {
          "output_type": "execute_result",
          "data": {
            "text/plain": [
              "0.720226911403382"
            ]
          },
          "metadata": {
            "tags": []
          },
          "execution_count": 78
        }
      ]
    },
    {
      "cell_type": "code",
      "metadata": {
        "colab_type": "code",
        "outputId": "2ddc0e4a-0e5d-4da2-af76-788be01ef848",
        "id": "Zsx3R713juYk",
        "colab": {
          "base_uri": "https://localhost:8080/",
          "height": 35
        }
      },
      "source": [
        "metrics.accuracy_score(y_test_lb, y_pred_vec_lb)"
      ],
      "execution_count": 79,
      "outputs": [
        {
          "output_type": "execute_result",
          "data": {
            "text/plain": [
              "0.7726692209450831"
            ]
          },
          "metadata": {
            "tags": []
          },
          "execution_count": 79
        }
      ]
    },
    {
      "cell_type": "markdown",
      "metadata": {
        "id": "TaLWy9oMhOz8",
        "colab_type": "text"
      },
      "source": [
        "#### add results"
      ]
    },
    {
      "cell_type": "code",
      "metadata": {
        "id": "_TR3xJMGhV40",
        "colab_type": "code",
        "colab": {
          "base_uri": "https://localhost:8080/",
          "height": 223
        },
        "outputId": "52020670-1104-424c-8cb7-3db1ca1da14b"
      },
      "source": [
        "results = add_row(results, ['logreg search', 'regex tokens', 'w2v bow mean', 'f1', metrics.f1_score(y_test_n, y_pred_vec_n, average='macro'), metrics.f1_score(y_test_lb, y_pred_vec_lb, average='macro')])\n",
        "results = add_row(results, ['logreg search', 'regex tokens', 'w2v bow mean', 'accuracy', metrics.accuracy_score(y_test_n, y_pred_vec_n), metrics.accuracy_score(y_test_lb, y_pred_vec_lb)])\n",
        "results"
      ],
      "execution_count": 80,
      "outputs": [
        {
          "output_type": "execute_result",
          "data": {
            "text/html": [
              "<div>\n",
              "<style scoped>\n",
              "    .dataframe tbody tr th:only-of-type {\n",
              "        vertical-align: middle;\n",
              "    }\n",
              "\n",
              "    .dataframe tbody tr th {\n",
              "        vertical-align: top;\n",
              "    }\n",
              "\n",
              "    .dataframe thead th {\n",
              "        text-align: right;\n",
              "    }\n",
              "</style>\n",
              "<table border=\"1\" class=\"dataframe\">\n",
              "  <thead>\n",
              "    <tr style=\"text-align: right;\">\n",
              "      <th></th>\n",
              "      <th>model</th>\n",
              "      <th>preprocess</th>\n",
              "      <th>vectorize</th>\n",
              "      <th>score</th>\n",
              "      <th>native</th>\n",
              "      <th>language_background</th>\n",
              "    </tr>\n",
              "  </thead>\n",
              "  <tbody>\n",
              "    <tr>\n",
              "      <th>0</th>\n",
              "      <td>logreg</td>\n",
              "      <td>None</td>\n",
              "      <td>tf-idf</td>\n",
              "      <td>f1</td>\n",
              "      <td>0.581343</td>\n",
              "      <td>0.867952</td>\n",
              "    </tr>\n",
              "    <tr>\n",
              "      <th>1</th>\n",
              "      <td>logreg</td>\n",
              "      <td>None</td>\n",
              "      <td>tf-idf</td>\n",
              "      <td>accuracy</td>\n",
              "      <td>0.865900</td>\n",
              "      <td>0.889527</td>\n",
              "    </tr>\n",
              "    <tr>\n",
              "      <th>2</th>\n",
              "      <td>logreg search</td>\n",
              "      <td>regex tokens</td>\n",
              "      <td>tf-idf</td>\n",
              "      <td>f1</td>\n",
              "      <td>0.477332</td>\n",
              "      <td>0.791352</td>\n",
              "    </tr>\n",
              "    <tr>\n",
              "      <th>3</th>\n",
              "      <td>logreg search</td>\n",
              "      <td>regex tokens</td>\n",
              "      <td>tf-idf</td>\n",
              "      <td>accuracy</td>\n",
              "      <td>0.821839</td>\n",
              "      <td>0.828863</td>\n",
              "    </tr>\n",
              "    <tr>\n",
              "      <th>4</th>\n",
              "      <td>logreg search</td>\n",
              "      <td>regex tokens</td>\n",
              "      <td>w2v bow mean</td>\n",
              "      <td>f1</td>\n",
              "      <td>0.524130</td>\n",
              "      <td>0.720227</td>\n",
              "    </tr>\n",
              "    <tr>\n",
              "      <th>5</th>\n",
              "      <td>logreg search</td>\n",
              "      <td>regex tokens</td>\n",
              "      <td>w2v bow mean</td>\n",
              "      <td>accuracy</td>\n",
              "      <td>0.779055</td>\n",
              "      <td>0.772669</td>\n",
              "    </tr>\n",
              "  </tbody>\n",
              "</table>\n",
              "</div>"
            ],
            "text/plain": [
              "           model    preprocess  ...    native language_background\n",
              "0         logreg          None  ...  0.581343            0.867952\n",
              "1         logreg          None  ...  0.865900            0.889527\n",
              "2  logreg search  regex tokens  ...  0.477332            0.791352\n",
              "3  logreg search  regex tokens  ...  0.821839            0.828863\n",
              "4  logreg search  regex tokens  ...  0.524130            0.720227\n",
              "5  logreg search  regex tokens  ...  0.779055            0.772669\n",
              "\n",
              "[6 rows x 6 columns]"
            ]
          },
          "metadata": {
            "tags": []
          },
          "execution_count": 80
        }
      ]
    },
    {
      "cell_type": "markdown",
      "metadata": {
        "id": "JMC4dEIzovye",
        "colab_type": "text"
      },
      "source": [
        "## neural network"
      ]
    },
    {
      "cell_type": "code",
      "metadata": {
        "id": "K0ffWUxDuWnY",
        "colab_type": "code",
        "colab": {
          "base_uri": "https://localhost:8080/",
          "height": 319
        },
        "outputId": "0cec8789-2e4c-4800-9731-d578c210d7a4"
      },
      "source": [
        "!nvidia-smi"
      ],
      "execution_count": 82,
      "outputs": [
        {
          "output_type": "stream",
          "text": [
            "Thu Mar 26 19:48:47 2020       \n",
            "+-----------------------------------------------------------------------------+\n",
            "| NVIDIA-SMI 440.64.00    Driver Version: 418.67       CUDA Version: 10.1     |\n",
            "|-------------------------------+----------------------+----------------------+\n",
            "| GPU  Name        Persistence-M| Bus-Id        Disp.A | Volatile Uncorr. ECC |\n",
            "| Fan  Temp  Perf  Pwr:Usage/Cap|         Memory-Usage | GPU-Util  Compute M. |\n",
            "|===============================+======================+======================|\n",
            "|   0  Tesla P100-PCIE...  Off  | 00000000:00:04.0 Off |                    0 |\n",
            "| N/A   42C    P0    30W / 250W |      0MiB / 16280MiB |      0%      Default |\n",
            "+-------------------------------+----------------------+----------------------+\n",
            "                                                                               \n",
            "+-----------------------------------------------------------------------------+\n",
            "| Processes:                                                       GPU Memory |\n",
            "|  GPU       PID   Type   Process name                             Usage      |\n",
            "|=============================================================================|\n",
            "|  No running processes found                                                 |\n",
            "+-----------------------------------------------------------------------------+\n"
          ],
          "name": "stdout"
        }
      ]
    },
    {
      "cell_type": "code",
      "metadata": {
        "id": "krsflCQ3ovHI",
        "colab_type": "code",
        "colab": {}
      },
      "source": [
        "import torch\n",
        "import torch.nn as nn\n",
        "import torch.nn.functional as F\n",
        "import torch.optim as optim"
      ],
      "execution_count": 0,
      "outputs": []
    },
    {
      "cell_type": "code",
      "metadata": {
        "id": "xeD_n8sb3naU",
        "colab_type": "code",
        "colab": {}
      },
      "source": [
        "DEVICE = torch.device('cuda') if torch.cuda.is_available() else tt.device('cpu')"
      ],
      "execution_count": 0,
      "outputs": []
    },
    {
      "cell_type": "markdown",
      "metadata": {
        "id": "RPMh8cR9qRmj",
        "colab_type": "text"
      },
      "source": [
        "### raw text"
      ]
    },
    {
      "cell_type": "code",
      "metadata": {
        "id": "BneGpbkFCyMJ",
        "colab_type": "code",
        "colab": {}
      },
      "source": [
        "class RawTextModel(nn.Module):\n",
        "    \n",
        "    def __init__(self, embed_size, hidden_size, out_size):\n",
        "        super(RawTextModel, self).__init__()\n",
        "        self.fc_hidden = nn.Linear(embed_size, hidden_size)\n",
        "        self.fc_out = nn.Linear(hidden_size, out_size)\n",
        "        self.soft = nn.Softmax(dim=1)\n",
        "        \n",
        "    def forward(self, x):\n",
        "        x = self.fc_hidden(x.float())\n",
        "        x = self.fc_out(x)\n",
        "        return x"
      ],
      "execution_count": 0,
      "outputs": []
    },
    {
      "cell_type": "code",
      "metadata": {
        "id": "uGzYX3nk9ntI",
        "colab_type": "code",
        "colab": {}
      },
      "source": [
        "def train_epoch(data_iter, len_iter, n_epoch, model, criterion, optimizer=None):\n",
        "    train_losses = []\n",
        "    total_loss = 0\n",
        "    data_iter = tqdm(data_iter, total=len_iter, desc=f\"Epoch {n_epoch + 1}\", leave=True)\n",
        "    counter = 0\n",
        "    for batch in data_iter:\n",
        "        if optimizer:\n",
        "          optimizer.zero_grad()\n",
        "        pred = model.forward(batch.vec)\n",
        "        loss = criterion(pred, batch.tgt)\n",
        "        loss.backward()\n",
        "        if optimizer:\n",
        "          optimizer.step()\n",
        "        loss_value = loss.detach().item()\n",
        "        total_loss += loss_value\n",
        "        train_losses.append(loss_value)\n",
        "        data_iter.set_postfix(loss = loss_value)\n",
        "        counter += 1\n",
        "        \n",
        "    total_loss /= counter\n",
        "    return total_loss, train_losses\n",
        "\n",
        "\n",
        "def valid_epoch(data_iter, len_iter, n_epoch, model, criterion):\n",
        "    valid_losses = []\n",
        "    total_loss = 0\n",
        "    data_iter = tqdm(data_iter, total=len_iter, desc=f\"Eval epoch {n_epoch + 1}\", leave=True)\n",
        "    counter = 0\n",
        "    for batch in data_iter:\n",
        "        with torch.no_grad():\n",
        "            pred = model.forward(batch.vec)\n",
        "            loss = criterion(pred, batch.tgt)\n",
        "            loss_value = loss.detach().item()\n",
        "            total_loss += loss_value\n",
        "            valid_losses.append(loss_value)\n",
        "            data_iter.set_postfix(loss = loss_value)\n",
        "            counter +=1\n",
        "        \n",
        "    total_loss /= counter\n",
        "    return total_loss, valid_losses\n",
        "\n",
        "def test_model(data_iter, len_iter, model, criterion):\n",
        "    accs = []\n",
        "    f1s = []\n",
        "    model.eval()\n",
        "    with torch.no_grad():\n",
        "      data_iter = tqdm(data_iter, total=len_iter, desc=f\"Test\", leave=True)\n",
        "      for batch in data_iter:\n",
        "        pred = model.forward(batch.vec)\n",
        "        pred = torch.argmax(pred.detach(), axis=1).cpu()\n",
        "        tgt = batch.tgt.cpu()\n",
        "        acc = metrics.accuracy_score(pred, tgt)\n",
        "        accs.append(acc)\n",
        "        f1 = metrics.f1_score(pred, tgt, average='macro')\n",
        "        f1s.append(f1)\n",
        "    return np.mean(accs), np.mean(f1s)"
      ],
      "execution_count": 0,
      "outputs": []
    },
    {
      "cell_type": "code",
      "metadata": {
        "id": "NNDbkauZdWUp",
        "colab_type": "code",
        "colab": {}
      },
      "source": [
        "def train_model(model, num_epochs, trn_itr, len_train, vld_itr, len_valid, criterion, optimizer):\n",
        "  total_train_losses = []\n",
        "  total_valid_losses = []\n",
        "  for epoch in range(num_epochs):\n",
        "      model.train()\n",
        "      loss, train_losses = train_epoch(trn_itr, len_train, epoch, model, criterion, optimizer)\n",
        "      total_train_losses += train_losses\n",
        "      print('train loss', loss)\n",
        "      \n",
        "      model.eval()\n",
        "      with torch.no_grad():\n",
        "          loss, valid_losses = valid_epoch(vld_itr, len_valid, epoch, model, criterion)\n",
        "          total_valid_losses += valid_losses\n",
        "          print('valid loss', loss)\n",
        "  return total_train_losses, total_valid_losses"
      ],
      "execution_count": 0,
      "outputs": []
    },
    {
      "cell_type": "code",
      "metadata": {
        "colab_type": "code",
        "id": "5PHCPHajpsGI",
        "colab": {}
      },
      "source": [
        "def plot_smooth_losses(total_train_losses, total_valid_losses, sigma=10):\n",
        "  smooth = lambda y: gaussian_filter1d(y, sigma=sigma)\n",
        "  plt.figure(figsize=(14, 10))\n",
        "  plt.plot(range(len(total_train_losses)), smooth(total_train_losses), np.array(range(len(total_valid_losses)))*(len(total_train_losses)/len(total_valid_losses)), smooth(total_valid_losses))\n",
        "  plt.legend(('train loss', 'valid loss by batch'),\n",
        "            loc='center', prop={'size': 18})\n",
        "  plt.title('Smoothed training process', fontsize=20)\n",
        "  plt.xlabel('Iterations', fontsize=16)\n",
        "  plt.ylabel('Loss function (smoothed)', fontsize=16)\n",
        "  plt.show()"
      ],
      "execution_count": 0,
      "outputs": []
    },
    {
      "cell_type": "markdown",
      "metadata": {
        "id": "Scc1VB7jB_U4",
        "colab_type": "text"
      },
      "source": [
        "##### batches"
      ]
    },
    {
      "cell_type": "code",
      "metadata": {
        "id": "v_OBk5qHGkvO",
        "colab_type": "code",
        "colab": {}
      },
      "source": [
        "batch_size = 128"
      ],
      "execution_count": 0,
      "outputs": []
    },
    {
      "cell_type": "code",
      "metadata": {
        "id": "tDuecVyeCjd9",
        "colab_type": "code",
        "colab": {
          "base_uri": "https://localhost:8080/",
          "height": 124
        },
        "outputId": "e1079e78-651a-40a3-b3f3-d8e161b5969f"
      },
      "source": [
        "n_df = df[['target_native', 'vec']]\n",
        "n_df['target'] = n_df['target_native']\n",
        "n_df = n_df.drop(['target_native'], axis=1)"
      ],
      "execution_count": 168,
      "outputs": [
        {
          "output_type": "stream",
          "text": [
            "/usr/local/lib/python3.6/dist-packages/ipykernel_launcher.py:2: SettingWithCopyWarning: \n",
            "A value is trying to be set on a copy of a slice from a DataFrame.\n",
            "Try using .loc[row_indexer,col_indexer] = value instead\n",
            "\n",
            "See the caveats in the documentation: http://pandas.pydata.org/pandas-docs/stable/user_guide/indexing.html#returning-a-view-versus-a-copy\n",
            "  \n"
          ],
          "name": "stderr"
        }
      ]
    },
    {
      "cell_type": "code",
      "metadata": {
        "id": "vm8y2lAkDkAV",
        "colab_type": "code",
        "colab": {}
      },
      "source": [
        "train_df, test_df = train_test_split(n_df, test_size=0.2, random_state=SEED, stratify=n_df.target.values)\n",
        "train_df, val_df = train_test_split(train_df, test_size=0.2, random_state=SEED, stratify=train_df.target.values)"
      ],
      "execution_count": 0,
      "outputs": []
    },
    {
      "cell_type": "code",
      "metadata": {
        "id": "zeiFnVItOAk3",
        "colab_type": "code",
        "colab": {}
      },
      "source": [
        "class Batch:\n",
        "  def __init__(self, vectors, targets):\n",
        "    self.vec = vectors\n",
        "    self.tgt = targets"
      ],
      "execution_count": 0,
      "outputs": []
    },
    {
      "cell_type": "code",
      "metadata": {
        "id": "YKwfh4GmOjhu",
        "colab_type": "code",
        "colab": {}
      },
      "source": [
        "class Iterator:\n",
        "  def __init__(self, df, batch_size=128, device='cpu'):\n",
        "    self.batches = self.make_batches(df, batch_size, device)\n",
        "\n",
        "  @staticmethod\n",
        "  def make_batches(df, batch_size, device):\n",
        "    batches = []\n",
        "    shuffled = df.sample(frac=1)\n",
        "    i = 0\n",
        "    while i < len(df):\n",
        "      b = shuffled[i: i+batch_size]\n",
        "      if len(b) == batch_size:\n",
        "        vec = torch.tensor(list(b.vec.values)).to(device)\n",
        "        tgt = torch.tensor(list(b.target.values)).to(device)\n",
        "        batch = Batch(vec, tgt)\n",
        "        batches.append(batch)\n",
        "      i += batch_size\n",
        "    return batches"
      ],
      "execution_count": 0,
      "outputs": []
    },
    {
      "cell_type": "code",
      "metadata": {
        "id": "pRxGdqtsSkfa",
        "colab_type": "code",
        "colab": {}
      },
      "source": [
        "trn_itr = Iterator(train_df, batch_size=batch_size, device=DEVICE).batches\n",
        "vld_itr = Iterator(val_df, batch_size=batch_size, device=DEVICE).batches\n",
        "tst_itr = Iterator(test_df, batch_size=batch_size, device=DEVICE).batches"
      ],
      "execution_count": 0,
      "outputs": []
    },
    {
      "cell_type": "code",
      "metadata": {
        "id": "z1bwVsU_VX2C",
        "colab_type": "code",
        "colab": {}
      },
      "source": [
        "len_train = len(trn_itr)\n",
        "len_valid = len(vld_itr)\n",
        "len_test = len(tst_itr)"
      ],
      "execution_count": 0,
      "outputs": []
    },
    {
      "cell_type": "markdown",
      "metadata": {
        "id": "ebEzyQA_qeEw",
        "colab_type": "text"
      },
      "source": [
        "#### native"
      ]
    },
    {
      "cell_type": "code",
      "metadata": {
        "id": "MCcEIgZmAyrZ",
        "colab_type": "code",
        "colab": {}
      },
      "source": [
        "torch.cuda.empty_cache()\n",
        "\n",
        "model = RawTextModel(embed_size=len(wv['мышь']),\n",
        "                hidden_size=128,\n",
        "                out_size = len(np.unique(df.native.values)))\n",
        "\n",
        "optimizer = optim.Adam(model.parameters(), lr=0.02)\n",
        "criterion = nn.CrossEntropyLoss()\n",
        "\n",
        "model = model.to(DEVICE)\n",
        "criterion = criterion.to(DEVICE)"
      ],
      "execution_count": 0,
      "outputs": []
    },
    {
      "cell_type": "code",
      "metadata": {
        "id": "KYDRY8slBAZp",
        "colab_type": "code",
        "colab": {
          "base_uri": "https://localhost:8080/",
          "height": 692,
          "referenced_widgets": [
            "871bf7d3c40944c7995121b1d9467374",
            "37568bdeac144ec6bd4283d92294147f",
            "0054538558bb4082b40dd4d84bbaeff3",
            "48fc1ac1660445679ff6528c081d3b37",
            "08b5e03caa554a78b5bdcc8342b4c990",
            "cb206c873d2145f990ccc8d971ed3a2c",
            "259bd12b835244d38ee442b88a48eefb",
            "3702d65a2f5e4e90ac38b9603d98c024",
            "b0c4a104638f43f598e58cfac9ce2ee2",
            "a85554d9194c4b74b623cff816905704",
            "7a5fce9494b04ea3b66469c13ecf6fd3",
            "4a9fbe7a644b46e6acfe3e99b98c8a83",
            "f5abfecff3ff46369c951b2809f70160",
            "4cfc31b790cf4a3f944cb7e928952700",
            "a3f4e6b34538493cbb8de8d42cf028b0",
            "decc2663923c4817a359626dc98433ee",
            "55be4c89adf34b26b6432fc9cb48b410",
            "de389c5a29204c83a311cd46a0feb8fc",
            "17586b9ee1f84281b5af7892f8b80d93",
            "2f843ef6ad554dc4a5fcf51e8ad9f0fb",
            "dc21d9966dfc4c44a11b1c1aee229b1f",
            "a27c17ad382b4ab7830fb50b6476901f",
            "364fa8dde6b841afbf99a0fba2033399",
            "21f40f0a47654b4faf882dce73915b95",
            "256db91bf30f439181f5274e5344cd08",
            "4901859ceb7548dfa85d9b3da9226928",
            "99306f6ea22a405ea53a8ddb3fe58e57",
            "ef98fbb92f4c48779f04e92d950fbbd3",
            "928da3f3ee004bedbb67c99dcda6d65d",
            "baf8342add40454786ba9e4d6a08186d",
            "8d1994bb401447a191168eab7d07ff1d",
            "702fc0d29bd94e17b976db5f7f26022c",
            "5bcb25eee234454b9f099e9e4bfd6c89",
            "74c73ef4cb2448a28a7bda0f0943b4c2",
            "31eb68523c8a46b5b0a18fab319577ba",
            "3cdb6c87cc9248f28b784610d90761d7",
            "14c0954f1df048ca9aedd2e942bf67fa",
            "119fba666fc04105921916ac5cd36b4f",
            "49cda5caad8b4fe8b56559eb307ca087",
            "7cd62b12ebd44408a869a6703ce778c8",
            "4c7cd91f4811467f9a2d2c5bba539146",
            "a057bdbbdba04754a0a5269b756ae936",
            "427503796539455fa2b3a9f01fa16a7b",
            "401ddf02692a477398d857cc989fc1dc",
            "cef848771c2844ca910c1f396700d464",
            "26c2c35a47f14ef0a237241c34ade0ea",
            "31320db45a6d4ac2a5d1442e6fd0a33d",
            "3a0d04fc0415411aaefff0f6ba732d74",
            "06bcca6e4d9e4914a09a9e13beee5efc",
            "3cedfd09213f47dbbb4225b3a3ed7eb6",
            "4a063791fa0744beb79f871606f4291a",
            "d3d2c973b87747f4ba4e6c8d78590c3e",
            "213d583f717647739c0f316936332cec",
            "ba7a76f356c04d2693ccf46ffe53439c",
            "a9108cef1b534d9597c1c6f7aed92c94",
            "529530e31eb74f839d1ca475860f5208",
            "556351ff4f9740b798ce1b3176a129f7",
            "fbb7175a61a64e1f8aafef69c3a6ed61",
            "93c89971bee14eb0bc47b6fff5836892",
            "c90c361f424a40ed851875035f73f85c",
            "0dab7f89d64c4656ae109597ec76d3b4",
            "70986a2eb9484ba88d1d53d60ef9b3b9",
            "98e93e57e8d34cde815735781b425bd3",
            "3c2bbccec306445c82e0906816e959c3",
            "14e3fe0990ca408389896aa5c4c00ffc",
            "cecf72c6c1d44787bddb153c765816d6",
            "9bdb7e5d6ec44154abe84110d0a61a47",
            "52e8ee4339e6483ba5f9b9e04a2083d9",
            "eedf83d1cee440feaddcdf06671381bd",
            "82fd605342a542c396ee8a2da4b1c8d1",
            "18d5426e71fe4ea0b8070b3b6c4f0857",
            "f2dbbd38c5a64e9b8c6abd2f1a70d216",
            "75cc23021505402fb8dca956ed7a3041",
            "3a6db8e698834f419754989b738510df",
            "d188183ed52749e08957c1c81215dadf",
            "a57c1d06b7f84316a4d43840ebaee976",
            "c6b628a669f54892aae31c9deb7b23c3",
            "c689e54629fe49809f1694a3b72dc77e",
            "9058303b3300490dacacc148c100dab8",
            "a329ff5e6a8c4197b93b4c4dfb1756a5"
          ]
        },
        "outputId": "33f49393-f131-4bc5-f540-4f9251d09d36"
      },
      "source": [
        "num_epochs = 5\n",
        "total_train_losses, total_valid_losses = train_model(model, num_epochs, trn_itr, len_train, vld_itr, len_valid, criterion, optimizer)"
      ],
      "execution_count": 173,
      "outputs": [
        {
          "output_type": "display_data",
          "data": {
            "application/vnd.jupyter.widget-view+json": {
              "model_id": "871bf7d3c40944c7995121b1d9467374",
              "version_minor": 0,
              "version_major": 2
            },
            "text/plain": [
              "HBox(children=(IntProgress(value=0, description='Epoch 1', max=39, style=ProgressStyle(description_width='init…"
            ]
          },
          "metadata": {
            "tags": []
          }
        },
        {
          "output_type": "stream",
          "text": [
            "\n",
            "train loss 2.015321311278221\n"
          ],
          "name": "stdout"
        },
        {
          "output_type": "display_data",
          "data": {
            "application/vnd.jupyter.widget-view+json": {
              "model_id": "b0c4a104638f43f598e58cfac9ce2ee2",
              "version_minor": 0,
              "version_major": 2
            },
            "text/plain": [
              "HBox(children=(IntProgress(value=0, description='Eval epoch 1', max=9, style=ProgressStyle(description_width='…"
            ]
          },
          "metadata": {
            "tags": []
          }
        },
        {
          "output_type": "stream",
          "text": [
            "\n",
            "valid loss 1.0429477956559923\n"
          ],
          "name": "stdout"
        },
        {
          "output_type": "display_data",
          "data": {
            "application/vnd.jupyter.widget-view+json": {
              "model_id": "55be4c89adf34b26b6432fc9cb48b410",
              "version_minor": 0,
              "version_major": 2
            },
            "text/plain": [
              "HBox(children=(IntProgress(value=0, description='Epoch 2', max=39, style=ProgressStyle(description_width='init…"
            ]
          },
          "metadata": {
            "tags": []
          }
        },
        {
          "output_type": "stream",
          "text": [
            "\n",
            "train loss 0.9425239562988281\n"
          ],
          "name": "stdout"
        },
        {
          "output_type": "display_data",
          "data": {
            "application/vnd.jupyter.widget-view+json": {
              "model_id": "256db91bf30f439181f5274e5344cd08",
              "version_minor": 0,
              "version_major": 2
            },
            "text/plain": [
              "HBox(children=(IntProgress(value=0, description='Eval epoch 2', max=9, style=ProgressStyle(description_width='…"
            ]
          },
          "metadata": {
            "tags": []
          }
        },
        {
          "output_type": "stream",
          "text": [
            "\n",
            "valid loss 0.921096940835317\n"
          ],
          "name": "stdout"
        },
        {
          "output_type": "display_data",
          "data": {
            "application/vnd.jupyter.widget-view+json": {
              "model_id": "5bcb25eee234454b9f099e9e4bfd6c89",
              "version_minor": 0,
              "version_major": 2
            },
            "text/plain": [
              "HBox(children=(IntProgress(value=0, description='Epoch 3', max=39, style=ProgressStyle(description_width='init…"
            ]
          },
          "metadata": {
            "tags": []
          }
        },
        {
          "output_type": "stream",
          "text": [
            "\n",
            "train loss 0.8490091409438696\n"
          ],
          "name": "stdout"
        },
        {
          "output_type": "display_data",
          "data": {
            "application/vnd.jupyter.widget-view+json": {
              "model_id": "4c7cd91f4811467f9a2d2c5bba539146",
              "version_minor": 0,
              "version_major": 2
            },
            "text/plain": [
              "HBox(children=(IntProgress(value=0, description='Eval epoch 3', max=9, style=ProgressStyle(description_width='…"
            ]
          },
          "metadata": {
            "tags": []
          }
        },
        {
          "output_type": "stream",
          "text": [
            "\n",
            "valid loss 0.9044847753312852\n"
          ],
          "name": "stdout"
        },
        {
          "output_type": "display_data",
          "data": {
            "application/vnd.jupyter.widget-view+json": {
              "model_id": "06bcca6e4d9e4914a09a9e13beee5efc",
              "version_minor": 0,
              "version_major": 2
            },
            "text/plain": [
              "HBox(children=(IntProgress(value=0, description='Epoch 4', max=39, style=ProgressStyle(description_width='init…"
            ]
          },
          "metadata": {
            "tags": []
          }
        },
        {
          "output_type": "stream",
          "text": [
            "\n",
            "train loss 0.7954741395436801\n"
          ],
          "name": "stdout"
        },
        {
          "output_type": "display_data",
          "data": {
            "application/vnd.jupyter.widget-view+json": {
              "model_id": "556351ff4f9740b798ce1b3176a129f7",
              "version_minor": 0,
              "version_major": 2
            },
            "text/plain": [
              "HBox(children=(IntProgress(value=0, description='Eval epoch 4', max=9, style=ProgressStyle(description_width='…"
            ]
          },
          "metadata": {
            "tags": []
          }
        },
        {
          "output_type": "stream",
          "text": [
            "\n",
            "valid loss 0.9204485085275438\n"
          ],
          "name": "stdout"
        },
        {
          "output_type": "display_data",
          "data": {
            "application/vnd.jupyter.widget-view+json": {
              "model_id": "14e3fe0990ca408389896aa5c4c00ffc",
              "version_minor": 0,
              "version_major": 2
            },
            "text/plain": [
              "HBox(children=(IntProgress(value=0, description='Epoch 5', max=39, style=ProgressStyle(description_width='init…"
            ]
          },
          "metadata": {
            "tags": []
          }
        },
        {
          "output_type": "stream",
          "text": [
            "\n",
            "train loss 0.7452272910338181\n"
          ],
          "name": "stdout"
        },
        {
          "output_type": "display_data",
          "data": {
            "application/vnd.jupyter.widget-view+json": {
              "model_id": "75cc23021505402fb8dca956ed7a3041",
              "version_minor": 0,
              "version_major": 2
            },
            "text/plain": [
              "HBox(children=(IntProgress(value=0, description='Eval epoch 5', max=9, style=ProgressStyle(description_width='…"
            ]
          },
          "metadata": {
            "tags": []
          }
        },
        {
          "output_type": "stream",
          "text": [
            "\n",
            "valid loss 0.913093990749783\n"
          ],
          "name": "stdout"
        }
      ]
    },
    {
      "cell_type": "code",
      "metadata": {
        "id": "EnkV1SpjBCuO",
        "colab_type": "code",
        "colab": {
          "base_uri": "https://localhost:8080/",
          "height": 632
        },
        "outputId": "9e994183-0a17-451c-8fde-8b3b63cc46d4"
      },
      "source": [
        "plot_smooth_losses(total_train_losses, total_valid_losses)"
      ],
      "execution_count": 174,
      "outputs": [
        {
          "output_type": "display_data",
          "data": {
            "image/png": "[encoded data removed]",
            "text/plain": [
              "<Figure size 1008x720 with 1 Axes>"
            ]
          },
          "metadata": {
            "tags": []
          }
        }
      ]
    },
    {
      "cell_type": "code",
      "metadata": {
        "id": "sjhagcGjZhRr",
        "colab_type": "code",
        "colab": {
          "base_uri": "https://localhost:8080/",
          "height": 84,
          "referenced_widgets": [
            "7a8938f103b04f638c17ffc46d6c28fd",
            "160cd978dfff47a3b91e42c4eca63853",
            "8b2a03c8fd4b4a9abf331b91798fa2bb",
            "e3cf35df6c8645fcb5470f9154a096a6",
            "0616e0391b2d4d21979cb7cef5b05b82",
            "175453413fd2468f9c45271f297bc445",
            "a73d9a0bd5624219bcd848ed386a4bb2",
            "d29c65afc42d4ebfb366ba35f78d0c0b"
          ]
        },
        "outputId": "075f9222-fa01-46df-9a01-be6e5aab3483"
      },
      "source": [
        "n_acc, n_f1 = test_model(tst_itr, len_test, model, criterion)\n",
        "n_acc, n_f1"
      ],
      "execution_count": 175,
      "outputs": [
        {
          "output_type": "display_data",
          "data": {
            "application/vnd.jupyter.widget-view+json": {
              "model_id": "7a8938f103b04f638c17ffc46d6c28fd",
              "version_minor": 0,
              "version_major": 2
            },
            "text/plain": [
              "HBox(children=(IntProgress(value=0, description='Test', max=12, style=ProgressStyle(description_width='initial…"
            ]
          },
          "metadata": {
            "tags": []
          }
        },
        {
          "output_type": "stream",
          "text": [
            "\n"
          ],
          "name": "stdout"
        },
        {
          "output_type": "execute_result",
          "data": {
            "text/plain": [
              "(0.7063802083333334, 0.4418964507341692)"
            ]
          },
          "metadata": {
            "tags": []
          },
          "execution_count": 175
        }
      ]
    },
    {
      "cell_type": "markdown",
      "metadata": {
        "id": "-d4RpihxdOxx",
        "colab_type": "text"
      },
      "source": [
        "#### language background"
      ]
    },
    {
      "cell_type": "code",
      "metadata": {
        "colab_type": "code",
        "outputId": "35975f92-c74a-4290-82b7-6d448d789d61",
        "id": "6iySNF27eWhF",
        "colab": {
          "base_uri": "https://localhost:8080/",
          "height": 124
        }
      },
      "source": [
        "lb_df = df[['target_lb', 'vec']]\n",
        "lb_df['target'] = lb_df['target_lb']\n",
        "lb_df = lb_df.drop(['target_lb'], axis=1)"
      ],
      "execution_count": 176,
      "outputs": [
        {
          "output_type": "stream",
          "text": [
            "/usr/local/lib/python3.6/dist-packages/ipykernel_launcher.py:2: SettingWithCopyWarning: \n",
            "A value is trying to be set on a copy of a slice from a DataFrame.\n",
            "Try using .loc[row_indexer,col_indexer] = value instead\n",
            "\n",
            "See the caveats in the documentation: http://pandas.pydata.org/pandas-docs/stable/user_guide/indexing.html#returning-a-view-versus-a-copy\n",
            "  \n"
          ],
          "name": "stderr"
        }
      ]
    },
    {
      "cell_type": "code",
      "metadata": {
        "colab_type": "code",
        "id": "XXAMQVx2eWhb",
        "colab": {}
      },
      "source": [
        "lb_train_df, lb_test_df = train_test_split(lb_df, test_size=0.2, random_state=SEED, stratify=lb_df.target.values)\n",
        "lb_train_df, lb_val_df = train_test_split(lb_train_df, test_size=0.2, random_state=SEED, stratify=lb_train_df.target.values)"
      ],
      "execution_count": 0,
      "outputs": []
    },
    {
      "cell_type": "code",
      "metadata": {
        "colab_type": "code",
        "id": "8cCVtQ1ieWhp",
        "colab": {}
      },
      "source": [
        "lb_trn_itr = Iterator(lb_train_df, batch_size=batch_size, device=DEVICE).batches\n",
        "lb_vld_itr = Iterator(lb_val_df, batch_size=batch_size, device=DEVICE).batches\n",
        "lb_tst_itr = Iterator(lb_test_df, batch_size=batch_size, device=DEVICE).batches"
      ],
      "execution_count": 0,
      "outputs": []
    },
    {
      "cell_type": "code",
      "metadata": {
        "colab_type": "code",
        "id": "AI0ucl47eWhy",
        "colab": {}
      },
      "source": [
        "lb_len_train = len(lb_trn_itr)\n",
        "lb_len_valid = len(lb_vld_itr)\n",
        "lb_len_test = len(lb_tst_itr)"
      ],
      "execution_count": 0,
      "outputs": []
    },
    {
      "cell_type": "code",
      "metadata": {
        "colab_type": "code",
        "id": "BLk-Y6cselWN",
        "colab": {}
      },
      "source": [
        "torch.cuda.empty_cache()\n",
        "\n",
        "lb_model = RawTextModel(embed_size=len(wv['мышь']),\n",
        "                hidden_size=128,\n",
        "                out_size = len(np.unique(df.language_background.values)))\n",
        "\n",
        "optimizer = optim.Adam(model.parameters(), lr=0.02)\n",
        "criterion = nn.CrossEntropyLoss()\n",
        "\n",
        "lb_model = model.to(DEVICE)\n",
        "criterion = criterion.to(DEVICE)"
      ],
      "execution_count": 0,
      "outputs": []
    },
    {
      "cell_type": "code",
      "metadata": {
        "colab_type": "code",
        "outputId": "43077d9b-6ea3-4807-df2f-2aaf27bf2567",
        "id": "ypaxqFe9elWc",
        "colab": {
          "base_uri": "https://localhost:8080/",
          "height": 692,
          "referenced_widgets": [
            "cd95c10585324b34a967a9ac8cdc9166",
            "e835d81ca17444f5825d945916d57560",
            "a6976baf83f744369aadc38ad5625793",
            "6b5e445dab2140c3896c2127b6e96218",
            "c8380f89cfa04059aca533b53b1e7304",
            "0c3c7229fd50457aa43678abe2809923",
            "65ac6ab94d564f4ea564c7735d21522f",
            "6b1ae380af8541eb9e71464f5385c5bf",
            "159b440b39644fdbbfc9cda716411494",
            "f155bf3801c34c30b605be25322f888f",
            "b7f1e99387474f2a8a0b173650cdf665",
            "cd8162514e3b48cbb1111d22a6943bfa",
            "6ca829c4cb1b428bae1d51ad4b0995b5",
            "e4285ce2991b4d4db61067008656ba5e",
            "b8d2f29b5f94442c8640e8b3c83e4291",
            "6b634153b17345c6a435eeb8a55c9166",
            "87ee745f0b274735a1337e910c927b1d",
            "85db99dd9b214b2695679136325a806a",
            "53f62c5d473e435d87c0959c5433b61a",
            "ece2c289b7cb4faa9b32ae169a882592",
            "70141d38d74d4ec8a6c90cfb259fc4b9",
            "1336876c732746119acf2c638e9e8b03",
            "2014c6de96c64e359ef169b6eb43a091",
            "53f9cecb22684782bab3a8cad2910b2d",
            "69d2f066ab224fff8ed40a7c3001a322",
            "65f3cbb1d4084937ad397776044a9e4f",
            "c9d15ca02ebe42f7b8fd6319df9c7d61",
            "758bfb1032a84bfb966eb0a5061287e6",
            "7a3a60c6b85a4d4c8d4702d93157b00c",
            "af5eccaa93234261816559caba691c44",
            "a6b12a0f7f0549be99d4f1022fab06aa",
            "fcd83fda73374e4a856f8f191cba67d0",
            "0d72d632ac15475788add239cb22ccf0",
            "b2169d36638a407f94d6997664fe9a79",
            "b1abe9edc2d5419a9d27f9c38f725a13",
            "5505acd1abee4214be7eb30d2f61b201",
            "8b00bb410e7941c096296b3de14f07d1",
            "8f97cb059853478da4bcdfbe0cf78407",
            "ebaaac424d7c472280f75cda97c09d0e",
            "8b1bbfa522ec4060ab5edfc90e43f377",
            "e8d0959c5cf14965a8a722b14603c11a",
            "55b3bedf78b74f8fb0b3cbb16189e64a",
            "91757899a8944cbca7f680e45a17c7cb",
            "9b320f38ff3f43498eb4c1861c82b8f9",
            "7bbee4a8568d4940b98104ae35d8393b",
            "ee3cf7973fe84f38ab364ebe4d8b99f7",
            "892b6959cd69473ab93f40585889adef",
            "242b5abcb37e48bc93af807e7332a10a",
            "50d2e902e6784c6da8858e3f39143d72",
            "3cda45932bb349cbbaef40bb66e2c0aa",
            "1a554ccc6af34a9fa919c3f53d1f6267",
            "0735449df4954569a433b7a003922367",
            "915f0c0db92148c98cf0e6ae3f1c5058",
            "fb3f370bebed461c98f5028631493a38",
            "9ded65b4bf074136a11ebf921f10133b",
            "0edefe3dd62342958de38c8efeacbd8c",
            "4884cb79fda2432c8164e992507e979c",
            "2667dd426e8d48a5b922cfd4888b42f8",
            "21a96ff8b2ee4caf9a65513cd92254c7",
            "10b201fe831d49c5beedbf428dc198f6",
            "9a7a23582b58406aa2135b440ba03481",
            "610bca6d1fbb4f5fadc4e103184de698",
            "abb37ed2b8604c3390ef9b4855d59e6d",
            "24603df2a72c4ef7ac4dd08968f8e1eb",
            "42b31ee04b6841c098135eaf6c58e71e",
            "7bafed32d979429ab71b20c8d3a9ccb3",
            "32cb87184be84354b99a56475ed2aeab",
            "2591eef95b7d4bf1b81ef9e241a83bf0",
            "b008f536b530450ea70211758dabc83c",
            "6f48517e31f24e7c955f8b9b6dcd143b",
            "f2a8780e63854780ae54b6edfdca13dc",
            "e47cd257b9ee4c0099396291241152f5",
            "4178c975193b4d79b1cdb9e3ec270300",
            "bb73d8cf5d5746ac885f4d0dbf4eee6a",
            "7bd0c00dd922498d8aeeb1bf1822eb3a",
            "a0959e7d977a4282967e371f638e9ba1",
            "3090d87cbc32405187438145e433563e",
            "20a4168d7fd14dc9af8a7dd9f3e79704",
            "734095ec79e64824ae4a7cc992f1ee39",
            "a75e7e94eef04197aee1e0e43adfb322"
          ]
        }
      },
      "source": [
        "num_epochs = 5\n",
        "total_train_losses, total_valid_losses = train_model(lb_model, num_epochs, lb_trn_itr, lb_len_train, lb_vld_itr, lb_len_valid, criterion, optimizer)"
      ],
      "execution_count": 184,
      "outputs": [
        {
          "output_type": "display_data",
          "data": {
            "application/vnd.jupyter.widget-view+json": {
              "model_id": "cd95c10585324b34a967a9ac8cdc9166",
              "version_minor": 0,
              "version_major": 2
            },
            "text/plain": [
              "HBox(children=(IntProgress(value=0, description='Epoch 1', max=39, style=ProgressStyle(description_width='init…"
            ]
          },
          "metadata": {
            "tags": []
          }
        },
        {
          "output_type": "stream",
          "text": [
            "\n",
            "train loss 1.3030679317621083\n"
          ],
          "name": "stdout"
        },
        {
          "output_type": "display_data",
          "data": {
            "application/vnd.jupyter.widget-view+json": {
              "model_id": "159b440b39644fdbbfc9cda716411494",
              "version_minor": 0,
              "version_major": 2
            },
            "text/plain": [
              "HBox(children=(IntProgress(value=0, description='Eval epoch 1', max=9, style=ProgressStyle(description_width='…"
            ]
          },
          "metadata": {
            "tags": []
          }
        },
        {
          "output_type": "stream",
          "text": [
            "\n",
            "valid loss 0.5786994099617004\n"
          ],
          "name": "stdout"
        },
        {
          "output_type": "display_data",
          "data": {
            "application/vnd.jupyter.widget-view+json": {
              "model_id": "87ee745f0b274735a1337e910c927b1d",
              "version_minor": 0,
              "version_major": 2
            },
            "text/plain": [
              "HBox(children=(IntProgress(value=0, description='Epoch 2', max=39, style=ProgressStyle(description_width='init…"
            ]
          },
          "metadata": {
            "tags": []
          }
        },
        {
          "output_type": "stream",
          "text": [
            "\n",
            "train loss 0.6455787244515542\n"
          ],
          "name": "stdout"
        },
        {
          "output_type": "display_data",
          "data": {
            "application/vnd.jupyter.widget-view+json": {
              "model_id": "69d2f066ab224fff8ed40a7c3001a322",
              "version_minor": 0,
              "version_major": 2
            },
            "text/plain": [
              "HBox(children=(IntProgress(value=0, description='Eval epoch 2', max=9, style=ProgressStyle(description_width='…"
            ]
          },
          "metadata": {
            "tags": []
          }
        },
        {
          "output_type": "stream",
          "text": [
            "\n",
            "valid loss 0.5285495883888669\n"
          ],
          "name": "stdout"
        },
        {
          "output_type": "display_data",
          "data": {
            "application/vnd.jupyter.widget-view+json": {
              "model_id": "0d72d632ac15475788add239cb22ccf0",
              "version_minor": 0,
              "version_major": 2
            },
            "text/plain": [
              "HBox(children=(IntProgress(value=0, description='Epoch 3', max=39, style=ProgressStyle(description_width='init…"
            ]
          },
          "metadata": {
            "tags": []
          }
        },
        {
          "output_type": "stream",
          "text": [
            "\n",
            "train loss 0.5510231378750924\n"
          ],
          "name": "stdout"
        },
        {
          "output_type": "display_data",
          "data": {
            "application/vnd.jupyter.widget-view+json": {
              "model_id": "e8d0959c5cf14965a8a722b14603c11a",
              "version_minor": 0,
              "version_major": 2
            },
            "text/plain": [
              "HBox(children=(IntProgress(value=0, description='Eval epoch 3', max=9, style=ProgressStyle(description_width='…"
            ]
          },
          "metadata": {
            "tags": []
          }
        },
        {
          "output_type": "stream",
          "text": [
            "\n",
            "valid loss 0.6465576820903354\n"
          ],
          "name": "stdout"
        },
        {
          "output_type": "display_data",
          "data": {
            "application/vnd.jupyter.widget-view+json": {
              "model_id": "50d2e902e6784c6da8858e3f39143d72",
              "version_minor": 0,
              "version_major": 2
            },
            "text/plain": [
              "HBox(children=(IntProgress(value=0, description='Epoch 4', max=39, style=ProgressStyle(description_width='init…"
            ]
          },
          "metadata": {
            "tags": []
          }
        },
        {
          "output_type": "stream",
          "text": [
            "\n",
            "train loss 0.5030133028825124\n"
          ],
          "name": "stdout"
        },
        {
          "output_type": "display_data",
          "data": {
            "application/vnd.jupyter.widget-view+json": {
              "model_id": "4884cb79fda2432c8164e992507e979c",
              "version_minor": 0,
              "version_major": 2
            },
            "text/plain": [
              "HBox(children=(IntProgress(value=0, description='Eval epoch 4', max=9, style=ProgressStyle(description_width='…"
            ]
          },
          "metadata": {
            "tags": []
          }
        },
        {
          "output_type": "stream",
          "text": [
            "\n",
            "valid loss 0.5057934522628784\n"
          ],
          "name": "stdout"
        },
        {
          "output_type": "display_data",
          "data": {
            "application/vnd.jupyter.widget-view+json": {
              "model_id": "42b31ee04b6841c098135eaf6c58e71e",
              "version_minor": 0,
              "version_major": 2
            },
            "text/plain": [
              "HBox(children=(IntProgress(value=0, description='Epoch 5', max=39, style=ProgressStyle(description_width='init…"
            ]
          },
          "metadata": {
            "tags": []
          }
        },
        {
          "output_type": "stream",
          "text": [
            "\n",
            "train loss 0.470683318682206\n"
          ],
          "name": "stdout"
        },
        {
          "output_type": "display_data",
          "data": {
            "application/vnd.jupyter.widget-view+json": {
              "model_id": "4178c975193b4d79b1cdb9e3ec270300",
              "version_minor": 0,
              "version_major": 2
            },
            "text/plain": [
              "HBox(children=(IntProgress(value=0, description='Eval epoch 5', max=9, style=ProgressStyle(description_width='…"
            ]
          },
          "metadata": {
            "tags": []
          }
        },
        {
          "output_type": "stream",
          "text": [
            "\n",
            "valid loss 0.503674199183782\n"
          ],
          "name": "stdout"
        }
      ]
    },
    {
      "cell_type": "code",
      "metadata": {
        "colab_type": "code",
        "outputId": "e7c02f11-778e-4e1a-cedd-c95a933d1a69",
        "id": "8WV28E3telWp",
        "colab": {
          "base_uri": "https://localhost:8080/",
          "height": 632
        }
      },
      "source": [
        "plot_smooth_losses(total_train_losses, total_valid_losses)"
      ],
      "execution_count": 185,
      "outputs": [
        {
          "output_type": "display_data",
          "data": {
            "image/png": "[encoded data removed]",
            "text/plain": [
              "<Figure size 1008x720 with 1 Axes>"
            ]
          },
          "metadata": {
            "tags": []
          }
        }
      ]
    },
    {
      "cell_type": "code",
      "metadata": {
        "colab_type": "code",
        "outputId": "9a9ec35a-564d-4798-a462-f57109cbf834",
        "id": "A2Qbb9tselWz",
        "colab": {
          "base_uri": "https://localhost:8080/",
          "height": 84,
          "referenced_widgets": [
            "fc61e11b2f2c426e8a9d9e93d24c802a",
            "4bce4b72b3b24e648f8c089fda10cdb2",
            "de7100e63c1343d78a223e88674a6d36",
            "80fca61c18a24332b894dc60eca7343d",
            "4fc84c9a158a414a8f7179ae9991386d",
            "5f654c20597942e9b6267096f1b04e0d",
            "28eceb280d094f63a3da5e62b259dcab",
            "0b8c02da48344ebabeb34ae85027a4f4"
          ]
        }
      },
      "source": [
        "lb_acc, lb_f1 = test_model(lb_tst_itr, lb_len_test, lb_model, criterion)\n",
        "lb_acc, lb_f1"
      ],
      "execution_count": 186,
      "outputs": [
        {
          "output_type": "display_data",
          "data": {
            "application/vnd.jupyter.widget-view+json": {
              "model_id": "fc61e11b2f2c426e8a9d9e93d24c802a",
              "version_minor": 0,
              "version_major": 2
            },
            "text/plain": [
              "HBox(children=(IntProgress(value=0, description='Test', max=12, style=ProgressStyle(description_width='initial…"
            ]
          },
          "metadata": {
            "tags": []
          }
        },
        {
          "output_type": "stream",
          "text": [
            "\n"
          ],
          "name": "stdout"
        },
        {
          "output_type": "execute_result",
          "data": {
            "text/plain": [
              "(0.7578125, 0.6779243910552072)"
            ]
          },
          "metadata": {
            "tags": []
          },
          "execution_count": 186
        }
      ]
    },
    {
      "cell_type": "code",
      "metadata": {
        "id": "b0CR0e6eeqS7",
        "colab_type": "code",
        "colab": {
          "base_uri": "https://localhost:8080/",
          "height": 282
        },
        "outputId": "1e8b7352-1da1-4a3c-90bf-61ccbde0c486"
      },
      "source": [
        "results = add_row(results, ['1 linear nn', 'regex tokens + lemmas', 'w2v bow mean', 'f1', n_f1, lb_f1])\n",
        "results = add_row(results, ['1 linear nn', 'regex tokens + lemmas', 'w2v bow mean', 'accuracy', n_acc, lb_acc])\n",
        "results"
      ],
      "execution_count": 187,
      "outputs": [
        {
          "output_type": "execute_result",
          "data": {
            "text/html": [
              "<div>\n",
              "<style scoped>\n",
              "    .dataframe tbody tr th:only-of-type {\n",
              "        vertical-align: middle;\n",
              "    }\n",
              "\n",
              "    .dataframe tbody tr th {\n",
              "        vertical-align: top;\n",
              "    }\n",
              "\n",
              "    .dataframe thead th {\n",
              "        text-align: right;\n",
              "    }\n",
              "</style>\n",
              "<table border=\"1\" class=\"dataframe\">\n",
              "  <thead>\n",
              "    <tr style=\"text-align: right;\">\n",
              "      <th></th>\n",
              "      <th>model</th>\n",
              "      <th>preprocess</th>\n",
              "      <th>vectorize</th>\n",
              "      <th>score</th>\n",
              "      <th>native</th>\n",
              "      <th>language_background</th>\n",
              "    </tr>\n",
              "  </thead>\n",
              "  <tbody>\n",
              "    <tr>\n",
              "      <th>0</th>\n",
              "      <td>logreg</td>\n",
              "      <td>None</td>\n",
              "      <td>tf-idf</td>\n",
              "      <td>f1</td>\n",
              "      <td>0.581343</td>\n",
              "      <td>0.867952</td>\n",
              "    </tr>\n",
              "    <tr>\n",
              "      <th>1</th>\n",
              "      <td>logreg</td>\n",
              "      <td>None</td>\n",
              "      <td>tf-idf</td>\n",
              "      <td>accuracy</td>\n",
              "      <td>0.865900</td>\n",
              "      <td>0.889527</td>\n",
              "    </tr>\n",
              "    <tr>\n",
              "      <th>2</th>\n",
              "      <td>logreg search</td>\n",
              "      <td>regex tokens</td>\n",
              "      <td>tf-idf</td>\n",
              "      <td>f1</td>\n",
              "      <td>0.477332</td>\n",
              "      <td>0.791352</td>\n",
              "    </tr>\n",
              "    <tr>\n",
              "      <th>3</th>\n",
              "      <td>logreg search</td>\n",
              "      <td>regex tokens</td>\n",
              "      <td>tf-idf</td>\n",
              "      <td>accuracy</td>\n",
              "      <td>0.821839</td>\n",
              "      <td>0.828863</td>\n",
              "    </tr>\n",
              "    <tr>\n",
              "      <th>4</th>\n",
              "      <td>logreg search</td>\n",
              "      <td>regex tokens</td>\n",
              "      <td>w2v bow mean</td>\n",
              "      <td>f1</td>\n",
              "      <td>0.524130</td>\n",
              "      <td>0.720227</td>\n",
              "    </tr>\n",
              "    <tr>\n",
              "      <th>5</th>\n",
              "      <td>logreg search</td>\n",
              "      <td>regex tokens</td>\n",
              "      <td>w2v bow mean</td>\n",
              "      <td>accuracy</td>\n",
              "      <td>0.779055</td>\n",
              "      <td>0.772669</td>\n",
              "    </tr>\n",
              "    <tr>\n",
              "      <th>6</th>\n",
              "      <td>1 linear nn</td>\n",
              "      <td>regex tokens + lemmas</td>\n",
              "      <td>w2v bow mean</td>\n",
              "      <td>f1</td>\n",
              "      <td>0.441896</td>\n",
              "      <td>0.677924</td>\n",
              "    </tr>\n",
              "    <tr>\n",
              "      <th>7</th>\n",
              "      <td>1 linear nn</td>\n",
              "      <td>regex tokens + lemmas</td>\n",
              "      <td>w2v bow mean</td>\n",
              "      <td>accuracy</td>\n",
              "      <td>0.706380</td>\n",
              "      <td>0.757812</td>\n",
              "    </tr>\n",
              "  </tbody>\n",
              "</table>\n",
              "</div>"
            ],
            "text/plain": [
              "           model             preprocess  ...    native language_background\n",
              "0         logreg                   None  ...  0.581343            0.867952\n",
              "1         logreg                   None  ...  0.865900            0.889527\n",
              "2  logreg search           regex tokens  ...  0.477332            0.791352\n",
              "3  logreg search           regex tokens  ...  0.821839            0.828863\n",
              "4  logreg search           regex tokens  ...  0.524130            0.720227\n",
              "5  logreg search           regex tokens  ...  0.779055            0.772669\n",
              "6    1 linear nn  regex tokens + lemmas  ...  0.441896            0.677924\n",
              "7    1 linear nn  regex tokens + lemmas  ...  0.706380            0.757812\n",
              "\n",
              "[8 rows x 6 columns]"
            ]
          },
          "metadata": {
            "tags": []
          },
          "execution_count": 187
        }
      ]
    },
    {
      "cell_type": "code",
      "metadata": {
        "id": "rjcoDTScfhgu",
        "colab_type": "code",
        "colab": {
          "base_uri": "https://localhost:8080/",
          "height": 203
        },
        "outputId": "33c1386a-5cdc-495b-b3c7-e545bff3b457"
      },
      "source": [
        "results.style.background_gradient(axis=0, cmap='Reds')"
      ],
      "execution_count": 188,
      "outputs": [
        {
          "output_type": "execute_result",
          "data": {
            "text/html": [
              "<style  type=\"text/css\" >\n",
              "    #T_323cfd48_6f9f_11ea_9930_0242ac1c0002row0_col4 {\n",
              "            background-color:  #fca183;\n",
              "            color:  #000000;\n",
              "        }    #T_323cfd48_6f9f_11ea_9930_0242ac1c0002row0_col5 {\n",
              "            background-color:  #9a0c14;\n",
              "            color:  #f1f1f1;\n",
              "        }    #T_323cfd48_6f9f_11ea_9930_0242ac1c0002row1_col4 {\n",
              "            background-color:  #67000d;\n",
              "            color:  #f1f1f1;\n",
              "        }    #T_323cfd48_6f9f_11ea_9930_0242ac1c0002row1_col5 {\n",
              "            background-color:  #67000d;\n",
              "            color:  #f1f1f1;\n",
              "        }    #T_323cfd48_6f9f_11ea_9930_0242ac1c0002row2_col4 {\n",
              "            background-color:  #fee7dc;\n",
              "            color:  #000000;\n",
              "        }    #T_323cfd48_6f9f_11ea_9930_0242ac1c0002row2_col5 {\n",
              "            background-color:  #f75c41;\n",
              "            color:  #000000;\n",
              "        }    #T_323cfd48_6f9f_11ea_9930_0242ac1c0002row3_col4 {\n",
              "            background-color:  #9a0c14;\n",
              "            color:  #f1f1f1;\n",
              "        }    #T_323cfd48_6f9f_11ea_9930_0242ac1c0002row3_col5 {\n",
              "            background-color:  #d52221;\n",
              "            color:  #f1f1f1;\n",
              "        }    #T_323cfd48_6f9f_11ea_9930_0242ac1c0002row4_col4 {\n",
              "            background-color:  #fdccb8;\n",
              "            color:  #000000;\n",
              "        }    #T_323cfd48_6f9f_11ea_9930_0242ac1c0002row4_col5 {\n",
              "            background-color:  #fdcab5;\n",
              "            color:  #000000;\n",
              "        }    #T_323cfd48_6f9f_11ea_9930_0242ac1c0002row5_col4 {\n",
              "            background-color:  #bd151a;\n",
              "            color:  #f1f1f1;\n",
              "        }    #T_323cfd48_6f9f_11ea_9930_0242ac1c0002row5_col5 {\n",
              "            background-color:  #fb7b5b;\n",
              "            color:  #000000;\n",
              "        }    #T_323cfd48_6f9f_11ea_9930_0242ac1c0002row6_col4 {\n",
              "            background-color:  #fff5f0;\n",
              "            color:  #000000;\n",
              "        }    #T_323cfd48_6f9f_11ea_9930_0242ac1c0002row6_col5 {\n",
              "            background-color:  #fff5f0;\n",
              "            color:  #000000;\n",
              "        }    #T_323cfd48_6f9f_11ea_9930_0242ac1c0002row7_col4 {\n",
              "            background-color:  #ef3c2c;\n",
              "            color:  #f1f1f1;\n",
              "        }    #T_323cfd48_6f9f_11ea_9930_0242ac1c0002row7_col5 {\n",
              "            background-color:  #fc9272;\n",
              "            color:  #000000;\n",
              "        }</style><table id=\"T_323cfd48_6f9f_11ea_9930_0242ac1c0002\" ><thead>    <tr>        <th class=\"blank level0\" ></th>        <th class=\"col_heading level0 col0\" >model</th>        <th class=\"col_heading level0 col1\" >preprocess</th>        <th class=\"col_heading level0 col2\" >vectorize</th>        <th class=\"col_heading level0 col3\" >score</th>        <th class=\"col_heading level0 col4\" >native</th>        <th class=\"col_heading level0 col5\" >language_background</th>    </tr></thead><tbody>\n",
              "                <tr>\n",
              "                        <th id=\"T_323cfd48_6f9f_11ea_9930_0242ac1c0002level0_row0\" class=\"row_heading level0 row0\" >0</th>\n",
              "                        <td id=\"T_323cfd48_6f9f_11ea_9930_0242ac1c0002row0_col0\" class=\"data row0 col0\" >logreg</td>\n",
              "                        <td id=\"T_323cfd48_6f9f_11ea_9930_0242ac1c0002row0_col1\" class=\"data row0 col1\" >None</td>\n",
              "                        <td id=\"T_323cfd48_6f9f_11ea_9930_0242ac1c0002row0_col2\" class=\"data row0 col2\" >tf-idf</td>\n",
              "                        <td id=\"T_323cfd48_6f9f_11ea_9930_0242ac1c0002row0_col3\" class=\"data row0 col3\" >f1</td>\n",
              "                        <td id=\"T_323cfd48_6f9f_11ea_9930_0242ac1c0002row0_col4\" class=\"data row0 col4\" >0.581343</td>\n",
              "                        <td id=\"T_323cfd48_6f9f_11ea_9930_0242ac1c0002row0_col5\" class=\"data row0 col5\" >0.867952</td>\n",
              "            </tr>\n",
              "            <tr>\n",
              "                        <th id=\"T_323cfd48_6f9f_11ea_9930_0242ac1c0002level0_row1\" class=\"row_heading level0 row1\" >1</th>\n",
              "                        <td id=\"T_323cfd48_6f9f_11ea_9930_0242ac1c0002row1_col0\" class=\"data row1 col0\" >logreg</td>\n",
              "                        <td id=\"T_323cfd48_6f9f_11ea_9930_0242ac1c0002row1_col1\" class=\"data row1 col1\" >None</td>\n",
              "                        <td id=\"T_323cfd48_6f9f_11ea_9930_0242ac1c0002row1_col2\" class=\"data row1 col2\" >tf-idf</td>\n",
              "                        <td id=\"T_323cfd48_6f9f_11ea_9930_0242ac1c0002row1_col3\" class=\"data row1 col3\" >accuracy</td>\n",
              "                        <td id=\"T_323cfd48_6f9f_11ea_9930_0242ac1c0002row1_col4\" class=\"data row1 col4\" >0.8659</td>\n",
              "                        <td id=\"T_323cfd48_6f9f_11ea_9930_0242ac1c0002row1_col5\" class=\"data row1 col5\" >0.889527</td>\n",
              "            </tr>\n",
              "            <tr>\n",
              "                        <th id=\"T_323cfd48_6f9f_11ea_9930_0242ac1c0002level0_row2\" class=\"row_heading level0 row2\" >2</th>\n",
              "                        <td id=\"T_323cfd48_6f9f_11ea_9930_0242ac1c0002row2_col0\" class=\"data row2 col0\" >logreg search</td>\n",
              "                        <td id=\"T_323cfd48_6f9f_11ea_9930_0242ac1c0002row2_col1\" class=\"data row2 col1\" >regex tokens</td>\n",
              "                        <td id=\"T_323cfd48_6f9f_11ea_9930_0242ac1c0002row2_col2\" class=\"data row2 col2\" >tf-idf</td>\n",
              "                        <td id=\"T_323cfd48_6f9f_11ea_9930_0242ac1c0002row2_col3\" class=\"data row2 col3\" >f1</td>\n",
              "                        <td id=\"T_323cfd48_6f9f_11ea_9930_0242ac1c0002row2_col4\" class=\"data row2 col4\" >0.477332</td>\n",
              "                        <td id=\"T_323cfd48_6f9f_11ea_9930_0242ac1c0002row2_col5\" class=\"data row2 col5\" >0.791352</td>\n",
              "            </tr>\n",
              "            <tr>\n",
              "                        <th id=\"T_323cfd48_6f9f_11ea_9930_0242ac1c0002level0_row3\" class=\"row_heading level0 row3\" >3</th>\n",
              "                        <td id=\"T_323cfd48_6f9f_11ea_9930_0242ac1c0002row3_col0\" class=\"data row3 col0\" >logreg search</td>\n",
              "                        <td id=\"T_323cfd48_6f9f_11ea_9930_0242ac1c0002row3_col1\" class=\"data row3 col1\" >regex tokens</td>\n",
              "                        <td id=\"T_323cfd48_6f9f_11ea_9930_0242ac1c0002row3_col2\" class=\"data row3 col2\" >tf-idf</td>\n",
              "                        <td id=\"T_323cfd48_6f9f_11ea_9930_0242ac1c0002row3_col3\" class=\"data row3 col3\" >accuracy</td>\n",
              "                        <td id=\"T_323cfd48_6f9f_11ea_9930_0242ac1c0002row3_col4\" class=\"data row3 col4\" >0.821839</td>\n",
              "                        <td id=\"T_323cfd48_6f9f_11ea_9930_0242ac1c0002row3_col5\" class=\"data row3 col5\" >0.828863</td>\n",
              "            </tr>\n",
              "            <tr>\n",
              "                        <th id=\"T_323cfd48_6f9f_11ea_9930_0242ac1c0002level0_row4\" class=\"row_heading level0 row4\" >4</th>\n",
              "                        <td id=\"T_323cfd48_6f9f_11ea_9930_0242ac1c0002row4_col0\" class=\"data row4 col0\" >logreg search</td>\n",
              "                        <td id=\"T_323cfd48_6f9f_11ea_9930_0242ac1c0002row4_col1\" class=\"data row4 col1\" >regex tokens</td>\n",
              "                        <td id=\"T_323cfd48_6f9f_11ea_9930_0242ac1c0002row4_col2\" class=\"data row4 col2\" >w2v bow mean</td>\n",
              "                        <td id=\"T_323cfd48_6f9f_11ea_9930_0242ac1c0002row4_col3\" class=\"data row4 col3\" >f1</td>\n",
              "                        <td id=\"T_323cfd48_6f9f_11ea_9930_0242ac1c0002row4_col4\" class=\"data row4 col4\" >0.52413</td>\n",
              "                        <td id=\"T_323cfd48_6f9f_11ea_9930_0242ac1c0002row4_col5\" class=\"data row4 col5\" >0.720227</td>\n",
              "            </tr>\n",
              "            <tr>\n",
              "                        <th id=\"T_323cfd48_6f9f_11ea_9930_0242ac1c0002level0_row5\" class=\"row_heading level0 row5\" >5</th>\n",
              "                        <td id=\"T_323cfd48_6f9f_11ea_9930_0242ac1c0002row5_col0\" class=\"data row5 col0\" >logreg search</td>\n",
              "                        <td id=\"T_323cfd48_6f9f_11ea_9930_0242ac1c0002row5_col1\" class=\"data row5 col1\" >regex tokens</td>\n",
              "                        <td id=\"T_323cfd48_6f9f_11ea_9930_0242ac1c0002row5_col2\" class=\"data row5 col2\" >w2v bow mean</td>\n",
              "                        <td id=\"T_323cfd48_6f9f_11ea_9930_0242ac1c0002row5_col3\" class=\"data row5 col3\" >accuracy</td>\n",
              "                        <td id=\"T_323cfd48_6f9f_11ea_9930_0242ac1c0002row5_col4\" class=\"data row5 col4\" >0.779055</td>\n",
              "                        <td id=\"T_323cfd48_6f9f_11ea_9930_0242ac1c0002row5_col5\" class=\"data row5 col5\" >0.772669</td>\n",
              "            </tr>\n",
              "            <tr>\n",
              "                        <th id=\"T_323cfd48_6f9f_11ea_9930_0242ac1c0002level0_row6\" class=\"row_heading level0 row6\" >6</th>\n",
              "                        <td id=\"T_323cfd48_6f9f_11ea_9930_0242ac1c0002row6_col0\" class=\"data row6 col0\" >1 linear nn</td>\n",
              "                        <td id=\"T_323cfd48_6f9f_11ea_9930_0242ac1c0002row6_col1\" class=\"data row6 col1\" >regex tokens + lemmas</td>\n",
              "                        <td id=\"T_323cfd48_6f9f_11ea_9930_0242ac1c0002row6_col2\" class=\"data row6 col2\" >w2v bow mean</td>\n",
              "                        <td id=\"T_323cfd48_6f9f_11ea_9930_0242ac1c0002row6_col3\" class=\"data row6 col3\" >f1</td>\n",
              "                        <td id=\"T_323cfd48_6f9f_11ea_9930_0242ac1c0002row6_col4\" class=\"data row6 col4\" >0.441896</td>\n",
              "                        <td id=\"T_323cfd48_6f9f_11ea_9930_0242ac1c0002row6_col5\" class=\"data row6 col5\" >0.677924</td>\n",
              "            </tr>\n",
              "            <tr>\n",
              "                        <th id=\"T_323cfd48_6f9f_11ea_9930_0242ac1c0002level0_row7\" class=\"row_heading level0 row7\" >7</th>\n",
              "                        <td id=\"T_323cfd48_6f9f_11ea_9930_0242ac1c0002row7_col0\" class=\"data row7 col0\" >1 linear nn</td>\n",
              "                        <td id=\"T_323cfd48_6f9f_11ea_9930_0242ac1c0002row7_col1\" class=\"data row7 col1\" >regex tokens + lemmas</td>\n",
              "                        <td id=\"T_323cfd48_6f9f_11ea_9930_0242ac1c0002row7_col2\" class=\"data row7 col2\" >w2v bow mean</td>\n",
              "                        <td id=\"T_323cfd48_6f9f_11ea_9930_0242ac1c0002row7_col3\" class=\"data row7 col3\" >accuracy</td>\n",
              "                        <td id=\"T_323cfd48_6f9f_11ea_9930_0242ac1c0002row7_col4\" class=\"data row7 col4\" >0.70638</td>\n",
              "                        <td id=\"T_323cfd48_6f9f_11ea_9930_0242ac1c0002row7_col5\" class=\"data row7 col5\" >0.757812</td>\n",
              "            </tr>\n",
              "    </tbody></table>"
            ],
            "text/plain": [
              "<pandas.io.formats.style.Styler at 0x7f9421937978>"
            ]
          },
          "metadata": {
            "tags": []
          },
          "execution_count": 188
        }
      ]
    },
    {
      "cell_type": "code",
      "metadata": {
        "id": "9dedKbOhi2pW",
        "colab_type": "code",
        "colab": {
          "base_uri": "https://localhost:8080/",
          "height": 121
        },
        "outputId": "f112e1d6-ee2b-4ae9-f3ea-2485c31b8335"
      },
      "source": [
        "results[results['score'] == 'f1'].style.background_gradient(axis=0, cmap='Reds')"
      ],
      "execution_count": 190,
      "outputs": [
        {
          "output_type": "execute_result",
          "data": {
            "text/html": [
              "<style  type=\"text/css\" >\n",
              "    #T_10917a1e_6fa1_11ea_9930_0242ac1c0002row0_col4 {\n",
              "            background-color:  #67000d;\n",
              "            color:  #f1f1f1;\n",
              "        }    #T_10917a1e_6fa1_11ea_9930_0242ac1c0002row0_col5 {\n",
              "            background-color:  #67000d;\n",
              "            color:  #f1f1f1;\n",
              "        }    #T_10917a1e_6fa1_11ea_9930_0242ac1c0002row1_col4 {\n",
              "            background-color:  #fcb99f;\n",
              "            color:  #000000;\n",
              "        }    #T_10917a1e_6fa1_11ea_9930_0242ac1c0002row1_col5 {\n",
              "            background-color:  #f24633;\n",
              "            color:  #000000;\n",
              "        }    #T_10917a1e_6fa1_11ea_9930_0242ac1c0002row2_col4 {\n",
              "            background-color:  #f34935;\n",
              "            color:  #000000;\n",
              "        }    #T_10917a1e_6fa1_11ea_9930_0242ac1c0002row2_col5 {\n",
              "            background-color:  #fcc4ad;\n",
              "            color:  #000000;\n",
              "        }    #T_10917a1e_6fa1_11ea_9930_0242ac1c0002row3_col4 {\n",
              "            background-color:  #fff5f0;\n",
              "            color:  #000000;\n",
              "        }    #T_10917a1e_6fa1_11ea_9930_0242ac1c0002row3_col5 {\n",
              "            background-color:  #fff5f0;\n",
              "            color:  #000000;\n",
              "        }</style><table id=\"T_10917a1e_6fa1_11ea_9930_0242ac1c0002\" ><thead>    <tr>        <th class=\"blank level0\" ></th>        <th class=\"col_heading level0 col0\" >model</th>        <th class=\"col_heading level0 col1\" >preprocess</th>        <th class=\"col_heading level0 col2\" >vectorize</th>        <th class=\"col_heading level0 col3\" >score</th>        <th class=\"col_heading level0 col4\" >native</th>        <th class=\"col_heading level0 col5\" >language_background</th>    </tr></thead><tbody>\n",
              "                <tr>\n",
              "                        <th id=\"T_10917a1e_6fa1_11ea_9930_0242ac1c0002level0_row0\" class=\"row_heading level0 row0\" >0</th>\n",
              "                        <td id=\"T_10917a1e_6fa1_11ea_9930_0242ac1c0002row0_col0\" class=\"data row0 col0\" >logreg</td>\n",
              "                        <td id=\"T_10917a1e_6fa1_11ea_9930_0242ac1c0002row0_col1\" class=\"data row0 col1\" >None</td>\n",
              "                        <td id=\"T_10917a1e_6fa1_11ea_9930_0242ac1c0002row0_col2\" class=\"data row0 col2\" >tf-idf</td>\n",
              "                        <td id=\"T_10917a1e_6fa1_11ea_9930_0242ac1c0002row0_col3\" class=\"data row0 col3\" >f1</td>\n",
              "                        <td id=\"T_10917a1e_6fa1_11ea_9930_0242ac1c0002row0_col4\" class=\"data row0 col4\" >0.581343</td>\n",
              "                        <td id=\"T_10917a1e_6fa1_11ea_9930_0242ac1c0002row0_col5\" class=\"data row0 col5\" >0.867952</td>\n",
              "            </tr>\n",
              "            <tr>\n",
              "                        <th id=\"T_10917a1e_6fa1_11ea_9930_0242ac1c0002level0_row1\" class=\"row_heading level0 row1\" >2</th>\n",
              "                        <td id=\"T_10917a1e_6fa1_11ea_9930_0242ac1c0002row1_col0\" class=\"data row1 col0\" >logreg search</td>\n",
              "                        <td id=\"T_10917a1e_6fa1_11ea_9930_0242ac1c0002row1_col1\" class=\"data row1 col1\" >regex tokens</td>\n",
              "                        <td id=\"T_10917a1e_6fa1_11ea_9930_0242ac1c0002row1_col2\" class=\"data row1 col2\" >tf-idf</td>\n",
              "                        <td id=\"T_10917a1e_6fa1_11ea_9930_0242ac1c0002row1_col3\" class=\"data row1 col3\" >f1</td>\n",
              "                        <td id=\"T_10917a1e_6fa1_11ea_9930_0242ac1c0002row1_col4\" class=\"data row1 col4\" >0.477332</td>\n",
              "                        <td id=\"T_10917a1e_6fa1_11ea_9930_0242ac1c0002row1_col5\" class=\"data row1 col5\" >0.791352</td>\n",
              "            </tr>\n",
              "            <tr>\n",
              "                        <th id=\"T_10917a1e_6fa1_11ea_9930_0242ac1c0002level0_row2\" class=\"row_heading level0 row2\" >4</th>\n",
              "                        <td id=\"T_10917a1e_6fa1_11ea_9930_0242ac1c0002row2_col0\" class=\"data row2 col0\" >logreg search</td>\n",
              "                        <td id=\"T_10917a1e_6fa1_11ea_9930_0242ac1c0002row2_col1\" class=\"data row2 col1\" >regex tokens</td>\n",
              "                        <td id=\"T_10917a1e_6fa1_11ea_9930_0242ac1c0002row2_col2\" class=\"data row2 col2\" >w2v bow mean</td>\n",
              "                        <td id=\"T_10917a1e_6fa1_11ea_9930_0242ac1c0002row2_col3\" class=\"data row2 col3\" >f1</td>\n",
              "                        <td id=\"T_10917a1e_6fa1_11ea_9930_0242ac1c0002row2_col4\" class=\"data row2 col4\" >0.52413</td>\n",
              "                        <td id=\"T_10917a1e_6fa1_11ea_9930_0242ac1c0002row2_col5\" class=\"data row2 col5\" >0.720227</td>\n",
              "            </tr>\n",
              "            <tr>\n",
              "                        <th id=\"T_10917a1e_6fa1_11ea_9930_0242ac1c0002level0_row3\" class=\"row_heading level0 row3\" >6</th>\n",
              "                        <td id=\"T_10917a1e_6fa1_11ea_9930_0242ac1c0002row3_col0\" class=\"data row3 col0\" >1 linear nn</td>\n",
              "                        <td id=\"T_10917a1e_6fa1_11ea_9930_0242ac1c0002row3_col1\" class=\"data row3 col1\" >regex tokens + lemmas</td>\n",
              "                        <td id=\"T_10917a1e_6fa1_11ea_9930_0242ac1c0002row3_col2\" class=\"data row3 col2\" >w2v bow mean</td>\n",
              "                        <td id=\"T_10917a1e_6fa1_11ea_9930_0242ac1c0002row3_col3\" class=\"data row3 col3\" >f1</td>\n",
              "                        <td id=\"T_10917a1e_6fa1_11ea_9930_0242ac1c0002row3_col4\" class=\"data row3 col4\" >0.441896</td>\n",
              "                        <td id=\"T_10917a1e_6fa1_11ea_9930_0242ac1c0002row3_col5\" class=\"data row3 col5\" >0.677924</td>\n",
              "            </tr>\n",
              "    </tbody></table>"
            ],
            "text/plain": [
              "<pandas.io.formats.style.Styler at 0x7f941376fbe0>"
            ]
          },
          "metadata": {
            "tags": []
          },
          "execution_count": 190
        }
      ]
    },
    {
      "cell_type": "code",
      "metadata": {
        "id": "LtXl0tKcjOi3",
        "colab_type": "code",
        "colab": {
          "base_uri": "https://localhost:8080/",
          "height": 121
        },
        "outputId": "88806355-a26e-460b-91ee-f310f85d1a0b"
      },
      "source": [
        "results[results['score'] == 'accuracy'].style.background_gradient(axis=0, cmap='Reds')"
      ],
      "execution_count": 191,
      "outputs": [
        {
          "output_type": "execute_result",
          "data": {
            "text/html": [
              "<style  type=\"text/css\" >\n",
              "    #T_18127400_6fa1_11ea_9930_0242ac1c0002row0_col4 {\n",
              "            background-color:  #67000d;\n",
              "            color:  #f1f1f1;\n",
              "        }    #T_18127400_6fa1_11ea_9930_0242ac1c0002row0_col5 {\n",
              "            background-color:  #67000d;\n",
              "            color:  #f1f1f1;\n",
              "        }    #T_18127400_6fa1_11ea_9930_0242ac1c0002row1_col4 {\n",
              "            background-color:  #d21f20;\n",
              "            color:  #f1f1f1;\n",
              "        }    #T_18127400_6fa1_11ea_9930_0242ac1c0002row1_col5 {\n",
              "            background-color:  #f75b40;\n",
              "            color:  #000000;\n",
              "        }    #T_18127400_6fa1_11ea_9930_0242ac1c0002row2_col4 {\n",
              "            background-color:  #fb7858;\n",
              "            color:  #000000;\n",
              "        }    #T_18127400_6fa1_11ea_9930_0242ac1c0002row2_col5 {\n",
              "            background-color:  #fee3d6;\n",
              "            color:  #000000;\n",
              "        }    #T_18127400_6fa1_11ea_9930_0242ac1c0002row3_col4 {\n",
              "            background-color:  #fff5f0;\n",
              "            color:  #000000;\n",
              "        }    #T_18127400_6fa1_11ea_9930_0242ac1c0002row3_col5 {\n",
              "            background-color:  #fff5f0;\n",
              "            color:  #000000;\n",
              "        }</style><table id=\"T_18127400_6fa1_11ea_9930_0242ac1c0002\" ><thead>    <tr>        <th class=\"blank level0\" ></th>        <th class=\"col_heading level0 col0\" >model</th>        <th class=\"col_heading level0 col1\" >preprocess</th>        <th class=\"col_heading level0 col2\" >vectorize</th>        <th class=\"col_heading level0 col3\" >score</th>        <th class=\"col_heading level0 col4\" >native</th>        <th class=\"col_heading level0 col5\" >language_background</th>    </tr></thead><tbody>\n",
              "                <tr>\n",
              "                        <th id=\"T_18127400_6fa1_11ea_9930_0242ac1c0002level0_row0\" class=\"row_heading level0 row0\" >1</th>\n",
              "                        <td id=\"T_18127400_6fa1_11ea_9930_0242ac1c0002row0_col0\" class=\"data row0 col0\" >logreg</td>\n",
              "                        <td id=\"T_18127400_6fa1_11ea_9930_0242ac1c0002row0_col1\" class=\"data row0 col1\" >None</td>\n",
              "                        <td id=\"T_18127400_6fa1_11ea_9930_0242ac1c0002row0_col2\" class=\"data row0 col2\" >tf-idf</td>\n",
              "                        <td id=\"T_18127400_6fa1_11ea_9930_0242ac1c0002row0_col3\" class=\"data row0 col3\" >accuracy</td>\n",
              "                        <td id=\"T_18127400_6fa1_11ea_9930_0242ac1c0002row0_col4\" class=\"data row0 col4\" >0.8659</td>\n",
              "                        <td id=\"T_18127400_6fa1_11ea_9930_0242ac1c0002row0_col5\" class=\"data row0 col5\" >0.889527</td>\n",
              "            </tr>\n",
              "            <tr>\n",
              "                        <th id=\"T_18127400_6fa1_11ea_9930_0242ac1c0002level0_row1\" class=\"row_heading level0 row1\" >3</th>\n",
              "                        <td id=\"T_18127400_6fa1_11ea_9930_0242ac1c0002row1_col0\" class=\"data row1 col0\" >logreg search</td>\n",
              "                        <td id=\"T_18127400_6fa1_11ea_9930_0242ac1c0002row1_col1\" class=\"data row1 col1\" >regex tokens</td>\n",
              "                        <td id=\"T_18127400_6fa1_11ea_9930_0242ac1c0002row1_col2\" class=\"data row1 col2\" >tf-idf</td>\n",
              "                        <td id=\"T_18127400_6fa1_11ea_9930_0242ac1c0002row1_col3\" class=\"data row1 col3\" >accuracy</td>\n",
              "                        <td id=\"T_18127400_6fa1_11ea_9930_0242ac1c0002row1_col4\" class=\"data row1 col4\" >0.821839</td>\n",
              "                        <td id=\"T_18127400_6fa1_11ea_9930_0242ac1c0002row1_col5\" class=\"data row1 col5\" >0.828863</td>\n",
              "            </tr>\n",
              "            <tr>\n",
              "                        <th id=\"T_18127400_6fa1_11ea_9930_0242ac1c0002level0_row2\" class=\"row_heading level0 row2\" >5</th>\n",
              "                        <td id=\"T_18127400_6fa1_11ea_9930_0242ac1c0002row2_col0\" class=\"data row2 col0\" >logreg search</td>\n",
              "                        <td id=\"T_18127400_6fa1_11ea_9930_0242ac1c0002row2_col1\" class=\"data row2 col1\" >regex tokens</td>\n",
              "                        <td id=\"T_18127400_6fa1_11ea_9930_0242ac1c0002row2_col2\" class=\"data row2 col2\" >w2v bow mean</td>\n",
              "                        <td id=\"T_18127400_6fa1_11ea_9930_0242ac1c0002row2_col3\" class=\"data row2 col3\" >accuracy</td>\n",
              "                        <td id=\"T_18127400_6fa1_11ea_9930_0242ac1c0002row2_col4\" class=\"data row2 col4\" >0.779055</td>\n",
              "                        <td id=\"T_18127400_6fa1_11ea_9930_0242ac1c0002row2_col5\" class=\"data row2 col5\" >0.772669</td>\n",
              "            </tr>\n",
              "            <tr>\n",
              "                        <th id=\"T_18127400_6fa1_11ea_9930_0242ac1c0002level0_row3\" class=\"row_heading level0 row3\" >7</th>\n",
              "                        <td id=\"T_18127400_6fa1_11ea_9930_0242ac1c0002row3_col0\" class=\"data row3 col0\" >1 linear nn</td>\n",
              "                        <td id=\"T_18127400_6fa1_11ea_9930_0242ac1c0002row3_col1\" class=\"data row3 col1\" >regex tokens + lemmas</td>\n",
              "                        <td id=\"T_18127400_6fa1_11ea_9930_0242ac1c0002row3_col2\" class=\"data row3 col2\" >w2v bow mean</td>\n",
              "                        <td id=\"T_18127400_6fa1_11ea_9930_0242ac1c0002row3_col3\" class=\"data row3 col3\" >accuracy</td>\n",
              "                        <td id=\"T_18127400_6fa1_11ea_9930_0242ac1c0002row3_col4\" class=\"data row3 col4\" >0.70638</td>\n",
              "                        <td id=\"T_18127400_6fa1_11ea_9930_0242ac1c0002row3_col5\" class=\"data row3 col5\" >0.757812</td>\n",
              "            </tr>\n",
              "    </tbody></table>"
            ],
            "text/plain": [
              "<pandas.io.formats.style.Styler at 0x7f942386bc18>"
            ]
          },
          "metadata": {
            "tags": []
          },
          "execution_count": 191
        }
      ]
    }
  ]
}