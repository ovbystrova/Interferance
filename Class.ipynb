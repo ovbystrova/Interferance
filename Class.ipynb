{
  "nbformat": 4,
  "nbformat_minor": 0,
  "metadata": {
    "colab": {
      "name": "Class.ipynb",
      "provenance": [],
      "collapsed_sections": [],
      "include_colab_link": true
    },
    "kernelspec": {
      "name": "python3",
      "display_name": "Python 3"
    }
  },
  "cells": [
    {
      "cell_type": "markdown",
      "metadata": {
        "id": "view-in-github",
        "colab_type": "text"
      },
      "source": [
        "<a href=\"https://colab.research.google.com/github/ovbystrova/Interference/blob/master/Class.ipynb\" target=\"_parent\"><img src=\"https://colab.research.google.com/assets/colab-badge.svg\" alt=\"Open In Colab\"/></a>"
      ]
    },
    {
      "cell_type": "markdown",
      "metadata": {
        "id": "pqVazECarw7e",
        "colab_type": "text"
      },
      "source": [
        "# [Author Verification Using Common N-Gram Profiles of Text Documents](https://www.aclweb.org/anthology/C14-1038.pdf)"
      ]
    },
    {
      "cell_type": "code",
      "metadata": {
        "id": "DsTnIlj6jzCS",
        "colab_type": "code",
        "colab": {}
      },
      "source": [
        "import numpy as np\n",
        "from collections import Counter\n",
        "from sklearn.metrics import accuracy_score, precision_score, recall_score, f1_score, roc_auc_score"
      ],
      "execution_count": 0,
      "outputs": []
    },
    {
      "cell_type": "markdown",
      "metadata": {
        "id": "3uMecjXwzyMi",
        "colab_type": "text"
      },
      "source": [
        "## Distances"
      ]
    },
    {
      "cell_type": "markdown",
      "metadata": {
        "id": "mi-Q6HsGo0o1",
        "colab_type": "text"
      },
      "source": [
        "### Implement the distance formula from the article:\n",
        "$$D(P_1,P_2)=\\sum_{x\\in(P_1 \\cup P_2)}\\left(\\frac{fP_1(x)-fP_2(x)}{\\frac{1}{2} (fP_1(x)+fP_2(x))}\\right) ^2$$\n",
        "\n",
        "where $P_1$ and $P_2$ are n-gram profiles of 2 documents,  and $fP_i(x)$ - length-normilized frequency of an n-gram $x$ in a profile $P_i$"
      ]
    },
    {
      "cell_type": "code",
      "metadata": {
        "id": "9A7ObNGIhtf0",
        "colab_type": "code",
        "colab": {}
      },
      "source": [
        "def distance(profile1, profile2):\n",
        "  \"\"\"\n",
        "  calculates distance between 2 document profiles\n",
        "\n",
        "  :param profile1: collections.Counter, token frequencies in profile 1\n",
        "  :param profile2: collections.Counter, token frequencies in profile 2\n",
        "  :return: float, distance\n",
        "  \"\"\"\n",
        "  vocab = set(profile1.keys()).union(set(profile2.keys()))\n",
        "  diffs = []\n",
        "  for word in vocab:\n",
        "    fp1 = profile1[word]\n",
        "    fp2 = profile2[word]\n",
        "    diff = ((fp1 - fp2)/((fp1 + fp2)/2)) ** 2\n",
        "    diffs.append(diff)\n",
        "  return np.sum(diffs)"
      ],
      "execution_count": 0,
      "outputs": []
    },
    {
      "cell_type": "markdown",
      "metadata": {
        "id": "fr8qPVGcquGl",
        "colab_type": "text"
      },
      "source": [
        "### Implement the radius distance form the article:\n",
        "$$r(d_i, u, A) = \\frac{D(d_i, u)}{D^{max}(d_i, A)}$$\n",
        "where $D^{max}(d_i, A)$ is $max_{j=1}^{m=|A|}(d_i, A_j)$, or the maximal distance between a known-author document $d_i$ and all other documents from known-author collection $A$"
      ]
    },
    {
      "cell_type": "code",
      "metadata": {
        "id": "PtKDqM5MhxS2",
        "colab_type": "code",
        "colab": {}
      },
      "source": [
        "def radius(di, u, A):\n",
        "  \"\"\"\n",
        "  compares proximity between an unknown document and a known one\n",
        "  :param di: collections.Counter, token frequencies in a known document i\n",
        "  :param u: collections.Counter, token frequencies in an unknown document\n",
        "  :param A: list of collections.Counter, token frequencies of all know documents\n",
        "  :return: float, distance\n",
        "  \"\"\"\n",
        "  return(distance(di, u)/np.max([distance(di, ai) for ai in A]))"
      ],
      "execution_count": 0,
      "outputs": []
    },
    {
      "cell_type": "code",
      "metadata": {
        "id": "NpHCC3RVhy4z",
        "colab_type": "code",
        "colab": {}
      },
      "source": [
        "def radius_distance(u, A):\n",
        "  \"\"\"\n",
        "  compares proximity between an unknown document and all known ones\n",
        "  :param u: collections.Counter, token frequencies in an unknown document\n",
        "  :param A: list of collections.Counter, token frequencies of all know documents\n",
        "  :return: float, distance\n",
        "  \"\"\"\n",
        "  dists = []\n",
        "  for di in A:\n",
        "    dists.append(radius(di, u, A))\n",
        "  return np.mean(dists)"
      ],
      "execution_count": 0,
      "outputs": []
    },
    {
      "cell_type": "markdown",
      "metadata": {
        "id": "NvvUFsa6z67v",
        "colab_type": "text"
      },
      "source": [
        "## Compile a singe classifier"
      ]
    },
    {
      "cell_type": "code",
      "metadata": {
        "id": "lvhkGlBAgcNa",
        "colab_type": "code",
        "colab": {}
      },
      "source": [
        "class SingleClassifier():\n",
        "    \"\"\"\n",
        "    Classifies a texts as belonging to several classes given true classes\n",
        "\n",
        "    :param profiles: list of collection.Counter, n-gram profiles\n",
        "    :param y_true: list of str or int, true classes of each text from profiles\n",
        "    :param p_length: int, length of truncated profile\n",
        "    \"\"\"\n",
        "    def __init__(self, profiles, y_true, p_length):\n",
        "        self.y_true = y_true\n",
        "        self.p_length = p_length  \n",
        "        self.profiles = self.truncate(profiles, p_length)\n",
        "    \n",
        "    @staticmethod\n",
        "    def truncate(profiles, p_length):\n",
        "        \"\"\"\n",
        "        truncates a profile to a given length specified by p_length\n",
        "\n",
        "        :param profiles: list of collection.Counter, n-gram profiles\n",
        "        :param p_length: int, length of truncated profile, \n",
        "                         if more than actual profile length, remains unchanged\n",
        "        :return: list of collection.Counter, text n-gram profiles truncated to\n",
        "                 the length of p_length\n",
        "        \"\"\"\n",
        "        profiles = [profile.most_common(p_length) for profile in profiles]\n",
        "        profiles = [make_counter(profile) for profile in profiles]\n",
        "        return profiles\n",
        "    \n",
        "    def forward_one(self, x):  \n",
        "        \"\"\"\n",
        "        predicts the class of a given n-gram profile x\n",
        "\n",
        "        :param x: collection.Counter, n-gram profile to predict the class of\n",
        "        :return y: str or int, predicted class\n",
        "        :return class_dist: dict of {str or int: float}, proximity to each class\n",
        "        \"\"\"\n",
        "        classes = np.unique(np.array(self.y_true))\n",
        "        class_dist = {}\n",
        "        for c in classes:\n",
        "            y_ids = np.where(np.array(self.y_true)==c)  # Выбрать все мемберы этого класса кроме х\n",
        "            y_c = np.array(self.profiles)[y_ids]\n",
        "            \n",
        "            if x in y_c:\n",
        "                y_c = np.delete(y_c, np.argwhere(y_c==x))\n",
        "            distance = radius_distance(x, y_c)  \n",
        "            class_dist[c] = distance\n",
        "        \n",
        "        return min(class_dist, key=class_dist.get), class_dist\n",
        "\n",
        "    def forward_all(self):\n",
        "        \"\"\"\n",
        "        predicts the class of each profile form profiles\n",
        "\n",
        "        :return: list of tuples (y, class_dict)\n",
        "        :type y: str or int, predicted class\n",
        "        :type class_dist: dict of {str or int: float}, proximity to each class\n",
        "        \"\"\"\n",
        "        return [self.forward_one(x) for x in self.profiles]"
      ],
      "execution_count": 0,
      "outputs": []
    },
    {
      "cell_type": "markdown",
      "metadata": {
        "id": "iz3OZ6052UXr",
        "colab_type": "text"
      },
      "source": [
        "### Test the single classifier"
      ]
    },
    {
      "cell_type": "markdown",
      "metadata": {
        "id": "rEYKeWFZzuKh",
        "colab_type": "text"
      },
      "source": [
        "#### Preprocessing for simulated data"
      ]
    },
    {
      "cell_type": "code",
      "metadata": {
        "id": "qWU0pMvly0sU",
        "colab_type": "code",
        "colab": {}
      },
      "source": [
        "def preprocess(text):\n",
        "  return(Counter(text.split()))\n",
        "\n",
        "def make_counter(commons):\n",
        "    return Counter({x[0]: x[1] for x in commons})"
      ],
      "execution_count": 0,
      "outputs": []
    },
    {
      "cell_type": "markdown",
      "metadata": {
        "id": "yDPn7yFd890V",
        "colab_type": "text"
      },
      "source": [
        "#### Simulate data"
      ]
    },
    {
      "cell_type": "code",
      "metadata": {
        "id": "y9UzNSRSy-Lx",
        "colab_type": "code",
        "colab": {}
      },
      "source": [
        "texts = ['I am so sad I am so tired', 'I am so useless and crying and tired so tired so tired', \n",
        "         'I am so sad so sad so sad', 'I am so sad and so tired',\n",
        "         \n",
        "         'Wow a velocaraptor', 'She is no longer a veloceraptor',\n",
        "         'I wish we could be a velocaraptor', 'velocaraptor veloceraptor veloceraptor']\n",
        "\n",
        "ys = ['sad', 'sad', 'sad', 'sad', 'dino', 'dino', 'dino', 'dino']\n",
        "\n",
        "profs = [preprocess(text) for text in texts]"
      ],
      "execution_count": 0,
      "outputs": []
    },
    {
      "cell_type": "markdown",
      "metadata": {
        "id": "Znz0spjf9ASi",
        "colab_type": "text"
      },
      "source": [
        "#### Test"
      ]
    },
    {
      "cell_type": "code",
      "metadata": {
        "id": "QhG2z5zTjlaG",
        "colab_type": "code",
        "outputId": "74a012e3-215f-4be6-bf45-9787cc4ef253",
        "colab": {
          "base_uri": "https://localhost:8080/",
          "height": 34
        }
      },
      "source": [
        "cl = SingleClassifier(profs, ys, 10)\n",
        "cl.forward_one(preprocess(texts[0]))"
      ],
      "execution_count": 8,
      "outputs": [
        {
          "output_type": "execute_result",
          "data": {
            "text/plain": [
              "('sad', {'dino': 1.0155122655122655, 'sad': 0.5214161917552966})"
            ]
          },
          "metadata": {
            "tags": []
          },
          "execution_count": 8
        }
      ]
    },
    {
      "cell_type": "code",
      "metadata": {
        "id": "j21QlfHQztzL",
        "colab_type": "code",
        "outputId": "823b6069-60ce-4ba8-dc1b-c4c6873b94f3",
        "colab": {
          "base_uri": "https://localhost:8080/",
          "height": 151
        }
      },
      "source": [
        "cl.forward_all()"
      ],
      "execution_count": 9,
      "outputs": [
        {
          "output_type": "execute_result",
          "data": {
            "text/plain": [
              "[('sad', {'dino': 1.0155122655122655, 'sad': 0.5214161917552966}),\n",
              " ('dino', {'dino': 1.2467532467532467, 'sad': 2.2174809624122838}),\n",
              " ('sad', {'dino': 0.8961038961038962, 'sad': 0.7055166523861863}),\n",
              " ('sad', {'dino': 1.1298701298701297, 'sad': 0.4696971554169289}),\n",
              " ('dino', {'dino': 0.5367965367965367, 'sad': 1.9547890946953117}),\n",
              " ('dino', {'dino': 1.2037037037037037, 'sad': 2.6415204838078177}),\n",
              " ('dino', {'dino': 1.1913419913419914, 'sad': 2.418766139952783}),\n",
              " ('dino', {'dino': 0.5401635401635402, 'sad': 1.7258786316578099})]"
            ]
          },
          "metadata": {
            "tags": []
          },
          "execution_count": 9
        }
      ]
    },
    {
      "cell_type": "markdown",
      "metadata": {
        "id": "iGynAguO3Vny",
        "colab_type": "text"
      },
      "source": [
        "#### Compute performance"
      ]
    },
    {
      "cell_type": "code",
      "metadata": {
        "id": "0JYc4G102iCH",
        "colab_type": "code",
        "colab": {
          "base_uri": "https://localhost:8080/",
          "height": 34
        },
        "outputId": "da545a42-fd15-4f68-929c-b4f69be69431"
      },
      "source": [
        "y_pred = [x[0] for x in cl.forward_all()]\n",
        "y_pred"
      ],
      "execution_count": 18,
      "outputs": [
        {
          "output_type": "execute_result",
          "data": {
            "text/plain": [
              "['sad', 'dino', 'sad', 'sad', 'dino', 'dino', 'dino', 'dino']"
            ]
          },
          "metadata": {
            "tags": []
          },
          "execution_count": 18
        }
      ]
    },
    {
      "cell_type": "code",
      "metadata": {
        "id": "ZQzdHX8h34bv",
        "colab_type": "code",
        "colab": {
          "base_uri": "https://localhost:8080/",
          "height": 34
        },
        "outputId": "f8cfc1cb-339b-45f2-dbdf-d4ee2b3ae707"
      },
      "source": [
        "cl.y_true"
      ],
      "execution_count": 17,
      "outputs": [
        {
          "output_type": "execute_result",
          "data": {
            "text/plain": [
              "['sad', 'sad', 'sad', 'sad', 'dino', 'dino', 'dino', 'dino']"
            ]
          },
          "metadata": {
            "tags": []
          },
          "execution_count": 17
        }
      ]
    },
    {
      "cell_type": "markdown",
      "metadata": {
        "id": "euM62gk24aCN",
        "colab_type": "text"
      },
      "source": [
        "accuracy"
      ]
    },
    {
      "cell_type": "code",
      "metadata": {
        "id": "sgZf-l9X3nHf",
        "colab_type": "code",
        "colab": {
          "base_uri": "https://localhost:8080/",
          "height": 34
        },
        "outputId": "ed5e356a-0186-4625-d6a2-51f81d9e25a7"
      },
      "source": [
        "accuracy_score(cl.y_true, y_pred)"
      ],
      "execution_count": 14,
      "outputs": [
        {
          "output_type": "execute_result",
          "data": {
            "text/plain": [
              "0.875"
            ]
          },
          "metadata": {
            "tags": []
          },
          "execution_count": 14
        }
      ]
    },
    {
      "cell_type": "markdown",
      "metadata": {
        "id": "FGAPzZoT4b3h",
        "colab_type": "text"
      },
      "source": [
        "precision"
      ]
    },
    {
      "cell_type": "code",
      "metadata": {
        "id": "4WeGSibF3oOk",
        "colab_type": "code",
        "colab": {
          "base_uri": "https://localhost:8080/",
          "height": 34
        },
        "outputId": "94856b18-d5c5-4433-cf5b-dd6a7abe1da9"
      },
      "source": [
        "precision_score(cl.y_true, y_pred, pos_label='dino')"
      ],
      "execution_count": 20,
      "outputs": [
        {
          "output_type": "execute_result",
          "data": {
            "text/plain": [
              "0.8"
            ]
          },
          "metadata": {
            "tags": []
          },
          "execution_count": 20
        }
      ]
    },
    {
      "cell_type": "code",
      "metadata": {
        "id": "Ga2DkXKL4PxW",
        "colab_type": "code",
        "colab": {
          "base_uri": "https://localhost:8080/",
          "height": 34
        },
        "outputId": "3104117d-3ed5-407d-a60d-28dcd93c2858"
      },
      "source": [
        "precision_score(cl.y_true, y_pred, pos_label='sad')"
      ],
      "execution_count": 21,
      "outputs": [
        {
          "output_type": "execute_result",
          "data": {
            "text/plain": [
              "1.0"
            ]
          },
          "metadata": {
            "tags": []
          },
          "execution_count": 21
        }
      ]
    },
    {
      "cell_type": "markdown",
      "metadata": {
        "id": "d6EOa3Wu4dba",
        "colab_type": "text"
      },
      "source": [
        "recall"
      ]
    },
    {
      "cell_type": "code",
      "metadata": {
        "id": "UquTLfeK4WF4",
        "colab_type": "code",
        "colab": {
          "base_uri": "https://localhost:8080/",
          "height": 34
        },
        "outputId": "e31db041-a55a-47d7-b1d5-aa74f5bef3bf"
      },
      "source": [
        "recall_score(cl.y_true, y_pred, pos_label='dino')"
      ],
      "execution_count": 24,
      "outputs": [
        {
          "output_type": "execute_result",
          "data": {
            "text/plain": [
              "1.0"
            ]
          },
          "metadata": {
            "tags": []
          },
          "execution_count": 24
        }
      ]
    },
    {
      "cell_type": "code",
      "metadata": {
        "id": "mY0iNp4b3qnb",
        "colab_type": "code",
        "colab": {
          "base_uri": "https://localhost:8080/",
          "height": 34
        },
        "outputId": "c44f21c9-b83c-4a57-b781-54274b6bacd9"
      },
      "source": [
        "recall_score(cl.y_true, y_pred, pos_label='sad')"
      ],
      "execution_count": 23,
      "outputs": [
        {
          "output_type": "execute_result",
          "data": {
            "text/plain": [
              "0.75"
            ]
          },
          "metadata": {
            "tags": []
          },
          "execution_count": 23
        }
      ]
    },
    {
      "cell_type": "markdown",
      "metadata": {
        "id": "-JBROZPS4esz",
        "colab_type": "text"
      },
      "source": [
        "$f_1$score"
      ]
    },
    {
      "cell_type": "code",
      "metadata": {
        "id": "3_ZeizBC4p_y",
        "colab_type": "code",
        "colab": {
          "base_uri": "https://localhost:8080/",
          "height": 34
        },
        "outputId": "85ccde6a-210e-4541-e07f-52757ab091d6"
      },
      "source": [
        "f1_score(cl.y_true, y_pred, pos_label='sad')"
      ],
      "execution_count": 26,
      "outputs": [
        {
          "output_type": "execute_result",
          "data": {
            "text/plain": [
              "0.8571428571428571"
            ]
          },
          "metadata": {
            "tags": []
          },
          "execution_count": 26
        }
      ]
    },
    {
      "cell_type": "code",
      "metadata": {
        "id": "FOTW91kn4rkC",
        "colab_type": "code",
        "colab": {
          "base_uri": "https://localhost:8080/",
          "height": 34
        },
        "outputId": "f0dd6ac7-ceb1-495f-e04e-76e797726d0d"
      },
      "source": [
        "f1_score(cl.y_true, y_pred, pos_label='dino')"
      ],
      "execution_count": 27,
      "outputs": [
        {
          "output_type": "execute_result",
          "data": {
            "text/plain": [
              "0.888888888888889"
            ]
          },
          "metadata": {
            "tags": []
          },
          "execution_count": 27
        }
      ]
    },
    {
      "cell_type": "markdown",
      "metadata": {
        "id": "vK2EQ1Qc4v4W",
        "colab_type": "text"
      },
      "source": [
        "ROC AUC score"
      ]
    },
    {
      "cell_type": "code",
      "metadata": {
        "id": "0uJEjXML6byQ",
        "colab_type": "code",
        "colab": {}
      },
      "source": [
        "def softmax(scores, inverse=True):\n",
        "  \"\"\"\n",
        "  normilizes class scores, making them correspond to probability, adding up to 1\n",
        "\n",
        "  :param scores: list of int or float, scores\n",
        "  :inverse: bool, if lower scores indicate higher probability,\n",
        "            optional, default True\n",
        "  :return: list of int or float, normilized probability-like scores\n",
        "  \"\"\"\n",
        "  if inverse:\n",
        "    scores = [-1*score for score in scores]\n",
        "  normalizing_constant = np.sum(scores)\n",
        "  normalized_scores = [score/normalizing_constant for score in scores]\n",
        "  return normalized_scores"
      ],
      "execution_count": 0,
      "outputs": []
    },
    {
      "cell_type": "code",
      "metadata": {
        "id": "3eIAnfOA40Vz",
        "colab_type": "code",
        "colab": {}
      },
      "source": [
        "y_score = [[el[1] for el in sorted(x[1].items())] for x in cl.forward_all()]  # get scores from dict\n",
        "y_score = [softmax(scores) for scores in y_score]  # normilize scores"
      ],
      "execution_count": 0,
      "outputs": []
    },
    {
      "cell_type": "code",
      "metadata": {
        "id": "jS34CwNM8lfh",
        "colab_type": "code",
        "colab": {
          "base_uri": "https://localhost:8080/",
          "height": 151
        },
        "outputId": "99f5c8d8-b2ad-4d92-d18f-92eb9a88dab4"
      },
      "source": [
        "y_score"
      ],
      "execution_count": 60,
      "outputs": [
        {
          "output_type": "execute_result",
          "data": {
            "text/plain": [
              "[[0.6607414032255609, 0.3392585967744391],\n",
              " [0.359892885837406, 0.640107114162594],\n",
              " [0.5594982512859819, 0.4405017487140182],\n",
              " [0.7063598638599082, 0.29364013614009177],\n",
              " [0.2154437439403306, 0.7845562560596694],\n",
              " [0.3130386279200781, 0.6869613720799219],\n",
              " [0.3300017473201595, 0.6699982526798405],\n",
              " [0.23837311894746394, 0.7616268810525361]]"
            ]
          },
          "metadata": {
            "tags": []
          },
          "execution_count": 60
        }
      ]
    },
    {
      "cell_type": "code",
      "metadata": {
        "id": "cmc93ELq8JnI",
        "colab_type": "code",
        "colab": {
          "base_uri": "https://localhost:8080/",
          "height": 34
        },
        "outputId": "01f95d5b-868d-468f-f3ff-a2ab4aa42b07"
      },
      "source": [
        "cl.y_true"
      ],
      "execution_count": 53,
      "outputs": [
        {
          "output_type": "execute_result",
          "data": {
            "text/plain": [
              "['sad', 'sad', 'sad', 'sad', 'dino', 'dino', 'dino', 'dino']"
            ]
          },
          "metadata": {
            "tags": []
          },
          "execution_count": 53
        }
      ]
    },
    {
      "cell_type": "code",
      "metadata": {
        "id": "BAk2QVHq8C8T",
        "colab_type": "code",
        "colab": {
          "base_uri": "https://localhost:8080/",
          "height": 34
        },
        "outputId": "84582000-465b-4bab-9db0-c0f707f31231"
      },
      "source": [
        "y_true = [[1, 0] if label == 'sad' else [0, 1] for label in cl.y_true]\n",
        "y_true"
      ],
      "execution_count": 58,
      "outputs": [
        {
          "output_type": "execute_result",
          "data": {
            "text/plain": [
              "[[1, 0], [1, 0], [1, 0], [1, 0], [0, 1], [0, 1], [0, 1], [0, 1]]"
            ]
          },
          "metadata": {
            "tags": []
          },
          "execution_count": 58
        }
      ]
    },
    {
      "cell_type": "code",
      "metadata": {
        "id": "DDGAhu674uxy",
        "colab_type": "code",
        "colab": {
          "base_uri": "https://localhost:8080/",
          "height": 34
        },
        "outputId": "4a661956-ad86-4359-d7f1-5bbccb80ef25"
      },
      "source": [
        "roc_auc_score(y_true, y_score, multi_class='ovo')"
      ],
      "execution_count": 59,
      "outputs": [
        {
          "output_type": "execute_result",
          "data": {
            "text/plain": [
              "1.0"
            ]
          },
          "metadata": {
            "tags": []
          },
          "execution_count": 59
        }
      ]
    },
    {
      "cell_type": "code",
      "metadata": {
        "id": "cQxVonjX3ttO",
        "colab_type": "code",
        "colab": {
          "base_uri": "https://localhost:8080/",
          "height": 34
        },
        "outputId": "7e52ae04-f457-407b-9cae-ddcb064e125a"
      },
      "source": [
        "roc_auc_score(y_true, y_score, multi_class='ovr')"
      ],
      "execution_count": 61,
      "outputs": [
        {
          "output_type": "execute_result",
          "data": {
            "text/plain": [
              "1.0"
            ]
          },
          "metadata": {
            "tags": []
          },
          "execution_count": 61
        }
      ]
    },
    {
      "cell_type": "markdown",
      "metadata": {
        "id": "vd6Xty1r3GGE",
        "colab_type": "text"
      },
      "source": [
        "### **TODO: Test on real data**"
      ]
    },
    {
      "cell_type": "markdown",
      "metadata": {
        "id": "lRITBXib2Y3O",
        "colab_type": "text"
      },
      "source": [
        "## Comile an ensemble classifier "
      ]
    },
    {
      "cell_type": "markdown",
      "metadata": {
        "id": "G8U0-6Ev22hd",
        "colab_type": "text"
      },
      "source": [
        "Создаем ансамбль-класс. Он состоит из многих сингл классифаеров. Они отличаются тем, что мы подаем в них разные профайлы (длина энграмм, тип энграмм). Кроме того, у них разные гиперпараметры. Мы создаем Singleclassifier на каждое возможное сочетание гиперпараметров. Пространство гиперпараметров уже определено. \n",
        "\n",
        "Options space:\n",
        "- size of N-grams (n)\n",
        "    - from 3 to 10 for characters\n",
        "    - from 1 to 3 for words\n",
        "- size of a profile Number of n-grams (L) 200, 500, 1000, 1500, 2000, 2500, 3000. \n",
        "\n",
        "Каждый классифаер предиктит лейбл. Мы берем по большинству. Для весов берем средний вес по каждому классу.  "
      ]
    }
  ]
}