{
  "nbformat": 4,
  "nbformat_minor": 0,
  "metadata": {
    "colab": {
      "name": "Class.ipynb",
      "provenance": []
    },
    "kernelspec": {
      "name": "python3",
      "display_name": "Python 3"
    }
  },
  "cells": [
    {
      "cell_type": "code",
      "metadata": {
        "id": "DsTnIlj6jzCS",
        "colab_type": "code",
        "colab": {}
      },
      "source": [
        "import numpy as np\n",
        "from collections import Counter"
      ],
      "execution_count": 0,
      "outputs": []
    },
    {
      "cell_type": "code",
      "metadata": {
        "id": "qWU0pMvly0sU",
        "colab_type": "code",
        "colab": {}
      },
      "source": [
        "def preprocess(text):\n",
        "  return(Counter(text.split()))\n",
        "\n",
        "def make_counter(commons):\n",
        "    return Counter({x[0]: x[1] for x in commons})"
      ],
      "execution_count": 0,
      "outputs": []
    },
    {
      "cell_type": "code",
      "metadata": {
        "id": "9A7ObNGIhtf0",
        "colab_type": "code",
        "colab": {}
      },
      "source": [
        "def distance(profile1, profile2):\n",
        "  \"\"\"\n",
        "  calculates distance between 2 document profiles\n",
        "\n",
        "  :param profile1: collections.Counter, token frequencies in profile 1\n",
        "  :param profile2: collections.Counter, token frequencies in profile 2\n",
        "  :return: float, distance\n",
        "  \"\"\"\n",
        "  vocab = set(profile1.keys()).union(set(profile2.keys()))\n",
        "  diffs = []\n",
        "  for word in vocab:\n",
        "    fp1 = profile1[word]\n",
        "    fp2 = profile2[word]\n",
        "    diff = ((fp1 - fp2)/((fp1 + fp2)/2)) ** 2\n",
        "    diffs.append(diff)\n",
        "  return np.sum(diffs)"
      ],
      "execution_count": 0,
      "outputs": []
    },
    {
      "cell_type": "code",
      "metadata": {
        "id": "PtKDqM5MhxS2",
        "colab_type": "code",
        "colab": {}
      },
      "source": [
        "def radius(di, u, A):\n",
        "  \"\"\"\n",
        "  compares proximity between an unknown document and a known one\n",
        "  :param di: collections.Counter, token frequencies in a known document i\n",
        "  :param u: collections.Counter, token frequencies in an unknown document\n",
        "  :param A: list of collections.Counter, token frequencies of all know documents\n",
        "  :return: float, distance\n",
        "  \"\"\"\n",
        "  return(distance(di, u)/np.max([distance(di, ai) for ai in A]))"
      ],
      "execution_count": 0,
      "outputs": []
    },
    {
      "cell_type": "code",
      "metadata": {
        "id": "NpHCC3RVhy4z",
        "colab_type": "code",
        "colab": {}
      },
      "source": [
        "def radius_distance(u, A):\n",
        "  \"\"\"\n",
        "  compares proximity between an unknown document and all known ones\n",
        "  :param u: collections.Counter, token frequencies in an unknown document\n",
        "  :param A: list of collections.Counter, token frequencies of all know documents\n",
        "  :return: float, distance\n",
        "  \"\"\"\n",
        "  dists = []\n",
        "  for di in A:\n",
        "    dists.append(radius(di, u, A))\n",
        "  return np.mean(dists)"
      ],
      "execution_count": 0,
      "outputs": []
    },
    {
      "cell_type": "code",
      "metadata": {
        "id": "lvhkGlBAgcNa",
        "colab_type": "code",
        "colab": {}
      },
      "source": [
        "class SingleClassifier():\n",
        "\n",
        "    def __init__(self, profiles, y_true, p_length):\n",
        "        self.y_true = y_true\n",
        "        self.p_length = p_length  \n",
        "        self.profiles = self.truncate(profiles)\n",
        "    \n",
        "    def truncate(self, profiles):\n",
        "        profiles = [profile.most_common(self.p_length) for profile in profiles]\n",
        "        profiles = [make_counter(profile) for profile in profiles]\n",
        "        return profiles\n",
        "    \n",
        "    def forward_one(self, x):  \n",
        "\n",
        "        classes = np.unique(np.array(self.y_true))\n",
        "        class_dist = {}\n",
        "        for c in classes:\n",
        "            y_ids = np.where(np.array(self.y_true)==c)  # Выбрать все мемберы этого класса кроме х\n",
        "            y_c = np.array(self.profiles)[y_ids]\n",
        "            \n",
        "            if x in y_c:\n",
        "                y_c = np.delete(y_c, np.argwhere(y_c==x))\n",
        "            distance = radius_distance(x, y_c)  \n",
        "            class_dist[c] = distance\n",
        "        \n",
        "        return min(class_dist, key=class_dist.get), class_dist\n",
        "\n",
        "    def forward_all(self):\n",
        "        return [self.forward_one(x) for x in self.profiles]"
      ],
      "execution_count": 0,
      "outputs": []
    },
    {
      "cell_type": "code",
      "metadata": {
        "id": "y9UzNSRSy-Lx",
        "colab_type": "code",
        "colab": {}
      },
      "source": [
        "texts = ['I am so sad I am so tired', 'I am so useless and crying and tired so tired so tired', \n",
        "         'I am so sad so sad so sad', 'I am so sad and so tired',\n",
        "         \n",
        "         'Wow a velocaraptor', 'She is no longer a veloceraptor',\n",
        "         'I wish we could be a velocaraptor', 'velocaraptor veloceraptor veloceraptor']\n",
        "\n",
        "ys = ['sad', 'sad', 'sad', 'sad', 'dino', 'dino', 'dino', 'dino']\n",
        "\n",
        "profs = [preprocess(text) for text in texts]"
      ],
      "execution_count": 0,
      "outputs": []
    },
    {
      "cell_type": "code",
      "metadata": {
        "id": "QhG2z5zTjlaG",
        "colab_type": "code",
        "colab": {
          "base_uri": "https://localhost:8080/",
          "height": 34
        },
        "outputId": "f6a56918-d97e-47aa-e490-7e03ade8494b"
      },
      "source": [
        "cl = SingleClassifier(profs, ys, 10)\n",
        "cl.forward_one(preprocess(texts[0]))"
      ],
      "execution_count": 135,
      "outputs": [
        {
          "output_type": "execute_result",
          "data": {
            "text/plain": [
              "('sad', {'dino': 1.0155122655122655, 'sad': 0.5214161917552966})"
            ]
          },
          "metadata": {
            "tags": []
          },
          "execution_count": 135
        }
      ]
    },
    {
      "cell_type": "code",
      "metadata": {
        "id": "j21QlfHQztzL",
        "colab_type": "code",
        "colab": {
          "base_uri": "https://localhost:8080/",
          "height": 151
        },
        "outputId": "1543896a-15d1-448d-a330-3833f8572a65"
      },
      "source": [
        "cl.forward_all()"
      ],
      "execution_count": 136,
      "outputs": [
        {
          "output_type": "execute_result",
          "data": {
            "text/plain": [
              "[('sad', {'dino': 1.0155122655122655, 'sad': 0.5214161917552966}),\n",
              " ('dino', {'dino': 1.2467532467532467, 'sad': 2.2174809624122838}),\n",
              " ('sad', {'dino': 0.8961038961038962, 'sad': 0.7055166523861863}),\n",
              " ('sad', {'dino': 1.1298701298701297, 'sad': 0.4696971554169289}),\n",
              " ('dino', {'dino': 0.5367965367965367, 'sad': 1.9547890946953117}),\n",
              " ('dino', {'dino': 1.2037037037037037, 'sad': 2.6415204838078177}),\n",
              " ('dino', {'dino': 1.1913419913419914, 'sad': 2.418766139952783}),\n",
              " ('dino', {'dino': 0.5401635401635402, 'sad': 1.7258786316578099})]"
            ]
          },
          "metadata": {
            "tags": []
          },
          "execution_count": 136
        }
      ]
    }
  ]
}