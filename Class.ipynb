{
  "nbformat": 4,
  "nbformat_minor": 0,
  "metadata": {
    "colab": {
      "name": "Class.ipynb",
      "provenance": [],
      "collapsed_sections": [
        "iz3OZ6052UXr"
      ],
      "include_colab_link": true
    },
    "kernelspec": {
      "name": "python3",
      "display_name": "Python 3"
    }
  },
  "cells": [
    {
      "cell_type": "markdown",
      "metadata": {
        "id": "view-in-github",
        "colab_type": "text"
      },
      "source": [
        "<a href=\"https://colab.research.google.com/github/ovbystrova/Interference/blob/master/Class.ipynb\" target=\"_parent\"><img src=\"https://colab.research.google.com/assets/colab-badge.svg\" alt=\"Open In Colab\"/></a>"
      ]
    },
    {
      "cell_type": "markdown",
      "metadata": {
        "id": "pqVazECarw7e",
        "colab_type": "text"
      },
      "source": [
        "# [Author Verification Using Common N-Gram Profiles of Text Documents](https://www.aclweb.org/anthology/C14-1038.pdf)"
      ]
    },
    {
      "cell_type": "code",
      "metadata": {
        "id": "DsTnIlj6jzCS",
        "colab_type": "code",
        "colab": {}
      },
      "source": [
        "import numpy as np\n",
        "from collections import Counter\n",
        "from sklearn.metrics import accuracy_score, precision_score, recall_score, f1_score, roc_auc_score"
      ],
      "execution_count": 0,
      "outputs": []
    },
    {
      "cell_type": "markdown",
      "metadata": {
        "id": "3uMecjXwzyMi",
        "colab_type": "text"
      },
      "source": [
        "## Distances"
      ]
    },
    {
      "cell_type": "markdown",
      "metadata": {
        "id": "mi-Q6HsGo0o1",
        "colab_type": "text"
      },
      "source": [
        "### Implement the distance formula from the article:\n",
        "$$D(P_1,P_2)=\\sum_{x\\in(P_1 \\cup P_2)}\\left(\\frac{fP_1(x)-fP_2(x)}{\\frac{1}{2} (fP_1(x)+fP_2(x))}\\right) ^2$$\n",
        "\n",
        "where $P_1$ and $P_2$ are n-gram profiles of 2 documents,  and $fP_i(x)$ - length-normilized frequency of an n-gram $x$ in a profile $P_i$"
      ]
    },
    {
      "cell_type": "code",
      "metadata": {
        "id": "9A7ObNGIhtf0",
        "colab_type": "code",
        "colab": {}
      },
      "source": [
        "def distance(profile1, profile2):\n",
        "  \"\"\"\n",
        "  calculates distance between 2 document profiles\n",
        "\n",
        "  :param profile1: collections.Counter, token frequencies in profile 1\n",
        "  :param profile2: collections.Counter, token frequencies in profile 2\n",
        "  :return: float, distance\n",
        "  \"\"\"\n",
        "  vocab = set(profile1.keys()).union(set(profile2.keys()))\n",
        "  diffs = []\n",
        "  for word in vocab:\n",
        "    fp1 = profile1[word]\n",
        "    fp2 = profile2[word]\n",
        "    diff = ((fp1 - fp2)/((fp1 + fp2)/2)) ** 2\n",
        "    diffs.append(diff)\n",
        "  return np.sum(diffs)"
      ],
      "execution_count": 0,
      "outputs": []
    },
    {
      "cell_type": "markdown",
      "metadata": {
        "id": "fr8qPVGcquGl",
        "colab_type": "text"
      },
      "source": [
        "### Implement the radius distance form the article:\n",
        "$$r(d_i, u, A) = \\frac{D(d_i, u)}{D^{max}(d_i, A)}$$\n",
        "where $D^{max}(d_i, A)$ is $max_{j=1}^{m=|A|}(d_i, A_j)$, or the maximal distance between a known-author document $d_i$ and all other documents from known-author collection $A$"
      ]
    },
    {
      "cell_type": "code",
      "metadata": {
        "id": "PtKDqM5MhxS2",
        "colab_type": "code",
        "colab": {}
      },
      "source": [
        "def radius(di, u, A):\n",
        "  \"\"\"\n",
        "  compares proximity between an unknown document and a known one\n",
        "  :param di: collections.Counter, token frequencies in a known document i\n",
        "  :param u: collections.Counter, token frequencies in an unknown document\n",
        "  :param A: list of collections.Counter, token frequencies of all know documents\n",
        "  :return: float, distance\n",
        "  \"\"\"\n",
        "  return(distance(di, u)/np.max([distance(di, ai) for ai in A]))"
      ],
      "execution_count": 0,
      "outputs": []
    },
    {
      "cell_type": "code",
      "metadata": {
        "id": "NpHCC3RVhy4z",
        "colab_type": "code",
        "colab": {}
      },
      "source": [
        "def radius_distance(u, A):\n",
        "  \"\"\"\n",
        "  compares proximity between an unknown document and all known ones\n",
        "  :param u: collections.Counter, token frequencies in an unknown document\n",
        "  :param A: list of collections.Counter, token frequencies of all know documents\n",
        "  :return: float, distance\n",
        "  \"\"\"\n",
        "  dists = []\n",
        "  for di in A:\n",
        "    dists.append(radius(di, u, A))\n",
        "  return np.mean(dists)"
      ],
      "execution_count": 0,
      "outputs": []
    },
    {
      "cell_type": "markdown",
      "metadata": {
        "id": "NvvUFsa6z67v",
        "colab_type": "text"
      },
      "source": [
        "## Compile a singe classifier\n",
        "\n",
        "Single classifier truncates given n-gram frequency profiles to the length specified, and then uses radius distance to predict the class of each example. It also provides distance scores for each class for each example."
      ]
    },
    {
      "cell_type": "code",
      "metadata": {
        "id": "lvhkGlBAgcNa",
        "colab_type": "code",
        "colab": {}
      },
      "source": [
        "class SingleClassifier():\n",
        "    \"\"\"\n",
        "    classifies texts as belonging to several classes given true classes\n",
        "\n",
        "    :param profiles: list of collection.Counter, n-gram profiles\n",
        "    :param y_true: list of str or int, true classes of each text from profiles\n",
        "    :param p_length: int, length of truncated profile\n",
        "    :param classes: list of str or int, possible classes \n",
        "\n",
        "    Attributes:\n",
        "      y_true, p_length, profiles (already truncated to p_length), classes\n",
        "    \"\"\"\n",
        "    def __init__(self, profiles, y_true, p_length, classes):\n",
        "        self.y_true = y_true\n",
        "        self.p_length = p_length  \n",
        "        self.profiles = self.truncate(profiles, p_length)\n",
        "        self.classes = classes\n",
        "    \n",
        "    @staticmethod\n",
        "    def truncate(profiles, p_length):\n",
        "        \"\"\"\n",
        "        truncates a profile to a given length specified by p_length\n",
        "\n",
        "        :param profiles: list of collection.Counter, n-gram profiles\n",
        "        :param p_length: int, length of truncated profile, \n",
        "                         if more than actual profile length, remains unchanged\n",
        "        :return: list of collection.Counter, text n-gram profiles truncated to\n",
        "                 the length of p_length\n",
        "        \"\"\"\n",
        "        profiles = [profile.most_common(p_length) for profile in profiles]\n",
        "        profiles = [make_counter(profile) for profile in profiles]\n",
        "        return profiles\n",
        "\n",
        "    def forward_one(self, x):  \n",
        "        \"\"\"\n",
        "        predicts the class of a given n-gram profile x\n",
        "\n",
        "        :param x: collection.Counter, n-gram profile to predict the class of\n",
        "        :return y: str or int, predicted class\n",
        "        :return class_dist: dict of {str or int: float}, proximity to each class\n",
        "        \"\"\"\n",
        "        class_dist = {}\n",
        "        for c in self.classes:\n",
        "            y_ids = np.where(np.array(self.y_true)==c)  # Выбрать все мемберы этого класса кроме х\n",
        "            y_c = np.array(self.profiles)[y_ids]\n",
        "            \n",
        "            if x in y_c:\n",
        "                y_c = np.delete(y_c, np.argwhere(y_c==x))\n",
        "            distance = radius_distance(x, y_c)  \n",
        "            class_dist[c] = distance\n",
        "        \n",
        "        return min(class_dist, key=class_dist.get), class_dist\n",
        "\n",
        "    def forward_all(self):\n",
        "        \"\"\"\n",
        "        predicts the class of each profile form profiles\n",
        "\n",
        "        :return: list of tuples (y, class_dict)\n",
        "        :type y: str or int, predicted class\n",
        "        :type class_dist: dict of {str or int: float}, proximity to each class\n",
        "        \"\"\"\n",
        "        return [self.forward_one(x) for x in self.profiles]\n",
        "\n",
        "    @staticmethod\n",
        "    def only_classes(response):\n",
        "      \"\"\"\n",
        "      retrieves only class predictions from forward_all()\n",
        "\n",
        "      :param response: list of tuples (y, class_dict)\n",
        "        :type y: str or int, predicted class\n",
        "        :type class_dist: dict of {str or int: float}, proximity to each class\n",
        "      :return: list of str or int, classes\n",
        "      \"\"\"\n",
        "      return [el[0] for el in response]\n",
        "    \n",
        "    @staticmethod\n",
        "    def only_distances(response, arr=False):\n",
        "      \"\"\"\n",
        "      retrieves only distance predictions from forward_all()\n",
        "\n",
        "      :param response: list of tuples (y, class_dict)\n",
        "        :type y: str or int, predicted class\n",
        "        :type class_dist: dict of {str or int: float}, proximity to each class\n",
        "      :param arr: bool, if to return list of lists, optional, default False\n",
        "      :return: \n",
        "        if arr == False:\n",
        "          list of dict of {str or int: float}, proximity to each class \n",
        "        if arr == True:\n",
        "          :return dists: list of lists, proximity to each class\n",
        "          :return classes: list of int or str, classes \n",
        "                           in the same order as in dists\n",
        "      \"\"\"\n",
        "      if not arr:\n",
        "        return [el[1] for el in response]\n",
        "      else:\n",
        "        classes = [el[0] for el in sorted(response[0][1].items())]\n",
        "        dists = [[el[1] for el in sorted(x[1].items())] for x in response]\n",
        "        return dists, classes\n",
        "\n",
        "    \n",
        "    #TODO reshape only_distances to [class[batch]] (this is transpose, but that is expensive)"
      ],
      "execution_count": 0,
      "outputs": []
    },
    {
      "cell_type": "markdown",
      "metadata": {
        "id": "iz3OZ6052UXr",
        "colab_type": "text"
      },
      "source": [
        "### Test the single classifier"
      ]
    },
    {
      "cell_type": "markdown",
      "metadata": {
        "id": "rEYKeWFZzuKh",
        "colab_type": "text"
      },
      "source": [
        "#### Preprocessing for simulated data"
      ]
    },
    {
      "cell_type": "code",
      "metadata": {
        "id": "qWU0pMvly0sU",
        "colab_type": "code",
        "colab": {}
      },
      "source": [
        "def preprocess(text):\n",
        "  return(Counter(text.split()))\n",
        "\n",
        "def make_counter(commons):\n",
        "    return Counter({x[0]: x[1] for x in commons})"
      ],
      "execution_count": 0,
      "outputs": []
    },
    {
      "cell_type": "markdown",
      "metadata": {
        "id": "yDPn7yFd890V",
        "colab_type": "text"
      },
      "source": [
        "#### Simulate data"
      ]
    },
    {
      "cell_type": "code",
      "metadata": {
        "id": "y9UzNSRSy-Lx",
        "colab_type": "code",
        "colab": {}
      },
      "source": [
        "texts = ['I am so sad I am so tired', 'I am so useless and crying and tired so tired so tired', \n",
        "         'I am so sad so sad so sad', 'I am so sad and so tired',\n",
        "         \n",
        "         'Wow a velocaraptor', 'She is no longer a veloceraptor',\n",
        "         'I wish we could be a velocaraptor', 'velocaraptor veloceraptor veloceraptor']\n",
        "\n",
        "ys = ['sad', 'sad', 'sad', 'sad', 'dino', 'dino', 'dino', 'dino']\n",
        "\n",
        "profs = [preprocess(text) for text in texts]"
      ],
      "execution_count": 0,
      "outputs": []
    },
    {
      "cell_type": "markdown",
      "metadata": {
        "id": "Znz0spjf9ASi",
        "colab_type": "text"
      },
      "source": [
        "#### Test"
      ]
    },
    {
      "cell_type": "code",
      "metadata": {
        "id": "TfzZW-HWYlp4",
        "colab_type": "code",
        "colab": {}
      },
      "source": [
        "classes = ['sad', 'dino']"
      ],
      "execution_count": 0,
      "outputs": []
    },
    {
      "cell_type": "code",
      "metadata": {
        "id": "QhG2z5zTjlaG",
        "colab_type": "code",
        "outputId": "5a3f01b2-dd58-4190-bc10-874878fa215f",
        "colab": {
          "base_uri": "https://localhost:8080/"
        }
      },
      "source": [
        "cl = SingleClassifier(profs, ys, 10, classes=classes)\n",
        "cl.forward_one(preprocess(texts[0]))"
      ],
      "execution_count": 0,
      "outputs": [
        {
          "output_type": "execute_result",
          "data": {
            "text/plain": [
              "('sad', {'dino': 1.0155122655122655, 'sad': 0.5214161917552966})"
            ]
          },
          "metadata": {
            "tags": []
          },
          "execution_count": 238
        }
      ]
    },
    {
      "cell_type": "code",
      "metadata": {
        "id": "j21QlfHQztzL",
        "colab_type": "code",
        "outputId": "491a7d88-8fb1-4178-a5bd-109a8751d224",
        "colab": {
          "base_uri": "https://localhost:8080/"
        }
      },
      "source": [
        "cl.forward_all()"
      ],
      "execution_count": 0,
      "outputs": [
        {
          "output_type": "execute_result",
          "data": {
            "text/plain": [
              "[('sad', {'dino': 1.0155122655122655, 'sad': 0.5214161917552966}),\n",
              " ('dino', {'dino': 1.2467532467532467, 'sad': 2.2174809624122838}),\n",
              " ('sad', {'dino': 0.8961038961038962, 'sad': 0.7055166523861863}),\n",
              " ('sad', {'dino': 1.1298701298701297, 'sad': 0.4696971554169289}),\n",
              " ('dino', {'dino': 0.5367965367965367, 'sad': 1.9547890946953117}),\n",
              " ('dino', {'dino': 1.2037037037037037, 'sad': 2.6415204838078177}),\n",
              " ('dino', {'dino': 1.1913419913419914, 'sad': 2.418766139952783}),\n",
              " ('dino', {'dino': 0.5401635401635402, 'sad': 1.7258786316578099})]"
            ]
          },
          "metadata": {
            "tags": []
          },
          "execution_count": 239
        }
      ]
    },
    {
      "cell_type": "markdown",
      "metadata": {
        "id": "iGynAguO3Vny",
        "colab_type": "text"
      },
      "source": [
        "#### Compute performance"
      ]
    },
    {
      "cell_type": "code",
      "metadata": {
        "id": "0JYc4G102iCH",
        "colab_type": "code",
        "outputId": "a7d9f105-5515-4e9b-ab1d-a626ef264eea",
        "colab": {
          "base_uri": "https://localhost:8080/"
        }
      },
      "source": [
        "y_pred = cl.only_classes(cl.forward_all())\n",
        "y_pred"
      ],
      "execution_count": 0,
      "outputs": [
        {
          "output_type": "execute_result",
          "data": {
            "text/plain": [
              "['sad', 'dino', 'sad', 'sad', 'dino', 'dino', 'dino', 'dino']"
            ]
          },
          "metadata": {
            "tags": []
          },
          "execution_count": 240
        }
      ]
    },
    {
      "cell_type": "code",
      "metadata": {
        "id": "ZQzdHX8h34bv",
        "colab_type": "code",
        "outputId": "7972fe24-6098-4d40-da17-5bbc1d8494e9",
        "colab": {
          "base_uri": "https://localhost:8080/"
        }
      },
      "source": [
        "cl.y_true"
      ],
      "execution_count": 0,
      "outputs": [
        {
          "output_type": "execute_result",
          "data": {
            "text/plain": [
              "['sad', 'sad', 'sad', 'sad', 'dino', 'dino', 'dino', 'dino']"
            ]
          },
          "metadata": {
            "tags": []
          },
          "execution_count": 241
        }
      ]
    },
    {
      "cell_type": "markdown",
      "metadata": {
        "id": "euM62gk24aCN",
        "colab_type": "text"
      },
      "source": [
        "accuracy"
      ]
    },
    {
      "cell_type": "code",
      "metadata": {
        "id": "sgZf-l9X3nHf",
        "colab_type": "code",
        "outputId": "2855948d-7db3-446d-de41-b02da29bda11",
        "colab": {
          "base_uri": "https://localhost:8080/"
        }
      },
      "source": [
        "accuracy_score(cl.y_true, y_pred)"
      ],
      "execution_count": 0,
      "outputs": [
        {
          "output_type": "execute_result",
          "data": {
            "text/plain": [
              "0.875"
            ]
          },
          "metadata": {
            "tags": []
          },
          "execution_count": 242
        }
      ]
    },
    {
      "cell_type": "markdown",
      "metadata": {
        "id": "FGAPzZoT4b3h",
        "colab_type": "text"
      },
      "source": [
        "precision"
      ]
    },
    {
      "cell_type": "code",
      "metadata": {
        "id": "4WeGSibF3oOk",
        "colab_type": "code",
        "outputId": "3ef09bce-b0e7-4896-fba6-e0b53696fbc6",
        "colab": {
          "base_uri": "https://localhost:8080/"
        }
      },
      "source": [
        "precision_score(cl.y_true, y_pred, pos_label='dino')"
      ],
      "execution_count": 0,
      "outputs": [
        {
          "output_type": "execute_result",
          "data": {
            "text/plain": [
              "0.8"
            ]
          },
          "metadata": {
            "tags": []
          },
          "execution_count": 243
        }
      ]
    },
    {
      "cell_type": "code",
      "metadata": {
        "id": "Ga2DkXKL4PxW",
        "colab_type": "code",
        "outputId": "21bfcb6b-fc85-4de9-d85a-edcb97d4fe7d",
        "colab": {
          "base_uri": "https://localhost:8080/"
        }
      },
      "source": [
        "precision_score(cl.y_true, y_pred, pos_label='sad')"
      ],
      "execution_count": 0,
      "outputs": [
        {
          "output_type": "execute_result",
          "data": {
            "text/plain": [
              "1.0"
            ]
          },
          "metadata": {
            "tags": []
          },
          "execution_count": 244
        }
      ]
    },
    {
      "cell_type": "markdown",
      "metadata": {
        "id": "d6EOa3Wu4dba",
        "colab_type": "text"
      },
      "source": [
        "recall"
      ]
    },
    {
      "cell_type": "code",
      "metadata": {
        "id": "UquTLfeK4WF4",
        "colab_type": "code",
        "outputId": "c5ea9569-980b-40a4-f9b1-17ec522e0908",
        "colab": {
          "base_uri": "https://localhost:8080/"
        }
      },
      "source": [
        "recall_score(cl.y_true, y_pred, pos_label='dino')"
      ],
      "execution_count": 0,
      "outputs": [
        {
          "output_type": "execute_result",
          "data": {
            "text/plain": [
              "1.0"
            ]
          },
          "metadata": {
            "tags": []
          },
          "execution_count": 245
        }
      ]
    },
    {
      "cell_type": "code",
      "metadata": {
        "id": "mY0iNp4b3qnb",
        "colab_type": "code",
        "outputId": "2237d286-7204-4e26-aa88-bbe01ed217f9",
        "colab": {
          "base_uri": "https://localhost:8080/"
        }
      },
      "source": [
        "recall_score(cl.y_true, y_pred, pos_label='sad')"
      ],
      "execution_count": 0,
      "outputs": [
        {
          "output_type": "execute_result",
          "data": {
            "text/plain": [
              "0.75"
            ]
          },
          "metadata": {
            "tags": []
          },
          "execution_count": 246
        }
      ]
    },
    {
      "cell_type": "markdown",
      "metadata": {
        "id": "-JBROZPS4esz",
        "colab_type": "text"
      },
      "source": [
        "$f_1$score"
      ]
    },
    {
      "cell_type": "code",
      "metadata": {
        "id": "3_ZeizBC4p_y",
        "colab_type": "code",
        "outputId": "83300684-e613-4f2a-ff3f-7577eff685f4",
        "colab": {
          "base_uri": "https://localhost:8080/"
        }
      },
      "source": [
        "f1_score(cl.y_true, y_pred, pos_label='sad')"
      ],
      "execution_count": 0,
      "outputs": [
        {
          "output_type": "execute_result",
          "data": {
            "text/plain": [
              "0.8571428571428571"
            ]
          },
          "metadata": {
            "tags": []
          },
          "execution_count": 247
        }
      ]
    },
    {
      "cell_type": "code",
      "metadata": {
        "id": "FOTW91kn4rkC",
        "colab_type": "code",
        "outputId": "b1898828-1145-4a5f-9ed8-bc4e402a7b89",
        "colab": {
          "base_uri": "https://localhost:8080/"
        }
      },
      "source": [
        "f1_score(cl.y_true, y_pred, pos_label='dino')"
      ],
      "execution_count": 0,
      "outputs": [
        {
          "output_type": "execute_result",
          "data": {
            "text/plain": [
              "0.888888888888889"
            ]
          },
          "metadata": {
            "tags": []
          },
          "execution_count": 248
        }
      ]
    },
    {
      "cell_type": "markdown",
      "metadata": {
        "id": "vK2EQ1Qc4v4W",
        "colab_type": "text"
      },
      "source": [
        "ROC AUC score"
      ]
    },
    {
      "cell_type": "code",
      "metadata": {
        "id": "0uJEjXML6byQ",
        "colab_type": "code",
        "colab": {}
      },
      "source": [
        "def softmax(scores, inverse=True):\n",
        "  \"\"\"\n",
        "  normilizes class scores, making them correspond to probability, adding up to 1\n",
        "\n",
        "  :param scores: list of int or float, scores\n",
        "  :inverse: bool, if lower scores indicate higher probability,\n",
        "            optional, default True\n",
        "  :return: list of int or float, normilized probability-like scores\n",
        "  \"\"\"\n",
        "  if inverse:\n",
        "    scores = [-1*score for score in scores]\n",
        "  normalizing_constant = np.sum(scores)\n",
        "  normalized_scores = [score/normalizing_constant for score in scores]\n",
        "  return normalized_scores"
      ],
      "execution_count": 0,
      "outputs": []
    },
    {
      "cell_type": "code",
      "metadata": {
        "id": "3eIAnfOA40Vz",
        "colab_type": "code",
        "outputId": "1b38f0dc-8849-4a91-c82e-873eba3a6a8f",
        "colab": {
          "base_uri": "https://localhost:8080/"
        }
      },
      "source": [
        "y_score = cl.only_distances(cl.forward_all(), arr=True)[0]  # get scores from dict\n",
        "y_score = [softmax(scores) for scores in y_score]  # normilize scores\n",
        "y_score"
      ],
      "execution_count": 0,
      "outputs": [
        {
          "output_type": "execute_result",
          "data": {
            "text/plain": [
              "[[0.6607414032255609, 0.3392585967744391],\n",
              " [0.359892885837406, 0.640107114162594],\n",
              " [0.5594982512859819, 0.4405017487140182],\n",
              " [0.7063598638599082, 0.29364013614009177],\n",
              " [0.2154437439403306, 0.7845562560596694],\n",
              " [0.3130386279200781, 0.6869613720799219],\n",
              " [0.3300017473201595, 0.6699982526798405],\n",
              " [0.23837311894746394, 0.7616268810525361]]"
            ]
          },
          "metadata": {
            "tags": []
          },
          "execution_count": 250
        }
      ]
    },
    {
      "cell_type": "code",
      "metadata": {
        "id": "cmc93ELq8JnI",
        "colab_type": "code",
        "outputId": "f0f6e0e8-6346-4e9d-e0d6-3d51c3aea39a",
        "colab": {
          "base_uri": "https://localhost:8080/"
        }
      },
      "source": [
        "cl.y_true"
      ],
      "execution_count": 0,
      "outputs": [
        {
          "output_type": "execute_result",
          "data": {
            "text/plain": [
              "['sad', 'sad', 'sad', 'sad', 'dino', 'dino', 'dino', 'dino']"
            ]
          },
          "metadata": {
            "tags": []
          },
          "execution_count": 251
        }
      ]
    },
    {
      "cell_type": "code",
      "metadata": {
        "id": "BAk2QVHq8C8T",
        "colab_type": "code",
        "outputId": "8dffbdb8-94ac-4c51-b6e0-742fe1967a2c",
        "colab": {
          "base_uri": "https://localhost:8080/"
        }
      },
      "source": [
        "y_true = [[1, 0] if label == 'sad' else [0, 1] for label in cl.y_true]\n",
        "y_true"
      ],
      "execution_count": 0,
      "outputs": [
        {
          "output_type": "execute_result",
          "data": {
            "text/plain": [
              "[[1, 0], [1, 0], [1, 0], [1, 0], [0, 1], [0, 1], [0, 1], [0, 1]]"
            ]
          },
          "metadata": {
            "tags": []
          },
          "execution_count": 252
        }
      ]
    },
    {
      "cell_type": "code",
      "metadata": {
        "id": "DDGAhu674uxy",
        "colab_type": "code",
        "outputId": "96b5d21a-7fc7-4c1e-c9d5-01bd3a538982",
        "colab": {
          "base_uri": "https://localhost:8080/"
        }
      },
      "source": [
        "roc_auc_score(y_true, y_score, multi_class='ovo')"
      ],
      "execution_count": 0,
      "outputs": [
        {
          "output_type": "execute_result",
          "data": {
            "text/plain": [
              "1.0"
            ]
          },
          "metadata": {
            "tags": []
          },
          "execution_count": 253
        }
      ]
    },
    {
      "cell_type": "code",
      "metadata": {
        "id": "cQxVonjX3ttO",
        "colab_type": "code",
        "outputId": "b1c7bc32-5e21-4f99-ee94-401ff5c59a9d",
        "colab": {
          "base_uri": "https://localhost:8080/"
        }
      },
      "source": [
        "roc_auc_score(y_true, y_score, multi_class='ovr')"
      ],
      "execution_count": 0,
      "outputs": [
        {
          "output_type": "execute_result",
          "data": {
            "text/plain": [
              "1.0"
            ]
          },
          "metadata": {
            "tags": []
          },
          "execution_count": 254
        }
      ]
    },
    {
      "cell_type": "markdown",
      "metadata": {
        "id": "vd6Xty1r3GGE",
        "colab_type": "text"
      },
      "source": [
        "### **TODO: Test on real data**"
      ]
    },
    {
      "cell_type": "markdown",
      "metadata": {
        "id": "lRITBXib2Y3O",
        "colab_type": "text"
      },
      "source": [
        "## Comile an ensemble classifier "
      ]
    },
    {
      "cell_type": "markdown",
      "metadata": {
        "id": "G8U0-6Ev22hd",
        "colab_type": "text"
      },
      "source": [
        "Ensamble classifier consists of multiple single calssifiers. They differ in n-gram profile type (characters or words) and profile truncation length. Each combination is present.\n",
        "\n",
        "Options from the article:\n",
        "- size of N-grams (n)\n",
        "    - from 3 to 10 for characters\n",
        "    - from 1 to 3 for words\n",
        "- size of a profile Number of n-grams (L) 200, 500, 1000, 1500, 2000, 2500, 3000. \n",
        "\n",
        "The prediction is either majority voting or weighted votion on the distance sum."
      ]
    },
    {
      "cell_type": "code",
      "metadata": {
        "id": "E2ZPIuNa9s0G",
        "colab_type": "code",
        "colab": {}
      },
      "source": [
        "class EnsambleClassifier():\n",
        "    \"\"\"\n",
        "    classifies texts as belonging to several classes given true classes\n",
        "    by combining several single classifiers\n",
        "\n",
        "    :param profiles_multiple: list of list of collection.Counter, \n",
        "                              n-gram profiles (of each n-gram type)\n",
        "    :param y_true: list of str or int, true classes of each text from profiles\n",
        "    :param p_length_options: itearble of int, options for length of \n",
        "                             truncated profiles\n",
        "    :param classes: list of int or str, possible classes\n",
        "\n",
        "    Attributes:\n",
        "      y_true, p_length_options, profiles_multiple, classes,\n",
        "      classifiers: list of SingleClassifier, each parameter combination\n",
        "    \"\"\"\n",
        "    def __init__(self, profiles_multiple, y_true, p_length_options, classes):\n",
        "        self.y_true = y_true\n",
        "        self.p_length_options = p_length_options  \n",
        "        self.profiles_multiple = profiles_multiple\n",
        "        self.classes = classes\n",
        "        self.classifiers = self.create_ensamble()\n",
        "        \n",
        "    \n",
        "    def create_ensamble(self):\n",
        "      \"\"\"\n",
        "      creates a SingleClassifier for each parameter combination\n",
        "\n",
        "      :return: list of SingleClassifier, each parameter combination\n",
        "      \"\"\"\n",
        "      classifiers = []\n",
        "      for profiles in self.profiles_multiple:\n",
        "        for p_length in self.p_length_options:\n",
        "          classifiers.append(SingleClassifier(profiles, self.y_true, p_length, self.classes))\n",
        "      return classifiers\n",
        "    \n",
        "\n",
        "    @staticmethod\n",
        "    def majority_vote(votes):\n",
        "      \"\"\"\n",
        "      majority voting, \n",
        "        if several classes have equal number of votes \n",
        "        returns the alphabetically first class\n",
        "\n",
        "      :param votes: list of lsits str or int, \n",
        "        predictions of each classifier on each object\n",
        "      :return: list int or str, resulting prediction\n",
        "      \"\"\"\n",
        "      votes = np.array(votes).T\n",
        "      pred = [Counter(vote).most_common(1)[0][0] for vote in votes]\n",
        "      return pred\n",
        "\n",
        "\n",
        "    def confidence_summing(self, classifier_distances):\n",
        "      \"\"\"\n",
        "      confidence voting, distances to classes are summed\n",
        "\n",
        "      :param classifier_distances: list of list of dicts \n",
        "                        {str or int: float or int}, \n",
        "                        confidences of each classifier on each object\n",
        "      :return: list of dict {str or int: float or int}, \n",
        "              resulting confidences on each object\n",
        "      \"\"\"\n",
        "      cummulative_distances = classifier_distances[0]\n",
        "      if len(classifier_distances) == 1:\n",
        "        return cummulative_distances\n",
        "      else:\n",
        "        for classifier in classifier_distances[1:]:\n",
        "          for i, element in enumerate(classifier):\n",
        "            for c in self.classes:\n",
        "              cummulative_distances[i][c] += element[c]\n",
        "        return cummulative_distances\n",
        "\n",
        "\n",
        "    def weighted_vote(self, classifier_distances):\n",
        "      \"\"\"\n",
        "      wheighted voting, \n",
        "        distances to classes are summed for each object, \n",
        "        minimal distance is the final predicted class\n",
        "\n",
        "      :param classifier_distances: list of list of dict {str or int: float or int}, \n",
        "                        confidences of each classifier\n",
        "      :return: list of int or str, resulting prediction on each object\n",
        "      \"\"\"\n",
        "      sum_distances = self.confidence_summing(classifier_distances)\n",
        "      return [min(class_dist, key=class_dist.get) for class_dist in sum_distances]\n",
        "      \n",
        "\n",
        "    def forward_ensamble(self, method='majority', confidence=False):\n",
        "      \"\"\"\n",
        "      predicts classes using the ensemble\n",
        "\n",
        "      :param method: str ('majority' or 'weight'), nethod of voting to use,\n",
        "                     optional, default 'majority'\n",
        "      :param confidence: bool, whether to return proximity score for each class,\n",
        "                         optional, default False\n",
        "      :return: \n",
        "        if confidence == False:\n",
        "          list of int or str, resulting prediction on each object\n",
        "        if confidence == true:\n",
        "          list of tuple (res, dist)\n",
        "          :return res: int or str, resulting prediction\n",
        "          :return dists: dict {str or int: float or int}, proximity to each class\n",
        "      \"\"\"\n",
        "      responses = [classifier.forward_all() for classifier in self.classifiers]\n",
        "      dists = False\n",
        "      if method == 'majority':\n",
        "        votes = [SingleClassifier.only_classes(response) for response in responses]\n",
        "        res = self.majority_vote(votes)\n",
        "      elif method == 'weight':\n",
        "        dists = [SingleClassifier.only_distances(response) for response in responses]\n",
        "        res = self.weighted_vote(dists)\n",
        "      else:\n",
        "        raise KeyError(f'Expected method \"majority\" or \"weight\", got \"{method}\"')\n",
        "      if confidence:\n",
        "        if dists:\n",
        "          return list(zip(res, self.confidence_summing(dists)))\n",
        "        else:\n",
        "          dists = [SingleClassifier.only_distances(response) for response in responses]\n",
        "          return list(zip(res, self.confidence_summing(dists)))\n",
        "      else:\n",
        "        return res"
      ],
      "execution_count": 0,
      "outputs": []
    },
    {
      "cell_type": "markdown",
      "metadata": {
        "id": "7-aVoHzLX6_4",
        "colab_type": "text"
      },
      "source": [
        "### Test the ensemble classifier"
      ]
    },
    {
      "cell_type": "code",
      "metadata": {
        "id": "MDeEOm0OVZvJ",
        "colab_type": "code",
        "colab": {}
      },
      "source": [
        "classes = ['sad', 'dino']"
      ],
      "execution_count": 0,
      "outputs": []
    },
    {
      "cell_type": "markdown",
      "metadata": {
        "id": "bsf5AxBhcozX",
        "colab_type": "text"
      },
      "source": [
        "#### single classifiers"
      ]
    },
    {
      "cell_type": "code",
      "metadata": {
        "id": "lYsweTxYAu-h",
        "colab_type": "code",
        "outputId": "5f35b028-54d6-4130-a9a7-708d8a0604b9",
        "colab": {
          "base_uri": "https://localhost:8080/",
          "height": 151
        }
      },
      "source": [
        "ec = EnsambleClassifier([profs], ys, range(1, 8), classes=classes)\n",
        "classifiers = ec.classifiers\n",
        "classifiers[0].forward_all()"
      ],
      "execution_count": 0,
      "outputs": [
        {
          "output_type": "execute_result",
          "data": {
            "text/plain": [
              "[('dino', {'dino': 0.7638888888888888, 'sad': 49.99999999999999}),\n",
              " ('sad', {'dino': 1.0, 'sad': 0.51}),\n",
              " ('sad', {'dino': 1.0, 'sad': 0.51}),\n",
              " ('sad', {'dino': 1.0, 'sad': 0.3466666666666667}),\n",
              " ('sad', {'dino': 1.0, 'sad': 1.0}),\n",
              " ('sad', {'dino': 1.0, 'sad': 1.0}),\n",
              " ('sad', {'dino': 1.0, 'sad': 0.7638888888888888}),\n",
              " ('sad', {'dino': 1.0, 'sad': 1.0})]"
            ]
          },
          "metadata": {
            "tags": []
          },
          "execution_count": 284
        }
      ]
    },
    {
      "cell_type": "markdown",
      "metadata": {
        "id": "zFxVf8QSctIv",
        "colab_type": "text"
      },
      "source": [
        "#### majority voting"
      ]
    },
    {
      "cell_type": "code",
      "metadata": {
        "id": "QkBBK-9LUC-6",
        "colab_type": "code",
        "outputId": "fa6f9b8a-44af-4fcc-8b04-ba9bb392a2c6",
        "colab": {
          "base_uri": "https://localhost:8080/",
          "height": 134
        }
      },
      "source": [
        "classifier_votes = [classifier.only_classes(classifier.forward_all()) for classifier in classifiers]\n",
        "classifier_votes"
      ],
      "execution_count": 0,
      "outputs": [
        {
          "output_type": "execute_result",
          "data": {
            "text/plain": [
              "[['dino', 'sad', 'sad', 'sad', 'sad', 'sad', 'sad', 'sad'],\n",
              " ['dino', 'sad', 'sad', 'sad', 'dino', 'dino', 'sad', 'dino'],\n",
              " ['sad', 'dino', 'sad', 'sad', 'dino', 'dino', 'dino', 'dino'],\n",
              " ['sad', 'dino', 'sad', 'sad', 'dino', 'dino', 'dino', 'dino'],\n",
              " ['sad', 'dino', 'sad', 'sad', 'dino', 'dino', 'dino', 'dino'],\n",
              " ['sad', 'dino', 'sad', 'sad', 'dino', 'dino', 'dino', 'dino'],\n",
              " ['sad', 'dino', 'sad', 'sad', 'dino', 'dino', 'dino', 'dino']]"
            ]
          },
          "metadata": {
            "tags": []
          },
          "execution_count": 258
        }
      ]
    },
    {
      "cell_type": "code",
      "metadata": {
        "id": "RR17WdAOUABz",
        "colab_type": "code",
        "outputId": "12abc16c-56f4-4ba6-f0f0-74d4d57cc833",
        "colab": {
          "base_uri": "https://localhost:8080/",
          "height": 34
        }
      },
      "source": [
        "ec.majority_vote(classifier_votes)"
      ],
      "execution_count": 0,
      "outputs": [
        {
          "output_type": "execute_result",
          "data": {
            "text/plain": [
              "['sad', 'dino', 'sad', 'sad', 'dino', 'dino', 'dino', 'dino']"
            ]
          },
          "metadata": {
            "tags": []
          },
          "execution_count": 259
        }
      ]
    },
    {
      "cell_type": "code",
      "metadata": {
        "id": "9tue8pUdcbze",
        "colab_type": "code",
        "outputId": "96077eed-f9c7-46d6-a9ea-ce2890337dc8",
        "colab": {
          "base_uri": "https://localhost:8080/",
          "height": 34
        }
      },
      "source": [
        "ec.forward_ensamble(method='majority')"
      ],
      "execution_count": 0,
      "outputs": [
        {
          "output_type": "execute_result",
          "data": {
            "text/plain": [
              "['sad', 'dino', 'sad', 'sad', 'dino', 'dino', 'dino', 'dino']"
            ]
          },
          "metadata": {
            "tags": []
          },
          "execution_count": 285
        }
      ]
    },
    {
      "cell_type": "code",
      "metadata": {
        "id": "uOsKlBNkcdvS",
        "colab_type": "code",
        "outputId": "4083cd65-a09b-42db-86bc-5c7eee20c8bd",
        "colab": {
          "base_uri": "https://localhost:8080/",
          "height": 34
        }
      },
      "source": [
        "ec.forward_ensamble()"
      ],
      "execution_count": 0,
      "outputs": [
        {
          "output_type": "execute_result",
          "data": {
            "text/plain": [
              "['sad', 'dino', 'sad', 'sad', 'dino', 'dino', 'dino', 'dino']"
            ]
          },
          "metadata": {
            "tags": []
          },
          "execution_count": 286
        }
      ]
    },
    {
      "cell_type": "code",
      "metadata": {
        "id": "RkENzas8fLfC",
        "colab_type": "code",
        "outputId": "62e848ad-2eac-4f5f-abca-c3a4a958af2f",
        "colab": {
          "base_uri": "https://localhost:8080/",
          "height": 151
        }
      },
      "source": [
        "ec.forward_ensamble(confidence=True)"
      ],
      "execution_count": 0,
      "outputs": [
        {
          "output_type": "execute_result",
          "data": {
            "text/plain": [
              "[('sad', {'dino': 6.483633958633959, 'sad': 54.48789890641409}),\n",
              " ('dino', {'dino': 7.255681818181818, 'sad': 18.470386037161486}),\n",
              " ('sad', {'dino': 6.470806277056277, 'sad': 4.732971734846115}),\n",
              " ('sad', {'dino': 6.9304653679653665, 'sad': 3.404503882927594}),\n",
              " ('dino', {'dino': 5.35465367965368, 'sad': 12.833764900333788}),\n",
              " ('dino', {'dino': 7.255952380952381, 'sad': 15.423582878916044}),\n",
              " ('dino', {'dino': 7.738816738816738, 'sad': 12.422209304651492}),\n",
              " ('dino', {'dino': 5.110137085137086, 'sad': 11.432901379745811})]"
            ]
          },
          "metadata": {
            "tags": []
          },
          "execution_count": 287
        }
      ]
    },
    {
      "cell_type": "markdown",
      "metadata": {
        "id": "gqg890qFcwPl",
        "colab_type": "text"
      },
      "source": [
        "#### weighted voting"
      ]
    },
    {
      "cell_type": "code",
      "metadata": {
        "id": "lfJ1u-TjCMw7",
        "colab_type": "code",
        "colab": {}
      },
      "source": [
        "classifier_dists = [classifier.only_distances(classifier.forward_all()) for classifier in classifiers]"
      ],
      "execution_count": 0,
      "outputs": []
    },
    {
      "cell_type": "code",
      "metadata": {
        "id": "G6JUbbsoTm9R",
        "colab_type": "code",
        "outputId": "c33cf732-eb4c-47cd-d091-2db51e68ce72",
        "colab": {
          "base_uri": "https://localhost:8080/",
          "height": 151
        }
      },
      "source": [
        "ec.confidence_summing(classifier_dists)"
      ],
      "execution_count": 0,
      "outputs": [
        {
          "output_type": "execute_result",
          "data": {
            "text/plain": [
              "[{'dino': 6.483633958633959, 'sad': 54.48789890641409},\n",
              " {'dino': 7.255681818181818, 'sad': 18.470386037161486},\n",
              " {'dino': 6.470806277056277, 'sad': 4.732971734846115},\n",
              " {'dino': 6.9304653679653665, 'sad': 3.404503882927594},\n",
              " {'dino': 5.35465367965368, 'sad': 12.833764900333788},\n",
              " {'dino': 7.255952380952381, 'sad': 15.423582878916044},\n",
              " {'dino': 7.738816738816738, 'sad': 12.422209304651492},\n",
              " {'dino': 5.110137085137086, 'sad': 11.432901379745811}]"
            ]
          },
          "metadata": {
            "tags": []
          },
          "execution_count": 290
        }
      ]
    },
    {
      "cell_type": "code",
      "metadata": {
        "id": "Wt4jIWJwTcWf",
        "colab_type": "code",
        "outputId": "e7866cd7-e04f-437f-b432-a4b108198a76",
        "colab": {
          "base_uri": "https://localhost:8080/",
          "height": 34
        }
      },
      "source": [
        "ec.weighted_vote(classifier_dists)"
      ],
      "execution_count": 0,
      "outputs": [
        {
          "output_type": "execute_result",
          "data": {
            "text/plain": [
              "['dino', 'dino', 'sad', 'sad', 'dino', 'dino', 'dino', 'dino']"
            ]
          },
          "metadata": {
            "tags": []
          },
          "execution_count": 291
        }
      ]
    },
    {
      "cell_type": "code",
      "metadata": {
        "id": "f6ccngXfYE7h",
        "colab_type": "code",
        "outputId": "8d5a519d-4f76-4da1-dce6-8bb3e10a8ad4",
        "colab": {
          "base_uri": "https://localhost:8080/",
          "height": 34
        }
      },
      "source": [
        "ec.forward_ensamble(method='weight')"
      ],
      "execution_count": 0,
      "outputs": [
        {
          "output_type": "execute_result",
          "data": {
            "text/plain": [
              "['dino', 'dino', 'sad', 'sad', 'dino', 'dino', 'dino', 'dino']"
            ]
          },
          "metadata": {
            "tags": []
          },
          "execution_count": 292
        }
      ]
    },
    {
      "cell_type": "code",
      "metadata": {
        "id": "h7MIgo3Cefyk",
        "colab_type": "code",
        "outputId": "e24a84f7-7648-4ce4-baa3-abcb79ca565e",
        "colab": {
          "base_uri": "https://localhost:8080/",
          "height": 151
        }
      },
      "source": [
        "ec.forward_ensamble(method='weight', confidence=True)"
      ],
      "execution_count": 0,
      "outputs": [
        {
          "output_type": "execute_result",
          "data": {
            "text/plain": [
              "[('dino', {'dino': 12.203379028379027, 'sad': 58.97579781282818}),\n",
              " ('dino', {'dino': 13.511363636363637, 'sad': 36.43077207432297}),\n",
              " ('sad', {'dino': 11.941612554112554, 'sad': 8.95594346969223}),\n",
              " ('sad', {'dino': 12.860930735930733, 'sad': 6.462341099188523}),\n",
              " ('dino', {'dino': 9.70930735930736, 'sad': 24.667529800667577}),\n",
              " ('dino', {'dino': 13.511904761904763, 'sad': 29.847165757832084}),\n",
              " ('dino', {'dino': 14.477633477633475, 'sad': 24.080529720414095}),\n",
              " ('dino', {'dino': 9.220274170274172, 'sad': 21.865802759491622})]"
            ]
          },
          "metadata": {
            "tags": []
          },
          "execution_count": 293
        }
      ]
    },
    {
      "cell_type": "markdown",
      "metadata": {
        "id": "HSXhaAS5c12y",
        "colab_type": "text"
      },
      "source": [
        "#### incorrect method"
      ]
    },
    {
      "cell_type": "code",
      "metadata": {
        "id": "ZooGzfvEcfy3",
        "colab_type": "code",
        "outputId": "18b2ba6e-61d5-4c29-af9c-71c86d5074c4",
        "colab": {
          "base_uri": "https://localhost:8080/",
          "height": 279
        }
      },
      "source": [
        "ec.forward_ensamble(method='aaa')"
      ],
      "execution_count": 0,
      "outputs": [
        {
          "output_type": "error",
          "ename": "KeyError",
          "evalue": "ignored",
          "traceback": [
            "\u001b[0;31m---------------------------------------------------------------------------\u001b[0m",
            "\u001b[0;31mKeyError\u001b[0m                                  Traceback (most recent call last)",
            "\u001b[0;32m<ipython-input-294-8ee2ae1f5b06>\u001b[0m in \u001b[0;36m<module>\u001b[0;34m()\u001b[0m\n\u001b[0;32m----> 1\u001b[0;31m \u001b[0mec\u001b[0m\u001b[0;34m.\u001b[0m\u001b[0mforward_ensamble\u001b[0m\u001b[0;34m(\u001b[0m\u001b[0mmethod\u001b[0m\u001b[0;34m=\u001b[0m\u001b[0;34m'aaa'\u001b[0m\u001b[0;34m)\u001b[0m\u001b[0;34m\u001b[0m\u001b[0;34m\u001b[0m\u001b[0m\n\u001b[0m",
            "\u001b[0;32m<ipython-input-283-578c5741b5ae>\u001b[0m in \u001b[0;36mforward_ensamble\u001b[0;34m(self, method, confidence)\u001b[0m\n\u001b[1;32m    108\u001b[0m         \u001b[0mres\u001b[0m \u001b[0;34m=\u001b[0m \u001b[0mself\u001b[0m\u001b[0;34m.\u001b[0m\u001b[0mweighted_vote\u001b[0m\u001b[0;34m(\u001b[0m\u001b[0mdists\u001b[0m\u001b[0;34m)\u001b[0m\u001b[0;34m\u001b[0m\u001b[0;34m\u001b[0m\u001b[0m\n\u001b[1;32m    109\u001b[0m       \u001b[0;32melse\u001b[0m\u001b[0;34m:\u001b[0m\u001b[0;34m\u001b[0m\u001b[0;34m\u001b[0m\u001b[0m\n\u001b[0;32m--> 110\u001b[0;31m         \u001b[0;32mraise\u001b[0m \u001b[0mKeyError\u001b[0m\u001b[0;34m(\u001b[0m\u001b[0;34mf'Expected method \"majority\" or \"weight\", got \"{method}\"'\u001b[0m\u001b[0;34m)\u001b[0m\u001b[0;34m\u001b[0m\u001b[0;34m\u001b[0m\u001b[0m\n\u001b[0m\u001b[1;32m    111\u001b[0m       \u001b[0;32mif\u001b[0m \u001b[0mconfidence\u001b[0m\u001b[0;34m:\u001b[0m\u001b[0;34m\u001b[0m\u001b[0;34m\u001b[0m\u001b[0m\n\u001b[1;32m    112\u001b[0m         \u001b[0;32mif\u001b[0m \u001b[0mdists\u001b[0m\u001b[0;34m:\u001b[0m\u001b[0;34m\u001b[0m\u001b[0;34m\u001b[0m\u001b[0m\n",
            "\u001b[0;31mKeyError\u001b[0m: 'Expected method \"majority\" or \"weight\", got \"aaa\"'"
          ]
        }
      ]
    }
  ]
}